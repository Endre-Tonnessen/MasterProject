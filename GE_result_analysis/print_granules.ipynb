{
 "cells": [
  {
   "cell_type": "markdown",
   "metadata": {},
   "source": [
    "# Creates granule images based on .csv, .ims file and fourier.h5 file "
   ]
  },
  {
   "cell_type": "code",
   "execution_count": 1,
   "metadata": {},
   "outputs": [],
   "source": [
    "import h5py\n",
    "import pandas as pd\n",
    "import os\n",
    "from shapely.geometry import Polygon\n",
    "from helper_functions import get_coords\n",
    "import plotly.express as px\n",
    "import plotly.graph_objects as go\n",
    "import numpy as np\n",
    "from IPython.display import Image\n",
    "import matplotlib.pyplot as plt\n",
    "from matplotlib.ticker import MaxNLocator, AutoLocator\n",
    "import matplotlib.colors as mcol\n",
    "font = {'family' : 'serif',\n",
    "         'size'   : 26,\n",
    "         'serif':  'cmr10'\n",
    "         }\n",
    "plt.rc('font', **font)\n",
    "plt.rc('axes', unicode_minus=False)\n",
    "plt.rcParams.update({'font.size': 26})\n",
    "pd.options.mode.chained_assignment = None\n",
    "\n",
    "import pathlib\n",
    "temp = pathlib.PosixPath\n",
    "pathlib.PosixPath = pathlib.WindowsPath"
   ]
  },
  {
   "cell_type": "code",
   "execution_count": 10,
   "metadata": {},
   "outputs": [],
   "source": [
    "# .csv | Base file name for .ims and .h5, Frame ID, Granule ID, create plots based on these with Model prediction  \n",
    "\n",
    "def read_csv(base_filename):\n",
    "    \"Reads in csv with what granules to plot, their origin file, frame id, granule id.\"\n",
    "    base_csv = pd.read_csv(base_filename, index_col=0)\n",
    "    return base_csv.reset_index(drop=True)\n",
    "    # comp_df['file'] = pathlib.Path(full_path).stem \n",
    "\n"
   ]
  },
  {
   "cell_type": "code",
   "execution_count": 12,
   "metadata": {},
   "outputs": [],
   "source": [
    "csv = read_csv(\"D:\\Master\\MasterProject\\GE_result_analysis/test.csv\")\n",
    "\n"
   ]
  }
 ],
 "metadata": {
  "kernelspec": {
   "display_name": "granule_explorer",
   "language": "python",
   "name": "python3"
  },
  "language_info": {
   "codemirror_mode": {
    "name": "ipython",
    "version": 3
   },
   "file_extension": ".py",
   "mimetype": "text/x-python",
   "name": "python",
   "nbconvert_exporter": "python",
   "pygments_lexer": "ipython3",
   "version": "3.10.13"
  }
 },
 "nbformat": 4,
 "nbformat_minor": 2
}
