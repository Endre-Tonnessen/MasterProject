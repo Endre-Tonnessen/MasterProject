{
 "cells": [
  {
   "cell_type": "code",
   "execution_count": 24,
   "metadata": {},
   "outputs": [],
   "source": [
    "import h5py\n",
    "import pandas as pd\n",
    "filename = \"aggregate_fittings_ml.h5\""
   ]
  },
  {
   "cell_type": "code",
   "execution_count": 25,
   "metadata": {},
   "outputs": [
    {
     "name": "stdout",
     "output_type": "stream",
     "text": [
      "Keys: <KeysViewHDF5 ['aggregate_data', 'file', 'fourier_terms']>\n",
      "<class 'h5py._hl.group.Group'>\n"
     ]
    }
   ],
   "source": [
    "with h5py.File(filename, \"r\") as f:\n",
    "    # Print all root level object names (aka keys) \n",
    "    # these can be group or dataset names \n",
    "    print(\"Keys: %s\" % f.keys())\n",
    "    # get first object name/key; may or may NOT be a group \n",
    "    a_group_key = list(f.keys())[0]\n",
    "\n",
    "    # get the object type for a_group_key: usually group or dataset\n",
    "    print(type(f[a_group_key])) \n",
    "\n",
    "    # # If a_group_key is a group name, \n",
    "    # # this gets the object names in the group and returns as a list\n",
    "    # data = list(f[a_group_key])\n",
    "\n",
    "    # # If a_group_key is a dataset name, \n",
    "    # # this gets the dataset values and returns as a list\n",
    "    # data = list(f[a_group_key])\n",
    "    # # preferred methods to get dataset values:\n",
    "    # ds_obj = f[a_group_key]      # returns as a h5py dataset object\n",
    "    # ds_arr = f[a_group_key][()]  # returns as a numpy array\n"
   ]
  },
  {
   "cell_type": "code",
   "execution_count": 4,
   "metadata": {},
   "outputs": [],
   "source": [
    "# aggregate_fittings['experiment'] = \"ML_03_03_2024\"\n",
    "# aggregate_fittings.to_hdf(\"D:\\Master\\Granule-Explorer-Visualization-Tool\\data\\\\aggregate_fittings_ml_renamed.h5\", key=\"aggregate_data\", mode=\"w\")"
   ]
  }
 ],
 "metadata": {
  "kernelspec": {
   "display_name": "granule_explorer",
   "language": "python",
   "name": "python3"
  },
  "language_info": {
   "codemirror_mode": {
    "name": "ipython",
    "version": 3
   },
   "file_extension": ".py",
   "mimetype": "text/x-python",
   "name": "python",
   "nbconvert_exporter": "python",
   "pygments_lexer": "ipython3",
   "version": "3.10.13"
  }
 },
 "nbformat": 4,
 "nbformat_minor": 2
}
