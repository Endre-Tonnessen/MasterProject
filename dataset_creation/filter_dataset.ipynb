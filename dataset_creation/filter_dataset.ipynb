{
 "cells": [
  {
   "cell_type": "markdown",
   "metadata": {},
   "source": [
    "# Filter datasets to ensure they are inline with eachother"
   ]
  },
  {
   "cell_type": "code",
   "execution_count": 2,
   "metadata": {},
   "outputs": [],
   "source": [
    "from pathlib import Path\n",
    "import os\n",
    "import shutil\n",
    "from sklearn.model_selection import train_test_split\n",
    "import numpy as np"
   ]
  },
  {
   "cell_type": "markdown",
   "metadata": {},
   "source": [
    "### Identify images without a label"
   ]
  },
  {
   "cell_type": "code",
   "execution_count": 3,
   "metadata": {},
   "outputs": [],
   "source": [
    "project_dir = \"D:/Master/MasterProject/dataset_creation/datasets/cutout_with_padding/all_data\"\n",
    "\n",
    "image_files =  [file[:-4] for file in os.listdir(f\"{project_dir}/images\")]\n",
    "label_YOLOv8 = [file[:-4] for file in os.listdir(f\"{project_dir}/labels_YOLOv8\")]\n",
    "label_image =  [file[:-4] for file in os.listdir(f\"{project_dir}/labels_as_images\")]\n"
   ]
  },
  {
   "cell_type": "code",
   "execution_count": 4,
   "metadata": {},
   "outputs": [
    {
     "name": "stdout",
     "output_type": "stream",
     "text": [
      "2020-02-05_14.18.49--NAs--T1354-GFP_Burst_Frame_0_Granule_10\n",
      "Images       596833\n",
      "Label_YOLOv8 596833\n",
      "Label_image  595553\n"
     ]
    }
   ],
   "source": [
    "print(image_files[0])\n",
    "print(\"Images      \", len(image_files))\n",
    "print(\"Label_YOLOv8\", len(label_YOLOv8))\n",
    "print(\"Label_image \", len(label_image))"
   ]
  },
  {
   "cell_type": "code",
   "execution_count": 5,
   "metadata": {},
   "outputs": [],
   "source": [
    "# count = 0\n",
    "# for im in image_files: # For every image\n",
    "#     if (im in label_YOLOv8) and (im in label_image): # If image has both yolo label and image label\n",
    "#         # Put valid image and labels into new folders\n",
    "#         shutil.copy(f\"D:/Master/MasterProject/dataset_creation/datasets/cutout_with_padding/all_data/images/{im}.png\", f\"D:/Master/MasterProject/dataset_creation/datasets/cutout_with_padding/all_data/FINAL_DATASET/images/{im}.png\")\n",
    "#         shutil.copy(f\"D:/Master/MasterProject/dataset_creation/datasets/cutout_with_padding/all_data/labels_as_images/{im}.png\", f\"D:/Master/MasterProject/dataset_creation/datasets/cutout_with_padding/all_data/FINAL_DATASET/labels_as_images/{im}.png\")\n",
    "#         shutil.copy(f\"D:/Master/MasterProject/dataset_creation/datasets/cutout_with_padding/all_data/labels_YOLOv8/{im}.txt\", f\"D:/Master/MasterProject/dataset_creation/datasets/cutout_with_padding/all_data/FINAL_DATASET/labels_YOLOv8/{im}.txt\")\n",
    "#         count += 1\n",
    "# print(f\"Final dataset size is:\", count)"
   ]
  },
  {
   "cell_type": "markdown",
   "metadata": {},
   "source": [
    "# Create train, val, test datasets of given size"
   ]
  },
  {
   "cell_type": "code",
   "execution_count": 6,
   "metadata": {},
   "outputs": [
    {
     "name": "stdout",
     "output_type": "stream",
     "text": [
      "--- Dataset sizes ---\n",
      "700\n",
      "700\n",
      "150\n",
      "150\n",
      "150\n",
      "150\n"
     ]
    }
   ],
   "source": [
    "compiled_datasets_name = \"compiled_datasets_16bit_tiny\"\n",
    "\n",
    "project_dir_FINAL = f\"D:/Master/MasterProject/dataset_creation/datasets/FINAL_DATASET_cutout_with_padding\"\n",
    "project_output_dir_FINAL = f\"D:/Master/MasterProject/dataset_creation/datasets/FINAL_DATASET_cutout_with_padding/{compiled_datasets_name}\"\n",
    "\n",
    "# image_files_FINAL  = [file[:-4] for file in os.listdir(f\"{project_dir_FINAL}/images\")]\n",
    "img_directory = \"images_grayscale_16bit\" # \"images\"\n",
    "image_files_FINAL  = [file[:-4] for file in os.listdir(f\"{project_dir_FINAL}/{img_directory}\")]\n",
    "label_YOLOv8_FINAL = [file[:-4] for file in os.listdir(f\"{project_dir_FINAL}/labels_YOLOv8\")]\n",
    "label_image_FINAL  = [file[:-4] for file in os.listdir(f\"{project_dir_FINAL}/labels_as_images\")]\n",
    "\n",
    "TOTAL_SIZE = 1000\n",
    "subset_dataset = []\n",
    "for i in np.random.choice(image_files_FINAL, TOTAL_SIZE, replace=False):\n",
    "    subset_dataset.append(i)\n",
    "\n",
    "x_train, x_test, y_train, y_test = train_test_split(subset_dataset, subset_dataset, test_size=0.3, random_state=1)\n",
    "x_test, x_val, y_test, y_val = train_test_split(x_test, y_test, test_size=0.5, random_state=1) # 0.25 x 0.8 = 0.2\n",
    "print(\"--- Dataset sizes ---\")\n",
    "print(len(x_train))\n",
    "print(len(y_train))\n",
    "print(len(x_val))\n",
    "print(len(y_val))\n",
    "print(len(x_test))\n",
    "print(len(y_test))\n",
    "\n",
    "for im in x_train:\n",
    "    shutil.copy(f\"{project_dir_FINAL}/{img_directory}/{im}.png\",           f\"{project_output_dir_FINAL}/train/images/{im}.png\")\n",
    "    shutil.copy(f\"{project_dir_FINAL}/labels_as_images/{im}.png\", f\"{project_output_dir_FINAL}/train/labels/{im}.png\")\n",
    "\n",
    "for im in x_val: \n",
    "    shutil.copy(f\"{project_dir_FINAL}/{img_directory}/{im}.png\",           f\"{project_output_dir_FINAL}/val/images/{im}.png\")\n",
    "    shutil.copy(f\"{project_dir_FINAL}/labels_as_images/{im}.png\", f\"{project_output_dir_FINAL}/val/labels/{im}.png\")\n",
    "\n",
    "for im in x_test: \n",
    "    shutil.copy(f\"{project_dir_FINAL}/{img_directory}/{im}.png\",           f\"{project_output_dir_FINAL}/test/images/{im}.png\")\n",
    "    shutil.copy(f\"{project_dir_FINAL}/labels_as_images/{im}.png\", f\"{project_output_dir_FINAL}/test/labels/{im}.png\")\n"
   ]
  }
 ],
 "metadata": {
  "kernelspec": {
   "display_name": "detectron2",
   "language": "python",
   "name": "python3"
  },
  "language_info": {
   "codemirror_mode": {
    "name": "ipython",
    "version": 3
   },
   "file_extension": ".py",
   "mimetype": "text/x-python",
   "name": "python",
   "nbconvert_exporter": "python",
   "pygments_lexer": "ipython3",
   "version": "3.10.13"
  }
 },
 "nbformat": 4,
 "nbformat_minor": 2
}
