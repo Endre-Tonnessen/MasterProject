{
 "cells": [
  {
   "cell_type": "markdown",
   "metadata": {},
   "source": [
    "# Analysis of mass training of models"
   ]
  },
  {
   "cell_type": "markdown",
   "metadata": {},
   "source": [
    "### Combine all results into one dataframe"
   ]
  },
  {
   "cell_type": "code",
   "execution_count": 51,
   "metadata": {},
   "outputs": [],
   "source": [
    "import os\n",
    "import pandas as pd\n",
    "import plotly.graph_objects as go\n",
    "import numpy as np"
   ]
  },
  {
   "cell_type": "code",
   "execution_count": 52,
   "metadata": {},
   "outputs": [
    {
     "data": {
      "text/plain": [
       "['DeepLabV3Plus__mobilenet_v2__DiceLoss__Freeze_encoder_False',\n",
       " 'DeepLabV3Plus__mobilenet_v2__DiceLoss__Freeze_encoder_True',\n",
       " 'DeepLabV3Plus__mobilenet_v2__JaccardLoss__Freeze_encoder_False',\n",
       " 'DeepLabV3Plus__mobilenet_v2__JaccardLoss__Freeze_encoder_True',\n",
       " 'DeepLabV3Plus__resnet101__DiceLoss__Freeze_encoder_False',\n",
       " 'DeepLabV3Plus__resnet101__DiceLoss__Freeze_encoder_True',\n",
       " 'DeepLabV3Plus__resnet101__JaccardLoss__Freeze_encoder_False',\n",
       " 'DeepLabV3Plus__resnet101__JaccardLoss__Freeze_encoder_True',\n",
       " 'FPN__mobilenet_v2__DiceLoss__Freeze_encoder_False',\n",
       " 'FPN__mobilenet_v2__DiceLoss__Freeze_encoder_True',\n",
       " 'FPN__mobilenet_v2__JaccardLoss__Freeze_encoder_False',\n",
       " 'FPN__mobilenet_v2__JaccardLoss__Freeze_encoder_True',\n",
       " 'FPN__resnet101__DiceLoss__Freeze_encoder_False',\n",
       " 'FPN__resnet101__DiceLoss__Freeze_encoder_True',\n",
       " 'FPN__resnet101__JaccardLoss__Freeze_encoder_False',\n",
       " 'FPN__resnet101__JaccardLoss__Freeze_encoder_True',\n",
       " 'Linknet__mobilenet_v2__DiceLoss__Freeze_encoder_False',\n",
       " 'Linknet__mobilenet_v2__DiceLoss__Freeze_encoder_True',\n",
       " 'Linknet__mobilenet_v2__JaccardLoss__Freeze_encoder_False',\n",
       " 'Linknet__mobilenet_v2__JaccardLoss__Freeze_encoder_True',\n",
       " 'Linknet__resnet101__DiceLoss__Freeze_encoder_False',\n",
       " 'Linknet__resnet101__DiceLoss__Freeze_encoder_True',\n",
       " 'Linknet__resnet101__JaccardLoss__Freeze_encoder_False',\n",
       " 'Linknet__resnet101__JaccardLoss__Freeze_encoder_True',\n",
       " 'MAnet__mobilenet_v2__DiceLoss__Freeze_encoder_False',\n",
       " 'MAnet__mobilenet_v2__DiceLoss__Freeze_encoder_True',\n",
       " 'MAnet__mobilenet_v2__JaccardLoss__Freeze_encoder_False',\n",
       " 'MAnet__mobilenet_v2__JaccardLoss__Freeze_encoder_True',\n",
       " 'MAnet__resnet101__DiceLoss__Freeze_encoder_False',\n",
       " 'MAnet__resnet101__DiceLoss__Freeze_encoder_True',\n",
       " 'MAnet__resnet101__JaccardLoss__Freeze_encoder_False',\n",
       " 'MAnet__resnet101__JaccardLoss__Freeze_encoder_True',\n",
       " 'PAN__mobilenet_v2__DiceLoss__Freeze_encoder_False',\n",
       " 'PAN__mobilenet_v2__DiceLoss__Freeze_encoder_True',\n",
       " 'PAN__mobilenet_v2__JaccardLoss__Freeze_encoder_False',\n",
       " 'PAN__mobilenet_v2__JaccardLoss__Freeze_encoder_True',\n",
       " 'PAN__resnet101__DiceLoss__Freeze_encoder_False',\n",
       " 'PAN__resnet101__DiceLoss__Freeze_encoder_True',\n",
       " 'PAN__resnet101__JaccardLoss__Freeze_encoder_False',\n",
       " 'PAN__resnet101__JaccardLoss__Freeze_encoder_True',\n",
       " 'PSPNet__mobilenet_v2__DiceLoss__Freeze_encoder_False',\n",
       " 'PSPNet__mobilenet_v2__DiceLoss__Freeze_encoder_True',\n",
       " 'PSPNet__mobilenet_v2__JaccardLoss__Freeze_encoder_False',\n",
       " 'PSPNet__mobilenet_v2__JaccardLoss__Freeze_encoder_True',\n",
       " 'PSPNet__resnet101__DiceLoss__Freeze_encoder_False',\n",
       " 'PSPNet__resnet101__DiceLoss__Freeze_encoder_True',\n",
       " 'PSPNet__resnet101__JaccardLoss__Freeze_encoder_False',\n",
       " 'PSPNet__resnet101__JaccardLoss__Freeze_encoder_True',\n",
       " 'Unet__mobilenet_v2__DiceLoss__Freeze_encoder_False',\n",
       " 'Unet__mobilenet_v2__DiceLoss__Freeze_encoder_True',\n",
       " 'Unet__mobilenet_v2__JaccardLoss__Freeze_encoder_False',\n",
       " 'Unet__mobilenet_v2__JaccardLoss__Freeze_encoder_True',\n",
       " 'Unet__resnet101__DiceLoss__Freeze_encoder_False',\n",
       " 'Unet__resnet101__DiceLoss__Freeze_encoder_True',\n",
       " 'Unet__resnet101__JaccardLoss__Freeze_encoder_False',\n",
       " 'Unet__resnet101__JaccardLoss__Freeze_encoder_True']"
      ]
     },
     "execution_count": 52,
     "metadata": {},
     "output_type": "execute_result"
    }
   ],
   "source": [
    "training_results = \"./TRAINING_RESULTS\"\n",
    "\n",
    "image_files_FINAL  = [file[12:-4] for file in os.listdir(f\"{training_results}\")]\n",
    "image_files_FINAL"
   ]
  },
  {
   "cell_type": "markdown",
   "metadata": {},
   "source": [
    "# Combine into one dataframe"
   ]
  },
  {
   "cell_type": "code",
   "execution_count": 53,
   "metadata": {},
   "outputs": [],
   "source": [
    "big_df: pd.DataFrame = None\n",
    "\n",
    "for f in image_files_FINAL:\n",
    "    architecture, encoder, loss, encoder_freeze = f.split('__')\n",
    "    df = pd.read_csv(f\"./TRAINING_RESULTS/best_model__{architecture}__{encoder}__{loss}__{encoder_freeze}.csv\", index_col=0)\n",
    "    df['architecture'] = architecture\n",
    "    df['encoder'] = encoder\n",
    "    df['loss_func'] = loss\n",
    "    if type(big_df) == 'NoneType':\n",
    "        big_df = df\n",
    "    else:\n",
    "        big_df = pd.concat((big_df, df))\n",
    "\n",
    "big_df['memory_used'] /= (1024*1024)"
   ]
  },
  {
   "cell_type": "code",
   "execution_count": 54,
   "metadata": {},
   "outputs": [
    {
     "name": "stdout",
     "output_type": "stream",
     "text": [
      "train_iou_score         0.926577\n",
      "train_accuracy          0.978418\n",
      "train_fscore            0.961751\n",
      "train_loss              0.057631\n",
      "val_iou_score           0.925391\n",
      "val_accuracy            0.978577\n",
      "val_fscore              0.960956\n",
      "val_loss                0.054327\n",
      "parameters               4378513\n",
      "memory_used               5354.0\n",
      "freeze_encoder             False\n",
      "architecture       DeepLabV3Plus\n",
      "encoder             mobilenet_v2\n",
      "loss_func               DiceLoss\n",
      "Name: 5, dtype: object\n"
     ]
    }
   ],
   "source": [
    "l = big_df.groupby(['architecture', 'encoder', 'loss_func', 'freeze_encoder'])\n",
    "for g in l:\n",
    "    print(g[1].iloc[g[1]['val_iou_score'].idxmax()])\n",
    "    break"
   ]
  },
  {
   "cell_type": "code",
   "execution_count": 55,
   "metadata": {},
   "outputs": [
    {
     "data": {
      "text/html": [
       "<div>\n",
       "<style scoped>\n",
       "    .dataframe tbody tr th:only-of-type {\n",
       "        vertical-align: middle;\n",
       "    }\n",
       "\n",
       "    .dataframe tbody tr th {\n",
       "        vertical-align: top;\n",
       "    }\n",
       "\n",
       "    .dataframe thead th {\n",
       "        text-align: right;\n",
       "    }\n",
       "</style>\n",
       "<table border=\"1\" class=\"dataframe\">\n",
       "  <thead>\n",
       "    <tr style=\"text-align: right;\">\n",
       "      <th></th>\n",
       "      <th>train_iou_score</th>\n",
       "      <th>train_accuracy</th>\n",
       "      <th>train_fscore</th>\n",
       "      <th>train_loss</th>\n",
       "      <th>val_iou_score</th>\n",
       "      <th>val_accuracy</th>\n",
       "      <th>val_fscore</th>\n",
       "      <th>val_loss</th>\n",
       "      <th>parameters</th>\n",
       "      <th>memory_used</th>\n",
       "      <th>freeze_encoder</th>\n",
       "      <th>architecture</th>\n",
       "      <th>encoder</th>\n",
       "      <th>loss_func</th>\n",
       "    </tr>\n",
       "  </thead>\n",
       "  <tbody>\n",
       "    <tr>\n",
       "      <th>0</th>\n",
       "      <td>0.790320</td>\n",
       "      <td>0.924422</td>\n",
       "      <td>0.871059</td>\n",
       "      <td>0.275363</td>\n",
       "      <td>0.889814</td>\n",
       "      <td>0.966431</td>\n",
       "      <td>0.941087</td>\n",
       "      <td>0.130975</td>\n",
       "      <td>4378513</td>\n",
       "      <td>5354.0</td>\n",
       "      <td>False</td>\n",
       "      <td>DeepLabV3Plus</td>\n",
       "      <td>mobilenet_v2</td>\n",
       "      <td>DiceLoss</td>\n",
       "    </tr>\n",
       "    <tr>\n",
       "      <th>1</th>\n",
       "      <td>0.890091</td>\n",
       "      <td>0.966504</td>\n",
       "      <td>0.941300</td>\n",
       "      <td>0.116404</td>\n",
       "      <td>0.909866</td>\n",
       "      <td>0.973333</td>\n",
       "      <td>0.952406</td>\n",
       "      <td>0.092867</td>\n",
       "      <td>4378513</td>\n",
       "      <td>5354.0</td>\n",
       "      <td>False</td>\n",
       "      <td>DeepLabV3Plus</td>\n",
       "      <td>mobilenet_v2</td>\n",
       "      <td>DiceLoss</td>\n",
       "    </tr>\n",
       "    <tr>\n",
       "      <th>2</th>\n",
       "      <td>0.906770</td>\n",
       "      <td>0.972362</td>\n",
       "      <td>0.950674</td>\n",
       "      <td>0.090420</td>\n",
       "      <td>0.910591</td>\n",
       "      <td>0.973462</td>\n",
       "      <td>0.952898</td>\n",
       "      <td>0.076593</td>\n",
       "      <td>4378513</td>\n",
       "      <td>5354.0</td>\n",
       "      <td>False</td>\n",
       "      <td>DeepLabV3Plus</td>\n",
       "      <td>mobilenet_v2</td>\n",
       "      <td>DiceLoss</td>\n",
       "    </tr>\n",
       "    <tr>\n",
       "      <th>3</th>\n",
       "      <td>0.916283</td>\n",
       "      <td>0.975439</td>\n",
       "      <td>0.955943</td>\n",
       "      <td>0.075271</td>\n",
       "      <td>0.877825</td>\n",
       "      <td>0.961667</td>\n",
       "      <td>0.934357</td>\n",
       "      <td>0.087910</td>\n",
       "      <td>4378513</td>\n",
       "      <td>5354.0</td>\n",
       "      <td>False</td>\n",
       "      <td>DeepLabV3Plus</td>\n",
       "      <td>mobilenet_v2</td>\n",
       "      <td>DiceLoss</td>\n",
       "    </tr>\n",
       "    <tr>\n",
       "      <th>4</th>\n",
       "      <td>0.916649</td>\n",
       "      <td>0.975170</td>\n",
       "      <td>0.956265</td>\n",
       "      <td>0.066970</td>\n",
       "      <td>0.919754</td>\n",
       "      <td>0.976632</td>\n",
       "      <td>0.957922</td>\n",
       "      <td>0.062395</td>\n",
       "      <td>4378513</td>\n",
       "      <td>5354.0</td>\n",
       "      <td>False</td>\n",
       "      <td>DeepLabV3Plus</td>\n",
       "      <td>mobilenet_v2</td>\n",
       "      <td>DiceLoss</td>\n",
       "    </tr>\n",
       "  </tbody>\n",
       "</table>\n",
       "</div>"
      ],
      "text/plain": [
       "   train_iou_score  train_accuracy  train_fscore  train_loss  val_iou_score  \\\n",
       "0         0.790320        0.924422      0.871059    0.275363       0.889814   \n",
       "1         0.890091        0.966504      0.941300    0.116404       0.909866   \n",
       "2         0.906770        0.972362      0.950674    0.090420       0.910591   \n",
       "3         0.916283        0.975439      0.955943    0.075271       0.877825   \n",
       "4         0.916649        0.975170      0.956265    0.066970       0.919754   \n",
       "\n",
       "   val_accuracy  val_fscore  val_loss  parameters  memory_used  \\\n",
       "0      0.966431    0.941087  0.130975     4378513       5354.0   \n",
       "1      0.973333    0.952406  0.092867     4378513       5354.0   \n",
       "2      0.973462    0.952898  0.076593     4378513       5354.0   \n",
       "3      0.961667    0.934357  0.087910     4378513       5354.0   \n",
       "4      0.976632    0.957922  0.062395     4378513       5354.0   \n",
       "\n",
       "   freeze_encoder   architecture       encoder loss_func  \n",
       "0           False  DeepLabV3Plus  mobilenet_v2  DiceLoss  \n",
       "1           False  DeepLabV3Plus  mobilenet_v2  DiceLoss  \n",
       "2           False  DeepLabV3Plus  mobilenet_v2  DiceLoss  \n",
       "3           False  DeepLabV3Plus  mobilenet_v2  DiceLoss  \n",
       "4           False  DeepLabV3Plus  mobilenet_v2  DiceLoss  "
      ]
     },
     "execution_count": 55,
     "metadata": {},
     "output_type": "execute_result"
    }
   ],
   "source": [
    "big_df[:5]"
   ]
  },
  {
   "cell_type": "markdown",
   "metadata": {},
   "source": [
    "# Plot"
   ]
  },
  {
   "cell_type": "code",
   "execution_count": 56,
   "metadata": {},
   "outputs": [],
   "source": [
    "def plot_data(big_df: pd.DataFrame, y_volumn, y_column_name, plot_title, x_column=\"index\", x_column_name=\"Epochs\", filter=None):\n",
    "    fig = go.Figure()\n",
    "    big_df_copy = big_df.copy(deep=True)\n",
    "    if filter != None:\n",
    "        big_df_copy.query(filter, inplace=True)\n",
    "    # for f in image_files_FINAL:\n",
    "    for data in big_df_copy.groupby(['architecture', 'encoder', 'loss_func', 'freeze_encoder']):\n",
    "        architecture, encoder, loss, freeze = data[0]\n",
    "        # fig.add_trace(go.Scatter(x=df.index+1, y=df['train_iou_score'], name=f\"{architecture} {encoder} {loss}\", hoverinfo='text+name',)) # \n",
    "        # fig.add_trace(go.Scatter(x=data[1].index+1, y=data[1]['val_iou_score'], name=f\"{architecture} {encoder} {loss}\", hoverinfo='y+text+name',)) # \n",
    "        hovertemplate=f\"<b>{architecture} {encoder} {loss} {freeze}</b><br><br>\" + \\\n",
    "                        f\"{plot_title}\"+\": %{y:.3}<br>\" + \\\n",
    "                        f\"{x_column_name}\"+\": %{x}<br>\" + \\\n",
    "                        \"<extra></extra>\",\n",
    "        if x_column == \"index\":\n",
    "            fig.add_trace(go.Scatter(x=data[1].index+1, y=data[1][y_volumn], name=f\"{architecture} {encoder} {loss} {freeze}\", hovertemplate=hovertemplate)) # \n",
    "        else:\n",
    "            fig.add_trace(go.Scatter(x=data[1][x_column], y=data[1][y_volumn], name=f\"{architecture} {encoder} {loss} {freeze}\", hovertemplate=hovertemplate, mode='markers')) # \n",
    "        \n",
    "    # fig.update_traces(hoverinfo='text+name', mode='lines+markers')\n",
    "    fig.update_layout(legend=dict(y=0.5, traceorder='reversed', font_size=16))\n",
    "    fig.update_layout(\n",
    "        title=f\"{plot_title} - (Architecture Encoder Loss)\",\n",
    "        # title=\"Training loss - (Architecture Encoder Loss)\",\n",
    "        xaxis_title=x_column_name,\n",
    "        yaxis_title=y_column_name,\n",
    "            font=dict(\n",
    "            size=14,\n",
    "        )\n",
    "    )\n",
    "    # fig.update_layout(hovermode=\"x unified\")\n",
    "    fig.show()"
   ]
  },
  {
   "cell_type": "code",
   "execution_count": 57,
   "metadata": {},
   "outputs": [
    {
     "data": {
      "application/vnd.plotly.v1+json": {
       "config": {
        "plotlyServerURL": "https://plot.ly"
       },
       "data": [
        {
         "hovertemplate": [
          "<b>DeepLabV3Plus mobilenet_v2 JaccardLoss False</b><br><br>Train loss: %{y:.3}<br>Epochs: %{x}<br><extra></extra>"
         ],
         "name": "DeepLabV3Plus mobilenet_v2 JaccardLoss False",
         "type": "scatter",
         "x": [
          1,
          2,
          3,
          4,
          5,
          6,
          7,
          8,
          9,
          10
         ],
         "y": [
          0.4094017640902445,
          0.2087120230381305,
          0.1620199072819489,
          0.1367173871168723,
          0.116966154712897,
          0.1045654118061065,
          0.0872566390496034,
          0.0817845727388675,
          0.072569075685281,
          0.0671119265831433
         ]
        },
        {
         "hovertemplate": [
          "<b>DeepLabV3Plus mobilenet_v2 JaccardLoss True</b><br><br>Train loss: %{y:.3}<br>Epochs: %{x}<br><extra></extra>"
         ],
         "name": "DeepLabV3Plus mobilenet_v2 JaccardLoss True",
         "type": "scatter",
         "x": [
          1,
          2,
          3,
          4,
          5,
          6,
          7,
          8,
          9,
          10
         ],
         "y": [
          0.4616627796338153,
          0.2416135531205398,
          0.1910486909059379,
          0.1611091574797264,
          0.1412460861297753,
          0.1234189283389312,
          0.117323854794869,
          0.1083666017422309,
          0.1028010925421348,
          0.1001527160406112
         ]
        },
        {
         "hovertemplate": [
          "<b>DeepLabV3Plus resnet101 JaccardLoss False</b><br><br>Train loss: %{y:.3}<br>Epochs: %{x}<br><extra></extra>"
         ],
         "name": "DeepLabV3Plus resnet101 JaccardLoss False",
         "type": "scatter",
         "x": [
          1,
          2,
          3,
          4,
          5,
          6,
          7,
          8,
          9,
          10
         ],
         "y": [
          0.3611475974321365,
          0.1826788301651294,
          0.1390416335601073,
          0.1169845966192392,
          0.1035621555951925,
          0.0904963348920528,
          0.0788013373429958,
          0.0719723380528963,
          0.057484922500757,
          0.0510973758422411
         ]
        },
        {
         "hovertemplate": [
          "<b>DeepLabV3Plus resnet101 JaccardLoss True</b><br><br>Train loss: %{y:.3}<br>Epochs: %{x}<br><extra></extra>"
         ],
         "name": "DeepLabV3Plus resnet101 JaccardLoss True",
         "type": "scatter",
         "x": [
          1,
          2,
          3,
          4,
          5,
          6,
          7,
          8,
          9,
          10
         ],
         "y": [
          0.4219868160211124,
          0.2226590101535504,
          0.1774710302169506,
          0.1503861947701527,
          0.1326795953970689,
          0.1152329444885253,
          0.1047233400436548,
          0.0943411210408578,
          0.0841489285230636,
          0.0828467653347895
         ]
        },
        {
         "hovertemplate": [
          "<b>FPN mobilenet_v2 JaccardLoss False</b><br><br>Train loss: %{y:.3}<br>Epochs: %{x}<br><extra></extra>"
         ],
         "name": "FPN mobilenet_v2 JaccardLoss False",
         "type": "scatter",
         "x": [
          1,
          2,
          3,
          4,
          5,
          6,
          7,
          8,
          9,
          10
         ],
         "y": [
          0.1619185690696423,
          0.096488295839383,
          0.084446758031845,
          0.0788002782143079,
          0.0706937622565489,
          0.0660566274936382,
          0.0621615636807221,
          0.0585085887175339,
          0.0518230681235973,
          0.0472909051638383
         ]
        },
        {
         "hovertemplate": [
          "<b>FPN mobilenet_v2 JaccardLoss True</b><br><br>Train loss: %{y:.3}<br>Epochs: %{x}<br><extra></extra>"
         ],
         "name": "FPN mobilenet_v2 JaccardLoss True",
         "type": "scatter",
         "x": [
          1,
          2,
          3,
          4,
          5,
          6,
          7,
          8,
          9,
          10
         ],
         "y": [
          0.1899791898635717,
          0.1159276079673033,
          0.1103877104245699,
          0.1043184743477748,
          0.0987070030890978,
          0.1016510896957837,
          0.0942715991001862,
          0.0928386621750318,
          0.0846479409016096,
          0.0856962158129765
         ]
        },
        {
         "hovertemplate": [
          "<b>FPN resnet101 JaccardLoss False</b><br><br>Train loss: %{y:.3}<br>Epochs: %{x}<br><extra></extra>"
         ],
         "name": "FPN resnet101 JaccardLoss False",
         "type": "scatter",
         "x": [
          1,
          2,
          3,
          4,
          5,
          6,
          7,
          8,
          9,
          10
         ],
         "y": [
          0.1394632172126036,
          0.0886334971739696,
          0.0832639141724659,
          0.0709684261908898,
          0.0704714736113181,
          0.0596179480736072,
          0.061378722007458,
          0.0557757673355249,
          0.042087897658348,
          0.0348068074538157
         ]
        },
        {
         "hovertemplate": [
          "<b>FPN resnet101 JaccardLoss True</b><br><br>Train loss: %{y:.3}<br>Epochs: %{x}<br><extra></extra>"
         ],
         "name": "FPN resnet101 JaccardLoss True",
         "type": "scatter",
         "x": [
          1,
          2,
          3,
          4,
          5,
          6,
          7,
          8,
          9,
          10
         ],
         "y": [
          0.2281164526939393,
          0.1163227122563582,
          0.1171057659846085,
          0.1087855513279254,
          0.1069488399303876,
          0.1026479326761685,
          0.0937921783098807,
          0.0944471691663448,
          0.0893946014917813,
          0.0874645045170417
         ]
        },
        {
         "hovertemplate": [
          "<b>Linknet mobilenet_v2 JaccardLoss False</b><br><br>Train loss: %{y:.3}<br>Epochs: %{x}<br><extra></extra>"
         ],
         "name": "Linknet mobilenet_v2 JaccardLoss False",
         "type": "scatter",
         "x": [
          1,
          2,
          3,
          4,
          5,
          6,
          7,
          8,
          9,
          10
         ],
         "y": [
          0.7217288544544807,
          0.6799082331932507,
          0.6432396517350124,
          0.6111338620002452,
          0.5815565654864678,
          0.5449161563928313,
          0.510481310578493,
          0.4801019968894811,
          0.461747944355011,
          0.4584975150915293
         ]
        },
        {
         "hovertemplate": [
          "<b>Linknet mobilenet_v2 JaccardLoss True</b><br><br>Train loss: %{y:.3}<br>Epochs: %{x}<br><extra></extra>"
         ],
         "name": "Linknet mobilenet_v2 JaccardLoss True",
         "type": "scatter",
         "x": [
          1,
          2,
          3,
          4,
          5,
          6,
          7,
          8,
          9,
          10
         ],
         "y": [
          0.8123203538931332,
          0.767959352869254,
          0.7124449071975854,
          0.6388108065495123,
          0.5584042989290678,
          0.4890279105076425,
          0.4281292156531262,
          0.3802830164249124,
          0.3536946853766074,
          0.350807019151174
         ]
        },
        {
         "hovertemplate": [
          "<b>Linknet resnet101 JaccardLoss False</b><br><br>Train loss: %{y:.3}<br>Epochs: %{x}<br><extra></extra>"
         ],
         "name": "Linknet resnet101 JaccardLoss False",
         "type": "scatter",
         "x": [
          1,
          2,
          3,
          4,
          5,
          6,
          7,
          8,
          9,
          10
         ],
         "y": [
          0.5911274334559076,
          0.4857409011859161,
          0.438034067933376,
          0.4097511802728359,
          0.3840961318749646,
          0.3583621566112225,
          0.3400347416217511,
          0.3211081417707297,
          0.3059892631494081,
          0.3033690143090027
         ]
        },
        {
         "hovertemplate": [
          "<b>Linknet resnet101 JaccardLoss True</b><br><br>Train loss: %{y:.3}<br>Epochs: %{x}<br><extra></extra>"
         ],
         "name": "Linknet resnet101 JaccardLoss True",
         "type": "scatter",
         "x": [
          1,
          2,
          3,
          4,
          5,
          6,
          7,
          8,
          9,
          10
         ],
         "y": [
          0.6418343805349788,
          0.5157673370379667,
          0.4412632882595062,
          0.3882373777719644,
          0.3570504165612735,
          0.3305178147095901,
          0.3116258703745328,
          0.293619577701275,
          0.2802082197024271,
          0.2787393663938229
         ]
        },
        {
         "hovertemplate": [
          "<b>MAnet mobilenet_v2 JaccardLoss False</b><br><br>Train loss: %{y:.3}<br>Epochs: %{x}<br><extra></extra>"
         ],
         "name": "MAnet mobilenet_v2 JaccardLoss False",
         "type": "scatter",
         "x": [
          1,
          2,
          3,
          4,
          5,
          6,
          7,
          8,
          9,
          10
         ],
         "y": [
          0.6318147549262412,
          0.5273858824601545,
          0.4778317797642487,
          0.443319110916211,
          0.4115258306264877,
          0.3777936215584094,
          0.3460015746263357,
          0.3115427757685001,
          0.2927392148054564,
          0.2877296163485601
         ]
        },
        {
         "hovertemplate": [
          "<b>MAnet mobilenet_v2 JaccardLoss True</b><br><br>Train loss: %{y:.3}<br>Epochs: %{x}<br><extra></extra>"
         ],
         "name": "MAnet mobilenet_v2 JaccardLoss True",
         "type": "scatter",
         "x": [
          1,
          2,
          3,
          4,
          5,
          6,
          7,
          8,
          9,
          10
         ],
         "y": [
          0.5802782808358851,
          0.4015457343596677,
          0.3267069516273646,
          0.2865622341632843,
          0.2487569050146983,
          0.2193879576829763,
          0.194243155992948,
          0.1744610850627606,
          0.1590991226526407,
          0.1521012473564881
         ]
        },
        {
         "hovertemplate": [
          "<b>MAnet resnet101 JaccardLoss False</b><br><br>Train loss: %{y:.3}<br>Epochs: %{x}<br><extra></extra>"
         ],
         "name": "MAnet resnet101 JaccardLoss False",
         "type": "scatter",
         "x": [
          1,
          2,
          3,
          4,
          5,
          6,
          7,
          8,
          9,
          10
         ],
         "y": [
          0.463555497618822,
          0.316509981568043,
          0.266622652228062,
          0.2277315625777611,
          0.2007178125473169,
          0.1768949501789533,
          0.1504835543724206,
          0.1377844191514528,
          0.1207329688163903,
          0.113160613637704
         ]
        },
        {
         "hovertemplate": [
          "<b>MAnet resnet101 JaccardLoss True</b><br><br>Train loss: %{y:.3}<br>Epochs: %{x}<br><extra></extra>"
         ],
         "name": "MAnet resnet101 JaccardLoss True",
         "type": "scatter",
         "x": [
          1,
          2,
          3,
          4,
          5,
          6,
          7,
          8,
          9,
          10
         ],
         "y": [
          0.4741873190953181,
          0.3113855834190662,
          0.2584915997890325,
          0.2151612112155327,
          0.1916208634009727,
          0.1658788587038333,
          0.1536096712717643,
          0.1307842307365857,
          0.1179921111235252,
          0.1119553538469168
         ]
        },
        {
         "hovertemplate": [
          "<b>PAN mobilenet_v2 JaccardLoss False</b><br><br>Train loss: %{y:.3}<br>Epochs: %{x}<br><extra></extra>"
         ],
         "name": "PAN mobilenet_v2 JaccardLoss False",
         "type": "scatter",
         "x": [
          1,
          2,
          3,
          4,
          5,
          6,
          7,
          8,
          9,
          10
         ],
         "y": [
          0.6893479422881056,
          0.4302495064643714,
          0.1983998062518927,
          0.1391376921763787,
          0.1262688155357654,
          0.1114094257354736,
          0.1140535324811935,
          0.1106382115529133,
          0.1056511035332312,
          0.102029066819411
         ]
        },
        {
         "hovertemplate": [
          "<b>PAN mobilenet_v2 JaccardLoss True</b><br><br>Train loss: %{y:.3}<br>Epochs: %{x}<br><extra></extra>"
         ],
         "name": "PAN mobilenet_v2 JaccardLoss True",
         "type": "scatter",
         "x": [
          1,
          2,
          3,
          4,
          5,
          6,
          7,
          8,
          9,
          10
         ],
         "y": [
          0.538544128720577,
          0.2916520845431547,
          0.2061562687158584,
          0.1729265119020755,
          0.1573283397234402,
          0.142859868132151,
          0.1362859297257203,
          0.130656965650045,
          0.1296305220860701,
          0.1250447550645241
         ]
        },
        {
         "hovertemplate": [
          "<b>PAN resnet101 JaccardLoss False</b><br><br>Train loss: %{y:.3}<br>Epochs: %{x}<br><extra></extra>"
         ],
         "name": "PAN resnet101 JaccardLoss False",
         "type": "scatter",
         "x": [
          1,
          2,
          3,
          4,
          5,
          6,
          7,
          8,
          9,
          10
         ],
         "y": [
          0.2881230757786677,
          0.1454228369089273,
          0.1246280796252764,
          0.1100223534382306,
          0.1115324096037791,
          0.1023180324297684,
          0.0979896359718763,
          0.0934494218000998,
          0.0850779941448798,
          0.082524517407784
         ]
        },
        {
         "hovertemplate": [
          "<b>PAN resnet101 JaccardLoss True</b><br><br>Train loss: %{y:.3}<br>Epochs: %{x}<br><extra></extra>"
         ],
         "name": "PAN resnet101 JaccardLoss True",
         "type": "scatter",
         "x": [
          1,
          2,
          3,
          4,
          5,
          6,
          7,
          8,
          9,
          10
         ],
         "y": [
          0.3294495745347096,
          0.151637390255928,
          0.129322356902636,
          0.123850554227829,
          0.1159419566392898,
          0.1106259249723874,
          0.105512614433582,
          0.1048645010361304,
          0.1037754439390622,
          0.102853150321887
         ]
        },
        {
         "hovertemplate": [
          "<b>PSPNet mobilenet_v2 JaccardLoss False</b><br><br>Train loss: %{y:.3}<br>Epochs: %{x}<br><extra></extra>"
         ],
         "name": "PSPNet mobilenet_v2 JaccardLoss False",
         "type": "scatter",
         "x": [
          1,
          2,
          3,
          4,
          5,
          6,
          7,
          8,
          9,
          10
         ],
         "y": [
          0.4008620152106652,
          0.1242169680503698,
          0.1136762098624155,
          0.1057517196123416,
          0.101036895926182,
          0.0962833555845113,
          0.0998023049189494,
          0.0954305896392235,
          0.0937774158441103,
          0.094251587986946
         ]
        },
        {
         "hovertemplate": [
          "<b>PSPNet mobilenet_v2 JaccardLoss True</b><br><br>Train loss: %{y:.3}<br>Epochs: %{x}<br><extra></extra>"
         ],
         "name": "PSPNet mobilenet_v2 JaccardLoss True",
         "type": "scatter",
         "x": [
          1,
          2,
          3,
          4,
          5,
          6,
          7,
          8,
          9,
          10
         ],
         "y": [
          0.5410632204550964,
          0.2466644507188063,
          0.18044692163284,
          0.1561653442107714,
          0.1453804029868199,
          0.1368184960805452,
          0.131984627017608,
          0.1253039836883545,
          0.1247464991532839,
          0.1229427984127631
         ]
        },
        {
         "hovertemplate": [
          "<b>PSPNet resnet101 JaccardLoss False</b><br><br>Train loss: %{y:.3}<br>Epochs: %{x}<br><extra></extra>"
         ],
         "name": "PSPNet resnet101 JaccardLoss False",
         "type": "scatter",
         "x": [
          1,
          2,
          3,
          4,
          5,
          6,
          7,
          8,
          9,
          10
         ],
         "y": [
          0.2193863116777861,
          0.1071463880630639,
          0.100713340135721,
          0.0932081169806993,
          0.0901264869249783,
          0.0884704200121072,
          0.0829137288607084,
          0.0808259718693219,
          0.0751935071670092,
          0.0731743012483303
         ]
        },
        {
         "hovertemplate": [
          "<b>PSPNet resnet101 JaccardLoss True</b><br><br>Train loss: %{y:.3}<br>Epochs: %{x}<br><extra></extra>"
         ],
         "name": "PSPNet resnet101 JaccardLoss True",
         "type": "scatter",
         "x": [
          1,
          2,
          3,
          4,
          5,
          6,
          7,
          8,
          9,
          10
         ],
         "y": [
          0.2787447823927953,
          0.1532194144450701,
          0.1296673222230031,
          0.1191826267884327,
          0.1140595101393185,
          0.1073633799186119,
          0.099539571083509,
          0.0953040226147725,
          0.0940401015373376,
          0.0930057500417416
         ]
        },
        {
         "hovertemplate": [
          "<b>Unet mobilenet_v2 JaccardLoss False</b><br><br>Train loss: %{y:.3}<br>Epochs: %{x}<br><extra></extra>"
         ],
         "name": "Unet mobilenet_v2 JaccardLoss False",
         "type": "scatter",
         "x": [
          1,
          2,
          3,
          4,
          5,
          6,
          7,
          8,
          9,
          10
         ],
         "y": [
          0.4738463621873121,
          0.3196623371197628,
          0.2620851867474042,
          0.2225948056349387,
          0.186908388367066,
          0.1651628957344935,
          0.1401553199841426,
          0.1274183770784965,
          0.1118176797261605,
          0.106439457489894
         ]
        },
        {
         "hovertemplate": [
          "<b>Unet mobilenet_v2 JaccardLoss True</b><br><br>Train loss: %{y:.3}<br>Epochs: %{x}<br><extra></extra>"
         ],
         "name": "Unet mobilenet_v2 JaccardLoss True",
         "type": "scatter",
         "x": [
          1,
          2,
          3,
          4,
          5,
          6,
          7,
          8,
          9,
          10
         ],
         "y": [
          0.5065764429477545,
          0.3347412806290848,
          0.2687249596302326,
          0.2181654904897396,
          0.1884360324877959,
          0.1620947099648988,
          0.1431142527323503,
          0.1314395322249485,
          0.120924826997977,
          0.1141356229782104
         ]
        },
        {
         "hovertemplate": [
          "<b>Unet resnet101 JaccardLoss False</b><br><br>Train loss: %{y:.3}<br>Epochs: %{x}<br><extra></extra>"
         ],
         "name": "Unet resnet101 JaccardLoss False",
         "type": "scatter",
         "x": [
          1,
          2,
          3,
          4,
          5,
          6,
          7,
          8,
          9,
          10
         ],
         "y": [
          0.4949845430942682,
          0.3502446023317483,
          0.273952258320955,
          0.2171919689728663,
          0.1824929771515039,
          0.1595065582257051,
          0.1393163685615245,
          0.1254261617477123,
          0.1048002735926554,
          0.0956536565835659
         ]
        },
        {
         "hovertemplate": [
          "<b>Unet resnet101 JaccardLoss True</b><br><br>Train loss: %{y:.3}<br>Epochs: %{x}<br><extra></extra>"
         ],
         "name": "Unet resnet101 JaccardLoss True",
         "type": "scatter",
         "x": [
          1,
          2,
          3,
          4,
          5,
          6,
          7,
          8,
          9,
          10
         ],
         "y": [
          0.5504753245757175,
          0.4386530220508576,
          0.3939967762965423,
          0.3605339905390373,
          0.3273011457461576,
          0.2962849816450704,
          0.2674338668584824,
          0.2422012319931617,
          0.2265254557132721,
          0.2224056961444707
         ]
        }
       ],
       "layout": {
        "font": {
         "size": 14
        },
        "legend": {
         "font": {
          "size": 16
         },
         "traceorder": "reversed",
         "y": 0.5
        },
        "template": {
         "data": {
          "bar": [
           {
            "error_x": {
             "color": "#2a3f5f"
            },
            "error_y": {
             "color": "#2a3f5f"
            },
            "marker": {
             "line": {
              "color": "#E5ECF6",
              "width": 0.5
             },
             "pattern": {
              "fillmode": "overlay",
              "size": 10,
              "solidity": 0.2
             }
            },
            "type": "bar"
           }
          ],
          "barpolar": [
           {
            "marker": {
             "line": {
              "color": "#E5ECF6",
              "width": 0.5
             },
             "pattern": {
              "fillmode": "overlay",
              "size": 10,
              "solidity": 0.2
             }
            },
            "type": "barpolar"
           }
          ],
          "carpet": [
           {
            "aaxis": {
             "endlinecolor": "#2a3f5f",
             "gridcolor": "white",
             "linecolor": "white",
             "minorgridcolor": "white",
             "startlinecolor": "#2a3f5f"
            },
            "baxis": {
             "endlinecolor": "#2a3f5f",
             "gridcolor": "white",
             "linecolor": "white",
             "minorgridcolor": "white",
             "startlinecolor": "#2a3f5f"
            },
            "type": "carpet"
           }
          ],
          "choropleth": [
           {
            "colorbar": {
             "outlinewidth": 0,
             "ticks": ""
            },
            "type": "choropleth"
           }
          ],
          "contour": [
           {
            "colorbar": {
             "outlinewidth": 0,
             "ticks": ""
            },
            "colorscale": [
             [
              0,
              "#0d0887"
             ],
             [
              0.1111111111111111,
              "#46039f"
             ],
             [
              0.2222222222222222,
              "#7201a8"
             ],
             [
              0.3333333333333333,
              "#9c179e"
             ],
             [
              0.4444444444444444,
              "#bd3786"
             ],
             [
              0.5555555555555556,
              "#d8576b"
             ],
             [
              0.6666666666666666,
              "#ed7953"
             ],
             [
              0.7777777777777778,
              "#fb9f3a"
             ],
             [
              0.8888888888888888,
              "#fdca26"
             ],
             [
              1,
              "#f0f921"
             ]
            ],
            "type": "contour"
           }
          ],
          "contourcarpet": [
           {
            "colorbar": {
             "outlinewidth": 0,
             "ticks": ""
            },
            "type": "contourcarpet"
           }
          ],
          "heatmap": [
           {
            "colorbar": {
             "outlinewidth": 0,
             "ticks": ""
            },
            "colorscale": [
             [
              0,
              "#0d0887"
             ],
             [
              0.1111111111111111,
              "#46039f"
             ],
             [
              0.2222222222222222,
              "#7201a8"
             ],
             [
              0.3333333333333333,
              "#9c179e"
             ],
             [
              0.4444444444444444,
              "#bd3786"
             ],
             [
              0.5555555555555556,
              "#d8576b"
             ],
             [
              0.6666666666666666,
              "#ed7953"
             ],
             [
              0.7777777777777778,
              "#fb9f3a"
             ],
             [
              0.8888888888888888,
              "#fdca26"
             ],
             [
              1,
              "#f0f921"
             ]
            ],
            "type": "heatmap"
           }
          ],
          "heatmapgl": [
           {
            "colorbar": {
             "outlinewidth": 0,
             "ticks": ""
            },
            "colorscale": [
             [
              0,
              "#0d0887"
             ],
             [
              0.1111111111111111,
              "#46039f"
             ],
             [
              0.2222222222222222,
              "#7201a8"
             ],
             [
              0.3333333333333333,
              "#9c179e"
             ],
             [
              0.4444444444444444,
              "#bd3786"
             ],
             [
              0.5555555555555556,
              "#d8576b"
             ],
             [
              0.6666666666666666,
              "#ed7953"
             ],
             [
              0.7777777777777778,
              "#fb9f3a"
             ],
             [
              0.8888888888888888,
              "#fdca26"
             ],
             [
              1,
              "#f0f921"
             ]
            ],
            "type": "heatmapgl"
           }
          ],
          "histogram": [
           {
            "marker": {
             "pattern": {
              "fillmode": "overlay",
              "size": 10,
              "solidity": 0.2
             }
            },
            "type": "histogram"
           }
          ],
          "histogram2d": [
           {
            "colorbar": {
             "outlinewidth": 0,
             "ticks": ""
            },
            "colorscale": [
             [
              0,
              "#0d0887"
             ],
             [
              0.1111111111111111,
              "#46039f"
             ],
             [
              0.2222222222222222,
              "#7201a8"
             ],
             [
              0.3333333333333333,
              "#9c179e"
             ],
             [
              0.4444444444444444,
              "#bd3786"
             ],
             [
              0.5555555555555556,
              "#d8576b"
             ],
             [
              0.6666666666666666,
              "#ed7953"
             ],
             [
              0.7777777777777778,
              "#fb9f3a"
             ],
             [
              0.8888888888888888,
              "#fdca26"
             ],
             [
              1,
              "#f0f921"
             ]
            ],
            "type": "histogram2d"
           }
          ],
          "histogram2dcontour": [
           {
            "colorbar": {
             "outlinewidth": 0,
             "ticks": ""
            },
            "colorscale": [
             [
              0,
              "#0d0887"
             ],
             [
              0.1111111111111111,
              "#46039f"
             ],
             [
              0.2222222222222222,
              "#7201a8"
             ],
             [
              0.3333333333333333,
              "#9c179e"
             ],
             [
              0.4444444444444444,
              "#bd3786"
             ],
             [
              0.5555555555555556,
              "#d8576b"
             ],
             [
              0.6666666666666666,
              "#ed7953"
             ],
             [
              0.7777777777777778,
              "#fb9f3a"
             ],
             [
              0.8888888888888888,
              "#fdca26"
             ],
             [
              1,
              "#f0f921"
             ]
            ],
            "type": "histogram2dcontour"
           }
          ],
          "mesh3d": [
           {
            "colorbar": {
             "outlinewidth": 0,
             "ticks": ""
            },
            "type": "mesh3d"
           }
          ],
          "parcoords": [
           {
            "line": {
             "colorbar": {
              "outlinewidth": 0,
              "ticks": ""
             }
            },
            "type": "parcoords"
           }
          ],
          "pie": [
           {
            "automargin": true,
            "type": "pie"
           }
          ],
          "scatter": [
           {
            "fillpattern": {
             "fillmode": "overlay",
             "size": 10,
             "solidity": 0.2
            },
            "type": "scatter"
           }
          ],
          "scatter3d": [
           {
            "line": {
             "colorbar": {
              "outlinewidth": 0,
              "ticks": ""
             }
            },
            "marker": {
             "colorbar": {
              "outlinewidth": 0,
              "ticks": ""
             }
            },
            "type": "scatter3d"
           }
          ],
          "scattercarpet": [
           {
            "marker": {
             "colorbar": {
              "outlinewidth": 0,
              "ticks": ""
             }
            },
            "type": "scattercarpet"
           }
          ],
          "scattergeo": [
           {
            "marker": {
             "colorbar": {
              "outlinewidth": 0,
              "ticks": ""
             }
            },
            "type": "scattergeo"
           }
          ],
          "scattergl": [
           {
            "marker": {
             "colorbar": {
              "outlinewidth": 0,
              "ticks": ""
             }
            },
            "type": "scattergl"
           }
          ],
          "scattermapbox": [
           {
            "marker": {
             "colorbar": {
              "outlinewidth": 0,
              "ticks": ""
             }
            },
            "type": "scattermapbox"
           }
          ],
          "scatterpolar": [
           {
            "marker": {
             "colorbar": {
              "outlinewidth": 0,
              "ticks": ""
             }
            },
            "type": "scatterpolar"
           }
          ],
          "scatterpolargl": [
           {
            "marker": {
             "colorbar": {
              "outlinewidth": 0,
              "ticks": ""
             }
            },
            "type": "scatterpolargl"
           }
          ],
          "scatterternary": [
           {
            "marker": {
             "colorbar": {
              "outlinewidth": 0,
              "ticks": ""
             }
            },
            "type": "scatterternary"
           }
          ],
          "surface": [
           {
            "colorbar": {
             "outlinewidth": 0,
             "ticks": ""
            },
            "colorscale": [
             [
              0,
              "#0d0887"
             ],
             [
              0.1111111111111111,
              "#46039f"
             ],
             [
              0.2222222222222222,
              "#7201a8"
             ],
             [
              0.3333333333333333,
              "#9c179e"
             ],
             [
              0.4444444444444444,
              "#bd3786"
             ],
             [
              0.5555555555555556,
              "#d8576b"
             ],
             [
              0.6666666666666666,
              "#ed7953"
             ],
             [
              0.7777777777777778,
              "#fb9f3a"
             ],
             [
              0.8888888888888888,
              "#fdca26"
             ],
             [
              1,
              "#f0f921"
             ]
            ],
            "type": "surface"
           }
          ],
          "table": [
           {
            "cells": {
             "fill": {
              "color": "#EBF0F8"
             },
             "line": {
              "color": "white"
             }
            },
            "header": {
             "fill": {
              "color": "#C8D4E3"
             },
             "line": {
              "color": "white"
             }
            },
            "type": "table"
           }
          ]
         },
         "layout": {
          "annotationdefaults": {
           "arrowcolor": "#2a3f5f",
           "arrowhead": 0,
           "arrowwidth": 1
          },
          "autotypenumbers": "strict",
          "coloraxis": {
           "colorbar": {
            "outlinewidth": 0,
            "ticks": ""
           }
          },
          "colorscale": {
           "diverging": [
            [
             0,
             "#8e0152"
            ],
            [
             0.1,
             "#c51b7d"
            ],
            [
             0.2,
             "#de77ae"
            ],
            [
             0.3,
             "#f1b6da"
            ],
            [
             0.4,
             "#fde0ef"
            ],
            [
             0.5,
             "#f7f7f7"
            ],
            [
             0.6,
             "#e6f5d0"
            ],
            [
             0.7,
             "#b8e186"
            ],
            [
             0.8,
             "#7fbc41"
            ],
            [
             0.9,
             "#4d9221"
            ],
            [
             1,
             "#276419"
            ]
           ],
           "sequential": [
            [
             0,
             "#0d0887"
            ],
            [
             0.1111111111111111,
             "#46039f"
            ],
            [
             0.2222222222222222,
             "#7201a8"
            ],
            [
             0.3333333333333333,
             "#9c179e"
            ],
            [
             0.4444444444444444,
             "#bd3786"
            ],
            [
             0.5555555555555556,
             "#d8576b"
            ],
            [
             0.6666666666666666,
             "#ed7953"
            ],
            [
             0.7777777777777778,
             "#fb9f3a"
            ],
            [
             0.8888888888888888,
             "#fdca26"
            ],
            [
             1,
             "#f0f921"
            ]
           ],
           "sequentialminus": [
            [
             0,
             "#0d0887"
            ],
            [
             0.1111111111111111,
             "#46039f"
            ],
            [
             0.2222222222222222,
             "#7201a8"
            ],
            [
             0.3333333333333333,
             "#9c179e"
            ],
            [
             0.4444444444444444,
             "#bd3786"
            ],
            [
             0.5555555555555556,
             "#d8576b"
            ],
            [
             0.6666666666666666,
             "#ed7953"
            ],
            [
             0.7777777777777778,
             "#fb9f3a"
            ],
            [
             0.8888888888888888,
             "#fdca26"
            ],
            [
             1,
             "#f0f921"
            ]
           ]
          },
          "colorway": [
           "#636efa",
           "#EF553B",
           "#00cc96",
           "#ab63fa",
           "#FFA15A",
           "#19d3f3",
           "#FF6692",
           "#B6E880",
           "#FF97FF",
           "#FECB52"
          ],
          "font": {
           "color": "#2a3f5f"
          },
          "geo": {
           "bgcolor": "white",
           "lakecolor": "white",
           "landcolor": "#E5ECF6",
           "showlakes": true,
           "showland": true,
           "subunitcolor": "white"
          },
          "hoverlabel": {
           "align": "left"
          },
          "hovermode": "closest",
          "mapbox": {
           "style": "light"
          },
          "paper_bgcolor": "white",
          "plot_bgcolor": "#E5ECF6",
          "polar": {
           "angularaxis": {
            "gridcolor": "white",
            "linecolor": "white",
            "ticks": ""
           },
           "bgcolor": "#E5ECF6",
           "radialaxis": {
            "gridcolor": "white",
            "linecolor": "white",
            "ticks": ""
           }
          },
          "scene": {
           "xaxis": {
            "backgroundcolor": "#E5ECF6",
            "gridcolor": "white",
            "gridwidth": 2,
            "linecolor": "white",
            "showbackground": true,
            "ticks": "",
            "zerolinecolor": "white"
           },
           "yaxis": {
            "backgroundcolor": "#E5ECF6",
            "gridcolor": "white",
            "gridwidth": 2,
            "linecolor": "white",
            "showbackground": true,
            "ticks": "",
            "zerolinecolor": "white"
           },
           "zaxis": {
            "backgroundcolor": "#E5ECF6",
            "gridcolor": "white",
            "gridwidth": 2,
            "linecolor": "white",
            "showbackground": true,
            "ticks": "",
            "zerolinecolor": "white"
           }
          },
          "shapedefaults": {
           "line": {
            "color": "#2a3f5f"
           }
          },
          "ternary": {
           "aaxis": {
            "gridcolor": "white",
            "linecolor": "white",
            "ticks": ""
           },
           "baxis": {
            "gridcolor": "white",
            "linecolor": "white",
            "ticks": ""
           },
           "bgcolor": "#E5ECF6",
           "caxis": {
            "gridcolor": "white",
            "linecolor": "white",
            "ticks": ""
           }
          },
          "title": {
           "x": 0.05
          },
          "xaxis": {
           "automargin": true,
           "gridcolor": "white",
           "linecolor": "white",
           "ticks": "",
           "title": {
            "standoff": 15
           },
           "zerolinecolor": "white",
           "zerolinewidth": 2
          },
          "yaxis": {
           "automargin": true,
           "gridcolor": "white",
           "linecolor": "white",
           "ticks": "",
           "title": {
            "standoff": 15
           },
           "zerolinecolor": "white",
           "zerolinewidth": 2
          }
         }
        },
        "title": {
         "text": "Train loss - (Architecture Encoder Loss)"
        },
        "xaxis": {
         "title": {
          "text": "Epochs"
         }
        },
        "yaxis": {
         "title": {
          "text": "Jaccard Loss"
         }
        }
       }
      }
     },
     "metadata": {},
     "output_type": "display_data"
    },
    {
     "data": {
      "application/vnd.plotly.v1+json": {
       "config": {
        "plotlyServerURL": "https://plot.ly"
       },
       "data": [
        {
         "hovertemplate": [
          "<b>DeepLabV3Plus mobilenet_v2 JaccardLoss False</b><br><br>Val loss: %{y:.3}<br>Epochs: %{x}<br><extra></extra>"
         ],
         "name": "DeepLabV3Plus mobilenet_v2 JaccardLoss False",
         "type": "scatter",
         "x": [
          1,
          2,
          3,
          4,
          5,
          6,
          7,
          8,
          9,
          10
         ],
         "y": [
          0.2619733523864012,
          0.1643761671506441,
          0.1433647882479887,
          0.1272651633391013,
          0.1161231696605682,
          0.1022293475958017,
          0.1024926522603401,
          0.0974192241063484,
          0.0907732317080864,
          0.0908165860634583
         ]
        },
        {
         "hovertemplate": [
          "<b>DeepLabV3Plus mobilenet_v2 JaccardLoss True</b><br><br>Val loss: %{y:.3}<br>Epochs: %{x}<br><extra></extra>"
         ],
         "name": "DeepLabV3Plus mobilenet_v2 JaccardLoss True",
         "type": "scatter",
         "x": [
          1,
          2,
          3,
          4,
          5,
          6,
          7,
          8,
          9,
          10
         ],
         "y": [
          0.2716748794684043,
          0.2002841715629283,
          0.1774922758340835,
          0.164432318164752,
          0.1445539513459572,
          0.1391531813603181,
          0.138813683619866,
          0.1240242513326498,
          0.1202811174667798,
          0.1194137449447925
         ]
        },
        {
         "hovertemplate": [
          "<b>DeepLabV3Plus resnet101 JaccardLoss False</b><br><br>Val loss: %{y:.3}<br>Epochs: %{x}<br><extra></extra>"
         ],
         "name": "DeepLabV3Plus resnet101 JaccardLoss False",
         "type": "scatter",
         "x": [
          1,
          2,
          3,
          4,
          5,
          6,
          7,
          8,
          9,
          10
         ],
         "y": [
          0.2186023432474869,
          0.1591933071613312,
          0.1376015016665825,
          0.1210023153286714,
          0.1076438553058184,
          0.1031961509814629,
          0.0891012159677652,
          0.090601161122322,
          0.0827675266907765,
          0.0830437013736137
         ]
        },
        {
         "hovertemplate": [
          "<b>DeepLabV3Plus resnet101 JaccardLoss True</b><br><br>Val loss: %{y:.3}<br>Epochs: %{x}<br><extra></extra>"
         ],
         "name": "DeepLabV3Plus resnet101 JaccardLoss True",
         "type": "scatter",
         "x": [
          1,
          2,
          3,
          4,
          5,
          6,
          7,
          8,
          9,
          10
         ],
         "y": [
          0.2880556652179131,
          0.19583871616767,
          0.1576153360880337,
          0.1470730327642881,
          0.1268218148213166,
          0.123040239398296,
          0.1147298262669489,
          0.111475265943087,
          0.1082994399162439,
          0.1031844180363875
         ]
        },
        {
         "hovertemplate": [
          "<b>FPN mobilenet_v2 JaccardLoss False</b><br><br>Val loss: %{y:.3}<br>Epochs: %{x}<br><extra></extra>"
         ],
         "name": "FPN mobilenet_v2 JaccardLoss False",
         "type": "scatter",
         "x": [
          1,
          2,
          3,
          4,
          5,
          6,
          7,
          8,
          9,
          10
         ],
         "y": [
          0.09998974777185,
          0.0884389556371248,
          0.0856815163905804,
          0.0958004456300001,
          0.084865955206064,
          0.0860845584135789,
          0.0831217399010291,
          0.0801365696466886,
          0.0778746845630498,
          0.0788966990434206
         ]
        },
        {
         "hovertemplate": [
          "<b>FPN mobilenet_v2 JaccardLoss True</b><br><br>Val loss: %{y:.3}<br>Epochs: %{x}<br><extra></extra>"
         ],
         "name": "FPN mobilenet_v2 JaccardLoss True",
         "type": "scatter",
         "x": [
          1,
          2,
          3,
          4,
          5,
          6,
          7,
          8,
          9,
          10
         ],
         "y": [
          0.127216148834962,
          0.1072359635279728,
          0.101139125915674,
          0.0992404669523239,
          0.0994461052692853,
          0.0989034657294933,
          0.0983928006428938,
          0.0989551532727021,
          0.0960275198404605,
          0.0931611794691819
         ]
        },
        {
         "hovertemplate": [
          "<b>FPN resnet101 JaccardLoss False</b><br><br>Val loss: %{y:.3}<br>Epochs: %{x}<br><extra></extra>"
         ],
         "name": "FPN resnet101 JaccardLoss False",
         "type": "scatter",
         "x": [
          1,
          2,
          3,
          4,
          5,
          6,
          7,
          8,
          9,
          10
         ],
         "y": [
          0.0990472653737434,
          0.0950195674712841,
          0.0957158414217141,
          0.0990942269563674,
          0.0887232743776761,
          0.0901306042304405,
          0.085780735199268,
          0.089740521632708,
          0.0782509973415961,
          0.0770982033931291
         ]
        },
        {
         "hovertemplate": [
          "<b>FPN resnet101 JaccardLoss True</b><br><br>Val loss: %{y:.3}<br>Epochs: %{x}<br><extra></extra>"
         ],
         "name": "FPN resnet101 JaccardLoss True",
         "type": "scatter",
         "x": [
          1,
          2,
          3,
          4,
          5,
          6,
          7,
          8,
          9,
          10
         ],
         "y": [
          0.123276466360459,
          0.1093428478791163,
          0.1078247313316051,
          0.1031083292686022,
          0.1022436802203838,
          0.0993807350213711,
          0.1014258815692021,
          0.1020702559214372,
          0.0982845918490336,
          0.0973288680498416
         ]
        },
        {
         "hovertemplate": [
          "<b>Linknet mobilenet_v2 JaccardLoss False</b><br><br>Val loss: %{y:.3}<br>Epochs: %{x}<br><extra></extra>"
         ],
         "name": "Linknet mobilenet_v2 JaccardLoss False",
         "type": "scatter",
         "x": [
          1,
          2,
          3,
          4,
          5,
          6,
          7,
          8,
          9,
          10
         ],
         "y": [
          0.701745691207739,
          0.6582391938337911,
          0.6235525917548399,
          0.5862908237255536,
          0.5523345573590351,
          0.5156140889112765,
          0.4828520634999643,
          0.4516677684508837,
          0.4584553642914846,
          0.4553226209603822
         ]
        },
        {
         "hovertemplate": [
          "<b>Linknet mobilenet_v2 JaccardLoss True</b><br><br>Val loss: %{y:.3}<br>Epochs: %{x}<br><extra></extra>"
         ],
         "name": "Linknet mobilenet_v2 JaccardLoss True",
         "type": "scatter",
         "x": [
          1,
          2,
          3,
          4,
          5,
          6,
          7,
          8,
          9,
          10
         ],
         "y": [
          0.7820220612562618,
          0.7381673122827824,
          0.6688705659829652,
          0.5756026506423951,
          0.4999072368328388,
          0.4373029653842634,
          0.3885632547048422,
          0.3446116802784111,
          0.3441249693815524,
          0.3383689843691312
         ]
        },
        {
         "hovertemplate": [
          "<b>Linknet resnet101 JaccardLoss False</b><br><br>Val loss: %{y:.3}<br>Epochs: %{x}<br><extra></extra>"
         ],
         "name": "Linknet resnet101 JaccardLoss False",
         "type": "scatter",
         "x": [
          1,
          2,
          3,
          4,
          5,
          6,
          7,
          8,
          9,
          10
         ],
         "y": [
          0.5333727586727874,
          0.4618639143613668,
          0.4162540332629129,
          0.3940503390935751,
          0.3651022876684481,
          0.3724146852126487,
          0.3378452131381401,
          0.316239799444492,
          0.3170314912612622,
          0.3167037940942324
         ]
        },
        {
         "hovertemplate": [
          "<b>Linknet resnet101 JaccardLoss True</b><br><br>Val loss: %{y:.3}<br>Epochs: %{x}<br><extra></extra>"
         ],
         "name": "Linknet resnet101 JaccardLoss True",
         "type": "scatter",
         "x": [
          1,
          2,
          3,
          4,
          5,
          6,
          7,
          8,
          9,
          10
         ],
         "y": [
          0.5522676488527886,
          0.4620092877974875,
          0.414532734797551,
          0.3598004889029723,
          0.3450895238381166,
          0.3294000247350105,
          0.3057811500934453,
          0.3002619216075311,
          0.2834152590769988,
          0.2801611285943251
         ]
        },
        {
         "hovertemplate": [
          "<b>MAnet mobilenet_v2 JaccardLoss False</b><br><br>Val loss: %{y:.3}<br>Epochs: %{x}<br><extra></extra>"
         ],
         "name": "MAnet mobilenet_v2 JaccardLoss False",
         "type": "scatter",
         "x": [
          1,
          2,
          3,
          4,
          5,
          6,
          7,
          8,
          9,
          10
         ],
         "y": [
          0.5607535231571932,
          0.4965153886721684,
          0.4648263339812939,
          0.4306304133855379,
          0.3956839912212813,
          0.3677585262518661,
          0.3355274991347239,
          0.3089426755905151,
          0.3054341375827789,
          0.3024767109980949
         ]
        },
        {
         "hovertemplate": [
          "<b>MAnet mobilenet_v2 JaccardLoss True</b><br><br>Val loss: %{y:.3}<br>Epochs: %{x}<br><extra></extra>"
         ],
         "name": "MAnet mobilenet_v2 JaccardLoss True",
         "type": "scatter",
         "x": [
          1,
          2,
          3,
          4,
          5,
          6,
          7,
          8,
          9,
          10
         ],
         "y": [
          0.4745499571928609,
          0.3566506310151174,
          0.3052920022836097,
          0.2756760017229961,
          0.2374720584887724,
          0.2193360443298633,
          0.1841354106481259,
          0.172134511745893,
          0.173052328137251,
          0.1679624215914653
         ]
        },
        {
         "hovertemplate": [
          "<b>MAnet resnet101 JaccardLoss False</b><br><br>Val loss: %{y:.3}<br>Epochs: %{x}<br><extra></extra>"
         ],
         "name": "MAnet resnet101 JaccardLoss False",
         "type": "scatter",
         "x": [
          1,
          2,
          3,
          4,
          5,
          6,
          7,
          8,
          9,
          10
         ],
         "y": [
          0.3488810818928938,
          0.3022156139978995,
          0.2458227987472827,
          0.2378466266852158,
          0.1855294704437255,
          0.174947555248554,
          0.1591477680664796,
          0.1481052488088607,
          0.1373033019212576,
          0.1383097779292326
         ]
        },
        {
         "hovertemplate": [
          "<b>MAnet resnet101 JaccardLoss True</b><br><br>Val loss: %{y:.3}<br>Epochs: %{x}<br><extra></extra>"
         ],
         "name": "MAnet resnet101 JaccardLoss True",
         "type": "scatter",
         "x": [
          1,
          2,
          3,
          4,
          5,
          6,
          7,
          8,
          9,
          10
         ],
         "y": [
          0.3382702630299787,
          0.283930106804921,
          0.2451686435020887,
          0.2147484123706818,
          0.183121260542136,
          0.171240162390929,
          0.1538226249126287,
          0.1436732583321058,
          0.144186998789127,
          0.1368986253555004
         ]
        },
        {
         "hovertemplate": [
          "<b>PAN mobilenet_v2 JaccardLoss False</b><br><br>Val loss: %{y:.3}<br>Epochs: %{x}<br><extra></extra>"
         ],
         "name": "PAN mobilenet_v2 JaccardLoss False",
         "type": "scatter",
         "x": [
          1,
          2,
          3,
          4,
          5,
          6,
          7,
          8,
          9,
          10
         ],
         "y": [
          0.6273576158743637,
          0.2270439633956321,
          0.1567516579077793,
          0.123526306106494,
          0.1106509898717587,
          0.1184303118632389,
          0.107853991480974,
          0.1007996545388148,
          0.1004573393326539,
          0.0995696645516615
         ]
        },
        {
         "hovertemplate": [
          "<b>PAN mobilenet_v2 JaccardLoss True</b><br><br>Val loss: %{y:.3}<br>Epochs: %{x}<br><extra></extra>"
         ],
         "name": "PAN mobilenet_v2 JaccardLoss True",
         "type": "scatter",
         "x": [
          1,
          2,
          3,
          4,
          5,
          6,
          7,
          8,
          9,
          10
         ],
         "y": [
          0.3714647281628389,
          0.2129601538181305,
          0.1982312741187902,
          0.1698272010454765,
          0.159321646277721,
          0.1444540906410951,
          0.1316448633487408,
          0.1345979135770064,
          0.1334521220280573,
          0.1374588505579875
         ]
        },
        {
         "hovertemplate": [
          "<b>PAN resnet101 JaccardLoss False</b><br><br>Val loss: %{y:.3}<br>Epochs: %{x}<br><extra></extra>"
         ],
         "name": "PAN resnet101 JaccardLoss False",
         "type": "scatter",
         "x": [
          1,
          2,
          3,
          4,
          5,
          6,
          7,
          8,
          9,
          10
         ],
         "y": [
          0.1685332185946978,
          0.1266511976718903,
          0.1189032873282065,
          0.102438469345753,
          0.0982125275410138,
          0.1198292684096556,
          0.0992552236868784,
          0.089467133467014,
          0.0904139727354049,
          0.0898308524718651
         ]
        },
        {
         "hovertemplate": [
          "<b>PAN resnet101 JaccardLoss True</b><br><br>Val loss: %{y:.3}<br>Epochs: %{x}<br><extra></extra>"
         ],
         "name": "PAN resnet101 JaccardLoss True",
         "type": "scatter",
         "x": [
          1,
          2,
          3,
          4,
          5,
          6,
          7,
          8,
          9,
          10
         ],
         "y": [
          0.1721861775104816,
          0.1336508519374407,
          0.1233162077573629,
          0.1180516114601722,
          0.111580348931826,
          0.1097482924277965,
          0.1080040232493327,
          0.1076569774976143,
          0.1061782023081412,
          0.1054594356280106
         ]
        },
        {
         "hovertemplate": [
          "<b>PSPNet mobilenet_v2 JaccardLoss False</b><br><br>Val loss: %{y:.3}<br>Epochs: %{x}<br><extra></extra>"
         ],
         "name": "PSPNet mobilenet_v2 JaccardLoss False",
         "type": "scatter",
         "x": [
          1,
          2,
          3,
          4,
          5,
          6,
          7,
          8,
          9,
          10
         ],
         "y": [
          0.1513743595435069,
          0.104585472207803,
          0.099324528987591,
          0.1011237960595351,
          0.1028116597579076,
          0.0933334277226374,
          0.0930452323876894,
          0.0917239166223086,
          0.0935921325133397,
          0.0926152421877934
         ]
        },
        {
         "hovertemplate": [
          "<b>PSPNet mobilenet_v2 JaccardLoss True</b><br><br>Val loss: %{y:.3}<br>Epochs: %{x}<br><extra></extra>"
         ],
         "name": "PSPNet mobilenet_v2 JaccardLoss True",
         "type": "scatter",
         "x": [
          1,
          2,
          3,
          4,
          5,
          6,
          7,
          8,
          9,
          10
         ],
         "y": [
          0.3286327754075711,
          0.2095037595583842,
          0.1779139809883558,
          0.1633316851579226,
          0.144258256141956,
          0.1346466770538917,
          0.1324757624130982,
          0.12380251288414,
          0.1295054394465226,
          0.1199478816527586
         ]
        },
        {
         "hovertemplate": [
          "<b>PSPNet resnet101 JaccardLoss False</b><br><br>Val loss: %{y:.3}<br>Epochs: %{x}<br><extra></extra>"
         ],
         "name": "PSPNet resnet101 JaccardLoss False",
         "type": "scatter",
         "x": [
          1,
          2,
          3,
          4,
          5,
          6,
          7,
          8,
          9,
          10
         ],
         "y": [
          0.1209781227203515,
          0.099198756309656,
          0.086644302193935,
          0.1438185756023113,
          0.0995900940436583,
          0.1180768712208821,
          0.1278553811403421,
          0.093904361128807,
          0.0964746681543496,
          0.0869434544673333
         ]
        },
        {
         "hovertemplate": [
          "<b>PSPNet resnet101 JaccardLoss True</b><br><br>Val loss: %{y:.3}<br>Epochs: %{x}<br><extra></extra>"
         ],
         "name": "PSPNet resnet101 JaccardLoss True",
         "type": "scatter",
         "x": [
          1,
          2,
          3,
          4,
          5,
          6,
          7,
          8,
          9,
          10
         ],
         "y": [
          0.2591738185057273,
          0.1288122752538094,
          0.1308978750155522,
          0.1147493009383861,
          0.1230069169631371,
          0.1070534460819684,
          0.1124315387927569,
          0.1111238667598137,
          0.1163795177753155,
          0.110978684746302
         ]
        },
        {
         "hovertemplate": [
          "<b>Unet mobilenet_v2 JaccardLoss False</b><br><br>Val loss: %{y:.3}<br>Epochs: %{x}<br><extra></extra>"
         ],
         "name": "Unet mobilenet_v2 JaccardLoss False",
         "type": "scatter",
         "x": [
          1,
          2,
          3,
          4,
          5,
          6,
          7,
          8,
          9,
          10
         ],
         "y": [
          0.3419945217095888,
          0.2848737698334914,
          0.2418131564672177,
          0.2115882600729282,
          0.1778771235392643,
          0.1601486171667392,
          0.1476338528669797,
          0.1432355309908206,
          0.133737543454537,
          0.1328265644036806
         ]
        },
        {
         "hovertemplate": [
          "<b>Unet mobilenet_v2 JaccardLoss True</b><br><br>Val loss: %{y:.3}<br>Epochs: %{x}<br><extra></extra>"
         ],
         "name": "Unet mobilenet_v2 JaccardLoss True",
         "type": "scatter",
         "x": [
          1,
          2,
          3,
          4,
          5,
          6,
          7,
          8,
          9,
          10
         ],
         "y": [
          0.3660349719799484,
          0.294043597120505,
          0.2606159013051252,
          0.2229280552038779,
          0.1865076067355963,
          0.1739841470351586,
          0.1591866772908431,
          0.1390455582967171,
          0.1337568014860153,
          0.129450261592865
         ]
        },
        {
         "hovertemplate": [
          "<b>Unet resnet101 JaccardLoss False</b><br><br>Val loss: %{y:.3}<br>Epochs: %{x}<br><extra></extra>"
         ],
         "name": "Unet resnet101 JaccardLoss False",
         "type": "scatter",
         "x": [
          1,
          2,
          3,
          4,
          5,
          6,
          7,
          8,
          9,
          10
         ],
         "y": [
          0.3952997177839278,
          0.3022533529079877,
          0.2361747175455093,
          0.2017417985659379,
          0.1798896216429197,
          0.1581190686959487,
          0.1412978860048147,
          0.1341685480796373,
          0.1274530669817557,
          0.1251732798723074
         ]
        },
        {
         "hovertemplate": [
          "<b>Unet resnet101 JaccardLoss True</b><br><br>Val loss: %{y:.3}<br>Epochs: %{x}<br><extra></extra>"
         ],
         "name": "Unet resnet101 JaccardLoss True",
         "type": "scatter",
         "x": [
          1,
          2,
          3,
          4,
          5,
          6,
          7,
          8,
          9,
          10
         ],
         "y": [
          0.471640442426388,
          0.4194454929003349,
          0.3759554876730993,
          0.3453873567856275,
          0.314163361604397,
          0.2871067615655752,
          0.2678785828443674,
          0.2465953196470554,
          0.2371963686667955,
          0.2410181623238783
         ]
        }
       ],
       "layout": {
        "font": {
         "size": 14
        },
        "legend": {
         "font": {
          "size": 16
         },
         "traceorder": "reversed",
         "y": 0.5
        },
        "template": {
         "data": {
          "bar": [
           {
            "error_x": {
             "color": "#2a3f5f"
            },
            "error_y": {
             "color": "#2a3f5f"
            },
            "marker": {
             "line": {
              "color": "#E5ECF6",
              "width": 0.5
             },
             "pattern": {
              "fillmode": "overlay",
              "size": 10,
              "solidity": 0.2
             }
            },
            "type": "bar"
           }
          ],
          "barpolar": [
           {
            "marker": {
             "line": {
              "color": "#E5ECF6",
              "width": 0.5
             },
             "pattern": {
              "fillmode": "overlay",
              "size": 10,
              "solidity": 0.2
             }
            },
            "type": "barpolar"
           }
          ],
          "carpet": [
           {
            "aaxis": {
             "endlinecolor": "#2a3f5f",
             "gridcolor": "white",
             "linecolor": "white",
             "minorgridcolor": "white",
             "startlinecolor": "#2a3f5f"
            },
            "baxis": {
             "endlinecolor": "#2a3f5f",
             "gridcolor": "white",
             "linecolor": "white",
             "minorgridcolor": "white",
             "startlinecolor": "#2a3f5f"
            },
            "type": "carpet"
           }
          ],
          "choropleth": [
           {
            "colorbar": {
             "outlinewidth": 0,
             "ticks": ""
            },
            "type": "choropleth"
           }
          ],
          "contour": [
           {
            "colorbar": {
             "outlinewidth": 0,
             "ticks": ""
            },
            "colorscale": [
             [
              0,
              "#0d0887"
             ],
             [
              0.1111111111111111,
              "#46039f"
             ],
             [
              0.2222222222222222,
              "#7201a8"
             ],
             [
              0.3333333333333333,
              "#9c179e"
             ],
             [
              0.4444444444444444,
              "#bd3786"
             ],
             [
              0.5555555555555556,
              "#d8576b"
             ],
             [
              0.6666666666666666,
              "#ed7953"
             ],
             [
              0.7777777777777778,
              "#fb9f3a"
             ],
             [
              0.8888888888888888,
              "#fdca26"
             ],
             [
              1,
              "#f0f921"
             ]
            ],
            "type": "contour"
           }
          ],
          "contourcarpet": [
           {
            "colorbar": {
             "outlinewidth": 0,
             "ticks": ""
            },
            "type": "contourcarpet"
           }
          ],
          "heatmap": [
           {
            "colorbar": {
             "outlinewidth": 0,
             "ticks": ""
            },
            "colorscale": [
             [
              0,
              "#0d0887"
             ],
             [
              0.1111111111111111,
              "#46039f"
             ],
             [
              0.2222222222222222,
              "#7201a8"
             ],
             [
              0.3333333333333333,
              "#9c179e"
             ],
             [
              0.4444444444444444,
              "#bd3786"
             ],
             [
              0.5555555555555556,
              "#d8576b"
             ],
             [
              0.6666666666666666,
              "#ed7953"
             ],
             [
              0.7777777777777778,
              "#fb9f3a"
             ],
             [
              0.8888888888888888,
              "#fdca26"
             ],
             [
              1,
              "#f0f921"
             ]
            ],
            "type": "heatmap"
           }
          ],
          "heatmapgl": [
           {
            "colorbar": {
             "outlinewidth": 0,
             "ticks": ""
            },
            "colorscale": [
             [
              0,
              "#0d0887"
             ],
             [
              0.1111111111111111,
              "#46039f"
             ],
             [
              0.2222222222222222,
              "#7201a8"
             ],
             [
              0.3333333333333333,
              "#9c179e"
             ],
             [
              0.4444444444444444,
              "#bd3786"
             ],
             [
              0.5555555555555556,
              "#d8576b"
             ],
             [
              0.6666666666666666,
              "#ed7953"
             ],
             [
              0.7777777777777778,
              "#fb9f3a"
             ],
             [
              0.8888888888888888,
              "#fdca26"
             ],
             [
              1,
              "#f0f921"
             ]
            ],
            "type": "heatmapgl"
           }
          ],
          "histogram": [
           {
            "marker": {
             "pattern": {
              "fillmode": "overlay",
              "size": 10,
              "solidity": 0.2
             }
            },
            "type": "histogram"
           }
          ],
          "histogram2d": [
           {
            "colorbar": {
             "outlinewidth": 0,
             "ticks": ""
            },
            "colorscale": [
             [
              0,
              "#0d0887"
             ],
             [
              0.1111111111111111,
              "#46039f"
             ],
             [
              0.2222222222222222,
              "#7201a8"
             ],
             [
              0.3333333333333333,
              "#9c179e"
             ],
             [
              0.4444444444444444,
              "#bd3786"
             ],
             [
              0.5555555555555556,
              "#d8576b"
             ],
             [
              0.6666666666666666,
              "#ed7953"
             ],
             [
              0.7777777777777778,
              "#fb9f3a"
             ],
             [
              0.8888888888888888,
              "#fdca26"
             ],
             [
              1,
              "#f0f921"
             ]
            ],
            "type": "histogram2d"
           }
          ],
          "histogram2dcontour": [
           {
            "colorbar": {
             "outlinewidth": 0,
             "ticks": ""
            },
            "colorscale": [
             [
              0,
              "#0d0887"
             ],
             [
              0.1111111111111111,
              "#46039f"
             ],
             [
              0.2222222222222222,
              "#7201a8"
             ],
             [
              0.3333333333333333,
              "#9c179e"
             ],
             [
              0.4444444444444444,
              "#bd3786"
             ],
             [
              0.5555555555555556,
              "#d8576b"
             ],
             [
              0.6666666666666666,
              "#ed7953"
             ],
             [
              0.7777777777777778,
              "#fb9f3a"
             ],
             [
              0.8888888888888888,
              "#fdca26"
             ],
             [
              1,
              "#f0f921"
             ]
            ],
            "type": "histogram2dcontour"
           }
          ],
          "mesh3d": [
           {
            "colorbar": {
             "outlinewidth": 0,
             "ticks": ""
            },
            "type": "mesh3d"
           }
          ],
          "parcoords": [
           {
            "line": {
             "colorbar": {
              "outlinewidth": 0,
              "ticks": ""
             }
            },
            "type": "parcoords"
           }
          ],
          "pie": [
           {
            "automargin": true,
            "type": "pie"
           }
          ],
          "scatter": [
           {
            "fillpattern": {
             "fillmode": "overlay",
             "size": 10,
             "solidity": 0.2
            },
            "type": "scatter"
           }
          ],
          "scatter3d": [
           {
            "line": {
             "colorbar": {
              "outlinewidth": 0,
              "ticks": ""
             }
            },
            "marker": {
             "colorbar": {
              "outlinewidth": 0,
              "ticks": ""
             }
            },
            "type": "scatter3d"
           }
          ],
          "scattercarpet": [
           {
            "marker": {
             "colorbar": {
              "outlinewidth": 0,
              "ticks": ""
             }
            },
            "type": "scattercarpet"
           }
          ],
          "scattergeo": [
           {
            "marker": {
             "colorbar": {
              "outlinewidth": 0,
              "ticks": ""
             }
            },
            "type": "scattergeo"
           }
          ],
          "scattergl": [
           {
            "marker": {
             "colorbar": {
              "outlinewidth": 0,
              "ticks": ""
             }
            },
            "type": "scattergl"
           }
          ],
          "scattermapbox": [
           {
            "marker": {
             "colorbar": {
              "outlinewidth": 0,
              "ticks": ""
             }
            },
            "type": "scattermapbox"
           }
          ],
          "scatterpolar": [
           {
            "marker": {
             "colorbar": {
              "outlinewidth": 0,
              "ticks": ""
             }
            },
            "type": "scatterpolar"
           }
          ],
          "scatterpolargl": [
           {
            "marker": {
             "colorbar": {
              "outlinewidth": 0,
              "ticks": ""
             }
            },
            "type": "scatterpolargl"
           }
          ],
          "scatterternary": [
           {
            "marker": {
             "colorbar": {
              "outlinewidth": 0,
              "ticks": ""
             }
            },
            "type": "scatterternary"
           }
          ],
          "surface": [
           {
            "colorbar": {
             "outlinewidth": 0,
             "ticks": ""
            },
            "colorscale": [
             [
              0,
              "#0d0887"
             ],
             [
              0.1111111111111111,
              "#46039f"
             ],
             [
              0.2222222222222222,
              "#7201a8"
             ],
             [
              0.3333333333333333,
              "#9c179e"
             ],
             [
              0.4444444444444444,
              "#bd3786"
             ],
             [
              0.5555555555555556,
              "#d8576b"
             ],
             [
              0.6666666666666666,
              "#ed7953"
             ],
             [
              0.7777777777777778,
              "#fb9f3a"
             ],
             [
              0.8888888888888888,
              "#fdca26"
             ],
             [
              1,
              "#f0f921"
             ]
            ],
            "type": "surface"
           }
          ],
          "table": [
           {
            "cells": {
             "fill": {
              "color": "#EBF0F8"
             },
             "line": {
              "color": "white"
             }
            },
            "header": {
             "fill": {
              "color": "#C8D4E3"
             },
             "line": {
              "color": "white"
             }
            },
            "type": "table"
           }
          ]
         },
         "layout": {
          "annotationdefaults": {
           "arrowcolor": "#2a3f5f",
           "arrowhead": 0,
           "arrowwidth": 1
          },
          "autotypenumbers": "strict",
          "coloraxis": {
           "colorbar": {
            "outlinewidth": 0,
            "ticks": ""
           }
          },
          "colorscale": {
           "diverging": [
            [
             0,
             "#8e0152"
            ],
            [
             0.1,
             "#c51b7d"
            ],
            [
             0.2,
             "#de77ae"
            ],
            [
             0.3,
             "#f1b6da"
            ],
            [
             0.4,
             "#fde0ef"
            ],
            [
             0.5,
             "#f7f7f7"
            ],
            [
             0.6,
             "#e6f5d0"
            ],
            [
             0.7,
             "#b8e186"
            ],
            [
             0.8,
             "#7fbc41"
            ],
            [
             0.9,
             "#4d9221"
            ],
            [
             1,
             "#276419"
            ]
           ],
           "sequential": [
            [
             0,
             "#0d0887"
            ],
            [
             0.1111111111111111,
             "#46039f"
            ],
            [
             0.2222222222222222,
             "#7201a8"
            ],
            [
             0.3333333333333333,
             "#9c179e"
            ],
            [
             0.4444444444444444,
             "#bd3786"
            ],
            [
             0.5555555555555556,
             "#d8576b"
            ],
            [
             0.6666666666666666,
             "#ed7953"
            ],
            [
             0.7777777777777778,
             "#fb9f3a"
            ],
            [
             0.8888888888888888,
             "#fdca26"
            ],
            [
             1,
             "#f0f921"
            ]
           ],
           "sequentialminus": [
            [
             0,
             "#0d0887"
            ],
            [
             0.1111111111111111,
             "#46039f"
            ],
            [
             0.2222222222222222,
             "#7201a8"
            ],
            [
             0.3333333333333333,
             "#9c179e"
            ],
            [
             0.4444444444444444,
             "#bd3786"
            ],
            [
             0.5555555555555556,
             "#d8576b"
            ],
            [
             0.6666666666666666,
             "#ed7953"
            ],
            [
             0.7777777777777778,
             "#fb9f3a"
            ],
            [
             0.8888888888888888,
             "#fdca26"
            ],
            [
             1,
             "#f0f921"
            ]
           ]
          },
          "colorway": [
           "#636efa",
           "#EF553B",
           "#00cc96",
           "#ab63fa",
           "#FFA15A",
           "#19d3f3",
           "#FF6692",
           "#B6E880",
           "#FF97FF",
           "#FECB52"
          ],
          "font": {
           "color": "#2a3f5f"
          },
          "geo": {
           "bgcolor": "white",
           "lakecolor": "white",
           "landcolor": "#E5ECF6",
           "showlakes": true,
           "showland": true,
           "subunitcolor": "white"
          },
          "hoverlabel": {
           "align": "left"
          },
          "hovermode": "closest",
          "mapbox": {
           "style": "light"
          },
          "paper_bgcolor": "white",
          "plot_bgcolor": "#E5ECF6",
          "polar": {
           "angularaxis": {
            "gridcolor": "white",
            "linecolor": "white",
            "ticks": ""
           },
           "bgcolor": "#E5ECF6",
           "radialaxis": {
            "gridcolor": "white",
            "linecolor": "white",
            "ticks": ""
           }
          },
          "scene": {
           "xaxis": {
            "backgroundcolor": "#E5ECF6",
            "gridcolor": "white",
            "gridwidth": 2,
            "linecolor": "white",
            "showbackground": true,
            "ticks": "",
            "zerolinecolor": "white"
           },
           "yaxis": {
            "backgroundcolor": "#E5ECF6",
            "gridcolor": "white",
            "gridwidth": 2,
            "linecolor": "white",
            "showbackground": true,
            "ticks": "",
            "zerolinecolor": "white"
           },
           "zaxis": {
            "backgroundcolor": "#E5ECF6",
            "gridcolor": "white",
            "gridwidth": 2,
            "linecolor": "white",
            "showbackground": true,
            "ticks": "",
            "zerolinecolor": "white"
           }
          },
          "shapedefaults": {
           "line": {
            "color": "#2a3f5f"
           }
          },
          "ternary": {
           "aaxis": {
            "gridcolor": "white",
            "linecolor": "white",
            "ticks": ""
           },
           "baxis": {
            "gridcolor": "white",
            "linecolor": "white",
            "ticks": ""
           },
           "bgcolor": "#E5ECF6",
           "caxis": {
            "gridcolor": "white",
            "linecolor": "white",
            "ticks": ""
           }
          },
          "title": {
           "x": 0.05
          },
          "xaxis": {
           "automargin": true,
           "gridcolor": "white",
           "linecolor": "white",
           "ticks": "",
           "title": {
            "standoff": 15
           },
           "zerolinecolor": "white",
           "zerolinewidth": 2
          },
          "yaxis": {
           "automargin": true,
           "gridcolor": "white",
           "linecolor": "white",
           "ticks": "",
           "title": {
            "standoff": 15
           },
           "zerolinecolor": "white",
           "zerolinewidth": 2
          }
         }
        },
        "title": {
         "text": "Val loss - (Architecture Encoder Loss)"
        },
        "xaxis": {
         "title": {
          "text": "Epochs"
         }
        },
        "yaxis": {
         "title": {
          "text": "Jaccard Loss"
         }
        }
       }
      }
     },
     "metadata": {},
     "output_type": "display_data"
    },
    {
     "data": {
      "application/vnd.plotly.v1+json": {
       "config": {
        "plotlyServerURL": "https://plot.ly"
       },
       "data": [
        {
         "hovertemplate": [
          "<b>DeepLabV3Plus mobilenet_v2 JaccardLoss False</b><br><br>Train IoU: %{y:.3}<br>Epochs: %{x}<br><extra></extra>"
         ],
         "name": "DeepLabV3Plus mobilenet_v2 JaccardLoss False",
         "type": "scatter",
         "x": [
          1,
          2,
          3,
          4,
          5,
          6,
          7,
          8,
          9,
          10
         ],
         "y": [
          0.7969670461920593,
          0.8875437883230355,
          0.9085669013170096,
          0.9159043121796387,
          0.9259783316117064,
          0.9284950620852984,
          0.9408917312438672,
          0.9418844821361392,
          0.9515497913727392,
          0.9562120689795568
         ]
        },
        {
         "hovertemplate": [
          "<b>DeepLabV3Plus mobilenet_v2 JaccardLoss True</b><br><br>Train IoU: %{y:.3}<br>Epochs: %{x}<br><extra></extra>"
         ],
         "name": "DeepLabV3Plus mobilenet_v2 JaccardLoss True",
         "type": "scatter",
         "x": [
          1,
          2,
          3,
          4,
          5,
          6,
          7,
          8,
          9,
          10
         ],
         "y": [
          0.7437273645057126,
          0.8568925364659385,
          0.874474591933764,
          0.8912182209583427,
          0.8998889212424936,
          0.9101757040390602,
          0.9104195500795658,
          0.9142656853565804,
          0.9197247200287306,
          0.9215763050776262
         ]
        },
        {
         "hovertemplate": [
          "<b>DeepLabV3Plus resnet101 JaccardLoss False</b><br><br>Train IoU: %{y:.3}<br>Epochs: %{x}<br><extra></extra>"
         ],
         "name": "DeepLabV3Plus resnet101 JaccardLoss False",
         "type": "scatter",
         "x": [
          1,
          2,
          3,
          4,
          5,
          6,
          7,
          8,
          9,
          10
         ],
         "y": [
          0.8142634114349048,
          0.8971589459822727,
          0.9178402859431048,
          0.9233971765408152,
          0.9285256140507188,
          0.9347850680351256,
          0.94168310211255,
          0.9451175813491528,
          0.9593393389995282,
          0.96612158876199
         ]
        },
        {
         "hovertemplate": [
          "<b>DeepLabV3Plus resnet101 JaccardLoss True</b><br><br>Train IoU: %{y:.3}<br>Epochs: %{x}<br><extra></extra>"
         ],
         "name": "DeepLabV3Plus resnet101 JaccardLoss True",
         "type": "scatter",
         "x": [
          1,
          2,
          3,
          4,
          5,
          6,
          7,
          8,
          9,
          10
         ],
         "y": [
          0.7675799856392237,
          0.8791618289855813,
          0.8936521915289072,
          0.9037718646801433,
          0.9107300295279572,
          0.9200664472121458,
          0.9254991710186006,
          0.9299174925455684,
          0.9386962755368308,
          0.9403997086561644
         ]
        },
        {
         "hovertemplate": [
          "<b>FPN mobilenet_v2 JaccardLoss False</b><br><br>Train IoU: %{y:.3}<br>Epochs: %{x}<br><extra></extra>"
         ],
         "name": "FPN mobilenet_v2 JaccardLoss False",
         "type": "scatter",
         "x": [
          1,
          2,
          3,
          4,
          5,
          6,
          7,
          8,
          9,
          10
         ],
         "y": [
          0.8441643878244438,
          0.9047916680574416,
          0.9169749858287666,
          0.9225958906687224,
          0.930706697014662,
          0.9351674673648982,
          0.939042152120517,
          0.9426155445667412,
          0.9493796355449236,
          0.9541527537199168
         ]
        },
        {
         "hovertemplate": [
          "<b>FPN mobilenet_v2 JaccardLoss True</b><br><br>Train IoU: %{y:.3}<br>Epochs: %{x}<br><extra></extra>"
         ],
         "name": "FPN mobilenet_v2 JaccardLoss True",
         "type": "scatter",
         "x": [
          1,
          2,
          3,
          4,
          5,
          6,
          7,
          8,
          9,
          10
         ],
         "y": [
          0.8340227793042477,
          0.8896831549130952,
          0.8933638448898609,
          0.8991507864915408,
          0.9045771681345424,
          0.9009488545931302,
          0.9084645085609876,
          0.9095688129846864,
          0.9178638653113292,
          0.9168222833138244
         ]
        },
        {
         "hovertemplate": [
          "<b>FPN resnet101 JaccardLoss False</b><br><br>Train IoU: %{y:.3}<br>Epochs: %{x}<br><extra></extra>"
         ],
         "name": "FPN resnet101 JaccardLoss False",
         "type": "scatter",
         "x": [
          1,
          2,
          3,
          4,
          5,
          6,
          7,
          8,
          9,
          10
         ],
         "y": [
          0.8648789204083956,
          0.9122176055724804,
          0.9175989146416004,
          0.92999578668521,
          0.9303569942712786,
          0.9412307750720242,
          0.939269660757138,
          0.945018343054331,
          0.9588417582787,
          0.9662445050019484
         ]
        },
        {
         "hovertemplate": [
          "<b>FPN resnet101 JaccardLoss True</b><br><br>Train IoU: %{y:.3}<br>Epochs: %{x}<br><extra></extra>"
         ],
         "name": "FPN resnet101 JaccardLoss True",
         "type": "scatter",
         "x": [
          1,
          2,
          3,
          4,
          5,
          6,
          7,
          8,
          9,
          10
         ],
         "y": [
          0.7878780628626163,
          0.8877143195042243,
          0.885936891803375,
          0.8939234809233592,
          0.8952159216770761,
          0.8994358124641272,
          0.9086929273146848,
          0.907811367740998,
          0.9129292792998828,
          0.9147656640181174
         ]
        },
        {
         "hovertemplate": [
          "<b>Linknet mobilenet_v2 JaccardLoss False</b><br><br>Train IoU: %{y:.3}<br>Epochs: %{x}<br><extra></extra>"
         ],
         "name": "Linknet mobilenet_v2 JaccardLoss False",
         "type": "scatter",
         "x": [
          1,
          2,
          3,
          4,
          5,
          6,
          7,
          8,
          9,
          10
         ],
         "y": [
          0.2984040127350734,
          0.3390589829247732,
          0.4079029777875312,
          0.4854771706920402,
          0.5812237193951241,
          0.7090073732229379,
          0.7984700031005418,
          0.8394784193772539,
          0.8578258454799651,
          0.8615035999279758
         ]
        },
        {
         "hovertemplate": [
          "<b>Linknet mobilenet_v2 JaccardLoss True</b><br><br>Train IoU: %{y:.3}<br>Epochs: %{x}<br><extra></extra>"
         ],
         "name": "Linknet mobilenet_v2 JaccardLoss True",
         "type": "scatter",
         "x": [
          1,
          2,
          3,
          4,
          5,
          6,
          7,
          8,
          9,
          10
         ],
         "y": [
          0.1309311736661654,
          0.2377102366433693,
          0.3715401392143506,
          0.5306695063526813,
          0.6868380984434715,
          0.7783603221178051,
          0.8272916067105073,
          0.8518456805210848,
          0.8652086957142903,
          0.8681892179525816
         ]
        },
        {
         "hovertemplate": [
          "<b>Linknet resnet101 JaccardLoss False</b><br><br>Train IoU: %{y:.3}<br>Epochs: %{x}<br><extra></extra>"
         ],
         "name": "Linknet resnet101 JaccardLoss False",
         "type": "scatter",
         "x": [
          1,
          2,
          3,
          4,
          5,
          6,
          7,
          8,
          9,
          10
         ],
         "y": [
          0.4885422094510152,
          0.8041947701802623,
          0.8633990746278031,
          0.8800984368874474,
          0.8884474142239646,
          0.8977819933341097,
          0.8965007674235564,
          0.9067214108430424,
          0.9223831571065464,
          0.9280889951265776
         ]
        },
        {
         "hovertemplate": [
          "<b>Linknet resnet101 JaccardLoss True</b><br><br>Train IoU: %{y:.3}<br>Epochs: %{x}<br><extra></extra>"
         ],
         "name": "Linknet resnet101 JaccardLoss True",
         "type": "scatter",
         "x": [
          1,
          2,
          3,
          4,
          5,
          6,
          7,
          8,
          9,
          10
         ],
         "y": [
          0.7317657800248036,
          0.8521886914968491,
          0.8696941229013297,
          0.8789093712201486,
          0.8787478758738588,
          0.889798472707088,
          0.8898093012663035,
          0.8922390846105723,
          0.902246919962076,
          0.9030526532576634
         ]
        },
        {
         "hovertemplate": [
          "<b>MAnet mobilenet_v2 JaccardLoss False</b><br><br>Train IoU: %{y:.3}<br>Epochs: %{x}<br><extra></extra>"
         ],
         "name": "MAnet mobilenet_v2 JaccardLoss False",
         "type": "scatter",
         "x": [
          1,
          2,
          3,
          4,
          5,
          6,
          7,
          8,
          9,
          10
         ],
         "y": [
          0.368250739115935,
          0.710292467704186,
          0.8568942592694211,
          0.8885559703295046,
          0.8959765090392187,
          0.9124660148070408,
          0.915017082140996,
          0.9232883499218868,
          0.9312264896356142,
          0.9391097231553152
         ]
        },
        {
         "hovertemplate": [
          "<b>MAnet mobilenet_v2 JaccardLoss True</b><br><br>Train IoU: %{y:.3}<br>Epochs: %{x}<br><extra></extra>"
         ],
         "name": "MAnet mobilenet_v2 JaccardLoss True",
         "type": "scatter",
         "x": [
          1,
          2,
          3,
          4,
          5,
          6,
          7,
          8,
          9,
          10
         ],
         "y": [
          0.5597822800851785,
          0.8469914702268746,
          0.8882587609382775,
          0.896065150315945,
          0.9059555633709984,
          0.9140929797521004,
          0.917215864245708,
          0.919935126717274,
          0.9257390315716082,
          0.9337329566478728
         ]
        },
        {
         "hovertemplate": [
          "<b>MAnet resnet101 JaccardLoss False</b><br><br>Train IoU: %{y:.3}<br>Epochs: %{x}<br><extra></extra>"
         ],
         "name": "MAnet resnet101 JaccardLoss False",
         "type": "scatter",
         "x": [
          1,
          2,
          3,
          4,
          5,
          6,
          7,
          8,
          9,
          10
         ],
         "y": [
          0.7418467777852826,
          0.8916688332190883,
          0.9035617170425562,
          0.914465329968012,
          0.9131675431361564,
          0.9148079386124244,
          0.9272222140660654,
          0.9278197781397746,
          0.9399789273738862,
          0.9485473862061136
         ]
        },
        {
         "hovertemplate": [
          "<b>MAnet resnet101 JaccardLoss True</b><br><br>Train IoU: %{y:.3}<br>Epochs: %{x}<br><extra></extra>"
         ],
         "name": "MAnet resnet101 JaccardLoss True",
         "type": "scatter",
         "x": [
          1,
          2,
          3,
          4,
          5,
          6,
          7,
          8,
          9,
          10
         ],
         "y": [
          0.792906283759154,
          0.8862833907971016,
          0.8975649304114857,
          0.9085177515561764,
          0.9078565858877622,
          0.9184362796636728,
          0.9129736904914564,
          0.9276227630101718,
          0.9360475310912498,
          0.9409942225768018
         ]
        },
        {
         "hovertemplate": [
          "<b>PAN mobilenet_v2 JaccardLoss False</b><br><br>Train IoU: %{y:.3}<br>Epochs: %{x}<br><extra></extra>"
         ],
         "name": "PAN mobilenet_v2 JaccardLoss False",
         "type": "scatter",
         "x": [
          1,
          2,
          3,
          4,
          5,
          6,
          7,
          8,
          9,
          10
         ],
         "y": [
          0.2945611345080229,
          0.6187019904072467,
          0.8687528096712556,
          0.8892740733348407,
          0.8921416745736049,
          0.9016385089892608,
          0.8973372624470638,
          0.8999976916955067,
          0.9029670976675472,
          0.9062317667099148
         ]
        },
        {
         "hovertemplate": [
          "<b>PAN mobilenet_v2 JaccardLoss True</b><br><br>Train IoU: %{y:.3}<br>Epochs: %{x}<br><extra></extra>"
         ],
         "name": "PAN mobilenet_v2 JaccardLoss True",
         "type": "scatter",
         "x": [
          1,
          2,
          3,
          4,
          5,
          6,
          7,
          8,
          9,
          10
         ],
         "y": [
          0.6047660808723704,
          0.8270874275610998,
          0.859882190823555,
          0.8711246997117997,
          0.8767742847020806,
          0.8839816657396462,
          0.8857351197646214,
          0.887875347183301,
          0.8871018920953456,
          0.891748343522732
         ]
        },
        {
         "hovertemplate": [
          "<b>PAN resnet101 JaccardLoss False</b><br><br>Train IoU: %{y:.3}<br>Epochs: %{x}<br><extra></extra>"
         ],
         "name": "PAN resnet101 JaccardLoss False",
         "type": "scatter",
         "x": [
          1,
          2,
          3,
          4,
          5,
          6,
          7,
          8,
          9,
          10
         ],
         "y": [
          0.7834968151381383,
          0.8891306003698934,
          0.8939031167672227,
          0.9035587505652352,
          0.8992926753484286,
          0.9074586010896242,
          0.9104529665066644,
          0.9136798404730284,
          0.921231951851111,
          0.9239267993431824
         ]
        },
        {
         "hovertemplate": [
          "<b>PAN resnet101 JaccardLoss True</b><br><br>Train IoU: %{y:.3}<br>Epochs: %{x}<br><extra></extra>"
         ],
         "name": "PAN resnet101 JaccardLoss True",
         "type": "scatter",
         "x": [
          1,
          2,
          3,
          4,
          5,
          6,
          7,
          8,
          9,
          10
         ],
         "y": [
          0.744807708148773,
          0.8842578530311584,
          0.8934755944288696,
          0.8943765679231056,
          0.8991400863115605,
          0.901750684930728,
          0.9055251341599684,
          0.9051445206770532,
          0.906000118989211,
          0.9066617500323516
         ]
        },
        {
         "hovertemplate": [
          "<b>PSPNet mobilenet_v2 JaccardLoss False</b><br><br>Train IoU: %{y:.3}<br>Epochs: %{x}<br><extra></extra>"
         ],
         "name": "PSPNet mobilenet_v2 JaccardLoss False",
         "type": "scatter",
         "x": [
          1,
          2,
          3,
          4,
          5,
          6,
          7,
          8,
          9,
          10
         ],
         "y": [
          0.701726822898938,
          0.8972135002796469,
          0.8944902362731787,
          0.900188046006056,
          0.903280768256921,
          0.9076206615337958,
          0.903495458456186,
          0.9077307238028598,
          0.909110657297648,
          0.90873967225735
         ]
        },
        {
         "hovertemplate": [
          "<b>PSPNet mobilenet_v2 JaccardLoss True</b><br><br>Train IoU: %{y:.3}<br>Epochs: %{x}<br><extra></extra>"
         ],
         "name": "PSPNet mobilenet_v2 JaccardLoss True",
         "type": "scatter",
         "x": [
          1,
          2,
          3,
          4,
          5,
          6,
          7,
          8,
          9,
          10
         ],
         "y": [
          0.5424062870442866,
          0.8354753588254633,
          0.8649513446367703,
          0.8771568788931918,
          0.8802896864139119,
          0.8846719826643283,
          0.8863081783056259,
          0.8918148496976265,
          0.8905546756891104,
          0.8921494564184775
         ]
        },
        {
         "hovertemplate": [
          "<b>PSPNet resnet101 JaccardLoss False</b><br><br>Train IoU: %{y:.3}<br>Epochs: %{x}<br><extra></extra>"
         ],
         "name": "PSPNet resnet101 JaccardLoss False",
         "type": "scatter",
         "x": [
          1,
          2,
          3,
          4,
          5,
          6,
          7,
          8,
          9,
          10
         ],
         "y": [
          0.8272280492461644,
          0.9002776535657737,
          0.9041284918785096,
          0.9111921305839832,
          0.9143428802490232,
          0.9155189429338162,
          0.9208584416371126,
          0.9225055861931584,
          0.928861576777238,
          0.9314316385067426
         ]
        },
        {
         "hovertemplate": [
          "<b>PSPNet resnet101 JaccardLoss True</b><br><br>Train IoU: %{y:.3}<br>Epochs: %{x}<br><extra></extra>"
         ],
         "name": "PSPNet resnet101 JaccardLoss True",
         "type": "scatter",
         "x": [
          1,
          2,
          3,
          4,
          5,
          6,
          7,
          8,
          9,
          10
         ],
         "y": [
          0.7892543467191548,
          0.8725186723929184,
          0.8902491376950191,
          0.8967069788621022,
          0.8993043956848292,
          0.9050630021553772,
          0.9117954018024296,
          0.9151791357077088,
          0.9164416709771522,
          0.917564612168532
         ]
        },
        {
         "hovertemplate": [
          "<b>Unet mobilenet_v2 JaccardLoss False</b><br><br>Train IoU: %{y:.3}<br>Epochs: %{x}<br><extra></extra>"
         ],
         "name": "Unet mobilenet_v2 JaccardLoss False",
         "type": "scatter",
         "x": [
          1,
          2,
          3,
          4,
          5,
          6,
          7,
          8,
          9,
          10
         ],
         "y": [
          0.7993708659823126,
          0.8934706724607029,
          0.9065189189635792,
          0.9104372262954712,
          0.921178894547316,
          0.9235433133748864,
          0.9337708560320048,
          0.9331426929969054,
          0.9442961582770716,
          0.9498962599497576
         ]
        },
        {
         "hovertemplate": [
          "<b>Unet mobilenet_v2 JaccardLoss True</b><br><br>Train IoU: %{y:.3}<br>Epochs: %{x}<br><extra></extra>"
         ],
         "name": "Unet mobilenet_v2 JaccardLoss True",
         "type": "scatter",
         "x": [
          1,
          2,
          3,
          4,
          5,
          6,
          7,
          8,
          9,
          10
         ],
         "y": [
          0.7089848569952523,
          0.8729220296327884,
          0.8897522183564992,
          0.9031034444387144,
          0.9047928292017716,
          0.9115867305260436,
          0.9152134255721018,
          0.9161419478746562,
          0.92401380951588,
          0.9290629361684506
         ]
        },
        {
         "hovertemplate": [
          "<b>Unet resnet101 JaccardLoss False</b><br><br>Train IoU: %{y:.3}<br>Epochs: %{x}<br><extra></extra>"
         ],
         "name": "Unet resnet101 JaccardLoss False",
         "type": "scatter",
         "x": [
          1,
          2,
          3,
          4,
          5,
          6,
          7,
          8,
          9,
          10
         ],
         "y": [
          0.8265201538228069,
          0.8942038267850874,
          0.9005323866238961,
          0.9165760656962028,
          0.9214174988178104,
          0.9218747042692624,
          0.9267475593548556,
          0.9284612662517108,
          0.94575720337721,
          0.954424161177415
         ]
        },
        {
         "hovertemplate": [
          "<b>Unet resnet101 JaccardLoss True</b><br><br>Train IoU: %{y:.3}<br>Epochs: %{x}<br><extra></extra>"
         ],
         "name": "Unet resnet101 JaccardLoss True",
         "type": "scatter",
         "x": [
          1,
          2,
          3,
          4,
          5,
          6,
          7,
          8,
          9,
          10
         ],
         "y": [
          0.6816636220766947,
          0.84114159987523,
          0.8643462554766581,
          0.8682243560369198,
          0.8840571779471179,
          0.8974285389368352,
          0.910121086698312,
          0.9153503764134188,
          0.9240374049315084,
          0.9276352593531976
         ]
        }
       ],
       "layout": {
        "font": {
         "size": 14
        },
        "legend": {
         "font": {
          "size": 16
         },
         "traceorder": "reversed",
         "y": 0.5
        },
        "template": {
         "data": {
          "bar": [
           {
            "error_x": {
             "color": "#2a3f5f"
            },
            "error_y": {
             "color": "#2a3f5f"
            },
            "marker": {
             "line": {
              "color": "#E5ECF6",
              "width": 0.5
             },
             "pattern": {
              "fillmode": "overlay",
              "size": 10,
              "solidity": 0.2
             }
            },
            "type": "bar"
           }
          ],
          "barpolar": [
           {
            "marker": {
             "line": {
              "color": "#E5ECF6",
              "width": 0.5
             },
             "pattern": {
              "fillmode": "overlay",
              "size": 10,
              "solidity": 0.2
             }
            },
            "type": "barpolar"
           }
          ],
          "carpet": [
           {
            "aaxis": {
             "endlinecolor": "#2a3f5f",
             "gridcolor": "white",
             "linecolor": "white",
             "minorgridcolor": "white",
             "startlinecolor": "#2a3f5f"
            },
            "baxis": {
             "endlinecolor": "#2a3f5f",
             "gridcolor": "white",
             "linecolor": "white",
             "minorgridcolor": "white",
             "startlinecolor": "#2a3f5f"
            },
            "type": "carpet"
           }
          ],
          "choropleth": [
           {
            "colorbar": {
             "outlinewidth": 0,
             "ticks": ""
            },
            "type": "choropleth"
           }
          ],
          "contour": [
           {
            "colorbar": {
             "outlinewidth": 0,
             "ticks": ""
            },
            "colorscale": [
             [
              0,
              "#0d0887"
             ],
             [
              0.1111111111111111,
              "#46039f"
             ],
             [
              0.2222222222222222,
              "#7201a8"
             ],
             [
              0.3333333333333333,
              "#9c179e"
             ],
             [
              0.4444444444444444,
              "#bd3786"
             ],
             [
              0.5555555555555556,
              "#d8576b"
             ],
             [
              0.6666666666666666,
              "#ed7953"
             ],
             [
              0.7777777777777778,
              "#fb9f3a"
             ],
             [
              0.8888888888888888,
              "#fdca26"
             ],
             [
              1,
              "#f0f921"
             ]
            ],
            "type": "contour"
           }
          ],
          "contourcarpet": [
           {
            "colorbar": {
             "outlinewidth": 0,
             "ticks": ""
            },
            "type": "contourcarpet"
           }
          ],
          "heatmap": [
           {
            "colorbar": {
             "outlinewidth": 0,
             "ticks": ""
            },
            "colorscale": [
             [
              0,
              "#0d0887"
             ],
             [
              0.1111111111111111,
              "#46039f"
             ],
             [
              0.2222222222222222,
              "#7201a8"
             ],
             [
              0.3333333333333333,
              "#9c179e"
             ],
             [
              0.4444444444444444,
              "#bd3786"
             ],
             [
              0.5555555555555556,
              "#d8576b"
             ],
             [
              0.6666666666666666,
              "#ed7953"
             ],
             [
              0.7777777777777778,
              "#fb9f3a"
             ],
             [
              0.8888888888888888,
              "#fdca26"
             ],
             [
              1,
              "#f0f921"
             ]
            ],
            "type": "heatmap"
           }
          ],
          "heatmapgl": [
           {
            "colorbar": {
             "outlinewidth": 0,
             "ticks": ""
            },
            "colorscale": [
             [
              0,
              "#0d0887"
             ],
             [
              0.1111111111111111,
              "#46039f"
             ],
             [
              0.2222222222222222,
              "#7201a8"
             ],
             [
              0.3333333333333333,
              "#9c179e"
             ],
             [
              0.4444444444444444,
              "#bd3786"
             ],
             [
              0.5555555555555556,
              "#d8576b"
             ],
             [
              0.6666666666666666,
              "#ed7953"
             ],
             [
              0.7777777777777778,
              "#fb9f3a"
             ],
             [
              0.8888888888888888,
              "#fdca26"
             ],
             [
              1,
              "#f0f921"
             ]
            ],
            "type": "heatmapgl"
           }
          ],
          "histogram": [
           {
            "marker": {
             "pattern": {
              "fillmode": "overlay",
              "size": 10,
              "solidity": 0.2
             }
            },
            "type": "histogram"
           }
          ],
          "histogram2d": [
           {
            "colorbar": {
             "outlinewidth": 0,
             "ticks": ""
            },
            "colorscale": [
             [
              0,
              "#0d0887"
             ],
             [
              0.1111111111111111,
              "#46039f"
             ],
             [
              0.2222222222222222,
              "#7201a8"
             ],
             [
              0.3333333333333333,
              "#9c179e"
             ],
             [
              0.4444444444444444,
              "#bd3786"
             ],
             [
              0.5555555555555556,
              "#d8576b"
             ],
             [
              0.6666666666666666,
              "#ed7953"
             ],
             [
              0.7777777777777778,
              "#fb9f3a"
             ],
             [
              0.8888888888888888,
              "#fdca26"
             ],
             [
              1,
              "#f0f921"
             ]
            ],
            "type": "histogram2d"
           }
          ],
          "histogram2dcontour": [
           {
            "colorbar": {
             "outlinewidth": 0,
             "ticks": ""
            },
            "colorscale": [
             [
              0,
              "#0d0887"
             ],
             [
              0.1111111111111111,
              "#46039f"
             ],
             [
              0.2222222222222222,
              "#7201a8"
             ],
             [
              0.3333333333333333,
              "#9c179e"
             ],
             [
              0.4444444444444444,
              "#bd3786"
             ],
             [
              0.5555555555555556,
              "#d8576b"
             ],
             [
              0.6666666666666666,
              "#ed7953"
             ],
             [
              0.7777777777777778,
              "#fb9f3a"
             ],
             [
              0.8888888888888888,
              "#fdca26"
             ],
             [
              1,
              "#f0f921"
             ]
            ],
            "type": "histogram2dcontour"
           }
          ],
          "mesh3d": [
           {
            "colorbar": {
             "outlinewidth": 0,
             "ticks": ""
            },
            "type": "mesh3d"
           }
          ],
          "parcoords": [
           {
            "line": {
             "colorbar": {
              "outlinewidth": 0,
              "ticks": ""
             }
            },
            "type": "parcoords"
           }
          ],
          "pie": [
           {
            "automargin": true,
            "type": "pie"
           }
          ],
          "scatter": [
           {
            "fillpattern": {
             "fillmode": "overlay",
             "size": 10,
             "solidity": 0.2
            },
            "type": "scatter"
           }
          ],
          "scatter3d": [
           {
            "line": {
             "colorbar": {
              "outlinewidth": 0,
              "ticks": ""
             }
            },
            "marker": {
             "colorbar": {
              "outlinewidth": 0,
              "ticks": ""
             }
            },
            "type": "scatter3d"
           }
          ],
          "scattercarpet": [
           {
            "marker": {
             "colorbar": {
              "outlinewidth": 0,
              "ticks": ""
             }
            },
            "type": "scattercarpet"
           }
          ],
          "scattergeo": [
           {
            "marker": {
             "colorbar": {
              "outlinewidth": 0,
              "ticks": ""
             }
            },
            "type": "scattergeo"
           }
          ],
          "scattergl": [
           {
            "marker": {
             "colorbar": {
              "outlinewidth": 0,
              "ticks": ""
             }
            },
            "type": "scattergl"
           }
          ],
          "scattermapbox": [
           {
            "marker": {
             "colorbar": {
              "outlinewidth": 0,
              "ticks": ""
             }
            },
            "type": "scattermapbox"
           }
          ],
          "scatterpolar": [
           {
            "marker": {
             "colorbar": {
              "outlinewidth": 0,
              "ticks": ""
             }
            },
            "type": "scatterpolar"
           }
          ],
          "scatterpolargl": [
           {
            "marker": {
             "colorbar": {
              "outlinewidth": 0,
              "ticks": ""
             }
            },
            "type": "scatterpolargl"
           }
          ],
          "scatterternary": [
           {
            "marker": {
             "colorbar": {
              "outlinewidth": 0,
              "ticks": ""
             }
            },
            "type": "scatterternary"
           }
          ],
          "surface": [
           {
            "colorbar": {
             "outlinewidth": 0,
             "ticks": ""
            },
            "colorscale": [
             [
              0,
              "#0d0887"
             ],
             [
              0.1111111111111111,
              "#46039f"
             ],
             [
              0.2222222222222222,
              "#7201a8"
             ],
             [
              0.3333333333333333,
              "#9c179e"
             ],
             [
              0.4444444444444444,
              "#bd3786"
             ],
             [
              0.5555555555555556,
              "#d8576b"
             ],
             [
              0.6666666666666666,
              "#ed7953"
             ],
             [
              0.7777777777777778,
              "#fb9f3a"
             ],
             [
              0.8888888888888888,
              "#fdca26"
             ],
             [
              1,
              "#f0f921"
             ]
            ],
            "type": "surface"
           }
          ],
          "table": [
           {
            "cells": {
             "fill": {
              "color": "#EBF0F8"
             },
             "line": {
              "color": "white"
             }
            },
            "header": {
             "fill": {
              "color": "#C8D4E3"
             },
             "line": {
              "color": "white"
             }
            },
            "type": "table"
           }
          ]
         },
         "layout": {
          "annotationdefaults": {
           "arrowcolor": "#2a3f5f",
           "arrowhead": 0,
           "arrowwidth": 1
          },
          "autotypenumbers": "strict",
          "coloraxis": {
           "colorbar": {
            "outlinewidth": 0,
            "ticks": ""
           }
          },
          "colorscale": {
           "diverging": [
            [
             0,
             "#8e0152"
            ],
            [
             0.1,
             "#c51b7d"
            ],
            [
             0.2,
             "#de77ae"
            ],
            [
             0.3,
             "#f1b6da"
            ],
            [
             0.4,
             "#fde0ef"
            ],
            [
             0.5,
             "#f7f7f7"
            ],
            [
             0.6,
             "#e6f5d0"
            ],
            [
             0.7,
             "#b8e186"
            ],
            [
             0.8,
             "#7fbc41"
            ],
            [
             0.9,
             "#4d9221"
            ],
            [
             1,
             "#276419"
            ]
           ],
           "sequential": [
            [
             0,
             "#0d0887"
            ],
            [
             0.1111111111111111,
             "#46039f"
            ],
            [
             0.2222222222222222,
             "#7201a8"
            ],
            [
             0.3333333333333333,
             "#9c179e"
            ],
            [
             0.4444444444444444,
             "#bd3786"
            ],
            [
             0.5555555555555556,
             "#d8576b"
            ],
            [
             0.6666666666666666,
             "#ed7953"
            ],
            [
             0.7777777777777778,
             "#fb9f3a"
            ],
            [
             0.8888888888888888,
             "#fdca26"
            ],
            [
             1,
             "#f0f921"
            ]
           ],
           "sequentialminus": [
            [
             0,
             "#0d0887"
            ],
            [
             0.1111111111111111,
             "#46039f"
            ],
            [
             0.2222222222222222,
             "#7201a8"
            ],
            [
             0.3333333333333333,
             "#9c179e"
            ],
            [
             0.4444444444444444,
             "#bd3786"
            ],
            [
             0.5555555555555556,
             "#d8576b"
            ],
            [
             0.6666666666666666,
             "#ed7953"
            ],
            [
             0.7777777777777778,
             "#fb9f3a"
            ],
            [
             0.8888888888888888,
             "#fdca26"
            ],
            [
             1,
             "#f0f921"
            ]
           ]
          },
          "colorway": [
           "#636efa",
           "#EF553B",
           "#00cc96",
           "#ab63fa",
           "#FFA15A",
           "#19d3f3",
           "#FF6692",
           "#B6E880",
           "#FF97FF",
           "#FECB52"
          ],
          "font": {
           "color": "#2a3f5f"
          },
          "geo": {
           "bgcolor": "white",
           "lakecolor": "white",
           "landcolor": "#E5ECF6",
           "showlakes": true,
           "showland": true,
           "subunitcolor": "white"
          },
          "hoverlabel": {
           "align": "left"
          },
          "hovermode": "closest",
          "mapbox": {
           "style": "light"
          },
          "paper_bgcolor": "white",
          "plot_bgcolor": "#E5ECF6",
          "polar": {
           "angularaxis": {
            "gridcolor": "white",
            "linecolor": "white",
            "ticks": ""
           },
           "bgcolor": "#E5ECF6",
           "radialaxis": {
            "gridcolor": "white",
            "linecolor": "white",
            "ticks": ""
           }
          },
          "scene": {
           "xaxis": {
            "backgroundcolor": "#E5ECF6",
            "gridcolor": "white",
            "gridwidth": 2,
            "linecolor": "white",
            "showbackground": true,
            "ticks": "",
            "zerolinecolor": "white"
           },
           "yaxis": {
            "backgroundcolor": "#E5ECF6",
            "gridcolor": "white",
            "gridwidth": 2,
            "linecolor": "white",
            "showbackground": true,
            "ticks": "",
            "zerolinecolor": "white"
           },
           "zaxis": {
            "backgroundcolor": "#E5ECF6",
            "gridcolor": "white",
            "gridwidth": 2,
            "linecolor": "white",
            "showbackground": true,
            "ticks": "",
            "zerolinecolor": "white"
           }
          },
          "shapedefaults": {
           "line": {
            "color": "#2a3f5f"
           }
          },
          "ternary": {
           "aaxis": {
            "gridcolor": "white",
            "linecolor": "white",
            "ticks": ""
           },
           "baxis": {
            "gridcolor": "white",
            "linecolor": "white",
            "ticks": ""
           },
           "bgcolor": "#E5ECF6",
           "caxis": {
            "gridcolor": "white",
            "linecolor": "white",
            "ticks": ""
           }
          },
          "title": {
           "x": 0.05
          },
          "xaxis": {
           "automargin": true,
           "gridcolor": "white",
           "linecolor": "white",
           "ticks": "",
           "title": {
            "standoff": 15
           },
           "zerolinecolor": "white",
           "zerolinewidth": 2
          },
          "yaxis": {
           "automargin": true,
           "gridcolor": "white",
           "linecolor": "white",
           "ticks": "",
           "title": {
            "standoff": 15
           },
           "zerolinecolor": "white",
           "zerolinewidth": 2
          }
         }
        },
        "title": {
         "text": "Train IoU - (Architecture Encoder Loss)"
        },
        "xaxis": {
         "title": {
          "text": "Epochs"
         }
        },
        "yaxis": {
         "title": {
          "text": "IoU"
         }
        }
       }
      }
     },
     "metadata": {},
     "output_type": "display_data"
    },
    {
     "data": {
      "application/vnd.plotly.v1+json": {
       "config": {
        "plotlyServerURL": "https://plot.ly"
       },
       "data": [
        {
         "hovertemplate": [
          "<b>DeepLabV3Plus mobilenet_v2 JaccardLoss False</b><br><br>Val IoU: %{y:.3}<br>Epochs: %{x}<br><extra></extra>"
         ],
         "name": "DeepLabV3Plus mobilenet_v2 JaccardLoss False",
         "type": "scatter",
         "x": [
          1,
          2,
          3,
          4,
          5,
          6,
          7,
          8,
          9,
          10
         ],
         "y": [
          0.8512251927302434,
          0.9168659288149612,
          0.9176187733044991,
          0.9200839480528464,
          0.9173437150625082,
          0.924970757502776,
          0.9205937431408808,
          0.9212525223310176,
          0.9284615482275302,
          0.928450006705064
         ]
        },
        {
         "hovertemplate": [
          "<b>DeepLabV3Plus mobilenet_v2 JaccardLoss True</b><br><br>Val IoU: %{y:.3}<br>Epochs: %{x}<br><extra></extra>"
         ],
         "name": "DeepLabV3Plus mobilenet_v2 JaccardLoss True",
         "type": "scatter",
         "x": [
          1,
          2,
          3,
          4,
          5,
          6,
          7,
          8,
          9,
          10
         ],
         "y": [
          0.8545885521631976,
          0.883716968389658,
          0.8844311581208154,
          0.8862882646230548,
          0.8930256527203781,
          0.8941457718610762,
          0.8877619917576132,
          0.8991254613949703,
          0.9006258031496636,
          0.8998938753054692
         ]
        },
        {
         "hovertemplate": [
          "<b>DeepLabV3Plus resnet101 JaccardLoss False</b><br><br>Val IoU: %{y:.3}<br>Epochs: %{x}<br><extra></extra>"
         ],
         "name": "DeepLabV3Plus resnet101 JaccardLoss False",
         "type": "scatter",
         "x": [
          1,
          2,
          3,
          4,
          5,
          6,
          7,
          8,
          9,
          10
         ],
         "y": [
          0.8858264432503626,
          0.9036027869352928,
          0.9022081803817016,
          0.9090633827906388,
          0.9190748689266351,
          0.9144003104705076,
          0.9271555290772364,
          0.921788051724434,
          0.9280143196766196,
          0.928601862146304
         ]
        },
        {
         "hovertemplate": [
          "<b>DeepLabV3Plus resnet101 JaccardLoss True</b><br><br>Val IoU: %{y:.3}<br>Epochs: %{x}<br><extra></extra>"
         ],
         "name": "DeepLabV3Plus resnet101 JaccardLoss True",
         "type": "scatter",
         "x": [
          1,
          2,
          3,
          4,
          5,
          6,
          7,
          8,
          9,
          10
         ],
         "y": [
          0.8792654447830639,
          0.8959752309780852,
          0.902756290940138,
          0.9009055346250534,
          0.9104121843209632,
          0.9086595716384742,
          0.908832516807776,
          0.9078197318774004,
          0.910666523071436,
          0.9141574089343733
         ]
        },
        {
         "hovertemplate": [
          "<b>FPN mobilenet_v2 JaccardLoss False</b><br><br>Val IoU: %{y:.3}<br>Epochs: %{x}<br><extra></extra>"
         ],
         "name": "FPN mobilenet_v2 JaccardLoss False",
         "type": "scatter",
         "x": [
          1,
          2,
          3,
          4,
          5,
          6,
          7,
          8,
          9,
          10
         ],
         "y": [
          0.901227465042701,
          0.912682328086633,
          0.9156312873730292,
          0.90522401034832,
          0.9160562111781194,
          0.9148706449912144,
          0.917666509747505,
          0.9206383595099816,
          0.9229397166233796,
          0.9218933226970524
         ]
        },
        {
         "hovertemplate": [
          "<b>FPN mobilenet_v2 JaccardLoss True</b><br><br>Val IoU: %{y:.3}<br>Epochs: %{x}<br><extra></extra>"
         ],
         "name": "FPN mobilenet_v2 JaccardLoss True",
         "type": "scatter",
         "x": [
          1,
          2,
          3,
          4,
          5,
          6,
          7,
          8,
          9,
          10
         ],
         "y": [
          0.8786293440140212,
          0.8964389379207905,
          0.9029606936069638,
          0.905597753249682,
          0.9043925748421598,
          0.9047711182099122,
          0.9047035723924638,
          0.9053940795935116,
          0.9077138396409842,
          0.9100057242008354
         ]
        },
        {
         "hovertemplate": [
          "<b>FPN resnet101 JaccardLoss False</b><br><br>Val IoU: %{y:.3}<br>Epochs: %{x}<br><extra></extra>"
         ],
         "name": "FPN resnet101 JaccardLoss False",
         "type": "scatter",
         "x": [
          1,
          2,
          3,
          4,
          5,
          6,
          7,
          8,
          9,
          10
         ],
         "y": [
          0.9021715819835664,
          0.9059885958066352,
          0.9048454211308404,
          0.9017468759646784,
          0.912036061286926,
          0.9103695188577358,
          0.9147449628664898,
          0.9108387610087028,
          0.9222169896731012,
          0.9233515503314824
         ]
        },
        {
         "hovertemplate": [
          "<b>FPN resnet101 JaccardLoss True</b><br><br>Val IoU: %{y:.3}<br>Epochs: %{x}<br><extra></extra>"
         ],
         "name": "FPN resnet101 JaccardLoss True",
         "type": "scatter",
         "x": [
          1,
          2,
          3,
          4,
          5,
          6,
          7,
          8,
          9,
          10
         ],
         "y": [
          0.8809884912692585,
          0.893924647798905,
          0.8946386483999398,
          0.8991399705410003,
          0.899962088236442,
          0.9029288910902462,
          0.9010084271430968,
          0.900462515079058,
          0.9039187557422196,
          0.9048635088480436
         ]
        },
        {
         "hovertemplate": [
          "<b>Linknet mobilenet_v2 JaccardLoss False</b><br><br>Val IoU: %{y:.3}<br>Epochs: %{x}<br><extra></extra>"
         ],
         "name": "Linknet mobilenet_v2 JaccardLoss False",
         "type": "scatter",
         "x": [
          1,
          2,
          3,
          4,
          5,
          6,
          7,
          8,
          9,
          10
         ],
         "y": [
          0.3192183530101409,
          0.3959006271683253,
          0.4745657822260489,
          0.5856324222225411,
          0.7096645419414228,
          0.8095597395530114,
          0.840024450650582,
          0.8662761507126001,
          0.86348518041464,
          0.8688184435550982
         ]
        },
        {
         "hovertemplate": [
          "<b>Linknet mobilenet_v2 JaccardLoss True</b><br><br>Val IoU: %{y:.3}<br>Epochs: %{x}<br><extra></extra>"
         ],
         "name": "Linknet mobilenet_v2 JaccardLoss True",
         "type": "scatter",
         "x": [
          1,
          2,
          3,
          4,
          5,
          6,
          7,
          8,
          9,
          10
         ],
         "y": [
          0.213445120706008,
          0.3234209736379292,
          0.4755152074190286,
          0.6585036882987388,
          0.7743989790861424,
          0.8225518533816704,
          0.8454673806062111,
          0.8644293879087154,
          0.8697697967290877,
          0.8690552871960857
         ]
        },
        {
         "hovertemplate": [
          "<b>Linknet resnet101 JaccardLoss False</b><br><br>Val IoU: %{y:.3}<br>Epochs: %{x}<br><extra></extra>"
         ],
         "name": "Linknet resnet101 JaccardLoss False",
         "type": "scatter",
         "x": [
          1,
          2,
          3,
          4,
          5,
          6,
          7,
          8,
          9,
          10
         ],
         "y": [
          0.6941188539449985,
          0.8431921933705993,
          0.8692304812944853,
          0.8948219280976515,
          0.8846516242394079,
          0.8483996952955539,
          0.8905204098958234,
          0.9015161440922664,
          0.9108595699071882,
          0.9103709894877212
         ]
        },
        {
         "hovertemplate": [
          "<b>Linknet resnet101 JaccardLoss True</b><br><br>Val IoU: %{y:.3}<br>Epochs: %{x}<br><extra></extra>"
         ],
         "name": "Linknet resnet101 JaccardLoss True",
         "type": "scatter",
         "x": [
          1,
          2,
          3,
          4,
          5,
          6,
          7,
          8,
          9,
          10
         ],
         "y": [
          0.8064996405289723,
          0.8655867301500764,
          0.8839067117525982,
          0.8708645518009478,
          0.8760509617053545,
          0.8919280503804868,
          0.8836172039692219,
          0.8810337862143152,
          0.8955092292565568,
          0.8981707256573896
         ]
        },
        {
         "hovertemplate": [
          "<b>MAnet mobilenet_v2 JaccardLoss False</b><br><br>Val IoU: %{y:.3}<br>Epochs: %{x}<br><extra></extra>"
         ],
         "name": "MAnet mobilenet_v2 JaccardLoss False",
         "type": "scatter",
         "x": [
          1,
          2,
          3,
          4,
          5,
          6,
          7,
          8,
          9,
          10
         ],
         "y": [
          0.5569327714351507,
          0.8104507120756003,
          0.8927627985294049,
          0.899649379345087,
          0.8997778250620915,
          0.8948582273263199,
          0.9149421900510788,
          0.9132172763347624,
          0.9160232154222636,
          0.9183843009746993
         ]
        },
        {
         "hovertemplate": [
          "<b>MAnet mobilenet_v2 JaccardLoss True</b><br><br>Val IoU: %{y:.3}<br>Epochs: %{x}<br><extra></extra>"
         ],
         "name": "MAnet mobilenet_v2 JaccardLoss True",
         "type": "scatter",
         "x": [
          1,
          2,
          3,
          4,
          5,
          6,
          7,
          8,
          9,
          10
         ],
         "y": [
          0.7327226205514028,
          0.8749550787302165,
          0.8961453884840012,
          0.8912753978600868,
          0.912600827904848,
          0.900817540975717,
          0.9039710886203328,
          0.9104349200542156,
          0.9169627519754264,
          0.9151453158030144
         ]
        },
        {
         "hovertemplate": [
          "<b>MAnet resnet101 JaccardLoss False</b><br><br>Val IoU: %{y:.3}<br>Epochs: %{x}<br><extra></extra>"
         ],
         "name": "MAnet resnet101 JaccardLoss False",
         "type": "scatter",
         "x": [
          1,
          2,
          3,
          4,
          5,
          6,
          7,
          8,
          9,
          10
         ],
         "y": [
          0.8611825887973492,
          0.8700869576289108,
          0.912952441435594,
          0.8779517675821598,
          0.9155864749963464,
          0.9016900326196966,
          0.9103520890841116,
          0.9026866383277452,
          0.9207574472977564,
          0.9181832052194154
         ]
        },
        {
         "hovertemplate": [
          "<b>MAnet resnet101 JaccardLoss True</b><br><br>Val IoU: %{y:.3}<br>Epochs: %{x}<br><extra></extra>"
         ],
         "name": "MAnet resnet101 JaccardLoss True",
         "type": "scatter",
         "x": [
          1,
          2,
          3,
          4,
          5,
          6,
          7,
          8,
          9,
          10
         ],
         "y": [
          0.8639803368311663,
          0.8870517164468765,
          0.8927280765313368,
          0.8866003568355854,
          0.902309259543052,
          0.8994543770184882,
          0.9003293583026298,
          0.9046101982776936,
          0.9075388896923798,
          0.9098115081970508
         ]
        },
        {
         "hovertemplate": [
          "<b>PAN mobilenet_v2 JaccardLoss False</b><br><br>Val IoU: %{y:.3}<br>Epochs: %{x}<br><extra></extra>"
         ],
         "name": "PAN mobilenet_v2 JaccardLoss False",
         "type": "scatter",
         "x": [
          1,
          2,
          3,
          4,
          5,
          6,
          7,
          8,
          9,
          10
         ],
         "y": [
          0.3643465695472864,
          0.8376052173284383,
          0.8840407591599684,
          0.902887327166704,
          0.90325881426151,
          0.8966813683509827,
          0.9036951030676182,
          0.909493015362666,
          0.9088322944366016,
          0.9093811695392316
         ]
        },
        {
         "hovertemplate": [
          "<b>PAN mobilenet_v2 JaccardLoss True</b><br><br>Val IoU: %{y:.3}<br>Epochs: %{x}<br><extra></extra>"
         ],
         "name": "PAN mobilenet_v2 JaccardLoss True",
         "type": "scatter",
         "x": [
          1,
          2,
          3,
          4,
          5,
          6,
          7,
          8,
          9,
          10
         ],
         "y": [
          0.7837790170541178,
          0.8528339003141111,
          0.8650152201835927,
          0.8784464173592055,
          0.8727297083689618,
          0.8811379441848168,
          0.8877176779967086,
          0.8880325028529535,
          0.8848603505354662,
          0.8826185224147944
         ]
        },
        {
         "hovertemplate": [
          "<b>PAN resnet101 JaccardLoss False</b><br><br>Val IoU: %{y:.3}<br>Epochs: %{x}<br><extra></extra>"
         ],
         "name": "PAN resnet101 JaccardLoss False",
         "type": "scatter",
         "x": [
          1,
          2,
          3,
          4,
          5,
          6,
          7,
          8,
          9,
          10
         ],
         "y": [
          0.8844145708359206,
          0.9023949905083728,
          0.90404841533074,
          0.9102536692069128,
          0.9119314379416982,
          0.8920624301983759,
          0.9096109614922449,
          0.9167445095685812,
          0.9172270802351146,
          0.9175007515228712
         ]
        },
        {
         "hovertemplate": [
          "<b>PAN resnet101 JaccardLoss True</b><br><br>Val IoU: %{y:.3}<br>Epochs: %{x}<br><extra></extra>"
         ],
         "name": "PAN resnet101 JaccardLoss True",
         "type": "scatter",
         "x": [
          1,
          2,
          3,
          4,
          5,
          6,
          7,
          8,
          9,
          10
         ],
         "y": [
          0.879937606362196,
          0.8925231569088422,
          0.8969242148674451,
          0.9000165554193349,
          0.9020756689401772,
          0.904410569713666,
          0.9049729624619852,
          0.9049496146348808,
          0.904748649551318,
          0.9056508827667968
         ]
        },
        {
         "hovertemplate": [
          "<b>PSPNet mobilenet_v2 JaccardLoss False</b><br><br>Val IoU: %{y:.3}<br>Epochs: %{x}<br><extra></extra>"
         ],
         "name": "PSPNet mobilenet_v2 JaccardLoss False",
         "type": "scatter",
         "x": [
          1,
          2,
          3,
          4,
          5,
          6,
          7,
          8,
          9,
          10
         ],
         "y": [
          0.8847267192143659,
          0.906290468115073,
          0.9073985929672534,
          0.9033968666425116,
          0.9010567733874688,
          0.9102659294238458,
          0.9103433180313846,
          0.9114411610823412,
          0.9095188195888814,
          0.911035344004631
         ]
        },
        {
         "hovertemplate": [
          "<b>PSPNet mobilenet_v2 JaccardLoss True</b><br><br>Val IoU: %{y:.3}<br>Epochs: %{x}<br><extra></extra>"
         ],
         "name": "PSPNet mobilenet_v2 JaccardLoss True",
         "type": "scatter",
         "x": [
          1,
          2,
          3,
          4,
          5,
          6,
          7,
          8,
          9,
          10
         ],
         "y": [
          0.8187604684096117,
          0.8469910827966836,
          0.8579240842507436,
          0.8601449957260716,
          0.8759422944142264,
          0.8823703000178703,
          0.8817272828175471,
          0.8896652838358511,
          0.882450596644328,
          0.8937923587285554
         ]
        },
        {
         "hovertemplate": [
          "<b>PSPNet resnet101 JaccardLoss False</b><br><br>Val IoU: %{y:.3}<br>Epochs: %{x}<br><extra></extra>"
         ],
         "name": "PSPNet resnet101 JaccardLoss False",
         "type": "scatter",
         "x": [
          1,
          2,
          3,
          4,
          5,
          6,
          7,
          8,
          9,
          10
         ],
         "y": [
          0.8947829672923455,
          0.9087022818051852,
          0.9193412993962948,
          0.860540236418064,
          0.9064503965469506,
          0.8920869460472693,
          0.8783010038045737,
          0.9127538146880958,
          0.910763986981832,
          0.9218922910782008
         ]
        },
        {
         "hovertemplate": [
          "<b>PSPNet resnet101 JaccardLoss True</b><br><br>Val IoU: %{y:.3}<br>Epochs: %{x}<br><extra></extra>"
         ],
         "name": "PSPNet resnet101 JaccardLoss True",
         "type": "scatter",
         "x": [
          1,
          2,
          3,
          4,
          5,
          6,
          7,
          8,
          9,
          10
         ],
         "y": [
          0.7833735874065982,
          0.8980567581378496,
          0.8898338113839808,
          0.9024392228860124,
          0.8939935908867764,
          0.9080208677511952,
          0.9024170350569946,
          0.9017300857947425,
          0.8968836871477275,
          0.9028064035452328
         ]
        },
        {
         "hovertemplate": [
          "<b>Unet mobilenet_v2 JaccardLoss False</b><br><br>Val IoU: %{y:.3}<br>Epochs: %{x}<br><extra></extra>"
         ],
         "name": "Unet mobilenet_v2 JaccardLoss False",
         "type": "scatter",
         "x": [
          1,
          2,
          3,
          4,
          5,
          6,
          7,
          8,
          9,
          10
         ],
         "y": [
          0.9021220998122144,
          0.9032455591055064,
          0.9061561341469104,
          0.9038801720509164,
          0.9166101526755552,
          0.9143759654118464,
          0.9170702019563088,
          0.9083258830584016,
          0.9182783307937477,
          0.9190493042652425
         ]
        },
        {
         "hovertemplate": [
          "<b>Unet mobilenet_v2 JaccardLoss True</b><br><br>Val IoU: %{y:.3}<br>Epochs: %{x}<br><extra></extra>"
         ],
         "name": "Unet mobilenet_v2 JaccardLoss True",
         "type": "scatter",
         "x": [
          1,
          2,
          3,
          4,
          5,
          6,
          7,
          8,
          9,
          10
         ],
         "y": [
          0.8588243413429991,
          0.8862420263198704,
          0.8700038481217165,
          0.8886871888087345,
          0.8976381329389719,
          0.8967379446213062,
          0.8920553360994048,
          0.9073056521324012,
          0.9113430094260436,
          0.9115345500982724
         ]
        },
        {
         "hovertemplate": [
          "<b>Unet resnet101 JaccardLoss False</b><br><br>Val IoU: %{y:.3}<br>Epochs: %{x}<br><extra></extra>"
         ],
         "name": "Unet resnet101 JaccardLoss False",
         "type": "scatter",
         "x": [
          1,
          2,
          3,
          4,
          5,
          6,
          7,
          8,
          9,
          10
         ],
         "y": [
          0.9000082233777413,
          0.9011758932700524,
          0.9003321035550191,
          0.9072877088418374,
          0.9085839746090082,
          0.909066406580118,
          0.9127368881152228,
          0.9112642785677542,
          0.918734305180036,
          0.9197011498304516
         ]
        },
        {
         "hovertemplate": [
          "<b>Unet resnet101 JaccardLoss True</b><br><br>Val IoU: %{y:.3}<br>Epochs: %{x}<br><extra></extra>"
         ],
         "name": "Unet resnet101 JaccardLoss True",
         "type": "scatter",
         "x": [
          1,
          2,
          3,
          4,
          5,
          6,
          7,
          8,
          9,
          10
         ],
         "y": [
          0.8325251363790952,
          0.8459814729598852,
          0.8813895468528454,
          0.8905109946544355,
          0.8931300330620546,
          0.8966189920902253,
          0.884200993638772,
          0.8980799947793666,
          0.9073506398842884,
          0.9065246570568818
         ]
        }
       ],
       "layout": {
        "font": {
         "size": 14
        },
        "legend": {
         "font": {
          "size": 16
         },
         "traceorder": "reversed",
         "y": 0.5
        },
        "template": {
         "data": {
          "bar": [
           {
            "error_x": {
             "color": "#2a3f5f"
            },
            "error_y": {
             "color": "#2a3f5f"
            },
            "marker": {
             "line": {
              "color": "#E5ECF6",
              "width": 0.5
             },
             "pattern": {
              "fillmode": "overlay",
              "size": 10,
              "solidity": 0.2
             }
            },
            "type": "bar"
           }
          ],
          "barpolar": [
           {
            "marker": {
             "line": {
              "color": "#E5ECF6",
              "width": 0.5
             },
             "pattern": {
              "fillmode": "overlay",
              "size": 10,
              "solidity": 0.2
             }
            },
            "type": "barpolar"
           }
          ],
          "carpet": [
           {
            "aaxis": {
             "endlinecolor": "#2a3f5f",
             "gridcolor": "white",
             "linecolor": "white",
             "minorgridcolor": "white",
             "startlinecolor": "#2a3f5f"
            },
            "baxis": {
             "endlinecolor": "#2a3f5f",
             "gridcolor": "white",
             "linecolor": "white",
             "minorgridcolor": "white",
             "startlinecolor": "#2a3f5f"
            },
            "type": "carpet"
           }
          ],
          "choropleth": [
           {
            "colorbar": {
             "outlinewidth": 0,
             "ticks": ""
            },
            "type": "choropleth"
           }
          ],
          "contour": [
           {
            "colorbar": {
             "outlinewidth": 0,
             "ticks": ""
            },
            "colorscale": [
             [
              0,
              "#0d0887"
             ],
             [
              0.1111111111111111,
              "#46039f"
             ],
             [
              0.2222222222222222,
              "#7201a8"
             ],
             [
              0.3333333333333333,
              "#9c179e"
             ],
             [
              0.4444444444444444,
              "#bd3786"
             ],
             [
              0.5555555555555556,
              "#d8576b"
             ],
             [
              0.6666666666666666,
              "#ed7953"
             ],
             [
              0.7777777777777778,
              "#fb9f3a"
             ],
             [
              0.8888888888888888,
              "#fdca26"
             ],
             [
              1,
              "#f0f921"
             ]
            ],
            "type": "contour"
           }
          ],
          "contourcarpet": [
           {
            "colorbar": {
             "outlinewidth": 0,
             "ticks": ""
            },
            "type": "contourcarpet"
           }
          ],
          "heatmap": [
           {
            "colorbar": {
             "outlinewidth": 0,
             "ticks": ""
            },
            "colorscale": [
             [
              0,
              "#0d0887"
             ],
             [
              0.1111111111111111,
              "#46039f"
             ],
             [
              0.2222222222222222,
              "#7201a8"
             ],
             [
              0.3333333333333333,
              "#9c179e"
             ],
             [
              0.4444444444444444,
              "#bd3786"
             ],
             [
              0.5555555555555556,
              "#d8576b"
             ],
             [
              0.6666666666666666,
              "#ed7953"
             ],
             [
              0.7777777777777778,
              "#fb9f3a"
             ],
             [
              0.8888888888888888,
              "#fdca26"
             ],
             [
              1,
              "#f0f921"
             ]
            ],
            "type": "heatmap"
           }
          ],
          "heatmapgl": [
           {
            "colorbar": {
             "outlinewidth": 0,
             "ticks": ""
            },
            "colorscale": [
             [
              0,
              "#0d0887"
             ],
             [
              0.1111111111111111,
              "#46039f"
             ],
             [
              0.2222222222222222,
              "#7201a8"
             ],
             [
              0.3333333333333333,
              "#9c179e"
             ],
             [
              0.4444444444444444,
              "#bd3786"
             ],
             [
              0.5555555555555556,
              "#d8576b"
             ],
             [
              0.6666666666666666,
              "#ed7953"
             ],
             [
              0.7777777777777778,
              "#fb9f3a"
             ],
             [
              0.8888888888888888,
              "#fdca26"
             ],
             [
              1,
              "#f0f921"
             ]
            ],
            "type": "heatmapgl"
           }
          ],
          "histogram": [
           {
            "marker": {
             "pattern": {
              "fillmode": "overlay",
              "size": 10,
              "solidity": 0.2
             }
            },
            "type": "histogram"
           }
          ],
          "histogram2d": [
           {
            "colorbar": {
             "outlinewidth": 0,
             "ticks": ""
            },
            "colorscale": [
             [
              0,
              "#0d0887"
             ],
             [
              0.1111111111111111,
              "#46039f"
             ],
             [
              0.2222222222222222,
              "#7201a8"
             ],
             [
              0.3333333333333333,
              "#9c179e"
             ],
             [
              0.4444444444444444,
              "#bd3786"
             ],
             [
              0.5555555555555556,
              "#d8576b"
             ],
             [
              0.6666666666666666,
              "#ed7953"
             ],
             [
              0.7777777777777778,
              "#fb9f3a"
             ],
             [
              0.8888888888888888,
              "#fdca26"
             ],
             [
              1,
              "#f0f921"
             ]
            ],
            "type": "histogram2d"
           }
          ],
          "histogram2dcontour": [
           {
            "colorbar": {
             "outlinewidth": 0,
             "ticks": ""
            },
            "colorscale": [
             [
              0,
              "#0d0887"
             ],
             [
              0.1111111111111111,
              "#46039f"
             ],
             [
              0.2222222222222222,
              "#7201a8"
             ],
             [
              0.3333333333333333,
              "#9c179e"
             ],
             [
              0.4444444444444444,
              "#bd3786"
             ],
             [
              0.5555555555555556,
              "#d8576b"
             ],
             [
              0.6666666666666666,
              "#ed7953"
             ],
             [
              0.7777777777777778,
              "#fb9f3a"
             ],
             [
              0.8888888888888888,
              "#fdca26"
             ],
             [
              1,
              "#f0f921"
             ]
            ],
            "type": "histogram2dcontour"
           }
          ],
          "mesh3d": [
           {
            "colorbar": {
             "outlinewidth": 0,
             "ticks": ""
            },
            "type": "mesh3d"
           }
          ],
          "parcoords": [
           {
            "line": {
             "colorbar": {
              "outlinewidth": 0,
              "ticks": ""
             }
            },
            "type": "parcoords"
           }
          ],
          "pie": [
           {
            "automargin": true,
            "type": "pie"
           }
          ],
          "scatter": [
           {
            "fillpattern": {
             "fillmode": "overlay",
             "size": 10,
             "solidity": 0.2
            },
            "type": "scatter"
           }
          ],
          "scatter3d": [
           {
            "line": {
             "colorbar": {
              "outlinewidth": 0,
              "ticks": ""
             }
            },
            "marker": {
             "colorbar": {
              "outlinewidth": 0,
              "ticks": ""
             }
            },
            "type": "scatter3d"
           }
          ],
          "scattercarpet": [
           {
            "marker": {
             "colorbar": {
              "outlinewidth": 0,
              "ticks": ""
             }
            },
            "type": "scattercarpet"
           }
          ],
          "scattergeo": [
           {
            "marker": {
             "colorbar": {
              "outlinewidth": 0,
              "ticks": ""
             }
            },
            "type": "scattergeo"
           }
          ],
          "scattergl": [
           {
            "marker": {
             "colorbar": {
              "outlinewidth": 0,
              "ticks": ""
             }
            },
            "type": "scattergl"
           }
          ],
          "scattermapbox": [
           {
            "marker": {
             "colorbar": {
              "outlinewidth": 0,
              "ticks": ""
             }
            },
            "type": "scattermapbox"
           }
          ],
          "scatterpolar": [
           {
            "marker": {
             "colorbar": {
              "outlinewidth": 0,
              "ticks": ""
             }
            },
            "type": "scatterpolar"
           }
          ],
          "scatterpolargl": [
           {
            "marker": {
             "colorbar": {
              "outlinewidth": 0,
              "ticks": ""
             }
            },
            "type": "scatterpolargl"
           }
          ],
          "scatterternary": [
           {
            "marker": {
             "colorbar": {
              "outlinewidth": 0,
              "ticks": ""
             }
            },
            "type": "scatterternary"
           }
          ],
          "surface": [
           {
            "colorbar": {
             "outlinewidth": 0,
             "ticks": ""
            },
            "colorscale": [
             [
              0,
              "#0d0887"
             ],
             [
              0.1111111111111111,
              "#46039f"
             ],
             [
              0.2222222222222222,
              "#7201a8"
             ],
             [
              0.3333333333333333,
              "#9c179e"
             ],
             [
              0.4444444444444444,
              "#bd3786"
             ],
             [
              0.5555555555555556,
              "#d8576b"
             ],
             [
              0.6666666666666666,
              "#ed7953"
             ],
             [
              0.7777777777777778,
              "#fb9f3a"
             ],
             [
              0.8888888888888888,
              "#fdca26"
             ],
             [
              1,
              "#f0f921"
             ]
            ],
            "type": "surface"
           }
          ],
          "table": [
           {
            "cells": {
             "fill": {
              "color": "#EBF0F8"
             },
             "line": {
              "color": "white"
             }
            },
            "header": {
             "fill": {
              "color": "#C8D4E3"
             },
             "line": {
              "color": "white"
             }
            },
            "type": "table"
           }
          ]
         },
         "layout": {
          "annotationdefaults": {
           "arrowcolor": "#2a3f5f",
           "arrowhead": 0,
           "arrowwidth": 1
          },
          "autotypenumbers": "strict",
          "coloraxis": {
           "colorbar": {
            "outlinewidth": 0,
            "ticks": ""
           }
          },
          "colorscale": {
           "diverging": [
            [
             0,
             "#8e0152"
            ],
            [
             0.1,
             "#c51b7d"
            ],
            [
             0.2,
             "#de77ae"
            ],
            [
             0.3,
             "#f1b6da"
            ],
            [
             0.4,
             "#fde0ef"
            ],
            [
             0.5,
             "#f7f7f7"
            ],
            [
             0.6,
             "#e6f5d0"
            ],
            [
             0.7,
             "#b8e186"
            ],
            [
             0.8,
             "#7fbc41"
            ],
            [
             0.9,
             "#4d9221"
            ],
            [
             1,
             "#276419"
            ]
           ],
           "sequential": [
            [
             0,
             "#0d0887"
            ],
            [
             0.1111111111111111,
             "#46039f"
            ],
            [
             0.2222222222222222,
             "#7201a8"
            ],
            [
             0.3333333333333333,
             "#9c179e"
            ],
            [
             0.4444444444444444,
             "#bd3786"
            ],
            [
             0.5555555555555556,
             "#d8576b"
            ],
            [
             0.6666666666666666,
             "#ed7953"
            ],
            [
             0.7777777777777778,
             "#fb9f3a"
            ],
            [
             0.8888888888888888,
             "#fdca26"
            ],
            [
             1,
             "#f0f921"
            ]
           ],
           "sequentialminus": [
            [
             0,
             "#0d0887"
            ],
            [
             0.1111111111111111,
             "#46039f"
            ],
            [
             0.2222222222222222,
             "#7201a8"
            ],
            [
             0.3333333333333333,
             "#9c179e"
            ],
            [
             0.4444444444444444,
             "#bd3786"
            ],
            [
             0.5555555555555556,
             "#d8576b"
            ],
            [
             0.6666666666666666,
             "#ed7953"
            ],
            [
             0.7777777777777778,
             "#fb9f3a"
            ],
            [
             0.8888888888888888,
             "#fdca26"
            ],
            [
             1,
             "#f0f921"
            ]
           ]
          },
          "colorway": [
           "#636efa",
           "#EF553B",
           "#00cc96",
           "#ab63fa",
           "#FFA15A",
           "#19d3f3",
           "#FF6692",
           "#B6E880",
           "#FF97FF",
           "#FECB52"
          ],
          "font": {
           "color": "#2a3f5f"
          },
          "geo": {
           "bgcolor": "white",
           "lakecolor": "white",
           "landcolor": "#E5ECF6",
           "showlakes": true,
           "showland": true,
           "subunitcolor": "white"
          },
          "hoverlabel": {
           "align": "left"
          },
          "hovermode": "closest",
          "mapbox": {
           "style": "light"
          },
          "paper_bgcolor": "white",
          "plot_bgcolor": "#E5ECF6",
          "polar": {
           "angularaxis": {
            "gridcolor": "white",
            "linecolor": "white",
            "ticks": ""
           },
           "bgcolor": "#E5ECF6",
           "radialaxis": {
            "gridcolor": "white",
            "linecolor": "white",
            "ticks": ""
           }
          },
          "scene": {
           "xaxis": {
            "backgroundcolor": "#E5ECF6",
            "gridcolor": "white",
            "gridwidth": 2,
            "linecolor": "white",
            "showbackground": true,
            "ticks": "",
            "zerolinecolor": "white"
           },
           "yaxis": {
            "backgroundcolor": "#E5ECF6",
            "gridcolor": "white",
            "gridwidth": 2,
            "linecolor": "white",
            "showbackground": true,
            "ticks": "",
            "zerolinecolor": "white"
           },
           "zaxis": {
            "backgroundcolor": "#E5ECF6",
            "gridcolor": "white",
            "gridwidth": 2,
            "linecolor": "white",
            "showbackground": true,
            "ticks": "",
            "zerolinecolor": "white"
           }
          },
          "shapedefaults": {
           "line": {
            "color": "#2a3f5f"
           }
          },
          "ternary": {
           "aaxis": {
            "gridcolor": "white",
            "linecolor": "white",
            "ticks": ""
           },
           "baxis": {
            "gridcolor": "white",
            "linecolor": "white",
            "ticks": ""
           },
           "bgcolor": "#E5ECF6",
           "caxis": {
            "gridcolor": "white",
            "linecolor": "white",
            "ticks": ""
           }
          },
          "title": {
           "x": 0.05
          },
          "xaxis": {
           "automargin": true,
           "gridcolor": "white",
           "linecolor": "white",
           "ticks": "",
           "title": {
            "standoff": 15
           },
           "zerolinecolor": "white",
           "zerolinewidth": 2
          },
          "yaxis": {
           "automargin": true,
           "gridcolor": "white",
           "linecolor": "white",
           "ticks": "",
           "title": {
            "standoff": 15
           },
           "zerolinecolor": "white",
           "zerolinewidth": 2
          }
         }
        },
        "title": {
         "text": "Val IoU - (Architecture Encoder Loss)"
        },
        "xaxis": {
         "title": {
          "text": "Epochs"
         }
        },
        "yaxis": {
         "title": {
          "text": "IoU"
         }
        }
       }
      }
     },
     "metadata": {},
     "output_type": "display_data"
    }
   ],
   "source": [
    "# Loss\n",
    "plot_data(big_df, y_volumn='train_loss', y_column_name=\"Jaccard Loss\", plot_title=\"Train loss\", filter='loss_func == \"JaccardLoss\"')\n",
    "plot_data(big_df, y_volumn='val_loss', y_column_name=\"Jaccard Loss\", plot_title=\"Val loss\", filter='loss_func == \"JaccardLoss\"')\n",
    "# IoU\n",
    "plot_data(big_df, y_volumn='train_iou_score', y_column_name=\"IoU\", plot_title=\"Train IoU\", filter='loss_func == \"JaccardLoss\"')\n",
    "plot_data(big_df, y_volumn='val_iou_score',  y_column_name= \"IoU\", plot_title=\"Val IoU\", filter='loss_func == \"JaccardLoss\"')"
   ]
  },
  {
   "cell_type": "markdown",
   "metadata": {},
   "source": [
    "# Memory consumption"
   ]
  },
  {
   "cell_type": "code",
   "execution_count": 58,
   "metadata": {},
   "outputs": [
    {
     "data": {
      "application/vnd.plotly.v1+json": {
       "config": {
        "plotlyServerURL": "https://plot.ly"
       },
       "data": [
        {
         "hovertemplate": [
          "<b>DeepLabV3Plus mobilenet_v2 DiceLoss False</b><br><br>Val IoU vs GPU memory: %{y:.3}<br>Memory (mb): %{x}<br><extra></extra>"
         ],
         "mode": "markers",
         "name": "DeepLabV3Plus mobilenet_v2 DiceLoss False",
         "type": "scatter",
         "x": [
          5354
         ],
         "y": [
          0.925391327876311
         ]
        },
        {
         "hovertemplate": [
          "<b>DeepLabV3Plus mobilenet_v2 DiceLoss True</b><br><br>Val IoU vs GPU memory: %{y:.3}<br>Memory (mb): %{x}<br><extra></extra>"
         ],
         "mode": "markers",
         "name": "DeepLabV3Plus mobilenet_v2 DiceLoss True",
         "type": "scatter",
         "x": [
          1686
         ],
         "y": [
          0.899606797557611
         ]
        },
        {
         "hovertemplate": [
          "<b>DeepLabV3Plus mobilenet_v2 JaccardLoss False</b><br><br>Val IoU vs GPU memory: %{y:.3}<br>Memory (mb): %{x}<br><extra></extra>"
         ],
         "mode": "markers",
         "name": "DeepLabV3Plus mobilenet_v2 JaccardLoss False",
         "type": "scatter",
         "x": [
          5354
         ],
         "y": [
          0.9284615482275302
         ]
        },
        {
         "hovertemplate": [
          "<b>DeepLabV3Plus mobilenet_v2 JaccardLoss True</b><br><br>Val IoU vs GPU memory: %{y:.3}<br>Memory (mb): %{x}<br><extra></extra>"
         ],
         "mode": "markers",
         "name": "DeepLabV3Plus mobilenet_v2 JaccardLoss True",
         "type": "scatter",
         "x": [
          1686
         ],
         "y": [
          0.9006258031496636
         ]
        },
        {
         "hovertemplate": [
          "<b>DeepLabV3Plus resnet101 DiceLoss False</b><br><br>Val IoU vs GPU memory: %{y:.3}<br>Memory (mb): %{x}<br><extra></extra>"
         ],
         "mode": "markers",
         "name": "DeepLabV3Plus resnet101 DiceLoss False",
         "type": "scatter",
         "x": [
          7912
         ],
         "y": [
          0.9258536696434024
         ]
        },
        {
         "hovertemplate": [
          "<b>DeepLabV3Plus resnet101 DiceLoss True</b><br><br>Val IoU vs GPU memory: %{y:.3}<br>Memory (mb): %{x}<br><extra></extra>"
         ],
         "mode": "markers",
         "name": "DeepLabV3Plus resnet101 DiceLoss True",
         "type": "scatter",
         "x": [
          2082
         ],
         "y": [
          0.9131702368076032
         ]
        },
        {
         "hovertemplate": [
          "<b>DeepLabV3Plus resnet101 JaccardLoss False</b><br><br>Val IoU vs GPU memory: %{y:.3}<br>Memory (mb): %{x}<br><extra></extra>"
         ],
         "mode": "markers",
         "name": "DeepLabV3Plus resnet101 JaccardLoss False",
         "type": "scatter",
         "x": [
          7912
         ],
         "y": [
          0.928601862146304
         ]
        },
        {
         "hovertemplate": [
          "<b>DeepLabV3Plus resnet101 JaccardLoss True</b><br><br>Val IoU vs GPU memory: %{y:.3}<br>Memory (mb): %{x}<br><extra></extra>"
         ],
         "mode": "markers",
         "name": "DeepLabV3Plus resnet101 JaccardLoss True",
         "type": "scatter",
         "x": [
          2082
         ],
         "y": [
          0.9141574089343733
         ]
        },
        {
         "hovertemplate": [
          "<b>FPN mobilenet_v2 DiceLoss False</b><br><br>Val IoU vs GPU memory: %{y:.3}<br>Memory (mb): %{x}<br><extra></extra>"
         ],
         "mode": "markers",
         "name": "FPN mobilenet_v2 DiceLoss False",
         "type": "scatter",
         "x": [
          4396
         ],
         "y": [
          0.921504597251232
         ]
        },
        {
         "hovertemplate": [
          "<b>FPN mobilenet_v2 DiceLoss True</b><br><br>Val IoU vs GPU memory: %{y:.3}<br>Memory (mb): %{x}<br><extra></extra>"
         ],
         "mode": "markers",
         "name": "FPN mobilenet_v2 DiceLoss True",
         "type": "scatter",
         "x": [
          1462
         ],
         "y": [
          0.9079187455085608
         ]
        },
        {
         "hovertemplate": [
          "<b>FPN mobilenet_v2 JaccardLoss False</b><br><br>Val IoU vs GPU memory: %{y:.3}<br>Memory (mb): %{x}<br><extra></extra>"
         ],
         "mode": "markers",
         "name": "FPN mobilenet_v2 JaccardLoss False",
         "type": "scatter",
         "x": [
          4396
         ],
         "y": [
          0.9229397166233796
         ]
        },
        {
         "hovertemplate": [
          "<b>FPN mobilenet_v2 JaccardLoss True</b><br><br>Val IoU vs GPU memory: %{y:.3}<br>Memory (mb): %{x}<br><extra></extra>"
         ],
         "mode": "markers",
         "name": "FPN mobilenet_v2 JaccardLoss True",
         "type": "scatter",
         "x": [
          1462
         ],
         "y": [
          0.9100057242008354
         ]
        },
        {
         "hovertemplate": [
          "<b>FPN resnet101 DiceLoss False</b><br><br>Val IoU vs GPU memory: %{y:.3}<br>Memory (mb): %{x}<br><extra></extra>"
         ],
         "mode": "markers",
         "name": "FPN resnet101 DiceLoss False",
         "type": "scatter",
         "x": [
          7186
         ],
         "y": [
          0.9224545050125854
         ]
        },
        {
         "hovertemplate": [
          "<b>FPN resnet101 DiceLoss True</b><br><br>Val IoU vs GPU memory: %{y:.3}<br>Memory (mb): %{x}<br><extra></extra>"
         ],
         "mode": "markers",
         "name": "FPN resnet101 DiceLoss True",
         "type": "scatter",
         "x": [
          1826
         ],
         "y": [
          0.9043156195145384
         ]
        },
        {
         "hovertemplate": [
          "<b>FPN resnet101 JaccardLoss False</b><br><br>Val IoU vs GPU memory: %{y:.3}<br>Memory (mb): %{x}<br><extra></extra>"
         ],
         "mode": "markers",
         "name": "FPN resnet101 JaccardLoss False",
         "type": "scatter",
         "x": [
          7186
         ],
         "y": [
          0.9233515503314824
         ]
        },
        {
         "hovertemplate": [
          "<b>FPN resnet101 JaccardLoss True</b><br><br>Val IoU vs GPU memory: %{y:.3}<br>Memory (mb): %{x}<br><extra></extra>"
         ],
         "mode": "markers",
         "name": "FPN resnet101 JaccardLoss True",
         "type": "scatter",
         "x": [
          1826
         ],
         "y": [
          0.9048635088480436
         ]
        },
        {
         "hovertemplate": [
          "<b>Linknet mobilenet_v2 DiceLoss False</b><br><br>Val IoU vs GPU memory: %{y:.3}<br>Memory (mb): %{x}<br><extra></extra>"
         ],
         "mode": "markers",
         "name": "Linknet mobilenet_v2 DiceLoss False",
         "type": "scatter",
         "x": [
          4816
         ],
         "y": [
          0.8882310493634298
         ]
        },
        {
         "hovertemplate": [
          "<b>Linknet mobilenet_v2 DiceLoss True</b><br><br>Val IoU vs GPU memory: %{y:.3}<br>Memory (mb): %{x}<br><extra></extra>"
         ],
         "mode": "markers",
         "name": "Linknet mobilenet_v2 DiceLoss True",
         "type": "scatter",
         "x": [
          1658
         ],
         "y": [
          0.8621598585293844
         ]
        },
        {
         "hovertemplate": [
          "<b>Linknet mobilenet_v2 JaccardLoss False</b><br><br>Val IoU vs GPU memory: %{y:.3}<br>Memory (mb): %{x}<br><extra></extra>"
         ],
         "mode": "markers",
         "name": "Linknet mobilenet_v2 JaccardLoss False",
         "type": "scatter",
         "x": [
          4816
         ],
         "y": [
          0.8688184435550982
         ]
        },
        {
         "hovertemplate": [
          "<b>Linknet mobilenet_v2 JaccardLoss True</b><br><br>Val IoU vs GPU memory: %{y:.3}<br>Memory (mb): %{x}<br><extra></extra>"
         ],
         "mode": "markers",
         "name": "Linknet mobilenet_v2 JaccardLoss True",
         "type": "scatter",
         "x": [
          1658
         ],
         "y": [
          0.8697697967290877
         ]
        },
        {
         "hovertemplate": [
          "<b>Linknet resnet101 DiceLoss False</b><br><br>Val IoU vs GPU memory: %{y:.3}<br>Memory (mb): %{x}<br><extra></extra>"
         ],
         "mode": "markers",
         "name": "Linknet resnet101 DiceLoss False",
         "type": "scatter",
         "x": [
          9106
         ],
         "y": [
          0.9123862913021674
         ]
        },
        {
         "hovertemplate": [
          "<b>Linknet resnet101 DiceLoss True</b><br><br>Val IoU vs GPU memory: %{y:.3}<br>Memory (mb): %{x}<br><extra></extra>"
         ],
         "mode": "markers",
         "name": "Linknet resnet101 DiceLoss True",
         "type": "scatter",
         "x": [
          3904
         ],
         "y": [
          0.8947597604531506
         ]
        },
        {
         "hovertemplate": [
          "<b>Linknet resnet101 JaccardLoss False</b><br><br>Val IoU vs GPU memory: %{y:.3}<br>Memory (mb): %{x}<br><extra></extra>"
         ],
         "mode": "markers",
         "name": "Linknet resnet101 JaccardLoss False",
         "type": "scatter",
         "x": [
          9106
         ],
         "y": [
          0.9108595699071882
         ]
        },
        {
         "hovertemplate": [
          "<b>Linknet resnet101 JaccardLoss True</b><br><br>Val IoU vs GPU memory: %{y:.3}<br>Memory (mb): %{x}<br><extra></extra>"
         ],
         "mode": "markers",
         "name": "Linknet resnet101 JaccardLoss True",
         "type": "scatter",
         "x": [
          3904
         ],
         "y": [
          0.8981707256573896
         ]
        },
        {
         "hovertemplate": [
          "<b>MAnet mobilenet_v2 DiceLoss False</b><br><br>Val IoU vs GPU memory: %{y:.3}<br>Memory (mb): %{x}<br><extra></extra>"
         ],
         "mode": "markers",
         "name": "MAnet mobilenet_v2 DiceLoss False",
         "type": "scatter",
         "x": [
          6092
         ],
         "y": [
          0.916219380039435
         ]
        },
        {
         "hovertemplate": [
          "<b>MAnet mobilenet_v2 DiceLoss True</b><br><br>Val IoU vs GPU memory: %{y:.3}<br>Memory (mb): %{x}<br><extra></extra>"
         ],
         "mode": "markers",
         "name": "MAnet mobilenet_v2 DiceLoss True",
         "type": "scatter",
         "x": [
          3014
         ],
         "y": [
          0.9161389321088792
         ]
        },
        {
         "hovertemplate": [
          "<b>MAnet mobilenet_v2 JaccardLoss False</b><br><br>Val IoU vs GPU memory: %{y:.3}<br>Memory (mb): %{x}<br><extra></extra>"
         ],
         "mode": "markers",
         "name": "MAnet mobilenet_v2 JaccardLoss False",
         "type": "scatter",
         "x": [
          6092
         ],
         "y": [
          0.9183843009746993
         ]
        },
        {
         "hovertemplate": [
          "<b>MAnet mobilenet_v2 JaccardLoss True</b><br><br>Val IoU vs GPU memory: %{y:.3}<br>Memory (mb): %{x}<br><extra></extra>"
         ],
         "mode": "markers",
         "name": "MAnet mobilenet_v2 JaccardLoss True",
         "type": "scatter",
         "x": [
          3014
         ],
         "y": [
          0.9169627519754264
         ]
        },
        {
         "hovertemplate": [
          "<b>MAnet resnet101 DiceLoss False</b><br><br>Val IoU vs GPU memory: %{y:.3}<br>Memory (mb): %{x}<br><extra></extra>"
         ],
         "mode": "markers",
         "name": "MAnet resnet101 DiceLoss False",
         "type": "scatter",
         "x": [
          12016
         ],
         "y": [
          0.9157857665648824
         ]
        },
        {
         "hovertemplate": [
          "<b>MAnet resnet101 DiceLoss True</b><br><br>Val IoU vs GPU memory: %{y:.3}<br>Memory (mb): %{x}<br><extra></extra>"
         ],
         "mode": "markers",
         "name": "MAnet resnet101 DiceLoss True",
         "type": "scatter",
         "x": [
          6788
         ],
         "y": [
          0.9074652504462464
         ]
        },
        {
         "hovertemplate": [
          "<b>MAnet resnet101 JaccardLoss False</b><br><br>Val IoU vs GPU memory: %{y:.3}<br>Memory (mb): %{x}<br><extra></extra>"
         ],
         "mode": "markers",
         "name": "MAnet resnet101 JaccardLoss False",
         "type": "scatter",
         "x": [
          12016
         ],
         "y": [
          0.9207574472977564
         ]
        },
        {
         "hovertemplate": [
          "<b>MAnet resnet101 JaccardLoss True</b><br><br>Val IoU vs GPU memory: %{y:.3}<br>Memory (mb): %{x}<br><extra></extra>"
         ],
         "mode": "markers",
         "name": "MAnet resnet101 JaccardLoss True",
         "type": "scatter",
         "x": [
          6788
         ],
         "y": [
          0.9098115081970508
         ]
        },
        {
         "hovertemplate": [
          "<b>PAN mobilenet_v2 DiceLoss False</b><br><br>Val IoU vs GPU memory: %{y:.3}<br>Memory (mb): %{x}<br><extra></extra>"
         ],
         "mode": "markers",
         "name": "PAN mobilenet_v2 DiceLoss False",
         "type": "scatter",
         "x": [
          4356
         ],
         "y": [
          0.905280018082032
         ]
        },
        {
         "hovertemplate": [
          "<b>PAN mobilenet_v2 DiceLoss True</b><br><br>Val IoU vs GPU memory: %{y:.3}<br>Memory (mb): %{x}<br><extra></extra>"
         ],
         "mode": "markers",
         "name": "PAN mobilenet_v2 DiceLoss True",
         "type": "scatter",
         "x": [
          638
         ],
         "y": [
          0.8932026716379019
         ]
        },
        {
         "hovertemplate": [
          "<b>PAN mobilenet_v2 JaccardLoss False</b><br><br>Val IoU vs GPU memory: %{y:.3}<br>Memory (mb): %{x}<br><extra></extra>"
         ],
         "mode": "markers",
         "name": "PAN mobilenet_v2 JaccardLoss False",
         "type": "scatter",
         "x": [
          4356
         ],
         "y": [
          0.909493015362666
         ]
        },
        {
         "hovertemplate": [
          "<b>PAN mobilenet_v2 JaccardLoss True</b><br><br>Val IoU vs GPU memory: %{y:.3}<br>Memory (mb): %{x}<br><extra></extra>"
         ],
         "mode": "markers",
         "name": "PAN mobilenet_v2 JaccardLoss True",
         "type": "scatter",
         "x": [
          638
         ],
         "y": [
          0.8880325028529535
         ]
        },
        {
         "hovertemplate": [
          "<b>PAN resnet101 DiceLoss False</b><br><br>Val IoU vs GPU memory: %{y:.3}<br>Memory (mb): %{x}<br><extra></extra>"
         ],
         "mode": "markers",
         "name": "PAN resnet101 DiceLoss False",
         "type": "scatter",
         "x": [
          6958
         ],
         "y": [
          0.9161906643555716
         ]
        },
        {
         "hovertemplate": [
          "<b>PAN resnet101 DiceLoss True</b><br><br>Val IoU vs GPU memory: %{y:.3}<br>Memory (mb): %{x}<br><extra></extra>"
         ],
         "mode": "markers",
         "name": "PAN resnet101 DiceLoss True",
         "type": "scatter",
         "x": [
          1000
         ],
         "y": [
          0.9119933648751332
         ]
        },
        {
         "hovertemplate": [
          "<b>PAN resnet101 JaccardLoss False</b><br><br>Val IoU vs GPU memory: %{y:.3}<br>Memory (mb): %{x}<br><extra></extra>"
         ],
         "mode": "markers",
         "name": "PAN resnet101 JaccardLoss False",
         "type": "scatter",
         "x": [
          6958
         ],
         "y": [
          0.9175007515228712
         ]
        },
        {
         "hovertemplate": [
          "<b>PAN resnet101 JaccardLoss True</b><br><br>Val IoU vs GPU memory: %{y:.3}<br>Memory (mb): %{x}<br><extra></extra>"
         ],
         "mode": "markers",
         "name": "PAN resnet101 JaccardLoss True",
         "type": "scatter",
         "x": [
          1000
         ],
         "y": [
          0.9056508827667968
         ]
        },
        {
         "hovertemplate": [
          "<b>PSPNet mobilenet_v2 DiceLoss False</b><br><br>Val IoU vs GPU memory: %{y:.3}<br>Memory (mb): %{x}<br><extra></extra>"
         ],
         "mode": "markers",
         "name": "PSPNet mobilenet_v2 DiceLoss False",
         "type": "scatter",
         "x": [
          2922
         ],
         "y": [
          0.9091634429418124
         ]
        },
        {
         "hovertemplate": [
          "<b>PSPNet mobilenet_v2 DiceLoss True</b><br><br>Val IoU vs GPU memory: %{y:.3}<br>Memory (mb): %{x}<br><extra></extra>"
         ],
         "mode": "markers",
         "name": "PSPNet mobilenet_v2 DiceLoss True",
         "type": "scatter",
         "x": [
          824
         ],
         "y": [
          0.9005793768625994
         ]
        },
        {
         "hovertemplate": [
          "<b>PSPNet mobilenet_v2 JaccardLoss False</b><br><br>Val IoU vs GPU memory: %{y:.3}<br>Memory (mb): %{x}<br><extra></extra>"
         ],
         "mode": "markers",
         "name": "PSPNet mobilenet_v2 JaccardLoss False",
         "type": "scatter",
         "x": [
          2922
         ],
         "y": [
          0.9114411610823412
         ]
        },
        {
         "hovertemplate": [
          "<b>PSPNet mobilenet_v2 JaccardLoss True</b><br><br>Val IoU vs GPU memory: %{y:.3}<br>Memory (mb): %{x}<br><extra></extra>"
         ],
         "mode": "markers",
         "name": "PSPNet mobilenet_v2 JaccardLoss True",
         "type": "scatter",
         "x": [
          824
         ],
         "y": [
          0.8937923587285554
         ]
        },
        {
         "hovertemplate": [
          "<b>PSPNet resnet101 DiceLoss False</b><br><br>Val IoU vs GPU memory: %{y:.3}<br>Memory (mb): %{x}<br><extra></extra>"
         ],
         "mode": "markers",
         "name": "PSPNet resnet101 DiceLoss False",
         "type": "scatter",
         "x": [
          3456
         ],
         "y": [
          0.9207161871286536
         ]
        },
        {
         "hovertemplate": [
          "<b>PSPNet resnet101 DiceLoss True</b><br><br>Val IoU vs GPU memory: %{y:.3}<br>Memory (mb): %{x}<br><extra></extra>"
         ],
         "mode": "markers",
         "name": "PSPNet resnet101 DiceLoss True",
         "type": "scatter",
         "x": [
          882
         ],
         "y": [
          0.9104910710683236
         ]
        },
        {
         "hovertemplate": [
          "<b>PSPNet resnet101 JaccardLoss False</b><br><br>Val IoU vs GPU memory: %{y:.3}<br>Memory (mb): %{x}<br><extra></extra>"
         ],
         "mode": "markers",
         "name": "PSPNet resnet101 JaccardLoss False",
         "type": "scatter",
         "x": [
          3456
         ],
         "y": [
          0.9218922910782008
         ]
        },
        {
         "hovertemplate": [
          "<b>PSPNet resnet101 JaccardLoss True</b><br><br>Val IoU vs GPU memory: %{y:.3}<br>Memory (mb): %{x}<br><extra></extra>"
         ],
         "mode": "markers",
         "name": "PSPNet resnet101 JaccardLoss True",
         "type": "scatter",
         "x": [
          882
         ],
         "y": [
          0.9080208677511952
         ]
        },
        {
         "hovertemplate": [
          "<b>Unet mobilenet_v2 DiceLoss False</b><br><br>Val IoU vs GPU memory: %{y:.3}<br>Memory (mb): %{x}<br><extra></extra>"
         ],
         "mode": "markers",
         "name": "Unet mobilenet_v2 DiceLoss False",
         "type": "scatter",
         "x": [
          5548
         ],
         "y": [
          0.913593787413377
         ]
        },
        {
         "hovertemplate": [
          "<b>Unet mobilenet_v2 DiceLoss True</b><br><br>Val IoU vs GPU memory: %{y:.3}<br>Memory (mb): %{x}<br><extra></extra>"
         ],
         "mode": "markers",
         "name": "Unet mobilenet_v2 DiceLoss True",
         "type": "scatter",
         "x": [
          2240
         ],
         "y": [
          0.9091983999197302
         ]
        },
        {
         "hovertemplate": [
          "<b>Unet mobilenet_v2 JaccardLoss False</b><br><br>Val IoU vs GPU memory: %{y:.3}<br>Memory (mb): %{x}<br><extra></extra>"
         ],
         "mode": "markers",
         "name": "Unet mobilenet_v2 JaccardLoss False",
         "type": "scatter",
         "x": [
          5548
         ],
         "y": [
          0.9190493042652425
         ]
        },
        {
         "hovertemplate": [
          "<b>Unet mobilenet_v2 JaccardLoss True</b><br><br>Val IoU vs GPU memory: %{y:.3}<br>Memory (mb): %{x}<br><extra></extra>"
         ],
         "mode": "markers",
         "name": "Unet mobilenet_v2 JaccardLoss True",
         "type": "scatter",
         "x": [
          2240
         ],
         "y": [
          0.9115345500982724
         ]
        },
        {
         "hovertemplate": [
          "<b>Unet resnet101 DiceLoss False</b><br><br>Val IoU vs GPU memory: %{y:.3}<br>Memory (mb): %{x}<br><extra></extra>"
         ],
         "mode": "markers",
         "name": "Unet resnet101 DiceLoss False",
         "type": "scatter",
         "x": [
          8500
         ],
         "y": [
          0.9157632096455648
         ]
        },
        {
         "hovertemplate": [
          "<b>Unet resnet101 DiceLoss True</b><br><br>Val IoU vs GPU memory: %{y:.3}<br>Memory (mb): %{x}<br><extra></extra>"
         ],
         "mode": "markers",
         "name": "Unet resnet101 DiceLoss True",
         "type": "scatter",
         "x": [
          3294
         ],
         "y": [
          0.9087858222998104
         ]
        },
        {
         "hovertemplate": [
          "<b>Unet resnet101 JaccardLoss False</b><br><br>Val IoU vs GPU memory: %{y:.3}<br>Memory (mb): %{x}<br><extra></extra>"
         ],
         "mode": "markers",
         "name": "Unet resnet101 JaccardLoss False",
         "type": "scatter",
         "x": [
          8500
         ],
         "y": [
          0.9197011498304516
         ]
        },
        {
         "hovertemplate": [
          "<b>Unet resnet101 JaccardLoss True</b><br><br>Val IoU vs GPU memory: %{y:.3}<br>Memory (mb): %{x}<br><extra></extra>"
         ],
         "mode": "markers",
         "name": "Unet resnet101 JaccardLoss True",
         "type": "scatter",
         "x": [
          3294
         ],
         "y": [
          0.9073506398842884
         ]
        }
       ],
       "layout": {
        "font": {
         "size": 14
        },
        "legend": {
         "font": {
          "size": 16
         },
         "traceorder": "reversed",
         "y": 0.5
        },
        "template": {
         "data": {
          "bar": [
           {
            "error_x": {
             "color": "#2a3f5f"
            },
            "error_y": {
             "color": "#2a3f5f"
            },
            "marker": {
             "line": {
              "color": "#E5ECF6",
              "width": 0.5
             },
             "pattern": {
              "fillmode": "overlay",
              "size": 10,
              "solidity": 0.2
             }
            },
            "type": "bar"
           }
          ],
          "barpolar": [
           {
            "marker": {
             "line": {
              "color": "#E5ECF6",
              "width": 0.5
             },
             "pattern": {
              "fillmode": "overlay",
              "size": 10,
              "solidity": 0.2
             }
            },
            "type": "barpolar"
           }
          ],
          "carpet": [
           {
            "aaxis": {
             "endlinecolor": "#2a3f5f",
             "gridcolor": "white",
             "linecolor": "white",
             "minorgridcolor": "white",
             "startlinecolor": "#2a3f5f"
            },
            "baxis": {
             "endlinecolor": "#2a3f5f",
             "gridcolor": "white",
             "linecolor": "white",
             "minorgridcolor": "white",
             "startlinecolor": "#2a3f5f"
            },
            "type": "carpet"
           }
          ],
          "choropleth": [
           {
            "colorbar": {
             "outlinewidth": 0,
             "ticks": ""
            },
            "type": "choropleth"
           }
          ],
          "contour": [
           {
            "colorbar": {
             "outlinewidth": 0,
             "ticks": ""
            },
            "colorscale": [
             [
              0,
              "#0d0887"
             ],
             [
              0.1111111111111111,
              "#46039f"
             ],
             [
              0.2222222222222222,
              "#7201a8"
             ],
             [
              0.3333333333333333,
              "#9c179e"
             ],
             [
              0.4444444444444444,
              "#bd3786"
             ],
             [
              0.5555555555555556,
              "#d8576b"
             ],
             [
              0.6666666666666666,
              "#ed7953"
             ],
             [
              0.7777777777777778,
              "#fb9f3a"
             ],
             [
              0.8888888888888888,
              "#fdca26"
             ],
             [
              1,
              "#f0f921"
             ]
            ],
            "type": "contour"
           }
          ],
          "contourcarpet": [
           {
            "colorbar": {
             "outlinewidth": 0,
             "ticks": ""
            },
            "type": "contourcarpet"
           }
          ],
          "heatmap": [
           {
            "colorbar": {
             "outlinewidth": 0,
             "ticks": ""
            },
            "colorscale": [
             [
              0,
              "#0d0887"
             ],
             [
              0.1111111111111111,
              "#46039f"
             ],
             [
              0.2222222222222222,
              "#7201a8"
             ],
             [
              0.3333333333333333,
              "#9c179e"
             ],
             [
              0.4444444444444444,
              "#bd3786"
             ],
             [
              0.5555555555555556,
              "#d8576b"
             ],
             [
              0.6666666666666666,
              "#ed7953"
             ],
             [
              0.7777777777777778,
              "#fb9f3a"
             ],
             [
              0.8888888888888888,
              "#fdca26"
             ],
             [
              1,
              "#f0f921"
             ]
            ],
            "type": "heatmap"
           }
          ],
          "heatmapgl": [
           {
            "colorbar": {
             "outlinewidth": 0,
             "ticks": ""
            },
            "colorscale": [
             [
              0,
              "#0d0887"
             ],
             [
              0.1111111111111111,
              "#46039f"
             ],
             [
              0.2222222222222222,
              "#7201a8"
             ],
             [
              0.3333333333333333,
              "#9c179e"
             ],
             [
              0.4444444444444444,
              "#bd3786"
             ],
             [
              0.5555555555555556,
              "#d8576b"
             ],
             [
              0.6666666666666666,
              "#ed7953"
             ],
             [
              0.7777777777777778,
              "#fb9f3a"
             ],
             [
              0.8888888888888888,
              "#fdca26"
             ],
             [
              1,
              "#f0f921"
             ]
            ],
            "type": "heatmapgl"
           }
          ],
          "histogram": [
           {
            "marker": {
             "pattern": {
              "fillmode": "overlay",
              "size": 10,
              "solidity": 0.2
             }
            },
            "type": "histogram"
           }
          ],
          "histogram2d": [
           {
            "colorbar": {
             "outlinewidth": 0,
             "ticks": ""
            },
            "colorscale": [
             [
              0,
              "#0d0887"
             ],
             [
              0.1111111111111111,
              "#46039f"
             ],
             [
              0.2222222222222222,
              "#7201a8"
             ],
             [
              0.3333333333333333,
              "#9c179e"
             ],
             [
              0.4444444444444444,
              "#bd3786"
             ],
             [
              0.5555555555555556,
              "#d8576b"
             ],
             [
              0.6666666666666666,
              "#ed7953"
             ],
             [
              0.7777777777777778,
              "#fb9f3a"
             ],
             [
              0.8888888888888888,
              "#fdca26"
             ],
             [
              1,
              "#f0f921"
             ]
            ],
            "type": "histogram2d"
           }
          ],
          "histogram2dcontour": [
           {
            "colorbar": {
             "outlinewidth": 0,
             "ticks": ""
            },
            "colorscale": [
             [
              0,
              "#0d0887"
             ],
             [
              0.1111111111111111,
              "#46039f"
             ],
             [
              0.2222222222222222,
              "#7201a8"
             ],
             [
              0.3333333333333333,
              "#9c179e"
             ],
             [
              0.4444444444444444,
              "#bd3786"
             ],
             [
              0.5555555555555556,
              "#d8576b"
             ],
             [
              0.6666666666666666,
              "#ed7953"
             ],
             [
              0.7777777777777778,
              "#fb9f3a"
             ],
             [
              0.8888888888888888,
              "#fdca26"
             ],
             [
              1,
              "#f0f921"
             ]
            ],
            "type": "histogram2dcontour"
           }
          ],
          "mesh3d": [
           {
            "colorbar": {
             "outlinewidth": 0,
             "ticks": ""
            },
            "type": "mesh3d"
           }
          ],
          "parcoords": [
           {
            "line": {
             "colorbar": {
              "outlinewidth": 0,
              "ticks": ""
             }
            },
            "type": "parcoords"
           }
          ],
          "pie": [
           {
            "automargin": true,
            "type": "pie"
           }
          ],
          "scatter": [
           {
            "fillpattern": {
             "fillmode": "overlay",
             "size": 10,
             "solidity": 0.2
            },
            "type": "scatter"
           }
          ],
          "scatter3d": [
           {
            "line": {
             "colorbar": {
              "outlinewidth": 0,
              "ticks": ""
             }
            },
            "marker": {
             "colorbar": {
              "outlinewidth": 0,
              "ticks": ""
             }
            },
            "type": "scatter3d"
           }
          ],
          "scattercarpet": [
           {
            "marker": {
             "colorbar": {
              "outlinewidth": 0,
              "ticks": ""
             }
            },
            "type": "scattercarpet"
           }
          ],
          "scattergeo": [
           {
            "marker": {
             "colorbar": {
              "outlinewidth": 0,
              "ticks": ""
             }
            },
            "type": "scattergeo"
           }
          ],
          "scattergl": [
           {
            "marker": {
             "colorbar": {
              "outlinewidth": 0,
              "ticks": ""
             }
            },
            "type": "scattergl"
           }
          ],
          "scattermapbox": [
           {
            "marker": {
             "colorbar": {
              "outlinewidth": 0,
              "ticks": ""
             }
            },
            "type": "scattermapbox"
           }
          ],
          "scatterpolar": [
           {
            "marker": {
             "colorbar": {
              "outlinewidth": 0,
              "ticks": ""
             }
            },
            "type": "scatterpolar"
           }
          ],
          "scatterpolargl": [
           {
            "marker": {
             "colorbar": {
              "outlinewidth": 0,
              "ticks": ""
             }
            },
            "type": "scatterpolargl"
           }
          ],
          "scatterternary": [
           {
            "marker": {
             "colorbar": {
              "outlinewidth": 0,
              "ticks": ""
             }
            },
            "type": "scatterternary"
           }
          ],
          "surface": [
           {
            "colorbar": {
             "outlinewidth": 0,
             "ticks": ""
            },
            "colorscale": [
             [
              0,
              "#0d0887"
             ],
             [
              0.1111111111111111,
              "#46039f"
             ],
             [
              0.2222222222222222,
              "#7201a8"
             ],
             [
              0.3333333333333333,
              "#9c179e"
             ],
             [
              0.4444444444444444,
              "#bd3786"
             ],
             [
              0.5555555555555556,
              "#d8576b"
             ],
             [
              0.6666666666666666,
              "#ed7953"
             ],
             [
              0.7777777777777778,
              "#fb9f3a"
             ],
             [
              0.8888888888888888,
              "#fdca26"
             ],
             [
              1,
              "#f0f921"
             ]
            ],
            "type": "surface"
           }
          ],
          "table": [
           {
            "cells": {
             "fill": {
              "color": "#EBF0F8"
             },
             "line": {
              "color": "white"
             }
            },
            "header": {
             "fill": {
              "color": "#C8D4E3"
             },
             "line": {
              "color": "white"
             }
            },
            "type": "table"
           }
          ]
         },
         "layout": {
          "annotationdefaults": {
           "arrowcolor": "#2a3f5f",
           "arrowhead": 0,
           "arrowwidth": 1
          },
          "autotypenumbers": "strict",
          "coloraxis": {
           "colorbar": {
            "outlinewidth": 0,
            "ticks": ""
           }
          },
          "colorscale": {
           "diverging": [
            [
             0,
             "#8e0152"
            ],
            [
             0.1,
             "#c51b7d"
            ],
            [
             0.2,
             "#de77ae"
            ],
            [
             0.3,
             "#f1b6da"
            ],
            [
             0.4,
             "#fde0ef"
            ],
            [
             0.5,
             "#f7f7f7"
            ],
            [
             0.6,
             "#e6f5d0"
            ],
            [
             0.7,
             "#b8e186"
            ],
            [
             0.8,
             "#7fbc41"
            ],
            [
             0.9,
             "#4d9221"
            ],
            [
             1,
             "#276419"
            ]
           ],
           "sequential": [
            [
             0,
             "#0d0887"
            ],
            [
             0.1111111111111111,
             "#46039f"
            ],
            [
             0.2222222222222222,
             "#7201a8"
            ],
            [
             0.3333333333333333,
             "#9c179e"
            ],
            [
             0.4444444444444444,
             "#bd3786"
            ],
            [
             0.5555555555555556,
             "#d8576b"
            ],
            [
             0.6666666666666666,
             "#ed7953"
            ],
            [
             0.7777777777777778,
             "#fb9f3a"
            ],
            [
             0.8888888888888888,
             "#fdca26"
            ],
            [
             1,
             "#f0f921"
            ]
           ],
           "sequentialminus": [
            [
             0,
             "#0d0887"
            ],
            [
             0.1111111111111111,
             "#46039f"
            ],
            [
             0.2222222222222222,
             "#7201a8"
            ],
            [
             0.3333333333333333,
             "#9c179e"
            ],
            [
             0.4444444444444444,
             "#bd3786"
            ],
            [
             0.5555555555555556,
             "#d8576b"
            ],
            [
             0.6666666666666666,
             "#ed7953"
            ],
            [
             0.7777777777777778,
             "#fb9f3a"
            ],
            [
             0.8888888888888888,
             "#fdca26"
            ],
            [
             1,
             "#f0f921"
            ]
           ]
          },
          "colorway": [
           "#636efa",
           "#EF553B",
           "#00cc96",
           "#ab63fa",
           "#FFA15A",
           "#19d3f3",
           "#FF6692",
           "#B6E880",
           "#FF97FF",
           "#FECB52"
          ],
          "font": {
           "color": "#2a3f5f"
          },
          "geo": {
           "bgcolor": "white",
           "lakecolor": "white",
           "landcolor": "#E5ECF6",
           "showlakes": true,
           "showland": true,
           "subunitcolor": "white"
          },
          "hoverlabel": {
           "align": "left"
          },
          "hovermode": "closest",
          "mapbox": {
           "style": "light"
          },
          "paper_bgcolor": "white",
          "plot_bgcolor": "#E5ECF6",
          "polar": {
           "angularaxis": {
            "gridcolor": "white",
            "linecolor": "white",
            "ticks": ""
           },
           "bgcolor": "#E5ECF6",
           "radialaxis": {
            "gridcolor": "white",
            "linecolor": "white",
            "ticks": ""
           }
          },
          "scene": {
           "xaxis": {
            "backgroundcolor": "#E5ECF6",
            "gridcolor": "white",
            "gridwidth": 2,
            "linecolor": "white",
            "showbackground": true,
            "ticks": "",
            "zerolinecolor": "white"
           },
           "yaxis": {
            "backgroundcolor": "#E5ECF6",
            "gridcolor": "white",
            "gridwidth": 2,
            "linecolor": "white",
            "showbackground": true,
            "ticks": "",
            "zerolinecolor": "white"
           },
           "zaxis": {
            "backgroundcolor": "#E5ECF6",
            "gridcolor": "white",
            "gridwidth": 2,
            "linecolor": "white",
            "showbackground": true,
            "ticks": "",
            "zerolinecolor": "white"
           }
          },
          "shapedefaults": {
           "line": {
            "color": "#2a3f5f"
           }
          },
          "ternary": {
           "aaxis": {
            "gridcolor": "white",
            "linecolor": "white",
            "ticks": ""
           },
           "baxis": {
            "gridcolor": "white",
            "linecolor": "white",
            "ticks": ""
           },
           "bgcolor": "#E5ECF6",
           "caxis": {
            "gridcolor": "white",
            "linecolor": "white",
            "ticks": ""
           }
          },
          "title": {
           "x": 0.05
          },
          "xaxis": {
           "automargin": true,
           "gridcolor": "white",
           "linecolor": "white",
           "ticks": "",
           "title": {
            "standoff": 15
           },
           "zerolinecolor": "white",
           "zerolinewidth": 2
          },
          "yaxis": {
           "automargin": true,
           "gridcolor": "white",
           "linecolor": "white",
           "ticks": "",
           "title": {
            "standoff": 15
           },
           "zerolinecolor": "white",
           "zerolinewidth": 2
          }
         }
        },
        "title": {
         "text": "Val IoU vs GPU memory - (Architecture Encoder Loss EncoderFreeze)"
        },
        "xaxis": {
         "title": {
          "text": "Memory (mb)"
         }
        },
        "yaxis": {
         "title": {
          "text": "Val IoU"
         }
        }
       }
      }
     },
     "metadata": {},
     "output_type": "display_data"
    }
   ],
   "source": [
    "def plot_data_memory(big_df: pd.DataFrame, y_volumn, y_column_name, plot_title, x_column=\"index\", x_column_name=\"Epochs\", filter=None):\n",
    "    fig = go.Figure()\n",
    "    big_df_copy = big_df.copy(deep=True)\n",
    "    if filter != None:\n",
    "        big_df_copy.query(filter, inplace=True)\n",
    "    # for f in image_files_FINAL:\n",
    "    for data in big_df_copy.groupby(['architecture', 'encoder', 'loss_func', 'freeze_encoder']):\n",
    "        architecture, encoder, loss, freeze = data[0]\n",
    "        df: pd.DataFrame = data[1]\n",
    "        max_row = df.iloc[df['val_iou_score'].idxmax()]\n",
    "\n",
    "        hovertemplate=f\"<b>{architecture} {encoder} {loss} {freeze}</b><br><br>\" + \\\n",
    "                        f\"{plot_title}\"+\": %{y:.3}<br>\" + \\\n",
    "                        f\"{x_column_name}\"+\": %{x}<br>\" + \\\n",
    "                        \"<extra></extra>\",\n",
    "        \n",
    "        fig.add_trace(go.Scatter(x=[max_row[x_column]], y=[max_row[y_volumn]], name=f\"{architecture} {encoder} {loss} {freeze}\", hovertemplate=hovertemplate, mode='markers')) # \n",
    "        \n",
    "    # fig.update_traces(hoverinfo='text+name', mode='lines+markers')\n",
    "    fig.update_layout(legend=dict(y=0.5, traceorder='reversed', font_size=16))\n",
    "    fig.update_layout(\n",
    "        title=f\"{plot_title} - (Architecture Encoder Loss EncoderFreeze)\",\n",
    "        # title=\"Training loss - (Architecture Encoder Loss)\",\n",
    "        xaxis_title=x_column_name,\n",
    "        yaxis_title=y_column_name,\n",
    "            font=dict(\n",
    "            size=14,\n",
    "        )\n",
    "    )\n",
    "    # fig.update_layout(hovermode=\"x unified\")\n",
    "    fig.show()\n",
    "\n",
    "# plot_data_memory(big_df, y_volumn='train_iou_score', y_column_name=\"IoU\", x_column=\"memory_used\", x_column_name=\"Memory (mb)\", plot_title=\"Train IoU\")\n",
    "plot_data_memory(big_df, y_volumn='val_iou_score', y_column_name=\"Val IoU\", x_column=\"memory_used\", x_column_name=\"Memory (mb)\", plot_title=\"Val IoU vs GPU memory\")"
   ]
  }
 ],
 "metadata": {
  "kernelspec": {
   "display_name": "detectron2",
   "language": "python",
   "name": "python3"
  },
  "language_info": {
   "codemirror_mode": {
    "name": "ipython",
    "version": 3
   },
   "file_extension": ".py",
   "mimetype": "text/x-python",
   "name": "python",
   "nbconvert_exporter": "python",
   "pygments_lexer": "ipython3",
   "version": "3.10.13"
  }
 },
 "nbformat": 4,
 "nbformat_minor": 2
}
