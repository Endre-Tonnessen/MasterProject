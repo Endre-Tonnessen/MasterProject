{
 "cells": [
  {
   "cell_type": "markdown",
   "metadata": {},
   "source": [
    "# Upscale testing"
   ]
  },
  {
   "cell_type": "code",
   "execution_count": 1,
   "metadata": {},
   "outputs": [],
   "source": [
    "from PIL import Image\n",
    "from pathlib import Path\n",
    "import plotly.express as px\n",
    "import plotly.graph_objects as go\n",
    "from plotly.subplots import make_subplots\n",
    "import pandas as pd\n",
    "import imageio.v3 as iio\n",
    "import matplotlib.pyplot as plt\n",
    "import numpy as np\n",
    "from helper_functions.helper_functions import pixels_between_points\n",
    "import pathlib\n",
    "import platform\n",
    "plt2 = platform.system()\n",
    "if plt2 == 'Windows': pathlib.PosixPath = pathlib.WindowsPath\n",
    "\n",
    "from scipy.ndimage import map_coordinates"
   ]
  },
  {
   "cell_type": "code",
   "execution_count": 2,
   "metadata": {},
   "outputs": [
    {
     "name": "stdout",
     "output_type": "stream",
     "text": [
      "[[0. 0. 0. 0. 0. 0. 0. 0. 0. 0.]\n",
      " [0. 0. 0. 0. 0. 0. 0. 0. 0. 0.]\n",
      " [0. 0. 1. 1. 1. 1. 1. 1. 0. 0.]\n",
      " [0. 0. 1. 0. 0. 0. 0. 1. 0. 0.]\n",
      " [0. 0. 1. 0. 0. 0. 0. 1. 0. 0.]\n",
      " [0. 0. 1. 0. 0. 0. 0. 1. 0. 0.]\n",
      " [0. 0. 1. 0. 0. 0. 0. 1. 0. 0.]\n",
      " [0. 0. 1. 1. 1. 1. 1. 1. 0. 0.]\n",
      " [0. 0. 0. 0. 0. 0. 0. 0. 0. 0.]\n",
      " [0. 0. 0. 0. 0. 0. 0. 0. 0. 0.]]\n"
     ]
    }
   ],
   "source": [
    "test_image = np.zeros((10,10))\n",
    "# Pixels\n",
    "test_image[2, 2:8] = 1\n",
    "test_image[7, 2:8] = 1\n",
    "test_image[2:7, 2] = 1\n",
    "test_image[2:7, 7] = 1\n",
    "print(test_image)\n",
    "# 400 points\n",
    "x_top = np.linspace(2,7)\n",
    "y_top = np.array([2 for _ in range(len(x_top))])\n",
    "x_bottom = np.linspace(7,2)\n",
    "y_bottom = np.array([7 for _ in range(len(x_top))])\n",
    "\n",
    "x_right = np.array([7 for _ in range(len(x_top))])\n",
    "y_right = np.linspace(2,7)\n",
    "\n",
    "x_left = np.array([2 for _ in range(len(x_top))])\n",
    "y_left = np.linspace(7,2)\n",
    "\n",
    "fourier_xs = np.concatenate(( x_left, x_top, x_right, x_bottom,)) #+0.001\n",
    "fourier_ys = np.concatenate(( y_left, y_top, y_right, y_bottom,)) #+0.001\n",
    "\n",
    "# Define the scaling factor \n",
    "scale_factor = 3\n",
    "\n",
    "fourier_xs_with_offset = fourier_xs*scale_factor+scale_factor/2-0.5\n",
    "fourier_ys_with_offset = fourier_ys*scale_factor+scale_factor/2-0.5"
   ]
  },
  {
   "cell_type": "markdown",
   "metadata": {},
   "source": [
    "\n",
    "\n",
    "Use the get_pixels_between() on the upscaled image using different border scaled differently. Plot and print image to see which pixels are grabbed.\n",
    "Visually verify the new pixel border an see if it lines up correctly in the printout."
   ]
  },
  {
   "cell_type": "code",
   "execution_count": 3,
   "metadata": {},
   "outputs": [],
   "source": [
    "def gridlines(image: np.ndarray):\n",
    "    xs = []\n",
    "    ys = []\n",
    "    for x in range(image.shape[0]):\n",
    "        # x=0\n",
    "        xs += [x-0.5, x-0.5, None]\n",
    "        ys += [-0.5, image.shape[1]-0.5, None]\n",
    "        # y=0\n",
    "        ys += [x-0.5, x-0.5, None]\n",
    "        xs += [-0.5, image.shape[1]-0.5, None]\n",
    "    return xs,ys"
   ]
  },
  {
   "cell_type": "markdown",
   "metadata": {},
   "source": [
    "# Proving the offset is necessary\n",
    "\n",
    "Granule explorer uses `map_coordinates()` from scipy on granule images. This method treats pixel coordinates as their 'center'. Therfore we need to add the offset when scaling the border.\n",
    "Write about this in the thesis. Could not find any information about this on the internet??"
   ]
  },
  {
   "cell_type": "code",
   "execution_count": 4,
   "metadata": {},
   "outputs": [],
   "source": [
    "# map_coordinates() uses pixels as integer centered. This means any value sampled +- 1/2 from the integer coordinate will be the same as the same.\n",
    "# Had map_coordinates() instead treated them as 'corner integered' a different value would have been returned when we deviate from the coordinate in the minus direction.\n",
    "assert map_coordinates(test_image, [[1.9],[1.9]], order=0) == np.array([1]), \"At this position the value is expected to be 1.\"\n",
    "assert map_coordinates(test_image, [[0],[0]], order=0) == np.array([0]), \"At this position the value is expected to be 0.\""
   ]
  },
  {
   "cell_type": "code",
   "execution_count": 5,
   "metadata": {},
   "outputs": [],
   "source": [
    "# original_image = Image.fromarray(test_image)\n",
    "\n",
    "# # Get the size of the original image\n",
    "# original_width, original_height = original_image.size\n",
    "# # Calculate the new size of the image after upscaling\n",
    "# new_width = original_width * scale_factor\n",
    "# new_height = original_height * scale_factor\n",
    "# # Resize the image using the new size\n",
    "# upscaled_image_box = np.array(original_image.resize((new_width, new_height), Image.Resampling.NEAREST))        \n",
    "\n",
    "# fig = make_subplots(rows=1, cols=1, \n",
    "#                     horizontal_spacing=0.01, \n",
    "#                     vertical_spacing=0.1,\n",
    "#                     subplot_titles=('Original image', f\"Upscaled image s={scale_factor}\"))\n",
    "# # Add images to plot\n",
    "# base_image_fig = px.imshow(test_image)\n",
    "# fig.add_trace(base_image_fig.data[0], 1, 1)\n",
    "# xs, ys = gridlines(test_image)\n",
    "# fig.add_trace(go.Scatter(x=xs, y=ys, marker=dict(color='black', size=1), name=f\"Pixel edges\", showlegend=False), row=1, col=1)\n",
    "\n",
    "# zi = map_coordinates(original_image, [[1.9],[1.9]], order=0)\n",
    "# print(zi)\n",
    "# fig.add_trace(go.Scatter(x=[2,2], y=[7,7], marker=dict(color='red', size=10), name=f\"Point\"), row=1, col=1)\n",
    "\n",
    "# fig.update_layout(title_text=f\"\", title_x=0.5, width=1400, height=800, showlegend=True, font_size=11)\n",
    "# fig.update(layout_coloraxis_showscale=False)\n",
    "# # fig.show()"
   ]
  },
  {
   "cell_type": "code",
   "execution_count": 6,
   "metadata": {},
   "outputs": [
    {
     "data": {
      "application/vnd.plotly.v1+json": {
       "config": {
        "plotlyServerURL": "https://plot.ly"
       },
       "data": [
        {
         "coloraxis": "coloraxis",
         "hovertemplate": "x: %{x}<br>y: %{y}<br>color: %{z}<extra></extra>",
         "name": "0",
         "type": "heatmap",
         "xaxis": "x",
         "yaxis": "y",
         "z": [
          [
           0,
           0,
           0,
           0,
           0,
           0,
           0,
           0,
           0,
           0
          ],
          [
           0,
           0,
           0,
           0,
           0,
           0,
           0,
           0,
           0,
           0
          ],
          [
           0,
           0,
           1,
           1,
           1,
           1,
           1,
           1,
           0,
           0
          ],
          [
           0,
           0,
           1,
           0,
           0,
           0,
           0,
           1,
           0,
           0
          ],
          [
           0,
           0,
           1,
           0,
           0,
           0,
           0,
           1,
           0,
           0
          ],
          [
           0,
           0,
           1,
           0,
           0,
           0,
           0,
           1,
           0,
           0
          ],
          [
           0,
           0,
           1,
           0,
           0,
           0,
           0,
           1,
           0,
           0
          ],
          [
           0,
           0,
           1,
           1,
           1,
           1,
           1,
           1,
           0,
           0
          ],
          [
           0,
           0,
           0,
           0,
           0,
           0,
           0,
           0,
           0,
           0
          ],
          [
           0,
           0,
           0,
           0,
           0,
           0,
           0,
           0,
           0,
           0
          ]
         ]
        },
        {
         "marker": {
          "color": "black",
          "size": 1
         },
         "name": "Pixel edges",
         "showlegend": false,
         "type": "scatter",
         "x": [
          -0.5,
          -0.5,
          null,
          -0.5,
          9.5,
          null,
          0.5,
          0.5,
          null,
          -0.5,
          9.5,
          null,
          1.5,
          1.5,
          null,
          -0.5,
          9.5,
          null,
          2.5,
          2.5,
          null,
          -0.5,
          9.5,
          null,
          3.5,
          3.5,
          null,
          -0.5,
          9.5,
          null,
          4.5,
          4.5,
          null,
          -0.5,
          9.5,
          null,
          5.5,
          5.5,
          null,
          -0.5,
          9.5,
          null,
          6.5,
          6.5,
          null,
          -0.5,
          9.5,
          null,
          7.5,
          7.5,
          null,
          -0.5,
          9.5,
          null,
          8.5,
          8.5,
          null,
          -0.5,
          9.5,
          null
         ],
         "xaxis": "x",
         "y": [
          -0.5,
          9.5,
          null,
          -0.5,
          -0.5,
          null,
          -0.5,
          9.5,
          null,
          0.5,
          0.5,
          null,
          -0.5,
          9.5,
          null,
          1.5,
          1.5,
          null,
          -0.5,
          9.5,
          null,
          2.5,
          2.5,
          null,
          -0.5,
          9.5,
          null,
          3.5,
          3.5,
          null,
          -0.5,
          9.5,
          null,
          4.5,
          4.5,
          null,
          -0.5,
          9.5,
          null,
          5.5,
          5.5,
          null,
          -0.5,
          9.5,
          null,
          6.5,
          6.5,
          null,
          -0.5,
          9.5,
          null,
          7.5,
          7.5,
          null,
          -0.5,
          9.5,
          null,
          8.5,
          8.5,
          null
         ],
         "yaxis": "y"
        },
        {
         "coloraxis": "coloraxis",
         "hovertemplate": "x: %{x}<br>y: %{y}<br>color: %{z}<extra></extra>",
         "name": "0",
         "type": "heatmap",
         "xaxis": "x2",
         "yaxis": "y2",
         "z": [
          [
           0,
           0,
           0,
           0,
           0,
           0,
           0,
           0,
           0,
           0,
           0,
           0,
           0,
           0,
           0,
           0,
           0,
           0,
           0,
           0,
           0,
           0,
           0,
           0,
           0,
           0,
           0,
           0,
           0,
           0
          ],
          [
           0,
           0,
           0,
           0,
           0,
           0,
           0,
           0,
           0,
           0,
           0,
           0,
           0,
           0,
           0,
           0,
           0,
           0,
           0,
           0,
           0,
           0,
           0,
           0,
           0,
           0,
           0,
           0,
           0,
           0
          ],
          [
           0,
           0,
           0,
           0,
           0,
           0,
           0,
           0,
           0,
           0,
           0,
           0,
           0,
           0,
           0,
           0,
           0,
           0,
           0,
           0,
           0,
           0,
           0,
           0,
           0,
           0,
           0,
           0,
           0,
           0
          ],
          [
           0,
           0,
           0,
           0,
           0,
           0,
           0,
           0,
           0,
           0,
           0,
           0,
           0,
           0,
           0,
           0,
           0,
           0,
           0,
           0,
           0,
           0,
           0,
           0,
           0,
           0,
           0,
           0,
           0,
           0
          ],
          [
           0,
           0,
           0,
           0,
           0,
           0,
           0,
           0,
           0,
           0,
           0,
           0,
           0,
           0,
           0,
           0,
           0,
           0,
           0,
           0,
           0,
           0,
           0,
           0,
           0,
           0,
           0,
           0,
           0,
           0
          ],
          [
           0,
           0,
           0,
           0,
           0,
           0,
           0,
           0,
           0,
           0,
           0,
           0,
           0,
           0,
           0,
           0,
           0,
           0,
           0,
           0,
           0,
           0,
           0,
           0,
           0,
           0,
           0,
           0,
           0,
           0
          ],
          [
           0,
           0,
           0,
           0,
           0,
           0,
           1,
           1,
           1,
           1,
           1,
           1,
           1,
           1,
           1,
           1,
           1,
           1,
           1,
           1,
           1,
           1,
           1,
           1,
           0,
           0,
           0,
           0,
           0,
           0
          ],
          [
           0,
           0,
           0,
           0,
           0,
           0,
           1,
           1,
           1,
           1,
           1,
           1,
           1,
           1,
           1,
           1,
           1,
           1,
           1,
           1,
           1,
           1,
           1,
           1,
           0,
           0,
           0,
           0,
           0,
           0
          ],
          [
           0,
           0,
           0,
           0,
           0,
           0,
           1,
           1,
           1,
           1,
           1,
           1,
           1,
           1,
           1,
           1,
           1,
           1,
           1,
           1,
           1,
           1,
           1,
           1,
           0,
           0,
           0,
           0,
           0,
           0
          ],
          [
           0,
           0,
           0,
           0,
           0,
           0,
           1,
           1,
           1,
           0,
           0,
           0,
           0,
           0,
           0,
           0,
           0,
           0,
           0,
           0,
           0,
           1,
           1,
           1,
           0,
           0,
           0,
           0,
           0,
           0
          ],
          [
           0,
           0,
           0,
           0,
           0,
           0,
           1,
           1,
           1,
           0,
           0,
           0,
           0,
           0,
           0,
           0,
           0,
           0,
           0,
           0,
           0,
           1,
           1,
           1,
           0,
           0,
           0,
           0,
           0,
           0
          ],
          [
           0,
           0,
           0,
           0,
           0,
           0,
           1,
           1,
           1,
           0,
           0,
           0,
           0,
           0,
           0,
           0,
           0,
           0,
           0,
           0,
           0,
           1,
           1,
           1,
           0,
           0,
           0,
           0,
           0,
           0
          ],
          [
           0,
           0,
           0,
           0,
           0,
           0,
           1,
           1,
           1,
           0,
           0,
           0,
           0,
           0,
           0,
           0,
           0,
           0,
           0,
           0,
           0,
           1,
           1,
           1,
           0,
           0,
           0,
           0,
           0,
           0
          ],
          [
           0,
           0,
           0,
           0,
           0,
           0,
           1,
           1,
           1,
           0,
           0,
           0,
           0,
           0,
           0,
           0,
           0,
           0,
           0,
           0,
           0,
           1,
           1,
           1,
           0,
           0,
           0,
           0,
           0,
           0
          ],
          [
           0,
           0,
           0,
           0,
           0,
           0,
           1,
           1,
           1,
           0,
           0,
           0,
           0,
           0,
           0,
           0,
           0,
           0,
           0,
           0,
           0,
           1,
           1,
           1,
           0,
           0,
           0,
           0,
           0,
           0
          ],
          [
           0,
           0,
           0,
           0,
           0,
           0,
           1,
           1,
           1,
           0,
           0,
           0,
           0,
           0,
           0,
           0,
           0,
           0,
           0,
           0,
           0,
           1,
           1,
           1,
           0,
           0,
           0,
           0,
           0,
           0
          ],
          [
           0,
           0,
           0,
           0,
           0,
           0,
           1,
           1,
           1,
           0,
           0,
           0,
           0,
           0,
           0,
           0,
           0,
           0,
           0,
           0,
           0,
           1,
           1,
           1,
           0,
           0,
           0,
           0,
           0,
           0
          ],
          [
           0,
           0,
           0,
           0,
           0,
           0,
           1,
           1,
           1,
           0,
           0,
           0,
           0,
           0,
           0,
           0,
           0,
           0,
           0,
           0,
           0,
           1,
           1,
           1,
           0,
           0,
           0,
           0,
           0,
           0
          ],
          [
           0,
           0,
           0,
           0,
           0,
           0,
           1,
           1,
           1,
           0,
           0,
           0,
           0,
           0,
           0,
           0,
           0,
           0,
           0,
           0,
           0,
           1,
           1,
           1,
           0,
           0,
           0,
           0,
           0,
           0
          ],
          [
           0,
           0,
           0,
           0,
           0,
           0,
           1,
           1,
           1,
           0,
           0,
           0,
           0,
           0,
           0,
           0,
           0,
           0,
           0,
           0,
           0,
           1,
           1,
           1,
           0,
           0,
           0,
           0,
           0,
           0
          ],
          [
           0,
           0,
           0,
           0,
           0,
           0,
           1,
           1,
           1,
           0,
           0,
           0,
           0,
           0,
           0,
           0,
           0,
           0,
           0,
           0,
           0,
           1,
           1,
           1,
           0,
           0,
           0,
           0,
           0,
           0
          ],
          [
           0,
           0,
           0,
           0,
           0,
           0,
           1,
           1,
           1,
           1,
           1,
           1,
           1,
           1,
           1,
           1,
           1,
           1,
           1,
           1,
           1,
           1,
           1,
           1,
           0,
           0,
           0,
           0,
           0,
           0
          ],
          [
           0,
           0,
           0,
           0,
           0,
           0,
           1,
           1,
           1,
           1,
           1,
           1,
           1,
           1,
           1,
           1,
           1,
           1,
           1,
           1,
           1,
           1,
           1,
           1,
           0,
           0,
           0,
           0,
           0,
           0
          ],
          [
           0,
           0,
           0,
           0,
           0,
           0,
           1,
           1,
           1,
           1,
           1,
           1,
           1,
           1,
           1,
           1,
           1,
           1,
           1,
           1,
           1,
           1,
           1,
           1,
           0,
           0,
           0,
           0,
           0,
           0
          ],
          [
           0,
           0,
           0,
           0,
           0,
           0,
           0,
           0,
           0,
           0,
           0,
           0,
           0,
           0,
           0,
           0,
           0,
           0,
           0,
           0,
           0,
           0,
           0,
           0,
           0,
           0,
           0,
           0,
           0,
           0
          ],
          [
           0,
           0,
           0,
           0,
           0,
           0,
           0,
           0,
           0,
           0,
           0,
           0,
           0,
           0,
           0,
           0,
           0,
           0,
           0,
           0,
           0,
           0,
           0,
           0,
           0,
           0,
           0,
           0,
           0,
           0
          ],
          [
           0,
           0,
           0,
           0,
           0,
           0,
           0,
           0,
           0,
           0,
           0,
           0,
           0,
           0,
           0,
           0,
           0,
           0,
           0,
           0,
           0,
           0,
           0,
           0,
           0,
           0,
           0,
           0,
           0,
           0
          ],
          [
           0,
           0,
           0,
           0,
           0,
           0,
           0,
           0,
           0,
           0,
           0,
           0,
           0,
           0,
           0,
           0,
           0,
           0,
           0,
           0,
           0,
           0,
           0,
           0,
           0,
           0,
           0,
           0,
           0,
           0
          ],
          [
           0,
           0,
           0,
           0,
           0,
           0,
           0,
           0,
           0,
           0,
           0,
           0,
           0,
           0,
           0,
           0,
           0,
           0,
           0,
           0,
           0,
           0,
           0,
           0,
           0,
           0,
           0,
           0,
           0,
           0
          ],
          [
           0,
           0,
           0,
           0,
           0,
           0,
           0,
           0,
           0,
           0,
           0,
           0,
           0,
           0,
           0,
           0,
           0,
           0,
           0,
           0,
           0,
           0,
           0,
           0,
           0,
           0,
           0,
           0,
           0,
           0
          ]
         ]
        },
        {
         "marker": {
          "color": "black",
          "size": 1
         },
         "name": "Pixel edges",
         "showlegend": false,
         "type": "scatter",
         "x": [
          -0.5,
          -0.5,
          null,
          -0.5,
          29.5,
          null,
          0.5,
          0.5,
          null,
          -0.5,
          29.5,
          null,
          1.5,
          1.5,
          null,
          -0.5,
          29.5,
          null,
          2.5,
          2.5,
          null,
          -0.5,
          29.5,
          null,
          3.5,
          3.5,
          null,
          -0.5,
          29.5,
          null,
          4.5,
          4.5,
          null,
          -0.5,
          29.5,
          null,
          5.5,
          5.5,
          null,
          -0.5,
          29.5,
          null,
          6.5,
          6.5,
          null,
          -0.5,
          29.5,
          null,
          7.5,
          7.5,
          null,
          -0.5,
          29.5,
          null,
          8.5,
          8.5,
          null,
          -0.5,
          29.5,
          null,
          9.5,
          9.5,
          null,
          -0.5,
          29.5,
          null,
          10.5,
          10.5,
          null,
          -0.5,
          29.5,
          null,
          11.5,
          11.5,
          null,
          -0.5,
          29.5,
          null,
          12.5,
          12.5,
          null,
          -0.5,
          29.5,
          null,
          13.5,
          13.5,
          null,
          -0.5,
          29.5,
          null,
          14.5,
          14.5,
          null,
          -0.5,
          29.5,
          null,
          15.5,
          15.5,
          null,
          -0.5,
          29.5,
          null,
          16.5,
          16.5,
          null,
          -0.5,
          29.5,
          null,
          17.5,
          17.5,
          null,
          -0.5,
          29.5,
          null,
          18.5,
          18.5,
          null,
          -0.5,
          29.5,
          null,
          19.5,
          19.5,
          null,
          -0.5,
          29.5,
          null,
          20.5,
          20.5,
          null,
          -0.5,
          29.5,
          null,
          21.5,
          21.5,
          null,
          -0.5,
          29.5,
          null,
          22.5,
          22.5,
          null,
          -0.5,
          29.5,
          null,
          23.5,
          23.5,
          null,
          -0.5,
          29.5,
          null,
          24.5,
          24.5,
          null,
          -0.5,
          29.5,
          null,
          25.5,
          25.5,
          null,
          -0.5,
          29.5,
          null,
          26.5,
          26.5,
          null,
          -0.5,
          29.5,
          null,
          27.5,
          27.5,
          null,
          -0.5,
          29.5,
          null,
          28.5,
          28.5,
          null,
          -0.5,
          29.5,
          null
         ],
         "xaxis": "x2",
         "y": [
          -0.5,
          29.5,
          null,
          -0.5,
          -0.5,
          null,
          -0.5,
          29.5,
          null,
          0.5,
          0.5,
          null,
          -0.5,
          29.5,
          null,
          1.5,
          1.5,
          null,
          -0.5,
          29.5,
          null,
          2.5,
          2.5,
          null,
          -0.5,
          29.5,
          null,
          3.5,
          3.5,
          null,
          -0.5,
          29.5,
          null,
          4.5,
          4.5,
          null,
          -0.5,
          29.5,
          null,
          5.5,
          5.5,
          null,
          -0.5,
          29.5,
          null,
          6.5,
          6.5,
          null,
          -0.5,
          29.5,
          null,
          7.5,
          7.5,
          null,
          -0.5,
          29.5,
          null,
          8.5,
          8.5,
          null,
          -0.5,
          29.5,
          null,
          9.5,
          9.5,
          null,
          -0.5,
          29.5,
          null,
          10.5,
          10.5,
          null,
          -0.5,
          29.5,
          null,
          11.5,
          11.5,
          null,
          -0.5,
          29.5,
          null,
          12.5,
          12.5,
          null,
          -0.5,
          29.5,
          null,
          13.5,
          13.5,
          null,
          -0.5,
          29.5,
          null,
          14.5,
          14.5,
          null,
          -0.5,
          29.5,
          null,
          15.5,
          15.5,
          null,
          -0.5,
          29.5,
          null,
          16.5,
          16.5,
          null,
          -0.5,
          29.5,
          null,
          17.5,
          17.5,
          null,
          -0.5,
          29.5,
          null,
          18.5,
          18.5,
          null,
          -0.5,
          29.5,
          null,
          19.5,
          19.5,
          null,
          -0.5,
          29.5,
          null,
          20.5,
          20.5,
          null,
          -0.5,
          29.5,
          null,
          21.5,
          21.5,
          null,
          -0.5,
          29.5,
          null,
          22.5,
          22.5,
          null,
          -0.5,
          29.5,
          null,
          23.5,
          23.5,
          null,
          -0.5,
          29.5,
          null,
          24.5,
          24.5,
          null,
          -0.5,
          29.5,
          null,
          25.5,
          25.5,
          null,
          -0.5,
          29.5,
          null,
          26.5,
          26.5,
          null,
          -0.5,
          29.5,
          null,
          27.5,
          27.5,
          null,
          -0.5,
          29.5,
          null,
          28.5,
          28.5,
          null
         ],
         "yaxis": "y2"
        },
        {
         "marker": {
          "color": "red",
          "size": 10
         },
         "name": "Point",
         "type": "scatter",
         "x": [
          2,
          2
         ],
         "xaxis": "x",
         "y": [
          7,
          7
         ],
         "yaxis": "y"
        },
        {
         "marker": {
          "color": "red",
          "size": 10
         },
         "name": "Point",
         "type": "scatter",
         "x": [
          7,
          7
         ],
         "xaxis": "x2",
         "y": [
          22,
          22
         ],
         "yaxis": "y2"
        }
       ],
       "layout": {
        "annotations": [
         {
          "font": {
           "size": 16
          },
          "showarrow": false,
          "text": "Original image",
          "x": 0.2475,
          "xanchor": "center",
          "xref": "paper",
          "y": 1,
          "yanchor": "bottom",
          "yref": "paper"
         },
         {
          "font": {
           "size": 16
          },
          "showarrow": false,
          "text": "Upscaled image s=3",
          "x": 0.7525,
          "xanchor": "center",
          "xref": "paper",
          "y": 1,
          "yanchor": "bottom",
          "yref": "paper"
         }
        ],
        "coloraxis": {
         "showscale": false
        },
        "font": {
         "size": 11
        },
        "height": 800,
        "showlegend": true,
        "template": {
         "data": {
          "bar": [
           {
            "error_x": {
             "color": "#2a3f5f"
            },
            "error_y": {
             "color": "#2a3f5f"
            },
            "marker": {
             "line": {
              "color": "#E5ECF6",
              "width": 0.5
             },
             "pattern": {
              "fillmode": "overlay",
              "size": 10,
              "solidity": 0.2
             }
            },
            "type": "bar"
           }
          ],
          "barpolar": [
           {
            "marker": {
             "line": {
              "color": "#E5ECF6",
              "width": 0.5
             },
             "pattern": {
              "fillmode": "overlay",
              "size": 10,
              "solidity": 0.2
             }
            },
            "type": "barpolar"
           }
          ],
          "carpet": [
           {
            "aaxis": {
             "endlinecolor": "#2a3f5f",
             "gridcolor": "white",
             "linecolor": "white",
             "minorgridcolor": "white",
             "startlinecolor": "#2a3f5f"
            },
            "baxis": {
             "endlinecolor": "#2a3f5f",
             "gridcolor": "white",
             "linecolor": "white",
             "minorgridcolor": "white",
             "startlinecolor": "#2a3f5f"
            },
            "type": "carpet"
           }
          ],
          "choropleth": [
           {
            "colorbar": {
             "outlinewidth": 0,
             "ticks": ""
            },
            "type": "choropleth"
           }
          ],
          "contour": [
           {
            "colorbar": {
             "outlinewidth": 0,
             "ticks": ""
            },
            "colorscale": [
             [
              0,
              "#0d0887"
             ],
             [
              0.1111111111111111,
              "#46039f"
             ],
             [
              0.2222222222222222,
              "#7201a8"
             ],
             [
              0.3333333333333333,
              "#9c179e"
             ],
             [
              0.4444444444444444,
              "#bd3786"
             ],
             [
              0.5555555555555556,
              "#d8576b"
             ],
             [
              0.6666666666666666,
              "#ed7953"
             ],
             [
              0.7777777777777778,
              "#fb9f3a"
             ],
             [
              0.8888888888888888,
              "#fdca26"
             ],
             [
              1,
              "#f0f921"
             ]
            ],
            "type": "contour"
           }
          ],
          "contourcarpet": [
           {
            "colorbar": {
             "outlinewidth": 0,
             "ticks": ""
            },
            "type": "contourcarpet"
           }
          ],
          "heatmap": [
           {
            "colorbar": {
             "outlinewidth": 0,
             "ticks": ""
            },
            "colorscale": [
             [
              0,
              "#0d0887"
             ],
             [
              0.1111111111111111,
              "#46039f"
             ],
             [
              0.2222222222222222,
              "#7201a8"
             ],
             [
              0.3333333333333333,
              "#9c179e"
             ],
             [
              0.4444444444444444,
              "#bd3786"
             ],
             [
              0.5555555555555556,
              "#d8576b"
             ],
             [
              0.6666666666666666,
              "#ed7953"
             ],
             [
              0.7777777777777778,
              "#fb9f3a"
             ],
             [
              0.8888888888888888,
              "#fdca26"
             ],
             [
              1,
              "#f0f921"
             ]
            ],
            "type": "heatmap"
           }
          ],
          "heatmapgl": [
           {
            "colorbar": {
             "outlinewidth": 0,
             "ticks": ""
            },
            "colorscale": [
             [
              0,
              "#0d0887"
             ],
             [
              0.1111111111111111,
              "#46039f"
             ],
             [
              0.2222222222222222,
              "#7201a8"
             ],
             [
              0.3333333333333333,
              "#9c179e"
             ],
             [
              0.4444444444444444,
              "#bd3786"
             ],
             [
              0.5555555555555556,
              "#d8576b"
             ],
             [
              0.6666666666666666,
              "#ed7953"
             ],
             [
              0.7777777777777778,
              "#fb9f3a"
             ],
             [
              0.8888888888888888,
              "#fdca26"
             ],
             [
              1,
              "#f0f921"
             ]
            ],
            "type": "heatmapgl"
           }
          ],
          "histogram": [
           {
            "marker": {
             "pattern": {
              "fillmode": "overlay",
              "size": 10,
              "solidity": 0.2
             }
            },
            "type": "histogram"
           }
          ],
          "histogram2d": [
           {
            "colorbar": {
             "outlinewidth": 0,
             "ticks": ""
            },
            "colorscale": [
             [
              0,
              "#0d0887"
             ],
             [
              0.1111111111111111,
              "#46039f"
             ],
             [
              0.2222222222222222,
              "#7201a8"
             ],
             [
              0.3333333333333333,
              "#9c179e"
             ],
             [
              0.4444444444444444,
              "#bd3786"
             ],
             [
              0.5555555555555556,
              "#d8576b"
             ],
             [
              0.6666666666666666,
              "#ed7953"
             ],
             [
              0.7777777777777778,
              "#fb9f3a"
             ],
             [
              0.8888888888888888,
              "#fdca26"
             ],
             [
              1,
              "#f0f921"
             ]
            ],
            "type": "histogram2d"
           }
          ],
          "histogram2dcontour": [
           {
            "colorbar": {
             "outlinewidth": 0,
             "ticks": ""
            },
            "colorscale": [
             [
              0,
              "#0d0887"
             ],
             [
              0.1111111111111111,
              "#46039f"
             ],
             [
              0.2222222222222222,
              "#7201a8"
             ],
             [
              0.3333333333333333,
              "#9c179e"
             ],
             [
              0.4444444444444444,
              "#bd3786"
             ],
             [
              0.5555555555555556,
              "#d8576b"
             ],
             [
              0.6666666666666666,
              "#ed7953"
             ],
             [
              0.7777777777777778,
              "#fb9f3a"
             ],
             [
              0.8888888888888888,
              "#fdca26"
             ],
             [
              1,
              "#f0f921"
             ]
            ],
            "type": "histogram2dcontour"
           }
          ],
          "mesh3d": [
           {
            "colorbar": {
             "outlinewidth": 0,
             "ticks": ""
            },
            "type": "mesh3d"
           }
          ],
          "parcoords": [
           {
            "line": {
             "colorbar": {
              "outlinewidth": 0,
              "ticks": ""
             }
            },
            "type": "parcoords"
           }
          ],
          "pie": [
           {
            "automargin": true,
            "type": "pie"
           }
          ],
          "scatter": [
           {
            "fillpattern": {
             "fillmode": "overlay",
             "size": 10,
             "solidity": 0.2
            },
            "type": "scatter"
           }
          ],
          "scatter3d": [
           {
            "line": {
             "colorbar": {
              "outlinewidth": 0,
              "ticks": ""
             }
            },
            "marker": {
             "colorbar": {
              "outlinewidth": 0,
              "ticks": ""
             }
            },
            "type": "scatter3d"
           }
          ],
          "scattercarpet": [
           {
            "marker": {
             "colorbar": {
              "outlinewidth": 0,
              "ticks": ""
             }
            },
            "type": "scattercarpet"
           }
          ],
          "scattergeo": [
           {
            "marker": {
             "colorbar": {
              "outlinewidth": 0,
              "ticks": ""
             }
            },
            "type": "scattergeo"
           }
          ],
          "scattergl": [
           {
            "marker": {
             "colorbar": {
              "outlinewidth": 0,
              "ticks": ""
             }
            },
            "type": "scattergl"
           }
          ],
          "scattermapbox": [
           {
            "marker": {
             "colorbar": {
              "outlinewidth": 0,
              "ticks": ""
             }
            },
            "type": "scattermapbox"
           }
          ],
          "scatterpolar": [
           {
            "marker": {
             "colorbar": {
              "outlinewidth": 0,
              "ticks": ""
             }
            },
            "type": "scatterpolar"
           }
          ],
          "scatterpolargl": [
           {
            "marker": {
             "colorbar": {
              "outlinewidth": 0,
              "ticks": ""
             }
            },
            "type": "scatterpolargl"
           }
          ],
          "scatterternary": [
           {
            "marker": {
             "colorbar": {
              "outlinewidth": 0,
              "ticks": ""
             }
            },
            "type": "scatterternary"
           }
          ],
          "surface": [
           {
            "colorbar": {
             "outlinewidth": 0,
             "ticks": ""
            },
            "colorscale": [
             [
              0,
              "#0d0887"
             ],
             [
              0.1111111111111111,
              "#46039f"
             ],
             [
              0.2222222222222222,
              "#7201a8"
             ],
             [
              0.3333333333333333,
              "#9c179e"
             ],
             [
              0.4444444444444444,
              "#bd3786"
             ],
             [
              0.5555555555555556,
              "#d8576b"
             ],
             [
              0.6666666666666666,
              "#ed7953"
             ],
             [
              0.7777777777777778,
              "#fb9f3a"
             ],
             [
              0.8888888888888888,
              "#fdca26"
             ],
             [
              1,
              "#f0f921"
             ]
            ],
            "type": "surface"
           }
          ],
          "table": [
           {
            "cells": {
             "fill": {
              "color": "#EBF0F8"
             },
             "line": {
              "color": "white"
             }
            },
            "header": {
             "fill": {
              "color": "#C8D4E3"
             },
             "line": {
              "color": "white"
             }
            },
            "type": "table"
           }
          ]
         },
         "layout": {
          "annotationdefaults": {
           "arrowcolor": "#2a3f5f",
           "arrowhead": 0,
           "arrowwidth": 1
          },
          "autotypenumbers": "strict",
          "coloraxis": {
           "colorbar": {
            "outlinewidth": 0,
            "ticks": ""
           }
          },
          "colorscale": {
           "diverging": [
            [
             0,
             "#8e0152"
            ],
            [
             0.1,
             "#c51b7d"
            ],
            [
             0.2,
             "#de77ae"
            ],
            [
             0.3,
             "#f1b6da"
            ],
            [
             0.4,
             "#fde0ef"
            ],
            [
             0.5,
             "#f7f7f7"
            ],
            [
             0.6,
             "#e6f5d0"
            ],
            [
             0.7,
             "#b8e186"
            ],
            [
             0.8,
             "#7fbc41"
            ],
            [
             0.9,
             "#4d9221"
            ],
            [
             1,
             "#276419"
            ]
           ],
           "sequential": [
            [
             0,
             "#0d0887"
            ],
            [
             0.1111111111111111,
             "#46039f"
            ],
            [
             0.2222222222222222,
             "#7201a8"
            ],
            [
             0.3333333333333333,
             "#9c179e"
            ],
            [
             0.4444444444444444,
             "#bd3786"
            ],
            [
             0.5555555555555556,
             "#d8576b"
            ],
            [
             0.6666666666666666,
             "#ed7953"
            ],
            [
             0.7777777777777778,
             "#fb9f3a"
            ],
            [
             0.8888888888888888,
             "#fdca26"
            ],
            [
             1,
             "#f0f921"
            ]
           ],
           "sequentialminus": [
            [
             0,
             "#0d0887"
            ],
            [
             0.1111111111111111,
             "#46039f"
            ],
            [
             0.2222222222222222,
             "#7201a8"
            ],
            [
             0.3333333333333333,
             "#9c179e"
            ],
            [
             0.4444444444444444,
             "#bd3786"
            ],
            [
             0.5555555555555556,
             "#d8576b"
            ],
            [
             0.6666666666666666,
             "#ed7953"
            ],
            [
             0.7777777777777778,
             "#fb9f3a"
            ],
            [
             0.8888888888888888,
             "#fdca26"
            ],
            [
             1,
             "#f0f921"
            ]
           ]
          },
          "colorway": [
           "#636efa",
           "#EF553B",
           "#00cc96",
           "#ab63fa",
           "#FFA15A",
           "#19d3f3",
           "#FF6692",
           "#B6E880",
           "#FF97FF",
           "#FECB52"
          ],
          "font": {
           "color": "#2a3f5f"
          },
          "geo": {
           "bgcolor": "white",
           "lakecolor": "white",
           "landcolor": "#E5ECF6",
           "showlakes": true,
           "showland": true,
           "subunitcolor": "white"
          },
          "hoverlabel": {
           "align": "left"
          },
          "hovermode": "closest",
          "mapbox": {
           "style": "light"
          },
          "paper_bgcolor": "white",
          "plot_bgcolor": "#E5ECF6",
          "polar": {
           "angularaxis": {
            "gridcolor": "white",
            "linecolor": "white",
            "ticks": ""
           },
           "bgcolor": "#E5ECF6",
           "radialaxis": {
            "gridcolor": "white",
            "linecolor": "white",
            "ticks": ""
           }
          },
          "scene": {
           "xaxis": {
            "backgroundcolor": "#E5ECF6",
            "gridcolor": "white",
            "gridwidth": 2,
            "linecolor": "white",
            "showbackground": true,
            "ticks": "",
            "zerolinecolor": "white"
           },
           "yaxis": {
            "backgroundcolor": "#E5ECF6",
            "gridcolor": "white",
            "gridwidth": 2,
            "linecolor": "white",
            "showbackground": true,
            "ticks": "",
            "zerolinecolor": "white"
           },
           "zaxis": {
            "backgroundcolor": "#E5ECF6",
            "gridcolor": "white",
            "gridwidth": 2,
            "linecolor": "white",
            "showbackground": true,
            "ticks": "",
            "zerolinecolor": "white"
           }
          },
          "shapedefaults": {
           "line": {
            "color": "#2a3f5f"
           }
          },
          "ternary": {
           "aaxis": {
            "gridcolor": "white",
            "linecolor": "white",
            "ticks": ""
           },
           "baxis": {
            "gridcolor": "white",
            "linecolor": "white",
            "ticks": ""
           },
           "bgcolor": "#E5ECF6",
           "caxis": {
            "gridcolor": "white",
            "linecolor": "white",
            "ticks": ""
           }
          },
          "title": {
           "x": 0.05
          },
          "xaxis": {
           "automargin": true,
           "gridcolor": "white",
           "linecolor": "white",
           "ticks": "",
           "title": {
            "standoff": 15
           },
           "zerolinecolor": "white",
           "zerolinewidth": 2
          },
          "yaxis": {
           "automargin": true,
           "gridcolor": "white",
           "linecolor": "white",
           "ticks": "",
           "title": {
            "standoff": 15
           },
           "zerolinecolor": "white",
           "zerolinewidth": 2
          }
         }
        },
        "title": {
         "text": "",
         "x": 0.5
        },
        "width": 1400,
        "xaxis": {
         "anchor": "y",
         "domain": [
          0,
          0.495
         ]
        },
        "xaxis2": {
         "anchor": "y2",
         "domain": [
          0.505,
          1
         ]
        },
        "yaxis": {
         "anchor": "x",
         "domain": [
          0,
          1
         ]
        },
        "yaxis2": {
         "anchor": "x2",
         "domain": [
          0,
          1
         ]
        }
       }
      }
     },
     "metadata": {},
     "output_type": "display_data"
    }
   ],
   "source": [
    "original_image = Image.fromarray(test_image)\n",
    "\n",
    "# Get the size of the original image\n",
    "original_width, original_height = original_image.size\n",
    "# Calculate the new size of the image after upscaling\n",
    "new_width = original_width * scale_factor\n",
    "new_height = original_height * scale_factor\n",
    "# Resize the image using the new size\n",
    "upscaled_image_box = np.array(original_image.resize((new_width, new_height), Image.Resampling.NEAREST))        \n",
    "\n",
    "fig = make_subplots(rows=1, cols=2, \n",
    "                    horizontal_spacing=0.01, \n",
    "                    vertical_spacing=0.1,\n",
    "                    subplot_titles=('Original image', f\"Upscaled image s={scale_factor}\"))\n",
    "# Add images to plot\n",
    "base_image_fig = px.imshow(test_image)\n",
    "fig.add_trace(base_image_fig.data[0], 1, 1)\n",
    "xs, ys = gridlines(test_image)\n",
    "fig.add_trace(go.Scatter(x=xs, y=ys, marker=dict(color='black', size=1), name=f\"Pixel edges\", showlegend=False), row=1, col=1)\n",
    "\n",
    "upscaled_image_fig = px.imshow(upscaled_image_box)\n",
    "fig.add_trace(upscaled_image_fig.data[0], 1, 2)\n",
    "xs, ys = gridlines(upscaled_image_box)\n",
    "fig.add_trace(go.Scatter(x=xs, y=ys, marker=dict(color='black', size=1), name=f\"Pixel edges\", showlegend=False), row=1, col=2)\n",
    "\n",
    "\n",
    "fig.add_trace(go.Scatter(x=[2,2], y=[7,7], marker=dict(color='red', size=10), name=f\"Point\"), row=1, col=1)\n",
    "fig.add_trace(go.Scatter(x=[2*scale_factor+scale_factor/2-0.5,2*scale_factor+scale_factor/2-0.5], y=[7*scale_factor+scale_factor/2-0.5,7*scale_factor+scale_factor/2-0.5], marker=dict(color='red', size=10), name=f\"Point\"), row=1, col=2)\n",
    "\n",
    "fig.update_layout(title_text=f\"\", title_x=0.5, width=1400, height=800, showlegend=True, font_size=11)\n",
    "fig.update(layout_coloraxis_showscale=False)\n",
    "fig.show()"
   ]
  },
  {
   "cell_type": "code",
   "execution_count": 7,
   "metadata": {},
   "outputs": [
    {
     "data": {
      "application/vnd.plotly.v1+json": {
       "config": {
        "plotlyServerURL": "https://plot.ly"
       },
       "data": [
        {
         "coloraxis": "coloraxis",
         "hovertemplate": "x: %{x}<br>y: %{y}<br>color: %{z}<extra></extra>",
         "name": "0",
         "type": "heatmap",
         "xaxis": "x",
         "yaxis": "y",
         "z": [
          [
           0,
           0,
           0,
           0,
           0,
           0,
           0,
           0,
           0,
           0
          ],
          [
           0,
           0,
           0,
           0,
           0,
           0,
           0,
           0,
           0,
           0
          ],
          [
           0,
           0,
           1,
           1,
           1,
           1,
           1,
           1,
           0,
           0
          ],
          [
           0,
           0,
           1,
           0,
           0,
           0,
           0,
           1,
           0,
           0
          ],
          [
           0,
           0,
           1,
           0,
           0,
           0,
           0,
           1,
           0,
           0
          ],
          [
           0,
           0,
           1,
           0,
           0,
           0,
           0,
           1,
           0,
           0
          ],
          [
           0,
           0,
           1,
           0,
           0,
           0,
           0,
           1,
           0,
           0
          ],
          [
           0,
           0,
           1,
           1,
           1,
           1,
           1,
           1,
           0,
           0
          ],
          [
           0,
           0,
           0,
           0,
           0,
           0,
           0,
           0,
           0,
           0
          ],
          [
           0,
           0,
           0,
           0,
           0,
           0,
           0,
           0,
           0,
           0
          ]
         ]
        },
        {
         "marker": {
          "color": "black",
          "size": 1
         },
         "name": "Pixel edges",
         "showlegend": false,
         "type": "scatter",
         "x": [
          -0.5,
          -0.5,
          null,
          -0.5,
          9.5,
          null,
          0.5,
          0.5,
          null,
          -0.5,
          9.5,
          null,
          1.5,
          1.5,
          null,
          -0.5,
          9.5,
          null,
          2.5,
          2.5,
          null,
          -0.5,
          9.5,
          null,
          3.5,
          3.5,
          null,
          -0.5,
          9.5,
          null,
          4.5,
          4.5,
          null,
          -0.5,
          9.5,
          null,
          5.5,
          5.5,
          null,
          -0.5,
          9.5,
          null,
          6.5,
          6.5,
          null,
          -0.5,
          9.5,
          null,
          7.5,
          7.5,
          null,
          -0.5,
          9.5,
          null,
          8.5,
          8.5,
          null,
          -0.5,
          9.5,
          null
         ],
         "xaxis": "x",
         "y": [
          -0.5,
          9.5,
          null,
          -0.5,
          -0.5,
          null,
          -0.5,
          9.5,
          null,
          0.5,
          0.5,
          null,
          -0.5,
          9.5,
          null,
          1.5,
          1.5,
          null,
          -0.5,
          9.5,
          null,
          2.5,
          2.5,
          null,
          -0.5,
          9.5,
          null,
          3.5,
          3.5,
          null,
          -0.5,
          9.5,
          null,
          4.5,
          4.5,
          null,
          -0.5,
          9.5,
          null,
          5.5,
          5.5,
          null,
          -0.5,
          9.5,
          null,
          6.5,
          6.5,
          null,
          -0.5,
          9.5,
          null,
          7.5,
          7.5,
          null,
          -0.5,
          9.5,
          null,
          8.5,
          8.5,
          null
         ],
         "yaxis": "y"
        },
        {
         "coloraxis": "coloraxis",
         "hovertemplate": "x: %{x}<br>y: %{y}<br>color: %{z}<extra></extra>",
         "name": "0",
         "type": "heatmap",
         "xaxis": "x2",
         "yaxis": "y2",
         "z": [
          [
           0,
           0,
           0,
           0,
           0,
           0,
           0,
           0,
           0,
           0,
           0,
           0,
           0,
           0,
           0,
           0,
           0,
           0,
           0,
           0,
           0,
           0,
           0,
           0,
           0,
           0,
           0,
           0,
           0,
           0
          ],
          [
           0,
           0,
           0,
           0,
           0,
           0,
           0,
           0,
           0,
           0,
           0,
           0,
           0,
           0,
           0,
           0,
           0,
           0,
           0,
           0,
           0,
           0,
           0,
           0,
           0,
           0,
           0,
           0,
           0,
           0
          ],
          [
           0,
           0,
           0,
           0,
           0,
           0,
           0,
           0,
           0,
           0,
           0,
           0,
           0,
           0,
           0,
           0,
           0,
           0,
           0,
           0,
           0,
           0,
           0,
           0,
           0,
           0,
           0,
           0,
           0,
           0
          ],
          [
           0,
           0,
           0,
           0,
           0,
           0,
           0,
           0,
           0,
           0,
           0,
           0,
           0,
           0,
           0,
           0,
           0,
           0,
           0,
           0,
           0,
           0,
           0,
           0,
           0,
           0,
           0,
           0,
           0,
           0
          ],
          [
           0,
           0,
           0,
           0,
           0,
           0,
           0,
           0,
           0,
           0,
           0,
           0,
           0,
           0,
           0,
           0,
           0,
           0,
           0,
           0,
           0,
           0,
           0,
           0,
           0,
           0,
           0,
           0,
           0,
           0
          ],
          [
           0,
           0,
           0,
           0,
           0,
           0,
           0,
           0,
           0,
           0,
           0,
           0,
           0,
           0,
           0,
           0,
           0,
           0,
           0,
           0,
           0,
           0,
           0,
           0,
           0,
           0,
           0,
           0,
           0,
           0
          ],
          [
           0,
           0,
           0,
           0,
           0,
           0,
           1,
           1,
           1,
           1,
           1,
           1,
           1,
           1,
           1,
           1,
           1,
           1,
           1,
           1,
           1,
           1,
           1,
           1,
           0,
           0,
           0,
           0,
           0,
           0
          ],
          [
           0,
           0,
           0,
           0,
           0,
           0,
           1,
           1,
           1,
           1,
           1,
           1,
           1,
           1,
           1,
           1,
           1,
           1,
           1,
           1,
           1,
           1,
           1,
           1,
           0,
           0,
           0,
           0,
           0,
           0
          ],
          [
           0,
           0,
           0,
           0,
           0,
           0,
           1,
           1,
           1,
           1,
           1,
           1,
           1,
           1,
           1,
           1,
           1,
           1,
           1,
           1,
           1,
           1,
           1,
           1,
           0,
           0,
           0,
           0,
           0,
           0
          ],
          [
           0,
           0,
           0,
           0,
           0,
           0,
           1,
           1,
           1,
           0,
           0,
           0,
           0,
           0,
           0,
           0,
           0,
           0,
           0,
           0,
           0,
           1,
           1,
           1,
           0,
           0,
           0,
           0,
           0,
           0
          ],
          [
           0,
           0,
           0,
           0,
           0,
           0,
           1,
           1,
           1,
           0,
           0,
           0,
           0,
           0,
           0,
           0,
           0,
           0,
           0,
           0,
           0,
           1,
           1,
           1,
           0,
           0,
           0,
           0,
           0,
           0
          ],
          [
           0,
           0,
           0,
           0,
           0,
           0,
           1,
           1,
           1,
           0,
           0,
           0,
           0,
           0,
           0,
           0,
           0,
           0,
           0,
           0,
           0,
           1,
           1,
           1,
           0,
           0,
           0,
           0,
           0,
           0
          ],
          [
           0,
           0,
           0,
           0,
           0,
           0,
           1,
           1,
           1,
           0,
           0,
           0,
           0,
           0,
           0,
           0,
           0,
           0,
           0,
           0,
           0,
           1,
           1,
           1,
           0,
           0,
           0,
           0,
           0,
           0
          ],
          [
           0,
           0,
           0,
           0,
           0,
           0,
           1,
           1,
           1,
           0,
           0,
           0,
           0,
           0,
           0,
           0,
           0,
           0,
           0,
           0,
           0,
           1,
           1,
           1,
           0,
           0,
           0,
           0,
           0,
           0
          ],
          [
           0,
           0,
           0,
           0,
           0,
           0,
           1,
           1,
           1,
           0,
           0,
           0,
           0,
           0,
           0,
           0,
           0,
           0,
           0,
           0,
           0,
           1,
           1,
           1,
           0,
           0,
           0,
           0,
           0,
           0
          ],
          [
           0,
           0,
           0,
           0,
           0,
           0,
           1,
           1,
           1,
           0,
           0,
           0,
           0,
           0,
           0,
           0,
           0,
           0,
           0,
           0,
           0,
           1,
           1,
           1,
           0,
           0,
           0,
           0,
           0,
           0
          ],
          [
           0,
           0,
           0,
           0,
           0,
           0,
           1,
           1,
           1,
           0,
           0,
           0,
           0,
           0,
           0,
           0,
           0,
           0,
           0,
           0,
           0,
           1,
           1,
           1,
           0,
           0,
           0,
           0,
           0,
           0
          ],
          [
           0,
           0,
           0,
           0,
           0,
           0,
           1,
           1,
           1,
           0,
           0,
           0,
           0,
           0,
           0,
           0,
           0,
           0,
           0,
           0,
           0,
           1,
           1,
           1,
           0,
           0,
           0,
           0,
           0,
           0
          ],
          [
           0,
           0,
           0,
           0,
           0,
           0,
           1,
           1,
           1,
           0,
           0,
           0,
           0,
           0,
           0,
           0,
           0,
           0,
           0,
           0,
           0,
           1,
           1,
           1,
           0,
           0,
           0,
           0,
           0,
           0
          ],
          [
           0,
           0,
           0,
           0,
           0,
           0,
           1,
           1,
           1,
           0,
           0,
           0,
           0,
           0,
           0,
           0,
           0,
           0,
           0,
           0,
           0,
           1,
           1,
           1,
           0,
           0,
           0,
           0,
           0,
           0
          ],
          [
           0,
           0,
           0,
           0,
           0,
           0,
           1,
           1,
           1,
           0,
           0,
           0,
           0,
           0,
           0,
           0,
           0,
           0,
           0,
           0,
           0,
           1,
           1,
           1,
           0,
           0,
           0,
           0,
           0,
           0
          ],
          [
           0,
           0,
           0,
           0,
           0,
           0,
           1,
           1,
           1,
           1,
           1,
           1,
           1,
           1,
           1,
           1,
           1,
           1,
           1,
           1,
           1,
           1,
           1,
           1,
           0,
           0,
           0,
           0,
           0,
           0
          ],
          [
           0,
           0,
           0,
           0,
           0,
           0,
           1,
           1,
           1,
           1,
           1,
           1,
           1,
           1,
           1,
           1,
           1,
           1,
           1,
           1,
           1,
           1,
           1,
           1,
           0,
           0,
           0,
           0,
           0,
           0
          ],
          [
           0,
           0,
           0,
           0,
           0,
           0,
           1,
           1,
           1,
           1,
           1,
           1,
           1,
           1,
           1,
           1,
           1,
           1,
           1,
           1,
           1,
           1,
           1,
           1,
           0,
           0,
           0,
           0,
           0,
           0
          ],
          [
           0,
           0,
           0,
           0,
           0,
           0,
           0,
           0,
           0,
           0,
           0,
           0,
           0,
           0,
           0,
           0,
           0,
           0,
           0,
           0,
           0,
           0,
           0,
           0,
           0,
           0,
           0,
           0,
           0,
           0
          ],
          [
           0,
           0,
           0,
           0,
           0,
           0,
           0,
           0,
           0,
           0,
           0,
           0,
           0,
           0,
           0,
           0,
           0,
           0,
           0,
           0,
           0,
           0,
           0,
           0,
           0,
           0,
           0,
           0,
           0,
           0
          ],
          [
           0,
           0,
           0,
           0,
           0,
           0,
           0,
           0,
           0,
           0,
           0,
           0,
           0,
           0,
           0,
           0,
           0,
           0,
           0,
           0,
           0,
           0,
           0,
           0,
           0,
           0,
           0,
           0,
           0,
           0
          ],
          [
           0,
           0,
           0,
           0,
           0,
           0,
           0,
           0,
           0,
           0,
           0,
           0,
           0,
           0,
           0,
           0,
           0,
           0,
           0,
           0,
           0,
           0,
           0,
           0,
           0,
           0,
           0,
           0,
           0,
           0
          ],
          [
           0,
           0,
           0,
           0,
           0,
           0,
           0,
           0,
           0,
           0,
           0,
           0,
           0,
           0,
           0,
           0,
           0,
           0,
           0,
           0,
           0,
           0,
           0,
           0,
           0,
           0,
           0,
           0,
           0,
           0
          ],
          [
           0,
           0,
           0,
           0,
           0,
           0,
           0,
           0,
           0,
           0,
           0,
           0,
           0,
           0,
           0,
           0,
           0,
           0,
           0,
           0,
           0,
           0,
           0,
           0,
           0,
           0,
           0,
           0,
           0,
           0
          ]
         ]
        },
        {
         "marker": {
          "color": "black",
          "size": 1
         },
         "name": "Pixel edges",
         "showlegend": false,
         "type": "scatter",
         "x": [
          -0.5,
          -0.5,
          null,
          -0.5,
          29.5,
          null,
          0.5,
          0.5,
          null,
          -0.5,
          29.5,
          null,
          1.5,
          1.5,
          null,
          -0.5,
          29.5,
          null,
          2.5,
          2.5,
          null,
          -0.5,
          29.5,
          null,
          3.5,
          3.5,
          null,
          -0.5,
          29.5,
          null,
          4.5,
          4.5,
          null,
          -0.5,
          29.5,
          null,
          5.5,
          5.5,
          null,
          -0.5,
          29.5,
          null,
          6.5,
          6.5,
          null,
          -0.5,
          29.5,
          null,
          7.5,
          7.5,
          null,
          -0.5,
          29.5,
          null,
          8.5,
          8.5,
          null,
          -0.5,
          29.5,
          null,
          9.5,
          9.5,
          null,
          -0.5,
          29.5,
          null,
          10.5,
          10.5,
          null,
          -0.5,
          29.5,
          null,
          11.5,
          11.5,
          null,
          -0.5,
          29.5,
          null,
          12.5,
          12.5,
          null,
          -0.5,
          29.5,
          null,
          13.5,
          13.5,
          null,
          -0.5,
          29.5,
          null,
          14.5,
          14.5,
          null,
          -0.5,
          29.5,
          null,
          15.5,
          15.5,
          null,
          -0.5,
          29.5,
          null,
          16.5,
          16.5,
          null,
          -0.5,
          29.5,
          null,
          17.5,
          17.5,
          null,
          -0.5,
          29.5,
          null,
          18.5,
          18.5,
          null,
          -0.5,
          29.5,
          null,
          19.5,
          19.5,
          null,
          -0.5,
          29.5,
          null,
          20.5,
          20.5,
          null,
          -0.5,
          29.5,
          null,
          21.5,
          21.5,
          null,
          -0.5,
          29.5,
          null,
          22.5,
          22.5,
          null,
          -0.5,
          29.5,
          null,
          23.5,
          23.5,
          null,
          -0.5,
          29.5,
          null,
          24.5,
          24.5,
          null,
          -0.5,
          29.5,
          null,
          25.5,
          25.5,
          null,
          -0.5,
          29.5,
          null,
          26.5,
          26.5,
          null,
          -0.5,
          29.5,
          null,
          27.5,
          27.5,
          null,
          -0.5,
          29.5,
          null,
          28.5,
          28.5,
          null,
          -0.5,
          29.5,
          null
         ],
         "xaxis": "x2",
         "y": [
          -0.5,
          29.5,
          null,
          -0.5,
          -0.5,
          null,
          -0.5,
          29.5,
          null,
          0.5,
          0.5,
          null,
          -0.5,
          29.5,
          null,
          1.5,
          1.5,
          null,
          -0.5,
          29.5,
          null,
          2.5,
          2.5,
          null,
          -0.5,
          29.5,
          null,
          3.5,
          3.5,
          null,
          -0.5,
          29.5,
          null,
          4.5,
          4.5,
          null,
          -0.5,
          29.5,
          null,
          5.5,
          5.5,
          null,
          -0.5,
          29.5,
          null,
          6.5,
          6.5,
          null,
          -0.5,
          29.5,
          null,
          7.5,
          7.5,
          null,
          -0.5,
          29.5,
          null,
          8.5,
          8.5,
          null,
          -0.5,
          29.5,
          null,
          9.5,
          9.5,
          null,
          -0.5,
          29.5,
          null,
          10.5,
          10.5,
          null,
          -0.5,
          29.5,
          null,
          11.5,
          11.5,
          null,
          -0.5,
          29.5,
          null,
          12.5,
          12.5,
          null,
          -0.5,
          29.5,
          null,
          13.5,
          13.5,
          null,
          -0.5,
          29.5,
          null,
          14.5,
          14.5,
          null,
          -0.5,
          29.5,
          null,
          15.5,
          15.5,
          null,
          -0.5,
          29.5,
          null,
          16.5,
          16.5,
          null,
          -0.5,
          29.5,
          null,
          17.5,
          17.5,
          null,
          -0.5,
          29.5,
          null,
          18.5,
          18.5,
          null,
          -0.5,
          29.5,
          null,
          19.5,
          19.5,
          null,
          -0.5,
          29.5,
          null,
          20.5,
          20.5,
          null,
          -0.5,
          29.5,
          null,
          21.5,
          21.5,
          null,
          -0.5,
          29.5,
          null,
          22.5,
          22.5,
          null,
          -0.5,
          29.5,
          null,
          23.5,
          23.5,
          null,
          -0.5,
          29.5,
          null,
          24.5,
          24.5,
          null,
          -0.5,
          29.5,
          null,
          25.5,
          25.5,
          null,
          -0.5,
          29.5,
          null,
          26.5,
          26.5,
          null,
          -0.5,
          29.5,
          null,
          27.5,
          27.5,
          null,
          -0.5,
          29.5,
          null,
          28.5,
          28.5,
          null
         ],
         "yaxis": "y2"
        },
        {
         "marker": {
          "color": "red",
          "size": 10
         },
         "name": "400p border",
         "type": "scatter",
         "x": [
          2,
          2,
          2,
          2,
          2,
          2,
          2,
          2,
          2,
          2,
          2,
          2,
          2,
          2,
          2,
          2,
          2,
          2,
          2,
          2,
          2,
          2,
          2,
          2,
          2,
          2,
          2,
          2,
          2,
          2,
          2,
          2,
          2,
          2,
          2,
          2,
          2,
          2,
          2,
          2,
          2,
          2,
          2,
          2,
          2,
          2,
          2,
          2,
          2,
          2,
          2,
          2.1020408163265305,
          2.204081632653061,
          2.306122448979592,
          2.4081632653061225,
          2.510204081632653,
          2.612244897959184,
          2.7142857142857144,
          2.816326530612245,
          2.9183673469387754,
          3.020408163265306,
          3.122448979591837,
          3.2244897959183674,
          3.326530612244898,
          3.428571428571429,
          3.5306122448979593,
          3.63265306122449,
          3.7346938775510203,
          3.836734693877551,
          3.938775510204082,
          4.040816326530612,
          4.142857142857142,
          4.244897959183674,
          4.346938775510204,
          4.448979591836735,
          4.551020408163265,
          4.653061224489796,
          4.755102040816327,
          4.857142857142858,
          4.959183673469388,
          5.061224489795919,
          5.163265306122449,
          5.26530612244898,
          5.36734693877551,
          5.469387755102041,
          5.571428571428571,
          5.673469387755102,
          5.775510204081632,
          5.877551020408164,
          5.979591836734694,
          6.081632653061225,
          6.183673469387755,
          6.285714285714286,
          6.387755102040816,
          6.4897959183673475,
          6.591836734693878,
          6.6938775510204085,
          6.795918367346939,
          6.8979591836734695,
          7,
          7,
          7,
          7,
          7,
          7,
          7,
          7,
          7,
          7,
          7,
          7,
          7,
          7,
          7,
          7,
          7,
          7,
          7,
          7,
          7,
          7,
          7,
          7,
          7,
          7,
          7,
          7,
          7,
          7,
          7,
          7,
          7,
          7,
          7,
          7,
          7,
          7,
          7,
          7,
          7,
          7,
          7,
          7,
          7,
          7,
          7,
          7,
          7,
          7,
          7,
          7,
          6.8979591836734695,
          6.795918367346939,
          6.6938775510204085,
          6.591836734693878,
          6.489795918367347,
          6.387755102040816,
          6.285714285714286,
          6.183673469387755,
          6.081632653061225,
          5.979591836734694,
          5.877551020408163,
          5.775510204081632,
          5.673469387755102,
          5.571428571428571,
          5.469387755102041,
          5.36734693877551,
          5.26530612244898,
          5.163265306122449,
          5.061224489795919,
          4.959183673469388,
          4.857142857142858,
          4.755102040816326,
          4.653061224489796,
          4.551020408163265,
          4.448979591836735,
          4.346938775510204,
          4.244897959183673,
          4.142857142857142,
          4.040816326530612,
          3.9387755102040813,
          3.836734693877551,
          3.7346938775510203,
          3.63265306122449,
          3.5306122448979593,
          3.4285714285714284,
          3.326530612244898,
          3.2244897959183674,
          3.1224489795918364,
          3.020408163265306,
          2.9183673469387754,
          2.816326530612245,
          2.7142857142857144,
          2.612244897959184,
          2.5102040816326525,
          2.408163265306122,
          2.3061224489795915,
          2.204081632653061,
          2.1020408163265305,
          2
         ],
         "xaxis": "x",
         "y": [
          7,
          6.8979591836734695,
          6.795918367346939,
          6.6938775510204085,
          6.591836734693878,
          6.489795918367347,
          6.387755102040816,
          6.285714285714286,
          6.183673469387755,
          6.081632653061225,
          5.979591836734694,
          5.877551020408163,
          5.775510204081632,
          5.673469387755102,
          5.571428571428571,
          5.469387755102041,
          5.36734693877551,
          5.26530612244898,
          5.163265306122449,
          5.061224489795919,
          4.959183673469388,
          4.857142857142858,
          4.755102040816326,
          4.653061224489796,
          4.551020408163265,
          4.448979591836735,
          4.346938775510204,
          4.244897959183673,
          4.142857142857142,
          4.040816326530612,
          3.9387755102040813,
          3.836734693877551,
          3.7346938775510203,
          3.63265306122449,
          3.5306122448979593,
          3.4285714285714284,
          3.326530612244898,
          3.2244897959183674,
          3.1224489795918364,
          3.020408163265306,
          2.9183673469387754,
          2.816326530612245,
          2.7142857142857144,
          2.612244897959184,
          2.5102040816326525,
          2.408163265306122,
          2.3061224489795915,
          2.204081632653061,
          2.1020408163265305,
          2,
          2,
          2,
          2,
          2,
          2,
          2,
          2,
          2,
          2,
          2,
          2,
          2,
          2,
          2,
          2,
          2,
          2,
          2,
          2,
          2,
          2,
          2,
          2,
          2,
          2,
          2,
          2,
          2,
          2,
          2,
          2,
          2,
          2,
          2,
          2,
          2,
          2,
          2,
          2,
          2,
          2,
          2,
          2,
          2,
          2,
          2,
          2,
          2,
          2,
          2,
          2,
          2.1020408163265305,
          2.204081632653061,
          2.306122448979592,
          2.4081632653061225,
          2.510204081632653,
          2.612244897959184,
          2.7142857142857144,
          2.816326530612245,
          2.9183673469387754,
          3.020408163265306,
          3.122448979591837,
          3.2244897959183674,
          3.326530612244898,
          3.428571428571429,
          3.5306122448979593,
          3.63265306122449,
          3.7346938775510203,
          3.836734693877551,
          3.938775510204082,
          4.040816326530612,
          4.142857142857142,
          4.244897959183674,
          4.346938775510204,
          4.448979591836735,
          4.551020408163265,
          4.653061224489796,
          4.755102040816327,
          4.857142857142858,
          4.959183673469388,
          5.061224489795919,
          5.163265306122449,
          5.26530612244898,
          5.36734693877551,
          5.469387755102041,
          5.571428571428571,
          5.673469387755102,
          5.775510204081632,
          5.877551020408164,
          5.979591836734694,
          6.081632653061225,
          6.183673469387755,
          6.285714285714286,
          6.387755102040816,
          6.4897959183673475,
          6.591836734693878,
          6.6938775510204085,
          6.795918367346939,
          6.8979591836734695,
          7,
          7,
          7,
          7,
          7,
          7,
          7,
          7,
          7,
          7,
          7,
          7,
          7,
          7,
          7,
          7,
          7,
          7,
          7,
          7,
          7,
          7,
          7,
          7,
          7,
          7,
          7,
          7,
          7,
          7,
          7,
          7,
          7,
          7,
          7,
          7,
          7,
          7,
          7,
          7,
          7,
          7,
          7,
          7,
          7,
          7,
          7,
          7,
          7,
          7,
          7
         ],
         "yaxis": "y"
        },
        {
         "marker": {
          "color": "red",
          "size": 10
         },
         "name": "400p border ",
         "type": "scatter",
         "x": [
          6,
          6,
          6,
          6,
          6,
          6,
          6,
          6,
          6,
          6,
          6,
          6,
          6,
          6,
          6,
          6,
          6,
          6,
          6,
          6,
          6,
          6,
          6,
          6,
          6,
          6,
          6,
          6,
          6,
          6,
          6,
          6,
          6,
          6,
          6,
          6,
          6,
          6,
          6,
          6,
          6,
          6,
          6,
          6,
          6,
          6,
          6,
          6,
          6,
          6,
          6,
          6.3061224489795915,
          6.612244897959183,
          6.918367346938776,
          7.224489795918368,
          7.530612244897959,
          7.836734693877552,
          8.142857142857142,
          8.448979591836736,
          8.755102040816325,
          9.061224489795919,
          9.36734693877551,
          9.673469387755102,
          9.979591836734693,
          10.285714285714286,
          10.591836734693878,
          10.89795918367347,
          11.204081632653061,
          11.510204081632653,
          11.816326530612246,
          12.122448979591836,
          12.428571428571427,
          12.73469387755102,
          13.040816326530614,
          13.346938775510203,
          13.653061224489797,
          13.959183673469386,
          14.265306122448981,
          14.571428571428573,
          14.877551020408164,
          15.183673469387756,
          15.489795918367347,
          15.795918367346939,
          16.10204081632653,
          16.408163265306122,
          16.714285714285715,
          17.020408163265305,
          17.326530612244895,
          17.63265306122449,
          17.93877551020408,
          18.244897959183675,
          18.551020408163264,
          18.857142857142858,
          19.163265306122447,
          19.46938775510204,
          19.775510204081634,
          20.081632653061227,
          20.387755102040817,
          20.693877551020407,
          21,
          21,
          21,
          21,
          21,
          21,
          21,
          21,
          21,
          21,
          21,
          21,
          21,
          21,
          21,
          21,
          21,
          21,
          21,
          21,
          21,
          21,
          21,
          21,
          21,
          21,
          21,
          21,
          21,
          21,
          21,
          21,
          21,
          21,
          21,
          21,
          21,
          21,
          21,
          21,
          21,
          21,
          21,
          21,
          21,
          21,
          21,
          21,
          21,
          21,
          21,
          21,
          20.693877551020407,
          20.387755102040817,
          20.081632653061227,
          19.775510204081634,
          19.46938775510204,
          19.163265306122447,
          18.857142857142858,
          18.551020408163264,
          18.244897959183675,
          17.93877551020408,
          17.632653061224488,
          17.326530612244895,
          17.020408163265305,
          16.714285714285715,
          16.408163265306122,
          16.10204081632653,
          15.795918367346939,
          15.489795918367347,
          15.183673469387756,
          14.877551020408164,
          14.571428571428573,
          14.26530612244898,
          13.959183673469386,
          13.653061224489797,
          13.346938775510203,
          13.040816326530614,
          12.734693877551019,
          12.428571428571427,
          12.122448979591836,
          11.816326530612244,
          11.510204081632653,
          11.204081632653061,
          10.89795918367347,
          10.591836734693878,
          10.285714285714285,
          9.979591836734693,
          9.673469387755102,
          9.367346938775508,
          9.061224489795919,
          8.755102040816325,
          8.448979591836736,
          8.142857142857142,
          7.836734693877552,
          7.5306122448979576,
          7.224489795918366,
          6.9183673469387745,
          6.612244897959183,
          6.3061224489795915,
          6
         ],
         "xaxis": "x2",
         "y": [
          21,
          20.693877551020407,
          20.387755102040817,
          20.081632653061227,
          19.775510204081634,
          19.46938775510204,
          19.163265306122447,
          18.857142857142858,
          18.551020408163264,
          18.244897959183675,
          17.93877551020408,
          17.632653061224488,
          17.326530612244895,
          17.020408163265305,
          16.714285714285715,
          16.408163265306122,
          16.10204081632653,
          15.795918367346939,
          15.489795918367347,
          15.183673469387756,
          14.877551020408164,
          14.571428571428573,
          14.26530612244898,
          13.959183673469386,
          13.653061224489797,
          13.346938775510203,
          13.040816326530614,
          12.734693877551019,
          12.428571428571427,
          12.122448979591836,
          11.816326530612244,
          11.510204081632653,
          11.204081632653061,
          10.89795918367347,
          10.591836734693878,
          10.285714285714285,
          9.979591836734693,
          9.673469387755102,
          9.367346938775508,
          9.061224489795919,
          8.755102040816325,
          8.448979591836736,
          8.142857142857142,
          7.836734693877552,
          7.5306122448979576,
          7.224489795918366,
          6.9183673469387745,
          6.612244897959183,
          6.3061224489795915,
          6,
          6,
          6,
          6,
          6,
          6,
          6,
          6,
          6,
          6,
          6,
          6,
          6,
          6,
          6,
          6,
          6,
          6,
          6,
          6,
          6,
          6,
          6,
          6,
          6,
          6,
          6,
          6,
          6,
          6,
          6,
          6,
          6,
          6,
          6,
          6,
          6,
          6,
          6,
          6,
          6,
          6,
          6,
          6,
          6,
          6,
          6,
          6,
          6,
          6,
          6,
          6,
          6.3061224489795915,
          6.612244897959183,
          6.918367346938776,
          7.224489795918368,
          7.530612244897959,
          7.836734693877552,
          8.142857142857142,
          8.448979591836736,
          8.755102040816325,
          9.061224489795919,
          9.36734693877551,
          9.673469387755102,
          9.979591836734693,
          10.285714285714286,
          10.591836734693878,
          10.89795918367347,
          11.204081632653061,
          11.510204081632653,
          11.816326530612246,
          12.122448979591836,
          12.428571428571427,
          12.73469387755102,
          13.040816326530614,
          13.346938775510203,
          13.653061224489797,
          13.959183673469386,
          14.265306122448981,
          14.571428571428573,
          14.877551020408164,
          15.183673469387756,
          15.489795918367347,
          15.795918367346939,
          16.10204081632653,
          16.408163265306122,
          16.714285714285715,
          17.020408163265305,
          17.326530612244895,
          17.63265306122449,
          17.93877551020408,
          18.244897959183675,
          18.551020408163264,
          18.857142857142858,
          19.163265306122447,
          19.46938775510204,
          19.775510204081634,
          20.081632653061227,
          20.387755102040817,
          20.693877551020407,
          21,
          21,
          21,
          21,
          21,
          21,
          21,
          21,
          21,
          21,
          21,
          21,
          21,
          21,
          21,
          21,
          21,
          21,
          21,
          21,
          21,
          21,
          21,
          21,
          21,
          21,
          21,
          21,
          21,
          21,
          21,
          21,
          21,
          21,
          21,
          21,
          21,
          21,
          21,
          21,
          21,
          21,
          21,
          21,
          21,
          21,
          21,
          21,
          21,
          21,
          21
         ],
         "yaxis": "y2"
        }
       ],
       "layout": {
        "annotations": [
         {
          "font": {
           "size": 16
          },
          "showarrow": false,
          "text": "Original image",
          "x": 0.2375,
          "xanchor": "center",
          "xref": "paper",
          "y": 1,
          "yanchor": "bottom",
          "yref": "paper"
         },
         {
          "font": {
           "size": 16
          },
          "showarrow": false,
          "text": "Upscaled image s=3",
          "x": 0.7625,
          "xanchor": "center",
          "xref": "paper",
          "y": 1,
          "yanchor": "bottom",
          "yref": "paper"
         }
        ],
        "coloraxis": {
         "showscale": false
        },
        "font": {
         "size": 11
        },
        "height": 800,
        "showlegend": true,
        "template": {
         "data": {
          "bar": [
           {
            "error_x": {
             "color": "#2a3f5f"
            },
            "error_y": {
             "color": "#2a3f5f"
            },
            "marker": {
             "line": {
              "color": "#E5ECF6",
              "width": 0.5
             },
             "pattern": {
              "fillmode": "overlay",
              "size": 10,
              "solidity": 0.2
             }
            },
            "type": "bar"
           }
          ],
          "barpolar": [
           {
            "marker": {
             "line": {
              "color": "#E5ECF6",
              "width": 0.5
             },
             "pattern": {
              "fillmode": "overlay",
              "size": 10,
              "solidity": 0.2
             }
            },
            "type": "barpolar"
           }
          ],
          "carpet": [
           {
            "aaxis": {
             "endlinecolor": "#2a3f5f",
             "gridcolor": "white",
             "linecolor": "white",
             "minorgridcolor": "white",
             "startlinecolor": "#2a3f5f"
            },
            "baxis": {
             "endlinecolor": "#2a3f5f",
             "gridcolor": "white",
             "linecolor": "white",
             "minorgridcolor": "white",
             "startlinecolor": "#2a3f5f"
            },
            "type": "carpet"
           }
          ],
          "choropleth": [
           {
            "colorbar": {
             "outlinewidth": 0,
             "ticks": ""
            },
            "type": "choropleth"
           }
          ],
          "contour": [
           {
            "colorbar": {
             "outlinewidth": 0,
             "ticks": ""
            },
            "colorscale": [
             [
              0,
              "#0d0887"
             ],
             [
              0.1111111111111111,
              "#46039f"
             ],
             [
              0.2222222222222222,
              "#7201a8"
             ],
             [
              0.3333333333333333,
              "#9c179e"
             ],
             [
              0.4444444444444444,
              "#bd3786"
             ],
             [
              0.5555555555555556,
              "#d8576b"
             ],
             [
              0.6666666666666666,
              "#ed7953"
             ],
             [
              0.7777777777777778,
              "#fb9f3a"
             ],
             [
              0.8888888888888888,
              "#fdca26"
             ],
             [
              1,
              "#f0f921"
             ]
            ],
            "type": "contour"
           }
          ],
          "contourcarpet": [
           {
            "colorbar": {
             "outlinewidth": 0,
             "ticks": ""
            },
            "type": "contourcarpet"
           }
          ],
          "heatmap": [
           {
            "colorbar": {
             "outlinewidth": 0,
             "ticks": ""
            },
            "colorscale": [
             [
              0,
              "#0d0887"
             ],
             [
              0.1111111111111111,
              "#46039f"
             ],
             [
              0.2222222222222222,
              "#7201a8"
             ],
             [
              0.3333333333333333,
              "#9c179e"
             ],
             [
              0.4444444444444444,
              "#bd3786"
             ],
             [
              0.5555555555555556,
              "#d8576b"
             ],
             [
              0.6666666666666666,
              "#ed7953"
             ],
             [
              0.7777777777777778,
              "#fb9f3a"
             ],
             [
              0.8888888888888888,
              "#fdca26"
             ],
             [
              1,
              "#f0f921"
             ]
            ],
            "type": "heatmap"
           }
          ],
          "heatmapgl": [
           {
            "colorbar": {
             "outlinewidth": 0,
             "ticks": ""
            },
            "colorscale": [
             [
              0,
              "#0d0887"
             ],
             [
              0.1111111111111111,
              "#46039f"
             ],
             [
              0.2222222222222222,
              "#7201a8"
             ],
             [
              0.3333333333333333,
              "#9c179e"
             ],
             [
              0.4444444444444444,
              "#bd3786"
             ],
             [
              0.5555555555555556,
              "#d8576b"
             ],
             [
              0.6666666666666666,
              "#ed7953"
             ],
             [
              0.7777777777777778,
              "#fb9f3a"
             ],
             [
              0.8888888888888888,
              "#fdca26"
             ],
             [
              1,
              "#f0f921"
             ]
            ],
            "type": "heatmapgl"
           }
          ],
          "histogram": [
           {
            "marker": {
             "pattern": {
              "fillmode": "overlay",
              "size": 10,
              "solidity": 0.2
             }
            },
            "type": "histogram"
           }
          ],
          "histogram2d": [
           {
            "colorbar": {
             "outlinewidth": 0,
             "ticks": ""
            },
            "colorscale": [
             [
              0,
              "#0d0887"
             ],
             [
              0.1111111111111111,
              "#46039f"
             ],
             [
              0.2222222222222222,
              "#7201a8"
             ],
             [
              0.3333333333333333,
              "#9c179e"
             ],
             [
              0.4444444444444444,
              "#bd3786"
             ],
             [
              0.5555555555555556,
              "#d8576b"
             ],
             [
              0.6666666666666666,
              "#ed7953"
             ],
             [
              0.7777777777777778,
              "#fb9f3a"
             ],
             [
              0.8888888888888888,
              "#fdca26"
             ],
             [
              1,
              "#f0f921"
             ]
            ],
            "type": "histogram2d"
           }
          ],
          "histogram2dcontour": [
           {
            "colorbar": {
             "outlinewidth": 0,
             "ticks": ""
            },
            "colorscale": [
             [
              0,
              "#0d0887"
             ],
             [
              0.1111111111111111,
              "#46039f"
             ],
             [
              0.2222222222222222,
              "#7201a8"
             ],
             [
              0.3333333333333333,
              "#9c179e"
             ],
             [
              0.4444444444444444,
              "#bd3786"
             ],
             [
              0.5555555555555556,
              "#d8576b"
             ],
             [
              0.6666666666666666,
              "#ed7953"
             ],
             [
              0.7777777777777778,
              "#fb9f3a"
             ],
             [
              0.8888888888888888,
              "#fdca26"
             ],
             [
              1,
              "#f0f921"
             ]
            ],
            "type": "histogram2dcontour"
           }
          ],
          "mesh3d": [
           {
            "colorbar": {
             "outlinewidth": 0,
             "ticks": ""
            },
            "type": "mesh3d"
           }
          ],
          "parcoords": [
           {
            "line": {
             "colorbar": {
              "outlinewidth": 0,
              "ticks": ""
             }
            },
            "type": "parcoords"
           }
          ],
          "pie": [
           {
            "automargin": true,
            "type": "pie"
           }
          ],
          "scatter": [
           {
            "fillpattern": {
             "fillmode": "overlay",
             "size": 10,
             "solidity": 0.2
            },
            "type": "scatter"
           }
          ],
          "scatter3d": [
           {
            "line": {
             "colorbar": {
              "outlinewidth": 0,
              "ticks": ""
             }
            },
            "marker": {
             "colorbar": {
              "outlinewidth": 0,
              "ticks": ""
             }
            },
            "type": "scatter3d"
           }
          ],
          "scattercarpet": [
           {
            "marker": {
             "colorbar": {
              "outlinewidth": 0,
              "ticks": ""
             }
            },
            "type": "scattercarpet"
           }
          ],
          "scattergeo": [
           {
            "marker": {
             "colorbar": {
              "outlinewidth": 0,
              "ticks": ""
             }
            },
            "type": "scattergeo"
           }
          ],
          "scattergl": [
           {
            "marker": {
             "colorbar": {
              "outlinewidth": 0,
              "ticks": ""
             }
            },
            "type": "scattergl"
           }
          ],
          "scattermapbox": [
           {
            "marker": {
             "colorbar": {
              "outlinewidth": 0,
              "ticks": ""
             }
            },
            "type": "scattermapbox"
           }
          ],
          "scatterpolar": [
           {
            "marker": {
             "colorbar": {
              "outlinewidth": 0,
              "ticks": ""
             }
            },
            "type": "scatterpolar"
           }
          ],
          "scatterpolargl": [
           {
            "marker": {
             "colorbar": {
              "outlinewidth": 0,
              "ticks": ""
             }
            },
            "type": "scatterpolargl"
           }
          ],
          "scatterternary": [
           {
            "marker": {
             "colorbar": {
              "outlinewidth": 0,
              "ticks": ""
             }
            },
            "type": "scatterternary"
           }
          ],
          "surface": [
           {
            "colorbar": {
             "outlinewidth": 0,
             "ticks": ""
            },
            "colorscale": [
             [
              0,
              "#0d0887"
             ],
             [
              0.1111111111111111,
              "#46039f"
             ],
             [
              0.2222222222222222,
              "#7201a8"
             ],
             [
              0.3333333333333333,
              "#9c179e"
             ],
             [
              0.4444444444444444,
              "#bd3786"
             ],
             [
              0.5555555555555556,
              "#d8576b"
             ],
             [
              0.6666666666666666,
              "#ed7953"
             ],
             [
              0.7777777777777778,
              "#fb9f3a"
             ],
             [
              0.8888888888888888,
              "#fdca26"
             ],
             [
              1,
              "#f0f921"
             ]
            ],
            "type": "surface"
           }
          ],
          "table": [
           {
            "cells": {
             "fill": {
              "color": "#EBF0F8"
             },
             "line": {
              "color": "white"
             }
            },
            "header": {
             "fill": {
              "color": "#C8D4E3"
             },
             "line": {
              "color": "white"
             }
            },
            "type": "table"
           }
          ]
         },
         "layout": {
          "annotationdefaults": {
           "arrowcolor": "#2a3f5f",
           "arrowhead": 0,
           "arrowwidth": 1
          },
          "autotypenumbers": "strict",
          "coloraxis": {
           "colorbar": {
            "outlinewidth": 0,
            "ticks": ""
           }
          },
          "colorscale": {
           "diverging": [
            [
             0,
             "#8e0152"
            ],
            [
             0.1,
             "#c51b7d"
            ],
            [
             0.2,
             "#de77ae"
            ],
            [
             0.3,
             "#f1b6da"
            ],
            [
             0.4,
             "#fde0ef"
            ],
            [
             0.5,
             "#f7f7f7"
            ],
            [
             0.6,
             "#e6f5d0"
            ],
            [
             0.7,
             "#b8e186"
            ],
            [
             0.8,
             "#7fbc41"
            ],
            [
             0.9,
             "#4d9221"
            ],
            [
             1,
             "#276419"
            ]
           ],
           "sequential": [
            [
             0,
             "#0d0887"
            ],
            [
             0.1111111111111111,
             "#46039f"
            ],
            [
             0.2222222222222222,
             "#7201a8"
            ],
            [
             0.3333333333333333,
             "#9c179e"
            ],
            [
             0.4444444444444444,
             "#bd3786"
            ],
            [
             0.5555555555555556,
             "#d8576b"
            ],
            [
             0.6666666666666666,
             "#ed7953"
            ],
            [
             0.7777777777777778,
             "#fb9f3a"
            ],
            [
             0.8888888888888888,
             "#fdca26"
            ],
            [
             1,
             "#f0f921"
            ]
           ],
           "sequentialminus": [
            [
             0,
             "#0d0887"
            ],
            [
             0.1111111111111111,
             "#46039f"
            ],
            [
             0.2222222222222222,
             "#7201a8"
            ],
            [
             0.3333333333333333,
             "#9c179e"
            ],
            [
             0.4444444444444444,
             "#bd3786"
            ],
            [
             0.5555555555555556,
             "#d8576b"
            ],
            [
             0.6666666666666666,
             "#ed7953"
            ],
            [
             0.7777777777777778,
             "#fb9f3a"
            ],
            [
             0.8888888888888888,
             "#fdca26"
            ],
            [
             1,
             "#f0f921"
            ]
           ]
          },
          "colorway": [
           "#636efa",
           "#EF553B",
           "#00cc96",
           "#ab63fa",
           "#FFA15A",
           "#19d3f3",
           "#FF6692",
           "#B6E880",
           "#FF97FF",
           "#FECB52"
          ],
          "font": {
           "color": "#2a3f5f"
          },
          "geo": {
           "bgcolor": "white",
           "lakecolor": "white",
           "landcolor": "#E5ECF6",
           "showlakes": true,
           "showland": true,
           "subunitcolor": "white"
          },
          "hoverlabel": {
           "align": "left"
          },
          "hovermode": "closest",
          "mapbox": {
           "style": "light"
          },
          "paper_bgcolor": "white",
          "plot_bgcolor": "#E5ECF6",
          "polar": {
           "angularaxis": {
            "gridcolor": "white",
            "linecolor": "white",
            "ticks": ""
           },
           "bgcolor": "#E5ECF6",
           "radialaxis": {
            "gridcolor": "white",
            "linecolor": "white",
            "ticks": ""
           }
          },
          "scene": {
           "xaxis": {
            "backgroundcolor": "#E5ECF6",
            "gridcolor": "white",
            "gridwidth": 2,
            "linecolor": "white",
            "showbackground": true,
            "ticks": "",
            "zerolinecolor": "white"
           },
           "yaxis": {
            "backgroundcolor": "#E5ECF6",
            "gridcolor": "white",
            "gridwidth": 2,
            "linecolor": "white",
            "showbackground": true,
            "ticks": "",
            "zerolinecolor": "white"
           },
           "zaxis": {
            "backgroundcolor": "#E5ECF6",
            "gridcolor": "white",
            "gridwidth": 2,
            "linecolor": "white",
            "showbackground": true,
            "ticks": "",
            "zerolinecolor": "white"
           }
          },
          "shapedefaults": {
           "line": {
            "color": "#2a3f5f"
           }
          },
          "ternary": {
           "aaxis": {
            "gridcolor": "white",
            "linecolor": "white",
            "ticks": ""
           },
           "baxis": {
            "gridcolor": "white",
            "linecolor": "white",
            "ticks": ""
           },
           "bgcolor": "#E5ECF6",
           "caxis": {
            "gridcolor": "white",
            "linecolor": "white",
            "ticks": ""
           }
          },
          "title": {
           "x": 0.05
          },
          "xaxis": {
           "automargin": true,
           "gridcolor": "white",
           "linecolor": "white",
           "ticks": "",
           "title": {
            "standoff": 15
           },
           "zerolinecolor": "white",
           "zerolinewidth": 2
          },
          "yaxis": {
           "automargin": true,
           "gridcolor": "white",
           "linecolor": "white",
           "ticks": "",
           "title": {
            "standoff": 15
           },
           "zerolinecolor": "white",
           "zerolinewidth": 2
          }
         }
        },
        "title": {
         "text": "Border upscaling when b(point)=point*s",
         "x": 0.5
        },
        "width": 1400,
        "xaxis": {
         "anchor": "y",
         "domain": [
          0,
          0.475
         ]
        },
        "xaxis2": {
         "anchor": "y2",
         "domain": [
          0.525,
          1
         ]
        },
        "yaxis": {
         "anchor": "x",
         "domain": [
          0,
          1
         ]
        },
        "yaxis2": {
         "anchor": "x2",
         "domain": [
          0,
          1
         ]
        }
       }
      }
     },
     "metadata": {},
     "output_type": "display_data"
    }
   ],
   "source": [
    "fig = make_subplots(rows=1, cols=2, \n",
    "                    horizontal_spacing=0.05, \n",
    "                    vertical_spacing=0.1,\n",
    "                    subplot_titles=('Original image', f\"Upscaled image s={scale_factor}\"))\n",
    "# Add images to plot\n",
    "base_image_fig = px.imshow(test_image)\n",
    "fig.add_trace(base_image_fig.data[0], 1, 1)\n",
    "xs, ys = gridlines(test_image)\n",
    "fig.add_trace(go.Scatter(x=xs, y=ys, marker=dict(color='black', size=1), name=f\"Pixel edges\", showlegend=False), row=1, col=1)\n",
    "\n",
    "upscaled_image_fig = px.imshow(upscaled_image_box)\n",
    "fig.add_trace(upscaled_image_fig.data[0], 1, 2)\n",
    "xs, ys = gridlines(upscaled_image_box)\n",
    "fig.add_trace(go.Scatter(x=xs, y=ys, marker=dict(color='black', size=1), name=f\"Pixel edges\", showlegend=False), row=1, col=2)\n",
    "\n",
    "\n",
    "fig.add_trace(go.Scatter(x=fourier_xs, y=fourier_ys, marker=dict(color='red', size=10), name=f\"400p border\"), row=1, col=1)\n",
    "fig.add_trace(go.Scatter(x=fourier_xs*scale_factor, y=fourier_ys*scale_factor, marker=dict(color='red', size=10), name=f\"400p border \"), row=1, col=2)\n",
    "\n",
    "fig.update_layout(title_text=f\"Border upscaling when b(point)=point*s\", title_x=0.5, width=1400, height=800, showlegend=True, font_size=11)\n",
    "fig.update(layout_coloraxis_showscale=False)\n",
    "fig.show()"
   ]
  },
  {
   "cell_type": "code",
   "execution_count": 8,
   "metadata": {},
   "outputs": [
    {
     "data": {
      "application/vnd.plotly.v1+json": {
       "config": {
        "plotlyServerURL": "https://plot.ly"
       },
       "data": [
        {
         "coloraxis": "coloraxis",
         "hovertemplate": "x: %{x}<br>y: %{y}<br>color: %{z}<extra></extra>",
         "name": "0",
         "type": "heatmap",
         "xaxis": "x",
         "yaxis": "y",
         "z": [
          [
           0,
           0,
           0,
           0,
           0,
           0,
           0,
           0,
           0,
           0
          ],
          [
           0,
           0,
           0,
           0,
           0,
           0,
           0,
           0,
           0,
           0
          ],
          [
           0,
           0,
           1,
           1,
           1,
           1,
           1,
           1,
           0,
           0
          ],
          [
           0,
           0,
           1,
           0,
           0,
           0,
           0,
           1,
           0,
           0
          ],
          [
           0,
           0,
           1,
           0,
           0,
           0,
           0,
           1,
           0,
           0
          ],
          [
           0,
           0,
           1,
           0,
           0,
           0,
           0,
           1,
           0,
           0
          ],
          [
           0,
           0,
           1,
           0,
           0,
           0,
           0,
           1,
           0,
           0
          ],
          [
           0,
           0,
           1,
           1,
           1,
           1,
           1,
           1,
           0,
           0
          ],
          [
           0,
           0,
           0,
           0,
           0,
           0,
           0,
           0,
           0,
           0
          ],
          [
           0,
           0,
           0,
           0,
           0,
           0,
           0,
           0,
           0,
           0
          ]
         ]
        },
        {
         "marker": {
          "color": "black",
          "size": 1
         },
         "name": "Pixel edges",
         "showlegend": false,
         "type": "scatter",
         "x": [
          -0.5,
          -0.5,
          null,
          -0.5,
          9.5,
          null,
          0.5,
          0.5,
          null,
          -0.5,
          9.5,
          null,
          1.5,
          1.5,
          null,
          -0.5,
          9.5,
          null,
          2.5,
          2.5,
          null,
          -0.5,
          9.5,
          null,
          3.5,
          3.5,
          null,
          -0.5,
          9.5,
          null,
          4.5,
          4.5,
          null,
          -0.5,
          9.5,
          null,
          5.5,
          5.5,
          null,
          -0.5,
          9.5,
          null,
          6.5,
          6.5,
          null,
          -0.5,
          9.5,
          null,
          7.5,
          7.5,
          null,
          -0.5,
          9.5,
          null,
          8.5,
          8.5,
          null,
          -0.5,
          9.5,
          null
         ],
         "xaxis": "x",
         "y": [
          -0.5,
          9.5,
          null,
          -0.5,
          -0.5,
          null,
          -0.5,
          9.5,
          null,
          0.5,
          0.5,
          null,
          -0.5,
          9.5,
          null,
          1.5,
          1.5,
          null,
          -0.5,
          9.5,
          null,
          2.5,
          2.5,
          null,
          -0.5,
          9.5,
          null,
          3.5,
          3.5,
          null,
          -0.5,
          9.5,
          null,
          4.5,
          4.5,
          null,
          -0.5,
          9.5,
          null,
          5.5,
          5.5,
          null,
          -0.5,
          9.5,
          null,
          6.5,
          6.5,
          null,
          -0.5,
          9.5,
          null,
          7.5,
          7.5,
          null,
          -0.5,
          9.5,
          null,
          8.5,
          8.5,
          null
         ],
         "yaxis": "y"
        },
        {
         "coloraxis": "coloraxis",
         "hovertemplate": "x: %{x}<br>y: %{y}<br>color: %{z}<extra></extra>",
         "name": "0",
         "type": "heatmap",
         "xaxis": "x2",
         "yaxis": "y2",
         "z": [
          [
           0,
           0,
           0,
           0,
           0,
           0,
           0,
           0,
           0,
           0,
           0,
           0,
           0,
           0,
           0,
           0,
           0,
           0,
           0,
           0,
           0,
           0,
           0,
           0,
           0,
           0,
           0,
           0,
           0,
           0
          ],
          [
           0,
           0,
           0,
           0,
           0,
           0,
           0,
           0,
           0,
           0,
           0,
           0,
           0,
           0,
           0,
           0,
           0,
           0,
           0,
           0,
           0,
           0,
           0,
           0,
           0,
           0,
           0,
           0,
           0,
           0
          ],
          [
           0,
           0,
           0,
           0,
           0,
           0,
           0,
           0,
           0,
           0,
           0,
           0,
           0,
           0,
           0,
           0,
           0,
           0,
           0,
           0,
           0,
           0,
           0,
           0,
           0,
           0,
           0,
           0,
           0,
           0
          ],
          [
           0,
           0,
           0,
           0,
           0,
           0,
           0,
           0,
           0,
           0,
           0,
           0,
           0,
           0,
           0,
           0,
           0,
           0,
           0,
           0,
           0,
           0,
           0,
           0,
           0,
           0,
           0,
           0,
           0,
           0
          ],
          [
           0,
           0,
           0,
           0,
           0,
           0,
           0,
           0,
           0,
           0,
           0,
           0,
           0,
           0,
           0,
           0,
           0,
           0,
           0,
           0,
           0,
           0,
           0,
           0,
           0,
           0,
           0,
           0,
           0,
           0
          ],
          [
           0,
           0,
           0,
           0,
           0,
           0,
           0,
           0,
           0,
           0,
           0,
           0,
           0,
           0,
           0,
           0,
           0,
           0,
           0,
           0,
           0,
           0,
           0,
           0,
           0,
           0,
           0,
           0,
           0,
           0
          ],
          [
           0,
           0,
           0,
           0,
           0,
           0,
           1,
           1,
           1,
           1,
           1,
           1,
           1,
           1,
           1,
           1,
           1,
           1,
           1,
           1,
           1,
           1,
           1,
           1,
           0,
           0,
           0,
           0,
           0,
           0
          ],
          [
           0,
           0,
           0,
           0,
           0,
           0,
           1,
           1,
           1,
           1,
           1,
           1,
           1,
           1,
           1,
           1,
           1,
           1,
           1,
           1,
           1,
           1,
           1,
           1,
           0,
           0,
           0,
           0,
           0,
           0
          ],
          [
           0,
           0,
           0,
           0,
           0,
           0,
           1,
           1,
           1,
           1,
           1,
           1,
           1,
           1,
           1,
           1,
           1,
           1,
           1,
           1,
           1,
           1,
           1,
           1,
           0,
           0,
           0,
           0,
           0,
           0
          ],
          [
           0,
           0,
           0,
           0,
           0,
           0,
           1,
           1,
           1,
           0,
           0,
           0,
           0,
           0,
           0,
           0,
           0,
           0,
           0,
           0,
           0,
           1,
           1,
           1,
           0,
           0,
           0,
           0,
           0,
           0
          ],
          [
           0,
           0,
           0,
           0,
           0,
           0,
           1,
           1,
           1,
           0,
           0,
           0,
           0,
           0,
           0,
           0,
           0,
           0,
           0,
           0,
           0,
           1,
           1,
           1,
           0,
           0,
           0,
           0,
           0,
           0
          ],
          [
           0,
           0,
           0,
           0,
           0,
           0,
           1,
           1,
           1,
           0,
           0,
           0,
           0,
           0,
           0,
           0,
           0,
           0,
           0,
           0,
           0,
           1,
           1,
           1,
           0,
           0,
           0,
           0,
           0,
           0
          ],
          [
           0,
           0,
           0,
           0,
           0,
           0,
           1,
           1,
           1,
           0,
           0,
           0,
           0,
           0,
           0,
           0,
           0,
           0,
           0,
           0,
           0,
           1,
           1,
           1,
           0,
           0,
           0,
           0,
           0,
           0
          ],
          [
           0,
           0,
           0,
           0,
           0,
           0,
           1,
           1,
           1,
           0,
           0,
           0,
           0,
           0,
           0,
           0,
           0,
           0,
           0,
           0,
           0,
           1,
           1,
           1,
           0,
           0,
           0,
           0,
           0,
           0
          ],
          [
           0,
           0,
           0,
           0,
           0,
           0,
           1,
           1,
           1,
           0,
           0,
           0,
           0,
           0,
           0,
           0,
           0,
           0,
           0,
           0,
           0,
           1,
           1,
           1,
           0,
           0,
           0,
           0,
           0,
           0
          ],
          [
           0,
           0,
           0,
           0,
           0,
           0,
           1,
           1,
           1,
           0,
           0,
           0,
           0,
           0,
           0,
           0,
           0,
           0,
           0,
           0,
           0,
           1,
           1,
           1,
           0,
           0,
           0,
           0,
           0,
           0
          ],
          [
           0,
           0,
           0,
           0,
           0,
           0,
           1,
           1,
           1,
           0,
           0,
           0,
           0,
           0,
           0,
           0,
           0,
           0,
           0,
           0,
           0,
           1,
           1,
           1,
           0,
           0,
           0,
           0,
           0,
           0
          ],
          [
           0,
           0,
           0,
           0,
           0,
           0,
           1,
           1,
           1,
           0,
           0,
           0,
           0,
           0,
           0,
           0,
           0,
           0,
           0,
           0,
           0,
           1,
           1,
           1,
           0,
           0,
           0,
           0,
           0,
           0
          ],
          [
           0,
           0,
           0,
           0,
           0,
           0,
           1,
           1,
           1,
           0,
           0,
           0,
           0,
           0,
           0,
           0,
           0,
           0,
           0,
           0,
           0,
           1,
           1,
           1,
           0,
           0,
           0,
           0,
           0,
           0
          ],
          [
           0,
           0,
           0,
           0,
           0,
           0,
           1,
           1,
           1,
           0,
           0,
           0,
           0,
           0,
           0,
           0,
           0,
           0,
           0,
           0,
           0,
           1,
           1,
           1,
           0,
           0,
           0,
           0,
           0,
           0
          ],
          [
           0,
           0,
           0,
           0,
           0,
           0,
           1,
           1,
           1,
           0,
           0,
           0,
           0,
           0,
           0,
           0,
           0,
           0,
           0,
           0,
           0,
           1,
           1,
           1,
           0,
           0,
           0,
           0,
           0,
           0
          ],
          [
           0,
           0,
           0,
           0,
           0,
           0,
           1,
           1,
           1,
           1,
           1,
           1,
           1,
           1,
           1,
           1,
           1,
           1,
           1,
           1,
           1,
           1,
           1,
           1,
           0,
           0,
           0,
           0,
           0,
           0
          ],
          [
           0,
           0,
           0,
           0,
           0,
           0,
           1,
           1,
           1,
           1,
           1,
           1,
           1,
           1,
           1,
           1,
           1,
           1,
           1,
           1,
           1,
           1,
           1,
           1,
           0,
           0,
           0,
           0,
           0,
           0
          ],
          [
           0,
           0,
           0,
           0,
           0,
           0,
           1,
           1,
           1,
           1,
           1,
           1,
           1,
           1,
           1,
           1,
           1,
           1,
           1,
           1,
           1,
           1,
           1,
           1,
           0,
           0,
           0,
           0,
           0,
           0
          ],
          [
           0,
           0,
           0,
           0,
           0,
           0,
           0,
           0,
           0,
           0,
           0,
           0,
           0,
           0,
           0,
           0,
           0,
           0,
           0,
           0,
           0,
           0,
           0,
           0,
           0,
           0,
           0,
           0,
           0,
           0
          ],
          [
           0,
           0,
           0,
           0,
           0,
           0,
           0,
           0,
           0,
           0,
           0,
           0,
           0,
           0,
           0,
           0,
           0,
           0,
           0,
           0,
           0,
           0,
           0,
           0,
           0,
           0,
           0,
           0,
           0,
           0
          ],
          [
           0,
           0,
           0,
           0,
           0,
           0,
           0,
           0,
           0,
           0,
           0,
           0,
           0,
           0,
           0,
           0,
           0,
           0,
           0,
           0,
           0,
           0,
           0,
           0,
           0,
           0,
           0,
           0,
           0,
           0
          ],
          [
           0,
           0,
           0,
           0,
           0,
           0,
           0,
           0,
           0,
           0,
           0,
           0,
           0,
           0,
           0,
           0,
           0,
           0,
           0,
           0,
           0,
           0,
           0,
           0,
           0,
           0,
           0,
           0,
           0,
           0
          ],
          [
           0,
           0,
           0,
           0,
           0,
           0,
           0,
           0,
           0,
           0,
           0,
           0,
           0,
           0,
           0,
           0,
           0,
           0,
           0,
           0,
           0,
           0,
           0,
           0,
           0,
           0,
           0,
           0,
           0,
           0
          ],
          [
           0,
           0,
           0,
           0,
           0,
           0,
           0,
           0,
           0,
           0,
           0,
           0,
           0,
           0,
           0,
           0,
           0,
           0,
           0,
           0,
           0,
           0,
           0,
           0,
           0,
           0,
           0,
           0,
           0,
           0
          ]
         ]
        },
        {
         "marker": {
          "color": "black",
          "size": 1
         },
         "name": "Pixel edges",
         "showlegend": false,
         "type": "scatter",
         "x": [
          -0.5,
          -0.5,
          null,
          -0.5,
          29.5,
          null,
          0.5,
          0.5,
          null,
          -0.5,
          29.5,
          null,
          1.5,
          1.5,
          null,
          -0.5,
          29.5,
          null,
          2.5,
          2.5,
          null,
          -0.5,
          29.5,
          null,
          3.5,
          3.5,
          null,
          -0.5,
          29.5,
          null,
          4.5,
          4.5,
          null,
          -0.5,
          29.5,
          null,
          5.5,
          5.5,
          null,
          -0.5,
          29.5,
          null,
          6.5,
          6.5,
          null,
          -0.5,
          29.5,
          null,
          7.5,
          7.5,
          null,
          -0.5,
          29.5,
          null,
          8.5,
          8.5,
          null,
          -0.5,
          29.5,
          null,
          9.5,
          9.5,
          null,
          -0.5,
          29.5,
          null,
          10.5,
          10.5,
          null,
          -0.5,
          29.5,
          null,
          11.5,
          11.5,
          null,
          -0.5,
          29.5,
          null,
          12.5,
          12.5,
          null,
          -0.5,
          29.5,
          null,
          13.5,
          13.5,
          null,
          -0.5,
          29.5,
          null,
          14.5,
          14.5,
          null,
          -0.5,
          29.5,
          null,
          15.5,
          15.5,
          null,
          -0.5,
          29.5,
          null,
          16.5,
          16.5,
          null,
          -0.5,
          29.5,
          null,
          17.5,
          17.5,
          null,
          -0.5,
          29.5,
          null,
          18.5,
          18.5,
          null,
          -0.5,
          29.5,
          null,
          19.5,
          19.5,
          null,
          -0.5,
          29.5,
          null,
          20.5,
          20.5,
          null,
          -0.5,
          29.5,
          null,
          21.5,
          21.5,
          null,
          -0.5,
          29.5,
          null,
          22.5,
          22.5,
          null,
          -0.5,
          29.5,
          null,
          23.5,
          23.5,
          null,
          -0.5,
          29.5,
          null,
          24.5,
          24.5,
          null,
          -0.5,
          29.5,
          null,
          25.5,
          25.5,
          null,
          -0.5,
          29.5,
          null,
          26.5,
          26.5,
          null,
          -0.5,
          29.5,
          null,
          27.5,
          27.5,
          null,
          -0.5,
          29.5,
          null,
          28.5,
          28.5,
          null,
          -0.5,
          29.5,
          null
         ],
         "xaxis": "x2",
         "y": [
          -0.5,
          29.5,
          null,
          -0.5,
          -0.5,
          null,
          -0.5,
          29.5,
          null,
          0.5,
          0.5,
          null,
          -0.5,
          29.5,
          null,
          1.5,
          1.5,
          null,
          -0.5,
          29.5,
          null,
          2.5,
          2.5,
          null,
          -0.5,
          29.5,
          null,
          3.5,
          3.5,
          null,
          -0.5,
          29.5,
          null,
          4.5,
          4.5,
          null,
          -0.5,
          29.5,
          null,
          5.5,
          5.5,
          null,
          -0.5,
          29.5,
          null,
          6.5,
          6.5,
          null,
          -0.5,
          29.5,
          null,
          7.5,
          7.5,
          null,
          -0.5,
          29.5,
          null,
          8.5,
          8.5,
          null,
          -0.5,
          29.5,
          null,
          9.5,
          9.5,
          null,
          -0.5,
          29.5,
          null,
          10.5,
          10.5,
          null,
          -0.5,
          29.5,
          null,
          11.5,
          11.5,
          null,
          -0.5,
          29.5,
          null,
          12.5,
          12.5,
          null,
          -0.5,
          29.5,
          null,
          13.5,
          13.5,
          null,
          -0.5,
          29.5,
          null,
          14.5,
          14.5,
          null,
          -0.5,
          29.5,
          null,
          15.5,
          15.5,
          null,
          -0.5,
          29.5,
          null,
          16.5,
          16.5,
          null,
          -0.5,
          29.5,
          null,
          17.5,
          17.5,
          null,
          -0.5,
          29.5,
          null,
          18.5,
          18.5,
          null,
          -0.5,
          29.5,
          null,
          19.5,
          19.5,
          null,
          -0.5,
          29.5,
          null,
          20.5,
          20.5,
          null,
          -0.5,
          29.5,
          null,
          21.5,
          21.5,
          null,
          -0.5,
          29.5,
          null,
          22.5,
          22.5,
          null,
          -0.5,
          29.5,
          null,
          23.5,
          23.5,
          null,
          -0.5,
          29.5,
          null,
          24.5,
          24.5,
          null,
          -0.5,
          29.5,
          null,
          25.5,
          25.5,
          null,
          -0.5,
          29.5,
          null,
          26.5,
          26.5,
          null,
          -0.5,
          29.5,
          null,
          27.5,
          27.5,
          null,
          -0.5,
          29.5,
          null,
          28.5,
          28.5,
          null
         ],
         "yaxis": "y2"
        },
        {
         "marker": {
          "color": "red",
          "size": 10
         },
         "name": "400p border",
         "type": "scatter",
         "x": [
          2,
          2,
          2,
          2,
          2,
          2,
          2,
          2,
          2,
          2,
          2,
          2,
          2,
          2,
          2,
          2,
          2,
          2,
          2,
          2,
          2,
          2,
          2,
          2,
          2,
          2,
          2,
          2,
          2,
          2,
          2,
          2,
          2,
          2,
          2,
          2,
          2,
          2,
          2,
          2,
          2,
          2,
          2,
          2,
          2,
          2,
          2,
          2,
          2,
          2,
          2,
          2.1020408163265305,
          2.204081632653061,
          2.306122448979592,
          2.4081632653061225,
          2.510204081632653,
          2.612244897959184,
          2.7142857142857144,
          2.816326530612245,
          2.9183673469387754,
          3.020408163265306,
          3.122448979591837,
          3.2244897959183674,
          3.326530612244898,
          3.428571428571429,
          3.5306122448979593,
          3.63265306122449,
          3.7346938775510203,
          3.836734693877551,
          3.938775510204082,
          4.040816326530612,
          4.142857142857142,
          4.244897959183674,
          4.346938775510204,
          4.448979591836735,
          4.551020408163265,
          4.653061224489796,
          4.755102040816327,
          4.857142857142858,
          4.959183673469388,
          5.061224489795919,
          5.163265306122449,
          5.26530612244898,
          5.36734693877551,
          5.469387755102041,
          5.571428571428571,
          5.673469387755102,
          5.775510204081632,
          5.877551020408164,
          5.979591836734694,
          6.081632653061225,
          6.183673469387755,
          6.285714285714286,
          6.387755102040816,
          6.4897959183673475,
          6.591836734693878,
          6.6938775510204085,
          6.795918367346939,
          6.8979591836734695,
          7,
          7,
          7,
          7,
          7,
          7,
          7,
          7,
          7,
          7,
          7,
          7,
          7,
          7,
          7,
          7,
          7,
          7,
          7,
          7,
          7,
          7,
          7,
          7,
          7,
          7,
          7,
          7,
          7,
          7,
          7,
          7,
          7,
          7,
          7,
          7,
          7,
          7,
          7,
          7,
          7,
          7,
          7,
          7,
          7,
          7,
          7,
          7,
          7,
          7,
          7,
          7,
          6.8979591836734695,
          6.795918367346939,
          6.6938775510204085,
          6.591836734693878,
          6.489795918367347,
          6.387755102040816,
          6.285714285714286,
          6.183673469387755,
          6.081632653061225,
          5.979591836734694,
          5.877551020408163,
          5.775510204081632,
          5.673469387755102,
          5.571428571428571,
          5.469387755102041,
          5.36734693877551,
          5.26530612244898,
          5.163265306122449,
          5.061224489795919,
          4.959183673469388,
          4.857142857142858,
          4.755102040816326,
          4.653061224489796,
          4.551020408163265,
          4.448979591836735,
          4.346938775510204,
          4.244897959183673,
          4.142857142857142,
          4.040816326530612,
          3.9387755102040813,
          3.836734693877551,
          3.7346938775510203,
          3.63265306122449,
          3.5306122448979593,
          3.4285714285714284,
          3.326530612244898,
          3.2244897959183674,
          3.1224489795918364,
          3.020408163265306,
          2.9183673469387754,
          2.816326530612245,
          2.7142857142857144,
          2.612244897959184,
          2.5102040816326525,
          2.408163265306122,
          2.3061224489795915,
          2.204081632653061,
          2.1020408163265305,
          2
         ],
         "xaxis": "x",
         "y": [
          7,
          6.8979591836734695,
          6.795918367346939,
          6.6938775510204085,
          6.591836734693878,
          6.489795918367347,
          6.387755102040816,
          6.285714285714286,
          6.183673469387755,
          6.081632653061225,
          5.979591836734694,
          5.877551020408163,
          5.775510204081632,
          5.673469387755102,
          5.571428571428571,
          5.469387755102041,
          5.36734693877551,
          5.26530612244898,
          5.163265306122449,
          5.061224489795919,
          4.959183673469388,
          4.857142857142858,
          4.755102040816326,
          4.653061224489796,
          4.551020408163265,
          4.448979591836735,
          4.346938775510204,
          4.244897959183673,
          4.142857142857142,
          4.040816326530612,
          3.9387755102040813,
          3.836734693877551,
          3.7346938775510203,
          3.63265306122449,
          3.5306122448979593,
          3.4285714285714284,
          3.326530612244898,
          3.2244897959183674,
          3.1224489795918364,
          3.020408163265306,
          2.9183673469387754,
          2.816326530612245,
          2.7142857142857144,
          2.612244897959184,
          2.5102040816326525,
          2.408163265306122,
          2.3061224489795915,
          2.204081632653061,
          2.1020408163265305,
          2,
          2,
          2,
          2,
          2,
          2,
          2,
          2,
          2,
          2,
          2,
          2,
          2,
          2,
          2,
          2,
          2,
          2,
          2,
          2,
          2,
          2,
          2,
          2,
          2,
          2,
          2,
          2,
          2,
          2,
          2,
          2,
          2,
          2,
          2,
          2,
          2,
          2,
          2,
          2,
          2,
          2,
          2,
          2,
          2,
          2,
          2,
          2,
          2,
          2,
          2,
          2,
          2.1020408163265305,
          2.204081632653061,
          2.306122448979592,
          2.4081632653061225,
          2.510204081632653,
          2.612244897959184,
          2.7142857142857144,
          2.816326530612245,
          2.9183673469387754,
          3.020408163265306,
          3.122448979591837,
          3.2244897959183674,
          3.326530612244898,
          3.428571428571429,
          3.5306122448979593,
          3.63265306122449,
          3.7346938775510203,
          3.836734693877551,
          3.938775510204082,
          4.040816326530612,
          4.142857142857142,
          4.244897959183674,
          4.346938775510204,
          4.448979591836735,
          4.551020408163265,
          4.653061224489796,
          4.755102040816327,
          4.857142857142858,
          4.959183673469388,
          5.061224489795919,
          5.163265306122449,
          5.26530612244898,
          5.36734693877551,
          5.469387755102041,
          5.571428571428571,
          5.673469387755102,
          5.775510204081632,
          5.877551020408164,
          5.979591836734694,
          6.081632653061225,
          6.183673469387755,
          6.285714285714286,
          6.387755102040816,
          6.4897959183673475,
          6.591836734693878,
          6.6938775510204085,
          6.795918367346939,
          6.8979591836734695,
          7,
          7,
          7,
          7,
          7,
          7,
          7,
          7,
          7,
          7,
          7,
          7,
          7,
          7,
          7,
          7,
          7,
          7,
          7,
          7,
          7,
          7,
          7,
          7,
          7,
          7,
          7,
          7,
          7,
          7,
          7,
          7,
          7,
          7,
          7,
          7,
          7,
          7,
          7,
          7,
          7,
          7,
          7,
          7,
          7,
          7,
          7,
          7,
          7,
          7,
          7
         ],
         "yaxis": "y"
        },
        {
         "marker": {
          "color": "red",
          "size": 10
         },
         "name": "400 p border",
         "type": "scatter",
         "x": [
          7,
          7,
          7,
          7,
          7,
          7,
          7,
          7,
          7,
          7,
          7,
          7,
          7,
          7,
          7,
          7,
          7,
          7,
          7,
          7,
          7,
          7,
          7,
          7,
          7,
          7,
          7,
          7,
          7,
          7,
          7,
          7,
          7,
          7,
          7,
          7,
          7,
          7,
          7,
          7,
          7,
          7,
          7,
          7,
          7,
          7,
          7,
          7,
          7,
          7,
          7,
          7.3061224489795915,
          7.612244897959183,
          7.918367346938776,
          8.224489795918368,
          8.53061224489796,
          8.836734693877553,
          9.142857142857142,
          9.448979591836736,
          9.755102040816325,
          10.061224489795919,
          10.36734693877551,
          10.673469387755102,
          10.979591836734693,
          11.285714285714286,
          11.591836734693878,
          11.89795918367347,
          12.204081632653061,
          12.510204081632653,
          12.816326530612246,
          13.122448979591836,
          13.428571428571427,
          13.73469387755102,
          14.040816326530614,
          14.346938775510203,
          14.653061224489797,
          14.959183673469386,
          15.265306122448981,
          15.571428571428573,
          15.877551020408163,
          16.183673469387756,
          16.48979591836735,
          16.79591836734694,
          17.10204081632653,
          17.408163265306122,
          17.714285714285715,
          18.020408163265305,
          18.326530612244895,
          18.63265306122449,
          18.93877551020408,
          19.244897959183675,
          19.551020408163264,
          19.857142857142858,
          20.163265306122447,
          20.46938775510204,
          20.775510204081634,
          21.081632653061227,
          21.387755102040817,
          21.693877551020407,
          22,
          22,
          22,
          22,
          22,
          22,
          22,
          22,
          22,
          22,
          22,
          22,
          22,
          22,
          22,
          22,
          22,
          22,
          22,
          22,
          22,
          22,
          22,
          22,
          22,
          22,
          22,
          22,
          22,
          22,
          22,
          22,
          22,
          22,
          22,
          22,
          22,
          22,
          22,
          22,
          22,
          22,
          22,
          22,
          22,
          22,
          22,
          22,
          22,
          22,
          22,
          22,
          21.693877551020407,
          21.387755102040817,
          21.081632653061227,
          20.775510204081634,
          20.46938775510204,
          20.163265306122447,
          19.857142857142858,
          19.551020408163264,
          19.244897959183675,
          18.93877551020408,
          18.632653061224488,
          18.326530612244895,
          18.020408163265305,
          17.714285714285715,
          17.408163265306122,
          17.10204081632653,
          16.79591836734694,
          16.48979591836735,
          16.183673469387756,
          15.877551020408163,
          15.571428571428573,
          15.26530612244898,
          14.959183673469386,
          14.653061224489797,
          14.346938775510203,
          14.040816326530614,
          13.734693877551019,
          13.428571428571427,
          13.122448979591836,
          12.816326530612244,
          12.510204081632653,
          12.204081632653061,
          11.89795918367347,
          11.591836734693878,
          11.285714285714285,
          10.979591836734693,
          10.673469387755102,
          10.367346938775508,
          10.061224489795919,
          9.755102040816325,
          9.448979591836736,
          9.142857142857142,
          8.836734693877553,
          8.530612244897958,
          8.224489795918366,
          7.9183673469387745,
          7.612244897959183,
          7.3061224489795915,
          7
         ],
         "xaxis": "x2",
         "y": [
          22,
          21.693877551020407,
          21.387755102040817,
          21.081632653061227,
          20.775510204081634,
          20.46938775510204,
          20.163265306122447,
          19.857142857142858,
          19.551020408163264,
          19.244897959183675,
          18.93877551020408,
          18.632653061224488,
          18.326530612244895,
          18.020408163265305,
          17.714285714285715,
          17.408163265306122,
          17.10204081632653,
          16.79591836734694,
          16.48979591836735,
          16.183673469387756,
          15.877551020408163,
          15.571428571428573,
          15.26530612244898,
          14.959183673469386,
          14.653061224489797,
          14.346938775510203,
          14.040816326530614,
          13.734693877551019,
          13.428571428571427,
          13.122448979591836,
          12.816326530612244,
          12.510204081632653,
          12.204081632653061,
          11.89795918367347,
          11.591836734693878,
          11.285714285714285,
          10.979591836734693,
          10.673469387755102,
          10.367346938775508,
          10.061224489795919,
          9.755102040816325,
          9.448979591836736,
          9.142857142857142,
          8.836734693877553,
          8.530612244897958,
          8.224489795918366,
          7.9183673469387745,
          7.612244897959183,
          7.3061224489795915,
          7,
          7,
          7,
          7,
          7,
          7,
          7,
          7,
          7,
          7,
          7,
          7,
          7,
          7,
          7,
          7,
          7,
          7,
          7,
          7,
          7,
          7,
          7,
          7,
          7,
          7,
          7,
          7,
          7,
          7,
          7,
          7,
          7,
          7,
          7,
          7,
          7,
          7,
          7,
          7,
          7,
          7,
          7,
          7,
          7,
          7,
          7,
          7,
          7,
          7,
          7,
          7,
          7.3061224489795915,
          7.612244897959183,
          7.918367346938776,
          8.224489795918368,
          8.53061224489796,
          8.836734693877553,
          9.142857142857142,
          9.448979591836736,
          9.755102040816325,
          10.061224489795919,
          10.36734693877551,
          10.673469387755102,
          10.979591836734693,
          11.285714285714286,
          11.591836734693878,
          11.89795918367347,
          12.204081632653061,
          12.510204081632653,
          12.816326530612246,
          13.122448979591836,
          13.428571428571427,
          13.73469387755102,
          14.040816326530614,
          14.346938775510203,
          14.653061224489797,
          14.959183673469386,
          15.265306122448981,
          15.571428571428573,
          15.877551020408163,
          16.183673469387756,
          16.48979591836735,
          16.79591836734694,
          17.10204081632653,
          17.408163265306122,
          17.714285714285715,
          18.020408163265305,
          18.326530612244895,
          18.63265306122449,
          18.93877551020408,
          19.244897959183675,
          19.551020408163264,
          19.857142857142858,
          20.163265306122447,
          20.46938775510204,
          20.775510204081634,
          21.081632653061227,
          21.387755102040817,
          21.693877551020407,
          22,
          22,
          22,
          22,
          22,
          22,
          22,
          22,
          22,
          22,
          22,
          22,
          22,
          22,
          22,
          22,
          22,
          22,
          22,
          22,
          22,
          22,
          22,
          22,
          22,
          22,
          22,
          22,
          22,
          22,
          22,
          22,
          22,
          22,
          22,
          22,
          22,
          22,
          22,
          22,
          22,
          22,
          22,
          22,
          22,
          22,
          22,
          22,
          22,
          22,
          22
         ],
         "yaxis": "y2"
        }
       ],
       "layout": {
        "annotations": [
         {
          "font": {
           "size": 16
          },
          "showarrow": false,
          "text": "Original image",
          "x": 0.2375,
          "xanchor": "center",
          "xref": "paper",
          "y": 1,
          "yanchor": "bottom",
          "yref": "paper"
         },
         {
          "font": {
           "size": 16
          },
          "showarrow": false,
          "text": "Upscaled image s=3",
          "x": 0.7625,
          "xanchor": "center",
          "xref": "paper",
          "y": 1,
          "yanchor": "bottom",
          "yref": "paper"
         }
        ],
        "coloraxis": {
         "showscale": false
        },
        "font": {
         "size": 11
        },
        "height": 800,
        "showlegend": true,
        "template": {
         "data": {
          "bar": [
           {
            "error_x": {
             "color": "#2a3f5f"
            },
            "error_y": {
             "color": "#2a3f5f"
            },
            "marker": {
             "line": {
              "color": "#E5ECF6",
              "width": 0.5
             },
             "pattern": {
              "fillmode": "overlay",
              "size": 10,
              "solidity": 0.2
             }
            },
            "type": "bar"
           }
          ],
          "barpolar": [
           {
            "marker": {
             "line": {
              "color": "#E5ECF6",
              "width": 0.5
             },
             "pattern": {
              "fillmode": "overlay",
              "size": 10,
              "solidity": 0.2
             }
            },
            "type": "barpolar"
           }
          ],
          "carpet": [
           {
            "aaxis": {
             "endlinecolor": "#2a3f5f",
             "gridcolor": "white",
             "linecolor": "white",
             "minorgridcolor": "white",
             "startlinecolor": "#2a3f5f"
            },
            "baxis": {
             "endlinecolor": "#2a3f5f",
             "gridcolor": "white",
             "linecolor": "white",
             "minorgridcolor": "white",
             "startlinecolor": "#2a3f5f"
            },
            "type": "carpet"
           }
          ],
          "choropleth": [
           {
            "colorbar": {
             "outlinewidth": 0,
             "ticks": ""
            },
            "type": "choropleth"
           }
          ],
          "contour": [
           {
            "colorbar": {
             "outlinewidth": 0,
             "ticks": ""
            },
            "colorscale": [
             [
              0,
              "#0d0887"
             ],
             [
              0.1111111111111111,
              "#46039f"
             ],
             [
              0.2222222222222222,
              "#7201a8"
             ],
             [
              0.3333333333333333,
              "#9c179e"
             ],
             [
              0.4444444444444444,
              "#bd3786"
             ],
             [
              0.5555555555555556,
              "#d8576b"
             ],
             [
              0.6666666666666666,
              "#ed7953"
             ],
             [
              0.7777777777777778,
              "#fb9f3a"
             ],
             [
              0.8888888888888888,
              "#fdca26"
             ],
             [
              1,
              "#f0f921"
             ]
            ],
            "type": "contour"
           }
          ],
          "contourcarpet": [
           {
            "colorbar": {
             "outlinewidth": 0,
             "ticks": ""
            },
            "type": "contourcarpet"
           }
          ],
          "heatmap": [
           {
            "colorbar": {
             "outlinewidth": 0,
             "ticks": ""
            },
            "colorscale": [
             [
              0,
              "#0d0887"
             ],
             [
              0.1111111111111111,
              "#46039f"
             ],
             [
              0.2222222222222222,
              "#7201a8"
             ],
             [
              0.3333333333333333,
              "#9c179e"
             ],
             [
              0.4444444444444444,
              "#bd3786"
             ],
             [
              0.5555555555555556,
              "#d8576b"
             ],
             [
              0.6666666666666666,
              "#ed7953"
             ],
             [
              0.7777777777777778,
              "#fb9f3a"
             ],
             [
              0.8888888888888888,
              "#fdca26"
             ],
             [
              1,
              "#f0f921"
             ]
            ],
            "type": "heatmap"
           }
          ],
          "heatmapgl": [
           {
            "colorbar": {
             "outlinewidth": 0,
             "ticks": ""
            },
            "colorscale": [
             [
              0,
              "#0d0887"
             ],
             [
              0.1111111111111111,
              "#46039f"
             ],
             [
              0.2222222222222222,
              "#7201a8"
             ],
             [
              0.3333333333333333,
              "#9c179e"
             ],
             [
              0.4444444444444444,
              "#bd3786"
             ],
             [
              0.5555555555555556,
              "#d8576b"
             ],
             [
              0.6666666666666666,
              "#ed7953"
             ],
             [
              0.7777777777777778,
              "#fb9f3a"
             ],
             [
              0.8888888888888888,
              "#fdca26"
             ],
             [
              1,
              "#f0f921"
             ]
            ],
            "type": "heatmapgl"
           }
          ],
          "histogram": [
           {
            "marker": {
             "pattern": {
              "fillmode": "overlay",
              "size": 10,
              "solidity": 0.2
             }
            },
            "type": "histogram"
           }
          ],
          "histogram2d": [
           {
            "colorbar": {
             "outlinewidth": 0,
             "ticks": ""
            },
            "colorscale": [
             [
              0,
              "#0d0887"
             ],
             [
              0.1111111111111111,
              "#46039f"
             ],
             [
              0.2222222222222222,
              "#7201a8"
             ],
             [
              0.3333333333333333,
              "#9c179e"
             ],
             [
              0.4444444444444444,
              "#bd3786"
             ],
             [
              0.5555555555555556,
              "#d8576b"
             ],
             [
              0.6666666666666666,
              "#ed7953"
             ],
             [
              0.7777777777777778,
              "#fb9f3a"
             ],
             [
              0.8888888888888888,
              "#fdca26"
             ],
             [
              1,
              "#f0f921"
             ]
            ],
            "type": "histogram2d"
           }
          ],
          "histogram2dcontour": [
           {
            "colorbar": {
             "outlinewidth": 0,
             "ticks": ""
            },
            "colorscale": [
             [
              0,
              "#0d0887"
             ],
             [
              0.1111111111111111,
              "#46039f"
             ],
             [
              0.2222222222222222,
              "#7201a8"
             ],
             [
              0.3333333333333333,
              "#9c179e"
             ],
             [
              0.4444444444444444,
              "#bd3786"
             ],
             [
              0.5555555555555556,
              "#d8576b"
             ],
             [
              0.6666666666666666,
              "#ed7953"
             ],
             [
              0.7777777777777778,
              "#fb9f3a"
             ],
             [
              0.8888888888888888,
              "#fdca26"
             ],
             [
              1,
              "#f0f921"
             ]
            ],
            "type": "histogram2dcontour"
           }
          ],
          "mesh3d": [
           {
            "colorbar": {
             "outlinewidth": 0,
             "ticks": ""
            },
            "type": "mesh3d"
           }
          ],
          "parcoords": [
           {
            "line": {
             "colorbar": {
              "outlinewidth": 0,
              "ticks": ""
             }
            },
            "type": "parcoords"
           }
          ],
          "pie": [
           {
            "automargin": true,
            "type": "pie"
           }
          ],
          "scatter": [
           {
            "fillpattern": {
             "fillmode": "overlay",
             "size": 10,
             "solidity": 0.2
            },
            "type": "scatter"
           }
          ],
          "scatter3d": [
           {
            "line": {
             "colorbar": {
              "outlinewidth": 0,
              "ticks": ""
             }
            },
            "marker": {
             "colorbar": {
              "outlinewidth": 0,
              "ticks": ""
             }
            },
            "type": "scatter3d"
           }
          ],
          "scattercarpet": [
           {
            "marker": {
             "colorbar": {
              "outlinewidth": 0,
              "ticks": ""
             }
            },
            "type": "scattercarpet"
           }
          ],
          "scattergeo": [
           {
            "marker": {
             "colorbar": {
              "outlinewidth": 0,
              "ticks": ""
             }
            },
            "type": "scattergeo"
           }
          ],
          "scattergl": [
           {
            "marker": {
             "colorbar": {
              "outlinewidth": 0,
              "ticks": ""
             }
            },
            "type": "scattergl"
           }
          ],
          "scattermapbox": [
           {
            "marker": {
             "colorbar": {
              "outlinewidth": 0,
              "ticks": ""
             }
            },
            "type": "scattermapbox"
           }
          ],
          "scatterpolar": [
           {
            "marker": {
             "colorbar": {
              "outlinewidth": 0,
              "ticks": ""
             }
            },
            "type": "scatterpolar"
           }
          ],
          "scatterpolargl": [
           {
            "marker": {
             "colorbar": {
              "outlinewidth": 0,
              "ticks": ""
             }
            },
            "type": "scatterpolargl"
           }
          ],
          "scatterternary": [
           {
            "marker": {
             "colorbar": {
              "outlinewidth": 0,
              "ticks": ""
             }
            },
            "type": "scatterternary"
           }
          ],
          "surface": [
           {
            "colorbar": {
             "outlinewidth": 0,
             "ticks": ""
            },
            "colorscale": [
             [
              0,
              "#0d0887"
             ],
             [
              0.1111111111111111,
              "#46039f"
             ],
             [
              0.2222222222222222,
              "#7201a8"
             ],
             [
              0.3333333333333333,
              "#9c179e"
             ],
             [
              0.4444444444444444,
              "#bd3786"
             ],
             [
              0.5555555555555556,
              "#d8576b"
             ],
             [
              0.6666666666666666,
              "#ed7953"
             ],
             [
              0.7777777777777778,
              "#fb9f3a"
             ],
             [
              0.8888888888888888,
              "#fdca26"
             ],
             [
              1,
              "#f0f921"
             ]
            ],
            "type": "surface"
           }
          ],
          "table": [
           {
            "cells": {
             "fill": {
              "color": "#EBF0F8"
             },
             "line": {
              "color": "white"
             }
            },
            "header": {
             "fill": {
              "color": "#C8D4E3"
             },
             "line": {
              "color": "white"
             }
            },
            "type": "table"
           }
          ]
         },
         "layout": {
          "annotationdefaults": {
           "arrowcolor": "#2a3f5f",
           "arrowhead": 0,
           "arrowwidth": 1
          },
          "autotypenumbers": "strict",
          "coloraxis": {
           "colorbar": {
            "outlinewidth": 0,
            "ticks": ""
           }
          },
          "colorscale": {
           "diverging": [
            [
             0,
             "#8e0152"
            ],
            [
             0.1,
             "#c51b7d"
            ],
            [
             0.2,
             "#de77ae"
            ],
            [
             0.3,
             "#f1b6da"
            ],
            [
             0.4,
             "#fde0ef"
            ],
            [
             0.5,
             "#f7f7f7"
            ],
            [
             0.6,
             "#e6f5d0"
            ],
            [
             0.7,
             "#b8e186"
            ],
            [
             0.8,
             "#7fbc41"
            ],
            [
             0.9,
             "#4d9221"
            ],
            [
             1,
             "#276419"
            ]
           ],
           "sequential": [
            [
             0,
             "#0d0887"
            ],
            [
             0.1111111111111111,
             "#46039f"
            ],
            [
             0.2222222222222222,
             "#7201a8"
            ],
            [
             0.3333333333333333,
             "#9c179e"
            ],
            [
             0.4444444444444444,
             "#bd3786"
            ],
            [
             0.5555555555555556,
             "#d8576b"
            ],
            [
             0.6666666666666666,
             "#ed7953"
            ],
            [
             0.7777777777777778,
             "#fb9f3a"
            ],
            [
             0.8888888888888888,
             "#fdca26"
            ],
            [
             1,
             "#f0f921"
            ]
           ],
           "sequentialminus": [
            [
             0,
             "#0d0887"
            ],
            [
             0.1111111111111111,
             "#46039f"
            ],
            [
             0.2222222222222222,
             "#7201a8"
            ],
            [
             0.3333333333333333,
             "#9c179e"
            ],
            [
             0.4444444444444444,
             "#bd3786"
            ],
            [
             0.5555555555555556,
             "#d8576b"
            ],
            [
             0.6666666666666666,
             "#ed7953"
            ],
            [
             0.7777777777777778,
             "#fb9f3a"
            ],
            [
             0.8888888888888888,
             "#fdca26"
            ],
            [
             1,
             "#f0f921"
            ]
           ]
          },
          "colorway": [
           "#636efa",
           "#EF553B",
           "#00cc96",
           "#ab63fa",
           "#FFA15A",
           "#19d3f3",
           "#FF6692",
           "#B6E880",
           "#FF97FF",
           "#FECB52"
          ],
          "font": {
           "color": "#2a3f5f"
          },
          "geo": {
           "bgcolor": "white",
           "lakecolor": "white",
           "landcolor": "#E5ECF6",
           "showlakes": true,
           "showland": true,
           "subunitcolor": "white"
          },
          "hoverlabel": {
           "align": "left"
          },
          "hovermode": "closest",
          "mapbox": {
           "style": "light"
          },
          "paper_bgcolor": "white",
          "plot_bgcolor": "#E5ECF6",
          "polar": {
           "angularaxis": {
            "gridcolor": "white",
            "linecolor": "white",
            "ticks": ""
           },
           "bgcolor": "#E5ECF6",
           "radialaxis": {
            "gridcolor": "white",
            "linecolor": "white",
            "ticks": ""
           }
          },
          "scene": {
           "xaxis": {
            "backgroundcolor": "#E5ECF6",
            "gridcolor": "white",
            "gridwidth": 2,
            "linecolor": "white",
            "showbackground": true,
            "ticks": "",
            "zerolinecolor": "white"
           },
           "yaxis": {
            "backgroundcolor": "#E5ECF6",
            "gridcolor": "white",
            "gridwidth": 2,
            "linecolor": "white",
            "showbackground": true,
            "ticks": "",
            "zerolinecolor": "white"
           },
           "zaxis": {
            "backgroundcolor": "#E5ECF6",
            "gridcolor": "white",
            "gridwidth": 2,
            "linecolor": "white",
            "showbackground": true,
            "ticks": "",
            "zerolinecolor": "white"
           }
          },
          "shapedefaults": {
           "line": {
            "color": "#2a3f5f"
           }
          },
          "ternary": {
           "aaxis": {
            "gridcolor": "white",
            "linecolor": "white",
            "ticks": ""
           },
           "baxis": {
            "gridcolor": "white",
            "linecolor": "white",
            "ticks": ""
           },
           "bgcolor": "#E5ECF6",
           "caxis": {
            "gridcolor": "white",
            "linecolor": "white",
            "ticks": ""
           }
          },
          "title": {
           "x": 0.05
          },
          "xaxis": {
           "automargin": true,
           "gridcolor": "white",
           "linecolor": "white",
           "ticks": "",
           "title": {
            "standoff": 15
           },
           "zerolinecolor": "white",
           "zerolinewidth": 2
          },
          "yaxis": {
           "automargin": true,
           "gridcolor": "white",
           "linecolor": "white",
           "ticks": "",
           "title": {
            "standoff": 15
           },
           "zerolinecolor": "white",
           "zerolinewidth": 2
          }
         }
        },
        "title": {
         "text": "Border upscaling with offset: b(point)=point*s + s/2 - 1/2",
         "x": 0.5
        },
        "width": 1400,
        "xaxis": {
         "anchor": "y",
         "domain": [
          0,
          0.475
         ]
        },
        "xaxis2": {
         "anchor": "y2",
         "domain": [
          0.525,
          1
         ]
        },
        "yaxis": {
         "anchor": "x",
         "domain": [
          0,
          1
         ]
        },
        "yaxis2": {
         "anchor": "x2",
         "domain": [
          0,
          1
         ]
        }
       }
      }
     },
     "metadata": {},
     "output_type": "display_data"
    }
   ],
   "source": [
    "fig = make_subplots(rows=1, cols=2, \n",
    "                    horizontal_spacing=0.05, \n",
    "                    vertical_spacing=0.1,\n",
    "                    subplot_titles=('Original image', f\"Upscaled image s={scale_factor}\"))\n",
    "# Add images to plot\n",
    "base_image_fig = px.imshow(test_image)\n",
    "fig.add_trace(base_image_fig.data[0], 1, 1)\n",
    "xs, ys = gridlines(test_image)\n",
    "fig.add_trace(go.Scatter(x=xs, y=ys, marker=dict(color='black', size=1), name=f\"Pixel edges\", showlegend=False), row=1, col=1)\n",
    "\n",
    "upscaled_image_fig = px.imshow(upscaled_image_box)\n",
    "fig.add_trace(upscaled_image_fig.data[0], 1, 2)\n",
    "xs, ys = gridlines(upscaled_image_box)\n",
    "fig.add_trace(go.Scatter(x=xs, y=ys, marker=dict(color='black', size=1), name=f\"Pixel edges\", showlegend=False), row=1, col=2)\n",
    "\n",
    "# 400p borders\n",
    "fig.add_trace(go.Scatter(x=fourier_xs, y=fourier_ys, marker=dict(color='red', size=10), name=f\"400p border\"), row=1, col=1)\n",
    "fig.add_trace(go.Scatter(x=fourier_xs*scale_factor+scale_factor/2-0.5, y=fourier_ys*scale_factor+scale_factor/2-0.5, marker=dict(color='red', size=10), name=f\"400 p border\"), row=1, col=2)\n",
    "\n",
    "fig.update_layout(title_text=f\"Border upscaling with offset: b(point)=point*s + s/2 - 1/2\", title_x=0.5, width=1400, height=800, showlegend=True, font_size=11)\n",
    "fig.update(layout_coloraxis_showscale=False)\n",
    "fig.show()"
   ]
  },
  {
   "cell_type": "markdown",
   "metadata": {},
   "source": [
    "# Get intersected pixels"
   ]
  },
  {
   "cell_type": "code",
   "execution_count": 9,
   "metadata": {},
   "outputs": [
    {
     "ename": "NameError",
     "evalue": "name 'pixels_between_points_2' is not defined",
     "output_type": "error",
     "traceback": [
      "\u001b[1;31m---------------------------------------------------------------------------\u001b[0m",
      "\u001b[1;31mNameError\u001b[0m                                 Traceback (most recent call last)",
      "\u001b[1;32m~\\AppData\\Local\\Temp\\ipykernel_8164\\1605718455.py\u001b[0m in \u001b[0;36m<cell line: 12>\u001b[1;34m()\u001b[0m\n\u001b[0;32m     10\u001b[0m \u001b[1;33m\u001b[0m\u001b[0m\n\u001b[0;32m     11\u001b[0m \u001b[0mupscaled_image_box_2\u001b[0m \u001b[1;33m=\u001b[0m \u001b[0mupscaled_image_box\u001b[0m\u001b[1;33m.\u001b[0m\u001b[0mcopy\u001b[0m\u001b[1;33m(\u001b[0m\u001b[1;33m)\u001b[0m\u001b[1;33m\u001b[0m\u001b[1;33m\u001b[0m\u001b[0m\n\u001b[1;32m---> 12\u001b[1;33m \u001b[0mxs\u001b[0m\u001b[1;33m,\u001b[0m \u001b[0mys\u001b[0m \u001b[1;33m=\u001b[0m \u001b[0mpixels_between_points_2\u001b[0m\u001b[1;33m(\u001b[0m\u001b[0mfourier_xs\u001b[0m\u001b[1;33m*\u001b[0m\u001b[0mscale_factor\u001b[0m\u001b[1;33m,\u001b[0m \u001b[0mfourier_ys\u001b[0m\u001b[1;33m*\u001b[0m\u001b[0mscale_factor\u001b[0m\u001b[1;33m)\u001b[0m\u001b[1;33m\u001b[0m\u001b[1;33m\u001b[0m\u001b[0m\n\u001b[0m\u001b[0;32m     13\u001b[0m \u001b[1;31m# xs, ys = pixels_between_points(fourier_xs*scale_factor+scale_factor/2-0.5, fourier_ys*scale_factor+scale_factor/2-0.5)\u001b[0m\u001b[1;33m\u001b[0m\u001b[1;33m\u001b[0m\u001b[0m\n\u001b[0;32m     14\u001b[0m \u001b[1;32mfor\u001b[0m \u001b[0mx\u001b[0m\u001b[1;33m,\u001b[0m\u001b[0my\u001b[0m \u001b[1;32min\u001b[0m \u001b[0mlist\u001b[0m\u001b[1;33m(\u001b[0m\u001b[0mzip\u001b[0m\u001b[1;33m(\u001b[0m\u001b[0mxs\u001b[0m\u001b[1;33m,\u001b[0m\u001b[0mys\u001b[0m\u001b[1;33m)\u001b[0m\u001b[1;33m)\u001b[0m\u001b[1;33m:\u001b[0m\u001b[1;33m\u001b[0m\u001b[1;33m\u001b[0m\u001b[0m\n",
      "\u001b[1;31mNameError\u001b[0m: name 'pixels_between_points_2' is not defined"
     ]
    }
   ],
   "source": [
    "fig = make_subplots(rows=1, cols=2, \n",
    "                    horizontal_spacing=0.05, \n",
    "                    vertical_spacing=0.1,\n",
    "                    subplot_titles=('Original image', f\"Upscaled image s={scale_factor}\"))\n",
    "# Add images to plot\n",
    "base_image_fig = px.imshow(test_image)\n",
    "fig.add_trace(base_image_fig.data[0], 1, 1)\n",
    "xs, ys = gridlines(test_image)\n",
    "fig.add_trace(go.Scatter(x=xs, y=ys, marker=dict(color='black', size=1), name=f\"Pixel edges\", showlegend=False), row=1, col=1)\n",
    "\n",
    "upscaled_image_box_2 = upscaled_image_box.copy()\n",
    "xs, ys = pixels_between_points_2(fourier_xs*scale_factor, fourier_ys*scale_factor)\n",
    "# xs, ys = pixels_between_points(fourier_xs*scale_factor+scale_factor/2-0.5, fourier_ys*scale_factor+scale_factor/2-0.5)\n",
    "for x,y in list(zip(xs,ys)):\n",
    "    upscaled_image_box_2[int(x)][int(y)] = 0.5\n",
    "    \n",
    "upscaled_image_fig = px.imshow(upscaled_image_box_2)\n",
    "fig.add_trace(upscaled_image_fig.data[0], 1, 2)\n",
    "xs, ys = gridlines(upscaled_image_box_2)\n",
    "fig.add_trace(go.Scatter(x=xs, y=ys, marker=dict(color='black', size=1), name=f\"Pixel edges\", showlegend=False), row=1, col=2)\n",
    "\n",
    "# 400p borders\n",
    "fig.add_trace(go.Scatter(x=fourier_xs, y=fourier_ys, marker=dict(color='red', size=10), name=f\"400p border\"), row=1, col=1)\n",
    "fig.add_trace(go.Scatter(x=fourier_xs*scale_factor, y=fourier_ys*scale_factor, marker=dict(color='red', size=10), name=f\"400 p border\"), row=1, col=2)\n",
    "\n",
    "fig.update_layout(title_text=f\"Border upscaling with no offset: b(point)=point*s\", title_x=0.5, width=1400, height=800, showlegend=True, font_size=11)\n",
    "fig.update(layout_coloraxis_showscale=False)\n",
    "fig.show()"
   ]
  },
  {
   "cell_type": "markdown",
   "metadata": {},
   "source": [
    "# \n",
    "\n",
    "scipy.ndimage import map_cooridnates"
   ]
  },
  {
   "cell_type": "code",
   "execution_count": null,
   "metadata": {},
   "outputs": [
    {
     "name": "stderr",
     "output_type": "stream",
     "text": [
      "d:\\Master\\MasterProject\\dataset_creation\\helper_functions\\helper_functions.py:134: RuntimeWarning:\n",
      "\n",
      "divide by zero encountered in double_scalars\n",
      "\n",
      "d:\\Master\\MasterProject\\dataset_creation\\helper_functions\\helper_functions.py:138: RuntimeWarning:\n",
      "\n",
      "divide by zero encountered in double_scalars\n",
      "\n"
     ]
    },
    {
     "data": {
      "application/vnd.plotly.v1+json": {
       "config": {
        "plotlyServerURL": "https://plot.ly"
       },
       "data": [
        {
         "coloraxis": "coloraxis",
         "hovertemplate": "x: %{x}<br>y: %{y}<br>color: %{z}<extra></extra>",
         "name": "0",
         "type": "heatmap",
         "xaxis": "x",
         "yaxis": "y",
         "z": [
          [
           0,
           0,
           0,
           0,
           0,
           0,
           0,
           0,
           0,
           0
          ],
          [
           0,
           0,
           0,
           0,
           0,
           0,
           0,
           0,
           0,
           0
          ],
          [
           0,
           0,
           1,
           1,
           1,
           1,
           1,
           1,
           0,
           0
          ],
          [
           0,
           0,
           1,
           0,
           0,
           0,
           0,
           1,
           0,
           0
          ],
          [
           0,
           0,
           1,
           0,
           0,
           0,
           0,
           1,
           0,
           0
          ],
          [
           0,
           0,
           1,
           0,
           0,
           0,
           0,
           1,
           0,
           0
          ],
          [
           0,
           0,
           1,
           0,
           0,
           0,
           0,
           1,
           0,
           0
          ],
          [
           0,
           0,
           1,
           1,
           1,
           1,
           1,
           1,
           0,
           0
          ],
          [
           0,
           0,
           0,
           0,
           0,
           0,
           0,
           0,
           0,
           0
          ],
          [
           0,
           0,
           0,
           0,
           0,
           0,
           0,
           0,
           0,
           0
          ]
         ]
        },
        {
         "marker": {
          "color": "black",
          "size": 1
         },
         "name": "Pixel edges",
         "showlegend": false,
         "type": "scatter",
         "x": [
          -0.5,
          -0.5,
          null,
          -0.5,
          9.5,
          null,
          0.5,
          0.5,
          null,
          -0.5,
          9.5,
          null,
          1.5,
          1.5,
          null,
          -0.5,
          9.5,
          null,
          2.5,
          2.5,
          null,
          -0.5,
          9.5,
          null,
          3.5,
          3.5,
          null,
          -0.5,
          9.5,
          null,
          4.5,
          4.5,
          null,
          -0.5,
          9.5,
          null,
          5.5,
          5.5,
          null,
          -0.5,
          9.5,
          null,
          6.5,
          6.5,
          null,
          -0.5,
          9.5,
          null,
          7.5,
          7.5,
          null,
          -0.5,
          9.5,
          null,
          8.5,
          8.5,
          null,
          -0.5,
          9.5,
          null
         ],
         "xaxis": "x",
         "y": [
          -0.5,
          9.5,
          null,
          -0.5,
          -0.5,
          null,
          -0.5,
          9.5,
          null,
          0.5,
          0.5,
          null,
          -0.5,
          9.5,
          null,
          1.5,
          1.5,
          null,
          -0.5,
          9.5,
          null,
          2.5,
          2.5,
          null,
          -0.5,
          9.5,
          null,
          3.5,
          3.5,
          null,
          -0.5,
          9.5,
          null,
          4.5,
          4.5,
          null,
          -0.5,
          9.5,
          null,
          5.5,
          5.5,
          null,
          -0.5,
          9.5,
          null,
          6.5,
          6.5,
          null,
          -0.5,
          9.5,
          null,
          7.5,
          7.5,
          null,
          -0.5,
          9.5,
          null,
          8.5,
          8.5,
          null
         ],
         "yaxis": "y"
        },
        {
         "coloraxis": "coloraxis",
         "hovertemplate": "x: %{x}<br>y: %{y}<br>color: %{z}<extra></extra>",
         "name": "0",
         "type": "heatmap",
         "xaxis": "x2",
         "yaxis": "y2",
         "z": [
          [
           0,
           0,
           0,
           0,
           0,
           0,
           0,
           0,
           0,
           0,
           0,
           0,
           0,
           0,
           0,
           0,
           0,
           0,
           0,
           0,
           0,
           0,
           0,
           0,
           0,
           0,
           0,
           0,
           0,
           0
          ],
          [
           0,
           0,
           0,
           0,
           0,
           0,
           0,
           0,
           0,
           0,
           0,
           0,
           0,
           0,
           0,
           0,
           0,
           0,
           0,
           0,
           0,
           0,
           0,
           0,
           0,
           0,
           0,
           0,
           0,
           0
          ],
          [
           0,
           0,
           0,
           0,
           0,
           0,
           0,
           0,
           0,
           0,
           0,
           0,
           0,
           0,
           0,
           0,
           0,
           0,
           0,
           0,
           0,
           0,
           0,
           0,
           0,
           0,
           0,
           0,
           0,
           0
          ],
          [
           0,
           0,
           0,
           0,
           0,
           0,
           0,
           0,
           0,
           0,
           0,
           0,
           0,
           0,
           0,
           0,
           0,
           0,
           0,
           0,
           0,
           0,
           0,
           0,
           0,
           0,
           0,
           0,
           0,
           0
          ],
          [
           0,
           0,
           0,
           0,
           0,
           0,
           0,
           0,
           0,
           0,
           0,
           0,
           0,
           0,
           0,
           0,
           0,
           0,
           0,
           0,
           0,
           0,
           0,
           0,
           0,
           0,
           0,
           0,
           0,
           0
          ],
          [
           0,
           0,
           0,
           0,
           0,
           0,
           0,
           0,
           0,
           0,
           0,
           0,
           0,
           0,
           0,
           0,
           0,
           0,
           0,
           0,
           0,
           0,
           0,
           0,
           0,
           0,
           0,
           0,
           0,
           0
          ],
          [
           0,
           0,
           0,
           0,
           0,
           0,
           1,
           1,
           1,
           1,
           1,
           1,
           1,
           1,
           1,
           1,
           1,
           1,
           1,
           1,
           1,
           1,
           1,
           1,
           0,
           0,
           0,
           0,
           0,
           0
          ],
          [
           0,
           0,
           0,
           0,
           0,
           0,
           1,
           0.5,
           0.5,
           0.5,
           0.5,
           0.5,
           0.5,
           0.5,
           0.5,
           0.5,
           0.5,
           0.5,
           0.5,
           0.5,
           0.5,
           0.5,
           0.5,
           1,
           0,
           0,
           0,
           0,
           0,
           0
          ],
          [
           0,
           0,
           0,
           0,
           0,
           0,
           1,
           0.5,
           1,
           1,
           1,
           1,
           1,
           1,
           1,
           1,
           1,
           1,
           1,
           1,
           1,
           1,
           0.5,
           1,
           0,
           0,
           0,
           0,
           0,
           0
          ],
          [
           0,
           0,
           0,
           0,
           0,
           0,
           1,
           0.5,
           1,
           0,
           0,
           0,
           0,
           0,
           0,
           0,
           0,
           0,
           0,
           0,
           0,
           1,
           0.5,
           1,
           0,
           0,
           0,
           0,
           0,
           0
          ],
          [
           0,
           0,
           0,
           0,
           0,
           0,
           1,
           0.5,
           1,
           0,
           0,
           0,
           0,
           0,
           0,
           0,
           0,
           0,
           0,
           0,
           0,
           1,
           0.5,
           1,
           0,
           0,
           0,
           0,
           0,
           0
          ],
          [
           0,
           0,
           0,
           0,
           0,
           0,
           1,
           0.5,
           1,
           0,
           0,
           0,
           0,
           0,
           0,
           0,
           0,
           0,
           0,
           0,
           0,
           1,
           0.5,
           1,
           0,
           0,
           0,
           0,
           0,
           0
          ],
          [
           0,
           0,
           0,
           0,
           0,
           0,
           1,
           0.5,
           1,
           0,
           0,
           0,
           0,
           0,
           0,
           0,
           0,
           0,
           0,
           0,
           0,
           1,
           0.5,
           1,
           0,
           0,
           0,
           0,
           0,
           0
          ],
          [
           0,
           0,
           0,
           0,
           0,
           0,
           1,
           0.5,
           1,
           0,
           0,
           0,
           0,
           0,
           0,
           0,
           0,
           0,
           0,
           0,
           0,
           1,
           0.5,
           1,
           0,
           0,
           0,
           0,
           0,
           0
          ],
          [
           0,
           0,
           0,
           0,
           0,
           0,
           1,
           0.5,
           1,
           0,
           0,
           0,
           0,
           0,
           0,
           0,
           0,
           0,
           0,
           0,
           0,
           1,
           0.5,
           1,
           0,
           0,
           0,
           0,
           0,
           0
          ],
          [
           0,
           0,
           0,
           0,
           0,
           0,
           1,
           0.5,
           1,
           0,
           0,
           0,
           0,
           0,
           0,
           0,
           0,
           0,
           0,
           0,
           0,
           1,
           0.5,
           1,
           0,
           0,
           0,
           0,
           0,
           0
          ],
          [
           0,
           0,
           0,
           0,
           0,
           0,
           1,
           0.5,
           1,
           0,
           0,
           0,
           0,
           0,
           0,
           0,
           0,
           0,
           0,
           0,
           0,
           1,
           0.5,
           1,
           0,
           0,
           0,
           0,
           0,
           0
          ],
          [
           0,
           0,
           0,
           0,
           0,
           0,
           1,
           0.5,
           1,
           0,
           0,
           0,
           0,
           0,
           0,
           0,
           0,
           0,
           0,
           0,
           0,
           1,
           0.5,
           1,
           0,
           0,
           0,
           0,
           0,
           0
          ],
          [
           0,
           0,
           0,
           0,
           0,
           0,
           1,
           0.5,
           1,
           0,
           0,
           0,
           0,
           0,
           0,
           0,
           0,
           0,
           0,
           0,
           0,
           1,
           0.5,
           1,
           0,
           0,
           0,
           0,
           0,
           0
          ],
          [
           0,
           0,
           0,
           0,
           0,
           0,
           1,
           0.5,
           1,
           0,
           0,
           0,
           0,
           0,
           0,
           0,
           0,
           0,
           0,
           0,
           0,
           1,
           0.5,
           1,
           0,
           0,
           0,
           0,
           0,
           0
          ],
          [
           0,
           0,
           0,
           0,
           0,
           0,
           1,
           0.5,
           1,
           0,
           0,
           0,
           0,
           0,
           0,
           0,
           0,
           0,
           0,
           0,
           0,
           1,
           0.5,
           1,
           0,
           0,
           0,
           0,
           0,
           0
          ],
          [
           0,
           0,
           0,
           0,
           0,
           0,
           1,
           0.5,
           1,
           1,
           1,
           1,
           1,
           1,
           1,
           1,
           1,
           1,
           1,
           1,
           1,
           1,
           0.5,
           1,
           0,
           0,
           0,
           0,
           0,
           0
          ],
          [
           0,
           0,
           0,
           0,
           0,
           0,
           1,
           0.5,
           0.5,
           0.5,
           0.5,
           0.5,
           0.5,
           0.5,
           0.5,
           0.5,
           0.5,
           0.5,
           0.5,
           0.5,
           0.5,
           0.5,
           0.5,
           1,
           0,
           0,
           0,
           0,
           0,
           0
          ],
          [
           0,
           0,
           0,
           0,
           0,
           0,
           1,
           1,
           1,
           1,
           1,
           1,
           1,
           1,
           1,
           1,
           1,
           1,
           1,
           1,
           1,
           1,
           1,
           1,
           0,
           0,
           0,
           0,
           0,
           0
          ],
          [
           0,
           0,
           0,
           0,
           0,
           0,
           0,
           0,
           0,
           0,
           0,
           0,
           0,
           0,
           0,
           0,
           0,
           0,
           0,
           0,
           0,
           0,
           0,
           0,
           0,
           0,
           0,
           0,
           0,
           0
          ],
          [
           0,
           0,
           0,
           0,
           0,
           0,
           0,
           0,
           0,
           0,
           0,
           0,
           0,
           0,
           0,
           0,
           0,
           0,
           0,
           0,
           0,
           0,
           0,
           0,
           0,
           0,
           0,
           0,
           0,
           0
          ],
          [
           0,
           0,
           0,
           0,
           0,
           0,
           0,
           0,
           0,
           0,
           0,
           0,
           0,
           0,
           0,
           0,
           0,
           0,
           0,
           0,
           0,
           0,
           0,
           0,
           0,
           0,
           0,
           0,
           0,
           0
          ],
          [
           0,
           0,
           0,
           0,
           0,
           0,
           0,
           0,
           0,
           0,
           0,
           0,
           0,
           0,
           0,
           0,
           0,
           0,
           0,
           0,
           0,
           0,
           0,
           0,
           0,
           0,
           0,
           0,
           0,
           0
          ],
          [
           0,
           0,
           0,
           0,
           0,
           0,
           0,
           0,
           0,
           0,
           0,
           0,
           0,
           0,
           0,
           0,
           0,
           0,
           0,
           0,
           0,
           0,
           0,
           0,
           0,
           0,
           0,
           0,
           0,
           0
          ],
          [
           0,
           0,
           0,
           0,
           0,
           0,
           0,
           0,
           0,
           0,
           0,
           0,
           0,
           0,
           0,
           0,
           0,
           0,
           0,
           0,
           0,
           0,
           0,
           0,
           0,
           0,
           0,
           0,
           0,
           0
          ]
         ]
        },
        {
         "marker": {
          "color": "black",
          "size": 1
         },
         "name": "Pixel edges",
         "showlegend": false,
         "type": "scatter",
         "x": [
          -0.5,
          -0.5,
          null,
          -0.5,
          29.5,
          null,
          0.5,
          0.5,
          null,
          -0.5,
          29.5,
          null,
          1.5,
          1.5,
          null,
          -0.5,
          29.5,
          null,
          2.5,
          2.5,
          null,
          -0.5,
          29.5,
          null,
          3.5,
          3.5,
          null,
          -0.5,
          29.5,
          null,
          4.5,
          4.5,
          null,
          -0.5,
          29.5,
          null,
          5.5,
          5.5,
          null,
          -0.5,
          29.5,
          null,
          6.5,
          6.5,
          null,
          -0.5,
          29.5,
          null,
          7.5,
          7.5,
          null,
          -0.5,
          29.5,
          null,
          8.5,
          8.5,
          null,
          -0.5,
          29.5,
          null,
          9.5,
          9.5,
          null,
          -0.5,
          29.5,
          null,
          10.5,
          10.5,
          null,
          -0.5,
          29.5,
          null,
          11.5,
          11.5,
          null,
          -0.5,
          29.5,
          null,
          12.5,
          12.5,
          null,
          -0.5,
          29.5,
          null,
          13.5,
          13.5,
          null,
          -0.5,
          29.5,
          null,
          14.5,
          14.5,
          null,
          -0.5,
          29.5,
          null,
          15.5,
          15.5,
          null,
          -0.5,
          29.5,
          null,
          16.5,
          16.5,
          null,
          -0.5,
          29.5,
          null,
          17.5,
          17.5,
          null,
          -0.5,
          29.5,
          null,
          18.5,
          18.5,
          null,
          -0.5,
          29.5,
          null,
          19.5,
          19.5,
          null,
          -0.5,
          29.5,
          null,
          20.5,
          20.5,
          null,
          -0.5,
          29.5,
          null,
          21.5,
          21.5,
          null,
          -0.5,
          29.5,
          null,
          22.5,
          22.5,
          null,
          -0.5,
          29.5,
          null,
          23.5,
          23.5,
          null,
          -0.5,
          29.5,
          null,
          24.5,
          24.5,
          null,
          -0.5,
          29.5,
          null,
          25.5,
          25.5,
          null,
          -0.5,
          29.5,
          null,
          26.5,
          26.5,
          null,
          -0.5,
          29.5,
          null,
          27.5,
          27.5,
          null,
          -0.5,
          29.5,
          null,
          28.5,
          28.5,
          null,
          -0.5,
          29.5,
          null
         ],
         "xaxis": "x2",
         "y": [
          -0.5,
          29.5,
          null,
          -0.5,
          -0.5,
          null,
          -0.5,
          29.5,
          null,
          0.5,
          0.5,
          null,
          -0.5,
          29.5,
          null,
          1.5,
          1.5,
          null,
          -0.5,
          29.5,
          null,
          2.5,
          2.5,
          null,
          -0.5,
          29.5,
          null,
          3.5,
          3.5,
          null,
          -0.5,
          29.5,
          null,
          4.5,
          4.5,
          null,
          -0.5,
          29.5,
          null,
          5.5,
          5.5,
          null,
          -0.5,
          29.5,
          null,
          6.5,
          6.5,
          null,
          -0.5,
          29.5,
          null,
          7.5,
          7.5,
          null,
          -0.5,
          29.5,
          null,
          8.5,
          8.5,
          null,
          -0.5,
          29.5,
          null,
          9.5,
          9.5,
          null,
          -0.5,
          29.5,
          null,
          10.5,
          10.5,
          null,
          -0.5,
          29.5,
          null,
          11.5,
          11.5,
          null,
          -0.5,
          29.5,
          null,
          12.5,
          12.5,
          null,
          -0.5,
          29.5,
          null,
          13.5,
          13.5,
          null,
          -0.5,
          29.5,
          null,
          14.5,
          14.5,
          null,
          -0.5,
          29.5,
          null,
          15.5,
          15.5,
          null,
          -0.5,
          29.5,
          null,
          16.5,
          16.5,
          null,
          -0.5,
          29.5,
          null,
          17.5,
          17.5,
          null,
          -0.5,
          29.5,
          null,
          18.5,
          18.5,
          null,
          -0.5,
          29.5,
          null,
          19.5,
          19.5,
          null,
          -0.5,
          29.5,
          null,
          20.5,
          20.5,
          null,
          -0.5,
          29.5,
          null,
          21.5,
          21.5,
          null,
          -0.5,
          29.5,
          null,
          22.5,
          22.5,
          null,
          -0.5,
          29.5,
          null,
          23.5,
          23.5,
          null,
          -0.5,
          29.5,
          null,
          24.5,
          24.5,
          null,
          -0.5,
          29.5,
          null,
          25.5,
          25.5,
          null,
          -0.5,
          29.5,
          null,
          26.5,
          26.5,
          null,
          -0.5,
          29.5,
          null,
          27.5,
          27.5,
          null,
          -0.5,
          29.5,
          null,
          28.5,
          28.5,
          null
         ],
         "yaxis": "y2"
        },
        {
         "marker": {
          "color": "red",
          "size": 10
         },
         "name": "400p border",
         "type": "scatter",
         "x": [
          2,
          2,
          2,
          2,
          2,
          2,
          2,
          2,
          2,
          2,
          2,
          2,
          2,
          2,
          2,
          2,
          2,
          2,
          2,
          2,
          2,
          2,
          2,
          2,
          2,
          2,
          2,
          2,
          2,
          2,
          2,
          2,
          2,
          2,
          2,
          2,
          2,
          2,
          2,
          2,
          2,
          2,
          2,
          2,
          2,
          2,
          2,
          2,
          2,
          2,
          2,
          2.1020408163265305,
          2.204081632653061,
          2.306122448979592,
          2.4081632653061225,
          2.510204081632653,
          2.612244897959184,
          2.7142857142857144,
          2.816326530612245,
          2.9183673469387754,
          3.020408163265306,
          3.122448979591837,
          3.2244897959183674,
          3.326530612244898,
          3.428571428571429,
          3.5306122448979593,
          3.63265306122449,
          3.7346938775510203,
          3.836734693877551,
          3.938775510204082,
          4.040816326530612,
          4.142857142857142,
          4.244897959183674,
          4.346938775510204,
          4.448979591836735,
          4.551020408163265,
          4.653061224489796,
          4.755102040816327,
          4.857142857142858,
          4.959183673469388,
          5.061224489795919,
          5.163265306122449,
          5.26530612244898,
          5.36734693877551,
          5.469387755102041,
          5.571428571428571,
          5.673469387755102,
          5.775510204081632,
          5.877551020408164,
          5.979591836734694,
          6.081632653061225,
          6.183673469387755,
          6.285714285714286,
          6.387755102040816,
          6.4897959183673475,
          6.591836734693878,
          6.6938775510204085,
          6.795918367346939,
          6.8979591836734695,
          7,
          7,
          7,
          7,
          7,
          7,
          7,
          7,
          7,
          7,
          7,
          7,
          7,
          7,
          7,
          7,
          7,
          7,
          7,
          7,
          7,
          7,
          7,
          7,
          7,
          7,
          7,
          7,
          7,
          7,
          7,
          7,
          7,
          7,
          7,
          7,
          7,
          7,
          7,
          7,
          7,
          7,
          7,
          7,
          7,
          7,
          7,
          7,
          7,
          7,
          7,
          7,
          6.8979591836734695,
          6.795918367346939,
          6.6938775510204085,
          6.591836734693878,
          6.489795918367347,
          6.387755102040816,
          6.285714285714286,
          6.183673469387755,
          6.081632653061225,
          5.979591836734694,
          5.877551020408163,
          5.775510204081632,
          5.673469387755102,
          5.571428571428571,
          5.469387755102041,
          5.36734693877551,
          5.26530612244898,
          5.163265306122449,
          5.061224489795919,
          4.959183673469388,
          4.857142857142858,
          4.755102040816326,
          4.653061224489796,
          4.551020408163265,
          4.448979591836735,
          4.346938775510204,
          4.244897959183673,
          4.142857142857142,
          4.040816326530612,
          3.9387755102040813,
          3.836734693877551,
          3.7346938775510203,
          3.63265306122449,
          3.5306122448979593,
          3.4285714285714284,
          3.326530612244898,
          3.2244897959183674,
          3.1224489795918364,
          3.020408163265306,
          2.9183673469387754,
          2.816326530612245,
          2.7142857142857144,
          2.612244897959184,
          2.5102040816326525,
          2.408163265306122,
          2.3061224489795915,
          2.204081632653061,
          2.1020408163265305,
          2
         ],
         "xaxis": "x",
         "y": [
          7,
          6.8979591836734695,
          6.795918367346939,
          6.6938775510204085,
          6.591836734693878,
          6.489795918367347,
          6.387755102040816,
          6.285714285714286,
          6.183673469387755,
          6.081632653061225,
          5.979591836734694,
          5.877551020408163,
          5.775510204081632,
          5.673469387755102,
          5.571428571428571,
          5.469387755102041,
          5.36734693877551,
          5.26530612244898,
          5.163265306122449,
          5.061224489795919,
          4.959183673469388,
          4.857142857142858,
          4.755102040816326,
          4.653061224489796,
          4.551020408163265,
          4.448979591836735,
          4.346938775510204,
          4.244897959183673,
          4.142857142857142,
          4.040816326530612,
          3.9387755102040813,
          3.836734693877551,
          3.7346938775510203,
          3.63265306122449,
          3.5306122448979593,
          3.4285714285714284,
          3.326530612244898,
          3.2244897959183674,
          3.1224489795918364,
          3.020408163265306,
          2.9183673469387754,
          2.816326530612245,
          2.7142857142857144,
          2.612244897959184,
          2.5102040816326525,
          2.408163265306122,
          2.3061224489795915,
          2.204081632653061,
          2.1020408163265305,
          2,
          2,
          2,
          2,
          2,
          2,
          2,
          2,
          2,
          2,
          2,
          2,
          2,
          2,
          2,
          2,
          2,
          2,
          2,
          2,
          2,
          2,
          2,
          2,
          2,
          2,
          2,
          2,
          2,
          2,
          2,
          2,
          2,
          2,
          2,
          2,
          2,
          2,
          2,
          2,
          2,
          2,
          2,
          2,
          2,
          2,
          2,
          2,
          2,
          2,
          2,
          2,
          2.1020408163265305,
          2.204081632653061,
          2.306122448979592,
          2.4081632653061225,
          2.510204081632653,
          2.612244897959184,
          2.7142857142857144,
          2.816326530612245,
          2.9183673469387754,
          3.020408163265306,
          3.122448979591837,
          3.2244897959183674,
          3.326530612244898,
          3.428571428571429,
          3.5306122448979593,
          3.63265306122449,
          3.7346938775510203,
          3.836734693877551,
          3.938775510204082,
          4.040816326530612,
          4.142857142857142,
          4.244897959183674,
          4.346938775510204,
          4.448979591836735,
          4.551020408163265,
          4.653061224489796,
          4.755102040816327,
          4.857142857142858,
          4.959183673469388,
          5.061224489795919,
          5.163265306122449,
          5.26530612244898,
          5.36734693877551,
          5.469387755102041,
          5.571428571428571,
          5.673469387755102,
          5.775510204081632,
          5.877551020408164,
          5.979591836734694,
          6.081632653061225,
          6.183673469387755,
          6.285714285714286,
          6.387755102040816,
          6.4897959183673475,
          6.591836734693878,
          6.6938775510204085,
          6.795918367346939,
          6.8979591836734695,
          7,
          7,
          7,
          7,
          7,
          7,
          7,
          7,
          7,
          7,
          7,
          7,
          7,
          7,
          7,
          7,
          7,
          7,
          7,
          7,
          7,
          7,
          7,
          7,
          7,
          7,
          7,
          7,
          7,
          7,
          7,
          7,
          7,
          7,
          7,
          7,
          7,
          7,
          7,
          7,
          7,
          7,
          7,
          7,
          7,
          7,
          7,
          7,
          7,
          7,
          7
         ],
         "yaxis": "y"
        },
        {
         "marker": {
          "color": "red",
          "size": 10
         },
         "name": "400 p border",
         "type": "scatter",
         "x": [
          7,
          7,
          7,
          7,
          7,
          7,
          7,
          7,
          7,
          7,
          7,
          7,
          7,
          7,
          7,
          7,
          7,
          7,
          7,
          7,
          7,
          7,
          7,
          7,
          7,
          7,
          7,
          7,
          7,
          7,
          7,
          7,
          7,
          7,
          7,
          7,
          7,
          7,
          7,
          7,
          7,
          7,
          7,
          7,
          7,
          7,
          7,
          7,
          7,
          7,
          7,
          7.3061224489795915,
          7.612244897959183,
          7.918367346938776,
          8.224489795918368,
          8.53061224489796,
          8.836734693877553,
          9.142857142857142,
          9.448979591836736,
          9.755102040816325,
          10.061224489795919,
          10.36734693877551,
          10.673469387755102,
          10.979591836734693,
          11.285714285714286,
          11.591836734693878,
          11.89795918367347,
          12.204081632653061,
          12.510204081632653,
          12.816326530612246,
          13.122448979591836,
          13.428571428571427,
          13.73469387755102,
          14.040816326530614,
          14.346938775510203,
          14.653061224489797,
          14.959183673469386,
          15.265306122448981,
          15.571428571428573,
          15.877551020408163,
          16.183673469387756,
          16.48979591836735,
          16.79591836734694,
          17.10204081632653,
          17.408163265306122,
          17.714285714285715,
          18.020408163265305,
          18.326530612244895,
          18.63265306122449,
          18.93877551020408,
          19.244897959183675,
          19.551020408163264,
          19.857142857142858,
          20.163265306122447,
          20.46938775510204,
          20.775510204081634,
          21.081632653061227,
          21.387755102040817,
          21.693877551020407,
          22,
          22,
          22,
          22,
          22,
          22,
          22,
          22,
          22,
          22,
          22,
          22,
          22,
          22,
          22,
          22,
          22,
          22,
          22,
          22,
          22,
          22,
          22,
          22,
          22,
          22,
          22,
          22,
          22,
          22,
          22,
          22,
          22,
          22,
          22,
          22,
          22,
          22,
          22,
          22,
          22,
          22,
          22,
          22,
          22,
          22,
          22,
          22,
          22,
          22,
          22,
          22,
          21.693877551020407,
          21.387755102040817,
          21.081632653061227,
          20.775510204081634,
          20.46938775510204,
          20.163265306122447,
          19.857142857142858,
          19.551020408163264,
          19.244897959183675,
          18.93877551020408,
          18.632653061224488,
          18.326530612244895,
          18.020408163265305,
          17.714285714285715,
          17.408163265306122,
          17.10204081632653,
          16.79591836734694,
          16.48979591836735,
          16.183673469387756,
          15.877551020408163,
          15.571428571428573,
          15.26530612244898,
          14.959183673469386,
          14.653061224489797,
          14.346938775510203,
          14.040816326530614,
          13.734693877551019,
          13.428571428571427,
          13.122448979591836,
          12.816326530612244,
          12.510204081632653,
          12.204081632653061,
          11.89795918367347,
          11.591836734693878,
          11.285714285714285,
          10.979591836734693,
          10.673469387755102,
          10.367346938775508,
          10.061224489795919,
          9.755102040816325,
          9.448979591836736,
          9.142857142857142,
          8.836734693877553,
          8.530612244897958,
          8.224489795918366,
          7.9183673469387745,
          7.612244897959183,
          7.3061224489795915,
          7
         ],
         "xaxis": "x2",
         "y": [
          22,
          21.693877551020407,
          21.387755102040817,
          21.081632653061227,
          20.775510204081634,
          20.46938775510204,
          20.163265306122447,
          19.857142857142858,
          19.551020408163264,
          19.244897959183675,
          18.93877551020408,
          18.632653061224488,
          18.326530612244895,
          18.020408163265305,
          17.714285714285715,
          17.408163265306122,
          17.10204081632653,
          16.79591836734694,
          16.48979591836735,
          16.183673469387756,
          15.877551020408163,
          15.571428571428573,
          15.26530612244898,
          14.959183673469386,
          14.653061224489797,
          14.346938775510203,
          14.040816326530614,
          13.734693877551019,
          13.428571428571427,
          13.122448979591836,
          12.816326530612244,
          12.510204081632653,
          12.204081632653061,
          11.89795918367347,
          11.591836734693878,
          11.285714285714285,
          10.979591836734693,
          10.673469387755102,
          10.367346938775508,
          10.061224489795919,
          9.755102040816325,
          9.448979591836736,
          9.142857142857142,
          8.836734693877553,
          8.530612244897958,
          8.224489795918366,
          7.9183673469387745,
          7.612244897959183,
          7.3061224489795915,
          7,
          7,
          7,
          7,
          7,
          7,
          7,
          7,
          7,
          7,
          7,
          7,
          7,
          7,
          7,
          7,
          7,
          7,
          7,
          7,
          7,
          7,
          7,
          7,
          7,
          7,
          7,
          7,
          7,
          7,
          7,
          7,
          7,
          7,
          7,
          7,
          7,
          7,
          7,
          7,
          7,
          7,
          7,
          7,
          7,
          7,
          7,
          7,
          7,
          7,
          7,
          7,
          7.3061224489795915,
          7.612244897959183,
          7.918367346938776,
          8.224489795918368,
          8.53061224489796,
          8.836734693877553,
          9.142857142857142,
          9.448979591836736,
          9.755102040816325,
          10.061224489795919,
          10.36734693877551,
          10.673469387755102,
          10.979591836734693,
          11.285714285714286,
          11.591836734693878,
          11.89795918367347,
          12.204081632653061,
          12.510204081632653,
          12.816326530612246,
          13.122448979591836,
          13.428571428571427,
          13.73469387755102,
          14.040816326530614,
          14.346938775510203,
          14.653061224489797,
          14.959183673469386,
          15.265306122448981,
          15.571428571428573,
          15.877551020408163,
          16.183673469387756,
          16.48979591836735,
          16.79591836734694,
          17.10204081632653,
          17.408163265306122,
          17.714285714285715,
          18.020408163265305,
          18.326530612244895,
          18.63265306122449,
          18.93877551020408,
          19.244897959183675,
          19.551020408163264,
          19.857142857142858,
          20.163265306122447,
          20.46938775510204,
          20.775510204081634,
          21.081632653061227,
          21.387755102040817,
          21.693877551020407,
          22,
          22,
          22,
          22,
          22,
          22,
          22,
          22,
          22,
          22,
          22,
          22,
          22,
          22,
          22,
          22,
          22,
          22,
          22,
          22,
          22,
          22,
          22,
          22,
          22,
          22,
          22,
          22,
          22,
          22,
          22,
          22,
          22,
          22,
          22,
          22,
          22,
          22,
          22,
          22,
          22,
          22,
          22,
          22,
          22,
          22,
          22,
          22,
          22,
          22,
          22
         ],
         "yaxis": "y2"
        }
       ],
       "layout": {
        "annotations": [
         {
          "font": {
           "size": 16
          },
          "showarrow": false,
          "text": "Original image",
          "x": 0.2375,
          "xanchor": "center",
          "xref": "paper",
          "y": 1,
          "yanchor": "bottom",
          "yref": "paper"
         },
         {
          "font": {
           "size": 16
          },
          "showarrow": false,
          "text": "Upscaled image s=3",
          "x": 0.7625,
          "xanchor": "center",
          "xref": "paper",
          "y": 1,
          "yanchor": "bottom",
          "yref": "paper"
         }
        ],
        "coloraxis": {
         "showscale": false
        },
        "font": {
         "size": 11
        },
        "height": 800,
        "showlegend": true,
        "template": {
         "data": {
          "bar": [
           {
            "error_x": {
             "color": "#2a3f5f"
            },
            "error_y": {
             "color": "#2a3f5f"
            },
            "marker": {
             "line": {
              "color": "#E5ECF6",
              "width": 0.5
             },
             "pattern": {
              "fillmode": "overlay",
              "size": 10,
              "solidity": 0.2
             }
            },
            "type": "bar"
           }
          ],
          "barpolar": [
           {
            "marker": {
             "line": {
              "color": "#E5ECF6",
              "width": 0.5
             },
             "pattern": {
              "fillmode": "overlay",
              "size": 10,
              "solidity": 0.2
             }
            },
            "type": "barpolar"
           }
          ],
          "carpet": [
           {
            "aaxis": {
             "endlinecolor": "#2a3f5f",
             "gridcolor": "white",
             "linecolor": "white",
             "minorgridcolor": "white",
             "startlinecolor": "#2a3f5f"
            },
            "baxis": {
             "endlinecolor": "#2a3f5f",
             "gridcolor": "white",
             "linecolor": "white",
             "minorgridcolor": "white",
             "startlinecolor": "#2a3f5f"
            },
            "type": "carpet"
           }
          ],
          "choropleth": [
           {
            "colorbar": {
             "outlinewidth": 0,
             "ticks": ""
            },
            "type": "choropleth"
           }
          ],
          "contour": [
           {
            "colorbar": {
             "outlinewidth": 0,
             "ticks": ""
            },
            "colorscale": [
             [
              0,
              "#0d0887"
             ],
             [
              0.1111111111111111,
              "#46039f"
             ],
             [
              0.2222222222222222,
              "#7201a8"
             ],
             [
              0.3333333333333333,
              "#9c179e"
             ],
             [
              0.4444444444444444,
              "#bd3786"
             ],
             [
              0.5555555555555556,
              "#d8576b"
             ],
             [
              0.6666666666666666,
              "#ed7953"
             ],
             [
              0.7777777777777778,
              "#fb9f3a"
             ],
             [
              0.8888888888888888,
              "#fdca26"
             ],
             [
              1,
              "#f0f921"
             ]
            ],
            "type": "contour"
           }
          ],
          "contourcarpet": [
           {
            "colorbar": {
             "outlinewidth": 0,
             "ticks": ""
            },
            "type": "contourcarpet"
           }
          ],
          "heatmap": [
           {
            "colorbar": {
             "outlinewidth": 0,
             "ticks": ""
            },
            "colorscale": [
             [
              0,
              "#0d0887"
             ],
             [
              0.1111111111111111,
              "#46039f"
             ],
             [
              0.2222222222222222,
              "#7201a8"
             ],
             [
              0.3333333333333333,
              "#9c179e"
             ],
             [
              0.4444444444444444,
              "#bd3786"
             ],
             [
              0.5555555555555556,
              "#d8576b"
             ],
             [
              0.6666666666666666,
              "#ed7953"
             ],
             [
              0.7777777777777778,
              "#fb9f3a"
             ],
             [
              0.8888888888888888,
              "#fdca26"
             ],
             [
              1,
              "#f0f921"
             ]
            ],
            "type": "heatmap"
           }
          ],
          "heatmapgl": [
           {
            "colorbar": {
             "outlinewidth": 0,
             "ticks": ""
            },
            "colorscale": [
             [
              0,
              "#0d0887"
             ],
             [
              0.1111111111111111,
              "#46039f"
             ],
             [
              0.2222222222222222,
              "#7201a8"
             ],
             [
              0.3333333333333333,
              "#9c179e"
             ],
             [
              0.4444444444444444,
              "#bd3786"
             ],
             [
              0.5555555555555556,
              "#d8576b"
             ],
             [
              0.6666666666666666,
              "#ed7953"
             ],
             [
              0.7777777777777778,
              "#fb9f3a"
             ],
             [
              0.8888888888888888,
              "#fdca26"
             ],
             [
              1,
              "#f0f921"
             ]
            ],
            "type": "heatmapgl"
           }
          ],
          "histogram": [
           {
            "marker": {
             "pattern": {
              "fillmode": "overlay",
              "size": 10,
              "solidity": 0.2
             }
            },
            "type": "histogram"
           }
          ],
          "histogram2d": [
           {
            "colorbar": {
             "outlinewidth": 0,
             "ticks": ""
            },
            "colorscale": [
             [
              0,
              "#0d0887"
             ],
             [
              0.1111111111111111,
              "#46039f"
             ],
             [
              0.2222222222222222,
              "#7201a8"
             ],
             [
              0.3333333333333333,
              "#9c179e"
             ],
             [
              0.4444444444444444,
              "#bd3786"
             ],
             [
              0.5555555555555556,
              "#d8576b"
             ],
             [
              0.6666666666666666,
              "#ed7953"
             ],
             [
              0.7777777777777778,
              "#fb9f3a"
             ],
             [
              0.8888888888888888,
              "#fdca26"
             ],
             [
              1,
              "#f0f921"
             ]
            ],
            "type": "histogram2d"
           }
          ],
          "histogram2dcontour": [
           {
            "colorbar": {
             "outlinewidth": 0,
             "ticks": ""
            },
            "colorscale": [
             [
              0,
              "#0d0887"
             ],
             [
              0.1111111111111111,
              "#46039f"
             ],
             [
              0.2222222222222222,
              "#7201a8"
             ],
             [
              0.3333333333333333,
              "#9c179e"
             ],
             [
              0.4444444444444444,
              "#bd3786"
             ],
             [
              0.5555555555555556,
              "#d8576b"
             ],
             [
              0.6666666666666666,
              "#ed7953"
             ],
             [
              0.7777777777777778,
              "#fb9f3a"
             ],
             [
              0.8888888888888888,
              "#fdca26"
             ],
             [
              1,
              "#f0f921"
             ]
            ],
            "type": "histogram2dcontour"
           }
          ],
          "mesh3d": [
           {
            "colorbar": {
             "outlinewidth": 0,
             "ticks": ""
            },
            "type": "mesh3d"
           }
          ],
          "parcoords": [
           {
            "line": {
             "colorbar": {
              "outlinewidth": 0,
              "ticks": ""
             }
            },
            "type": "parcoords"
           }
          ],
          "pie": [
           {
            "automargin": true,
            "type": "pie"
           }
          ],
          "scatter": [
           {
            "fillpattern": {
             "fillmode": "overlay",
             "size": 10,
             "solidity": 0.2
            },
            "type": "scatter"
           }
          ],
          "scatter3d": [
           {
            "line": {
             "colorbar": {
              "outlinewidth": 0,
              "ticks": ""
             }
            },
            "marker": {
             "colorbar": {
              "outlinewidth": 0,
              "ticks": ""
             }
            },
            "type": "scatter3d"
           }
          ],
          "scattercarpet": [
           {
            "marker": {
             "colorbar": {
              "outlinewidth": 0,
              "ticks": ""
             }
            },
            "type": "scattercarpet"
           }
          ],
          "scattergeo": [
           {
            "marker": {
             "colorbar": {
              "outlinewidth": 0,
              "ticks": ""
             }
            },
            "type": "scattergeo"
           }
          ],
          "scattergl": [
           {
            "marker": {
             "colorbar": {
              "outlinewidth": 0,
              "ticks": ""
             }
            },
            "type": "scattergl"
           }
          ],
          "scattermapbox": [
           {
            "marker": {
             "colorbar": {
              "outlinewidth": 0,
              "ticks": ""
             }
            },
            "type": "scattermapbox"
           }
          ],
          "scatterpolar": [
           {
            "marker": {
             "colorbar": {
              "outlinewidth": 0,
              "ticks": ""
             }
            },
            "type": "scatterpolar"
           }
          ],
          "scatterpolargl": [
           {
            "marker": {
             "colorbar": {
              "outlinewidth": 0,
              "ticks": ""
             }
            },
            "type": "scatterpolargl"
           }
          ],
          "scatterternary": [
           {
            "marker": {
             "colorbar": {
              "outlinewidth": 0,
              "ticks": ""
             }
            },
            "type": "scatterternary"
           }
          ],
          "surface": [
           {
            "colorbar": {
             "outlinewidth": 0,
             "ticks": ""
            },
            "colorscale": [
             [
              0,
              "#0d0887"
             ],
             [
              0.1111111111111111,
              "#46039f"
             ],
             [
              0.2222222222222222,
              "#7201a8"
             ],
             [
              0.3333333333333333,
              "#9c179e"
             ],
             [
              0.4444444444444444,
              "#bd3786"
             ],
             [
              0.5555555555555556,
              "#d8576b"
             ],
             [
              0.6666666666666666,
              "#ed7953"
             ],
             [
              0.7777777777777778,
              "#fb9f3a"
             ],
             [
              0.8888888888888888,
              "#fdca26"
             ],
             [
              1,
              "#f0f921"
             ]
            ],
            "type": "surface"
           }
          ],
          "table": [
           {
            "cells": {
             "fill": {
              "color": "#EBF0F8"
             },
             "line": {
              "color": "white"
             }
            },
            "header": {
             "fill": {
              "color": "#C8D4E3"
             },
             "line": {
              "color": "white"
             }
            },
            "type": "table"
           }
          ]
         },
         "layout": {
          "annotationdefaults": {
           "arrowcolor": "#2a3f5f",
           "arrowhead": 0,
           "arrowwidth": 1
          },
          "autotypenumbers": "strict",
          "coloraxis": {
           "colorbar": {
            "outlinewidth": 0,
            "ticks": ""
           }
          },
          "colorscale": {
           "diverging": [
            [
             0,
             "#8e0152"
            ],
            [
             0.1,
             "#c51b7d"
            ],
            [
             0.2,
             "#de77ae"
            ],
            [
             0.3,
             "#f1b6da"
            ],
            [
             0.4,
             "#fde0ef"
            ],
            [
             0.5,
             "#f7f7f7"
            ],
            [
             0.6,
             "#e6f5d0"
            ],
            [
             0.7,
             "#b8e186"
            ],
            [
             0.8,
             "#7fbc41"
            ],
            [
             0.9,
             "#4d9221"
            ],
            [
             1,
             "#276419"
            ]
           ],
           "sequential": [
            [
             0,
             "#0d0887"
            ],
            [
             0.1111111111111111,
             "#46039f"
            ],
            [
             0.2222222222222222,
             "#7201a8"
            ],
            [
             0.3333333333333333,
             "#9c179e"
            ],
            [
             0.4444444444444444,
             "#bd3786"
            ],
            [
             0.5555555555555556,
             "#d8576b"
            ],
            [
             0.6666666666666666,
             "#ed7953"
            ],
            [
             0.7777777777777778,
             "#fb9f3a"
            ],
            [
             0.8888888888888888,
             "#fdca26"
            ],
            [
             1,
             "#f0f921"
            ]
           ],
           "sequentialminus": [
            [
             0,
             "#0d0887"
            ],
            [
             0.1111111111111111,
             "#46039f"
            ],
            [
             0.2222222222222222,
             "#7201a8"
            ],
            [
             0.3333333333333333,
             "#9c179e"
            ],
            [
             0.4444444444444444,
             "#bd3786"
            ],
            [
             0.5555555555555556,
             "#d8576b"
            ],
            [
             0.6666666666666666,
             "#ed7953"
            ],
            [
             0.7777777777777778,
             "#fb9f3a"
            ],
            [
             0.8888888888888888,
             "#fdca26"
            ],
            [
             1,
             "#f0f921"
            ]
           ]
          },
          "colorway": [
           "#636efa",
           "#EF553B",
           "#00cc96",
           "#ab63fa",
           "#FFA15A",
           "#19d3f3",
           "#FF6692",
           "#B6E880",
           "#FF97FF",
           "#FECB52"
          ],
          "font": {
           "color": "#2a3f5f"
          },
          "geo": {
           "bgcolor": "white",
           "lakecolor": "white",
           "landcolor": "#E5ECF6",
           "showlakes": true,
           "showland": true,
           "subunitcolor": "white"
          },
          "hoverlabel": {
           "align": "left"
          },
          "hovermode": "closest",
          "mapbox": {
           "style": "light"
          },
          "paper_bgcolor": "white",
          "plot_bgcolor": "#E5ECF6",
          "polar": {
           "angularaxis": {
            "gridcolor": "white",
            "linecolor": "white",
            "ticks": ""
           },
           "bgcolor": "#E5ECF6",
           "radialaxis": {
            "gridcolor": "white",
            "linecolor": "white",
            "ticks": ""
           }
          },
          "scene": {
           "xaxis": {
            "backgroundcolor": "#E5ECF6",
            "gridcolor": "white",
            "gridwidth": 2,
            "linecolor": "white",
            "showbackground": true,
            "ticks": "",
            "zerolinecolor": "white"
           },
           "yaxis": {
            "backgroundcolor": "#E5ECF6",
            "gridcolor": "white",
            "gridwidth": 2,
            "linecolor": "white",
            "showbackground": true,
            "ticks": "",
            "zerolinecolor": "white"
           },
           "zaxis": {
            "backgroundcolor": "#E5ECF6",
            "gridcolor": "white",
            "gridwidth": 2,
            "linecolor": "white",
            "showbackground": true,
            "ticks": "",
            "zerolinecolor": "white"
           }
          },
          "shapedefaults": {
           "line": {
            "color": "#2a3f5f"
           }
          },
          "ternary": {
           "aaxis": {
            "gridcolor": "white",
            "linecolor": "white",
            "ticks": ""
           },
           "baxis": {
            "gridcolor": "white",
            "linecolor": "white",
            "ticks": ""
           },
           "bgcolor": "#E5ECF6",
           "caxis": {
            "gridcolor": "white",
            "linecolor": "white",
            "ticks": ""
           }
          },
          "title": {
           "x": 0.05
          },
          "xaxis": {
           "automargin": true,
           "gridcolor": "white",
           "linecolor": "white",
           "ticks": "",
           "title": {
            "standoff": 15
           },
           "zerolinecolor": "white",
           "zerolinewidth": 2
          },
          "yaxis": {
           "automargin": true,
           "gridcolor": "white",
           "linecolor": "white",
           "ticks": "",
           "title": {
            "standoff": 15
           },
           "zerolinecolor": "white",
           "zerolinewidth": 2
          }
         }
        },
        "title": {
         "text": "Border upscaling with offset: b(point)=point*s+s/2 - 1/2",
         "x": 0.5
        },
        "width": 1400,
        "xaxis": {
         "anchor": "y",
         "domain": [
          0,
          0.475
         ]
        },
        "xaxis2": {
         "anchor": "y2",
         "domain": [
          0.525,
          1
         ]
        },
        "yaxis": {
         "anchor": "x",
         "domain": [
          0,
          1
         ]
        },
        "yaxis2": {
         "anchor": "x2",
         "domain": [
          0,
          1
         ]
        }
       }
      }
     },
     "metadata": {},
     "output_type": "display_data"
    }
   ],
   "source": [
    "fig = make_subplots(rows=1, cols=2, \n",
    "                    horizontal_spacing=0.05, \n",
    "                    vertical_spacing=0.1,\n",
    "                    subplot_titles=('Original image', f\"Upscaled image s={scale_factor}\"))\n",
    "# Add images to plot\n",
    "base_image_fig = px.imshow(test_image)\n",
    "fig.add_trace(base_image_fig.data[0], 1, 1)\n",
    "xs, ys = gridlines(test_image)\n",
    "fig.add_trace(go.Scatter(x=xs, y=ys, marker=dict(color='black', size=1), name=f\"Pixel edges\", showlegend=False), row=1, col=1)\n",
    "\n",
    "upscaled_image_box_3 = upscaled_image_box.copy()\n",
    "xs_pixel, ys_pixel = pixels_between_points_2(fourier_xs_with_offset, fourier_ys_with_offset)\n",
    "# xs, ys = pixels_between_points(fourier_xs*scale_factor+scale_factor/2-0.5, fourier_ys*scale_factor+scale_factor/2-0.5)\n",
    "for x,y in list(zip(xs_pixel,ys_pixel)):\n",
    "    upscaled_image_box_3[int(x)][int(y)] = 0.5\n",
    "    \n",
    "upscaled_image_fig = px.imshow(upscaled_image_box_3)\n",
    "fig.add_trace(upscaled_image_fig.data[0], 1, 2)\n",
    "xs, ys = gridlines(upscaled_image_box_3)\n",
    "fig.add_trace(go.Scatter(x=xs, y=ys, marker=dict(color='black', size=1), name=f\"Pixel edges\", showlegend=False), row=1, col=2)\n",
    "\n",
    "# 400p borders\n",
    "fig.add_trace(go.Scatter(x=fourier_xs, y=fourier_ys, marker=dict(color='red', size=10), name=f\"400p border\"), row=1, col=1)\n",
    "fig.add_trace(go.Scatter(x=fourier_xs_with_offset, y=fourier_ys_with_offset, marker=dict(color='red', size=10), name=f\"400 p border\"), row=1, col=2)\n",
    "\n",
    "fig.update_layout(title_text=f\"Border upscaling with offset: b(point)=point*s+s/2 - 1/2\", title_x=0.5, width=1400, height=800, showlegend=True, font_size=11)\n",
    "fig.update(layout_coloraxis_showscale=False)\n",
    "fig.show()"
   ]
  },
  {
   "cell_type": "code",
   "execution_count": null,
   "metadata": {},
   "outputs": [],
   "source": [
    "# print(test_image)\n",
    "# print(upscaled_image_box)"
   ]
  },
  {
   "cell_type": "code",
   "execution_count": null,
   "metadata": {},
   "outputs": [
    {
     "data": {
      "application/vnd.plotly.v1+json": {
       "config": {
        "plotlyServerURL": "https://plot.ly"
       },
       "data": [
        {
         "coloraxis": "coloraxis",
         "hovertemplate": "x: %{x}<br>y: %{y}<br>color: %{z}<extra></extra>",
         "name": "0",
         "type": "heatmap",
         "xaxis": "x",
         "yaxis": "y",
         "z": [
          [
           0,
           0,
           0,
           0,
           0,
           0,
           0,
           0,
           0,
           0
          ],
          [
           0,
           0,
           0,
           0,
           0,
           0,
           0,
           0,
           0,
           0
          ],
          [
           0,
           0,
           1,
           1,
           1,
           1,
           1,
           1,
           0,
           0
          ],
          [
           0,
           0,
           1,
           0,
           0,
           0,
           0,
           1,
           0,
           0
          ],
          [
           0,
           0,
           1,
           0,
           0,
           0,
           0,
           1,
           0,
           0
          ],
          [
           0,
           0,
           1,
           0,
           0,
           0,
           0,
           1,
           0,
           0
          ],
          [
           0,
           0,
           1,
           0,
           0,
           0,
           0,
           1,
           0,
           0
          ],
          [
           0,
           0,
           1,
           1,
           1,
           1,
           1,
           1,
           0,
           0
          ],
          [
           0,
           0,
           0,
           0,
           0,
           0,
           0,
           0,
           0,
           0
          ],
          [
           0,
           0,
           0,
           0,
           0,
           0,
           0,
           0,
           0,
           0
          ]
         ]
        },
        {
         "marker": {
          "color": "black",
          "size": 1
         },
         "name": "Pixel edges",
         "showlegend": false,
         "type": "scatter",
         "x": [
          -0.5,
          -0.5,
          null,
          -0.5,
          9.5,
          null,
          0.5,
          0.5,
          null,
          -0.5,
          9.5,
          null,
          1.5,
          1.5,
          null,
          -0.5,
          9.5,
          null,
          2.5,
          2.5,
          null,
          -0.5,
          9.5,
          null,
          3.5,
          3.5,
          null,
          -0.5,
          9.5,
          null,
          4.5,
          4.5,
          null,
          -0.5,
          9.5,
          null,
          5.5,
          5.5,
          null,
          -0.5,
          9.5,
          null,
          6.5,
          6.5,
          null,
          -0.5,
          9.5,
          null,
          7.5,
          7.5,
          null,
          -0.5,
          9.5,
          null,
          8.5,
          8.5,
          null,
          -0.5,
          9.5,
          null
         ],
         "xaxis": "x",
         "y": [
          -0.5,
          9.5,
          null,
          -0.5,
          -0.5,
          null,
          -0.5,
          9.5,
          null,
          0.5,
          0.5,
          null,
          -0.5,
          9.5,
          null,
          1.5,
          1.5,
          null,
          -0.5,
          9.5,
          null,
          2.5,
          2.5,
          null,
          -0.5,
          9.5,
          null,
          3.5,
          3.5,
          null,
          -0.5,
          9.5,
          null,
          4.5,
          4.5,
          null,
          -0.5,
          9.5,
          null,
          5.5,
          5.5,
          null,
          -0.5,
          9.5,
          null,
          6.5,
          6.5,
          null,
          -0.5,
          9.5,
          null,
          7.5,
          7.5,
          null,
          -0.5,
          9.5,
          null,
          8.5,
          8.5,
          null
         ],
         "yaxis": "y"
        },
        {
         "marker": {
          "color": "cyan",
          "size": 10
         },
         "name": "Test line",
         "type": "scatter",
         "x": [
          13,
          19.3
         ],
         "xaxis": "x2",
         "y": [
          19.6,
          13
         ],
         "yaxis": "y2"
        },
        {
         "coloraxis": "coloraxis",
         "hovertemplate": "x: %{x}<br>y: %{y}<br>color: %{z}<extra></extra>",
         "name": "0",
         "type": "heatmap",
         "xaxis": "x2",
         "yaxis": "y2",
         "z": [
          [
           0,
           0,
           0,
           0,
           0,
           0,
           0,
           0,
           0,
           0,
           0,
           0,
           0,
           0,
           0,
           0,
           0,
           0,
           0,
           0,
           0,
           0,
           0,
           0,
           0,
           0,
           0,
           0,
           0,
           0
          ],
          [
           0,
           0,
           0,
           0,
           0,
           0,
           0,
           0,
           0,
           0,
           0,
           0,
           0,
           0,
           0,
           0,
           0,
           0,
           0,
           0,
           0,
           0,
           0,
           0,
           0,
           0,
           0,
           0,
           0,
           0
          ],
          [
           0,
           0,
           0,
           0,
           0,
           0,
           0,
           0,
           0,
           0,
           0,
           0,
           0,
           0,
           0,
           0,
           0,
           0,
           0,
           0,
           0,
           0,
           0,
           0,
           0,
           0,
           0,
           0,
           0,
           0
          ],
          [
           0,
           0,
           0,
           0,
           0,
           0,
           0,
           0,
           0,
           0,
           0,
           0,
           0,
           0,
           0,
           0,
           0,
           0,
           0,
           0,
           0,
           0,
           0,
           0,
           0,
           0,
           0,
           0,
           0,
           0
          ],
          [
           0,
           0,
           0,
           0,
           0,
           0,
           0,
           0,
           0,
           0,
           0,
           0,
           0,
           0,
           0,
           0,
           0,
           0,
           0,
           0,
           0,
           0,
           0,
           0,
           0,
           0,
           0,
           0,
           0,
           0
          ],
          [
           0,
           0,
           0,
           0,
           0,
           0,
           0,
           0,
           0,
           0,
           0,
           0,
           0,
           0,
           0,
           0,
           0,
           0,
           0,
           0,
           0,
           0,
           0,
           0,
           0,
           0,
           0,
           0,
           0,
           0
          ],
          [
           0,
           0,
           0,
           0,
           0,
           0,
           1,
           1,
           1,
           1,
           1,
           1,
           1,
           1,
           1,
           1,
           1,
           1,
           1,
           1,
           1,
           1,
           1,
           1,
           0,
           0,
           0,
           0,
           0,
           0
          ],
          [
           0,
           0,
           0,
           0,
           0,
           0,
           1,
           1,
           1,
           1,
           1,
           1,
           1,
           1,
           1,
           1,
           1,
           1,
           1,
           1,
           1,
           1,
           1,
           1,
           0,
           0,
           0,
           0,
           0,
           0
          ],
          [
           0,
           0,
           0,
           0,
           0,
           0,
           1,
           1,
           1,
           1,
           1,
           1,
           1,
           1,
           1,
           1,
           1,
           1,
           1,
           1,
           1,
           1,
           1,
           1,
           0,
           0,
           0,
           0,
           0,
           0
          ],
          [
           0,
           0,
           0,
           0,
           0,
           0,
           1,
           1,
           1,
           0,
           0,
           0,
           0,
           0,
           0,
           0,
           0,
           0,
           0,
           0,
           0,
           1,
           1,
           1,
           0,
           0,
           0,
           0,
           0,
           0
          ],
          [
           0,
           0,
           0,
           0,
           0,
           0,
           1,
           1,
           1,
           0,
           0,
           0,
           0,
           0,
           0,
           0,
           0,
           0,
           0,
           0,
           0,
           1,
           1,
           1,
           0,
           0,
           0,
           0,
           0,
           0
          ],
          [
           0,
           0,
           0,
           0,
           0,
           0,
           1,
           1,
           1,
           0,
           0,
           0,
           0,
           0,
           0,
           0,
           0,
           0,
           0,
           0,
           0,
           1,
           1,
           1,
           0,
           0,
           0,
           0,
           0,
           0
          ],
          [
           0,
           0,
           0,
           0,
           0,
           0,
           1,
           1,
           1,
           0,
           0,
           0,
           0,
           0,
           0,
           0,
           0,
           0,
           0,
           0,
           0,
           1,
           1,
           1,
           0,
           0,
           0,
           0,
           0,
           0
          ],
          [
           0,
           0,
           0,
           0,
           0,
           0,
           1,
           1,
           1,
           0,
           0,
           0,
           0,
           0,
           0,
           0,
           0,
           0,
           0,
           0.5,
           0,
           1,
           1,
           1,
           0,
           0,
           0,
           0,
           0,
           0
          ],
          [
           0,
           0,
           0,
           0,
           0,
           0,
           1,
           1,
           1,
           0,
           0,
           0,
           0,
           0,
           0,
           0,
           0,
           0,
           0.5,
           0.5,
           0,
           1,
           1,
           1,
           0,
           0,
           0,
           0,
           0,
           0
          ],
          [
           0,
           0,
           0,
           0,
           0,
           0,
           1,
           1,
           1,
           0,
           0,
           0,
           0,
           0,
           0,
           0,
           0,
           0.5,
           0.5,
           0,
           0,
           1,
           1,
           1,
           0,
           0,
           0,
           0,
           0,
           0
          ],
          [
           0,
           0,
           0,
           0,
           0,
           0,
           1,
           1,
           1,
           0,
           0,
           0,
           0,
           0,
           0,
           0,
           0.5,
           0.5,
           0,
           0,
           0,
           1,
           1,
           1,
           0,
           0,
           0,
           0,
           0,
           0
          ],
          [
           0,
           0,
           0,
           0,
           0,
           0,
           1,
           1,
           1,
           0,
           0,
           0,
           0,
           0,
           0,
           0.5,
           0.5,
           0,
           0,
           0,
           0,
           1,
           1,
           1,
           0,
           0,
           0,
           0,
           0,
           0
          ],
          [
           0,
           0,
           0,
           0,
           0,
           0,
           1,
           1,
           1,
           0,
           0,
           0,
           0,
           0,
           0.5,
           0.5,
           0,
           0,
           0,
           0,
           0,
           1,
           1,
           1,
           0,
           0,
           0,
           0,
           0,
           0
          ],
          [
           0,
           0,
           0,
           0,
           0,
           0,
           1,
           1,
           1,
           0,
           0,
           0,
           0,
           0.5,
           0.5,
           0,
           0,
           0,
           0,
           0,
           0,
           1,
           1,
           1,
           0,
           0,
           0,
           0,
           0,
           0
          ],
          [
           0,
           0,
           0,
           0,
           0,
           0,
           1,
           1,
           1,
           0,
           0,
           0,
           0,
           0.5,
           0,
           0,
           0,
           0,
           0,
           0,
           0,
           1,
           1,
           1,
           0,
           0,
           0,
           0,
           0,
           0
          ],
          [
           0,
           0,
           0,
           0,
           0,
           0,
           1,
           1,
           1,
           1,
           1,
           1,
           1,
           1,
           1,
           1,
           1,
           1,
           1,
           1,
           1,
           1,
           1,
           1,
           0,
           0,
           0,
           0,
           0,
           0
          ],
          [
           0,
           0,
           0,
           0,
           0,
           0,
           1,
           1,
           1,
           1,
           1,
           1,
           1,
           1,
           1,
           1,
           1,
           1,
           1,
           1,
           1,
           1,
           1,
           1,
           0,
           0,
           0,
           0,
           0,
           0
          ],
          [
           0,
           0,
           0,
           0,
           0,
           0,
           1,
           1,
           1,
           1,
           1,
           1,
           1,
           1,
           1,
           1,
           1,
           1,
           1,
           1,
           1,
           1,
           1,
           1,
           0,
           0,
           0,
           0,
           0,
           0
          ],
          [
           0,
           0,
           0,
           0,
           0,
           0,
           0,
           0,
           0,
           0,
           0,
           0,
           0,
           0,
           0,
           0,
           0,
           0,
           0,
           0,
           0,
           0,
           0,
           0,
           0,
           0,
           0,
           0,
           0,
           0
          ],
          [
           0,
           0,
           0,
           0,
           0,
           0,
           0,
           0,
           0,
           0,
           0,
           0,
           0,
           0,
           0,
           0,
           0,
           0,
           0,
           0,
           0,
           0,
           0,
           0,
           0,
           0,
           0,
           0,
           0,
           0
          ],
          [
           0,
           0,
           0,
           0,
           0,
           0,
           0,
           0,
           0,
           0,
           0,
           0,
           0,
           0,
           0,
           0,
           0,
           0,
           0,
           0,
           0,
           0,
           0,
           0,
           0,
           0,
           0,
           0,
           0,
           0
          ],
          [
           0,
           0,
           0,
           0,
           0,
           0,
           0,
           0,
           0,
           0,
           0,
           0,
           0,
           0,
           0,
           0,
           0,
           0,
           0,
           0,
           0,
           0,
           0,
           0,
           0,
           0,
           0,
           0,
           0,
           0
          ],
          [
           0,
           0,
           0,
           0,
           0,
           0,
           0,
           0,
           0,
           0,
           0,
           0,
           0,
           0,
           0,
           0,
           0,
           0,
           0,
           0,
           0,
           0,
           0,
           0,
           0,
           0,
           0,
           0,
           0,
           0
          ],
          [
           0,
           0,
           0,
           0,
           0,
           0,
           0,
           0,
           0,
           0,
           0,
           0,
           0,
           0,
           0,
           0,
           0,
           0,
           0,
           0,
           0,
           0,
           0,
           0,
           0,
           0,
           0,
           0,
           0,
           0
          ]
         ]
        },
        {
         "marker": {
          "color": "black",
          "size": 1
         },
         "name": "Pixel edges",
         "showlegend": false,
         "type": "scatter",
         "x": [
          -0.5,
          -0.5,
          null,
          -0.5,
          29.5,
          null,
          0.5,
          0.5,
          null,
          -0.5,
          29.5,
          null,
          1.5,
          1.5,
          null,
          -0.5,
          29.5,
          null,
          2.5,
          2.5,
          null,
          -0.5,
          29.5,
          null,
          3.5,
          3.5,
          null,
          -0.5,
          29.5,
          null,
          4.5,
          4.5,
          null,
          -0.5,
          29.5,
          null,
          5.5,
          5.5,
          null,
          -0.5,
          29.5,
          null,
          6.5,
          6.5,
          null,
          -0.5,
          29.5,
          null,
          7.5,
          7.5,
          null,
          -0.5,
          29.5,
          null,
          8.5,
          8.5,
          null,
          -0.5,
          29.5,
          null,
          9.5,
          9.5,
          null,
          -0.5,
          29.5,
          null,
          10.5,
          10.5,
          null,
          -0.5,
          29.5,
          null,
          11.5,
          11.5,
          null,
          -0.5,
          29.5,
          null,
          12.5,
          12.5,
          null,
          -0.5,
          29.5,
          null,
          13.5,
          13.5,
          null,
          -0.5,
          29.5,
          null,
          14.5,
          14.5,
          null,
          -0.5,
          29.5,
          null,
          15.5,
          15.5,
          null,
          -0.5,
          29.5,
          null,
          16.5,
          16.5,
          null,
          -0.5,
          29.5,
          null,
          17.5,
          17.5,
          null,
          -0.5,
          29.5,
          null,
          18.5,
          18.5,
          null,
          -0.5,
          29.5,
          null,
          19.5,
          19.5,
          null,
          -0.5,
          29.5,
          null,
          20.5,
          20.5,
          null,
          -0.5,
          29.5,
          null,
          21.5,
          21.5,
          null,
          -0.5,
          29.5,
          null,
          22.5,
          22.5,
          null,
          -0.5,
          29.5,
          null,
          23.5,
          23.5,
          null,
          -0.5,
          29.5,
          null,
          24.5,
          24.5,
          null,
          -0.5,
          29.5,
          null,
          25.5,
          25.5,
          null,
          -0.5,
          29.5,
          null,
          26.5,
          26.5,
          null,
          -0.5,
          29.5,
          null,
          27.5,
          27.5,
          null,
          -0.5,
          29.5,
          null,
          28.5,
          28.5,
          null,
          -0.5,
          29.5,
          null
         ],
         "xaxis": "x2",
         "y": [
          -0.5,
          29.5,
          null,
          -0.5,
          -0.5,
          null,
          -0.5,
          29.5,
          null,
          0.5,
          0.5,
          null,
          -0.5,
          29.5,
          null,
          1.5,
          1.5,
          null,
          -0.5,
          29.5,
          null,
          2.5,
          2.5,
          null,
          -0.5,
          29.5,
          null,
          3.5,
          3.5,
          null,
          -0.5,
          29.5,
          null,
          4.5,
          4.5,
          null,
          -0.5,
          29.5,
          null,
          5.5,
          5.5,
          null,
          -0.5,
          29.5,
          null,
          6.5,
          6.5,
          null,
          -0.5,
          29.5,
          null,
          7.5,
          7.5,
          null,
          -0.5,
          29.5,
          null,
          8.5,
          8.5,
          null,
          -0.5,
          29.5,
          null,
          9.5,
          9.5,
          null,
          -0.5,
          29.5,
          null,
          10.5,
          10.5,
          null,
          -0.5,
          29.5,
          null,
          11.5,
          11.5,
          null,
          -0.5,
          29.5,
          null,
          12.5,
          12.5,
          null,
          -0.5,
          29.5,
          null,
          13.5,
          13.5,
          null,
          -0.5,
          29.5,
          null,
          14.5,
          14.5,
          null,
          -0.5,
          29.5,
          null,
          15.5,
          15.5,
          null,
          -0.5,
          29.5,
          null,
          16.5,
          16.5,
          null,
          -0.5,
          29.5,
          null,
          17.5,
          17.5,
          null,
          -0.5,
          29.5,
          null,
          18.5,
          18.5,
          null,
          -0.5,
          29.5,
          null,
          19.5,
          19.5,
          null,
          -0.5,
          29.5,
          null,
          20.5,
          20.5,
          null,
          -0.5,
          29.5,
          null,
          21.5,
          21.5,
          null,
          -0.5,
          29.5,
          null,
          22.5,
          22.5,
          null,
          -0.5,
          29.5,
          null,
          23.5,
          23.5,
          null,
          -0.5,
          29.5,
          null,
          24.5,
          24.5,
          null,
          -0.5,
          29.5,
          null,
          25.5,
          25.5,
          null,
          -0.5,
          29.5,
          null,
          26.5,
          26.5,
          null,
          -0.5,
          29.5,
          null,
          27.5,
          27.5,
          null,
          -0.5,
          29.5,
          null,
          28.5,
          28.5,
          null
         ],
         "yaxis": "y2"
        },
        {
         "marker": {
          "color": "red",
          "size": 10
         },
         "name": "400p border",
         "type": "scatter",
         "x": [
          2,
          2,
          2,
          2,
          2,
          2,
          2,
          2,
          2,
          2,
          2,
          2,
          2,
          2,
          2,
          2,
          2,
          2,
          2,
          2,
          2,
          2,
          2,
          2,
          2,
          2,
          2,
          2,
          2,
          2,
          2,
          2,
          2,
          2,
          2,
          2,
          2,
          2,
          2,
          2,
          2,
          2,
          2,
          2,
          2,
          2,
          2,
          2,
          2,
          2,
          2,
          2.1020408163265305,
          2.204081632653061,
          2.306122448979592,
          2.4081632653061225,
          2.510204081632653,
          2.612244897959184,
          2.7142857142857144,
          2.816326530612245,
          2.9183673469387754,
          3.020408163265306,
          3.122448979591837,
          3.2244897959183674,
          3.326530612244898,
          3.428571428571429,
          3.5306122448979593,
          3.63265306122449,
          3.7346938775510203,
          3.836734693877551,
          3.938775510204082,
          4.040816326530612,
          4.142857142857142,
          4.244897959183674,
          4.346938775510204,
          4.448979591836735,
          4.551020408163265,
          4.653061224489796,
          4.755102040816327,
          4.857142857142858,
          4.959183673469388,
          5.061224489795919,
          5.163265306122449,
          5.26530612244898,
          5.36734693877551,
          5.469387755102041,
          5.571428571428571,
          5.673469387755102,
          5.775510204081632,
          5.877551020408164,
          5.979591836734694,
          6.081632653061225,
          6.183673469387755,
          6.285714285714286,
          6.387755102040816,
          6.4897959183673475,
          6.591836734693878,
          6.6938775510204085,
          6.795918367346939,
          6.8979591836734695,
          7,
          7,
          7,
          7,
          7,
          7,
          7,
          7,
          7,
          7,
          7,
          7,
          7,
          7,
          7,
          7,
          7,
          7,
          7,
          7,
          7,
          7,
          7,
          7,
          7,
          7,
          7,
          7,
          7,
          7,
          7,
          7,
          7,
          7,
          7,
          7,
          7,
          7,
          7,
          7,
          7,
          7,
          7,
          7,
          7,
          7,
          7,
          7,
          7,
          7,
          7,
          7,
          6.8979591836734695,
          6.795918367346939,
          6.6938775510204085,
          6.591836734693878,
          6.489795918367347,
          6.387755102040816,
          6.285714285714286,
          6.183673469387755,
          6.081632653061225,
          5.979591836734694,
          5.877551020408163,
          5.775510204081632,
          5.673469387755102,
          5.571428571428571,
          5.469387755102041,
          5.36734693877551,
          5.26530612244898,
          5.163265306122449,
          5.061224489795919,
          4.959183673469388,
          4.857142857142858,
          4.755102040816326,
          4.653061224489796,
          4.551020408163265,
          4.448979591836735,
          4.346938775510204,
          4.244897959183673,
          4.142857142857142,
          4.040816326530612,
          3.9387755102040813,
          3.836734693877551,
          3.7346938775510203,
          3.63265306122449,
          3.5306122448979593,
          3.4285714285714284,
          3.326530612244898,
          3.2244897959183674,
          3.1224489795918364,
          3.020408163265306,
          2.9183673469387754,
          2.816326530612245,
          2.7142857142857144,
          2.612244897959184,
          2.5102040816326525,
          2.408163265306122,
          2.3061224489795915,
          2.204081632653061,
          2.1020408163265305,
          2
         ],
         "xaxis": "x",
         "y": [
          7,
          6.8979591836734695,
          6.795918367346939,
          6.6938775510204085,
          6.591836734693878,
          6.489795918367347,
          6.387755102040816,
          6.285714285714286,
          6.183673469387755,
          6.081632653061225,
          5.979591836734694,
          5.877551020408163,
          5.775510204081632,
          5.673469387755102,
          5.571428571428571,
          5.469387755102041,
          5.36734693877551,
          5.26530612244898,
          5.163265306122449,
          5.061224489795919,
          4.959183673469388,
          4.857142857142858,
          4.755102040816326,
          4.653061224489796,
          4.551020408163265,
          4.448979591836735,
          4.346938775510204,
          4.244897959183673,
          4.142857142857142,
          4.040816326530612,
          3.9387755102040813,
          3.836734693877551,
          3.7346938775510203,
          3.63265306122449,
          3.5306122448979593,
          3.4285714285714284,
          3.326530612244898,
          3.2244897959183674,
          3.1224489795918364,
          3.020408163265306,
          2.9183673469387754,
          2.816326530612245,
          2.7142857142857144,
          2.612244897959184,
          2.5102040816326525,
          2.408163265306122,
          2.3061224489795915,
          2.204081632653061,
          2.1020408163265305,
          2,
          2,
          2,
          2,
          2,
          2,
          2,
          2,
          2,
          2,
          2,
          2,
          2,
          2,
          2,
          2,
          2,
          2,
          2,
          2,
          2,
          2,
          2,
          2,
          2,
          2,
          2,
          2,
          2,
          2,
          2,
          2,
          2,
          2,
          2,
          2,
          2,
          2,
          2,
          2,
          2,
          2,
          2,
          2,
          2,
          2,
          2,
          2,
          2,
          2,
          2,
          2,
          2.1020408163265305,
          2.204081632653061,
          2.306122448979592,
          2.4081632653061225,
          2.510204081632653,
          2.612244897959184,
          2.7142857142857144,
          2.816326530612245,
          2.9183673469387754,
          3.020408163265306,
          3.122448979591837,
          3.2244897959183674,
          3.326530612244898,
          3.428571428571429,
          3.5306122448979593,
          3.63265306122449,
          3.7346938775510203,
          3.836734693877551,
          3.938775510204082,
          4.040816326530612,
          4.142857142857142,
          4.244897959183674,
          4.346938775510204,
          4.448979591836735,
          4.551020408163265,
          4.653061224489796,
          4.755102040816327,
          4.857142857142858,
          4.959183673469388,
          5.061224489795919,
          5.163265306122449,
          5.26530612244898,
          5.36734693877551,
          5.469387755102041,
          5.571428571428571,
          5.673469387755102,
          5.775510204081632,
          5.877551020408164,
          5.979591836734694,
          6.081632653061225,
          6.183673469387755,
          6.285714285714286,
          6.387755102040816,
          6.4897959183673475,
          6.591836734693878,
          6.6938775510204085,
          6.795918367346939,
          6.8979591836734695,
          7,
          7,
          7,
          7,
          7,
          7,
          7,
          7,
          7,
          7,
          7,
          7,
          7,
          7,
          7,
          7,
          7,
          7,
          7,
          7,
          7,
          7,
          7,
          7,
          7,
          7,
          7,
          7,
          7,
          7,
          7,
          7,
          7,
          7,
          7,
          7,
          7,
          7,
          7,
          7,
          7,
          7,
          7,
          7,
          7,
          7,
          7,
          7,
          7,
          7,
          7
         ],
         "yaxis": "y"
        },
        {
         "marker": {
          "color": "red",
          "size": 10
         },
         "name": "400p border",
         "type": "scatter",
         "x": [
          6,
          6,
          6,
          6,
          6,
          6,
          6,
          6,
          6,
          6,
          6,
          6,
          6,
          6,
          6,
          6,
          6,
          6,
          6,
          6,
          6,
          6,
          6,
          6,
          6,
          6,
          6,
          6,
          6,
          6,
          6,
          6,
          6,
          6,
          6,
          6,
          6,
          6,
          6,
          6,
          6,
          6,
          6,
          6,
          6,
          6,
          6,
          6,
          6,
          6,
          6,
          6.3061224489795915,
          6.612244897959183,
          6.918367346938776,
          7.224489795918368,
          7.530612244897959,
          7.836734693877552,
          8.142857142857142,
          8.448979591836736,
          8.755102040816325,
          9.061224489795919,
          9.36734693877551,
          9.673469387755102,
          9.979591836734693,
          10.285714285714286,
          10.591836734693878,
          10.89795918367347,
          11.204081632653061,
          11.510204081632653,
          11.816326530612246,
          12.122448979591836,
          12.428571428571427,
          12.73469387755102,
          13.040816326530614,
          13.346938775510203,
          13.653061224489797,
          13.959183673469386,
          14.265306122448981,
          14.571428571428573,
          14.877551020408164,
          15.183673469387756,
          15.489795918367347,
          15.795918367346939,
          16.10204081632653,
          16.408163265306122,
          16.714285714285715,
          17.020408163265305,
          17.326530612244895,
          17.63265306122449,
          17.93877551020408,
          18.244897959183675,
          18.551020408163264,
          18.857142857142858,
          19.163265306122447,
          19.46938775510204,
          19.775510204081634,
          20.081632653061227,
          20.387755102040817,
          20.693877551020407,
          21,
          21,
          21,
          21,
          21,
          21,
          21,
          21,
          21,
          21,
          21,
          21,
          21,
          21,
          21,
          21,
          21,
          21,
          21,
          21,
          21,
          21,
          21,
          21,
          21,
          21,
          21,
          21,
          21,
          21,
          21,
          21,
          21,
          21,
          21,
          21,
          21,
          21,
          21,
          21,
          21,
          21,
          21,
          21,
          21,
          21,
          21,
          21,
          21,
          21,
          21,
          21,
          20.693877551020407,
          20.387755102040817,
          20.081632653061227,
          19.775510204081634,
          19.46938775510204,
          19.163265306122447,
          18.857142857142858,
          18.551020408163264,
          18.244897959183675,
          17.93877551020408,
          17.632653061224488,
          17.326530612244895,
          17.020408163265305,
          16.714285714285715,
          16.408163265306122,
          16.10204081632653,
          15.795918367346939,
          15.489795918367347,
          15.183673469387756,
          14.877551020408164,
          14.571428571428573,
          14.26530612244898,
          13.959183673469386,
          13.653061224489797,
          13.346938775510203,
          13.040816326530614,
          12.734693877551019,
          12.428571428571427,
          12.122448979591836,
          11.816326530612244,
          11.510204081632653,
          11.204081632653061,
          10.89795918367347,
          10.591836734693878,
          10.285714285714285,
          9.979591836734693,
          9.673469387755102,
          9.367346938775508,
          9.061224489795919,
          8.755102040816325,
          8.448979591836736,
          8.142857142857142,
          7.836734693877552,
          7.5306122448979576,
          7.224489795918366,
          6.9183673469387745,
          6.612244897959183,
          6.3061224489795915,
          6
         ],
         "xaxis": "x2",
         "y": [
          21,
          20.693877551020407,
          20.387755102040817,
          20.081632653061227,
          19.775510204081634,
          19.46938775510204,
          19.163265306122447,
          18.857142857142858,
          18.551020408163264,
          18.244897959183675,
          17.93877551020408,
          17.632653061224488,
          17.326530612244895,
          17.020408163265305,
          16.714285714285715,
          16.408163265306122,
          16.10204081632653,
          15.795918367346939,
          15.489795918367347,
          15.183673469387756,
          14.877551020408164,
          14.571428571428573,
          14.26530612244898,
          13.959183673469386,
          13.653061224489797,
          13.346938775510203,
          13.040816326530614,
          12.734693877551019,
          12.428571428571427,
          12.122448979591836,
          11.816326530612244,
          11.510204081632653,
          11.204081632653061,
          10.89795918367347,
          10.591836734693878,
          10.285714285714285,
          9.979591836734693,
          9.673469387755102,
          9.367346938775508,
          9.061224489795919,
          8.755102040816325,
          8.448979591836736,
          8.142857142857142,
          7.836734693877552,
          7.5306122448979576,
          7.224489795918366,
          6.9183673469387745,
          6.612244897959183,
          6.3061224489795915,
          6,
          6,
          6,
          6,
          6,
          6,
          6,
          6,
          6,
          6,
          6,
          6,
          6,
          6,
          6,
          6,
          6,
          6,
          6,
          6,
          6,
          6,
          6,
          6,
          6,
          6,
          6,
          6,
          6,
          6,
          6,
          6,
          6,
          6,
          6,
          6,
          6,
          6,
          6,
          6,
          6,
          6,
          6,
          6,
          6,
          6,
          6,
          6,
          6,
          6,
          6,
          6,
          6.3061224489795915,
          6.612244897959183,
          6.918367346938776,
          7.224489795918368,
          7.530612244897959,
          7.836734693877552,
          8.142857142857142,
          8.448979591836736,
          8.755102040816325,
          9.061224489795919,
          9.36734693877551,
          9.673469387755102,
          9.979591836734693,
          10.285714285714286,
          10.591836734693878,
          10.89795918367347,
          11.204081632653061,
          11.510204081632653,
          11.816326530612246,
          12.122448979591836,
          12.428571428571427,
          12.73469387755102,
          13.040816326530614,
          13.346938775510203,
          13.653061224489797,
          13.959183673469386,
          14.265306122448981,
          14.571428571428573,
          14.877551020408164,
          15.183673469387756,
          15.489795918367347,
          15.795918367346939,
          16.10204081632653,
          16.408163265306122,
          16.714285714285715,
          17.020408163265305,
          17.326530612244895,
          17.63265306122449,
          17.93877551020408,
          18.244897959183675,
          18.551020408163264,
          18.857142857142858,
          19.163265306122447,
          19.46938775510204,
          19.775510204081634,
          20.081632653061227,
          20.387755102040817,
          20.693877551020407,
          21,
          21,
          21,
          21,
          21,
          21,
          21,
          21,
          21,
          21,
          21,
          21,
          21,
          21,
          21,
          21,
          21,
          21,
          21,
          21,
          21,
          21,
          21,
          21,
          21,
          21,
          21,
          21,
          21,
          21,
          21,
          21,
          21,
          21,
          21,
          21,
          21,
          21,
          21,
          21,
          21,
          21,
          21,
          21,
          21,
          21,
          21,
          21,
          21,
          21,
          21
         ],
         "yaxis": "y2"
        }
       ],
       "layout": {
        "annotations": [
         {
          "font": {
           "size": 16
          },
          "showarrow": false,
          "text": "Original image",
          "x": 0.2375,
          "xanchor": "center",
          "xref": "paper",
          "y": 1,
          "yanchor": "bottom",
          "yref": "paper"
         },
         {
          "font": {
           "size": 16
          },
          "showarrow": false,
          "text": "Upscaled image s=3",
          "x": 0.7625,
          "xanchor": "center",
          "xref": "paper",
          "y": 1,
          "yanchor": "bottom",
          "yref": "paper"
         }
        ],
        "coloraxis": {
         "showscale": false
        },
        "font": {
         "size": 11
        },
        "height": 800,
        "showlegend": true,
        "template": {
         "data": {
          "bar": [
           {
            "error_x": {
             "color": "#2a3f5f"
            },
            "error_y": {
             "color": "#2a3f5f"
            },
            "marker": {
             "line": {
              "color": "#E5ECF6",
              "width": 0.5
             },
             "pattern": {
              "fillmode": "overlay",
              "size": 10,
              "solidity": 0.2
             }
            },
            "type": "bar"
           }
          ],
          "barpolar": [
           {
            "marker": {
             "line": {
              "color": "#E5ECF6",
              "width": 0.5
             },
             "pattern": {
              "fillmode": "overlay",
              "size": 10,
              "solidity": 0.2
             }
            },
            "type": "barpolar"
           }
          ],
          "carpet": [
           {
            "aaxis": {
             "endlinecolor": "#2a3f5f",
             "gridcolor": "white",
             "linecolor": "white",
             "minorgridcolor": "white",
             "startlinecolor": "#2a3f5f"
            },
            "baxis": {
             "endlinecolor": "#2a3f5f",
             "gridcolor": "white",
             "linecolor": "white",
             "minorgridcolor": "white",
             "startlinecolor": "#2a3f5f"
            },
            "type": "carpet"
           }
          ],
          "choropleth": [
           {
            "colorbar": {
             "outlinewidth": 0,
             "ticks": ""
            },
            "type": "choropleth"
           }
          ],
          "contour": [
           {
            "colorbar": {
             "outlinewidth": 0,
             "ticks": ""
            },
            "colorscale": [
             [
              0,
              "#0d0887"
             ],
             [
              0.1111111111111111,
              "#46039f"
             ],
             [
              0.2222222222222222,
              "#7201a8"
             ],
             [
              0.3333333333333333,
              "#9c179e"
             ],
             [
              0.4444444444444444,
              "#bd3786"
             ],
             [
              0.5555555555555556,
              "#d8576b"
             ],
             [
              0.6666666666666666,
              "#ed7953"
             ],
             [
              0.7777777777777778,
              "#fb9f3a"
             ],
             [
              0.8888888888888888,
              "#fdca26"
             ],
             [
              1,
              "#f0f921"
             ]
            ],
            "type": "contour"
           }
          ],
          "contourcarpet": [
           {
            "colorbar": {
             "outlinewidth": 0,
             "ticks": ""
            },
            "type": "contourcarpet"
           }
          ],
          "heatmap": [
           {
            "colorbar": {
             "outlinewidth": 0,
             "ticks": ""
            },
            "colorscale": [
             [
              0,
              "#0d0887"
             ],
             [
              0.1111111111111111,
              "#46039f"
             ],
             [
              0.2222222222222222,
              "#7201a8"
             ],
             [
              0.3333333333333333,
              "#9c179e"
             ],
             [
              0.4444444444444444,
              "#bd3786"
             ],
             [
              0.5555555555555556,
              "#d8576b"
             ],
             [
              0.6666666666666666,
              "#ed7953"
             ],
             [
              0.7777777777777778,
              "#fb9f3a"
             ],
             [
              0.8888888888888888,
              "#fdca26"
             ],
             [
              1,
              "#f0f921"
             ]
            ],
            "type": "heatmap"
           }
          ],
          "heatmapgl": [
           {
            "colorbar": {
             "outlinewidth": 0,
             "ticks": ""
            },
            "colorscale": [
             [
              0,
              "#0d0887"
             ],
             [
              0.1111111111111111,
              "#46039f"
             ],
             [
              0.2222222222222222,
              "#7201a8"
             ],
             [
              0.3333333333333333,
              "#9c179e"
             ],
             [
              0.4444444444444444,
              "#bd3786"
             ],
             [
              0.5555555555555556,
              "#d8576b"
             ],
             [
              0.6666666666666666,
              "#ed7953"
             ],
             [
              0.7777777777777778,
              "#fb9f3a"
             ],
             [
              0.8888888888888888,
              "#fdca26"
             ],
             [
              1,
              "#f0f921"
             ]
            ],
            "type": "heatmapgl"
           }
          ],
          "histogram": [
           {
            "marker": {
             "pattern": {
              "fillmode": "overlay",
              "size": 10,
              "solidity": 0.2
             }
            },
            "type": "histogram"
           }
          ],
          "histogram2d": [
           {
            "colorbar": {
             "outlinewidth": 0,
             "ticks": ""
            },
            "colorscale": [
             [
              0,
              "#0d0887"
             ],
             [
              0.1111111111111111,
              "#46039f"
             ],
             [
              0.2222222222222222,
              "#7201a8"
             ],
             [
              0.3333333333333333,
              "#9c179e"
             ],
             [
              0.4444444444444444,
              "#bd3786"
             ],
             [
              0.5555555555555556,
              "#d8576b"
             ],
             [
              0.6666666666666666,
              "#ed7953"
             ],
             [
              0.7777777777777778,
              "#fb9f3a"
             ],
             [
              0.8888888888888888,
              "#fdca26"
             ],
             [
              1,
              "#f0f921"
             ]
            ],
            "type": "histogram2d"
           }
          ],
          "histogram2dcontour": [
           {
            "colorbar": {
             "outlinewidth": 0,
             "ticks": ""
            },
            "colorscale": [
             [
              0,
              "#0d0887"
             ],
             [
              0.1111111111111111,
              "#46039f"
             ],
             [
              0.2222222222222222,
              "#7201a8"
             ],
             [
              0.3333333333333333,
              "#9c179e"
             ],
             [
              0.4444444444444444,
              "#bd3786"
             ],
             [
              0.5555555555555556,
              "#d8576b"
             ],
             [
              0.6666666666666666,
              "#ed7953"
             ],
             [
              0.7777777777777778,
              "#fb9f3a"
             ],
             [
              0.8888888888888888,
              "#fdca26"
             ],
             [
              1,
              "#f0f921"
             ]
            ],
            "type": "histogram2dcontour"
           }
          ],
          "mesh3d": [
           {
            "colorbar": {
             "outlinewidth": 0,
             "ticks": ""
            },
            "type": "mesh3d"
           }
          ],
          "parcoords": [
           {
            "line": {
             "colorbar": {
              "outlinewidth": 0,
              "ticks": ""
             }
            },
            "type": "parcoords"
           }
          ],
          "pie": [
           {
            "automargin": true,
            "type": "pie"
           }
          ],
          "scatter": [
           {
            "fillpattern": {
             "fillmode": "overlay",
             "size": 10,
             "solidity": 0.2
            },
            "type": "scatter"
           }
          ],
          "scatter3d": [
           {
            "line": {
             "colorbar": {
              "outlinewidth": 0,
              "ticks": ""
             }
            },
            "marker": {
             "colorbar": {
              "outlinewidth": 0,
              "ticks": ""
             }
            },
            "type": "scatter3d"
           }
          ],
          "scattercarpet": [
           {
            "marker": {
             "colorbar": {
              "outlinewidth": 0,
              "ticks": ""
             }
            },
            "type": "scattercarpet"
           }
          ],
          "scattergeo": [
           {
            "marker": {
             "colorbar": {
              "outlinewidth": 0,
              "ticks": ""
             }
            },
            "type": "scattergeo"
           }
          ],
          "scattergl": [
           {
            "marker": {
             "colorbar": {
              "outlinewidth": 0,
              "ticks": ""
             }
            },
            "type": "scattergl"
           }
          ],
          "scattermapbox": [
           {
            "marker": {
             "colorbar": {
              "outlinewidth": 0,
              "ticks": ""
             }
            },
            "type": "scattermapbox"
           }
          ],
          "scatterpolar": [
           {
            "marker": {
             "colorbar": {
              "outlinewidth": 0,
              "ticks": ""
             }
            },
            "type": "scatterpolar"
           }
          ],
          "scatterpolargl": [
           {
            "marker": {
             "colorbar": {
              "outlinewidth": 0,
              "ticks": ""
             }
            },
            "type": "scatterpolargl"
           }
          ],
          "scatterternary": [
           {
            "marker": {
             "colorbar": {
              "outlinewidth": 0,
              "ticks": ""
             }
            },
            "type": "scatterternary"
           }
          ],
          "surface": [
           {
            "colorbar": {
             "outlinewidth": 0,
             "ticks": ""
            },
            "colorscale": [
             [
              0,
              "#0d0887"
             ],
             [
              0.1111111111111111,
              "#46039f"
             ],
             [
              0.2222222222222222,
              "#7201a8"
             ],
             [
              0.3333333333333333,
              "#9c179e"
             ],
             [
              0.4444444444444444,
              "#bd3786"
             ],
             [
              0.5555555555555556,
              "#d8576b"
             ],
             [
              0.6666666666666666,
              "#ed7953"
             ],
             [
              0.7777777777777778,
              "#fb9f3a"
             ],
             [
              0.8888888888888888,
              "#fdca26"
             ],
             [
              1,
              "#f0f921"
             ]
            ],
            "type": "surface"
           }
          ],
          "table": [
           {
            "cells": {
             "fill": {
              "color": "#EBF0F8"
             },
             "line": {
              "color": "white"
             }
            },
            "header": {
             "fill": {
              "color": "#C8D4E3"
             },
             "line": {
              "color": "white"
             }
            },
            "type": "table"
           }
          ]
         },
         "layout": {
          "annotationdefaults": {
           "arrowcolor": "#2a3f5f",
           "arrowhead": 0,
           "arrowwidth": 1
          },
          "autotypenumbers": "strict",
          "coloraxis": {
           "colorbar": {
            "outlinewidth": 0,
            "ticks": ""
           }
          },
          "colorscale": {
           "diverging": [
            [
             0,
             "#8e0152"
            ],
            [
             0.1,
             "#c51b7d"
            ],
            [
             0.2,
             "#de77ae"
            ],
            [
             0.3,
             "#f1b6da"
            ],
            [
             0.4,
             "#fde0ef"
            ],
            [
             0.5,
             "#f7f7f7"
            ],
            [
             0.6,
             "#e6f5d0"
            ],
            [
             0.7,
             "#b8e186"
            ],
            [
             0.8,
             "#7fbc41"
            ],
            [
             0.9,
             "#4d9221"
            ],
            [
             1,
             "#276419"
            ]
           ],
           "sequential": [
            [
             0,
             "#0d0887"
            ],
            [
             0.1111111111111111,
             "#46039f"
            ],
            [
             0.2222222222222222,
             "#7201a8"
            ],
            [
             0.3333333333333333,
             "#9c179e"
            ],
            [
             0.4444444444444444,
             "#bd3786"
            ],
            [
             0.5555555555555556,
             "#d8576b"
            ],
            [
             0.6666666666666666,
             "#ed7953"
            ],
            [
             0.7777777777777778,
             "#fb9f3a"
            ],
            [
             0.8888888888888888,
             "#fdca26"
            ],
            [
             1,
             "#f0f921"
            ]
           ],
           "sequentialminus": [
            [
             0,
             "#0d0887"
            ],
            [
             0.1111111111111111,
             "#46039f"
            ],
            [
             0.2222222222222222,
             "#7201a8"
            ],
            [
             0.3333333333333333,
             "#9c179e"
            ],
            [
             0.4444444444444444,
             "#bd3786"
            ],
            [
             0.5555555555555556,
             "#d8576b"
            ],
            [
             0.6666666666666666,
             "#ed7953"
            ],
            [
             0.7777777777777778,
             "#fb9f3a"
            ],
            [
             0.8888888888888888,
             "#fdca26"
            ],
            [
             1,
             "#f0f921"
            ]
           ]
          },
          "colorway": [
           "#636efa",
           "#EF553B",
           "#00cc96",
           "#ab63fa",
           "#FFA15A",
           "#19d3f3",
           "#FF6692",
           "#B6E880",
           "#FF97FF",
           "#FECB52"
          ],
          "font": {
           "color": "#2a3f5f"
          },
          "geo": {
           "bgcolor": "white",
           "lakecolor": "white",
           "landcolor": "#E5ECF6",
           "showlakes": true,
           "showland": true,
           "subunitcolor": "white"
          },
          "hoverlabel": {
           "align": "left"
          },
          "hovermode": "closest",
          "mapbox": {
           "style": "light"
          },
          "paper_bgcolor": "white",
          "plot_bgcolor": "#E5ECF6",
          "polar": {
           "angularaxis": {
            "gridcolor": "white",
            "linecolor": "white",
            "ticks": ""
           },
           "bgcolor": "#E5ECF6",
           "radialaxis": {
            "gridcolor": "white",
            "linecolor": "white",
            "ticks": ""
           }
          },
          "scene": {
           "xaxis": {
            "backgroundcolor": "#E5ECF6",
            "gridcolor": "white",
            "gridwidth": 2,
            "linecolor": "white",
            "showbackground": true,
            "ticks": "",
            "zerolinecolor": "white"
           },
           "yaxis": {
            "backgroundcolor": "#E5ECF6",
            "gridcolor": "white",
            "gridwidth": 2,
            "linecolor": "white",
            "showbackground": true,
            "ticks": "",
            "zerolinecolor": "white"
           },
           "zaxis": {
            "backgroundcolor": "#E5ECF6",
            "gridcolor": "white",
            "gridwidth": 2,
            "linecolor": "white",
            "showbackground": true,
            "ticks": "",
            "zerolinecolor": "white"
           }
          },
          "shapedefaults": {
           "line": {
            "color": "#2a3f5f"
           }
          },
          "ternary": {
           "aaxis": {
            "gridcolor": "white",
            "linecolor": "white",
            "ticks": ""
           },
           "baxis": {
            "gridcolor": "white",
            "linecolor": "white",
            "ticks": ""
           },
           "bgcolor": "#E5ECF6",
           "caxis": {
            "gridcolor": "white",
            "linecolor": "white",
            "ticks": ""
           }
          },
          "title": {
           "x": 0.05
          },
          "xaxis": {
           "automargin": true,
           "gridcolor": "white",
           "linecolor": "white",
           "ticks": "",
           "title": {
            "standoff": 15
           },
           "zerolinecolor": "white",
           "zerolinewidth": 2
          },
          "yaxis": {
           "automargin": true,
           "gridcolor": "white",
           "linecolor": "white",
           "ticks": "",
           "title": {
            "standoff": 15
           },
           "zerolinecolor": "white",
           "zerolinewidth": 2
          }
         }
        },
        "title": {
         "text": "Border upscaling with offset: b(point)=point*s+s/2 - 1/2",
         "x": 0.5
        },
        "width": 1400,
        "xaxis": {
         "anchor": "y",
         "domain": [
          0,
          0.475
         ]
        },
        "xaxis2": {
         "anchor": "y2",
         "domain": [
          0.525,
          1
         ]
        },
        "yaxis": {
         "anchor": "x",
         "domain": [
          0,
          1
         ]
        },
        "yaxis2": {
         "anchor": "x2",
         "domain": [
          0,
          1
         ]
        }
       }
      }
     },
     "metadata": {},
     "output_type": "display_data"
    }
   ],
   "source": [
    "fig = make_subplots(rows=1, cols=2, \n",
    "                    horizontal_spacing=0.05, \n",
    "                    vertical_spacing=0.1,\n",
    "                    subplot_titles=('Original image', f\"Upscaled image s={scale_factor}\"))\n",
    "# Add images to plot\n",
    "base_image_fig = px.imshow(test_image)\n",
    "fig.add_trace(base_image_fig.data[0], 1, 1)\n",
    "xs, ys = gridlines(test_image)\n",
    "fig.add_trace(go.Scatter(x=xs, y=ys, marker=dict(color='black', size=1), name=f\"Pixel edges\", showlegend=False), row=1, col=1)\n",
    "\n",
    "upscaled_image_box_3 = upscaled_image_box.copy()\n",
    "test_x,test_y = np.array([13,19.3]), np.array([19.6,13]) # TODO: Create better implementation. Everything works now? Note the +1/2 to\n",
    "# TODO: pixels_between_points_2() needs to be pushed by 1/2 to align with 'center pixel' method used by python libraries.\n",
    "xs_pixel, ys_pixel = pixels_between_points_2(test_x,test_y) # When given coordinates to this function, add 1/2 to treat pixels as 'corner integer position' and not 'center integered'.\n",
    "fig.add_trace(go.Scatter(x=test_x, y=test_y, marker=dict(color='cyan', size=10), name=f\"Test line\"), row=1, col=2)\n",
    "# xs_pixel, ys_pixel = pixels_between_points_2(fourier_xs*scale_factor, fourier_ys*scale_factor)\n",
    "for y,x in list(zip(xs_pixel,ys_pixel)):\n",
    "    try:\n",
    "        upscaled_image_box_3[int(x)][int(y)] = 0.5 # x goes up, y goes right\n",
    "    except:\n",
    "        print(\"what\")\n",
    "        continue\n",
    "\n",
    "upscaled_image_fig = px.imshow(upscaled_image_box_3)\n",
    "fig.add_trace(upscaled_image_fig.data[0], 1, 2)\n",
    "xs, ys = gridlines(upscaled_image_box_3)\n",
    "fig.add_trace(go.Scatter(x=xs, y=ys, marker=dict(color='black', size=1), name=f\"Pixel edges\", showlegend=False), row=1, col=2)\n",
    "\n",
    "# 400p borders\n",
    "fig.add_trace(go.Scatter(x=fourier_xs, y=fourier_ys, marker=dict(color='red', size=10), name=f\"400p border\"), row=1, col=1)\n",
    "fig.add_trace(go.Scatter(x=fourier_xs*scale_factor, y=fourier_ys*scale_factor, marker=dict(color='red', size=10), name=f\"400p border\"), row=1, col=2)\n",
    "# fig.add_trace(go.Scatter(x=fourier_xs_with_offset, y=fourier_ys_with_offset, marker=dict(color='red', size=10), name=f\"400 p border\"), row=1, col=2)\n",
    "\n",
    "fig.update_layout(title_text=f\"Border upscaling with offset: b(point)=point*s+s/2 - 1/2\", title_x=0.5, width=1400, height=800, showlegend=True, font_size=11)\n",
    "fig.update(layout_coloraxis_showscale=False)\n",
    "fig.show()"
   ]
  },
  {
   "cell_type": "code",
   "execution_count": null,
   "metadata": {},
   "outputs": [],
   "source": [
    "def print_matrix(matrix):\n",
    "    with open('test.txt', 'w+') as f:\n",
    "        for row in matrix:\n",
    "            l = \"\"\n",
    "            for number in row:\n",
    "                l += f\" {int(number)} \"\n",
    "            f.write(l+\"\\n\")"
   ]
  },
  {
   "cell_type": "code",
   "execution_count": null,
   "metadata": {},
   "outputs": [],
   "source": [
    "upscaled_image_box_4 = upscaled_image_box.copy()\n",
    "# xs_pixel, ys_pixel = pixels_between_points_2(test_x,test_y)\n",
    "xs_pixel, ys_pixel = pixels_between_points(fourier_xs*scale_factor+scale_factor/2-1/2, fourier_ys*scale_factor+scale_factor/2-1/2)\n",
    "fig.add_trace(go.Scatter(x=test_x,y=test_y, marker=dict(color='red', size=10), name=f\"Test line\"), row=1, col=2)\n",
    "# xs_pixel, ys_pixel = pixels_between_points_2(fourier_xs*scale_factor, fourier_ys*scale_factor)\n",
    "for x,y in list(zip(xs_pixel,ys_pixel)):\n",
    "    try:\n",
    "        upscaled_image_box_4[int(x)][int(y)] = 7 # x goes up, y goes right\n",
    "    except:\n",
    "        continue\n",
    "\n",
    "print_matrix(upscaled_image_box_4)\n",
    "# print_matrix(test_image)\n",
    "# with open('test.txt', 'w+') as f:\n",
    "#     # for row in upscaled_image_box_4:\n",
    "#     f.writelines(map(str, upscaled_image_box_4))"
   ]
  },
  {
   "cell_type": "code",
   "execution_count": null,
   "metadata": {},
   "outputs": [
    {
     "data": {
      "application/vnd.plotly.v1+json": {
       "config": {
        "plotlyServerURL": "https://plot.ly"
       },
       "data": [
        {
         "coloraxis": "coloraxis",
         "hovertemplate": "x: %{x}<br>y: %{y}<br>color: %{z}<extra></extra>",
         "name": "0",
         "type": "heatmap",
         "xaxis": "x",
         "yaxis": "y",
         "z": [
          [
           0,
           0,
           0,
           0,
           0,
           0,
           0,
           0,
           0,
           0
          ],
          [
           0,
           0,
           0,
           0,
           0,
           0,
           0,
           0,
           0,
           0
          ],
          [
           0,
           0,
           1,
           1,
           1,
           1,
           1,
           1,
           0,
           0
          ],
          [
           0,
           0,
           1,
           0,
           0,
           0,
           0,
           1,
           0,
           0
          ],
          [
           0,
           0,
           1,
           0,
           0,
           0,
           0,
           1,
           0,
           0
          ],
          [
           0,
           0,
           1,
           0,
           0,
           0,
           0,
           1,
           0,
           0
          ],
          [
           0,
           0,
           1,
           0,
           0,
           0,
           0,
           1,
           0,
           0
          ],
          [
           0,
           0,
           1,
           1,
           1,
           1,
           1,
           1,
           0,
           0
          ],
          [
           0,
           0,
           0,
           0,
           0,
           0,
           0,
           0,
           0,
           0
          ],
          [
           0,
           0,
           0,
           0,
           0,
           0,
           0,
           0,
           0,
           0
          ]
         ]
        }
       ],
       "layout": {
        "coloraxis": {
         "showscale": false
        },
        "font": {
         "size": 11
        },
        "height": 700,
        "showlegend": true,
        "template": {
         "data": {
          "bar": [
           {
            "error_x": {
             "color": "#2a3f5f"
            },
            "error_y": {
             "color": "#2a3f5f"
            },
            "marker": {
             "line": {
              "color": "#E5ECF6",
              "width": 0.5
             },
             "pattern": {
              "fillmode": "overlay",
              "size": 10,
              "solidity": 0.2
             }
            },
            "type": "bar"
           }
          ],
          "barpolar": [
           {
            "marker": {
             "line": {
              "color": "#E5ECF6",
              "width": 0.5
             },
             "pattern": {
              "fillmode": "overlay",
              "size": 10,
              "solidity": 0.2
             }
            },
            "type": "barpolar"
           }
          ],
          "carpet": [
           {
            "aaxis": {
             "endlinecolor": "#2a3f5f",
             "gridcolor": "white",
             "linecolor": "white",
             "minorgridcolor": "white",
             "startlinecolor": "#2a3f5f"
            },
            "baxis": {
             "endlinecolor": "#2a3f5f",
             "gridcolor": "white",
             "linecolor": "white",
             "minorgridcolor": "white",
             "startlinecolor": "#2a3f5f"
            },
            "type": "carpet"
           }
          ],
          "choropleth": [
           {
            "colorbar": {
             "outlinewidth": 0,
             "ticks": ""
            },
            "type": "choropleth"
           }
          ],
          "contour": [
           {
            "colorbar": {
             "outlinewidth": 0,
             "ticks": ""
            },
            "colorscale": [
             [
              0,
              "#0d0887"
             ],
             [
              0.1111111111111111,
              "#46039f"
             ],
             [
              0.2222222222222222,
              "#7201a8"
             ],
             [
              0.3333333333333333,
              "#9c179e"
             ],
             [
              0.4444444444444444,
              "#bd3786"
             ],
             [
              0.5555555555555556,
              "#d8576b"
             ],
             [
              0.6666666666666666,
              "#ed7953"
             ],
             [
              0.7777777777777778,
              "#fb9f3a"
             ],
             [
              0.8888888888888888,
              "#fdca26"
             ],
             [
              1,
              "#f0f921"
             ]
            ],
            "type": "contour"
           }
          ],
          "contourcarpet": [
           {
            "colorbar": {
             "outlinewidth": 0,
             "ticks": ""
            },
            "type": "contourcarpet"
           }
          ],
          "heatmap": [
           {
            "colorbar": {
             "outlinewidth": 0,
             "ticks": ""
            },
            "colorscale": [
             [
              0,
              "#0d0887"
             ],
             [
              0.1111111111111111,
              "#46039f"
             ],
             [
              0.2222222222222222,
              "#7201a8"
             ],
             [
              0.3333333333333333,
              "#9c179e"
             ],
             [
              0.4444444444444444,
              "#bd3786"
             ],
             [
              0.5555555555555556,
              "#d8576b"
             ],
             [
              0.6666666666666666,
              "#ed7953"
             ],
             [
              0.7777777777777778,
              "#fb9f3a"
             ],
             [
              0.8888888888888888,
              "#fdca26"
             ],
             [
              1,
              "#f0f921"
             ]
            ],
            "type": "heatmap"
           }
          ],
          "heatmapgl": [
           {
            "colorbar": {
             "outlinewidth": 0,
             "ticks": ""
            },
            "colorscale": [
             [
              0,
              "#0d0887"
             ],
             [
              0.1111111111111111,
              "#46039f"
             ],
             [
              0.2222222222222222,
              "#7201a8"
             ],
             [
              0.3333333333333333,
              "#9c179e"
             ],
             [
              0.4444444444444444,
              "#bd3786"
             ],
             [
              0.5555555555555556,
              "#d8576b"
             ],
             [
              0.6666666666666666,
              "#ed7953"
             ],
             [
              0.7777777777777778,
              "#fb9f3a"
             ],
             [
              0.8888888888888888,
              "#fdca26"
             ],
             [
              1,
              "#f0f921"
             ]
            ],
            "type": "heatmapgl"
           }
          ],
          "histogram": [
           {
            "marker": {
             "pattern": {
              "fillmode": "overlay",
              "size": 10,
              "solidity": 0.2
             }
            },
            "type": "histogram"
           }
          ],
          "histogram2d": [
           {
            "colorbar": {
             "outlinewidth": 0,
             "ticks": ""
            },
            "colorscale": [
             [
              0,
              "#0d0887"
             ],
             [
              0.1111111111111111,
              "#46039f"
             ],
             [
              0.2222222222222222,
              "#7201a8"
             ],
             [
              0.3333333333333333,
              "#9c179e"
             ],
             [
              0.4444444444444444,
              "#bd3786"
             ],
             [
              0.5555555555555556,
              "#d8576b"
             ],
             [
              0.6666666666666666,
              "#ed7953"
             ],
             [
              0.7777777777777778,
              "#fb9f3a"
             ],
             [
              0.8888888888888888,
              "#fdca26"
             ],
             [
              1,
              "#f0f921"
             ]
            ],
            "type": "histogram2d"
           }
          ],
          "histogram2dcontour": [
           {
            "colorbar": {
             "outlinewidth": 0,
             "ticks": ""
            },
            "colorscale": [
             [
              0,
              "#0d0887"
             ],
             [
              0.1111111111111111,
              "#46039f"
             ],
             [
              0.2222222222222222,
              "#7201a8"
             ],
             [
              0.3333333333333333,
              "#9c179e"
             ],
             [
              0.4444444444444444,
              "#bd3786"
             ],
             [
              0.5555555555555556,
              "#d8576b"
             ],
             [
              0.6666666666666666,
              "#ed7953"
             ],
             [
              0.7777777777777778,
              "#fb9f3a"
             ],
             [
              0.8888888888888888,
              "#fdca26"
             ],
             [
              1,
              "#f0f921"
             ]
            ],
            "type": "histogram2dcontour"
           }
          ],
          "mesh3d": [
           {
            "colorbar": {
             "outlinewidth": 0,
             "ticks": ""
            },
            "type": "mesh3d"
           }
          ],
          "parcoords": [
           {
            "line": {
             "colorbar": {
              "outlinewidth": 0,
              "ticks": ""
             }
            },
            "type": "parcoords"
           }
          ],
          "pie": [
           {
            "automargin": true,
            "type": "pie"
           }
          ],
          "scatter": [
           {
            "fillpattern": {
             "fillmode": "overlay",
             "size": 10,
             "solidity": 0.2
            },
            "type": "scatter"
           }
          ],
          "scatter3d": [
           {
            "line": {
             "colorbar": {
              "outlinewidth": 0,
              "ticks": ""
             }
            },
            "marker": {
             "colorbar": {
              "outlinewidth": 0,
              "ticks": ""
             }
            },
            "type": "scatter3d"
           }
          ],
          "scattercarpet": [
           {
            "marker": {
             "colorbar": {
              "outlinewidth": 0,
              "ticks": ""
             }
            },
            "type": "scattercarpet"
           }
          ],
          "scattergeo": [
           {
            "marker": {
             "colorbar": {
              "outlinewidth": 0,
              "ticks": ""
             }
            },
            "type": "scattergeo"
           }
          ],
          "scattergl": [
           {
            "marker": {
             "colorbar": {
              "outlinewidth": 0,
              "ticks": ""
             }
            },
            "type": "scattergl"
           }
          ],
          "scattermapbox": [
           {
            "marker": {
             "colorbar": {
              "outlinewidth": 0,
              "ticks": ""
             }
            },
            "type": "scattermapbox"
           }
          ],
          "scatterpolar": [
           {
            "marker": {
             "colorbar": {
              "outlinewidth": 0,
              "ticks": ""
             }
            },
            "type": "scatterpolar"
           }
          ],
          "scatterpolargl": [
           {
            "marker": {
             "colorbar": {
              "outlinewidth": 0,
              "ticks": ""
             }
            },
            "type": "scatterpolargl"
           }
          ],
          "scatterternary": [
           {
            "marker": {
             "colorbar": {
              "outlinewidth": 0,
              "ticks": ""
             }
            },
            "type": "scatterternary"
           }
          ],
          "surface": [
           {
            "colorbar": {
             "outlinewidth": 0,
             "ticks": ""
            },
            "colorscale": [
             [
              0,
              "#0d0887"
             ],
             [
              0.1111111111111111,
              "#46039f"
             ],
             [
              0.2222222222222222,
              "#7201a8"
             ],
             [
              0.3333333333333333,
              "#9c179e"
             ],
             [
              0.4444444444444444,
              "#bd3786"
             ],
             [
              0.5555555555555556,
              "#d8576b"
             ],
             [
              0.6666666666666666,
              "#ed7953"
             ],
             [
              0.7777777777777778,
              "#fb9f3a"
             ],
             [
              0.8888888888888888,
              "#fdca26"
             ],
             [
              1,
              "#f0f921"
             ]
            ],
            "type": "surface"
           }
          ],
          "table": [
           {
            "cells": {
             "fill": {
              "color": "#EBF0F8"
             },
             "line": {
              "color": "white"
             }
            },
            "header": {
             "fill": {
              "color": "#C8D4E3"
             },
             "line": {
              "color": "white"
             }
            },
            "type": "table"
           }
          ]
         },
         "layout": {
          "annotationdefaults": {
           "arrowcolor": "#2a3f5f",
           "arrowhead": 0,
           "arrowwidth": 1
          },
          "autotypenumbers": "strict",
          "coloraxis": {
           "colorbar": {
            "outlinewidth": 0,
            "ticks": ""
           }
          },
          "colorscale": {
           "diverging": [
            [
             0,
             "#8e0152"
            ],
            [
             0.1,
             "#c51b7d"
            ],
            [
             0.2,
             "#de77ae"
            ],
            [
             0.3,
             "#f1b6da"
            ],
            [
             0.4,
             "#fde0ef"
            ],
            [
             0.5,
             "#f7f7f7"
            ],
            [
             0.6,
             "#e6f5d0"
            ],
            [
             0.7,
             "#b8e186"
            ],
            [
             0.8,
             "#7fbc41"
            ],
            [
             0.9,
             "#4d9221"
            ],
            [
             1,
             "#276419"
            ]
           ],
           "sequential": [
            [
             0,
             "#0d0887"
            ],
            [
             0.1111111111111111,
             "#46039f"
            ],
            [
             0.2222222222222222,
             "#7201a8"
            ],
            [
             0.3333333333333333,
             "#9c179e"
            ],
            [
             0.4444444444444444,
             "#bd3786"
            ],
            [
             0.5555555555555556,
             "#d8576b"
            ],
            [
             0.6666666666666666,
             "#ed7953"
            ],
            [
             0.7777777777777778,
             "#fb9f3a"
            ],
            [
             0.8888888888888888,
             "#fdca26"
            ],
            [
             1,
             "#f0f921"
            ]
           ],
           "sequentialminus": [
            [
             0,
             "#0d0887"
            ],
            [
             0.1111111111111111,
             "#46039f"
            ],
            [
             0.2222222222222222,
             "#7201a8"
            ],
            [
             0.3333333333333333,
             "#9c179e"
            ],
            [
             0.4444444444444444,
             "#bd3786"
            ],
            [
             0.5555555555555556,
             "#d8576b"
            ],
            [
             0.6666666666666666,
             "#ed7953"
            ],
            [
             0.7777777777777778,
             "#fb9f3a"
            ],
            [
             0.8888888888888888,
             "#fdca26"
            ],
            [
             1,
             "#f0f921"
            ]
           ]
          },
          "colorway": [
           "#636efa",
           "#EF553B",
           "#00cc96",
           "#ab63fa",
           "#FFA15A",
           "#19d3f3",
           "#FF6692",
           "#B6E880",
           "#FF97FF",
           "#FECB52"
          ],
          "font": {
           "color": "#2a3f5f"
          },
          "geo": {
           "bgcolor": "white",
           "lakecolor": "white",
           "landcolor": "#E5ECF6",
           "showlakes": true,
           "showland": true,
           "subunitcolor": "white"
          },
          "hoverlabel": {
           "align": "left"
          },
          "hovermode": "closest",
          "mapbox": {
           "style": "light"
          },
          "paper_bgcolor": "white",
          "plot_bgcolor": "#E5ECF6",
          "polar": {
           "angularaxis": {
            "gridcolor": "white",
            "linecolor": "white",
            "ticks": ""
           },
           "bgcolor": "#E5ECF6",
           "radialaxis": {
            "gridcolor": "white",
            "linecolor": "white",
            "ticks": ""
           }
          },
          "scene": {
           "xaxis": {
            "backgroundcolor": "#E5ECF6",
            "gridcolor": "white",
            "gridwidth": 2,
            "linecolor": "white",
            "showbackground": true,
            "ticks": "",
            "zerolinecolor": "white"
           },
           "yaxis": {
            "backgroundcolor": "#E5ECF6",
            "gridcolor": "white",
            "gridwidth": 2,
            "linecolor": "white",
            "showbackground": true,
            "ticks": "",
            "zerolinecolor": "white"
           },
           "zaxis": {
            "backgroundcolor": "#E5ECF6",
            "gridcolor": "white",
            "gridwidth": 2,
            "linecolor": "white",
            "showbackground": true,
            "ticks": "",
            "zerolinecolor": "white"
           }
          },
          "shapedefaults": {
           "line": {
            "color": "#2a3f5f"
           }
          },
          "ternary": {
           "aaxis": {
            "gridcolor": "white",
            "linecolor": "white",
            "ticks": ""
           },
           "baxis": {
            "gridcolor": "white",
            "linecolor": "white",
            "ticks": ""
           },
           "bgcolor": "#E5ECF6",
           "caxis": {
            "gridcolor": "white",
            "linecolor": "white",
            "ticks": ""
           }
          },
          "title": {
           "x": 0.05
          },
          "xaxis": {
           "automargin": true,
           "gridcolor": "white",
           "linecolor": "white",
           "ticks": "",
           "title": {
            "standoff": 15
           },
           "zerolinecolor": "white",
           "zerolinewidth": 2
          },
          "yaxis": {
           "automargin": true,
           "gridcolor": "white",
           "linecolor": "white",
           "ticks": "",
           "title": {
            "standoff": 15
           },
           "zerolinecolor": "white",
           "zerolinewidth": 2
          }
         }
        },
        "title": {
         "text": "",
         "x": 0.5
        },
        "width": 700,
        "xaxis": {
         "anchor": "y",
         "domain": [
          0,
          1
         ]
        },
        "yaxis": {
         "anchor": "x",
         "domain": [
          0,
          1
         ]
        }
       }
      }
     },
     "metadata": {},
     "output_type": "display_data"
    }
   ],
   "source": [
    "fig = make_subplots(rows=1, cols=1, \n",
    "                    horizontal_spacing=0.05, \n",
    "                    vertical_spacing=0.1)\n",
    "base_image_fig = px.imshow(test_image)\n",
    "fig.add_trace(base_image_fig.data[0], 1, 1)\n",
    "fig.update_layout(title_text=f\"\", title_x=0.5, width=700, height=700, showlegend=True, font_size=11)\n",
    "fig.update(layout_coloraxis_showscale=False)\n",
    "fig.show()"
   ]
  }
 ],
 "metadata": {
  "kernelspec": {
   "display_name": "Python 3",
   "language": "python",
   "name": "python3"
  },
  "language_info": {
   "codemirror_mode": {
    "name": "ipython",
    "version": 3
   },
   "file_extension": ".py",
   "mimetype": "text/x-python",
   "name": "python",
   "nbconvert_exporter": "python",
   "pygments_lexer": "ipython3",
   "version": "3.10.4"
  }
 },
 "nbformat": 4,
 "nbformat_minor": 2
}
