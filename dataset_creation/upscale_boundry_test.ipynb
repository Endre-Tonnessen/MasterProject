{
 "cells": [
  {
   "cell_type": "markdown",
   "metadata": {},
   "source": [
    "# Upscale testing"
   ]
  },
  {
   "cell_type": "code",
   "execution_count": null,
   "metadata": {},
   "outputs": [
    {
     "ename": "",
     "evalue": "",
     "output_type": "error",
     "traceback": [
      "\u001b[1;31mFailed to start the Kernel. \n",
      "\u001b[1;31mTypeError: 'type' object is not subscriptable. \n",
      "\u001b[1;31mView Jupyter <a href='command:jupyter.viewOutput'>log</a> for further details."
     ]
    }
   ],
   "source": [
    "from PIL import Image\n",
    "from pathlib import Path\n",
    "import plotly.express as px\n",
    "import plotly.graph_objects as go\n",
    "from plotly.subplots import make_subplots\n",
    "import pandas as pd\n",
    "import imageio.v3 as iio\n",
    "import matplotlib.pyplot as plt\n",
    "import numpy as np\n",
    "from helper_functions.helper_functions import pixels_between_points\n",
    "import pathlib\n",
    "import platform\n",
    "plt2 = platform.system()\n",
    "if plt2 == 'Windows': pathlib.PosixPath = pathlib.WindowsPath\n",
    "\n",
    "from scipy.ndimage import map_coordinates"
   ]
  },
  {
   "cell_type": "code",
   "execution_count": null,
   "metadata": {},
   "outputs": [
    {
     "ename": "",
     "evalue": "",
     "output_type": "error",
     "traceback": [
      "\u001b[1;31mFailed to start the Kernel. \n",
      "\u001b[1;31mTypeError: 'type' object is not subscriptable. \n",
      "\u001b[1;31mView Jupyter <a href='command:jupyter.viewOutput'>log</a> for further details."
     ]
    }
   ],
   "source": [
    "test_image = np.zeros((10,10))\n",
    "# Pixels\n",
    "test_image[2, 2:8] = 1\n",
    "test_image[7, 2:8] = 1\n",
    "test_image[2:7, 2] = 1\n",
    "test_image[2:7, 7] = 1\n",
    "print(test_image)\n",
    "# 400 points\n",
    "x_top = np.linspace(2,7)\n",
    "y_top = np.array([2 for _ in range(len(x_top))])\n",
    "x_bottom = np.linspace(7,2)\n",
    "y_bottom = np.array([7 for _ in range(len(x_top))])\n",
    "\n",
    "x_right = np.array([7 for _ in range(len(x_top))])\n",
    "y_right = np.linspace(2,7)\n",
    "\n",
    "x_left = np.array([2 for _ in range(len(x_top))])\n",
    "y_left = np.linspace(7,2)\n",
    "\n",
    "fourier_xs = np.concatenate(( x_left, x_top, x_right, x_bottom,)) +0.001\n",
    "fourier_ys = np.concatenate(( y_left, y_top, y_right, y_bottom,)) +0.001\n",
    "\n",
    "# Define the scaling factor \n",
    "scale_factor_x = 4\n",
    "scale_factor_y = 8\n",
    "\n",
    "fourier_xs_with_offset = fourier_xs*scale_factor_x+scale_factor_x/2-0.5\n",
    "fourier_ys_with_offset = fourier_ys*scale_factor_y+scale_factor_y/2-0.5"
   ]
  },
  {
   "cell_type": "markdown",
   "metadata": {},
   "source": [
    "\n",
    "\n",
    "Use the get_pixels_between() on the upscaled image using different border scaled differently. Plot and print image to see which pixels are grabbed.\n",
    "Visually verify the new pixel border an see if it lines up correctly in the printout."
   ]
  },
  {
   "cell_type": "code",
   "execution_count": null,
   "metadata": {},
   "outputs": [
    {
     "ename": "",
     "evalue": "",
     "output_type": "error",
     "traceback": [
      "\u001b[1;31mFailed to start the Kernel. \n",
      "\u001b[1;31mTypeError: 'type' object is not subscriptable. \n",
      "\u001b[1;31mView Jupyter <a href='command:jupyter.viewOutput'>log</a> for further details."
     ]
    }
   ],
   "source": [
    "def gridlines(image: np.ndarray):\n",
    "    xs = []\n",
    "    ys = []\n",
    "    for x in range(image.shape[1]):\n",
    "        # x=0\n",
    "        xs += [x-0.5, x-0.5, None]\n",
    "        ys += [-0.5, image.shape[0]-0.5, None]\n",
    "    for x in range(image.shape[0]):\n",
    "        # y=0\n",
    "        ys += [x-0.5, x-0.5, None]\n",
    "        xs += [-0.5, image.shape[1]-0.5, None]\n",
    "    return xs,ys"
   ]
  },
  {
   "cell_type": "markdown",
   "metadata": {},
   "source": [
    "# Proving the offset is necessary\n",
    "\n",
    "Granule explorer uses `map_coordinates()` from scipy on granule images. This method treats pixel coordinates as their 'center'. Therfore we need to add the offset when scaling the border.\n",
    "Write about this in the thesis. Could not find any information about this on the internet??"
   ]
  },
  {
   "cell_type": "code",
   "execution_count": null,
   "metadata": {},
   "outputs": [
    {
     "ename": "",
     "evalue": "",
     "output_type": "error",
     "traceback": [
      "\u001b[1;31mFailed to start the Kernel. \n",
      "\u001b[1;31mTypeError: 'type' object is not subscriptable. \n",
      "\u001b[1;31mView Jupyter <a href='command:jupyter.viewOutput'>log</a> for further details."
     ]
    }
   ],
   "source": [
    "# map_coordinates() uses pixels as integer centered. This means any value sampled +- 1/2 from the integer coordinate will be the same as the same.\n",
    "# Had map_coordinates() instead treated them as 'corner integered' a different value would have been returned when we deviate from the coordinate in the minus direction.\n",
    "assert map_coordinates(test_image, [[1.9],[1.9]], order=0) == np.array([1]), \"At this position the value is expected to be 1.\"\n",
    "assert map_coordinates(test_image, [[0],[0]], order=0) == np.array([0]), \"At this position the value is expected to be 0.\""
   ]
  },
  {
   "cell_type": "code",
   "execution_count": null,
   "metadata": {},
   "outputs": [
    {
     "ename": "",
     "evalue": "",
     "output_type": "error",
     "traceback": [
      "\u001b[1;31mFailed to start the Kernel. \n",
      "\u001b[1;31mTypeError: 'type' object is not subscriptable. \n",
      "\u001b[1;31mView Jupyter <a href='command:jupyter.viewOutput'>log</a> for further details."
     ]
    }
   ],
   "source": [
    "# original_image = Image.fromarray(test_image)\n",
    "\n",
    "# # Get the size of the original image\n",
    "# original_width, original_height = original_image.size\n",
    "# # Calculate the new size of the image after upscaling\n",
    "# new_width = original_width * scale_factor\n",
    "# new_height = original_height * scale_factor\n",
    "# # Resize the image using the new size\n",
    "# upscaled_image_box = np.array(original_image.resize((new_width, new_height), Image.Resampling.NEAREST))        \n",
    "\n",
    "# fig = make_subplots(rows=1, cols=1, \n",
    "#                     horizontal_spacing=0.01, \n",
    "#                     vertical_spacing=0.1,\n",
    "#                     subplot_titles=('Original image', f\"Upscaled image s={scale_factor}\"))\n",
    "# # Add images to plot\n",
    "# base_image_fig = px.imshow(test_image)\n",
    "# fig.add_trace(base_image_fig.data[0], 1, 1)\n",
    "# xs, ys = gridlines(test_image)\n",
    "# fig.add_trace(go.Scatter(x=xs, y=ys, marker=dict(color='black', size=1), name=f\"Pixel edges\", showlegend=False), row=1, col=1)\n",
    "\n",
    "# zi = map_coordinates(original_image, [[1.9],[1.9]], order=0)\n",
    "# print(zi)\n",
    "# fig.add_trace(go.Scatter(x=[2,2], y=[7,7], marker=dict(color='red', size=10), name=f\"Point\"), row=1, col=1)\n",
    "\n",
    "# fig.update_layout(title_text=f\"\", title_x=0.5, width=1400, height=800, showlegend=True, font_size=11)\n",
    "# fig.update(layout_coloraxis_showscale=False)\n",
    "# # fig.show()"
   ]
  },
  {
   "cell_type": "code",
   "execution_count": null,
   "metadata": {},
   "outputs": [
    {
     "ename": "",
     "evalue": "",
     "output_type": "error",
     "traceback": [
      "\u001b[1;31mFailed to start the Kernel. \n",
      "\u001b[1;31mTypeError: 'type' object is not subscriptable. \n",
      "\u001b[1;31mView Jupyter <a href='command:jupyter.viewOutput'>log</a> for further details."
     ]
    }
   ],
   "source": [
    "original_image = Image.fromarray(test_image)\n",
    "\n",
    "# Get the size of the original image\n",
    "original_width, original_height = original_image.size\n",
    "# Calculate the new size of the image after upscaling\n",
    "new_width = original_width * scale_factor_x\n",
    "new_height = original_height * scale_factor_y\n",
    "# Resize the image using the new size\n",
    "upscaled_image_box = np.array(original_image.resize((new_width, new_height), Image.Resampling.NEAREST))        \n",
    "\n",
    "fig = make_subplots(rows=1, cols=2, \n",
    "                    horizontal_spacing=0.01, \n",
    "                    vertical_spacing=0.1,\n",
    "                    subplot_titles=('Original image', f\"Upscaled image s={scale_factor_x, scale_factor_y}\"))\n",
    "# Add images to plot\n",
    "base_image_fig = px.imshow(test_image)\n",
    "fig.add_trace(base_image_fig.data[0], 1, 1)\n",
    "xs, ys = gridlines(test_image)\n",
    "fig.add_trace(go.Scatter(x=xs, y=ys, marker=dict(color='black', size=1), name=f\"Pixel edges\", showlegend=False), row=1, col=1)\n",
    "\n",
    "upscaled_image_fig = px.imshow(upscaled_image_box)\n",
    "fig.add_trace(upscaled_image_fig.data[0], 1, 2)\n",
    "xs, ys = gridlines(upscaled_image_box)\n",
    "fig.add_trace(go.Scatter(x=xs, y=ys, marker=dict(color='black', size=1), name=f\"Pixel edges\", showlegend=False), row=1, col=2)\n",
    "\n",
    "\n",
    "fig.add_trace(go.Scatter(x=[2,2], y=[7,7], marker=dict(color='red', size=10), name=f\"Point\"), row=1, col=1)\n",
    "fig.add_trace(go.Scatter(x=[2*scale_factor_x+scale_factor_x/2-0.5,2*scale_factor_x+scale_factor_x/2-0.5], y=[7*scale_factor_y+scale_factor_y/2-0.5,7*scale_factor_y+scale_factor_y/2-0.5], marker=dict(color='red', size=10), name=f\"Point\"), row=1, col=2)\n",
    "\n",
    "fig.update_layout(title_text=f\"\", title_x=0.5, width=1400, height=800, showlegend=True, font_size=11)\n",
    "fig.update(layout_coloraxis_showscale=False)\n",
    "fig.show()"
   ]
  },
  {
   "cell_type": "code",
   "execution_count": null,
   "metadata": {},
   "outputs": [
    {
     "ename": "",
     "evalue": "",
     "output_type": "error",
     "traceback": [
      "\u001b[1;31mFailed to start the Kernel. \n",
      "\u001b[1;31mTypeError: 'type' object is not subscriptable. \n",
      "\u001b[1;31mView Jupyter <a href='command:jupyter.viewOutput'>log</a> for further details."
     ]
    }
   ],
   "source": [
    "fig = make_subplots(rows=1, cols=2, \n",
    "                    horizontal_spacing=0.05, \n",
    "                    vertical_spacing=0.1,\n",
    "                    subplot_titles=('Original image', f\"Upscaled image s={scale_factor_x, scale_factor_y}\"))\n",
    "# Add images to plot\n",
    "base_image_fig = px.imshow(test_image)\n",
    "fig.add_trace(base_image_fig.data[0], 1, 1)\n",
    "xs, ys = gridlines(test_image)\n",
    "fig.add_trace(go.Scatter(x=xs, y=ys, marker=dict(color='black', size=1), name=f\"Pixel edges\", showlegend=False), row=1, col=1)\n",
    "\n",
    "upscaled_image_fig = px.imshow(upscaled_image_box)\n",
    "fig.add_trace(upscaled_image_fig.data[0], 1, 2)\n",
    "xs, ys = gridlines(upscaled_image_box)\n",
    "fig.add_trace(go.Scatter(x=xs, y=ys, marker=dict(color='black', size=1), name=f\"Pixel edges\", showlegend=False), row=1, col=2)\n",
    "\n",
    "\n",
    "fig.add_trace(go.Scatter(x=fourier_xs, y=fourier_ys, marker=dict(color='red', size=10), name=f\"400p border\"), row=1, col=1)\n",
    "fig.add_trace(go.Scatter(x=fourier_xs*scale_factor_x, y=fourier_ys*scale_factor_y, marker=dict(color='red', size=10), name=f\"400p border \"), row=1, col=2)\n",
    "\n",
    "fig.update_layout(title_text=f\"Border upscaling when b(point)=point*s\", title_x=0.5, width=1400, height=800, showlegend=True, font_size=11)\n",
    "fig.update(layout_coloraxis_showscale=False)\n",
    "fig.show()"
   ]
  },
  {
   "cell_type": "code",
   "execution_count": null,
   "metadata": {},
   "outputs": [
    {
     "ename": "",
     "evalue": "",
     "output_type": "error",
     "traceback": [
      "\u001b[1;31mFailed to start the Kernel. \n",
      "\u001b[1;31mTypeError: 'type' object is not subscriptable. \n",
      "\u001b[1;31mView Jupyter <a href='command:jupyter.viewOutput'>log</a> for further details."
     ]
    }
   ],
   "source": [
    "fig = make_subplots(rows=1, cols=2, \n",
    "                    horizontal_spacing=0.05, \n",
    "                    vertical_spacing=0.1,\n",
    "                    subplot_titles=('Original image', f\"Upscaled image s={scale_factor_x, scale_factor_y}\"))\n",
    "# Add images to plot\n",
    "base_image_fig = px.imshow(test_image)\n",
    "fig.add_trace(base_image_fig.data[0], 1, 1)\n",
    "xs, ys = gridlines(test_image)\n",
    "fig.add_trace(go.Scatter(x=xs, y=ys, marker=dict(color='black', size=1), name=f\"Pixel edges\", showlegend=False), row=1, col=1)\n",
    "\n",
    "upscaled_image_fig = px.imshow(upscaled_image_box)\n",
    "fig.add_trace(upscaled_image_fig.data[0], 1, 2)\n",
    "xs, ys = gridlines(upscaled_image_box)\n",
    "fig.add_trace(go.Scatter(x=xs, y=ys, marker=dict(color='black', size=1), name=f\"Pixel edges\", showlegend=False), row=1, col=2)\n",
    "\n",
    "# 400p borders\n",
    "fig.add_trace(go.Scatter(x=fourier_xs, y=fourier_ys, marker=dict(color='red', size=10), name=f\"400p border\"), row=1, col=1)\n",
    "fig.add_trace(go.Scatter(x=fourier_xs*scale_factor_x+scale_factor_x/2-0.5, y=fourier_ys*scale_factor_y+scale_factor_y/2-0.5, marker=dict(color='red', size=10), name=f\"400 p border\"), row=1, col=2)\n",
    "\n",
    "fig.update_layout(title_text=f\"Border upscaling with offset: b(point)=point*s + s/2 - 1/2\", title_x=0.5, width=1400, height=800, showlegend=True, font_size=11)\n",
    "fig.update(layout_coloraxis_showscale=False)\n",
    "fig.show()"
   ]
  },
  {
   "cell_type": "markdown",
   "metadata": {},
   "source": [
    "# Get intersected pixels"
   ]
  },
  {
   "cell_type": "code",
   "execution_count": null,
   "metadata": {},
   "outputs": [
    {
     "ename": "",
     "evalue": "",
     "output_type": "error",
     "traceback": [
      "\u001b[1;31mFailed to start the Kernel. \n",
      "\u001b[1;31mTypeError: 'type' object is not subscriptable. \n",
      "\u001b[1;31mView Jupyter <a href='command:jupyter.viewOutput'>log</a> for further details."
     ]
    }
   ],
   "source": [
    "fig = make_subplots(rows=1, cols=2, \n",
    "                    horizontal_spacing=0.05, \n",
    "                    vertical_spacing=0.1,\n",
    "                    subplot_titles=('Original image', f\"Upscaled image s={scale_factor_x, scale_factor_y}\"))\n",
    "# Add images to plot\n",
    "base_image_fig = px.imshow(test_image)\n",
    "fig.add_trace(base_image_fig.data[0], 1, 1)\n",
    "xs, ys = gridlines(test_image)\n",
    "fig.add_trace(go.Scatter(x=xs, y=ys, marker=dict(color='black', size=1), name=f\"Pixel edges\", showlegend=False), row=1, col=1)\n",
    "\n",
    "upscaled_image_box_2 = upscaled_image_box.copy()\n",
    "xs, ys = pixels_between_points(fourier_xs*scale_factor_x, fourier_ys*scale_factor_y)\n",
    "# xs, ys = pixels_between_points(fourier_xs*scale_factor+scale_factor/2-0.5, fourier_ys*scale_factor+scale_factor/2-0.5)\n",
    "for x,y in list(zip(xs,ys)):\n",
    "    upscaled_image_box_2[int(y)][int(x)] = 0.5\n",
    "    \n",
    "upscaled_image_fig = px.imshow(upscaled_image_box_2)\n",
    "fig.add_trace(upscaled_image_fig.data[0], 1, 2)\n",
    "xs, ys = gridlines(upscaled_image_box_2)\n",
    "fig.add_trace(go.Scatter(x=xs, y=ys, marker=dict(color='black', size=1), name=f\"Pixel edges\", showlegend=False), row=1, col=2)\n",
    "\n",
    "# 400p borders\n",
    "fig.add_trace(go.Scatter(x=fourier_xs, y=fourier_ys, marker=dict(color='red', size=10), name=f\"400p border\"), row=1, col=1)\n",
    "fig.add_trace(go.Scatter(x=fourier_xs*scale_factor_x, y=fourier_ys*scale_factor_y, marker=dict(color='red', size=10), name=f\"400 p border\"), row=1, col=2)\n",
    "\n",
    "fig.update_layout(title_text=f\"Border upscaling with no offset: b(point)=point*s\", title_x=0.5, width=1400, height=800, showlegend=True, font_size=11)\n",
    "fig.update(layout_coloraxis_showscale=False)\n",
    "fig.show()"
   ]
  },
  {
   "cell_type": "markdown",
   "metadata": {},
   "source": [
    "# \n",
    "\n",
    "scipy.ndimage import map_cooridnates"
   ]
  },
  {
   "cell_type": "code",
   "execution_count": null,
   "metadata": {},
   "outputs": [
    {
     "ename": "",
     "evalue": "",
     "output_type": "error",
     "traceback": [
      "\u001b[1;31mFailed to start the Kernel. \n",
      "\u001b[1;31mTypeError: 'type' object is not subscriptable. \n",
      "\u001b[1;31mView Jupyter <a href='command:jupyter.viewOutput'>log</a> for further details."
     ]
    }
   ],
   "source": [
    "fig = make_subplots(rows=1, cols=2, \n",
    "                    horizontal_spacing=0.05, \n",
    "                    vertical_spacing=0.1,\n",
    "                    subplot_titles=('Original image', f\"Upscaled image s={scale_factor_x}\"))\n",
    "# Add images to plot\n",
    "base_image_fig = px.imshow(test_image)\n",
    "fig.add_trace(base_image_fig.data[0], 1, 1)\n",
    "xs, ys = gridlines(test_image)\n",
    "fig.add_trace(go.Scatter(x=xs, y=ys, marker=dict(color='black', size=1), name=f\"Pixel edges\", showlegend=False), row=1, col=1)\n",
    "\n",
    "upscaled_image_box_3 = upscaled_image_box.copy()\n",
    "xs_pixel, ys_pixel = pixels_between_points(fourier_xs_with_offset, fourier_ys_with_offset)\n",
    "# xs, ys = pixels_between_points(fourier_xs*scale_factor+scale_factor/2-0.5, fourier_ys*scale_factor+scale_factor/2-0.5)\n",
    "for x,y in list(zip(xs_pixel,ys_pixel)):\n",
    "    upscaled_image_box_3[int(y)][int(x)] = 0.5\n",
    "    \n",
    "upscaled_image_fig = px.imshow(upscaled_image_box_3)\n",
    "fig.add_trace(upscaled_image_fig.data[0], 1, 2)\n",
    "xs, ys = gridlines(upscaled_image_box_3)\n",
    "fig.add_trace(go.Scatter(x=xs, y=ys, marker=dict(color='black', size=1), name=f\"Pixel edges\", showlegend=False), row=1, col=2)\n",
    "\n",
    "# 400p borders\n",
    "fig.add_trace(go.Scatter(x=fourier_xs, y=fourier_ys, marker=dict(color='red', size=10), name=f\"400p border\"), row=1, col=1)\n",
    "fig.add_trace(go.Scatter(x=fourier_xs_with_offset, y=fourier_ys_with_offset, marker=dict(color='red', size=10), name=f\"400 p border\"), row=1, col=2)\n",
    "\n",
    "fig.update_layout(title_text=f\"Border upscaling with offset: b(point)=point*s+s/2 - 1/2\", title_x=0.5, width=1400, height=800, showlegend=True, font_size=11)\n",
    "fig.update(layout_coloraxis_showscale=False)\n",
    "fig.show()"
   ]
  },
  {
   "cell_type": "code",
   "execution_count": null,
   "metadata": {},
   "outputs": [
    {
     "ename": "",
     "evalue": "",
     "output_type": "error",
     "traceback": [
      "\u001b[1;31mFailed to start the Kernel. \n",
      "\u001b[1;31mTypeError: 'type' object is not subscriptable. \n",
      "\u001b[1;31mView Jupyter <a href='command:jupyter.viewOutput'>log</a> for further details."
     ]
    }
   ],
   "source": [
    "# print(test_image)\n",
    "# print(upscaled_image_box)"
   ]
  },
  {
   "cell_type": "code",
   "execution_count": null,
   "metadata": {},
   "outputs": [
    {
     "ename": "",
     "evalue": "",
     "output_type": "error",
     "traceback": [
      "\u001b[1;31mFailed to start the Kernel. \n",
      "\u001b[1;31mTypeError: 'type' object is not subscriptable. \n",
      "\u001b[1;31mView Jupyter <a href='command:jupyter.viewOutput'>log</a> for further details."
     ]
    }
   ],
   "source": [
    "fig = make_subplots(rows=1, cols=2, \n",
    "                    horizontal_spacing=0.05, \n",
    "                    vertical_spacing=0.1,\n",
    "                    subplot_titles=('Original image', f\"Upscaled image s={scale_factor_x, scale_factor_y}\"))\n",
    "# Add images to plot\n",
    "base_image_fig = px.imshow(test_image)\n",
    "fig.add_trace(base_image_fig.data[0], 1, 1)\n",
    "xs, ys = gridlines(test_image)\n",
    "fig.add_trace(go.Scatter(x=xs, y=ys, marker=dict(color='black', size=1), name=f\"Pixel edges\", showlegend=False), row=1, col=1)\n",
    "\n",
    "upscaled_image_box_3 = upscaled_image_box.copy()\n",
    "test_x,test_y = np.array([13,19.3]), np.array([19.6,13]) # TODO: Create better implementation. Everything works now? Note the +1/2 to\n",
    "# TODO: pixels_between_points_2() needs to be pushed by 1/2 to align with 'center pixel' method used by python libraries.\n",
    "xs_pixel, ys_pixel = pixels_between_points(test_x,test_y) # When given coordinates to this function, add 1/2 to treat pixels as 'corner integer position' and not 'center integered'.\n",
    "fig.add_trace(go.Scatter(x=test_x, y=test_y, marker=dict(color='cyan', size=10), name=f\"Test line\"), row=1, col=2)\n",
    "# xs_pixel, ys_pixel = pixels_between_points_2(fourier_xs*scale_factor, fourier_ys*scale_factor)\n",
    "for y,x in list(zip(xs_pixel,ys_pixel)):\n",
    "    try:\n",
    "        upscaled_image_box_3[int(x)][int(y)] = 0.5 # x goes up, y goes right\n",
    "    except:\n",
    "        print(\"what\")\n",
    "        continue\n",
    "\n",
    "upscaled_image_fig = px.imshow(upscaled_image_box_3)\n",
    "fig.add_trace(upscaled_image_fig.data[0], 1, 2)\n",
    "xs, ys = gridlines(upscaled_image_box_3)\n",
    "fig.add_trace(go.Scatter(x=xs, y=ys, marker=dict(color='black', size=1), name=f\"Pixel edges\", showlegend=False), row=1, col=2)\n",
    "\n",
    "# 400p borders\n",
    "fig.add_trace(go.Scatter(x=fourier_xs, y=fourier_ys, marker=dict(color='red', size=10), name=f\"400p border\"), row=1, col=1)\n",
    "fig.add_trace(go.Scatter(x=fourier_xs*scale_factor_x, y=fourier_ys*scale_factor_y, marker=dict(color='red', size=10), name=f\"400p border\"), row=1, col=2)\n",
    "# fig.add_trace(go.Scatter(x=fourier_xs_with_offset, y=fourier_ys_with_offset, marker=dict(color='red', size=10), name=f\"400 p border\"), row=1, col=2)\n",
    "\n",
    "fig.update_layout(title_text=f\"Border upscaling with offset: b(point)=point*s+s/2 - 1/2\", title_x=0.5, width=1400, height=800, showlegend=True, font_size=11)\n",
    "fig.update(layout_coloraxis_showscale=False)\n",
    "fig.show()"
   ]
  },
  {
   "cell_type": "code",
   "execution_count": null,
   "metadata": {},
   "outputs": [
    {
     "ename": "",
     "evalue": "",
     "output_type": "error",
     "traceback": [
      "\u001b[1;31mFailed to start the Kernel. \n",
      "\u001b[1;31mTypeError: 'type' object is not subscriptable. \n",
      "\u001b[1;31mView Jupyter <a href='command:jupyter.viewOutput'>log</a> for further details."
     ]
    }
   ],
   "source": [
    "def print_matrix(matrix):\n",
    "    with open('test.txt', 'w+') as f:\n",
    "        for row in matrix:\n",
    "            l = \"\"\n",
    "            for number in row:\n",
    "                l += f\" {int(number)} \"\n",
    "            f.write(l+\"\\n\")"
   ]
  },
  {
   "cell_type": "code",
   "execution_count": null,
   "metadata": {},
   "outputs": [
    {
     "ename": "",
     "evalue": "",
     "output_type": "error",
     "traceback": [
      "\u001b[1;31mFailed to start the Kernel. \n",
      "\u001b[1;31mTypeError: 'type' object is not subscriptable. \n",
      "\u001b[1;31mView Jupyter <a href='command:jupyter.viewOutput'>log</a> for further details."
     ]
    }
   ],
   "source": [
    "upscaled_image_box_4 = upscaled_image_box.copy()\n",
    "# xs_pixel, ys_pixel = pixels_between_points_2(test_x,test_y)\n",
    "xs_pixel, ys_pixel = pixels_between_points(fourier_xs*scale_factor_x+scale_factor_y/2-1/2, fourier_ys*scale_factor_y+scale_factor_y/2-1/2)\n",
    "# fig.add_trace(go.Scatter(x=test_x,y=test_y, marker=dict(color='red', size=10), name=f\"Test line\"), row=1, col=2)\n",
    "# xs_pixel, ys_pixel = pixels_between_points_2(fourier_xs*scale_factor, fourier_ys*scale_factor)\n",
    "for x,y in list(zip(xs_pixel,ys_pixel)):\n",
    "    try:\n",
    "        upscaled_image_box_4[int(x)][int(y)] = 7 # x goes up, y goes right\n",
    "    except:\n",
    "        continue\n",
    "\n",
    "print_matrix(upscaled_image_box_4)\n",
    "# print_matrix(test_image)\n",
    "# with open('test.txt', 'w+') as f:\n",
    "#     # for row in upscaled_image_box_4:\n",
    "#     f.writelines(map(str, upscaled_image_box_4))"
   ]
  },
  {
   "cell_type": "code",
   "execution_count": null,
   "metadata": {},
   "outputs": [
    {
     "ename": "",
     "evalue": "",
     "output_type": "error",
     "traceback": [
      "\u001b[1;31mFailed to start the Kernel. \n",
      "\u001b[1;31mTypeError: 'type' object is not subscriptable. \n",
      "\u001b[1;31mView Jupyter <a href='command:jupyter.viewOutput'>log</a> for further details."
     ]
    }
   ],
   "source": [
    "fig = make_subplots(rows=1, cols=1, \n",
    "                    horizontal_spacing=0.05, \n",
    "                    vertical_spacing=0.1)\n",
    "base_image_fig = px.imshow(test_image)\n",
    "fig.add_trace(base_image_fig.data[0], 1, 1)\n",
    "fig.update_layout(title_text=f\"\", title_x=0.5, width=700, height=700, showlegend=True, font_size=11)\n",
    "fig.update(layout_coloraxis_showscale=False)\n",
    "fig.show()"
   ]
  }
 ],
 "metadata": {
  "kernelspec": {
   "display_name": "Python 3",
   "language": "python",
   "name": "python3"
  },
  "language_info": {
   "codemirror_mode": {
    "name": "ipython",
    "version": 3
   },
   "file_extension": ".py",
   "mimetype": "text/x-python",
   "name": "python",
   "nbconvert_exporter": "python",
   "pygments_lexer": "ipython3",
   "version": "3.10.13"
  }
 },
 "nbformat": 4,
 "nbformat_minor": 2
}
