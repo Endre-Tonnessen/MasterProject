{
 "cells": [
  {
   "cell_type": "markdown",
   "metadata": {},
   "source": [
    "# Analysis of mass training of models"
   ]
  },
  {
   "cell_type": "markdown",
   "metadata": {},
   "source": [
    "### Combine all results into one dataframe"
   ]
  },
  {
   "cell_type": "code",
   "execution_count": 9,
   "metadata": {},
   "outputs": [],
   "source": [
    "import os\n",
    "import pandas as pd\n",
    "import plotly.graph_objects as go\n",
    "import numpy as np"
   ]
  },
  {
   "cell_type": "code",
   "execution_count": 10,
   "metadata": {},
   "outputs": [
    {
     "data": {
      "text/plain": [
       "['DeepLabV3Plus__resnet101__JaccardLoss__Freeze_encoder_False',\n",
       " 'DeepLabV3Plus__resnet34__JaccardLoss__Freeze_encoder_False',\n",
       " 'DeepLabV3Plus__resnet34__JaccardLoss__Freeze_encoder_False_OLD',\n",
       " 'FPN__resnet34__JaccardLoss__Freeze_encoder_False',\n",
       " 'Linknet__resnet34__JaccardLoss__Freeze_encoder_False',\n",
       " 'MAnet__resnet34__JaccardLoss__Freeze_encoder_False',\n",
       " 'PAN__resnet34__JaccardLoss__Freeze_encoder_False',\n",
       " 'PSPNet__resnet34__JaccardLoss__Freeze_encoder_False',\n",
       " 'UnetPlusPlus__resnet34__JaccardLoss__Freeze_encoder_False',\n",
       " 'Unet__resnet34__JaccardLoss__Freeze_encoder_False']"
      ]
     },
     "execution_count": 10,
     "metadata": {},
     "output_type": "execute_result"
    }
   ],
   "source": [
    "training_results = \"./TRAINING_RESULTS\"\n",
    "\n",
    "image_files_FINAL  = [file[12:-4] for file in os.listdir(f\"{training_results}\")]\n",
    "image_files_FINAL"
   ]
  },
  {
   "cell_type": "markdown",
   "metadata": {},
   "source": [
    "# Combine into one dataframe"
   ]
  },
  {
   "cell_type": "code",
   "execution_count": 11,
   "metadata": {},
   "outputs": [],
   "source": [
    "big_df: pd.DataFrame = None\n",
    "\n",
    "for f in image_files_FINAL:\n",
    "    architecture, encoder, loss, encoder_freeze = f.split('__')\n",
    "    df = pd.read_csv(f\"./TRAINING_RESULTS/best_model__{architecture}__{encoder}__{loss}__{encoder_freeze}.csv\", index_col=0)\n",
    "    df['architecture'] = architecture\n",
    "    df['encoder'] = encoder\n",
    "    df['loss_func'] = loss\n",
    "    if type(big_df) == 'NoneType':\n",
    "        big_df = df\n",
    "    else:\n",
    "        big_df = pd.concat((big_df, df))\n",
    "\n",
    "big_df['memory_used'] /= (1024*1024)"
   ]
  },
  {
   "cell_type": "code",
   "execution_count": 12,
   "metadata": {},
   "outputs": [
    {
     "name": "stdout",
     "output_type": "stream",
     "text": [
      "train_iou_score         0.951548\n",
      "train_accuracy          0.985506\n",
      "train_fscore            0.975126\n",
      "train_loss              0.048783\n",
      "val_iou_score           0.943862\n",
      "val_accuracy            0.983351\n",
      "val_fscore              0.971062\n",
      "val_loss                0.056412\n",
      "parameters              45663441\n",
      "memory_used              11068.0\n",
      "freeze_encoder             False\n",
      "inference_time          0.015183\n",
      "architecture       DeepLabV3Plus\n",
      "encoder                resnet101\n",
      "loss_func            JaccardLoss\n",
      "Name: 15, dtype: object\n"
     ]
    }
   ],
   "source": [
    "l = big_df.groupby(['architecture', 'encoder', 'loss_func', 'freeze_encoder'])\n",
    "for g in l:\n",
    "    print(g[1].iloc[g[1]['val_iou_score'].idxmax()])\n",
    "    break"
   ]
  },
  {
   "cell_type": "code",
   "execution_count": 13,
   "metadata": {},
   "outputs": [
    {
     "data": {
      "text/html": [
       "<div>\n",
       "<style scoped>\n",
       "    .dataframe tbody tr th:only-of-type {\n",
       "        vertical-align: middle;\n",
       "    }\n",
       "\n",
       "    .dataframe tbody tr th {\n",
       "        vertical-align: top;\n",
       "    }\n",
       "\n",
       "    .dataframe thead th {\n",
       "        text-align: right;\n",
       "    }\n",
       "</style>\n",
       "<table border=\"1\" class=\"dataframe\">\n",
       "  <thead>\n",
       "    <tr style=\"text-align: right;\">\n",
       "      <th></th>\n",
       "      <th>train_iou_score</th>\n",
       "      <th>train_accuracy</th>\n",
       "      <th>train_fscore</th>\n",
       "      <th>train_loss</th>\n",
       "      <th>val_iou_score</th>\n",
       "      <th>val_accuracy</th>\n",
       "      <th>val_fscore</th>\n",
       "      <th>val_loss</th>\n",
       "      <th>parameters</th>\n",
       "      <th>memory_used</th>\n",
       "      <th>freeze_encoder</th>\n",
       "      <th>inference_time</th>\n",
       "      <th>architecture</th>\n",
       "      <th>encoder</th>\n",
       "      <th>loss_func</th>\n",
       "    </tr>\n",
       "  </thead>\n",
       "  <tbody>\n",
       "    <tr>\n",
       "      <th>0</th>\n",
       "      <td>0.877840</td>\n",
       "      <td>0.960426</td>\n",
       "      <td>0.933468</td>\n",
       "      <td>0.148276</td>\n",
       "      <td>0.911567</td>\n",
       "      <td>0.973210</td>\n",
       "      <td>0.953552</td>\n",
       "      <td>0.092309</td>\n",
       "      <td>45663441</td>\n",
       "      <td>11068.0</td>\n",
       "      <td>False</td>\n",
       "      <td>0.015183</td>\n",
       "      <td>DeepLabV3Plus</td>\n",
       "      <td>resnet101</td>\n",
       "      <td>JaccardLoss</td>\n",
       "    </tr>\n",
       "    <tr>\n",
       "      <th>1</th>\n",
       "      <td>0.907052</td>\n",
       "      <td>0.971414</td>\n",
       "      <td>0.950997</td>\n",
       "      <td>0.096140</td>\n",
       "      <td>0.906916</td>\n",
       "      <td>0.972154</td>\n",
       "      <td>0.951093</td>\n",
       "      <td>0.094688</td>\n",
       "      <td>45663441</td>\n",
       "      <td>11068.0</td>\n",
       "      <td>False</td>\n",
       "      <td>0.015183</td>\n",
       "      <td>DeepLabV3Plus</td>\n",
       "      <td>resnet101</td>\n",
       "      <td>JaccardLoss</td>\n",
       "    </tr>\n",
       "    <tr>\n",
       "      <th>2</th>\n",
       "      <td>0.920570</td>\n",
       "      <td>0.975768</td>\n",
       "      <td>0.958506</td>\n",
       "      <td>0.081223</td>\n",
       "      <td>0.916987</td>\n",
       "      <td>0.974587</td>\n",
       "      <td>0.956595</td>\n",
       "      <td>0.084375</td>\n",
       "      <td>45663441</td>\n",
       "      <td>11068.0</td>\n",
       "      <td>False</td>\n",
       "      <td>0.015183</td>\n",
       "      <td>DeepLabV3Plus</td>\n",
       "      <td>resnet101</td>\n",
       "      <td>JaccardLoss</td>\n",
       "    </tr>\n",
       "    <tr>\n",
       "      <th>3</th>\n",
       "      <td>0.926813</td>\n",
       "      <td>0.977791</td>\n",
       "      <td>0.961884</td>\n",
       "      <td>0.074451</td>\n",
       "      <td>0.924283</td>\n",
       "      <td>0.977538</td>\n",
       "      <td>0.960526</td>\n",
       "      <td>0.076930</td>\n",
       "      <td>45663441</td>\n",
       "      <td>11068.0</td>\n",
       "      <td>False</td>\n",
       "      <td>0.015183</td>\n",
       "      <td>DeepLabV3Plus</td>\n",
       "      <td>resnet101</td>\n",
       "      <td>JaccardLoss</td>\n",
       "    </tr>\n",
       "    <tr>\n",
       "      <th>4</th>\n",
       "      <td>0.930461</td>\n",
       "      <td>0.978968</td>\n",
       "      <td>0.963867</td>\n",
       "      <td>0.070552</td>\n",
       "      <td>0.931390</td>\n",
       "      <td>0.979489</td>\n",
       "      <td>0.964402</td>\n",
       "      <td>0.069466</td>\n",
       "      <td>45663441</td>\n",
       "      <td>11068.0</td>\n",
       "      <td>False</td>\n",
       "      <td>0.015183</td>\n",
       "      <td>DeepLabV3Plus</td>\n",
       "      <td>resnet101</td>\n",
       "      <td>JaccardLoss</td>\n",
       "    </tr>\n",
       "  </tbody>\n",
       "</table>\n",
       "</div>"
      ],
      "text/plain": [
       "   train_iou_score  train_accuracy  train_fscore  train_loss  val_iou_score  \\\n",
       "0         0.877840        0.960426      0.933468    0.148276       0.911567   \n",
       "1         0.907052        0.971414      0.950997    0.096140       0.906916   \n",
       "2         0.920570        0.975768      0.958506    0.081223       0.916987   \n",
       "3         0.926813        0.977791      0.961884    0.074451       0.924283   \n",
       "4         0.930461        0.978968      0.963867    0.070552       0.931390   \n",
       "\n",
       "   val_accuracy  val_fscore  val_loss  parameters  memory_used  \\\n",
       "0      0.973210    0.953552  0.092309    45663441      11068.0   \n",
       "1      0.972154    0.951093  0.094688    45663441      11068.0   \n",
       "2      0.974587    0.956595  0.084375    45663441      11068.0   \n",
       "3      0.977538    0.960526  0.076930    45663441      11068.0   \n",
       "4      0.979489    0.964402  0.069466    45663441      11068.0   \n",
       "\n",
       "   freeze_encoder  inference_time   architecture    encoder    loss_func  \n",
       "0           False        0.015183  DeepLabV3Plus  resnet101  JaccardLoss  \n",
       "1           False        0.015183  DeepLabV3Plus  resnet101  JaccardLoss  \n",
       "2           False        0.015183  DeepLabV3Plus  resnet101  JaccardLoss  \n",
       "3           False        0.015183  DeepLabV3Plus  resnet101  JaccardLoss  \n",
       "4           False        0.015183  DeepLabV3Plus  resnet101  JaccardLoss  "
      ]
     },
     "execution_count": 13,
     "metadata": {},
     "output_type": "execute_result"
    }
   ],
   "source": [
    "big_df[:5]"
   ]
  },
  {
   "cell_type": "markdown",
   "metadata": {},
   "source": [
    "# Plot"
   ]
  },
  {
   "cell_type": "code",
   "execution_count": 14,
   "metadata": {},
   "outputs": [],
   "source": [
    "def plot_data(big_df: pd.DataFrame, y_volumn, y_column_name, plot_title, x_column=\"index\", x_column_name=\"Epochs\", filter=None):\n",
    "    fig = go.Figure()\n",
    "    big_df_copy = big_df.copy(deep=True)\n",
    "    if filter != None:\n",
    "        big_df_copy.query(filter, inplace=True)\n",
    "    # for f in image_files_FINAL:\n",
    "    for data in big_df_copy.groupby(['architecture', 'encoder', 'loss_func', 'freeze_encoder']):\n",
    "        architecture, encoder, loss, freeze = data[0]\n",
    "        # fig.add_trace(go.Scatter(x=df.index+1, y=df['train_iou_score'], name=f\"{architecture} {encoder} {loss}\", hoverinfo='text+name',)) # \n",
    "        # fig.add_trace(go.Scatter(x=data[1].index+1, y=data[1]['val_iou_score'], name=f\"{architecture} {encoder} {loss}\", hoverinfo='y+text+name',)) # \n",
    "        hovertemplate=f\"<b>{architecture} {encoder} {loss} {freeze}</b><br><br>\" + \\\n",
    "                        f\"{plot_title}\"+\": %{y:.3}<br>\" + \\\n",
    "                        f\"{x_column_name}\"+\": %{x}<br>\" + \\\n",
    "                        \"<extra></extra>\",\n",
    "        if x_column == \"index\":\n",
    "            fig.add_trace(go.Scatter(x=data[1].index+1, y=data[1][y_volumn], name=f\"{architecture} {encoder} {loss} {freeze}\", hovertemplate=hovertemplate)) # \n",
    "        else:\n",
    "            fig.add_trace(go.Scatter(x=data[1][x_column], y=data[1][y_volumn], name=f\"{architecture} {encoder} {loss} {freeze}\", hovertemplate=hovertemplate, mode='markers')) # \n",
    "        \n",
    "    # fig.update_traces(hoverinfo='text+name', mode='lines+markers')\n",
    "    fig.update_layout(legend=dict(y=0.5, traceorder='reversed', font_size=16))\n",
    "    fig.update_layout(\n",
    "        title=f\"{plot_title} - (Architecture Encoder Loss)\",\n",
    "        # title=\"Training loss - (Architecture Encoder Loss)\",\n",
    "        xaxis_title=x_column_name,\n",
    "        yaxis_title=y_column_name,\n",
    "            font=dict(\n",
    "            size=14,\n",
    "        )\n",
    "    )\n",
    "    # fig.update_layout(hovermode=\"x unified\")\n",
    "    fig.show()"
   ]
  },
  {
   "cell_type": "code",
   "execution_count": 15,
   "metadata": {},
   "outputs": [
    {
     "data": {
      "application/vnd.plotly.v1+json": {
       "config": {
        "plotlyServerURL": "https://plot.ly"
       },
       "data": [
        {
         "hovertemplate": [
          "<b>DeepLabV3Plus resnet101 JaccardLoss False</b><br><br>Train loss: %{y:.3}<br>Epochs: %{x}<br><extra></extra>"
         ],
         "name": "DeepLabV3Plus resnet101 JaccardLoss False",
         "type": "scatter",
         "x": [
          1,
          2,
          3,
          4,
          5,
          6,
          7,
          8,
          9,
          10,
          11,
          12,
          13,
          14,
          15,
          16,
          17,
          18,
          19,
          20
         ],
         "y": [
          0.1482763121568082,
          0.0961400956043358,
          0.0812230440168421,
          0.0744512385564812,
          0.0705515877883321,
          0.0693216919898987,
          0.063623651670284,
          0.0636653040611693,
          0.0617119874565386,
          0.0597130648567952,
          0.0578409464062539,
          0.0555041580752753,
          0.0530499130359534,
          0.0531136582849363,
          0.0525289889057307,
          0.0487826770978935,
          0.0493542490598981,
          0.0487185141047694,
          0.0479651410692239,
          0.0454053758551634
         ]
        },
        {
         "hovertemplate": [
          "<b>DeepLabV3Plus resnet34 JaccardLoss False</b><br><br>Train loss: %{y:.3}<br>Epochs: %{x}<br><extra></extra>"
         ],
         "name": "DeepLabV3Plus resnet34 JaccardLoss False",
         "type": "scatter",
         "x": [
          1,
          2,
          3,
          4,
          5,
          6,
          7,
          8,
          9,
          10,
          11,
          12,
          13,
          14,
          15,
          16,
          17,
          18,
          19,
          20,
          1,
          2,
          3,
          4,
          5,
          6,
          7,
          8,
          9,
          10,
          11,
          12,
          13,
          14,
          15,
          16,
          17,
          18,
          19,
          20
         ],
         "y": [
          0.1735022163939201,
          0.0907316762825538,
          0.0773247781841234,
          0.0717621911531207,
          0.0664819568053059,
          0.0629154738338514,
          0.0614204146396154,
          0.0567784021640645,
          0.0533209504752323,
          0.0508854135699655,
          0.0491837996175919,
          0.0477602358522086,
          0.0472514780088402,
          0.0458007783725343,
          0.0445824765610968,
          0.0408323441428699,
          0.0395421872193786,
          0.0387871799797847,
          0.03759150258426,
          0.0362850804438536,
          0.135133780837059,
          0.0746931340864727,
          0.0646701438937868,
          0.0573161863429206,
          0.0527374301637921,
          0.0503102611643927,
          0.0470963474682399,
          0.0443064822469438,
          0.042215067744255,
          0.0411310797078268,
          0.0384733848912375,
          0.0363348905529294,
          0.0346178736857005,
          0.0339745914936065,
          0.0323200275216783,
          0.0324651976994105,
          0.0299251535109111,
          0.0276934198822293,
          0.0270890544142041,
          0.025880336846624
         ]
        },
        {
         "hovertemplate": [
          "<b>FPN resnet34 JaccardLoss False</b><br><br>Train loss: %{y:.3}<br>Epochs: %{x}<br><extra></extra>"
         ],
         "name": "FPN resnet34 JaccardLoss False",
         "type": "scatter",
         "x": [
          1,
          2,
          3,
          4,
          5,
          6,
          7,
          8,
          9,
          10,
          11,
          12,
          13,
          14,
          15,
          16,
          17,
          18,
          19,
          20
         ],
         "y": [
          0.0930498968703405,
          0.0756967081342424,
          0.0703037801810673,
          0.0660395180327551,
          0.0617493104083197,
          0.0597106612580163,
          0.05737857401371,
          0.0519105426754269,
          0.0494257255111421,
          0.0472745591402053,
          0.0452384398664746,
          0.0435872768504278,
          0.0398900181906563,
          0.0394477429560252,
          0.0361721135888781,
          0.0341009587900979,
          0.0329372798545019,
          0.03195281122412,
          0.0306379011699131,
          0.0294352249588285
         ]
        },
        {
         "hovertemplate": [
          "<b>Linknet resnet34 JaccardLoss False</b><br><br>Train loss: %{y:.3}<br>Epochs: %{x}<br><extra></extra>"
         ],
         "name": "Linknet resnet34 JaccardLoss False",
         "type": "scatter",
         "x": [
          1,
          2,
          3,
          4,
          5,
          6,
          7,
          8,
          9,
          10,
          11,
          12,
          13,
          14,
          15,
          16,
          17,
          18,
          19,
          20
         ],
         "y": [
          0.2888892714466368,
          0.1415420871973038,
          0.1038735449314117,
          0.0878815165587833,
          0.0795154191766466,
          0.0735148041588919,
          0.0690893294981548,
          0.0643987140485218,
          0.0625260783944811,
          0.0598167883498327,
          0.0573794535228184,
          0.0550919847829001,
          0.0536803957394191,
          0.0518085805858884,
          0.0501951485872268,
          0.0487741353682109,
          0.0462649338585989,
          0.0446686256783348,
          0.0426768888745989,
          0.0413213027375084
         ]
        },
        {
         "hovertemplate": [
          "<b>MAnet resnet34 JaccardLoss False</b><br><br>Train loss: %{y:.3}<br>Epochs: %{x}<br><extra></extra>"
         ],
         "name": "MAnet resnet34 JaccardLoss False",
         "type": "scatter",
         "x": [
          1,
          2,
          3,
          4,
          5,
          6,
          7,
          8,
          9,
          10,
          11,
          12,
          13,
          14,
          15,
          16,
          17,
          18,
          19,
          20
         ],
         "y": [
          0.2559655034679106,
          0.1193567809017225,
          0.1025565061075934,
          0.0931641418358375,
          0.0914909003794878,
          0.0834577597420791,
          0.0857672540620826,
          0.0925725582002223,
          0.0867988021894432,
          0.0836876637634189,
          0.0797815733942492,
          0.0789255513541999,
          0.0797950495248553,
          0.0734923584707851,
          0.0736178392651437,
          0.0727541672772374,
          0.0724998767348541,
          0.0722530134792985,
          0.0695922813196291,
          0.0766674800850879
         ]
        },
        {
         "hovertemplate": [
          "<b>PAN resnet34 JaccardLoss False</b><br><br>Train loss: %{y:.3}<br>Epochs: %{x}<br><extra></extra>"
         ],
         "name": "PAN resnet34 JaccardLoss False",
         "type": "scatter",
         "x": [
          1,
          2,
          3,
          4,
          5,
          6,
          7,
          8,
          9,
          10,
          11,
          12,
          13,
          14,
          15,
          16,
          17,
          18,
          19,
          20
         ],
         "y": [
          0.157576434913723,
          0.0930041191221653,
          0.0895306221370039,
          0.0835066026654737,
          0.0823128011034822,
          0.0754075618996017,
          0.0757678267599522,
          0.0742444252145701,
          0.0707043683391878,
          0.0694392885284862,
          0.0689467911062569,
          0.0665460352239937,
          0.0666695607119592,
          0.0664557095231681,
          0.0637770452718625,
          0.0619001683147474,
          0.0622031346134755,
          0.0587195336133584,
          0.0579763171316563,
          0.0548433634056442
         ]
        },
        {
         "hovertemplate": [
          "<b>PSPNet resnet34 JaccardLoss False</b><br><br>Train loss: %{y:.3}<br>Epochs: %{x}<br><extra></extra>"
         ],
         "name": "PSPNet resnet34 JaccardLoss False",
         "type": "scatter",
         "x": [
          1,
          2,
          3,
          4,
          5,
          6,
          7,
          8,
          9,
          10,
          11,
          12,
          13,
          14,
          15,
          16,
          17,
          18,
          19,
          20
         ],
         "y": [
          0.1356990864907188,
          0.0910670462696031,
          0.087074670983457,
          0.0831291031563418,
          0.0803513636534241,
          0.0785962439131462,
          0.0759983186064095,
          0.0758919613114718,
          0.0716398084300687,
          0.071254926851426,
          0.0716878319608754,
          0.0691356227315705,
          0.0697474096013211,
          0.0687673818105939,
          0.0666237596807808,
          0.0659577956144837,
          0.0679919973187062,
          0.0632918353738456,
          0.0627804960327586,
          0.0615526252779467
         ]
        },
        {
         "hovertemplate": [
          "<b>Unet resnet34 JaccardLoss False</b><br><br>Train loss: %{y:.3}<br>Epochs: %{x}<br><extra></extra>"
         ],
         "name": "Unet resnet34 JaccardLoss False",
         "type": "scatter",
         "x": [
          1,
          2,
          3,
          4,
          5,
          6,
          7,
          8,
          9,
          10,
          11,
          12,
          13,
          14,
          15,
          16,
          17,
          18,
          19,
          20
         ],
         "y": [
          0.3113819669032918,
          0.1496789352647189,
          0.1131974951974276,
          0.0975706269001138,
          0.0956216961487956,
          0.0839707330725658,
          0.0789301457076237,
          0.0767774061224926,
          0.0728936681802245,
          0.0702620758407417,
          0.0697710205768717,
          0.067852068221432,
          0.0641181057897107,
          0.06271091685898,
          0.0629651738309312,
          0.0600152180112641,
          0.0580972926370028,
          0.0553378997177913,
          0.055260926827617,
          0.0513276574255406
         ]
        },
        {
         "hovertemplate": [
          "<b>UnetPlusPlus resnet34 JaccardLoss False</b><br><br>Train loss: %{y:.3}<br>Epochs: %{x}<br><extra></extra>"
         ],
         "name": "UnetPlusPlus resnet34 JaccardLoss False",
         "type": "scatter",
         "x": [
          1,
          2,
          3,
          4,
          5,
          6,
          7,
          8,
          9,
          10,
          11,
          12,
          13,
          14,
          15,
          16,
          17,
          18,
          19,
          20
         ],
         "y": [
          0.2560037354060583,
          0.1147451887811933,
          0.0941134417057037,
          0.0850264280182975,
          0.0799404854433877,
          0.0780556450571332,
          0.0786894658633641,
          0.0729796550955091,
          0.0729673588275909,
          0.0666465260301317,
          0.0648009717464446,
          0.0640908229351043,
          0.0618894588947296,
          0.0603356252397809,
          0.0564243236609868,
          0.0540588407857077,
          0.0527429774829319,
          0.0477436828613281,
          0.04650599360466,
          0.04466988495418
         ]
        }
       ],
       "layout": {
        "font": {
         "size": 14
        },
        "legend": {
         "font": {
          "size": 16
         },
         "traceorder": "reversed",
         "y": 0.5
        },
        "template": {
         "data": {
          "bar": [
           {
            "error_x": {
             "color": "#2a3f5f"
            },
            "error_y": {
             "color": "#2a3f5f"
            },
            "marker": {
             "line": {
              "color": "#E5ECF6",
              "width": 0.5
             },
             "pattern": {
              "fillmode": "overlay",
              "size": 10,
              "solidity": 0.2
             }
            },
            "type": "bar"
           }
          ],
          "barpolar": [
           {
            "marker": {
             "line": {
              "color": "#E5ECF6",
              "width": 0.5
             },
             "pattern": {
              "fillmode": "overlay",
              "size": 10,
              "solidity": 0.2
             }
            },
            "type": "barpolar"
           }
          ],
          "carpet": [
           {
            "aaxis": {
             "endlinecolor": "#2a3f5f",
             "gridcolor": "white",
             "linecolor": "white",
             "minorgridcolor": "white",
             "startlinecolor": "#2a3f5f"
            },
            "baxis": {
             "endlinecolor": "#2a3f5f",
             "gridcolor": "white",
             "linecolor": "white",
             "minorgridcolor": "white",
             "startlinecolor": "#2a3f5f"
            },
            "type": "carpet"
           }
          ],
          "choropleth": [
           {
            "colorbar": {
             "outlinewidth": 0,
             "ticks": ""
            },
            "type": "choropleth"
           }
          ],
          "contour": [
           {
            "colorbar": {
             "outlinewidth": 0,
             "ticks": ""
            },
            "colorscale": [
             [
              0,
              "#0d0887"
             ],
             [
              0.1111111111111111,
              "#46039f"
             ],
             [
              0.2222222222222222,
              "#7201a8"
             ],
             [
              0.3333333333333333,
              "#9c179e"
             ],
             [
              0.4444444444444444,
              "#bd3786"
             ],
             [
              0.5555555555555556,
              "#d8576b"
             ],
             [
              0.6666666666666666,
              "#ed7953"
             ],
             [
              0.7777777777777778,
              "#fb9f3a"
             ],
             [
              0.8888888888888888,
              "#fdca26"
             ],
             [
              1,
              "#f0f921"
             ]
            ],
            "type": "contour"
           }
          ],
          "contourcarpet": [
           {
            "colorbar": {
             "outlinewidth": 0,
             "ticks": ""
            },
            "type": "contourcarpet"
           }
          ],
          "heatmap": [
           {
            "colorbar": {
             "outlinewidth": 0,
             "ticks": ""
            },
            "colorscale": [
             [
              0,
              "#0d0887"
             ],
             [
              0.1111111111111111,
              "#46039f"
             ],
             [
              0.2222222222222222,
              "#7201a8"
             ],
             [
              0.3333333333333333,
              "#9c179e"
             ],
             [
              0.4444444444444444,
              "#bd3786"
             ],
             [
              0.5555555555555556,
              "#d8576b"
             ],
             [
              0.6666666666666666,
              "#ed7953"
             ],
             [
              0.7777777777777778,
              "#fb9f3a"
             ],
             [
              0.8888888888888888,
              "#fdca26"
             ],
             [
              1,
              "#f0f921"
             ]
            ],
            "type": "heatmap"
           }
          ],
          "heatmapgl": [
           {
            "colorbar": {
             "outlinewidth": 0,
             "ticks": ""
            },
            "colorscale": [
             [
              0,
              "#0d0887"
             ],
             [
              0.1111111111111111,
              "#46039f"
             ],
             [
              0.2222222222222222,
              "#7201a8"
             ],
             [
              0.3333333333333333,
              "#9c179e"
             ],
             [
              0.4444444444444444,
              "#bd3786"
             ],
             [
              0.5555555555555556,
              "#d8576b"
             ],
             [
              0.6666666666666666,
              "#ed7953"
             ],
             [
              0.7777777777777778,
              "#fb9f3a"
             ],
             [
              0.8888888888888888,
              "#fdca26"
             ],
             [
              1,
              "#f0f921"
             ]
            ],
            "type": "heatmapgl"
           }
          ],
          "histogram": [
           {
            "marker": {
             "pattern": {
              "fillmode": "overlay",
              "size": 10,
              "solidity": 0.2
             }
            },
            "type": "histogram"
           }
          ],
          "histogram2d": [
           {
            "colorbar": {
             "outlinewidth": 0,
             "ticks": ""
            },
            "colorscale": [
             [
              0,
              "#0d0887"
             ],
             [
              0.1111111111111111,
              "#46039f"
             ],
             [
              0.2222222222222222,
              "#7201a8"
             ],
             [
              0.3333333333333333,
              "#9c179e"
             ],
             [
              0.4444444444444444,
              "#bd3786"
             ],
             [
              0.5555555555555556,
              "#d8576b"
             ],
             [
              0.6666666666666666,
              "#ed7953"
             ],
             [
              0.7777777777777778,
              "#fb9f3a"
             ],
             [
              0.8888888888888888,
              "#fdca26"
             ],
             [
              1,
              "#f0f921"
             ]
            ],
            "type": "histogram2d"
           }
          ],
          "histogram2dcontour": [
           {
            "colorbar": {
             "outlinewidth": 0,
             "ticks": ""
            },
            "colorscale": [
             [
              0,
              "#0d0887"
             ],
             [
              0.1111111111111111,
              "#46039f"
             ],
             [
              0.2222222222222222,
              "#7201a8"
             ],
             [
              0.3333333333333333,
              "#9c179e"
             ],
             [
              0.4444444444444444,
              "#bd3786"
             ],
             [
              0.5555555555555556,
              "#d8576b"
             ],
             [
              0.6666666666666666,
              "#ed7953"
             ],
             [
              0.7777777777777778,
              "#fb9f3a"
             ],
             [
              0.8888888888888888,
              "#fdca26"
             ],
             [
              1,
              "#f0f921"
             ]
            ],
            "type": "histogram2dcontour"
           }
          ],
          "mesh3d": [
           {
            "colorbar": {
             "outlinewidth": 0,
             "ticks": ""
            },
            "type": "mesh3d"
           }
          ],
          "parcoords": [
           {
            "line": {
             "colorbar": {
              "outlinewidth": 0,
              "ticks": ""
             }
            },
            "type": "parcoords"
           }
          ],
          "pie": [
           {
            "automargin": true,
            "type": "pie"
           }
          ],
          "scatter": [
           {
            "fillpattern": {
             "fillmode": "overlay",
             "size": 10,
             "solidity": 0.2
            },
            "type": "scatter"
           }
          ],
          "scatter3d": [
           {
            "line": {
             "colorbar": {
              "outlinewidth": 0,
              "ticks": ""
             }
            },
            "marker": {
             "colorbar": {
              "outlinewidth": 0,
              "ticks": ""
             }
            },
            "type": "scatter3d"
           }
          ],
          "scattercarpet": [
           {
            "marker": {
             "colorbar": {
              "outlinewidth": 0,
              "ticks": ""
             }
            },
            "type": "scattercarpet"
           }
          ],
          "scattergeo": [
           {
            "marker": {
             "colorbar": {
              "outlinewidth": 0,
              "ticks": ""
             }
            },
            "type": "scattergeo"
           }
          ],
          "scattergl": [
           {
            "marker": {
             "colorbar": {
              "outlinewidth": 0,
              "ticks": ""
             }
            },
            "type": "scattergl"
           }
          ],
          "scattermapbox": [
           {
            "marker": {
             "colorbar": {
              "outlinewidth": 0,
              "ticks": ""
             }
            },
            "type": "scattermapbox"
           }
          ],
          "scatterpolar": [
           {
            "marker": {
             "colorbar": {
              "outlinewidth": 0,
              "ticks": ""
             }
            },
            "type": "scatterpolar"
           }
          ],
          "scatterpolargl": [
           {
            "marker": {
             "colorbar": {
              "outlinewidth": 0,
              "ticks": ""
             }
            },
            "type": "scatterpolargl"
           }
          ],
          "scatterternary": [
           {
            "marker": {
             "colorbar": {
              "outlinewidth": 0,
              "ticks": ""
             }
            },
            "type": "scatterternary"
           }
          ],
          "surface": [
           {
            "colorbar": {
             "outlinewidth": 0,
             "ticks": ""
            },
            "colorscale": [
             [
              0,
              "#0d0887"
             ],
             [
              0.1111111111111111,
              "#46039f"
             ],
             [
              0.2222222222222222,
              "#7201a8"
             ],
             [
              0.3333333333333333,
              "#9c179e"
             ],
             [
              0.4444444444444444,
              "#bd3786"
             ],
             [
              0.5555555555555556,
              "#d8576b"
             ],
             [
              0.6666666666666666,
              "#ed7953"
             ],
             [
              0.7777777777777778,
              "#fb9f3a"
             ],
             [
              0.8888888888888888,
              "#fdca26"
             ],
             [
              1,
              "#f0f921"
             ]
            ],
            "type": "surface"
           }
          ],
          "table": [
           {
            "cells": {
             "fill": {
              "color": "#EBF0F8"
             },
             "line": {
              "color": "white"
             }
            },
            "header": {
             "fill": {
              "color": "#C8D4E3"
             },
             "line": {
              "color": "white"
             }
            },
            "type": "table"
           }
          ]
         },
         "layout": {
          "annotationdefaults": {
           "arrowcolor": "#2a3f5f",
           "arrowhead": 0,
           "arrowwidth": 1
          },
          "autotypenumbers": "strict",
          "coloraxis": {
           "colorbar": {
            "outlinewidth": 0,
            "ticks": ""
           }
          },
          "colorscale": {
           "diverging": [
            [
             0,
             "#8e0152"
            ],
            [
             0.1,
             "#c51b7d"
            ],
            [
             0.2,
             "#de77ae"
            ],
            [
             0.3,
             "#f1b6da"
            ],
            [
             0.4,
             "#fde0ef"
            ],
            [
             0.5,
             "#f7f7f7"
            ],
            [
             0.6,
             "#e6f5d0"
            ],
            [
             0.7,
             "#b8e186"
            ],
            [
             0.8,
             "#7fbc41"
            ],
            [
             0.9,
             "#4d9221"
            ],
            [
             1,
             "#276419"
            ]
           ],
           "sequential": [
            [
             0,
             "#0d0887"
            ],
            [
             0.1111111111111111,
             "#46039f"
            ],
            [
             0.2222222222222222,
             "#7201a8"
            ],
            [
             0.3333333333333333,
             "#9c179e"
            ],
            [
             0.4444444444444444,
             "#bd3786"
            ],
            [
             0.5555555555555556,
             "#d8576b"
            ],
            [
             0.6666666666666666,
             "#ed7953"
            ],
            [
             0.7777777777777778,
             "#fb9f3a"
            ],
            [
             0.8888888888888888,
             "#fdca26"
            ],
            [
             1,
             "#f0f921"
            ]
           ],
           "sequentialminus": [
            [
             0,
             "#0d0887"
            ],
            [
             0.1111111111111111,
             "#46039f"
            ],
            [
             0.2222222222222222,
             "#7201a8"
            ],
            [
             0.3333333333333333,
             "#9c179e"
            ],
            [
             0.4444444444444444,
             "#bd3786"
            ],
            [
             0.5555555555555556,
             "#d8576b"
            ],
            [
             0.6666666666666666,
             "#ed7953"
            ],
            [
             0.7777777777777778,
             "#fb9f3a"
            ],
            [
             0.8888888888888888,
             "#fdca26"
            ],
            [
             1,
             "#f0f921"
            ]
           ]
          },
          "colorway": [
           "#636efa",
           "#EF553B",
           "#00cc96",
           "#ab63fa",
           "#FFA15A",
           "#19d3f3",
           "#FF6692",
           "#B6E880",
           "#FF97FF",
           "#FECB52"
          ],
          "font": {
           "color": "#2a3f5f"
          },
          "geo": {
           "bgcolor": "white",
           "lakecolor": "white",
           "landcolor": "#E5ECF6",
           "showlakes": true,
           "showland": true,
           "subunitcolor": "white"
          },
          "hoverlabel": {
           "align": "left"
          },
          "hovermode": "closest",
          "mapbox": {
           "style": "light"
          },
          "paper_bgcolor": "white",
          "plot_bgcolor": "#E5ECF6",
          "polar": {
           "angularaxis": {
            "gridcolor": "white",
            "linecolor": "white",
            "ticks": ""
           },
           "bgcolor": "#E5ECF6",
           "radialaxis": {
            "gridcolor": "white",
            "linecolor": "white",
            "ticks": ""
           }
          },
          "scene": {
           "xaxis": {
            "backgroundcolor": "#E5ECF6",
            "gridcolor": "white",
            "gridwidth": 2,
            "linecolor": "white",
            "showbackground": true,
            "ticks": "",
            "zerolinecolor": "white"
           },
           "yaxis": {
            "backgroundcolor": "#E5ECF6",
            "gridcolor": "white",
            "gridwidth": 2,
            "linecolor": "white",
            "showbackground": true,
            "ticks": "",
            "zerolinecolor": "white"
           },
           "zaxis": {
            "backgroundcolor": "#E5ECF6",
            "gridcolor": "white",
            "gridwidth": 2,
            "linecolor": "white",
            "showbackground": true,
            "ticks": "",
            "zerolinecolor": "white"
           }
          },
          "shapedefaults": {
           "line": {
            "color": "#2a3f5f"
           }
          },
          "ternary": {
           "aaxis": {
            "gridcolor": "white",
            "linecolor": "white",
            "ticks": ""
           },
           "baxis": {
            "gridcolor": "white",
            "linecolor": "white",
            "ticks": ""
           },
           "bgcolor": "#E5ECF6",
           "caxis": {
            "gridcolor": "white",
            "linecolor": "white",
            "ticks": ""
           }
          },
          "title": {
           "x": 0.05
          },
          "xaxis": {
           "automargin": true,
           "gridcolor": "white",
           "linecolor": "white",
           "ticks": "",
           "title": {
            "standoff": 15
           },
           "zerolinecolor": "white",
           "zerolinewidth": 2
          },
          "yaxis": {
           "automargin": true,
           "gridcolor": "white",
           "linecolor": "white",
           "ticks": "",
           "title": {
            "standoff": 15
           },
           "zerolinecolor": "white",
           "zerolinewidth": 2
          }
         }
        },
        "title": {
         "text": "Train loss - (Architecture Encoder Loss)"
        },
        "xaxis": {
         "title": {
          "text": "Epochs"
         }
        },
        "yaxis": {
         "title": {
          "text": "Jaccard Loss"
         }
        }
       }
      }
     },
     "metadata": {},
     "output_type": "display_data"
    },
    {
     "data": {
      "application/vnd.plotly.v1+json": {
       "config": {
        "plotlyServerURL": "https://plot.ly"
       },
       "data": [
        {
         "hovertemplate": [
          "<b>DeepLabV3Plus resnet101 JaccardLoss False</b><br><br>Val loss: %{y:.3}<br>Epochs: %{x}<br><extra></extra>"
         ],
         "name": "DeepLabV3Plus resnet101 JaccardLoss False",
         "type": "scatter",
         "x": [
          1,
          2,
          3,
          4,
          5,
          6,
          7,
          8,
          9,
          10,
          11,
          12,
          13,
          14,
          15,
          16,
          17,
          18,
          19,
          20
         ],
         "y": [
          0.0923093962669372,
          0.0946881401538849,
          0.0843753814697265,
          0.0769302713871002,
          0.0694658029079437,
          0.0659109914302825,
          0.065097861289978,
          0.0889618039131164,
          0.0662199425697326,
          0.0650004053115844,
          0.062545119524002,
          0.0826796770095825,
          0.0617338573932647,
          0.0764257061481476,
          0.065158851146698,
          0.0564117348194122,
          0.0674617636203765,
          0.1001034724712371,
          0.0717419946193695,
          0.0676669955253601
         ]
        },
        {
         "hovertemplate": [
          "<b>DeepLabV3Plus resnet34 JaccardLoss False</b><br><br>Val loss: %{y:.3}<br>Epochs: %{x}<br><extra></extra>"
         ],
         "name": "DeepLabV3Plus resnet34 JaccardLoss False",
         "type": "scatter",
         "x": [
          1,
          2,
          3,
          4,
          5,
          6,
          7,
          8,
          9,
          10,
          11,
          12,
          13,
          14,
          15,
          16,
          17,
          18,
          19,
          20,
          1,
          2,
          3,
          4,
          5,
          6,
          7,
          8,
          9,
          10,
          11,
          12,
          13,
          14,
          15,
          16,
          17,
          18,
          19,
          20
         ],
         "y": [
          0.1454086701075235,
          0.0851781931188371,
          0.0741310252083672,
          0.0712802906831105,
          0.0671236779954698,
          0.0662007530530293,
          0.0622461703088548,
          0.0586629410584767,
          0.0623296929730309,
          0.0553400384055243,
          0.0519207782215542,
          0.0561919212341308,
          0.0545207560062408,
          0.0528291331397162,
          0.0521043042341868,
          0.0489583114782969,
          0.0470581750075022,
          0.0486468904548221,
          0.0477754871050516,
          0.0472866164313422,
          0.0928531332810719,
          0.0668187415599822,
          0.0647872471809387,
          0.060288694302241,
          0.0555266276995341,
          0.0576224760214487,
          0.0516077609856923,
          0.0541683888435364,
          0.0639474952220917,
          0.0486227981249491,
          0.0472024436791737,
          0.0471685926119486,
          0.0428268265724182,
          0.0444381737709045,
          0.0437170179684956,
          0.0433240608374277,
          0.0458905931313832,
          0.0412639661629994,
          0.0404039311408996,
          0.0414600567022959
         ]
        },
        {
         "hovertemplate": [
          "<b>FPN resnet34 JaccardLoss False</b><br><br>Val loss: %{y:.3}<br>Epochs: %{x}<br><extra></extra>"
         ],
         "name": "FPN resnet34 JaccardLoss False",
         "type": "scatter",
         "x": [
          1,
          2,
          3,
          4,
          5,
          6,
          7,
          8,
          9,
          10,
          11,
          12,
          13,
          14,
          15,
          16,
          17,
          18,
          19,
          20
         ],
         "y": [
          0.0791000394026438,
          0.0782650117079416,
          0.0870263791084289,
          0.0750590888659158,
          0.0689314150810241,
          0.0651238548755646,
          0.061217713356018,
          0.0677598905563354,
          0.0595168670018513,
          0.0575494412581125,
          0.0584166332085927,
          0.0556247770786285,
          0.0569151167074839,
          0.0548264276981353,
          0.0556391938527425,
          0.0541836472352345,
          0.0509026424090067,
          0.0520241212844848,
          0.0545763949553171,
          0.052034291823705
         ]
        },
        {
         "hovertemplate": [
          "<b>Linknet resnet34 JaccardLoss False</b><br><br>Val loss: %{y:.3}<br>Epochs: %{x}<br><extra></extra>"
         ],
         "name": "Linknet resnet34 JaccardLoss False",
         "type": "scatter",
         "x": [
          1,
          2,
          3,
          4,
          5,
          6,
          7,
          8,
          9,
          10,
          11,
          12,
          13,
          14,
          15,
          16,
          17,
          18,
          19,
          20
         ],
         "y": [
          0.1803918564319611,
          0.117591114838918,
          0.1019132069746653,
          0.0867205699284871,
          0.0866477262973785,
          0.0780641750494638,
          0.0749877806504567,
          0.0723142369588216,
          0.0754606318473815,
          0.0706013635794321,
          0.0713030449549356,
          0.0662201305230458,
          0.0672217547893524,
          0.0669268004099528,
          0.0686123569806416,
          0.0686554622650146,
          0.0665776336193084,
          0.0671360838413238,
          0.0672502660751342,
          0.0657440217336019
         ]
        },
        {
         "hovertemplate": [
          "<b>MAnet resnet34 JaccardLoss False</b><br><br>Val loss: %{y:.3}<br>Epochs: %{x}<br><extra></extra>"
         ],
         "name": "MAnet resnet34 JaccardLoss False",
         "type": "scatter",
         "x": [
          1,
          2,
          3,
          4,
          5,
          6,
          7,
          8,
          9,
          10,
          11,
          12,
          13,
          14,
          15,
          16,
          17,
          18,
          19,
          20
         ],
         "y": [
          0.1488952603605058,
          0.1090986265076531,
          0.1264047159088982,
          0.1008157730102539,
          0.0873127414120568,
          0.0860030949115753,
          0.0823594364855024,
          0.0890429019927978,
          0.0766199926535288,
          0.0748450623618231,
          0.0743616289562649,
          0.0830371114942762,
          0.0769147376219431,
          0.0729505022366841,
          0.072270972861184,
          0.0707347657945421,
          0.0697095957067277,
          0.0698884493774838,
          0.0686150292555491,
          0.0792710151937272
         ]
        },
        {
         "hovertemplate": [
          "<b>PAN resnet34 JaccardLoss False</b><br><br>Val loss: %{y:.3}<br>Epochs: %{x}<br><extra></extra>"
         ],
         "name": "PAN resnet34 JaccardLoss False",
         "type": "scatter",
         "x": [
          1,
          2,
          3,
          4,
          5,
          6,
          7,
          8,
          9,
          10,
          11,
          12,
          13,
          14,
          15,
          16,
          17,
          18,
          19,
          20
         ],
         "y": [
          0.1064812673462761,
          0.0897802876101599,
          0.0883715848128,
          0.0940221912331051,
          0.0803546110788981,
          0.0811186730861663,
          0.0812994506624009,
          0.0770360562536451,
          0.0766917036639319,
          0.0745254390769534,
          0.085877925157547,
          0.0772831837336222,
          0.0711615582307179,
          0.0753329263793097,
          0.0709856417444017,
          0.0712185932530297,
          0.0712834464179144,
          0.0788957013024224,
          0.0792992810408274,
          0.0640947123368581
         ]
        },
        {
         "hovertemplate": [
          "<b>PSPNet resnet34 JaccardLoss False</b><br><br>Val loss: %{y:.3}<br>Epochs: %{x}<br><extra></extra>"
         ],
         "name": "PSPNet resnet34 JaccardLoss False",
         "type": "scatter",
         "x": [
          1,
          2,
          3,
          4,
          5,
          6,
          7,
          8,
          9,
          10,
          11,
          12,
          13,
          14,
          15,
          16,
          17,
          18,
          19,
          20
         ],
         "y": [
          0.1037768456670973,
          0.0875662664572397,
          0.0929887427224053,
          0.0748218927118513,
          0.0748190217547946,
          0.0803900361061095,
          0.071402221918106,
          0.0716268519560495,
          0.0808316204282972,
          0.0689711769421895,
          0.0795493887530432,
          0.066721757253011,
          0.0673362778292762,
          0.0757134523656633,
          0.0632767809761895,
          0.0780334505769941,
          0.0632730225721995,
          0.0667224062813652,
          0.0657561818758646,
          0.0655128161112467
         ]
        },
        {
         "hovertemplate": [
          "<b>Unet resnet34 JaccardLoss False</b><br><br>Val loss: %{y:.3}<br>Epochs: %{x}<br><extra></extra>"
         ],
         "name": "Unet resnet34 JaccardLoss False",
         "type": "scatter",
         "x": [
          1,
          2,
          3,
          4,
          5,
          6,
          7,
          8,
          9,
          10,
          11,
          12,
          13,
          14,
          15,
          16,
          17,
          18,
          19,
          20
         ],
         "y": [
          0.1931807266341315,
          0.1298195752832624,
          0.1021260652277204,
          0.0978419250912136,
          0.094796425766415,
          0.0859945913155873,
          0.0852750639120737,
          0.0800094207127889,
          0.0784192846881018,
          0.0753127502070532,
          0.078990360101064,
          0.0749553408887651,
          0.0761460297637515,
          0.0761654641893175,
          0.0716489122973547,
          0.0732062392764621,
          0.0725440780321756,
          0.0728692577944861,
          0.0721951160165998,
          0.0751484268241458
         ]
        },
        {
         "hovertemplate": [
          "<b>UnetPlusPlus resnet34 JaccardLoss False</b><br><br>Val loss: %{y:.3}<br>Epochs: %{x}<br><extra></extra>"
         ],
         "name": "UnetPlusPlus resnet34 JaccardLoss False",
         "type": "scatter",
         "x": [
          1,
          2,
          3,
          4,
          5,
          6,
          7,
          8,
          9,
          10,
          11,
          12,
          13,
          14,
          15,
          16,
          17,
          18,
          19,
          20
         ],
         "y": [
          0.1472488323847453,
          0.1480959987640381,
          0.1100989850362141,
          0.1150971333185831,
          0.1089450645446777,
          0.1080344263712565,
          0.1519974414507547,
          0.1151295725504557,
          0.1139996075630187,
          0.0970422267913818,
          0.0863606150945027,
          0.0911588756243387,
          0.1227584028244018,
          0.1057777301470438,
          0.0914731907844543,
          0.116492060025533,
          0.0943093808492024,
          0.1009083628654479,
          0.1164922388394673,
          0.0950103950500488
         ]
        }
       ],
       "layout": {
        "font": {
         "size": 14
        },
        "legend": {
         "font": {
          "size": 16
         },
         "traceorder": "reversed",
         "y": 0.5
        },
        "template": {
         "data": {
          "bar": [
           {
            "error_x": {
             "color": "#2a3f5f"
            },
            "error_y": {
             "color": "#2a3f5f"
            },
            "marker": {
             "line": {
              "color": "#E5ECF6",
              "width": 0.5
             },
             "pattern": {
              "fillmode": "overlay",
              "size": 10,
              "solidity": 0.2
             }
            },
            "type": "bar"
           }
          ],
          "barpolar": [
           {
            "marker": {
             "line": {
              "color": "#E5ECF6",
              "width": 0.5
             },
             "pattern": {
              "fillmode": "overlay",
              "size": 10,
              "solidity": 0.2
             }
            },
            "type": "barpolar"
           }
          ],
          "carpet": [
           {
            "aaxis": {
             "endlinecolor": "#2a3f5f",
             "gridcolor": "white",
             "linecolor": "white",
             "minorgridcolor": "white",
             "startlinecolor": "#2a3f5f"
            },
            "baxis": {
             "endlinecolor": "#2a3f5f",
             "gridcolor": "white",
             "linecolor": "white",
             "minorgridcolor": "white",
             "startlinecolor": "#2a3f5f"
            },
            "type": "carpet"
           }
          ],
          "choropleth": [
           {
            "colorbar": {
             "outlinewidth": 0,
             "ticks": ""
            },
            "type": "choropleth"
           }
          ],
          "contour": [
           {
            "colorbar": {
             "outlinewidth": 0,
             "ticks": ""
            },
            "colorscale": [
             [
              0,
              "#0d0887"
             ],
             [
              0.1111111111111111,
              "#46039f"
             ],
             [
              0.2222222222222222,
              "#7201a8"
             ],
             [
              0.3333333333333333,
              "#9c179e"
             ],
             [
              0.4444444444444444,
              "#bd3786"
             ],
             [
              0.5555555555555556,
              "#d8576b"
             ],
             [
              0.6666666666666666,
              "#ed7953"
             ],
             [
              0.7777777777777778,
              "#fb9f3a"
             ],
             [
              0.8888888888888888,
              "#fdca26"
             ],
             [
              1,
              "#f0f921"
             ]
            ],
            "type": "contour"
           }
          ],
          "contourcarpet": [
           {
            "colorbar": {
             "outlinewidth": 0,
             "ticks": ""
            },
            "type": "contourcarpet"
           }
          ],
          "heatmap": [
           {
            "colorbar": {
             "outlinewidth": 0,
             "ticks": ""
            },
            "colorscale": [
             [
              0,
              "#0d0887"
             ],
             [
              0.1111111111111111,
              "#46039f"
             ],
             [
              0.2222222222222222,
              "#7201a8"
             ],
             [
              0.3333333333333333,
              "#9c179e"
             ],
             [
              0.4444444444444444,
              "#bd3786"
             ],
             [
              0.5555555555555556,
              "#d8576b"
             ],
             [
              0.6666666666666666,
              "#ed7953"
             ],
             [
              0.7777777777777778,
              "#fb9f3a"
             ],
             [
              0.8888888888888888,
              "#fdca26"
             ],
             [
              1,
              "#f0f921"
             ]
            ],
            "type": "heatmap"
           }
          ],
          "heatmapgl": [
           {
            "colorbar": {
             "outlinewidth": 0,
             "ticks": ""
            },
            "colorscale": [
             [
              0,
              "#0d0887"
             ],
             [
              0.1111111111111111,
              "#46039f"
             ],
             [
              0.2222222222222222,
              "#7201a8"
             ],
             [
              0.3333333333333333,
              "#9c179e"
             ],
             [
              0.4444444444444444,
              "#bd3786"
             ],
             [
              0.5555555555555556,
              "#d8576b"
             ],
             [
              0.6666666666666666,
              "#ed7953"
             ],
             [
              0.7777777777777778,
              "#fb9f3a"
             ],
             [
              0.8888888888888888,
              "#fdca26"
             ],
             [
              1,
              "#f0f921"
             ]
            ],
            "type": "heatmapgl"
           }
          ],
          "histogram": [
           {
            "marker": {
             "pattern": {
              "fillmode": "overlay",
              "size": 10,
              "solidity": 0.2
             }
            },
            "type": "histogram"
           }
          ],
          "histogram2d": [
           {
            "colorbar": {
             "outlinewidth": 0,
             "ticks": ""
            },
            "colorscale": [
             [
              0,
              "#0d0887"
             ],
             [
              0.1111111111111111,
              "#46039f"
             ],
             [
              0.2222222222222222,
              "#7201a8"
             ],
             [
              0.3333333333333333,
              "#9c179e"
             ],
             [
              0.4444444444444444,
              "#bd3786"
             ],
             [
              0.5555555555555556,
              "#d8576b"
             ],
             [
              0.6666666666666666,
              "#ed7953"
             ],
             [
              0.7777777777777778,
              "#fb9f3a"
             ],
             [
              0.8888888888888888,
              "#fdca26"
             ],
             [
              1,
              "#f0f921"
             ]
            ],
            "type": "histogram2d"
           }
          ],
          "histogram2dcontour": [
           {
            "colorbar": {
             "outlinewidth": 0,
             "ticks": ""
            },
            "colorscale": [
             [
              0,
              "#0d0887"
             ],
             [
              0.1111111111111111,
              "#46039f"
             ],
             [
              0.2222222222222222,
              "#7201a8"
             ],
             [
              0.3333333333333333,
              "#9c179e"
             ],
             [
              0.4444444444444444,
              "#bd3786"
             ],
             [
              0.5555555555555556,
              "#d8576b"
             ],
             [
              0.6666666666666666,
              "#ed7953"
             ],
             [
              0.7777777777777778,
              "#fb9f3a"
             ],
             [
              0.8888888888888888,
              "#fdca26"
             ],
             [
              1,
              "#f0f921"
             ]
            ],
            "type": "histogram2dcontour"
           }
          ],
          "mesh3d": [
           {
            "colorbar": {
             "outlinewidth": 0,
             "ticks": ""
            },
            "type": "mesh3d"
           }
          ],
          "parcoords": [
           {
            "line": {
             "colorbar": {
              "outlinewidth": 0,
              "ticks": ""
             }
            },
            "type": "parcoords"
           }
          ],
          "pie": [
           {
            "automargin": true,
            "type": "pie"
           }
          ],
          "scatter": [
           {
            "fillpattern": {
             "fillmode": "overlay",
             "size": 10,
             "solidity": 0.2
            },
            "type": "scatter"
           }
          ],
          "scatter3d": [
           {
            "line": {
             "colorbar": {
              "outlinewidth": 0,
              "ticks": ""
             }
            },
            "marker": {
             "colorbar": {
              "outlinewidth": 0,
              "ticks": ""
             }
            },
            "type": "scatter3d"
           }
          ],
          "scattercarpet": [
           {
            "marker": {
             "colorbar": {
              "outlinewidth": 0,
              "ticks": ""
             }
            },
            "type": "scattercarpet"
           }
          ],
          "scattergeo": [
           {
            "marker": {
             "colorbar": {
              "outlinewidth": 0,
              "ticks": ""
             }
            },
            "type": "scattergeo"
           }
          ],
          "scattergl": [
           {
            "marker": {
             "colorbar": {
              "outlinewidth": 0,
              "ticks": ""
             }
            },
            "type": "scattergl"
           }
          ],
          "scattermapbox": [
           {
            "marker": {
             "colorbar": {
              "outlinewidth": 0,
              "ticks": ""
             }
            },
            "type": "scattermapbox"
           }
          ],
          "scatterpolar": [
           {
            "marker": {
             "colorbar": {
              "outlinewidth": 0,
              "ticks": ""
             }
            },
            "type": "scatterpolar"
           }
          ],
          "scatterpolargl": [
           {
            "marker": {
             "colorbar": {
              "outlinewidth": 0,
              "ticks": ""
             }
            },
            "type": "scatterpolargl"
           }
          ],
          "scatterternary": [
           {
            "marker": {
             "colorbar": {
              "outlinewidth": 0,
              "ticks": ""
             }
            },
            "type": "scatterternary"
           }
          ],
          "surface": [
           {
            "colorbar": {
             "outlinewidth": 0,
             "ticks": ""
            },
            "colorscale": [
             [
              0,
              "#0d0887"
             ],
             [
              0.1111111111111111,
              "#46039f"
             ],
             [
              0.2222222222222222,
              "#7201a8"
             ],
             [
              0.3333333333333333,
              "#9c179e"
             ],
             [
              0.4444444444444444,
              "#bd3786"
             ],
             [
              0.5555555555555556,
              "#d8576b"
             ],
             [
              0.6666666666666666,
              "#ed7953"
             ],
             [
              0.7777777777777778,
              "#fb9f3a"
             ],
             [
              0.8888888888888888,
              "#fdca26"
             ],
             [
              1,
              "#f0f921"
             ]
            ],
            "type": "surface"
           }
          ],
          "table": [
           {
            "cells": {
             "fill": {
              "color": "#EBF0F8"
             },
             "line": {
              "color": "white"
             }
            },
            "header": {
             "fill": {
              "color": "#C8D4E3"
             },
             "line": {
              "color": "white"
             }
            },
            "type": "table"
           }
          ]
         },
         "layout": {
          "annotationdefaults": {
           "arrowcolor": "#2a3f5f",
           "arrowhead": 0,
           "arrowwidth": 1
          },
          "autotypenumbers": "strict",
          "coloraxis": {
           "colorbar": {
            "outlinewidth": 0,
            "ticks": ""
           }
          },
          "colorscale": {
           "diverging": [
            [
             0,
             "#8e0152"
            ],
            [
             0.1,
             "#c51b7d"
            ],
            [
             0.2,
             "#de77ae"
            ],
            [
             0.3,
             "#f1b6da"
            ],
            [
             0.4,
             "#fde0ef"
            ],
            [
             0.5,
             "#f7f7f7"
            ],
            [
             0.6,
             "#e6f5d0"
            ],
            [
             0.7,
             "#b8e186"
            ],
            [
             0.8,
             "#7fbc41"
            ],
            [
             0.9,
             "#4d9221"
            ],
            [
             1,
             "#276419"
            ]
           ],
           "sequential": [
            [
             0,
             "#0d0887"
            ],
            [
             0.1111111111111111,
             "#46039f"
            ],
            [
             0.2222222222222222,
             "#7201a8"
            ],
            [
             0.3333333333333333,
             "#9c179e"
            ],
            [
             0.4444444444444444,
             "#bd3786"
            ],
            [
             0.5555555555555556,
             "#d8576b"
            ],
            [
             0.6666666666666666,
             "#ed7953"
            ],
            [
             0.7777777777777778,
             "#fb9f3a"
            ],
            [
             0.8888888888888888,
             "#fdca26"
            ],
            [
             1,
             "#f0f921"
            ]
           ],
           "sequentialminus": [
            [
             0,
             "#0d0887"
            ],
            [
             0.1111111111111111,
             "#46039f"
            ],
            [
             0.2222222222222222,
             "#7201a8"
            ],
            [
             0.3333333333333333,
             "#9c179e"
            ],
            [
             0.4444444444444444,
             "#bd3786"
            ],
            [
             0.5555555555555556,
             "#d8576b"
            ],
            [
             0.6666666666666666,
             "#ed7953"
            ],
            [
             0.7777777777777778,
             "#fb9f3a"
            ],
            [
             0.8888888888888888,
             "#fdca26"
            ],
            [
             1,
             "#f0f921"
            ]
           ]
          },
          "colorway": [
           "#636efa",
           "#EF553B",
           "#00cc96",
           "#ab63fa",
           "#FFA15A",
           "#19d3f3",
           "#FF6692",
           "#B6E880",
           "#FF97FF",
           "#FECB52"
          ],
          "font": {
           "color": "#2a3f5f"
          },
          "geo": {
           "bgcolor": "white",
           "lakecolor": "white",
           "landcolor": "#E5ECF6",
           "showlakes": true,
           "showland": true,
           "subunitcolor": "white"
          },
          "hoverlabel": {
           "align": "left"
          },
          "hovermode": "closest",
          "mapbox": {
           "style": "light"
          },
          "paper_bgcolor": "white",
          "plot_bgcolor": "#E5ECF6",
          "polar": {
           "angularaxis": {
            "gridcolor": "white",
            "linecolor": "white",
            "ticks": ""
           },
           "bgcolor": "#E5ECF6",
           "radialaxis": {
            "gridcolor": "white",
            "linecolor": "white",
            "ticks": ""
           }
          },
          "scene": {
           "xaxis": {
            "backgroundcolor": "#E5ECF6",
            "gridcolor": "white",
            "gridwidth": 2,
            "linecolor": "white",
            "showbackground": true,
            "ticks": "",
            "zerolinecolor": "white"
           },
           "yaxis": {
            "backgroundcolor": "#E5ECF6",
            "gridcolor": "white",
            "gridwidth": 2,
            "linecolor": "white",
            "showbackground": true,
            "ticks": "",
            "zerolinecolor": "white"
           },
           "zaxis": {
            "backgroundcolor": "#E5ECF6",
            "gridcolor": "white",
            "gridwidth": 2,
            "linecolor": "white",
            "showbackground": true,
            "ticks": "",
            "zerolinecolor": "white"
           }
          },
          "shapedefaults": {
           "line": {
            "color": "#2a3f5f"
           }
          },
          "ternary": {
           "aaxis": {
            "gridcolor": "white",
            "linecolor": "white",
            "ticks": ""
           },
           "baxis": {
            "gridcolor": "white",
            "linecolor": "white",
            "ticks": ""
           },
           "bgcolor": "#E5ECF6",
           "caxis": {
            "gridcolor": "white",
            "linecolor": "white",
            "ticks": ""
           }
          },
          "title": {
           "x": 0.05
          },
          "xaxis": {
           "automargin": true,
           "gridcolor": "white",
           "linecolor": "white",
           "ticks": "",
           "title": {
            "standoff": 15
           },
           "zerolinecolor": "white",
           "zerolinewidth": 2
          },
          "yaxis": {
           "automargin": true,
           "gridcolor": "white",
           "linecolor": "white",
           "ticks": "",
           "title": {
            "standoff": 15
           },
           "zerolinecolor": "white",
           "zerolinewidth": 2
          }
         }
        },
        "title": {
         "text": "Val loss - (Architecture Encoder Loss)"
        },
        "xaxis": {
         "title": {
          "text": "Epochs"
         }
        },
        "yaxis": {
         "title": {
          "text": "Jaccard Loss"
         }
        }
       }
      }
     },
     "metadata": {},
     "output_type": "display_data"
    },
    {
     "data": {
      "application/vnd.plotly.v1+json": {
       "config": {
        "plotlyServerURL": "https://plot.ly"
       },
       "data": [
        {
         "hovertemplate": [
          "<b>DeepLabV3Plus resnet101 JaccardLoss False</b><br><br>Train IoU: %{y:.3}<br>Epochs: %{x}<br><extra></extra>"
         ],
         "name": "DeepLabV3Plus resnet101 JaccardLoss False",
         "type": "scatter",
         "x": [
          1,
          2,
          3,
          4,
          5,
          6,
          7,
          8,
          9,
          10,
          11,
          12,
          13,
          14,
          15,
          16,
          17,
          18,
          19,
          20
         ],
         "y": [
          0.8778402286665636,
          0.9070520695186988,
          0.9205702397444732,
          0.9268125119127428,
          0.9304607648706232,
          0.9315532451023868,
          0.9370811906495315,
          0.9369457683849745,
          0.938848509553164,
          0.9408171276677836,
          0.9426333911940776,
          0.9449202561583128,
          0.9473401842710792,
          0.9472877303929802,
          0.9478335058228656,
          0.9515476654015896,
          0.950963415045595,
          0.9515753316776951,
          0.9523151061565576,
          0.9548577433491986
         ]
        },
        {
         "hovertemplate": [
          "<b>DeepLabV3Plus resnet34 JaccardLoss False</b><br><br>Train IoU: %{y:.3}<br>Epochs: %{x}<br><extra></extra>"
         ],
         "name": "DeepLabV3Plus resnet34 JaccardLoss False",
         "type": "scatter",
         "x": [
          1,
          2,
          3,
          4,
          5,
          6,
          7,
          8,
          9,
          10,
          11,
          12,
          13,
          14,
          15,
          16,
          17,
          18,
          19,
          20,
          1,
          2,
          3,
          4,
          5,
          6,
          7,
          8,
          9,
          10,
          11,
          12,
          13,
          14,
          15,
          16,
          17,
          18,
          19,
          20
         ],
         "y": [
          0.8796496555722991,
          0.9175602560755852,
          0.9267489827912432,
          0.930737175475592,
          0.9354512677795588,
          0.9386386076609292,
          0.9398377359598532,
          0.9443294488150497,
          0.9476855424628864,
          0.9500084800281744,
          0.9516349071743844,
          0.9529868652080672,
          0.9534257129691108,
          0.9548438390096028,
          0.95601032794207,
          0.959768280900758,
          0.9610079006216992,
          0.9617277603039796,
          0.9628918170928952,
          0.964191905383406,
          0.907586573319776,
          0.930367871608054,
          0.9376081504140586,
          0.9440821132489622,
          0.9482377228566576,
          0.9504304733446663,
          0.9534866095440728,
          0.9561871532031468,
          0.9582104846409388,
          0.9592468130588528,
          0.961849864891598,
          0.9639582806825628,
          0.9656530230385918,
          0.9662620456729616,
          0.96789781842913,
          0.9677459435803554,
          0.9702661557708466,
          0.9724972106729244,
          0.9731144798653464,
          0.9742954717363624
         ]
        },
        {
         "hovertemplate": [
          "<b>FPN resnet34 JaccardLoss False</b><br><br>Train IoU: %{y:.3}<br>Epochs: %{x}<br><extra></extra>"
         ],
         "name": "FPN resnet34 JaccardLoss False",
         "type": "scatter",
         "x": [
          1,
          2,
          3,
          4,
          5,
          6,
          7,
          8,
          9,
          10,
          11,
          12,
          13,
          14,
          15,
          16,
          17,
          18,
          19,
          20
         ],
         "y": [
          0.9080782103538512,
          0.9248134020396636,
          0.930116644246238,
          0.9343771917479382,
          0.9386383870669772,
          0.9406346679585316,
          0.9429762147154124,
          0.948414068647794,
          0.9509030960287368,
          0.953019817301205,
          0.9550673589536126,
          0.9566891923972548,
          0.9603737850700096,
          0.9608098114388318,
          0.9640908317055016,
          0.9661575109618052,
          0.9673089483806055,
          0.9682911154202052,
          0.9695951007093704,
          0.9707956335374271
         ]
        },
        {
         "hovertemplate": [
          "<b>Linknet resnet34 JaccardLoss False</b><br><br>Train IoU: %{y:.3}<br>Epochs: %{x}<br><extra></extra>"
         ],
         "name": "Linknet resnet34 JaccardLoss False",
         "type": "scatter",
         "x": [
          1,
          2,
          3,
          4,
          5,
          6,
          7,
          8,
          9,
          10,
          11,
          12,
          13,
          14,
          15,
          16,
          17,
          18,
          19,
          20
         ],
         "y": [
          0.8655427936570994,
          0.9138601403576992,
          0.9207056835719524,
          0.9248876437119076,
          0.9277921283245092,
          0.9309515366383966,
          0.9337131906407224,
          0.9373877812283375,
          0.9386592434985296,
          0.940970161642347,
          0.9431531499113364,
          0.9452770242520736,
          0.9465729982512336,
          0.9483715000322892,
          0.9499370670318602,
          0.951322258029666,
          0.9538072370631354,
          0.9553881879363748,
          0.9573702721936364,
          0.9587164318561552
         ]
        },
        {
         "hovertemplate": [
          "<b>MAnet resnet34 JaccardLoss False</b><br><br>Train IoU: %{y:.3}<br>Epochs: %{x}<br><extra></extra>"
         ],
         "name": "MAnet resnet34 JaccardLoss False",
         "type": "scatter",
         "x": [
          1,
          2,
          3,
          4,
          5,
          6,
          7,
          8,
          9,
          10,
          11,
          12,
          13,
          14,
          15,
          16,
          17,
          18,
          19,
          20
         ],
         "y": [
          0.852911194165548,
          0.8982195367758302,
          0.9046443502108256,
          0.9109655940669704,
          0.911253323500184,
          0.9184764472917578,
          0.9156890799259318,
          0.9085807738632992,
          0.9141474181208116,
          0.9170772241449904,
          0.9208643265154168,
          0.9216223064510302,
          0.9206928905399367,
          0.9269357090708856,
          0.926760186409128,
          0.927583830109958,
          0.9278061499540834,
          0.9280158356688486,
          0.9306547744520778,
          0.923555211774234
         ]
        },
        {
         "hovertemplate": [
          "<b>PAN resnet34 JaccardLoss False</b><br><br>Train IoU: %{y:.3}<br>Epochs: %{x}<br><extra></extra>"
         ],
         "name": "PAN resnet34 JaccardLoss False",
         "type": "scatter",
         "x": [
          1,
          2,
          3,
          4,
          5,
          6,
          7,
          8,
          9,
          10,
          11,
          12,
          13,
          14,
          15,
          16,
          17,
          18,
          19,
          20
         ],
         "y": [
          0.8547752461899287,
          0.910498072361124,
          0.9130026211683776,
          0.9186945961809704,
          0.9197992230283806,
          0.9263856904260044,
          0.925901668510218,
          0.9273750549075248,
          0.930568550509968,
          0.9317494103278235,
          0.9322125438986152,
          0.934679164968688,
          0.9344570349002708,
          0.9345480772270552,
          0.9373009869422037,
          0.939187902143632,
          0.9388139062914354,
          0.9422948504316396,
          0.943028916572702,
          0.9461356565870088
         ]
        },
        {
         "hovertemplate": [
          "<b>PSPNet resnet34 JaccardLoss False</b><br><br>Train IoU: %{y:.3}<br>Epochs: %{x}<br><extra></extra>"
         ],
         "name": "PSPNet resnet34 JaccardLoss False",
         "type": "scatter",
         "x": [
          1,
          2,
          3,
          4,
          5,
          6,
          7,
          8,
          9,
          10,
          11,
          12,
          13,
          14,
          15,
          16,
          17,
          18,
          19,
          20
         ],
         "y": [
          0.8746740732384823,
          0.9125717652255092,
          0.9156360359027468,
          0.9189977549958506,
          0.9217020417081896,
          0.9234330030693404,
          0.925753234446734,
          0.9256910154189184,
          0.9299349140846868,
          0.9301805920984554,
          0.929598608921314,
          0.9322016924277116,
          0.931588863504344,
          0.9324982063523656,
          0.9346107936453544,
          0.9352629698556048,
          0.933038723194736,
          0.9378550100600584,
          0.93830193048236,
          0.9396065624280908
         ]
        },
        {
         "hovertemplate": [
          "<b>Unet resnet34 JaccardLoss False</b><br><br>Train IoU: %{y:.3}<br>Epochs: %{x}<br><extra></extra>"
         ],
         "name": "Unet resnet34 JaccardLoss False",
         "type": "scatter",
         "x": [
          1,
          2,
          3,
          4,
          5,
          6,
          7,
          8,
          9,
          10,
          11,
          12,
          13,
          14,
          15,
          16,
          17,
          18,
          19,
          20
         ],
         "y": [
          0.8510979229862664,
          0.9034334352646748,
          0.9116639604513672,
          0.9168440877706155,
          0.9137879842999338,
          0.922700953209537,
          0.9260994963262276,
          0.9270782641980844,
          0.9301808394234756,
          0.9322691929751428,
          0.9323258715114372,
          0.9339304573234468,
          0.9374095030214596,
          0.9386118979289616,
          0.9382063856070068,
          0.9410244856757678,
          0.942825627738032,
          0.9454891188391322,
          0.9454925882405248,
          0.9493463196973692
         ]
        },
        {
         "hovertemplate": [
          "<b>UnetPlusPlus resnet34 JaccardLoss False</b><br><br>Train IoU: %{y:.3}<br>Epochs: %{x}<br><extra></extra>"
         ],
         "name": "UnetPlusPlus resnet34 JaccardLoss False",
         "type": "scatter",
         "x": [
          1,
          2,
          3,
          4,
          5,
          6,
          7,
          8,
          9,
          10,
          11,
          12,
          13,
          14,
          15,
          16,
          17,
          18,
          19,
          20
         ],
         "y": [
          0.870727840747152,
          0.9031833326816552,
          0.9122335563387184,
          0.9182279138905656,
          0.922026681729725,
          0.9232264018058776,
          0.9222690297876088,
          0.9276749864646366,
          0.9275191753251216,
          0.9337607468877523,
          0.935536700827735,
          0.9362003776005337,
          0.9383518951279772,
          0.939880905321666,
          0.9437658856596262,
          0.9461139179979052,
          0.9474092108862744,
          0.9524024757317135,
          0.953630274023329,
          0.9554578256607056
         ]
        }
       ],
       "layout": {
        "font": {
         "size": 14
        },
        "legend": {
         "font": {
          "size": 16
         },
         "traceorder": "reversed",
         "y": 0.5
        },
        "template": {
         "data": {
          "bar": [
           {
            "error_x": {
             "color": "#2a3f5f"
            },
            "error_y": {
             "color": "#2a3f5f"
            },
            "marker": {
             "line": {
              "color": "#E5ECF6",
              "width": 0.5
             },
             "pattern": {
              "fillmode": "overlay",
              "size": 10,
              "solidity": 0.2
             }
            },
            "type": "bar"
           }
          ],
          "barpolar": [
           {
            "marker": {
             "line": {
              "color": "#E5ECF6",
              "width": 0.5
             },
             "pattern": {
              "fillmode": "overlay",
              "size": 10,
              "solidity": 0.2
             }
            },
            "type": "barpolar"
           }
          ],
          "carpet": [
           {
            "aaxis": {
             "endlinecolor": "#2a3f5f",
             "gridcolor": "white",
             "linecolor": "white",
             "minorgridcolor": "white",
             "startlinecolor": "#2a3f5f"
            },
            "baxis": {
             "endlinecolor": "#2a3f5f",
             "gridcolor": "white",
             "linecolor": "white",
             "minorgridcolor": "white",
             "startlinecolor": "#2a3f5f"
            },
            "type": "carpet"
           }
          ],
          "choropleth": [
           {
            "colorbar": {
             "outlinewidth": 0,
             "ticks": ""
            },
            "type": "choropleth"
           }
          ],
          "contour": [
           {
            "colorbar": {
             "outlinewidth": 0,
             "ticks": ""
            },
            "colorscale": [
             [
              0,
              "#0d0887"
             ],
             [
              0.1111111111111111,
              "#46039f"
             ],
             [
              0.2222222222222222,
              "#7201a8"
             ],
             [
              0.3333333333333333,
              "#9c179e"
             ],
             [
              0.4444444444444444,
              "#bd3786"
             ],
             [
              0.5555555555555556,
              "#d8576b"
             ],
             [
              0.6666666666666666,
              "#ed7953"
             ],
             [
              0.7777777777777778,
              "#fb9f3a"
             ],
             [
              0.8888888888888888,
              "#fdca26"
             ],
             [
              1,
              "#f0f921"
             ]
            ],
            "type": "contour"
           }
          ],
          "contourcarpet": [
           {
            "colorbar": {
             "outlinewidth": 0,
             "ticks": ""
            },
            "type": "contourcarpet"
           }
          ],
          "heatmap": [
           {
            "colorbar": {
             "outlinewidth": 0,
             "ticks": ""
            },
            "colorscale": [
             [
              0,
              "#0d0887"
             ],
             [
              0.1111111111111111,
              "#46039f"
             ],
             [
              0.2222222222222222,
              "#7201a8"
             ],
             [
              0.3333333333333333,
              "#9c179e"
             ],
             [
              0.4444444444444444,
              "#bd3786"
             ],
             [
              0.5555555555555556,
              "#d8576b"
             ],
             [
              0.6666666666666666,
              "#ed7953"
             ],
             [
              0.7777777777777778,
              "#fb9f3a"
             ],
             [
              0.8888888888888888,
              "#fdca26"
             ],
             [
              1,
              "#f0f921"
             ]
            ],
            "type": "heatmap"
           }
          ],
          "heatmapgl": [
           {
            "colorbar": {
             "outlinewidth": 0,
             "ticks": ""
            },
            "colorscale": [
             [
              0,
              "#0d0887"
             ],
             [
              0.1111111111111111,
              "#46039f"
             ],
             [
              0.2222222222222222,
              "#7201a8"
             ],
             [
              0.3333333333333333,
              "#9c179e"
             ],
             [
              0.4444444444444444,
              "#bd3786"
             ],
             [
              0.5555555555555556,
              "#d8576b"
             ],
             [
              0.6666666666666666,
              "#ed7953"
             ],
             [
              0.7777777777777778,
              "#fb9f3a"
             ],
             [
              0.8888888888888888,
              "#fdca26"
             ],
             [
              1,
              "#f0f921"
             ]
            ],
            "type": "heatmapgl"
           }
          ],
          "histogram": [
           {
            "marker": {
             "pattern": {
              "fillmode": "overlay",
              "size": 10,
              "solidity": 0.2
             }
            },
            "type": "histogram"
           }
          ],
          "histogram2d": [
           {
            "colorbar": {
             "outlinewidth": 0,
             "ticks": ""
            },
            "colorscale": [
             [
              0,
              "#0d0887"
             ],
             [
              0.1111111111111111,
              "#46039f"
             ],
             [
              0.2222222222222222,
              "#7201a8"
             ],
             [
              0.3333333333333333,
              "#9c179e"
             ],
             [
              0.4444444444444444,
              "#bd3786"
             ],
             [
              0.5555555555555556,
              "#d8576b"
             ],
             [
              0.6666666666666666,
              "#ed7953"
             ],
             [
              0.7777777777777778,
              "#fb9f3a"
             ],
             [
              0.8888888888888888,
              "#fdca26"
             ],
             [
              1,
              "#f0f921"
             ]
            ],
            "type": "histogram2d"
           }
          ],
          "histogram2dcontour": [
           {
            "colorbar": {
             "outlinewidth": 0,
             "ticks": ""
            },
            "colorscale": [
             [
              0,
              "#0d0887"
             ],
             [
              0.1111111111111111,
              "#46039f"
             ],
             [
              0.2222222222222222,
              "#7201a8"
             ],
             [
              0.3333333333333333,
              "#9c179e"
             ],
             [
              0.4444444444444444,
              "#bd3786"
             ],
             [
              0.5555555555555556,
              "#d8576b"
             ],
             [
              0.6666666666666666,
              "#ed7953"
             ],
             [
              0.7777777777777778,
              "#fb9f3a"
             ],
             [
              0.8888888888888888,
              "#fdca26"
             ],
             [
              1,
              "#f0f921"
             ]
            ],
            "type": "histogram2dcontour"
           }
          ],
          "mesh3d": [
           {
            "colorbar": {
             "outlinewidth": 0,
             "ticks": ""
            },
            "type": "mesh3d"
           }
          ],
          "parcoords": [
           {
            "line": {
             "colorbar": {
              "outlinewidth": 0,
              "ticks": ""
             }
            },
            "type": "parcoords"
           }
          ],
          "pie": [
           {
            "automargin": true,
            "type": "pie"
           }
          ],
          "scatter": [
           {
            "fillpattern": {
             "fillmode": "overlay",
             "size": 10,
             "solidity": 0.2
            },
            "type": "scatter"
           }
          ],
          "scatter3d": [
           {
            "line": {
             "colorbar": {
              "outlinewidth": 0,
              "ticks": ""
             }
            },
            "marker": {
             "colorbar": {
              "outlinewidth": 0,
              "ticks": ""
             }
            },
            "type": "scatter3d"
           }
          ],
          "scattercarpet": [
           {
            "marker": {
             "colorbar": {
              "outlinewidth": 0,
              "ticks": ""
             }
            },
            "type": "scattercarpet"
           }
          ],
          "scattergeo": [
           {
            "marker": {
             "colorbar": {
              "outlinewidth": 0,
              "ticks": ""
             }
            },
            "type": "scattergeo"
           }
          ],
          "scattergl": [
           {
            "marker": {
             "colorbar": {
              "outlinewidth": 0,
              "ticks": ""
             }
            },
            "type": "scattergl"
           }
          ],
          "scattermapbox": [
           {
            "marker": {
             "colorbar": {
              "outlinewidth": 0,
              "ticks": ""
             }
            },
            "type": "scattermapbox"
           }
          ],
          "scatterpolar": [
           {
            "marker": {
             "colorbar": {
              "outlinewidth": 0,
              "ticks": ""
             }
            },
            "type": "scatterpolar"
           }
          ],
          "scatterpolargl": [
           {
            "marker": {
             "colorbar": {
              "outlinewidth": 0,
              "ticks": ""
             }
            },
            "type": "scatterpolargl"
           }
          ],
          "scatterternary": [
           {
            "marker": {
             "colorbar": {
              "outlinewidth": 0,
              "ticks": ""
             }
            },
            "type": "scatterternary"
           }
          ],
          "surface": [
           {
            "colorbar": {
             "outlinewidth": 0,
             "ticks": ""
            },
            "colorscale": [
             [
              0,
              "#0d0887"
             ],
             [
              0.1111111111111111,
              "#46039f"
             ],
             [
              0.2222222222222222,
              "#7201a8"
             ],
             [
              0.3333333333333333,
              "#9c179e"
             ],
             [
              0.4444444444444444,
              "#bd3786"
             ],
             [
              0.5555555555555556,
              "#d8576b"
             ],
             [
              0.6666666666666666,
              "#ed7953"
             ],
             [
              0.7777777777777778,
              "#fb9f3a"
             ],
             [
              0.8888888888888888,
              "#fdca26"
             ],
             [
              1,
              "#f0f921"
             ]
            ],
            "type": "surface"
           }
          ],
          "table": [
           {
            "cells": {
             "fill": {
              "color": "#EBF0F8"
             },
             "line": {
              "color": "white"
             }
            },
            "header": {
             "fill": {
              "color": "#C8D4E3"
             },
             "line": {
              "color": "white"
             }
            },
            "type": "table"
           }
          ]
         },
         "layout": {
          "annotationdefaults": {
           "arrowcolor": "#2a3f5f",
           "arrowhead": 0,
           "arrowwidth": 1
          },
          "autotypenumbers": "strict",
          "coloraxis": {
           "colorbar": {
            "outlinewidth": 0,
            "ticks": ""
           }
          },
          "colorscale": {
           "diverging": [
            [
             0,
             "#8e0152"
            ],
            [
             0.1,
             "#c51b7d"
            ],
            [
             0.2,
             "#de77ae"
            ],
            [
             0.3,
             "#f1b6da"
            ],
            [
             0.4,
             "#fde0ef"
            ],
            [
             0.5,
             "#f7f7f7"
            ],
            [
             0.6,
             "#e6f5d0"
            ],
            [
             0.7,
             "#b8e186"
            ],
            [
             0.8,
             "#7fbc41"
            ],
            [
             0.9,
             "#4d9221"
            ],
            [
             1,
             "#276419"
            ]
           ],
           "sequential": [
            [
             0,
             "#0d0887"
            ],
            [
             0.1111111111111111,
             "#46039f"
            ],
            [
             0.2222222222222222,
             "#7201a8"
            ],
            [
             0.3333333333333333,
             "#9c179e"
            ],
            [
             0.4444444444444444,
             "#bd3786"
            ],
            [
             0.5555555555555556,
             "#d8576b"
            ],
            [
             0.6666666666666666,
             "#ed7953"
            ],
            [
             0.7777777777777778,
             "#fb9f3a"
            ],
            [
             0.8888888888888888,
             "#fdca26"
            ],
            [
             1,
             "#f0f921"
            ]
           ],
           "sequentialminus": [
            [
             0,
             "#0d0887"
            ],
            [
             0.1111111111111111,
             "#46039f"
            ],
            [
             0.2222222222222222,
             "#7201a8"
            ],
            [
             0.3333333333333333,
             "#9c179e"
            ],
            [
             0.4444444444444444,
             "#bd3786"
            ],
            [
             0.5555555555555556,
             "#d8576b"
            ],
            [
             0.6666666666666666,
             "#ed7953"
            ],
            [
             0.7777777777777778,
             "#fb9f3a"
            ],
            [
             0.8888888888888888,
             "#fdca26"
            ],
            [
             1,
             "#f0f921"
            ]
           ]
          },
          "colorway": [
           "#636efa",
           "#EF553B",
           "#00cc96",
           "#ab63fa",
           "#FFA15A",
           "#19d3f3",
           "#FF6692",
           "#B6E880",
           "#FF97FF",
           "#FECB52"
          ],
          "font": {
           "color": "#2a3f5f"
          },
          "geo": {
           "bgcolor": "white",
           "lakecolor": "white",
           "landcolor": "#E5ECF6",
           "showlakes": true,
           "showland": true,
           "subunitcolor": "white"
          },
          "hoverlabel": {
           "align": "left"
          },
          "hovermode": "closest",
          "mapbox": {
           "style": "light"
          },
          "paper_bgcolor": "white",
          "plot_bgcolor": "#E5ECF6",
          "polar": {
           "angularaxis": {
            "gridcolor": "white",
            "linecolor": "white",
            "ticks": ""
           },
           "bgcolor": "#E5ECF6",
           "radialaxis": {
            "gridcolor": "white",
            "linecolor": "white",
            "ticks": ""
           }
          },
          "scene": {
           "xaxis": {
            "backgroundcolor": "#E5ECF6",
            "gridcolor": "white",
            "gridwidth": 2,
            "linecolor": "white",
            "showbackground": true,
            "ticks": "",
            "zerolinecolor": "white"
           },
           "yaxis": {
            "backgroundcolor": "#E5ECF6",
            "gridcolor": "white",
            "gridwidth": 2,
            "linecolor": "white",
            "showbackground": true,
            "ticks": "",
            "zerolinecolor": "white"
           },
           "zaxis": {
            "backgroundcolor": "#E5ECF6",
            "gridcolor": "white",
            "gridwidth": 2,
            "linecolor": "white",
            "showbackground": true,
            "ticks": "",
            "zerolinecolor": "white"
           }
          },
          "shapedefaults": {
           "line": {
            "color": "#2a3f5f"
           }
          },
          "ternary": {
           "aaxis": {
            "gridcolor": "white",
            "linecolor": "white",
            "ticks": ""
           },
           "baxis": {
            "gridcolor": "white",
            "linecolor": "white",
            "ticks": ""
           },
           "bgcolor": "#E5ECF6",
           "caxis": {
            "gridcolor": "white",
            "linecolor": "white",
            "ticks": ""
           }
          },
          "title": {
           "x": 0.05
          },
          "xaxis": {
           "automargin": true,
           "gridcolor": "white",
           "linecolor": "white",
           "ticks": "",
           "title": {
            "standoff": 15
           },
           "zerolinecolor": "white",
           "zerolinewidth": 2
          },
          "yaxis": {
           "automargin": true,
           "gridcolor": "white",
           "linecolor": "white",
           "ticks": "",
           "title": {
            "standoff": 15
           },
           "zerolinecolor": "white",
           "zerolinewidth": 2
          }
         }
        },
        "title": {
         "text": "Train IoU - (Architecture Encoder Loss)"
        },
        "xaxis": {
         "title": {
          "text": "Epochs"
         }
        },
        "yaxis": {
         "title": {
          "text": "IoU"
         }
        }
       }
      }
     },
     "metadata": {},
     "output_type": "display_data"
    },
    {
     "data": {
      "application/vnd.plotly.v1+json": {
       "config": {
        "plotlyServerURL": "https://plot.ly"
       },
       "data": [
        {
         "hovertemplate": [
          "<b>DeepLabV3Plus resnet101 JaccardLoss False</b><br><br>Val IoU: %{y:.3}<br>Epochs: %{x}<br><extra></extra>"
         ],
         "name": "DeepLabV3Plus resnet101 JaccardLoss False",
         "type": "scatter",
         "x": [
          1,
          2,
          3,
          4,
          5,
          6,
          7,
          8,
          9,
          10,
          11,
          12,
          13,
          14,
          15,
          16,
          17,
          18,
          19,
          20
         ],
         "y": [
          0.9115666818618774,
          0.906915729045868,
          0.9169868862628936,
          0.9242831635475158,
          0.9313901150226592,
          0.934827389717102,
          0.9356349682807922,
          0.9113761782646178,
          0.9343420302867887,
          0.9354435408115388,
          0.937854324579239,
          0.9176925110816953,
          0.938606494665146,
          0.923864382505417,
          0.935240708589554,
          0.9438615906238552,
          0.932825982570648,
          0.9001400649547577,
          0.9284982538223268,
          0.9326755821704864
         ]
        },
        {
         "hovertemplate": [
          "<b>DeepLabV3Plus resnet34 JaccardLoss False</b><br><br>Val IoU: %{y:.3}<br>Epochs: %{x}<br><extra></extra>"
         ],
         "name": "DeepLabV3Plus resnet34 JaccardLoss False",
         "type": "scatter",
         "x": [
          1,
          2,
          3,
          4,
          5,
          6,
          7,
          8,
          9,
          10,
          11,
          12,
          13,
          14,
          15,
          16,
          17,
          18,
          19,
          20,
          1,
          2,
          3,
          4,
          5,
          6,
          7,
          8,
          9,
          10,
          11,
          12,
          13,
          14,
          15,
          16,
          17,
          18,
          19,
          20
         ],
         "y": [
          0.8699085182613797,
          0.921064168214798,
          0.9285142090585498,
          0.9305874076154496,
          0.9342906475067138,
          0.9350408514340718,
          0.938738140794966,
          0.9422361685170068,
          0.9384379585584004,
          0.945322980483373,
          0.9486696554554834,
          0.9443976514869268,
          0.946115834845437,
          0.9477430846956042,
          0.948295729027854,
          0.9514535897307926,
          0.9532919228076936,
          0.9517386986149684,
          0.952640884452396,
          0.953061646885342,
          0.9135085479418436,
          0.935511202017466,
          0.9364166541894274,
          0.9405407587687172,
          0.9450705047448472,
          0.942855316003164,
          0.9488360567887628,
          0.9461949344476064,
          0.9365094872315726,
          0.9516069285074868,
          0.9530549637476606,
          0.9530618508656822,
          0.9573741920789082,
          0.9557988278071088,
          0.9564530483881628,
          0.9568384071191148,
          0.9542913858095808,
          0.9588673067092892,
          0.9597197453180952,
          0.9586425944169368
         ]
        },
        {
         "hovertemplate": [
          "<b>FPN resnet34 JaccardLoss False</b><br><br>Val IoU: %{y:.3}<br>Epochs: %{x}<br><extra></extra>"
         ],
         "name": "FPN resnet34 JaccardLoss False",
         "type": "scatter",
         "x": [
          1,
          2,
          3,
          4,
          5,
          6,
          7,
          8,
          9,
          10,
          11,
          12,
          13,
          14,
          15,
          16,
          17,
          18,
          19,
          20
         ],
         "y": [
          0.9215000808238984,
          0.9221107025941208,
          0.9135384921232854,
          0.9256177655855812,
          0.9313730053106944,
          0.9352507376670834,
          0.9390793200333916,
          0.9325366814931232,
          0.9407191689809156,
          0.9427953191598254,
          0.941806488831838,
          0.9445820033550264,
          0.9432810771465304,
          0.94539120554924,
          0.9445244387785594,
          0.9459811969598132,
          0.949311168988546,
          0.9481357284386952,
          0.945544013182322,
          0.9481145977973944
         ]
        },
        {
         "hovertemplate": [
          "<b>Linknet resnet34 JaccardLoss False</b><br><br>Val IoU: %{y:.3}<br>Epochs: %{x}<br><extra></extra>"
         ],
         "name": "Linknet resnet34 JaccardLoss False",
         "type": "scatter",
         "x": [
          1,
          2,
          3,
          4,
          5,
          6,
          7,
          8,
          9,
          10,
          11,
          12,
          13,
          14,
          15,
          16,
          17,
          18,
          19,
          20
         ],
         "y": [
          0.8985666020711263,
          0.9156002291043598,
          0.9138840623696644,
          0.9222100893656414,
          0.9183584531148272,
          0.9250936134656268,
          0.9272390802701316,
          0.9289799320697788,
          0.9253321683406824,
          0.929958120187124,
          0.9290635434786478,
          0.9340467079480488,
          0.9329562699794766,
          0.9331920019785566,
          0.9314884340763092,
          0.9313989325364436,
          0.933484304348628,
          0.9329079178969066,
          0.932784005006154,
          0.9342795924345648
         ]
        },
        {
         "hovertemplate": [
          "<b>MAnet resnet34 JaccardLoss False</b><br><br>Val IoU: %{y:.3}<br>Epochs: %{x}<br><extra></extra>"
         ],
         "name": "MAnet resnet34 JaccardLoss False",
         "type": "scatter",
         "x": [
          1,
          2,
          3,
          4,
          5,
          6,
          7,
          8,
          9,
          10,
          11,
          12,
          13,
          14,
          15,
          16,
          17,
          18,
          19,
          20
         ],
         "y": [
          0.8889020217789544,
          0.9030968878004286,
          0.8789508905675676,
          0.9024835593170588,
          0.914976911412345,
          0.9157074656751422,
          0.9188452064990996,
          0.9120360712210338,
          0.9242572552627988,
          0.9259009990427232,
          0.9262210395601064,
          0.9174787435266706,
          0.9235077069865332,
          0.9274577067957984,
          0.9280900524722204,
          0.9295878012975056,
          0.9305667049354978,
          0.9303898645771872,
          0.931612835990058,
          0.9209310710430144
         ]
        },
        {
         "hovertemplate": [
          "<b>PAN resnet34 JaccardLoss False</b><br><br>Val IoU: %{y:.3}<br>Epochs: %{x}<br><extra></extra>"
         ],
         "name": "PAN resnet34 JaccardLoss False",
         "type": "scatter",
         "x": [
          1,
          2,
          3,
          4,
          5,
          6,
          7,
          8,
          9,
          10,
          11,
          12,
          13,
          14,
          15,
          16,
          17,
          18,
          19,
          20
         ],
         "y": [
          0.896350555949741,
          0.9124202595816718,
          0.9151504966947768,
          0.9075745575957828,
          0.9211322532759773,
          0.9198912978172302,
          0.9196068048477172,
          0.9245117240481908,
          0.9243601626820036,
          0.9269678658909268,
          0.915544331073761,
          0.9237617949644724,
          0.929864721165763,
          0.9255199035008748,
          0.9298188090324404,
          0.9298511975341374,
          0.9297349154949188,
          0.9217424028449588,
          0.9213968382941352,
          0.936990910106235
         ]
        },
        {
         "hovertemplate": [
          "<b>PSPNet resnet34 JaccardLoss False</b><br><br>Val IoU: %{y:.3}<br>Epochs: %{x}<br><extra></extra>"
         ],
         "name": "PSPNet resnet34 JaccardLoss False",
         "type": "scatter",
         "x": [
          1,
          2,
          3,
          4,
          5,
          6,
          7,
          8,
          9,
          10,
          11,
          12,
          13,
          14,
          15,
          16,
          17,
          18,
          19,
          20
         ],
         "y": [
          0.9019003311793008,
          0.9159261153803931,
          0.908935546875,
          0.9276343683401744,
          0.927622805039088,
          0.9218371146255068,
          0.9304483632246652,
          0.9300589660803475,
          0.920460045337677,
          0.9323049419456058,
          0.9220801956123776,
          0.934987915886773,
          0.9341182112693788,
          0.9253194630146028,
          0.9383614361286164,
          0.9229493902789224,
          0.9379196796152328,
          0.9343461162514156,
          0.935573332839542,
          0.9353380037678612
         ]
        },
        {
         "hovertemplate": [
          "<b>Unet resnet34 JaccardLoss False</b><br><br>Val IoU: %{y:.3}<br>Epochs: %{x}<br><extra></extra>"
         ],
         "name": "Unet resnet34 JaccardLoss False",
         "type": "scatter",
         "x": [
          1,
          2,
          3,
          4,
          5,
          6,
          7,
          8,
          9,
          10,
          11,
          12,
          13,
          14,
          15,
          16,
          17,
          18,
          19,
          20
         ],
         "y": [
          0.8766072856055366,
          0.9059621691703796,
          0.9158223138915168,
          0.913525640964508,
          0.9137155181831784,
          0.9198173383871716,
          0.9189405507511564,
          0.9232205914126502,
          0.9242468045817482,
          0.926936215824551,
          0.92287610967954,
          0.9267517626285552,
          0.9252837399641672,
          0.9250970648394692,
          0.9293723702430724,
          0.927843557463752,
          0.9283263948228624,
          0.9277715020709568,
          0.9283252093527052,
          0.9253643254439036
         ]
        },
        {
         "hovertemplate": [
          "<b>UnetPlusPlus resnet34 JaccardLoss False</b><br><br>Val IoU: %{y:.3}<br>Epochs: %{x}<br><extra></extra>"
         ],
         "name": "UnetPlusPlus resnet34 JaccardLoss False",
         "type": "scatter",
         "x": [
          1,
          2,
          3,
          4,
          5,
          6,
          7,
          8,
          9,
          10,
          11,
          12,
          13,
          14,
          15,
          16,
          17,
          18,
          19,
          20
         ],
         "y": [
          0.8848438135782879,
          0.8585998805363971,
          0.8937574195861815,
          0.8872376656532286,
          0.8923552076021833,
          0.8929945206642155,
          0.8481993202368422,
          0.8854107733567553,
          0.8860817853609718,
          0.903254350821177,
          0.9139190944035848,
          0.9091696842511494,
          0.8775627279281616,
          0.894404296875,
          0.9087414367993673,
          0.8837078511714932,
          0.905868507226308,
          0.8992611662546794,
          0.8836607142289481,
          0.905126891930898
         ]
        }
       ],
       "layout": {
        "font": {
         "size": 14
        },
        "legend": {
         "font": {
          "size": 16
         },
         "traceorder": "reversed",
         "y": 0.5
        },
        "template": {
         "data": {
          "bar": [
           {
            "error_x": {
             "color": "#2a3f5f"
            },
            "error_y": {
             "color": "#2a3f5f"
            },
            "marker": {
             "line": {
              "color": "#E5ECF6",
              "width": 0.5
             },
             "pattern": {
              "fillmode": "overlay",
              "size": 10,
              "solidity": 0.2
             }
            },
            "type": "bar"
           }
          ],
          "barpolar": [
           {
            "marker": {
             "line": {
              "color": "#E5ECF6",
              "width": 0.5
             },
             "pattern": {
              "fillmode": "overlay",
              "size": 10,
              "solidity": 0.2
             }
            },
            "type": "barpolar"
           }
          ],
          "carpet": [
           {
            "aaxis": {
             "endlinecolor": "#2a3f5f",
             "gridcolor": "white",
             "linecolor": "white",
             "minorgridcolor": "white",
             "startlinecolor": "#2a3f5f"
            },
            "baxis": {
             "endlinecolor": "#2a3f5f",
             "gridcolor": "white",
             "linecolor": "white",
             "minorgridcolor": "white",
             "startlinecolor": "#2a3f5f"
            },
            "type": "carpet"
           }
          ],
          "choropleth": [
           {
            "colorbar": {
             "outlinewidth": 0,
             "ticks": ""
            },
            "type": "choropleth"
           }
          ],
          "contour": [
           {
            "colorbar": {
             "outlinewidth": 0,
             "ticks": ""
            },
            "colorscale": [
             [
              0,
              "#0d0887"
             ],
             [
              0.1111111111111111,
              "#46039f"
             ],
             [
              0.2222222222222222,
              "#7201a8"
             ],
             [
              0.3333333333333333,
              "#9c179e"
             ],
             [
              0.4444444444444444,
              "#bd3786"
             ],
             [
              0.5555555555555556,
              "#d8576b"
             ],
             [
              0.6666666666666666,
              "#ed7953"
             ],
             [
              0.7777777777777778,
              "#fb9f3a"
             ],
             [
              0.8888888888888888,
              "#fdca26"
             ],
             [
              1,
              "#f0f921"
             ]
            ],
            "type": "contour"
           }
          ],
          "contourcarpet": [
           {
            "colorbar": {
             "outlinewidth": 0,
             "ticks": ""
            },
            "type": "contourcarpet"
           }
          ],
          "heatmap": [
           {
            "colorbar": {
             "outlinewidth": 0,
             "ticks": ""
            },
            "colorscale": [
             [
              0,
              "#0d0887"
             ],
             [
              0.1111111111111111,
              "#46039f"
             ],
             [
              0.2222222222222222,
              "#7201a8"
             ],
             [
              0.3333333333333333,
              "#9c179e"
             ],
             [
              0.4444444444444444,
              "#bd3786"
             ],
             [
              0.5555555555555556,
              "#d8576b"
             ],
             [
              0.6666666666666666,
              "#ed7953"
             ],
             [
              0.7777777777777778,
              "#fb9f3a"
             ],
             [
              0.8888888888888888,
              "#fdca26"
             ],
             [
              1,
              "#f0f921"
             ]
            ],
            "type": "heatmap"
           }
          ],
          "heatmapgl": [
           {
            "colorbar": {
             "outlinewidth": 0,
             "ticks": ""
            },
            "colorscale": [
             [
              0,
              "#0d0887"
             ],
             [
              0.1111111111111111,
              "#46039f"
             ],
             [
              0.2222222222222222,
              "#7201a8"
             ],
             [
              0.3333333333333333,
              "#9c179e"
             ],
             [
              0.4444444444444444,
              "#bd3786"
             ],
             [
              0.5555555555555556,
              "#d8576b"
             ],
             [
              0.6666666666666666,
              "#ed7953"
             ],
             [
              0.7777777777777778,
              "#fb9f3a"
             ],
             [
              0.8888888888888888,
              "#fdca26"
             ],
             [
              1,
              "#f0f921"
             ]
            ],
            "type": "heatmapgl"
           }
          ],
          "histogram": [
           {
            "marker": {
             "pattern": {
              "fillmode": "overlay",
              "size": 10,
              "solidity": 0.2
             }
            },
            "type": "histogram"
           }
          ],
          "histogram2d": [
           {
            "colorbar": {
             "outlinewidth": 0,
             "ticks": ""
            },
            "colorscale": [
             [
              0,
              "#0d0887"
             ],
             [
              0.1111111111111111,
              "#46039f"
             ],
             [
              0.2222222222222222,
              "#7201a8"
             ],
             [
              0.3333333333333333,
              "#9c179e"
             ],
             [
              0.4444444444444444,
              "#bd3786"
             ],
             [
              0.5555555555555556,
              "#d8576b"
             ],
             [
              0.6666666666666666,
              "#ed7953"
             ],
             [
              0.7777777777777778,
              "#fb9f3a"
             ],
             [
              0.8888888888888888,
              "#fdca26"
             ],
             [
              1,
              "#f0f921"
             ]
            ],
            "type": "histogram2d"
           }
          ],
          "histogram2dcontour": [
           {
            "colorbar": {
             "outlinewidth": 0,
             "ticks": ""
            },
            "colorscale": [
             [
              0,
              "#0d0887"
             ],
             [
              0.1111111111111111,
              "#46039f"
             ],
             [
              0.2222222222222222,
              "#7201a8"
             ],
             [
              0.3333333333333333,
              "#9c179e"
             ],
             [
              0.4444444444444444,
              "#bd3786"
             ],
             [
              0.5555555555555556,
              "#d8576b"
             ],
             [
              0.6666666666666666,
              "#ed7953"
             ],
             [
              0.7777777777777778,
              "#fb9f3a"
             ],
             [
              0.8888888888888888,
              "#fdca26"
             ],
             [
              1,
              "#f0f921"
             ]
            ],
            "type": "histogram2dcontour"
           }
          ],
          "mesh3d": [
           {
            "colorbar": {
             "outlinewidth": 0,
             "ticks": ""
            },
            "type": "mesh3d"
           }
          ],
          "parcoords": [
           {
            "line": {
             "colorbar": {
              "outlinewidth": 0,
              "ticks": ""
             }
            },
            "type": "parcoords"
           }
          ],
          "pie": [
           {
            "automargin": true,
            "type": "pie"
           }
          ],
          "scatter": [
           {
            "fillpattern": {
             "fillmode": "overlay",
             "size": 10,
             "solidity": 0.2
            },
            "type": "scatter"
           }
          ],
          "scatter3d": [
           {
            "line": {
             "colorbar": {
              "outlinewidth": 0,
              "ticks": ""
             }
            },
            "marker": {
             "colorbar": {
              "outlinewidth": 0,
              "ticks": ""
             }
            },
            "type": "scatter3d"
           }
          ],
          "scattercarpet": [
           {
            "marker": {
             "colorbar": {
              "outlinewidth": 0,
              "ticks": ""
             }
            },
            "type": "scattercarpet"
           }
          ],
          "scattergeo": [
           {
            "marker": {
             "colorbar": {
              "outlinewidth": 0,
              "ticks": ""
             }
            },
            "type": "scattergeo"
           }
          ],
          "scattergl": [
           {
            "marker": {
             "colorbar": {
              "outlinewidth": 0,
              "ticks": ""
             }
            },
            "type": "scattergl"
           }
          ],
          "scattermapbox": [
           {
            "marker": {
             "colorbar": {
              "outlinewidth": 0,
              "ticks": ""
             }
            },
            "type": "scattermapbox"
           }
          ],
          "scatterpolar": [
           {
            "marker": {
             "colorbar": {
              "outlinewidth": 0,
              "ticks": ""
             }
            },
            "type": "scatterpolar"
           }
          ],
          "scatterpolargl": [
           {
            "marker": {
             "colorbar": {
              "outlinewidth": 0,
              "ticks": ""
             }
            },
            "type": "scatterpolargl"
           }
          ],
          "scatterternary": [
           {
            "marker": {
             "colorbar": {
              "outlinewidth": 0,
              "ticks": ""
             }
            },
            "type": "scatterternary"
           }
          ],
          "surface": [
           {
            "colorbar": {
             "outlinewidth": 0,
             "ticks": ""
            },
            "colorscale": [
             [
              0,
              "#0d0887"
             ],
             [
              0.1111111111111111,
              "#46039f"
             ],
             [
              0.2222222222222222,
              "#7201a8"
             ],
             [
              0.3333333333333333,
              "#9c179e"
             ],
             [
              0.4444444444444444,
              "#bd3786"
             ],
             [
              0.5555555555555556,
              "#d8576b"
             ],
             [
              0.6666666666666666,
              "#ed7953"
             ],
             [
              0.7777777777777778,
              "#fb9f3a"
             ],
             [
              0.8888888888888888,
              "#fdca26"
             ],
             [
              1,
              "#f0f921"
             ]
            ],
            "type": "surface"
           }
          ],
          "table": [
           {
            "cells": {
             "fill": {
              "color": "#EBF0F8"
             },
             "line": {
              "color": "white"
             }
            },
            "header": {
             "fill": {
              "color": "#C8D4E3"
             },
             "line": {
              "color": "white"
             }
            },
            "type": "table"
           }
          ]
         },
         "layout": {
          "annotationdefaults": {
           "arrowcolor": "#2a3f5f",
           "arrowhead": 0,
           "arrowwidth": 1
          },
          "autotypenumbers": "strict",
          "coloraxis": {
           "colorbar": {
            "outlinewidth": 0,
            "ticks": ""
           }
          },
          "colorscale": {
           "diverging": [
            [
             0,
             "#8e0152"
            ],
            [
             0.1,
             "#c51b7d"
            ],
            [
             0.2,
             "#de77ae"
            ],
            [
             0.3,
             "#f1b6da"
            ],
            [
             0.4,
             "#fde0ef"
            ],
            [
             0.5,
             "#f7f7f7"
            ],
            [
             0.6,
             "#e6f5d0"
            ],
            [
             0.7,
             "#b8e186"
            ],
            [
             0.8,
             "#7fbc41"
            ],
            [
             0.9,
             "#4d9221"
            ],
            [
             1,
             "#276419"
            ]
           ],
           "sequential": [
            [
             0,
             "#0d0887"
            ],
            [
             0.1111111111111111,
             "#46039f"
            ],
            [
             0.2222222222222222,
             "#7201a8"
            ],
            [
             0.3333333333333333,
             "#9c179e"
            ],
            [
             0.4444444444444444,
             "#bd3786"
            ],
            [
             0.5555555555555556,
             "#d8576b"
            ],
            [
             0.6666666666666666,
             "#ed7953"
            ],
            [
             0.7777777777777778,
             "#fb9f3a"
            ],
            [
             0.8888888888888888,
             "#fdca26"
            ],
            [
             1,
             "#f0f921"
            ]
           ],
           "sequentialminus": [
            [
             0,
             "#0d0887"
            ],
            [
             0.1111111111111111,
             "#46039f"
            ],
            [
             0.2222222222222222,
             "#7201a8"
            ],
            [
             0.3333333333333333,
             "#9c179e"
            ],
            [
             0.4444444444444444,
             "#bd3786"
            ],
            [
             0.5555555555555556,
             "#d8576b"
            ],
            [
             0.6666666666666666,
             "#ed7953"
            ],
            [
             0.7777777777777778,
             "#fb9f3a"
            ],
            [
             0.8888888888888888,
             "#fdca26"
            ],
            [
             1,
             "#f0f921"
            ]
           ]
          },
          "colorway": [
           "#636efa",
           "#EF553B",
           "#00cc96",
           "#ab63fa",
           "#FFA15A",
           "#19d3f3",
           "#FF6692",
           "#B6E880",
           "#FF97FF",
           "#FECB52"
          ],
          "font": {
           "color": "#2a3f5f"
          },
          "geo": {
           "bgcolor": "white",
           "lakecolor": "white",
           "landcolor": "#E5ECF6",
           "showlakes": true,
           "showland": true,
           "subunitcolor": "white"
          },
          "hoverlabel": {
           "align": "left"
          },
          "hovermode": "closest",
          "mapbox": {
           "style": "light"
          },
          "paper_bgcolor": "white",
          "plot_bgcolor": "#E5ECF6",
          "polar": {
           "angularaxis": {
            "gridcolor": "white",
            "linecolor": "white",
            "ticks": ""
           },
           "bgcolor": "#E5ECF6",
           "radialaxis": {
            "gridcolor": "white",
            "linecolor": "white",
            "ticks": ""
           }
          },
          "scene": {
           "xaxis": {
            "backgroundcolor": "#E5ECF6",
            "gridcolor": "white",
            "gridwidth": 2,
            "linecolor": "white",
            "showbackground": true,
            "ticks": "",
            "zerolinecolor": "white"
           },
           "yaxis": {
            "backgroundcolor": "#E5ECF6",
            "gridcolor": "white",
            "gridwidth": 2,
            "linecolor": "white",
            "showbackground": true,
            "ticks": "",
            "zerolinecolor": "white"
           },
           "zaxis": {
            "backgroundcolor": "#E5ECF6",
            "gridcolor": "white",
            "gridwidth": 2,
            "linecolor": "white",
            "showbackground": true,
            "ticks": "",
            "zerolinecolor": "white"
           }
          },
          "shapedefaults": {
           "line": {
            "color": "#2a3f5f"
           }
          },
          "ternary": {
           "aaxis": {
            "gridcolor": "white",
            "linecolor": "white",
            "ticks": ""
           },
           "baxis": {
            "gridcolor": "white",
            "linecolor": "white",
            "ticks": ""
           },
           "bgcolor": "#E5ECF6",
           "caxis": {
            "gridcolor": "white",
            "linecolor": "white",
            "ticks": ""
           }
          },
          "title": {
           "x": 0.05
          },
          "xaxis": {
           "automargin": true,
           "gridcolor": "white",
           "linecolor": "white",
           "ticks": "",
           "title": {
            "standoff": 15
           },
           "zerolinecolor": "white",
           "zerolinewidth": 2
          },
          "yaxis": {
           "automargin": true,
           "gridcolor": "white",
           "linecolor": "white",
           "ticks": "",
           "title": {
            "standoff": 15
           },
           "zerolinecolor": "white",
           "zerolinewidth": 2
          }
         }
        },
        "title": {
         "text": "Val IoU - (Architecture Encoder Loss)"
        },
        "xaxis": {
         "title": {
          "text": "Epochs"
         }
        },
        "yaxis": {
         "title": {
          "text": "IoU"
         }
        }
       }
      }
     },
     "metadata": {},
     "output_type": "display_data"
    }
   ],
   "source": [
    "# Loss\n",
    "plot_data(big_df, y_volumn='train_loss', y_column_name=\"Jaccard Loss\", plot_title=\"Train loss\", filter='loss_func == \"JaccardLoss\"')\n",
    "plot_data(big_df, y_volumn='val_loss', y_column_name=\"Jaccard Loss\", plot_title=\"Val loss\", filter='loss_func == \"JaccardLoss\"')\n",
    "# IoU\n",
    "plot_data(big_df, y_volumn='train_iou_score', y_column_name=\"IoU\", plot_title=\"Train IoU\", filter='loss_func == \"JaccardLoss\"')\n",
    "plot_data(big_df, y_volumn='val_iou_score',  y_column_name= \"IoU\", plot_title=\"Val IoU\", filter='loss_func == \"JaccardLoss\"')"
   ]
  },
  {
   "cell_type": "markdown",
   "metadata": {},
   "source": [
    "# Memory consumption"
   ]
  },
  {
   "cell_type": "code",
   "execution_count": 16,
   "metadata": {},
   "outputs": [
    {
     "data": {
      "application/vnd.plotly.v1+json": {
       "config": {
        "plotlyServerURL": "https://plot.ly"
       },
       "data": [
        {
         "hovertemplate": [
          "<b>DeepLabV3Plus resnet101 JaccardLoss False</b><br><br>Val IoU vs Inference time: %{y:.3}<br>Inference time (ms): %{x}<br><extra></extra>"
         ],
         "mode": "markers",
         "name": "DeepLabV3Plus resnet101 JaccardLoss False",
         "type": "scatter",
         "x": [
          15.182820009067601
         ],
         "y": [
          0.9438615906238552
         ]
        },
        {
         "hovertemplate": [
          "<b>DeepLabV3Plus resnet34 JaccardLoss False</b><br><br>Val IoU vs Inference time: %{y:.3}<br>Inference time (ms): %{x}<br><extra></extra>"
         ],
         "mode": "markers",
         "name": "DeepLabV3Plus resnet34 JaccardLoss False",
         "type": "scatter",
         "x": [
          8.2600199966691
         ],
         "y": [
          0.952640884452396
         ]
        },
        {
         "hovertemplate": [
          "<b>FPN resnet34 JaccardLoss False</b><br><br>Val IoU vs Inference time: %{y:.3}<br>Inference time (ms): %{x}<br><extra></extra>"
         ],
         "mode": "markers",
         "name": "FPN resnet34 JaccardLoss False",
         "type": "scatter",
         "x": [
          9.8176100058481
         ],
         "y": [
          0.949311168988546
         ]
        },
        {
         "hovertemplate": [
          "<b>Linknet resnet34 JaccardLoss False</b><br><br>Val IoU vs Inference time: %{y:.3}<br>Inference time (ms): %{x}<br><extra></extra>"
         ],
         "mode": "markers",
         "name": "Linknet resnet34 JaccardLoss False",
         "type": "scatter",
         "x": [
          9.1593300108797
         ],
         "y": [
          0.9342795924345648
         ]
        },
        {
         "hovertemplate": [
          "<b>MAnet resnet34 JaccardLoss False</b><br><br>Val IoU vs Inference time: %{y:.3}<br>Inference time (ms): %{x}<br><extra></extra>"
         ],
         "mode": "markers",
         "name": "MAnet resnet34 JaccardLoss False",
         "type": "scatter",
         "x": [
          12.1095999958924
         ],
         "y": [
          0.931612835990058
         ]
        },
        {
         "hovertemplate": [
          "<b>PAN resnet34 JaccardLoss False</b><br><br>Val IoU vs Inference time: %{y:.3}<br>Inference time (ms): %{x}<br><extra></extra>"
         ],
         "mode": "markers",
         "name": "PAN resnet34 JaccardLoss False",
         "type": "scatter",
         "x": [
          9.0368999750353
         ],
         "y": [
          0.936990910106235
         ]
        },
        {
         "hovertemplate": [
          "<b>PSPNet resnet34 JaccardLoss False</b><br><br>Val IoU vs Inference time: %{y:.3}<br>Inference time (ms): %{x}<br><extra></extra>"
         ],
         "mode": "markers",
         "name": "PSPNet resnet34 JaccardLoss False",
         "type": "scatter",
         "x": [
          4.1078999987803
         ],
         "y": [
          0.9383614361286164
         ]
        },
        {
         "hovertemplate": [
          "<b>Unet resnet34 JaccardLoss False</b><br><br>Val IoU vs Inference time: %{y:.3}<br>Inference time (ms): %{x}<br><extra></extra>"
         ],
         "mode": "markers",
         "name": "Unet resnet34 JaccardLoss False",
         "type": "scatter",
         "x": [
          8.9406399754807
         ],
         "y": [
          0.9293723702430724
         ]
        },
        {
         "hovertemplate": [
          "<b>UnetPlusPlus resnet34 JaccardLoss False</b><br><br>Val IoU vs Inference time: %{y:.3}<br>Inference time (ms): %{x}<br><extra></extra>"
         ],
         "mode": "markers",
         "name": "UnetPlusPlus resnet34 JaccardLoss False",
         "type": "scatter",
         "x": [
          12.894879968371201
         ],
         "y": [
          0.9139190944035848
         ]
        }
       ],
       "layout": {
        "font": {
         "size": 14
        },
        "legend": {
         "font": {
          "size": 16
         },
         "traceorder": "reversed",
         "y": 0.5
        },
        "template": {
         "data": {
          "bar": [
           {
            "error_x": {
             "color": "#2a3f5f"
            },
            "error_y": {
             "color": "#2a3f5f"
            },
            "marker": {
             "line": {
              "color": "#E5ECF6",
              "width": 0.5
             },
             "pattern": {
              "fillmode": "overlay",
              "size": 10,
              "solidity": 0.2
             }
            },
            "type": "bar"
           }
          ],
          "barpolar": [
           {
            "marker": {
             "line": {
              "color": "#E5ECF6",
              "width": 0.5
             },
             "pattern": {
              "fillmode": "overlay",
              "size": 10,
              "solidity": 0.2
             }
            },
            "type": "barpolar"
           }
          ],
          "carpet": [
           {
            "aaxis": {
             "endlinecolor": "#2a3f5f",
             "gridcolor": "white",
             "linecolor": "white",
             "minorgridcolor": "white",
             "startlinecolor": "#2a3f5f"
            },
            "baxis": {
             "endlinecolor": "#2a3f5f",
             "gridcolor": "white",
             "linecolor": "white",
             "minorgridcolor": "white",
             "startlinecolor": "#2a3f5f"
            },
            "type": "carpet"
           }
          ],
          "choropleth": [
           {
            "colorbar": {
             "outlinewidth": 0,
             "ticks": ""
            },
            "type": "choropleth"
           }
          ],
          "contour": [
           {
            "colorbar": {
             "outlinewidth": 0,
             "ticks": ""
            },
            "colorscale": [
             [
              0,
              "#0d0887"
             ],
             [
              0.1111111111111111,
              "#46039f"
             ],
             [
              0.2222222222222222,
              "#7201a8"
             ],
             [
              0.3333333333333333,
              "#9c179e"
             ],
             [
              0.4444444444444444,
              "#bd3786"
             ],
             [
              0.5555555555555556,
              "#d8576b"
             ],
             [
              0.6666666666666666,
              "#ed7953"
             ],
             [
              0.7777777777777778,
              "#fb9f3a"
             ],
             [
              0.8888888888888888,
              "#fdca26"
             ],
             [
              1,
              "#f0f921"
             ]
            ],
            "type": "contour"
           }
          ],
          "contourcarpet": [
           {
            "colorbar": {
             "outlinewidth": 0,
             "ticks": ""
            },
            "type": "contourcarpet"
           }
          ],
          "heatmap": [
           {
            "colorbar": {
             "outlinewidth": 0,
             "ticks": ""
            },
            "colorscale": [
             [
              0,
              "#0d0887"
             ],
             [
              0.1111111111111111,
              "#46039f"
             ],
             [
              0.2222222222222222,
              "#7201a8"
             ],
             [
              0.3333333333333333,
              "#9c179e"
             ],
             [
              0.4444444444444444,
              "#bd3786"
             ],
             [
              0.5555555555555556,
              "#d8576b"
             ],
             [
              0.6666666666666666,
              "#ed7953"
             ],
             [
              0.7777777777777778,
              "#fb9f3a"
             ],
             [
              0.8888888888888888,
              "#fdca26"
             ],
             [
              1,
              "#f0f921"
             ]
            ],
            "type": "heatmap"
           }
          ],
          "heatmapgl": [
           {
            "colorbar": {
             "outlinewidth": 0,
             "ticks": ""
            },
            "colorscale": [
             [
              0,
              "#0d0887"
             ],
             [
              0.1111111111111111,
              "#46039f"
             ],
             [
              0.2222222222222222,
              "#7201a8"
             ],
             [
              0.3333333333333333,
              "#9c179e"
             ],
             [
              0.4444444444444444,
              "#bd3786"
             ],
             [
              0.5555555555555556,
              "#d8576b"
             ],
             [
              0.6666666666666666,
              "#ed7953"
             ],
             [
              0.7777777777777778,
              "#fb9f3a"
             ],
             [
              0.8888888888888888,
              "#fdca26"
             ],
             [
              1,
              "#f0f921"
             ]
            ],
            "type": "heatmapgl"
           }
          ],
          "histogram": [
           {
            "marker": {
             "pattern": {
              "fillmode": "overlay",
              "size": 10,
              "solidity": 0.2
             }
            },
            "type": "histogram"
           }
          ],
          "histogram2d": [
           {
            "colorbar": {
             "outlinewidth": 0,
             "ticks": ""
            },
            "colorscale": [
             [
              0,
              "#0d0887"
             ],
             [
              0.1111111111111111,
              "#46039f"
             ],
             [
              0.2222222222222222,
              "#7201a8"
             ],
             [
              0.3333333333333333,
              "#9c179e"
             ],
             [
              0.4444444444444444,
              "#bd3786"
             ],
             [
              0.5555555555555556,
              "#d8576b"
             ],
             [
              0.6666666666666666,
              "#ed7953"
             ],
             [
              0.7777777777777778,
              "#fb9f3a"
             ],
             [
              0.8888888888888888,
              "#fdca26"
             ],
             [
              1,
              "#f0f921"
             ]
            ],
            "type": "histogram2d"
           }
          ],
          "histogram2dcontour": [
           {
            "colorbar": {
             "outlinewidth": 0,
             "ticks": ""
            },
            "colorscale": [
             [
              0,
              "#0d0887"
             ],
             [
              0.1111111111111111,
              "#46039f"
             ],
             [
              0.2222222222222222,
              "#7201a8"
             ],
             [
              0.3333333333333333,
              "#9c179e"
             ],
             [
              0.4444444444444444,
              "#bd3786"
             ],
             [
              0.5555555555555556,
              "#d8576b"
             ],
             [
              0.6666666666666666,
              "#ed7953"
             ],
             [
              0.7777777777777778,
              "#fb9f3a"
             ],
             [
              0.8888888888888888,
              "#fdca26"
             ],
             [
              1,
              "#f0f921"
             ]
            ],
            "type": "histogram2dcontour"
           }
          ],
          "mesh3d": [
           {
            "colorbar": {
             "outlinewidth": 0,
             "ticks": ""
            },
            "type": "mesh3d"
           }
          ],
          "parcoords": [
           {
            "line": {
             "colorbar": {
              "outlinewidth": 0,
              "ticks": ""
             }
            },
            "type": "parcoords"
           }
          ],
          "pie": [
           {
            "automargin": true,
            "type": "pie"
           }
          ],
          "scatter": [
           {
            "fillpattern": {
             "fillmode": "overlay",
             "size": 10,
             "solidity": 0.2
            },
            "type": "scatter"
           }
          ],
          "scatter3d": [
           {
            "line": {
             "colorbar": {
              "outlinewidth": 0,
              "ticks": ""
             }
            },
            "marker": {
             "colorbar": {
              "outlinewidth": 0,
              "ticks": ""
             }
            },
            "type": "scatter3d"
           }
          ],
          "scattercarpet": [
           {
            "marker": {
             "colorbar": {
              "outlinewidth": 0,
              "ticks": ""
             }
            },
            "type": "scattercarpet"
           }
          ],
          "scattergeo": [
           {
            "marker": {
             "colorbar": {
              "outlinewidth": 0,
              "ticks": ""
             }
            },
            "type": "scattergeo"
           }
          ],
          "scattergl": [
           {
            "marker": {
             "colorbar": {
              "outlinewidth": 0,
              "ticks": ""
             }
            },
            "type": "scattergl"
           }
          ],
          "scattermapbox": [
           {
            "marker": {
             "colorbar": {
              "outlinewidth": 0,
              "ticks": ""
             }
            },
            "type": "scattermapbox"
           }
          ],
          "scatterpolar": [
           {
            "marker": {
             "colorbar": {
              "outlinewidth": 0,
              "ticks": ""
             }
            },
            "type": "scatterpolar"
           }
          ],
          "scatterpolargl": [
           {
            "marker": {
             "colorbar": {
              "outlinewidth": 0,
              "ticks": ""
             }
            },
            "type": "scatterpolargl"
           }
          ],
          "scatterternary": [
           {
            "marker": {
             "colorbar": {
              "outlinewidth": 0,
              "ticks": ""
             }
            },
            "type": "scatterternary"
           }
          ],
          "surface": [
           {
            "colorbar": {
             "outlinewidth": 0,
             "ticks": ""
            },
            "colorscale": [
             [
              0,
              "#0d0887"
             ],
             [
              0.1111111111111111,
              "#46039f"
             ],
             [
              0.2222222222222222,
              "#7201a8"
             ],
             [
              0.3333333333333333,
              "#9c179e"
             ],
             [
              0.4444444444444444,
              "#bd3786"
             ],
             [
              0.5555555555555556,
              "#d8576b"
             ],
             [
              0.6666666666666666,
              "#ed7953"
             ],
             [
              0.7777777777777778,
              "#fb9f3a"
             ],
             [
              0.8888888888888888,
              "#fdca26"
             ],
             [
              1,
              "#f0f921"
             ]
            ],
            "type": "surface"
           }
          ],
          "table": [
           {
            "cells": {
             "fill": {
              "color": "#EBF0F8"
             },
             "line": {
              "color": "white"
             }
            },
            "header": {
             "fill": {
              "color": "#C8D4E3"
             },
             "line": {
              "color": "white"
             }
            },
            "type": "table"
           }
          ]
         },
         "layout": {
          "annotationdefaults": {
           "arrowcolor": "#2a3f5f",
           "arrowhead": 0,
           "arrowwidth": 1
          },
          "autotypenumbers": "strict",
          "coloraxis": {
           "colorbar": {
            "outlinewidth": 0,
            "ticks": ""
           }
          },
          "colorscale": {
           "diverging": [
            [
             0,
             "#8e0152"
            ],
            [
             0.1,
             "#c51b7d"
            ],
            [
             0.2,
             "#de77ae"
            ],
            [
             0.3,
             "#f1b6da"
            ],
            [
             0.4,
             "#fde0ef"
            ],
            [
             0.5,
             "#f7f7f7"
            ],
            [
             0.6,
             "#e6f5d0"
            ],
            [
             0.7,
             "#b8e186"
            ],
            [
             0.8,
             "#7fbc41"
            ],
            [
             0.9,
             "#4d9221"
            ],
            [
             1,
             "#276419"
            ]
           ],
           "sequential": [
            [
             0,
             "#0d0887"
            ],
            [
             0.1111111111111111,
             "#46039f"
            ],
            [
             0.2222222222222222,
             "#7201a8"
            ],
            [
             0.3333333333333333,
             "#9c179e"
            ],
            [
             0.4444444444444444,
             "#bd3786"
            ],
            [
             0.5555555555555556,
             "#d8576b"
            ],
            [
             0.6666666666666666,
             "#ed7953"
            ],
            [
             0.7777777777777778,
             "#fb9f3a"
            ],
            [
             0.8888888888888888,
             "#fdca26"
            ],
            [
             1,
             "#f0f921"
            ]
           ],
           "sequentialminus": [
            [
             0,
             "#0d0887"
            ],
            [
             0.1111111111111111,
             "#46039f"
            ],
            [
             0.2222222222222222,
             "#7201a8"
            ],
            [
             0.3333333333333333,
             "#9c179e"
            ],
            [
             0.4444444444444444,
             "#bd3786"
            ],
            [
             0.5555555555555556,
             "#d8576b"
            ],
            [
             0.6666666666666666,
             "#ed7953"
            ],
            [
             0.7777777777777778,
             "#fb9f3a"
            ],
            [
             0.8888888888888888,
             "#fdca26"
            ],
            [
             1,
             "#f0f921"
            ]
           ]
          },
          "colorway": [
           "#636efa",
           "#EF553B",
           "#00cc96",
           "#ab63fa",
           "#FFA15A",
           "#19d3f3",
           "#FF6692",
           "#B6E880",
           "#FF97FF",
           "#FECB52"
          ],
          "font": {
           "color": "#2a3f5f"
          },
          "geo": {
           "bgcolor": "white",
           "lakecolor": "white",
           "landcolor": "#E5ECF6",
           "showlakes": true,
           "showland": true,
           "subunitcolor": "white"
          },
          "hoverlabel": {
           "align": "left"
          },
          "hovermode": "closest",
          "mapbox": {
           "style": "light"
          },
          "paper_bgcolor": "white",
          "plot_bgcolor": "#E5ECF6",
          "polar": {
           "angularaxis": {
            "gridcolor": "white",
            "linecolor": "white",
            "ticks": ""
           },
           "bgcolor": "#E5ECF6",
           "radialaxis": {
            "gridcolor": "white",
            "linecolor": "white",
            "ticks": ""
           }
          },
          "scene": {
           "xaxis": {
            "backgroundcolor": "#E5ECF6",
            "gridcolor": "white",
            "gridwidth": 2,
            "linecolor": "white",
            "showbackground": true,
            "ticks": "",
            "zerolinecolor": "white"
           },
           "yaxis": {
            "backgroundcolor": "#E5ECF6",
            "gridcolor": "white",
            "gridwidth": 2,
            "linecolor": "white",
            "showbackground": true,
            "ticks": "",
            "zerolinecolor": "white"
           },
           "zaxis": {
            "backgroundcolor": "#E5ECF6",
            "gridcolor": "white",
            "gridwidth": 2,
            "linecolor": "white",
            "showbackground": true,
            "ticks": "",
            "zerolinecolor": "white"
           }
          },
          "shapedefaults": {
           "line": {
            "color": "#2a3f5f"
           }
          },
          "ternary": {
           "aaxis": {
            "gridcolor": "white",
            "linecolor": "white",
            "ticks": ""
           },
           "baxis": {
            "gridcolor": "white",
            "linecolor": "white",
            "ticks": ""
           },
           "bgcolor": "#E5ECF6",
           "caxis": {
            "gridcolor": "white",
            "linecolor": "white",
            "ticks": ""
           }
          },
          "title": {
           "x": 0.05
          },
          "xaxis": {
           "automargin": true,
           "gridcolor": "white",
           "linecolor": "white",
           "ticks": "",
           "title": {
            "standoff": 15
           },
           "zerolinecolor": "white",
           "zerolinewidth": 2
          },
          "yaxis": {
           "automargin": true,
           "gridcolor": "white",
           "linecolor": "white",
           "ticks": "",
           "title": {
            "standoff": 15
           },
           "zerolinecolor": "white",
           "zerolinewidth": 2
          }
         }
        },
        "title": {
         "text": "Val IoU vs Inference time - (Architecture Encoder Loss EncoderFreeze)"
        },
        "xaxis": {
         "title": {
          "text": "Inference time (ms)"
         }
        },
        "yaxis": {
         "title": {
          "text": "Val IoU"
         }
        }
       }
      }
     },
     "metadata": {},
     "output_type": "display_data"
    },
    {
     "data": {
      "application/vnd.plotly.v1+json": {
       "config": {
        "plotlyServerURL": "https://plot.ly"
       },
       "data": [
        {
         "hovertemplate": [
          "<b>DeepLabV3Plus resnet101 JaccardLoss False</b><br><br>Val IoU vs GPU memory: %{y:.3}<br>Memory (mb): %{x}<br><extra></extra>"
         ],
         "mode": "markers",
         "name": "DeepLabV3Plus resnet101 JaccardLoss False",
         "type": "scatter",
         "x": [
          11068
         ],
         "y": [
          0.9438615906238552
         ]
        },
        {
         "hovertemplate": [
          "<b>DeepLabV3Plus resnet34 JaccardLoss False</b><br><br>Val IoU vs GPU memory: %{y:.3}<br>Memory (mb): %{x}<br><extra></extra>"
         ],
         "mode": "markers",
         "name": "DeepLabV3Plus resnet34 JaccardLoss False",
         "type": "scatter",
         "x": [
          10952
         ],
         "y": [
          0.952640884452396
         ]
        },
        {
         "hovertemplate": [
          "<b>FPN resnet34 JaccardLoss False</b><br><br>Val IoU vs GPU memory: %{y:.3}<br>Memory (mb): %{x}<br><extra></extra>"
         ],
         "mode": "markers",
         "name": "FPN resnet34 JaccardLoss False",
         "type": "scatter",
         "x": [
          3190
         ],
         "y": [
          0.949311168988546
         ]
        },
        {
         "hovertemplate": [
          "<b>Linknet resnet34 JaccardLoss False</b><br><br>Val IoU vs GPU memory: %{y:.3}<br>Memory (mb): %{x}<br><extra></extra>"
         ],
         "mode": "markers",
         "name": "Linknet resnet34 JaccardLoss False",
         "type": "scatter",
         "x": [
          3860
         ],
         "y": [
          0.9342795924345648
         ]
        },
        {
         "hovertemplate": [
          "<b>MAnet resnet34 JaccardLoss False</b><br><br>Val IoU vs GPU memory: %{y:.3}<br>Memory (mb): %{x}<br><extra></extra>"
         ],
         "mode": "markers",
         "name": "MAnet resnet34 JaccardLoss False",
         "type": "scatter",
         "x": [
          17128
         ],
         "y": [
          0.931612835990058
         ]
        },
        {
         "hovertemplate": [
          "<b>PAN resnet34 JaccardLoss False</b><br><br>Val IoU vs GPU memory: %{y:.3}<br>Memory (mb): %{x}<br><extra></extra>"
         ],
         "mode": "markers",
         "name": "PAN resnet34 JaccardLoss False",
         "type": "scatter",
         "x": [
          7474
         ],
         "y": [
          0.936990910106235
         ]
        },
        {
         "hovertemplate": [
          "<b>PSPNet resnet34 JaccardLoss False</b><br><br>Val IoU vs GPU memory: %{y:.3}<br>Memory (mb): %{x}<br><extra></extra>"
         ],
         "mode": "markers",
         "name": "PSPNet resnet34 JaccardLoss False",
         "type": "scatter",
         "x": [
          5840
         ],
         "y": [
          0.9383614361286164
         ]
        },
        {
         "hovertemplate": [
          "<b>Unet resnet34 JaccardLoss False</b><br><br>Val IoU vs GPU memory: %{y:.3}<br>Memory (mb): %{x}<br><extra></extra>"
         ],
         "mode": "markers",
         "name": "Unet resnet34 JaccardLoss False",
         "type": "scatter",
         "x": [
          15282
         ],
         "y": [
          0.9293723702430724
         ]
        },
        {
         "hovertemplate": [
          "<b>UnetPlusPlus resnet34 JaccardLoss False</b><br><br>Val IoU vs GPU memory: %{y:.3}<br>Memory (mb): %{x}<br><extra></extra>"
         ],
         "mode": "markers",
         "name": "UnetPlusPlus resnet34 JaccardLoss False",
         "type": "scatter",
         "x": [
          9558
         ],
         "y": [
          0.9139190944035848
         ]
        }
       ],
       "layout": {
        "font": {
         "size": 14
        },
        "legend": {
         "font": {
          "size": 16
         },
         "traceorder": "reversed",
         "y": 0.5
        },
        "template": {
         "data": {
          "bar": [
           {
            "error_x": {
             "color": "#2a3f5f"
            },
            "error_y": {
             "color": "#2a3f5f"
            },
            "marker": {
             "line": {
              "color": "#E5ECF6",
              "width": 0.5
             },
             "pattern": {
              "fillmode": "overlay",
              "size": 10,
              "solidity": 0.2
             }
            },
            "type": "bar"
           }
          ],
          "barpolar": [
           {
            "marker": {
             "line": {
              "color": "#E5ECF6",
              "width": 0.5
             },
             "pattern": {
              "fillmode": "overlay",
              "size": 10,
              "solidity": 0.2
             }
            },
            "type": "barpolar"
           }
          ],
          "carpet": [
           {
            "aaxis": {
             "endlinecolor": "#2a3f5f",
             "gridcolor": "white",
             "linecolor": "white",
             "minorgridcolor": "white",
             "startlinecolor": "#2a3f5f"
            },
            "baxis": {
             "endlinecolor": "#2a3f5f",
             "gridcolor": "white",
             "linecolor": "white",
             "minorgridcolor": "white",
             "startlinecolor": "#2a3f5f"
            },
            "type": "carpet"
           }
          ],
          "choropleth": [
           {
            "colorbar": {
             "outlinewidth": 0,
             "ticks": ""
            },
            "type": "choropleth"
           }
          ],
          "contour": [
           {
            "colorbar": {
             "outlinewidth": 0,
             "ticks": ""
            },
            "colorscale": [
             [
              0,
              "#0d0887"
             ],
             [
              0.1111111111111111,
              "#46039f"
             ],
             [
              0.2222222222222222,
              "#7201a8"
             ],
             [
              0.3333333333333333,
              "#9c179e"
             ],
             [
              0.4444444444444444,
              "#bd3786"
             ],
             [
              0.5555555555555556,
              "#d8576b"
             ],
             [
              0.6666666666666666,
              "#ed7953"
             ],
             [
              0.7777777777777778,
              "#fb9f3a"
             ],
             [
              0.8888888888888888,
              "#fdca26"
             ],
             [
              1,
              "#f0f921"
             ]
            ],
            "type": "contour"
           }
          ],
          "contourcarpet": [
           {
            "colorbar": {
             "outlinewidth": 0,
             "ticks": ""
            },
            "type": "contourcarpet"
           }
          ],
          "heatmap": [
           {
            "colorbar": {
             "outlinewidth": 0,
             "ticks": ""
            },
            "colorscale": [
             [
              0,
              "#0d0887"
             ],
             [
              0.1111111111111111,
              "#46039f"
             ],
             [
              0.2222222222222222,
              "#7201a8"
             ],
             [
              0.3333333333333333,
              "#9c179e"
             ],
             [
              0.4444444444444444,
              "#bd3786"
             ],
             [
              0.5555555555555556,
              "#d8576b"
             ],
             [
              0.6666666666666666,
              "#ed7953"
             ],
             [
              0.7777777777777778,
              "#fb9f3a"
             ],
             [
              0.8888888888888888,
              "#fdca26"
             ],
             [
              1,
              "#f0f921"
             ]
            ],
            "type": "heatmap"
           }
          ],
          "heatmapgl": [
           {
            "colorbar": {
             "outlinewidth": 0,
             "ticks": ""
            },
            "colorscale": [
             [
              0,
              "#0d0887"
             ],
             [
              0.1111111111111111,
              "#46039f"
             ],
             [
              0.2222222222222222,
              "#7201a8"
             ],
             [
              0.3333333333333333,
              "#9c179e"
             ],
             [
              0.4444444444444444,
              "#bd3786"
             ],
             [
              0.5555555555555556,
              "#d8576b"
             ],
             [
              0.6666666666666666,
              "#ed7953"
             ],
             [
              0.7777777777777778,
              "#fb9f3a"
             ],
             [
              0.8888888888888888,
              "#fdca26"
             ],
             [
              1,
              "#f0f921"
             ]
            ],
            "type": "heatmapgl"
           }
          ],
          "histogram": [
           {
            "marker": {
             "pattern": {
              "fillmode": "overlay",
              "size": 10,
              "solidity": 0.2
             }
            },
            "type": "histogram"
           }
          ],
          "histogram2d": [
           {
            "colorbar": {
             "outlinewidth": 0,
             "ticks": ""
            },
            "colorscale": [
             [
              0,
              "#0d0887"
             ],
             [
              0.1111111111111111,
              "#46039f"
             ],
             [
              0.2222222222222222,
              "#7201a8"
             ],
             [
              0.3333333333333333,
              "#9c179e"
             ],
             [
              0.4444444444444444,
              "#bd3786"
             ],
             [
              0.5555555555555556,
              "#d8576b"
             ],
             [
              0.6666666666666666,
              "#ed7953"
             ],
             [
              0.7777777777777778,
              "#fb9f3a"
             ],
             [
              0.8888888888888888,
              "#fdca26"
             ],
             [
              1,
              "#f0f921"
             ]
            ],
            "type": "histogram2d"
           }
          ],
          "histogram2dcontour": [
           {
            "colorbar": {
             "outlinewidth": 0,
             "ticks": ""
            },
            "colorscale": [
             [
              0,
              "#0d0887"
             ],
             [
              0.1111111111111111,
              "#46039f"
             ],
             [
              0.2222222222222222,
              "#7201a8"
             ],
             [
              0.3333333333333333,
              "#9c179e"
             ],
             [
              0.4444444444444444,
              "#bd3786"
             ],
             [
              0.5555555555555556,
              "#d8576b"
             ],
             [
              0.6666666666666666,
              "#ed7953"
             ],
             [
              0.7777777777777778,
              "#fb9f3a"
             ],
             [
              0.8888888888888888,
              "#fdca26"
             ],
             [
              1,
              "#f0f921"
             ]
            ],
            "type": "histogram2dcontour"
           }
          ],
          "mesh3d": [
           {
            "colorbar": {
             "outlinewidth": 0,
             "ticks": ""
            },
            "type": "mesh3d"
           }
          ],
          "parcoords": [
           {
            "line": {
             "colorbar": {
              "outlinewidth": 0,
              "ticks": ""
             }
            },
            "type": "parcoords"
           }
          ],
          "pie": [
           {
            "automargin": true,
            "type": "pie"
           }
          ],
          "scatter": [
           {
            "fillpattern": {
             "fillmode": "overlay",
             "size": 10,
             "solidity": 0.2
            },
            "type": "scatter"
           }
          ],
          "scatter3d": [
           {
            "line": {
             "colorbar": {
              "outlinewidth": 0,
              "ticks": ""
             }
            },
            "marker": {
             "colorbar": {
              "outlinewidth": 0,
              "ticks": ""
             }
            },
            "type": "scatter3d"
           }
          ],
          "scattercarpet": [
           {
            "marker": {
             "colorbar": {
              "outlinewidth": 0,
              "ticks": ""
             }
            },
            "type": "scattercarpet"
           }
          ],
          "scattergeo": [
           {
            "marker": {
             "colorbar": {
              "outlinewidth": 0,
              "ticks": ""
             }
            },
            "type": "scattergeo"
           }
          ],
          "scattergl": [
           {
            "marker": {
             "colorbar": {
              "outlinewidth": 0,
              "ticks": ""
             }
            },
            "type": "scattergl"
           }
          ],
          "scattermapbox": [
           {
            "marker": {
             "colorbar": {
              "outlinewidth": 0,
              "ticks": ""
             }
            },
            "type": "scattermapbox"
           }
          ],
          "scatterpolar": [
           {
            "marker": {
             "colorbar": {
              "outlinewidth": 0,
              "ticks": ""
             }
            },
            "type": "scatterpolar"
           }
          ],
          "scatterpolargl": [
           {
            "marker": {
             "colorbar": {
              "outlinewidth": 0,
              "ticks": ""
             }
            },
            "type": "scatterpolargl"
           }
          ],
          "scatterternary": [
           {
            "marker": {
             "colorbar": {
              "outlinewidth": 0,
              "ticks": ""
             }
            },
            "type": "scatterternary"
           }
          ],
          "surface": [
           {
            "colorbar": {
             "outlinewidth": 0,
             "ticks": ""
            },
            "colorscale": [
             [
              0,
              "#0d0887"
             ],
             [
              0.1111111111111111,
              "#46039f"
             ],
             [
              0.2222222222222222,
              "#7201a8"
             ],
             [
              0.3333333333333333,
              "#9c179e"
             ],
             [
              0.4444444444444444,
              "#bd3786"
             ],
             [
              0.5555555555555556,
              "#d8576b"
             ],
             [
              0.6666666666666666,
              "#ed7953"
             ],
             [
              0.7777777777777778,
              "#fb9f3a"
             ],
             [
              0.8888888888888888,
              "#fdca26"
             ],
             [
              1,
              "#f0f921"
             ]
            ],
            "type": "surface"
           }
          ],
          "table": [
           {
            "cells": {
             "fill": {
              "color": "#EBF0F8"
             },
             "line": {
              "color": "white"
             }
            },
            "header": {
             "fill": {
              "color": "#C8D4E3"
             },
             "line": {
              "color": "white"
             }
            },
            "type": "table"
           }
          ]
         },
         "layout": {
          "annotationdefaults": {
           "arrowcolor": "#2a3f5f",
           "arrowhead": 0,
           "arrowwidth": 1
          },
          "autotypenumbers": "strict",
          "coloraxis": {
           "colorbar": {
            "outlinewidth": 0,
            "ticks": ""
           }
          },
          "colorscale": {
           "diverging": [
            [
             0,
             "#8e0152"
            ],
            [
             0.1,
             "#c51b7d"
            ],
            [
             0.2,
             "#de77ae"
            ],
            [
             0.3,
             "#f1b6da"
            ],
            [
             0.4,
             "#fde0ef"
            ],
            [
             0.5,
             "#f7f7f7"
            ],
            [
             0.6,
             "#e6f5d0"
            ],
            [
             0.7,
             "#b8e186"
            ],
            [
             0.8,
             "#7fbc41"
            ],
            [
             0.9,
             "#4d9221"
            ],
            [
             1,
             "#276419"
            ]
           ],
           "sequential": [
            [
             0,
             "#0d0887"
            ],
            [
             0.1111111111111111,
             "#46039f"
            ],
            [
             0.2222222222222222,
             "#7201a8"
            ],
            [
             0.3333333333333333,
             "#9c179e"
            ],
            [
             0.4444444444444444,
             "#bd3786"
            ],
            [
             0.5555555555555556,
             "#d8576b"
            ],
            [
             0.6666666666666666,
             "#ed7953"
            ],
            [
             0.7777777777777778,
             "#fb9f3a"
            ],
            [
             0.8888888888888888,
             "#fdca26"
            ],
            [
             1,
             "#f0f921"
            ]
           ],
           "sequentialminus": [
            [
             0,
             "#0d0887"
            ],
            [
             0.1111111111111111,
             "#46039f"
            ],
            [
             0.2222222222222222,
             "#7201a8"
            ],
            [
             0.3333333333333333,
             "#9c179e"
            ],
            [
             0.4444444444444444,
             "#bd3786"
            ],
            [
             0.5555555555555556,
             "#d8576b"
            ],
            [
             0.6666666666666666,
             "#ed7953"
            ],
            [
             0.7777777777777778,
             "#fb9f3a"
            ],
            [
             0.8888888888888888,
             "#fdca26"
            ],
            [
             1,
             "#f0f921"
            ]
           ]
          },
          "colorway": [
           "#636efa",
           "#EF553B",
           "#00cc96",
           "#ab63fa",
           "#FFA15A",
           "#19d3f3",
           "#FF6692",
           "#B6E880",
           "#FF97FF",
           "#FECB52"
          ],
          "font": {
           "color": "#2a3f5f"
          },
          "geo": {
           "bgcolor": "white",
           "lakecolor": "white",
           "landcolor": "#E5ECF6",
           "showlakes": true,
           "showland": true,
           "subunitcolor": "white"
          },
          "hoverlabel": {
           "align": "left"
          },
          "hovermode": "closest",
          "mapbox": {
           "style": "light"
          },
          "paper_bgcolor": "white",
          "plot_bgcolor": "#E5ECF6",
          "polar": {
           "angularaxis": {
            "gridcolor": "white",
            "linecolor": "white",
            "ticks": ""
           },
           "bgcolor": "#E5ECF6",
           "radialaxis": {
            "gridcolor": "white",
            "linecolor": "white",
            "ticks": ""
           }
          },
          "scene": {
           "xaxis": {
            "backgroundcolor": "#E5ECF6",
            "gridcolor": "white",
            "gridwidth": 2,
            "linecolor": "white",
            "showbackground": true,
            "ticks": "",
            "zerolinecolor": "white"
           },
           "yaxis": {
            "backgroundcolor": "#E5ECF6",
            "gridcolor": "white",
            "gridwidth": 2,
            "linecolor": "white",
            "showbackground": true,
            "ticks": "",
            "zerolinecolor": "white"
           },
           "zaxis": {
            "backgroundcolor": "#E5ECF6",
            "gridcolor": "white",
            "gridwidth": 2,
            "linecolor": "white",
            "showbackground": true,
            "ticks": "",
            "zerolinecolor": "white"
           }
          },
          "shapedefaults": {
           "line": {
            "color": "#2a3f5f"
           }
          },
          "ternary": {
           "aaxis": {
            "gridcolor": "white",
            "linecolor": "white",
            "ticks": ""
           },
           "baxis": {
            "gridcolor": "white",
            "linecolor": "white",
            "ticks": ""
           },
           "bgcolor": "#E5ECF6",
           "caxis": {
            "gridcolor": "white",
            "linecolor": "white",
            "ticks": ""
           }
          },
          "title": {
           "x": 0.05
          },
          "xaxis": {
           "automargin": true,
           "gridcolor": "white",
           "linecolor": "white",
           "ticks": "",
           "title": {
            "standoff": 15
           },
           "zerolinecolor": "white",
           "zerolinewidth": 2
          },
          "yaxis": {
           "automargin": true,
           "gridcolor": "white",
           "linecolor": "white",
           "ticks": "",
           "title": {
            "standoff": 15
           },
           "zerolinecolor": "white",
           "zerolinewidth": 2
          }
         }
        },
        "title": {
         "text": "Val IoU vs GPU memory - (Architecture Encoder Loss EncoderFreeze)"
        },
        "xaxis": {
         "title": {
          "text": "Memory (mb)"
         }
        },
        "yaxis": {
         "title": {
          "text": "Val IoU"
         }
        }
       }
      }
     },
     "metadata": {},
     "output_type": "display_data"
    }
   ],
   "source": [
    "def plot_data_memory(big_df: pd.DataFrame, y_volumn, y_column_name, plot_title, x_column=\"index\", x_column_name=\"Epochs\", filter=None):\n",
    "    fig = go.Figure()\n",
    "    big_df_copy = big_df.copy(deep=True)\n",
    "    if filter != None:\n",
    "        big_df_copy.query(filter, inplace=True)\n",
    "    # for f in image_files_FINAL:\n",
    "    for data in big_df_copy.groupby(['architecture', 'encoder', 'loss_func', 'freeze_encoder']):\n",
    "        architecture, encoder, loss, freeze = data[0]\n",
    "        df: pd.DataFrame = data[1]\n",
    "        max_row = df.iloc[df['val_iou_score'].idxmax()]\n",
    "\n",
    "        hovertemplate=f\"<b>{architecture} {encoder} {loss} {freeze}</b><br><br>\" + \\\n",
    "                        f\"{plot_title}\"+\": %{y:.3}<br>\" + \\\n",
    "                        f\"{x_column_name}\"+\": %{x}<br>\" + \\\n",
    "                        \"<extra></extra>\",\n",
    "        \n",
    "        fig.add_trace(go.Scatter(x=[max_row[x_column]], y=[max_row[y_volumn]], name=f\"{architecture} {encoder} {loss} {freeze}\", hovertemplate=hovertemplate, mode='markers')) # \n",
    "        \n",
    "    # fig.update_traces(hoverinfo='text+name', mode='lines+markers')\n",
    "    fig.update_layout(legend=dict(y=0.5, traceorder='reversed', font_size=16))\n",
    "    fig.update_layout(\n",
    "        title=f\"{plot_title} - (Architecture Encoder Loss EncoderFreeze)\",\n",
    "        # title=\"Training loss - (Architecture Encoder Loss)\",\n",
    "        xaxis_title=x_column_name,\n",
    "        yaxis_title=y_column_name,\n",
    "            font=dict(\n",
    "            size=14,\n",
    "        )\n",
    "    )\n",
    "    # fig.update_layout(hovermode=\"x unified\")\n",
    "    fig.show()\n",
    "\n",
    "# plot_data_memory(big_df, y_volumn='train_iou_score', y_column_name=\"IoU\", x_column=\"memory_used\", x_column_name=\"Memory (mb)\", plot_title=\"Train IoU\")\n",
    "big_df_copy = big_df.copy(deep=True)\n",
    "big_df_copy['inference_time'] = big_df_copy['inference_time']*1000\n",
    "plot_data_memory(big_df_copy, y_volumn='val_iou_score', y_column_name=\"Val IoU\", x_column=\"inference_time\", x_column_name=\"Inference time (ms)\", plot_title=\"Val IoU vs Inference time\")\n",
    "plot_data_memory(big_df, y_volumn='val_iou_score', y_column_name=\"Val IoU\", x_column=\"memory_used\", x_column_name=\"Memory (mb)\", plot_title=\"Val IoU vs GPU memory\")"
   ]
  }
 ],
 "metadata": {
  "kernelspec": {
   "display_name": "detectron2",
   "language": "python",
   "name": "python3"
  },
  "language_info": {
   "codemirror_mode": {
    "name": "ipython",
    "version": 3
   },
   "file_extension": ".py",
   "mimetype": "text/x-python",
   "name": "python",
   "nbconvert_exporter": "python",
   "pygments_lexer": "ipython3",
   "version": "3.10.13"
  }
 },
 "nbformat": 4,
 "nbformat_minor": 2
}
