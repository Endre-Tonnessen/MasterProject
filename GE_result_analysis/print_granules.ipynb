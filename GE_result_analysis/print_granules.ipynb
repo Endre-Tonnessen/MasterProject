{
 "cells": [
  {
   "cell_type": "markdown",
   "metadata": {},
   "source": [
    "# Creates granule images based on .csv, .ims file and fourier.h5 file "
   ]
  },
  {
   "cell_type": "code",
   "execution_count": 1,
   "metadata": {},
   "outputs": [],
   "source": [
    "import h5py\n",
    "import pandas as pd\n",
    "import os\n",
    "from shapely.geometry import Polygon\n",
    "import plotly.express as px\n",
    "import plotly.graph_objects as go\n",
    "import numpy as np\n",
    "from IPython.display import Image\n",
    "\n",
    "from helper_functions.helper_functions import get_coords, pixels_between_points\n",
    "# from dataset_creation.helper_functions.helper_functions import get_coords, pixels_between_points\n",
    "from helper_functions import frame_gen as fg\n",
    "from helper_functions.frame_gen import startVM, vmManager\n",
    "\n",
    "import matplotlib.pyplot as plt\n",
    "from matplotlib.ticker import MaxNLocator, AutoLocator\n",
    "import matplotlib.colors as mcol\n",
    "font = {'family' : 'serif',\n",
    "         'size'   : 26,\n",
    "         'serif':  'cmr10'\n",
    "         }\n",
    "plt.rc('font', **font)\n",
    "plt.rc('axes', unicode_minus=False)\n",
    "plt.rcParams.update({'font.size': 26})\n",
    "pd.options.mode.chained_assignment = None\n",
    "\n",
    "from pathlib import Path\n",
    "import pathlib\n",
    "# temp = pathlib.PosixPath\n",
    "# pathlib.PosixPath = pathlib.WindowsPath"
   ]
  },
  {
   "cell_type": "code",
   "execution_count": 5,
   "metadata": {},
   "outputs": [],
   "source": [
    "# .csv | Base file name for .ims and .h5, Frame ID, Granule ID, create plots based on these with Model prediction  \n",
    "def read_csv(base_filename):\n",
    "    \"Reads in csv with what granules to plot, their origin file, frame id, granule id.\"\n",
    "    base_csv = pd.read_csv(base_filename, index_col=0)\n",
    "    return base_csv.reset_index(drop=True)\n",
    "    # comp_df['file'] = pathlib.Path(full_path).stem "
   ]
  },
  {
   "cell_type": "code",
   "execution_count": 3,
   "metadata": {},
   "outputs": [
    {
     "name": "stdout",
     "output_type": "stream",
     "text": [
      "2019-10-31_10.50.34--NControlLongB--T1015-Broken\n",
      "['data2', 'data1']\n",
      "/Home/siv32/eto033/ims_files/2019-10-31/data1/2019-10-31_10.50.34--NControlLongB--T1015-Broken.ims\n"
     ]
    }
   ],
   "source": [
    "csv = read_csv(\"test.csv\")\n",
    "\n",
    "for i, file in enumerate(csv.groupby('file')):\n",
    "    filename = file[0]\n",
    "    data = file[1]\n",
    "    print(filename)\n",
    "\n",
    "    try:\n",
    "        # for p in ['2019-10-31', '2019-12-09', '2020-02-05']:\n",
    "            try:\n",
    "                # im_directory = \"D:\\Granule_experiment_data\\ALL_IMS\\ALL_IMS_TOGETHER\"\n",
    "                im_directory = f\"/Home/siv32/eto033/ims_files/{filename[:10]}\"\n",
    "                ims_folders = [d for d in os.listdir(im_directory) if d[:4] == \"data\"]\n",
    "                print(ims_folders)\n",
    "\n",
    "                for root, dirs, files in os.walk(im_directory):\n",
    "                    if f\"{filename}.ims\" in files:\n",
    "                        found_file = os.path.join(root, f\"{filename}.ims\")\n",
    "                        print(found_file)\n",
    "                        break\n",
    "\n",
    "                image_gen = fg.bioformatsGen(Path(found_file))\n",
    "                # next(image_gen)\n",
    "\n",
    "            except Exception as e:\n",
    "                print(e)\n",
    "                break\n",
    "\n",
    "\n",
    "        # image_analysed_results_df = pd.read_hdf(Path(f\"/Home/siv32/eto033/granule_explorer_core/experiments/ML_{filename[:10]}__1/fourier/{filename}--DEBUG.h5\"), mode=\"r\", key=\"fourier\")\n",
    "    except Exception as e:\n",
    "        print(e)\n",
    "        break\n",
    "    \n",
    "    # print(filename)\n",
    "    # print(file[1].shape)\n",
    "    # print(file[1])\n",
    "\n",
    "    break\n",
    "\n"
   ]
  },
  {
   "cell_type": "code",
   "execution_count": 4,
   "metadata": {},
   "outputs": [
    {
     "ename": "AttributeError",
     "evalue": "'NoneType' object has no attribute 'find_class'",
     "output_type": "error",
     "traceback": [
      "\u001b[0;31m---------------------------------------------------------------------------\u001b[0m",
      "\u001b[0;31mAttributeError\u001b[0m                            Traceback (most recent call last)",
      "Cell \u001b[0;32mIn[4], line 1\u001b[0m\n\u001b[0;32m----> 1\u001b[0m \u001b[38;5;28;01mfor\u001b[39;00m i, im \u001b[38;5;129;01min\u001b[39;00m \u001b[38;5;28menumerate\u001b[39m(image_gen):\n\u001b[1;32m      2\u001b[0m     \u001b[38;5;28mprint\u001b[39m(i, im)\n\u001b[1;32m      3\u001b[0m     \u001b[38;5;28;01mbreak\u001b[39;00m\n",
      "File \u001b[0;32m~/MasterProject/GE_result_analysis/helper_functions/frame_gen.py:174\u001b[0m, in \u001b[0;36mbioformatsGen\u001b[0;34m(im_path)\u001b[0m\n\u001b[1;32m    172\u001b[0m \u001b[38;5;250m\u001b[39m\u001b[38;5;124;03m\"\"\" Load an image from a bioformats file. \"\"\"\u001b[39;00m\n\u001b[1;32m    173\u001b[0m \u001b[38;5;66;03m# Get some metadata from the OMEXML data\u001b[39;00m\n\u001b[0;32m--> 174\u001b[0m md \u001b[38;5;241m=\u001b[39m \u001b[43mbf\u001b[49m\u001b[38;5;241;43m.\u001b[39;49m\u001b[43mget_omexml_metadata\u001b[49m\u001b[43m(\u001b[49m\u001b[38;5;28;43mstr\u001b[39;49m\u001b[43m(\u001b[49m\u001b[43mim_path\u001b[49m\u001b[43m)\u001b[49m\u001b[43m)\u001b[49m\n\u001b[1;32m    175\u001b[0m o \u001b[38;5;241m=\u001b[39m bf\u001b[38;5;241m.\u001b[39mOMEXML(md)\n\u001b[1;32m    177\u001b[0m \u001b[38;5;66;03m# Extract the relevant terms\u001b[39;00m\n",
      "File \u001b[0;32m~/.conda/envs/ml_training/lib/python3.9/site-packages/bioformats/formatreader.py:1019\u001b[0m, in \u001b[0;36mget_omexml_metadata\u001b[0;34m(path, url)\u001b[0m\n\u001b[1;32m   1008\u001b[0m \u001b[38;5;28;01mdef\u001b[39;00m \u001b[38;5;21mget_omexml_metadata\u001b[39m(path\u001b[38;5;241m=\u001b[39m\u001b[38;5;28;01mNone\u001b[39;00m, url\u001b[38;5;241m=\u001b[39m\u001b[38;5;28;01mNone\u001b[39;00m):\n\u001b[1;32m   1009\u001b[0m \u001b[38;5;250m    \u001b[39m\u001b[38;5;124;03m'''Read the OME metadata from a file using Bio-formats\u001b[39;00m\n\u001b[1;32m   1010\u001b[0m \n\u001b[1;32m   1011\u001b[0m \u001b[38;5;124;03m    :param path: path to the file\u001b[39;00m\n\u001b[0;32m   (...)\u001b[0m\n\u001b[1;32m   1017\u001b[0m \n\u001b[1;32m   1018\u001b[0m \u001b[38;5;124;03m    '''\u001b[39;00m\n\u001b[0;32m-> 1019\u001b[0m     \u001b[38;5;28;01mwith\u001b[39;00m \u001b[43mImageReader\u001b[49m\u001b[43m(\u001b[49m\u001b[43mpath\u001b[49m\u001b[38;5;241;43m=\u001b[39;49m\u001b[43mpath\u001b[49m\u001b[43m,\u001b[49m\u001b[43m \u001b[49m\u001b[43murl\u001b[49m\u001b[38;5;241;43m=\u001b[39;49m\u001b[43murl\u001b[49m\u001b[43m,\u001b[49m\u001b[43m \u001b[49m\u001b[43mperform_init\u001b[49m\u001b[38;5;241;43m=\u001b[39;49m\u001b[38;5;28;43;01mFalse\u001b[39;49;00m\u001b[43m)\u001b[49m \u001b[38;5;28;01mas\u001b[39;00m rdr:\n\u001b[1;32m   1020\u001b[0m         \u001b[38;5;66;03m#\u001b[39;00m\n\u001b[1;32m   1021\u001b[0m         \u001b[38;5;66;03m# Below, \"in\" is a keyword and Rhino's parser is just a little wonky I fear.\u001b[39;00m\n\u001b[1;32m   1022\u001b[0m         \u001b[38;5;66;03m#\u001b[39;00m\n\u001b[1;32m   1023\u001b[0m         \u001b[38;5;66;03m# It is critical that setGroupFiles be set to false, goodness knows\u001b[39;00m\n\u001b[1;32m   1024\u001b[0m         \u001b[38;5;66;03m# why, but if you don't the series count is wrong for flex files.\u001b[39;00m\n\u001b[1;32m   1025\u001b[0m         \u001b[38;5;66;03m#\u001b[39;00m\n\u001b[1;32m   1026\u001b[0m         script \u001b[38;5;241m=\u001b[39m \u001b[38;5;124m\"\"\"\u001b[39m\n\u001b[1;32m   1027\u001b[0m \u001b[38;5;124m        importClass(Packages.loci.common.services.ServiceFactory,\u001b[39m\n\u001b[1;32m   1028\u001b[0m \u001b[38;5;124m                    Packages.loci.formats.services.OMEXMLService,\u001b[39m\n\u001b[0;32m   (...)\u001b[0m\n\u001b[1;32m   1039\u001b[0m \u001b[38;5;124m        xml;\u001b[39m\n\u001b[1;32m   1040\u001b[0m \u001b[38;5;124m        \u001b[39m\u001b[38;5;124m\"\"\"\u001b[39m\n\u001b[1;32m   1041\u001b[0m         xml \u001b[38;5;241m=\u001b[39m jutil\u001b[38;5;241m.\u001b[39mrun_script(script, \u001b[38;5;28mdict\u001b[39m(path\u001b[38;5;241m=\u001b[39mrdr\u001b[38;5;241m.\u001b[39mpath, reader \u001b[38;5;241m=\u001b[39m rdr\u001b[38;5;241m.\u001b[39mrdr))\n",
      "File \u001b[0;32m~/.conda/envs/ml_training/lib/python3.9/site-packages/bioformats/formatreader.py:624\u001b[0m, in \u001b[0;36mImageReader.__init__\u001b[0;34m(self, path, url, perform_init)\u001b[0m\n\u001b[1;32m    618\u001b[0m \u001b[38;5;28;01mif\u001b[39;00m \u001b[38;5;129;01mnot\u001b[39;00m os\u001b[38;5;241m.\u001b[39mpath\u001b[38;5;241m.\u001b[39misfile(\u001b[38;5;28mself\u001b[39m\u001b[38;5;241m.\u001b[39mpath):\n\u001b[1;32m    619\u001b[0m     \u001b[38;5;28;01mraise\u001b[39;00m \u001b[38;5;167;01mIOError\u001b[39;00m(\n\u001b[1;32m    620\u001b[0m         errno\u001b[38;5;241m.\u001b[39mENOENT,\n\u001b[1;32m    621\u001b[0m         \u001b[38;5;124m\"\u001b[39m\u001b[38;5;124mThe file, \u001b[39m\u001b[38;5;130;01m\\\"\u001b[39;00m\u001b[38;5;132;01m%s\u001b[39;00m\u001b[38;5;130;01m\\\"\u001b[39;00m\u001b[38;5;124m, does not exist.\u001b[39m\u001b[38;5;124m\"\u001b[39m \u001b[38;5;241m%\u001b[39m path,\n\u001b[1;32m    622\u001b[0m         path)\n\u001b[0;32m--> 624\u001b[0m \u001b[38;5;28mself\u001b[39m\u001b[38;5;241m.\u001b[39mstream \u001b[38;5;241m=\u001b[39m \u001b[43mjutil\u001b[49m\u001b[38;5;241;43m.\u001b[39;49m\u001b[43mmake_instance\u001b[49m\u001b[43m(\u001b[49m\u001b[38;5;124;43m'\u001b[39;49m\u001b[38;5;124;43mloci/common/RandomAccessInputStream\u001b[39;49m\u001b[38;5;124;43m'\u001b[39;49m\u001b[43m,\u001b[49m\n\u001b[1;32m    625\u001b[0m \u001b[43m                                  \u001b[49m\u001b[38;5;124;43m'\u001b[39;49m\u001b[38;5;124;43m(Ljava/lang/String;)V\u001b[39;49m\u001b[38;5;124;43m'\u001b[39;49m\u001b[43m,\u001b[49m\n\u001b[1;32m    626\u001b[0m \u001b[43m                                  \u001b[49m\u001b[38;5;28;43mself\u001b[39;49m\u001b[38;5;241;43m.\u001b[39;49m\u001b[43mpath\u001b[49m\u001b[43m)\u001b[49m\n\u001b[1;32m    628\u001b[0m \u001b[38;5;28mself\u001b[39m\u001b[38;5;241m.\u001b[39mrdr \u001b[38;5;241m=\u001b[39m \u001b[38;5;28;01mNone\u001b[39;00m\n\u001b[1;32m    629\u001b[0m class_list \u001b[38;5;241m=\u001b[39m get_class_list()\n",
      "File \u001b[0;32m~/.conda/envs/ml_training/lib/python3.9/site-packages/javabridge/jutil.py:1717\u001b[0m, in \u001b[0;36mmake_instance\u001b[0;34m(class_name, sig, *args)\u001b[0m\n\u001b[1;32m   1706\u001b[0m \u001b[38;5;250m\u001b[39m\u001b[38;5;124;03m'''Create an instance of a class\u001b[39;00m\n\u001b[1;32m   1707\u001b[0m \u001b[38;5;124;03m\u001b[39;00m\n\u001b[1;32m   1708\u001b[0m \u001b[38;5;124;03m:param class_name: name of class in foo/bar/Baz form (not foo.bar.Baz)\u001b[39;00m\n\u001b[0;32m   (...)\u001b[0m\n\u001b[1;32m   1714\u001b[0m \n\u001b[1;32m   1715\u001b[0m \u001b[38;5;124;03m'''\u001b[39;00m\n\u001b[1;32m   1716\u001b[0m args_sig \u001b[38;5;241m=\u001b[39m split_sig(sig[\u001b[38;5;241m1\u001b[39m:sig\u001b[38;5;241m.\u001b[39mfind(\u001b[38;5;124m'\u001b[39m\u001b[38;5;124m)\u001b[39m\u001b[38;5;124m'\u001b[39m)])\n\u001b[0;32m-> 1717\u001b[0m klass \u001b[38;5;241m=\u001b[39m \u001b[43mget_env\u001b[49m\u001b[43m(\u001b[49m\u001b[43m)\u001b[49m\u001b[38;5;241;43m.\u001b[39;49m\u001b[43mfind_class\u001b[49m(class_name)\n\u001b[1;32m   1718\u001b[0m jexception \u001b[38;5;241m=\u001b[39m get_env()\u001b[38;5;241m.\u001b[39mexception_occurred()\n\u001b[1;32m   1719\u001b[0m \u001b[38;5;28;01mif\u001b[39;00m jexception \u001b[38;5;129;01mis\u001b[39;00m \u001b[38;5;129;01mnot\u001b[39;00m \u001b[38;5;28;01mNone\u001b[39;00m:\n",
      "\u001b[0;31mAttributeError\u001b[0m: 'NoneType' object has no attribute 'find_class'"
     ]
    }
   ],
   "source": [
    "for i, im in enumerate(image_gen):\n",
    "    print(i, im)\n",
    "    break"
   ]
  }
 ],
 "metadata": {
  "kernelspec": {
   "display_name": "granule_explorer",
   "language": "python",
   "name": "python3"
  },
  "language_info": {
   "codemirror_mode": {
    "name": "ipython",
    "version": 3
   },
   "file_extension": ".py",
   "mimetype": "text/x-python",
   "name": "python",
   "nbconvert_exporter": "python",
   "pygments_lexer": "ipython3",
   "version": "3.9.19"
  }
 },
 "nbformat": 4,
 "nbformat_minor": 2
}
