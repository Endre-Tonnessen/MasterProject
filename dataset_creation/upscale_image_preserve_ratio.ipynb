{
 "cells": [
  {
   "cell_type": "markdown",
   "metadata": {},
   "source": [
    "# Testing for upscaling images while keeping the original aspect ratio"
   ]
  },
  {
   "cell_type": "code",
   "execution_count": 8,
   "metadata": {},
   "outputs": [],
   "source": [
    "from PIL import Image, ImageOps\n",
    "from pathlib import Path\n",
    "import plotly.express as px\n",
    "import plotly.graph_objects as go\n",
    "from plotly.subplots import make_subplots\n",
    "import pandas as pd\n",
    "import numpy as np\n",
    "import imageio.v3 as iio\n",
    "import matplotlib.pyplot as plt\n",
    "import numpy as np\n",
    "from helper_functions.helper_functions import pixels_between_points\n",
    "import pathlib\n",
    "import platform\n",
    "plt2 = platform.system()\n",
    "if plt2 == 'Windows': pathlib.PosixPath = pathlib.WindowsPath\n",
    "import cv2\n",
    "\n",
    "from scipy.ndimage import map_coordinates"
   ]
  },
  {
   "cell_type": "code",
   "execution_count": 38,
   "metadata": {},
   "outputs": [
    {
     "name": "stdout",
     "output_type": "stream",
     "text": [
      "Size ((35, 25))\n",
      "Max scaling: ((29, 40))\n",
      "New size ((725, 1015))\n"
     ]
    },
    {
     "data": {
      "image/jpeg": "[encoded data removed]",
      "image/png": "[encoded data removed]",
      "text/plain": [
       "<PIL.PngImagePlugin.PngImageFile image mode=RGB size=25x35>"
      ]
     },
     "execution_count": 38,
     "metadata": {},
     "output_type": "execute_result"
    }
   ],
   "source": [
    "image_path = \"D:\\Master\\MasterProject\\model_creation\\images\\Tiny_not_valid_granule.png\"\n",
    "\n",
    "original_image = Image.open(image_path)\n",
    "# original_image.thumbnail(size=(1024,1024), resample=Image.Resampling.NEAREST) # Granules are greyscaled, ie heatmaps\n",
    "cutout_height, cutout_width = np.array(original_image).shape[:2]\n",
    "print(f\"Size ({cutout_height, cutout_width})\")\n",
    "MAX_SIZE = 1024\n",
    "# Calc max resize while keeping aspect ratio\n",
    "max_scale_height = int(np.floor(MAX_SIZE / cutout_height))\n",
    "max_scale_width  = int(np.floor(MAX_SIZE / cutout_width))\n",
    "scale_factor = min(max_scale_height, max_scale_width)\n",
    "\n",
    "print(f\"Max scaling: ({max_scale_height, max_scale_width})\")\n",
    "print(f\"New size ({cutout_width*scale_factor, cutout_height*scale_factor})\")\n",
    "# print(f\"New size ({cutout_width*max_scale_width, cutout_height*max_scale_height})\")\n",
    "\n",
    "upscaled_image = original_image.resize((cutout_width*scale_factor, cutout_height*scale_factor), resample=Image.Resampling.NEAREST)\n",
    "# upscaled_image = original_image.resize((cutout_width*max_scale_width, cutout_height*max_scale_height), resample=Image.Resampling.NEAREST)\n",
    "original_image"
   ]
  },
  {
   "cell_type": "code",
   "execution_count": 35,
   "metadata": {},
   "outputs": [
    {
     "name": "stdout",
     "output_type": "stream",
     "text": [
      "Final size: (1024, 1024)\n"
     ]
    }
   ],
   "source": [
    "# Pad what is left to get (1024, 1024)\n",
    "image_width, image_height = upscaled_image.size\n",
    "delta_w = MAX_SIZE - image_width\n",
    "delta_h = MAX_SIZE - image_height\n",
    "padding = (delta_w//2, delta_h//2, delta_w-(delta_w//2), delta_h-(delta_h//2))\n",
    "new_im = ImageOps.expand(upscaled_image, padding)\n",
    "new_im.save(\"D:\\Master\\MasterProject\\model_creation\\images\\BIG_not_valid_granule.png\")\n",
    "print(f\"Final size: {new_im.size}\")"
   ]
  },
  {
   "cell_type": "code",
   "execution_count": 114,
   "metadata": {},
   "outputs": [],
   "source": [
    "def scale_point_with_padding(point: np.array, crop_image: np.array, upscale) -> np.array:\n",
    "    point = np.array(point)\n",
    "    # --- Scaling values ---\n",
    "    NEW_MAX_HEIGHT, NEW_MAX_WIDTH = 1024, 1024\n",
    "    cutout_height, cutout_width = crop_image.shape[:2]\n",
    "    max_scale_height = int(np.floor(NEW_MAX_HEIGHT / cutout_height))\n",
    "    max_scale_width  = int(np.floor(NEW_MAX_WIDTH  / cutout_width))\n",
    "    scale_factor = min(max_scale_height, max_scale_width) # Max amount to scale by while keeping aspect ratio\n",
    "\n",
    "    # --- Padding values ---\n",
    "    image_width, image_height = cutout_height*scale_factor, cutout_width*scale_factor # Upscaled image shape \n",
    "    delta_w = NEW_MAX_WIDTH  - image_width\n",
    "    delta_h = NEW_MAX_HEIGHT - image_height\n",
    "\n",
    "    if upscale:\n",
    "        # --- Upscale border points ---\n",
    "        point = point * scale_factor + scale_factor / 2 - 1/2 \n",
    "        # --- Add padding offset ---\n",
    "        point[0] += delta_h // 2\n",
    "        point[1] += delta_w // 2\n",
    "    else: # Downscale instead\n",
    "        # --- Remove padding offset ---\n",
    "        point[0] -= delta_h // 2\n",
    "        point[1] -= delta_w // 2\n",
    "        # --- Downscale border points ---\n",
    "        point = (point - scale_factor / 2 + 1/2) / scale_factor \n",
    "    return point"
   ]
  },
  {
   "cell_type": "code",
   "execution_count": 124,
   "metadata": {},
   "outputs": [
    {
     "data": {
      "application/vnd.plotly.v1+json": {
       "config": {
        "plotlyServerURL": "https://plot.ly"
       },
       "data": [
        {
         "hovertemplate": "x: %{x}<br>y: %{y}<br>color: [%{z[0]}, %{z[1]}, %{z[2]}]<extra></extra>",
         "name": "0",
         "source": "data:image/png;base64,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",
         "type": "image",
         "xaxis": "x",
         "yaxis": "y"
        },
        {
         "marker": {
          "color": "black",
          "size": 10
         },
         "name": "Pixel edges",
         "showlegend": false,
         "type": "scatter",
         "x": [
          6.5
         ],
         "xaxis": "x",
         "y": [
          6.5
         ],
         "yaxis": "y"
        },
        {
         "marker": {
          "color": "black",
          "size": 10
         },
         "name": "Pixel edges",
         "showlegend": false,
         "type": "scatter",
         "x": [
          2.5
         ],
         "xaxis": "x",
         "y": [
          7.5
         ],
         "yaxis": "y"
        },
        {
         "hovertemplate": "x: %{x}<br>y: %{y}<br>color: [%{z[0]}, %{z[1]}, %{z[2]}]<extra></extra>",
         "name": "0",
         "source": "data:image/png;base64,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",
         "type": "image",
         "xaxis": "x2",
         "yaxis": "y2"
        },
        {
         "marker": {
          "color": "black",
          "size": 10
         },
         "name": "Pixel edges",
         "showlegend": false,
         "type": "scatter",
         "x": [
          351.5
         ],
         "xaxis": "x2",
         "y": [
          206.5
         ],
         "yaxis": "y2"
        },
        {
         "marker": {
          "color": "black",
          "size": 10
         },
         "name": "Pixel edges",
         "showlegend": false,
         "type": "scatter",
         "x": [
          235.5
         ],
         "xaxis": "x2",
         "y": [
          235.5
         ],
         "yaxis": "y2"
        },
        {
         "marker": {
          "color": "red",
          "size": 10
         },
         "name": "Pixel edges",
         "showlegend": false,
         "type": "scatter",
         "x": [
          2.5
         ],
         "xaxis": "x",
         "y": [
          7.5
         ],
         "yaxis": "y"
        }
       ],
       "layout": {
        "annotations": [
         {
          "font": {
           "size": 16
          },
          "showarrow": false,
          "text": "Original image",
          "x": 0.2475,
          "xanchor": "center",
          "xref": "paper",
          "y": 1,
          "yanchor": "bottom",
          "yref": "paper"
         },
         {
          "font": {
           "size": 16
          },
          "showarrow": false,
          "text": "Upscaled image",
          "x": 0.7525,
          "xanchor": "center",
          "xref": "paper",
          "y": 1,
          "yanchor": "bottom",
          "yref": "paper"
         }
        ],
        "coloraxis": {
         "showscale": false
        },
        "font": {
         "size": 11
        },
        "height": 800,
        "showlegend": true,
        "template": {
         "data": {
          "bar": [
           {
            "error_x": {
             "color": "#2a3f5f"
            },
            "error_y": {
             "color": "#2a3f5f"
            },
            "marker": {
             "line": {
              "color": "#E5ECF6",
              "width": 0.5
             },
             "pattern": {
              "fillmode": "overlay",
              "size": 10,
              "solidity": 0.2
             }
            },
            "type": "bar"
           }
          ],
          "barpolar": [
           {
            "marker": {
             "line": {
              "color": "#E5ECF6",
              "width": 0.5
             },
             "pattern": {
              "fillmode": "overlay",
              "size": 10,
              "solidity": 0.2
             }
            },
            "type": "barpolar"
           }
          ],
          "carpet": [
           {
            "aaxis": {
             "endlinecolor": "#2a3f5f",
             "gridcolor": "white",
             "linecolor": "white",
             "minorgridcolor": "white",
             "startlinecolor": "#2a3f5f"
            },
            "baxis": {
             "endlinecolor": "#2a3f5f",
             "gridcolor": "white",
             "linecolor": "white",
             "minorgridcolor": "white",
             "startlinecolor": "#2a3f5f"
            },
            "type": "carpet"
           }
          ],
          "choropleth": [
           {
            "colorbar": {
             "outlinewidth": 0,
             "ticks": ""
            },
            "type": "choropleth"
           }
          ],
          "contour": [
           {
            "colorbar": {
             "outlinewidth": 0,
             "ticks": ""
            },
            "colorscale": [
             [
              0,
              "#0d0887"
             ],
             [
              0.1111111111111111,
              "#46039f"
             ],
             [
              0.2222222222222222,
              "#7201a8"
             ],
             [
              0.3333333333333333,
              "#9c179e"
             ],
             [
              0.4444444444444444,
              "#bd3786"
             ],
             [
              0.5555555555555556,
              "#d8576b"
             ],
             [
              0.6666666666666666,
              "#ed7953"
             ],
             [
              0.7777777777777778,
              "#fb9f3a"
             ],
             [
              0.8888888888888888,
              "#fdca26"
             ],
             [
              1,
              "#f0f921"
             ]
            ],
            "type": "contour"
           }
          ],
          "contourcarpet": [
           {
            "colorbar": {
             "outlinewidth": 0,
             "ticks": ""
            },
            "type": "contourcarpet"
           }
          ],
          "heatmap": [
           {
            "colorbar": {
             "outlinewidth": 0,
             "ticks": ""
            },
            "colorscale": [
             [
              0,
              "#0d0887"
             ],
             [
              0.1111111111111111,
              "#46039f"
             ],
             [
              0.2222222222222222,
              "#7201a8"
             ],
             [
              0.3333333333333333,
              "#9c179e"
             ],
             [
              0.4444444444444444,
              "#bd3786"
             ],
             [
              0.5555555555555556,
              "#d8576b"
             ],
             [
              0.6666666666666666,
              "#ed7953"
             ],
             [
              0.7777777777777778,
              "#fb9f3a"
             ],
             [
              0.8888888888888888,
              "#fdca26"
             ],
             [
              1,
              "#f0f921"
             ]
            ],
            "type": "heatmap"
           }
          ],
          "heatmapgl": [
           {
            "colorbar": {
             "outlinewidth": 0,
             "ticks": ""
            },
            "colorscale": [
             [
              0,
              "#0d0887"
             ],
             [
              0.1111111111111111,
              "#46039f"
             ],
             [
              0.2222222222222222,
              "#7201a8"
             ],
             [
              0.3333333333333333,
              "#9c179e"
             ],
             [
              0.4444444444444444,
              "#bd3786"
             ],
             [
              0.5555555555555556,
              "#d8576b"
             ],
             [
              0.6666666666666666,
              "#ed7953"
             ],
             [
              0.7777777777777778,
              "#fb9f3a"
             ],
             [
              0.8888888888888888,
              "#fdca26"
             ],
             [
              1,
              "#f0f921"
             ]
            ],
            "type": "heatmapgl"
           }
          ],
          "histogram": [
           {
            "marker": {
             "pattern": {
              "fillmode": "overlay",
              "size": 10,
              "solidity": 0.2
             }
            },
            "type": "histogram"
           }
          ],
          "histogram2d": [
           {
            "colorbar": {
             "outlinewidth": 0,
             "ticks": ""
            },
            "colorscale": [
             [
              0,
              "#0d0887"
             ],
             [
              0.1111111111111111,
              "#46039f"
             ],
             [
              0.2222222222222222,
              "#7201a8"
             ],
             [
              0.3333333333333333,
              "#9c179e"
             ],
             [
              0.4444444444444444,
              "#bd3786"
             ],
             [
              0.5555555555555556,
              "#d8576b"
             ],
             [
              0.6666666666666666,
              "#ed7953"
             ],
             [
              0.7777777777777778,
              "#fb9f3a"
             ],
             [
              0.8888888888888888,
              "#fdca26"
             ],
             [
              1,
              "#f0f921"
             ]
            ],
            "type": "histogram2d"
           }
          ],
          "histogram2dcontour": [
           {
            "colorbar": {
             "outlinewidth": 0,
             "ticks": ""
            },
            "colorscale": [
             [
              0,
              "#0d0887"
             ],
             [
              0.1111111111111111,
              "#46039f"
             ],
             [
              0.2222222222222222,
              "#7201a8"
             ],
             [
              0.3333333333333333,
              "#9c179e"
             ],
             [
              0.4444444444444444,
              "#bd3786"
             ],
             [
              0.5555555555555556,
              "#d8576b"
             ],
             [
              0.6666666666666666,
              "#ed7953"
             ],
             [
              0.7777777777777778,
              "#fb9f3a"
             ],
             [
              0.8888888888888888,
              "#fdca26"
             ],
             [
              1,
              "#f0f921"
             ]
            ],
            "type": "histogram2dcontour"
           }
          ],
          "mesh3d": [
           {
            "colorbar": {
             "outlinewidth": 0,
             "ticks": ""
            },
            "type": "mesh3d"
           }
          ],
          "parcoords": [
           {
            "line": {
             "colorbar": {
              "outlinewidth": 0,
              "ticks": ""
             }
            },
            "type": "parcoords"
           }
          ],
          "pie": [
           {
            "automargin": true,
            "type": "pie"
           }
          ],
          "scatter": [
           {
            "fillpattern": {
             "fillmode": "overlay",
             "size": 10,
             "solidity": 0.2
            },
            "type": "scatter"
           }
          ],
          "scatter3d": [
           {
            "line": {
             "colorbar": {
              "outlinewidth": 0,
              "ticks": ""
             }
            },
            "marker": {
             "colorbar": {
              "outlinewidth": 0,
              "ticks": ""
             }
            },
            "type": "scatter3d"
           }
          ],
          "scattercarpet": [
           {
            "marker": {
             "colorbar": {
              "outlinewidth": 0,
              "ticks": ""
             }
            },
            "type": "scattercarpet"
           }
          ],
          "scattergeo": [
           {
            "marker": {
             "colorbar": {
              "outlinewidth": 0,
              "ticks": ""
             }
            },
            "type": "scattergeo"
           }
          ],
          "scattergl": [
           {
            "marker": {
             "colorbar": {
              "outlinewidth": 0,
              "ticks": ""
             }
            },
            "type": "scattergl"
           }
          ],
          "scattermapbox": [
           {
            "marker": {
             "colorbar": {
              "outlinewidth": 0,
              "ticks": ""
             }
            },
            "type": "scattermapbox"
           }
          ],
          "scatterpolar": [
           {
            "marker": {
             "colorbar": {
              "outlinewidth": 0,
              "ticks": ""
             }
            },
            "type": "scatterpolar"
           }
          ],
          "scatterpolargl": [
           {
            "marker": {
             "colorbar": {
              "outlinewidth": 0,
              "ticks": ""
             }
            },
            "type": "scatterpolargl"
           }
          ],
          "scatterternary": [
           {
            "marker": {
             "colorbar": {
              "outlinewidth": 0,
              "ticks": ""
             }
            },
            "type": "scatterternary"
           }
          ],
          "surface": [
           {
            "colorbar": {
             "outlinewidth": 0,
             "ticks": ""
            },
            "colorscale": [
             [
              0,
              "#0d0887"
             ],
             [
              0.1111111111111111,
              "#46039f"
             ],
             [
              0.2222222222222222,
              "#7201a8"
             ],
             [
              0.3333333333333333,
              "#9c179e"
             ],
             [
              0.4444444444444444,
              "#bd3786"
             ],
             [
              0.5555555555555556,
              "#d8576b"
             ],
             [
              0.6666666666666666,
              "#ed7953"
             ],
             [
              0.7777777777777778,
              "#fb9f3a"
             ],
             [
              0.8888888888888888,
              "#fdca26"
             ],
             [
              1,
              "#f0f921"
             ]
            ],
            "type": "surface"
           }
          ],
          "table": [
           {
            "cells": {
             "fill": {
              "color": "#EBF0F8"
             },
             "line": {
              "color": "white"
             }
            },
            "header": {
             "fill": {
              "color": "#C8D4E3"
             },
             "line": {
              "color": "white"
             }
            },
            "type": "table"
           }
          ]
         },
         "layout": {
          "annotationdefaults": {
           "arrowcolor": "#2a3f5f",
           "arrowhead": 0,
           "arrowwidth": 1
          },
          "autotypenumbers": "strict",
          "coloraxis": {
           "colorbar": {
            "outlinewidth": 0,
            "ticks": ""
           }
          },
          "colorscale": {
           "diverging": [
            [
             0,
             "#8e0152"
            ],
            [
             0.1,
             "#c51b7d"
            ],
            [
             0.2,
             "#de77ae"
            ],
            [
             0.3,
             "#f1b6da"
            ],
            [
             0.4,
             "#fde0ef"
            ],
            [
             0.5,
             "#f7f7f7"
            ],
            [
             0.6,
             "#e6f5d0"
            ],
            [
             0.7,
             "#b8e186"
            ],
            [
             0.8,
             "#7fbc41"
            ],
            [
             0.9,
             "#4d9221"
            ],
            [
             1,
             "#276419"
            ]
           ],
           "sequential": [
            [
             0,
             "#0d0887"
            ],
            [
             0.1111111111111111,
             "#46039f"
            ],
            [
             0.2222222222222222,
             "#7201a8"
            ],
            [
             0.3333333333333333,
             "#9c179e"
            ],
            [
             0.4444444444444444,
             "#bd3786"
            ],
            [
             0.5555555555555556,
             "#d8576b"
            ],
            [
             0.6666666666666666,
             "#ed7953"
            ],
            [
             0.7777777777777778,
             "#fb9f3a"
            ],
            [
             0.8888888888888888,
             "#fdca26"
            ],
            [
             1,
             "#f0f921"
            ]
           ],
           "sequentialminus": [
            [
             0,
             "#0d0887"
            ],
            [
             0.1111111111111111,
             "#46039f"
            ],
            [
             0.2222222222222222,
             "#7201a8"
            ],
            [
             0.3333333333333333,
             "#9c179e"
            ],
            [
             0.4444444444444444,
             "#bd3786"
            ],
            [
             0.5555555555555556,
             "#d8576b"
            ],
            [
             0.6666666666666666,
             "#ed7953"
            ],
            [
             0.7777777777777778,
             "#fb9f3a"
            ],
            [
             0.8888888888888888,
             "#fdca26"
            ],
            [
             1,
             "#f0f921"
            ]
           ]
          },
          "colorway": [
           "#636efa",
           "#EF553B",
           "#00cc96",
           "#ab63fa",
           "#FFA15A",
           "#19d3f3",
           "#FF6692",
           "#B6E880",
           "#FF97FF",
           "#FECB52"
          ],
          "font": {
           "color": "#2a3f5f"
          },
          "geo": {
           "bgcolor": "white",
           "lakecolor": "white",
           "landcolor": "#E5ECF6",
           "showlakes": true,
           "showland": true,
           "subunitcolor": "white"
          },
          "hoverlabel": {
           "align": "left"
          },
          "hovermode": "closest",
          "mapbox": {
           "style": "light"
          },
          "paper_bgcolor": "white",
          "plot_bgcolor": "#E5ECF6",
          "polar": {
           "angularaxis": {
            "gridcolor": "white",
            "linecolor": "white",
            "ticks": ""
           },
           "bgcolor": "#E5ECF6",
           "radialaxis": {
            "gridcolor": "white",
            "linecolor": "white",
            "ticks": ""
           }
          },
          "scene": {
           "xaxis": {
            "backgroundcolor": "#E5ECF6",
            "gridcolor": "white",
            "gridwidth": 2,
            "linecolor": "white",
            "showbackground": true,
            "ticks": "",
            "zerolinecolor": "white"
           },
           "yaxis": {
            "backgroundcolor": "#E5ECF6",
            "gridcolor": "white",
            "gridwidth": 2,
            "linecolor": "white",
            "showbackground": true,
            "ticks": "",
            "zerolinecolor": "white"
           },
           "zaxis": {
            "backgroundcolor": "#E5ECF6",
            "gridcolor": "white",
            "gridwidth": 2,
            "linecolor": "white",
            "showbackground": true,
            "ticks": "",
            "zerolinecolor": "white"
           }
          },
          "shapedefaults": {
           "line": {
            "color": "#2a3f5f"
           }
          },
          "ternary": {
           "aaxis": {
            "gridcolor": "white",
            "linecolor": "white",
            "ticks": ""
           },
           "baxis": {
            "gridcolor": "white",
            "linecolor": "white",
            "ticks": ""
           },
           "bgcolor": "#E5ECF6",
           "caxis": {
            "gridcolor": "white",
            "linecolor": "white",
            "ticks": ""
           }
          },
          "title": {
           "x": 0.05
          },
          "xaxis": {
           "automargin": true,
           "gridcolor": "white",
           "linecolor": "white",
           "ticks": "",
           "title": {
            "standoff": 15
           },
           "zerolinecolor": "white",
           "zerolinewidth": 2
          },
          "yaxis": {
           "automargin": true,
           "gridcolor": "white",
           "linecolor": "white",
           "ticks": "",
           "title": {
            "standoff": 15
           },
           "zerolinecolor": "white",
           "zerolinewidth": 2
          }
         }
        },
        "title": {
         "text": "",
         "x": 0.5
        },
        "width": 1400,
        "xaxis": {
         "anchor": "y",
         "domain": [
          0,
          0.495
         ]
        },
        "xaxis2": {
         "anchor": "y2",
         "domain": [
          0.505,
          1
         ]
        },
        "yaxis": {
         "anchor": "x",
         "domain": [
          0,
          1
         ]
        },
        "yaxis2": {
         "anchor": "x2",
         "domain": [
          0,
          1
         ]
        }
       }
      }
     },
     "metadata": {},
     "output_type": "display_data"
    }
   ],
   "source": [
    "fig = make_subplots(rows=1, cols=2, \n",
    "                    horizontal_spacing=0.01, \n",
    "                    vertical_spacing=0.1,\n",
    "                    subplot_titles=('Original image', f\"Upscaled image\"))\n",
    "# Add images to plot\n",
    "base_image_fig = px.imshow(original_image)\n",
    "fig.add_trace(base_image_fig.data[0], 1, 1)\n",
    "point1 = (6.5,6.5)\n",
    "point2 = (2.5,7.5)\n",
    "\n",
    "fig.add_trace(go.Scatter(x=[point1[0]], y=[point1[1]], marker=dict(color='black', size=10), name=f\"Pixel edges\", showlegend=False), row=1, col=1)\n",
    "fig.add_trace(go.Scatter(x=[point2[0]], y=[point2[1]], marker=dict(color='black', size=10), name=f\"Pixel edges\", showlegend=False), row=1, col=1)\n",
    "\n",
    "upscaled_image_fig = px.imshow(new_im)\n",
    "fig.add_trace(upscaled_image_fig.data[0], 1, 2)\n",
    "point1_up = scale_point_with_padding(point=point1, crop_image=np.array(original_image), upscale=True)\n",
    "point2_up = scale_point_with_padding(point=point2, crop_image=np.array(original_image), upscale=True)\n",
    "# ys = scale_point_with_padding(point=ys, crop_image=np.array(original_image), upscale=True)\n",
    "fig.add_trace(go.Scatter(x=[point1_up[0]], y=[point1_up[1]], marker=dict(color='black', size=10), name=f\"Pixel edges\", showlegend=False), row=1, col=2)\n",
    "fig.add_trace(go.Scatter(x=[point2_up[0]], y=[point2_up[1]], marker=dict(color='black', size=10), name=f\"Pixel edges\", showlegend=False), row=1, col=2)\n",
    "\n",
    "point2_down = scale_point_with_padding(point=point2_up, crop_image=np.array(original_image), upscale=False)\n",
    "fig.add_trace(go.Scatter(x=[point2_down[0]], y=[point2_down[1]], marker=dict(color='red', size=10), name=f\"Pixel edges\", showlegend=False), row=1, col=1)\n",
    "\n",
    "# fig.add_trace(go.Scatter(x=[2,2], y=[7,7], marker=dict(color='red', size=10), name=f\"Point\"), row=1, col=1)\n",
    "# fig.add_trace(go.Scatter(x=[2*scale_factor_x+scale_factor_x/2-0.5,2*scale_factor_x+scale_factor_x/2-0.5], y=[7*scale_factor_y+scale_factor_y/2-0.5,7*scale_factor_y+scale_factor_y/2-0.5], marker=dict(color='red', size=10), name=f\"Point\"), row=1, col=2)\n",
    "\n",
    "fig.update_layout(title_text=f\"\", title_x=0.5, width=1400, height=800, showlegend=True, font_size=11)\n",
    "fig.update(layout_coloraxis_showscale=False)\n",
    "fig.show() "
   ]
  },
  {
   "cell_type": "code",
   "execution_count": 94,
   "metadata": {},
   "outputs": [
    {
     "name": "stdout",
     "output_type": "stream",
     "text": [
      "28\n",
      "28\n",
      "337.0\n",
      "192.0\n"
     ]
    }
   ],
   "source": [
    "print(351-323)\n",
    "print(206-178)\n",
    "\n",
    "print(323+(351-323)/2)\n",
    "print(178+(206-178)/2)"
   ]
  }
 ],
 "metadata": {
  "kernelspec": {
   "display_name": "Python 3",
   "language": "python",
   "name": "python3"
  },
  "language_info": {
   "codemirror_mode": {
    "name": "ipython",
    "version": 3
   },
   "file_extension": ".py",
   "mimetype": "text/x-python",
   "name": "python",
   "nbconvert_exporter": "python",
   "pygments_lexer": "ipython3",
   "version": "3.10.13"
  }
 },
 "nbformat": 4,
 "nbformat_minor": 2
}
