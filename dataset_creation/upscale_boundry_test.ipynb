{
 "cells": [
  {
   "cell_type": "markdown",
   "metadata": {},
   "source": [
    "# Upscale testing"
   ]
  },
  {
   "cell_type": "code",
   "execution_count": 1,
   "metadata": {},
   "outputs": [],
   "source": [
    "from PIL import Image\n",
    "from pathlib import Path\n",
    "import plotly.express as px\n",
    "import plotly.graph_objects as go\n",
    "from plotly.subplots import make_subplots\n",
    "import pandas as pd\n",
    "import imageio.v3 as iio\n",
    "import matplotlib.pyplot as plt\n",
    "import numpy as np\n",
    "from helper_functions.helper_functions import pixels_between_points\n",
    "import pathlib\n",
    "import platform\n",
    "plt2 = platform.system()\n",
    "if plt2 == 'Windows': pathlib.PosixPath = pathlib.WindowsPath\n",
    "\n",
    "from scipy.ndimage import map_coordinates"
   ]
  },
  {
   "cell_type": "code",
   "execution_count": 2,
   "metadata": {},
   "outputs": [
    {
     "name": "stdout",
     "output_type": "stream",
     "text": [
      "[[0. 0. 0. 0. 0. 0. 0. 0. 0. 0.]\n",
      " [0. 0. 0. 0. 0. 0. 0. 0. 0. 0.]\n",
      " [0. 0. 1. 1. 1. 1. 1. 1. 0. 0.]\n",
      " [0. 0. 1. 0. 0. 0. 0. 1. 0. 0.]\n",
      " [0. 0. 1. 0. 0. 0. 0. 1. 0. 0.]\n",
      " [0. 0. 1. 0. 0. 0. 0. 1. 0. 0.]\n",
      " [0. 0. 1. 0. 0. 0. 0. 1. 0. 0.]\n",
      " [0. 0. 1. 1. 1. 1. 1. 1. 0. 0.]\n",
      " [0. 0. 0. 0. 0. 0. 0. 0. 0. 0.]\n",
      " [0. 0. 0. 0. 0. 0. 0. 0. 0. 0.]]\n"
     ]
    }
   ],
   "source": [
    "test_image = np.zeros((10,10))\n",
    "# Pixels\n",
    "test_image[2, 2:8] = 1\n",
    "test_image[7, 2:8] = 1\n",
    "test_image[2:7, 2] = 1\n",
    "test_image[2:7, 7] = 1\n",
    "print(test_image)\n",
    "# 400 points\n",
    "x_top = np.linspace(2,7)\n",
    "y_top = np.array([2 for _ in range(len(x_top))])\n",
    "x_bottom = np.linspace(7,2)\n",
    "y_bottom = np.array([7 for _ in range(len(x_top))])\n",
    "\n",
    "x_right = np.array([7 for _ in range(len(x_top))])\n",
    "y_right = np.linspace(2,7)\n",
    "\n",
    "x_left = np.array([2 for _ in range(len(x_top))])\n",
    "y_left = np.linspace(7,2)\n",
    "\n",
    "fourier_xs = np.concatenate(( x_left, x_top, x_right, x_bottom,)) +0.001\n",
    "fourier_ys = np.concatenate(( y_left, y_top, y_right, y_bottom,)) +0.001\n",
    "\n",
    "# Define the scaling factor \n",
    "scale_factor_x = 3\n",
    "scale_factor_y = 3\n",
    "\n",
    "fourier_xs_with_offset = fourier_xs*scale_factor_x+scale_factor_x/2-0.5\n",
    "fourier_ys_with_offset = fourier_ys*scale_factor_y+scale_factor_y/2-0.5"
   ]
  },
  {
   "cell_type": "markdown",
   "metadata": {},
   "source": [
    "\n",
    "\n",
    "Use the get_pixels_between() on the upscaled image using different border scaled differently. Plot and print image to see which pixels are grabbed.\n",
    "Visually verify the new pixel border an see if it lines up correctly in the printout."
   ]
  },
  {
   "cell_type": "code",
   "execution_count": 3,
   "metadata": {},
   "outputs": [],
   "source": [
    "def gridlines(image: np.ndarray):\n",
    "    xs = []\n",
    "    ys = []\n",
    "    for x in range(image.shape[1]):\n",
    "        # x=0\n",
    "        xs += [x-0.5, x-0.5, None]\n",
    "        ys += [-0.5, image.shape[0]-0.5, None]\n",
    "    for x in range(image.shape[0]):\n",
    "        # y=0\n",
    "        ys += [x-0.5, x-0.5, None]\n",
    "        xs += [-0.5, image.shape[1]-0.5, None]\n",
    "    return xs,ys"
   ]
  },
  {
   "cell_type": "markdown",
   "metadata": {},
   "source": [
    "# Proving the offset is necessary\n",
    "\n",
    "Granule explorer uses `map_coordinates()` from scipy on granule images. This method treats pixel coordinates as their 'center'. Therfore we need to add the offset when scaling the border.\n",
    "Write about this in the thesis. Could not find any information about this on the internet??"
   ]
  },
  {
   "cell_type": "code",
   "execution_count": 4,
   "metadata": {},
   "outputs": [],
   "source": [
    "# map_coordinates() uses pixels as integer centered. This means any value sampled +- 1/2 from the integer coordinate will be the same as the same.\n",
    "# Had map_coordinates() instead treated them as 'corner integered' a different value would have been returned when we deviate from the coordinate in the minus direction.\n",
    "assert map_coordinates(test_image, [[1.9],[1.9]], order=0) == np.array([1]), \"At this position the value is expected to be 1.\"\n",
    "assert map_coordinates(test_image, [[0],[0]], order=0) == np.array([0]), \"At this position the value is expected to be 0.\""
   ]
  },
  {
   "cell_type": "code",
   "execution_count": 5,
   "metadata": {},
   "outputs": [],
   "source": [
    "# original_image = Image.fromarray(test_image)\n",
    "\n",
    "# # Get the size of the original image\n",
    "# original_width, original_height = original_image.size\n",
    "# # Calculate the new size of the image after upscaling\n",
    "# new_width = original_width * scale_factor\n",
    "# new_height = original_height * scale_factor\n",
    "# # Resize the image using the new size\n",
    "# upscaled_image_box = np.array(original_image.resize((new_width, new_height), Image.Resampling.NEAREST))        \n",
    "\n",
    "# fig = make_subplots(rows=1, cols=1, \n",
    "#                     horizontal_spacing=0.01, \n",
    "#                     vertical_spacing=0.1,\n",
    "#                     subplot_titles=('Original image', f\"Upscaled image s={scale_factor}\"))\n",
    "# # Add images to plot\n",
    "# base_image_fig = px.imshow(test_image)\n",
    "# fig.add_trace(base_image_fig.data[0], 1, 1)\n",
    "# xs, ys = gridlines(test_image)\n",
    "# fig.add_trace(go.Scatter(x=xs, y=ys, marker=dict(color='black', size=1), name=f\"Pixel edges\", showlegend=False), row=1, col=1)\n",
    "\n",
    "# zi = map_coordinates(original_image, [[1.9],[1.9]], order=0)\n",
    "# print(zi)\n",
    "# fig.add_trace(go.Scatter(x=[2,2], y=[7,7], marker=dict(color='red', size=10), name=f\"Point\"), row=1, col=1)\n",
    "\n",
    "# fig.update_layout(title_text=f\"\", title_x=0.5, width=1400, height=800, showlegend=True, font_size=11)\n",
    "# fig.update(layout_coloraxis_showscale=False)\n",
    "# # fig.show()"
   ]
  },
  {
   "cell_type": "code",
   "execution_count": 9,
   "metadata": {},
   "outputs": [
    {
     "data": {
      "application/vnd.plotly.v1+json": {
       "config": {
        "plotlyServerURL": "https://plot.ly"
       },
       "data": [
        {
         "coloraxis": "coloraxis",
         "hovertemplate": "x: %{x}<br>y: %{y}<br>color: %{z}<extra></extra>",
         "name": "0",
         "type": "heatmap",
         "xaxis": "x",
         "yaxis": "y",
         "z": [
          [
           0,
           0,
           0,
           0,
           0,
           0,
           0,
           0,
           0,
           0
          ],
          [
           0,
           0,
           0,
           0,
           0,
           0,
           0,
           0,
           0,
           0
          ],
          [
           0,
           0,
           1,
           1,
           1,
           1,
           1,
           1,
           0,
           0
          ],
          [
           0,
           0,
           1,
           0,
           0,
           0,
           0,
           1,
           0,
           0
          ],
          [
           0,
           0,
           1,
           0,
           0,
           0,
           0,
           1,
           0,
           0
          ],
          [
           0,
           0,
           1,
           0,
           0,
           0,
           0,
           1,
           0,
           0
          ],
          [
           0,
           0,
           1,
           0,
           0,
           0,
           0,
           1,
           0,
           0
          ],
          [
           0,
           0,
           1,
           1,
           1,
           1,
           1,
           1,
           0,
           0
          ],
          [
           0,
           0,
           0,
           0,
           0,
           0,
           0,
           0,
           0,
           0
          ],
          [
           0,
           0,
           0,
           0,
           0,
           0,
           0,
           0,
           0,
           0
          ]
         ]
        },
        {
         "marker": {
          "color": "black",
          "size": 1
         },
         "name": "Pixel edges",
         "showlegend": false,
         "type": "scatter",
         "x": [
          -0.5,
          -0.5,
          null,
          0.5,
          0.5,
          null,
          1.5,
          1.5,
          null,
          2.5,
          2.5,
          null,
          3.5,
          3.5,
          null,
          4.5,
          4.5,
          null,
          5.5,
          5.5,
          null,
          6.5,
          6.5,
          null,
          7.5,
          7.5,
          null,
          8.5,
          8.5,
          null,
          -0.5,
          9.5,
          null,
          -0.5,
          9.5,
          null,
          -0.5,
          9.5,
          null,
          -0.5,
          9.5,
          null,
          -0.5,
          9.5,
          null,
          -0.5,
          9.5,
          null,
          -0.5,
          9.5,
          null,
          -0.5,
          9.5,
          null,
          -0.5,
          9.5,
          null,
          -0.5,
          9.5,
          null
         ],
         "xaxis": "x",
         "y": [
          -0.5,
          9.5,
          null,
          -0.5,
          9.5,
          null,
          -0.5,
          9.5,
          null,
          -0.5,
          9.5,
          null,
          -0.5,
          9.5,
          null,
          -0.5,
          9.5,
          null,
          -0.5,
          9.5,
          null,
          -0.5,
          9.5,
          null,
          -0.5,
          9.5,
          null,
          -0.5,
          9.5,
          null,
          -0.5,
          -0.5,
          null,
          0.5,
          0.5,
          null,
          1.5,
          1.5,
          null,
          2.5,
          2.5,
          null,
          3.5,
          3.5,
          null,
          4.5,
          4.5,
          null,
          5.5,
          5.5,
          null,
          6.5,
          6.5,
          null,
          7.5,
          7.5,
          null,
          8.5,
          8.5,
          null
         ],
         "yaxis": "y"
        },
        {
         "coloraxis": "coloraxis",
         "hovertemplate": "x: %{x}<br>y: %{y}<br>color: %{z}<extra></extra>",
         "name": "0",
         "type": "heatmap",
         "xaxis": "x2",
         "yaxis": "y2",
         "z": [
          [
           0,
           0,
           0,
           0,
           0,
           0,
           0,
           0,
           0,
           0,
           0,
           0,
           0,
           0,
           0,
           0,
           0,
           0,
           0,
           0,
           0,
           0,
           0,
           0,
           0,
           0,
           0,
           0,
           0,
           0
          ],
          [
           0,
           0,
           0,
           0,
           0,
           0,
           0,
           0,
           0,
           0,
           0,
           0,
           0,
           0,
           0,
           0,
           0,
           0,
           0,
           0,
           0,
           0,
           0,
           0,
           0,
           0,
           0,
           0,
           0,
           0
          ],
          [
           0,
           0,
           0,
           0,
           0,
           0,
           0,
           0,
           0,
           0,
           0,
           0,
           0,
           0,
           0,
           0,
           0,
           0,
           0,
           0,
           0,
           0,
           0,
           0,
           0,
           0,
           0,
           0,
           0,
           0
          ],
          [
           0,
           0,
           0,
           0,
           0,
           0,
           0,
           0,
           0,
           0,
           0,
           0,
           0,
           0,
           0,
           0,
           0,
           0,
           0,
           0,
           0,
           0,
           0,
           0,
           0,
           0,
           0,
           0,
           0,
           0
          ],
          [
           0,
           0,
           0,
           0,
           0,
           0,
           0,
           0,
           0,
           0,
           0,
           0,
           0,
           0,
           0,
           0,
           0,
           0,
           0,
           0,
           0,
           0,
           0,
           0,
           0,
           0,
           0,
           0,
           0,
           0
          ],
          [
           0,
           0,
           0,
           0,
           0,
           0,
           0,
           0,
           0,
           0,
           0,
           0,
           0,
           0,
           0,
           0,
           0,
           0,
           0,
           0,
           0,
           0,
           0,
           0,
           0,
           0,
           0,
           0,
           0,
           0
          ],
          [
           0,
           0,
           0,
           0,
           0,
           0,
           1,
           1,
           1,
           1,
           1,
           1,
           1,
           1,
           1,
           1,
           1,
           1,
           1,
           1,
           1,
           1,
           1,
           1,
           0,
           0,
           0,
           0,
           0,
           0
          ],
          [
           0,
           0,
           0,
           0,
           0,
           0,
           1,
           1,
           1,
           1,
           1,
           1,
           1,
           1,
           1,
           1,
           1,
           1,
           1,
           1,
           1,
           1,
           1,
           1,
           0,
           0,
           0,
           0,
           0,
           0
          ],
          [
           0,
           0,
           0,
           0,
           0,
           0,
           1,
           1,
           1,
           1,
           1,
           1,
           1,
           1,
           1,
           1,
           1,
           1,
           1,
           1,
           1,
           1,
           1,
           1,
           0,
           0,
           0,
           0,
           0,
           0
          ],
          [
           0,
           0,
           0,
           0,
           0,
           0,
           1,
           1,
           1,
           0,
           0,
           0,
           0,
           0,
           0,
           0,
           0,
           0,
           0,
           0,
           0,
           1,
           1,
           1,
           0,
           0,
           0,
           0,
           0,
           0
          ],
          [
           0,
           0,
           0,
           0,
           0,
           0,
           1,
           1,
           1,
           0,
           0,
           0,
           0,
           0,
           0,
           0,
           0,
           0,
           0,
           0,
           0,
           1,
           1,
           1,
           0,
           0,
           0,
           0,
           0,
           0
          ],
          [
           0,
           0,
           0,
           0,
           0,
           0,
           1,
           1,
           1,
           0,
           0,
           0,
           0,
           0,
           0,
           0,
           0,
           0,
           0,
           0,
           0,
           1,
           1,
           1,
           0,
           0,
           0,
           0,
           0,
           0
          ],
          [
           0,
           0,
           0,
           0,
           0,
           0,
           1,
           1,
           1,
           0,
           0,
           0,
           0,
           0,
           0,
           0,
           0,
           0,
           0,
           0,
           0,
           1,
           1,
           1,
           0,
           0,
           0,
           0,
           0,
           0
          ],
          [
           0,
           0,
           0,
           0,
           0,
           0,
           1,
           1,
           1,
           0,
           0,
           0,
           0,
           0,
           0,
           0,
           0,
           0,
           0,
           0,
           0,
           1,
           1,
           1,
           0,
           0,
           0,
           0,
           0,
           0
          ],
          [
           0,
           0,
           0,
           0,
           0,
           0,
           1,
           1,
           1,
           0,
           0,
           0,
           0,
           0,
           0,
           0,
           0,
           0,
           0,
           0,
           0,
           1,
           1,
           1,
           0,
           0,
           0,
           0,
           0,
           0
          ],
          [
           0,
           0,
           0,
           0,
           0,
           0,
           1,
           1,
           1,
           0,
           0,
           0,
           0,
           0,
           0,
           0,
           0,
           0,
           0,
           0,
           0,
           1,
           1,
           1,
           0,
           0,
           0,
           0,
           0,
           0
          ],
          [
           0,
           0,
           0,
           0,
           0,
           0,
           1,
           1,
           1,
           0,
           0,
           0,
           0,
           0,
           0,
           0,
           0,
           0,
           0,
           0,
           0,
           1,
           1,
           1,
           0,
           0,
           0,
           0,
           0,
           0
          ],
          [
           0,
           0,
           0,
           0,
           0,
           0,
           1,
           1,
           1,
           0,
           0,
           0,
           0,
           0,
           0,
           0,
           0,
           0,
           0,
           0,
           0,
           1,
           1,
           1,
           0,
           0,
           0,
           0,
           0,
           0
          ],
          [
           0,
           0,
           0,
           0,
           0,
           0,
           1,
           1,
           1,
           0,
           0,
           0,
           0,
           0,
           0,
           0,
           0,
           0,
           0,
           0,
           0,
           1,
           1,
           1,
           0,
           0,
           0,
           0,
           0,
           0
          ],
          [
           0,
           0,
           0,
           0,
           0,
           0,
           1,
           1,
           1,
           0,
           0,
           0,
           0,
           0,
           0,
           0,
           0,
           0,
           0,
           0,
           0,
           1,
           1,
           1,
           0,
           0,
           0,
           0,
           0,
           0
          ],
          [
           0,
           0,
           0,
           0,
           0,
           0,
           1,
           1,
           1,
           0,
           0,
           0,
           0,
           0,
           0,
           0,
           0,
           0,
           0,
           0,
           0,
           1,
           1,
           1,
           0,
           0,
           0,
           0,
           0,
           0
          ],
          [
           0,
           0,
           0,
           0,
           0,
           0,
           1,
           1,
           1,
           1,
           1,
           1,
           1,
           1,
           1,
           1,
           1,
           1,
           1,
           1,
           1,
           1,
           1,
           1,
           0,
           0,
           0,
           0,
           0,
           0
          ],
          [
           0,
           0,
           0,
           0,
           0,
           0,
           1,
           1,
           1,
           1,
           1,
           1,
           1,
           1,
           1,
           1,
           1,
           1,
           1,
           1,
           1,
           1,
           1,
           1,
           0,
           0,
           0,
           0,
           0,
           0
          ],
          [
           0,
           0,
           0,
           0,
           0,
           0,
           1,
           1,
           1,
           1,
           1,
           1,
           1,
           1,
           1,
           1,
           1,
           1,
           1,
           1,
           1,
           1,
           1,
           1,
           0,
           0,
           0,
           0,
           0,
           0
          ],
          [
           0,
           0,
           0,
           0,
           0,
           0,
           0,
           0,
           0,
           0,
           0,
           0,
           0,
           0,
           0,
           0,
           0,
           0,
           0,
           0,
           0,
           0,
           0,
           0,
           0,
           0,
           0,
           0,
           0,
           0
          ],
          [
           0,
           0,
           0,
           0,
           0,
           0,
           0,
           0,
           0,
           0,
           0,
           0,
           0,
           0,
           0,
           0,
           0,
           0,
           0,
           0,
           0,
           0,
           0,
           0,
           0,
           0,
           0,
           0,
           0,
           0
          ],
          [
           0,
           0,
           0,
           0,
           0,
           0,
           0,
           0,
           0,
           0,
           0,
           0,
           0,
           0,
           0,
           0,
           0,
           0,
           0,
           0,
           0,
           0,
           0,
           0,
           0,
           0,
           0,
           0,
           0,
           0
          ],
          [
           0,
           0,
           0,
           0,
           0,
           0,
           0,
           0,
           0,
           0,
           0,
           0,
           0,
           0,
           0,
           0,
           0,
           0,
           0,
           0,
           0,
           0,
           0,
           0,
           0,
           0,
           0,
           0,
           0,
           0
          ],
          [
           0,
           0,
           0,
           0,
           0,
           0,
           0,
           0,
           0,
           0,
           0,
           0,
           0,
           0,
           0,
           0,
           0,
           0,
           0,
           0,
           0,
           0,
           0,
           0,
           0,
           0,
           0,
           0,
           0,
           0
          ],
          [
           0,
           0,
           0,
           0,
           0,
           0,
           0,
           0,
           0,
           0,
           0,
           0,
           0,
           0,
           0,
           0,
           0,
           0,
           0,
           0,
           0,
           0,
           0,
           0,
           0,
           0,
           0,
           0,
           0,
           0
          ]
         ]
        },
        {
         "marker": {
          "color": "black",
          "size": 1
         },
         "name": "Pixel edges",
         "showlegend": false,
         "type": "scatter",
         "x": [
          -0.5,
          -0.5,
          null,
          0.5,
          0.5,
          null,
          1.5,
          1.5,
          null,
          2.5,
          2.5,
          null,
          3.5,
          3.5,
          null,
          4.5,
          4.5,
          null,
          5.5,
          5.5,
          null,
          6.5,
          6.5,
          null,
          7.5,
          7.5,
          null,
          8.5,
          8.5,
          null,
          9.5,
          9.5,
          null,
          10.5,
          10.5,
          null,
          11.5,
          11.5,
          null,
          12.5,
          12.5,
          null,
          13.5,
          13.5,
          null,
          14.5,
          14.5,
          null,
          15.5,
          15.5,
          null,
          16.5,
          16.5,
          null,
          17.5,
          17.5,
          null,
          18.5,
          18.5,
          null,
          19.5,
          19.5,
          null,
          20.5,
          20.5,
          null,
          21.5,
          21.5,
          null,
          22.5,
          22.5,
          null,
          23.5,
          23.5,
          null,
          24.5,
          24.5,
          null,
          25.5,
          25.5,
          null,
          26.5,
          26.5,
          null,
          27.5,
          27.5,
          null,
          28.5,
          28.5,
          null,
          -0.5,
          29.5,
          null,
          -0.5,
          29.5,
          null,
          -0.5,
          29.5,
          null,
          -0.5,
          29.5,
          null,
          -0.5,
          29.5,
          null,
          -0.5,
          29.5,
          null,
          -0.5,
          29.5,
          null,
          -0.5,
          29.5,
          null,
          -0.5,
          29.5,
          null,
          -0.5,
          29.5,
          null,
          -0.5,
          29.5,
          null,
          -0.5,
          29.5,
          null,
          -0.5,
          29.5,
          null,
          -0.5,
          29.5,
          null,
          -0.5,
          29.5,
          null,
          -0.5,
          29.5,
          null,
          -0.5,
          29.5,
          null,
          -0.5,
          29.5,
          null,
          -0.5,
          29.5,
          null,
          -0.5,
          29.5,
          null,
          -0.5,
          29.5,
          null,
          -0.5,
          29.5,
          null,
          -0.5,
          29.5,
          null,
          -0.5,
          29.5,
          null,
          -0.5,
          29.5,
          null,
          -0.5,
          29.5,
          null,
          -0.5,
          29.5,
          null,
          -0.5,
          29.5,
          null,
          -0.5,
          29.5,
          null,
          -0.5,
          29.5,
          null
         ],
         "xaxis": "x2",
         "y": [
          -0.5,
          29.5,
          null,
          -0.5,
          29.5,
          null,
          -0.5,
          29.5,
          null,
          -0.5,
          29.5,
          null,
          -0.5,
          29.5,
          null,
          -0.5,
          29.5,
          null,
          -0.5,
          29.5,
          null,
          -0.5,
          29.5,
          null,
          -0.5,
          29.5,
          null,
          -0.5,
          29.5,
          null,
          -0.5,
          29.5,
          null,
          -0.5,
          29.5,
          null,
          -0.5,
          29.5,
          null,
          -0.5,
          29.5,
          null,
          -0.5,
          29.5,
          null,
          -0.5,
          29.5,
          null,
          -0.5,
          29.5,
          null,
          -0.5,
          29.5,
          null,
          -0.5,
          29.5,
          null,
          -0.5,
          29.5,
          null,
          -0.5,
          29.5,
          null,
          -0.5,
          29.5,
          null,
          -0.5,
          29.5,
          null,
          -0.5,
          29.5,
          null,
          -0.5,
          29.5,
          null,
          -0.5,
          29.5,
          null,
          -0.5,
          29.5,
          null,
          -0.5,
          29.5,
          null,
          -0.5,
          29.5,
          null,
          -0.5,
          29.5,
          null,
          -0.5,
          -0.5,
          null,
          0.5,
          0.5,
          null,
          1.5,
          1.5,
          null,
          2.5,
          2.5,
          null,
          3.5,
          3.5,
          null,
          4.5,
          4.5,
          null,
          5.5,
          5.5,
          null,
          6.5,
          6.5,
          null,
          7.5,
          7.5,
          null,
          8.5,
          8.5,
          null,
          9.5,
          9.5,
          null,
          10.5,
          10.5,
          null,
          11.5,
          11.5,
          null,
          12.5,
          12.5,
          null,
          13.5,
          13.5,
          null,
          14.5,
          14.5,
          null,
          15.5,
          15.5,
          null,
          16.5,
          16.5,
          null,
          17.5,
          17.5,
          null,
          18.5,
          18.5,
          null,
          19.5,
          19.5,
          null,
          20.5,
          20.5,
          null,
          21.5,
          21.5,
          null,
          22.5,
          22.5,
          null,
          23.5,
          23.5,
          null,
          24.5,
          24.5,
          null,
          25.5,
          25.5,
          null,
          26.5,
          26.5,
          null,
          27.5,
          27.5,
          null,
          28.5,
          28.5,
          null
         ],
         "yaxis": "y2"
        },
        {
         "marker": {
          "color": "cyan",
          "size": 10
         },
         "name": "Point",
         "type": "scatter",
         "x": [
          2.1,
          2.1
         ],
         "xaxis": "x",
         "y": [
          7.05,
          7.05
         ],
         "yaxis": "y"
        },
        {
         "marker": {
          "color": "cyan",
          "size": 10
         },
         "name": "Point",
         "type": "scatter",
         "x": [
          7.300000000000001,
          7.300000000000001
         ],
         "xaxis": "x2",
         "y": [
          22.15,
          22.15
         ],
         "yaxis": "y2"
        }
       ],
       "layout": {
        "annotations": [
         {
          "font": {
           "color": "white",
           "family": "DejaVu Sans",
           "size": 40
          },
          "showarrow": false,
          "text": "A",
          "x": 0.005,
          "xref": "paper",
          "y": 1,
          "yref": "paper"
         },
         {
          "font": {
           "color": "white",
           "family": "DejaVu Sans",
           "size": 40
          },
          "showarrow": false,
          "text": "B",
          "x": 0.54,
          "xref": "paper",
          "y": 1,
          "yref": "paper"
         }
        ],
        "coloraxis": {
         "showscale": false
        },
        "font": {
         "color": "black",
         "family": "DejaVu Sans",
         "size": 25
        },
        "height": 800,
        "paper_bgcolor": "rgba(0, 0, 0, 0)",
        "plot_bgcolor": "rgba(0, 0, 0, 0)",
        "showlegend": false,
        "template": {
         "data": {
          "bar": [
           {
            "error_x": {
             "color": "#2a3f5f"
            },
            "error_y": {
             "color": "#2a3f5f"
            },
            "marker": {
             "line": {
              "color": "#E5ECF6",
              "width": 0.5
             },
             "pattern": {
              "fillmode": "overlay",
              "size": 10,
              "solidity": 0.2
             }
            },
            "type": "bar"
           }
          ],
          "barpolar": [
           {
            "marker": {
             "line": {
              "color": "#E5ECF6",
              "width": 0.5
             },
             "pattern": {
              "fillmode": "overlay",
              "size": 10,
              "solidity": 0.2
             }
            },
            "type": "barpolar"
           }
          ],
          "carpet": [
           {
            "aaxis": {
             "endlinecolor": "#2a3f5f",
             "gridcolor": "white",
             "linecolor": "white",
             "minorgridcolor": "white",
             "startlinecolor": "#2a3f5f"
            },
            "baxis": {
             "endlinecolor": "#2a3f5f",
             "gridcolor": "white",
             "linecolor": "white",
             "minorgridcolor": "white",
             "startlinecolor": "#2a3f5f"
            },
            "type": "carpet"
           }
          ],
          "choropleth": [
           {
            "colorbar": {
             "outlinewidth": 0,
             "ticks": ""
            },
            "type": "choropleth"
           }
          ],
          "contour": [
           {
            "colorbar": {
             "outlinewidth": 0,
             "ticks": ""
            },
            "colorscale": [
             [
              0,
              "#0d0887"
             ],
             [
              0.1111111111111111,
              "#46039f"
             ],
             [
              0.2222222222222222,
              "#7201a8"
             ],
             [
              0.3333333333333333,
              "#9c179e"
             ],
             [
              0.4444444444444444,
              "#bd3786"
             ],
             [
              0.5555555555555556,
              "#d8576b"
             ],
             [
              0.6666666666666666,
              "#ed7953"
             ],
             [
              0.7777777777777778,
              "#fb9f3a"
             ],
             [
              0.8888888888888888,
              "#fdca26"
             ],
             [
              1,
              "#f0f921"
             ]
            ],
            "type": "contour"
           }
          ],
          "contourcarpet": [
           {
            "colorbar": {
             "outlinewidth": 0,
             "ticks": ""
            },
            "type": "contourcarpet"
           }
          ],
          "heatmap": [
           {
            "colorbar": {
             "outlinewidth": 0,
             "ticks": ""
            },
            "colorscale": [
             [
              0,
              "#0d0887"
             ],
             [
              0.1111111111111111,
              "#46039f"
             ],
             [
              0.2222222222222222,
              "#7201a8"
             ],
             [
              0.3333333333333333,
              "#9c179e"
             ],
             [
              0.4444444444444444,
              "#bd3786"
             ],
             [
              0.5555555555555556,
              "#d8576b"
             ],
             [
              0.6666666666666666,
              "#ed7953"
             ],
             [
              0.7777777777777778,
              "#fb9f3a"
             ],
             [
              0.8888888888888888,
              "#fdca26"
             ],
             [
              1,
              "#f0f921"
             ]
            ],
            "type": "heatmap"
           }
          ],
          "heatmapgl": [
           {
            "colorbar": {
             "outlinewidth": 0,
             "ticks": ""
            },
            "colorscale": [
             [
              0,
              "#0d0887"
             ],
             [
              0.1111111111111111,
              "#46039f"
             ],
             [
              0.2222222222222222,
              "#7201a8"
             ],
             [
              0.3333333333333333,
              "#9c179e"
             ],
             [
              0.4444444444444444,
              "#bd3786"
             ],
             [
              0.5555555555555556,
              "#d8576b"
             ],
             [
              0.6666666666666666,
              "#ed7953"
             ],
             [
              0.7777777777777778,
              "#fb9f3a"
             ],
             [
              0.8888888888888888,
              "#fdca26"
             ],
             [
              1,
              "#f0f921"
             ]
            ],
            "type": "heatmapgl"
           }
          ],
          "histogram": [
           {
            "marker": {
             "pattern": {
              "fillmode": "overlay",
              "size": 10,
              "solidity": 0.2
             }
            },
            "type": "histogram"
           }
          ],
          "histogram2d": [
           {
            "colorbar": {
             "outlinewidth": 0,
             "ticks": ""
            },
            "colorscale": [
             [
              0,
              "#0d0887"
             ],
             [
              0.1111111111111111,
              "#46039f"
             ],
             [
              0.2222222222222222,
              "#7201a8"
             ],
             [
              0.3333333333333333,
              "#9c179e"
             ],
             [
              0.4444444444444444,
              "#bd3786"
             ],
             [
              0.5555555555555556,
              "#d8576b"
             ],
             [
              0.6666666666666666,
              "#ed7953"
             ],
             [
              0.7777777777777778,
              "#fb9f3a"
             ],
             [
              0.8888888888888888,
              "#fdca26"
             ],
             [
              1,
              "#f0f921"
             ]
            ],
            "type": "histogram2d"
           }
          ],
          "histogram2dcontour": [
           {
            "colorbar": {
             "outlinewidth": 0,
             "ticks": ""
            },
            "colorscale": [
             [
              0,
              "#0d0887"
             ],
             [
              0.1111111111111111,
              "#46039f"
             ],
             [
              0.2222222222222222,
              "#7201a8"
             ],
             [
              0.3333333333333333,
              "#9c179e"
             ],
             [
              0.4444444444444444,
              "#bd3786"
             ],
             [
              0.5555555555555556,
              "#d8576b"
             ],
             [
              0.6666666666666666,
              "#ed7953"
             ],
             [
              0.7777777777777778,
              "#fb9f3a"
             ],
             [
              0.8888888888888888,
              "#fdca26"
             ],
             [
              1,
              "#f0f921"
             ]
            ],
            "type": "histogram2dcontour"
           }
          ],
          "mesh3d": [
           {
            "colorbar": {
             "outlinewidth": 0,
             "ticks": ""
            },
            "type": "mesh3d"
           }
          ],
          "parcoords": [
           {
            "line": {
             "colorbar": {
              "outlinewidth": 0,
              "ticks": ""
             }
            },
            "type": "parcoords"
           }
          ],
          "pie": [
           {
            "automargin": true,
            "type": "pie"
           }
          ],
          "scatter": [
           {
            "fillpattern": {
             "fillmode": "overlay",
             "size": 10,
             "solidity": 0.2
            },
            "type": "scatter"
           }
          ],
          "scatter3d": [
           {
            "line": {
             "colorbar": {
              "outlinewidth": 0,
              "ticks": ""
             }
            },
            "marker": {
             "colorbar": {
              "outlinewidth": 0,
              "ticks": ""
             }
            },
            "type": "scatter3d"
           }
          ],
          "scattercarpet": [
           {
            "marker": {
             "colorbar": {
              "outlinewidth": 0,
              "ticks": ""
             }
            },
            "type": "scattercarpet"
           }
          ],
          "scattergeo": [
           {
            "marker": {
             "colorbar": {
              "outlinewidth": 0,
              "ticks": ""
             }
            },
            "type": "scattergeo"
           }
          ],
          "scattergl": [
           {
            "marker": {
             "colorbar": {
              "outlinewidth": 0,
              "ticks": ""
             }
            },
            "type": "scattergl"
           }
          ],
          "scattermapbox": [
           {
            "marker": {
             "colorbar": {
              "outlinewidth": 0,
              "ticks": ""
             }
            },
            "type": "scattermapbox"
           }
          ],
          "scatterpolar": [
           {
            "marker": {
             "colorbar": {
              "outlinewidth": 0,
              "ticks": ""
             }
            },
            "type": "scatterpolar"
           }
          ],
          "scatterpolargl": [
           {
            "marker": {
             "colorbar": {
              "outlinewidth": 0,
              "ticks": ""
             }
            },
            "type": "scatterpolargl"
           }
          ],
          "scatterternary": [
           {
            "marker": {
             "colorbar": {
              "outlinewidth": 0,
              "ticks": ""
             }
            },
            "type": "scatterternary"
           }
          ],
          "surface": [
           {
            "colorbar": {
             "outlinewidth": 0,
             "ticks": ""
            },
            "colorscale": [
             [
              0,
              "#0d0887"
             ],
             [
              0.1111111111111111,
              "#46039f"
             ],
             [
              0.2222222222222222,
              "#7201a8"
             ],
             [
              0.3333333333333333,
              "#9c179e"
             ],
             [
              0.4444444444444444,
              "#bd3786"
             ],
             [
              0.5555555555555556,
              "#d8576b"
             ],
             [
              0.6666666666666666,
              "#ed7953"
             ],
             [
              0.7777777777777778,
              "#fb9f3a"
             ],
             [
              0.8888888888888888,
              "#fdca26"
             ],
             [
              1,
              "#f0f921"
             ]
            ],
            "type": "surface"
           }
          ],
          "table": [
           {
            "cells": {
             "fill": {
              "color": "#EBF0F8"
             },
             "line": {
              "color": "white"
             }
            },
            "header": {
             "fill": {
              "color": "#C8D4E3"
             },
             "line": {
              "color": "white"
             }
            },
            "type": "table"
           }
          ]
         },
         "layout": {
          "annotationdefaults": {
           "arrowcolor": "#2a3f5f",
           "arrowhead": 0,
           "arrowwidth": 1
          },
          "autotypenumbers": "strict",
          "coloraxis": {
           "colorbar": {
            "outlinewidth": 0,
            "ticks": ""
           }
          },
          "colorscale": {
           "diverging": [
            [
             0,
             "#8e0152"
            ],
            [
             0.1,
             "#c51b7d"
            ],
            [
             0.2,
             "#de77ae"
            ],
            [
             0.3,
             "#f1b6da"
            ],
            [
             0.4,
             "#fde0ef"
            ],
            [
             0.5,
             "#f7f7f7"
            ],
            [
             0.6,
             "#e6f5d0"
            ],
            [
             0.7,
             "#b8e186"
            ],
            [
             0.8,
             "#7fbc41"
            ],
            [
             0.9,
             "#4d9221"
            ],
            [
             1,
             "#276419"
            ]
           ],
           "sequential": [
            [
             0,
             "#0d0887"
            ],
            [
             0.1111111111111111,
             "#46039f"
            ],
            [
             0.2222222222222222,
             "#7201a8"
            ],
            [
             0.3333333333333333,
             "#9c179e"
            ],
            [
             0.4444444444444444,
             "#bd3786"
            ],
            [
             0.5555555555555556,
             "#d8576b"
            ],
            [
             0.6666666666666666,
             "#ed7953"
            ],
            [
             0.7777777777777778,
             "#fb9f3a"
            ],
            [
             0.8888888888888888,
             "#fdca26"
            ],
            [
             1,
             "#f0f921"
            ]
           ],
           "sequentialminus": [
            [
             0,
             "#0d0887"
            ],
            [
             0.1111111111111111,
             "#46039f"
            ],
            [
             0.2222222222222222,
             "#7201a8"
            ],
            [
             0.3333333333333333,
             "#9c179e"
            ],
            [
             0.4444444444444444,
             "#bd3786"
            ],
            [
             0.5555555555555556,
             "#d8576b"
            ],
            [
             0.6666666666666666,
             "#ed7953"
            ],
            [
             0.7777777777777778,
             "#fb9f3a"
            ],
            [
             0.8888888888888888,
             "#fdca26"
            ],
            [
             1,
             "#f0f921"
            ]
           ]
          },
          "colorway": [
           "#636efa",
           "#EF553B",
           "#00cc96",
           "#ab63fa",
           "#FFA15A",
           "#19d3f3",
           "#FF6692",
           "#B6E880",
           "#FF97FF",
           "#FECB52"
          ],
          "font": {
           "color": "#2a3f5f"
          },
          "geo": {
           "bgcolor": "white",
           "lakecolor": "white",
           "landcolor": "#E5ECF6",
           "showlakes": true,
           "showland": true,
           "subunitcolor": "white"
          },
          "hoverlabel": {
           "align": "left"
          },
          "hovermode": "closest",
          "mapbox": {
           "style": "light"
          },
          "paper_bgcolor": "white",
          "plot_bgcolor": "#E5ECF6",
          "polar": {
           "angularaxis": {
            "gridcolor": "white",
            "linecolor": "white",
            "ticks": ""
           },
           "bgcolor": "#E5ECF6",
           "radialaxis": {
            "gridcolor": "white",
            "linecolor": "white",
            "ticks": ""
           }
          },
          "scene": {
           "xaxis": {
            "backgroundcolor": "#E5ECF6",
            "gridcolor": "white",
            "gridwidth": 2,
            "linecolor": "white",
            "showbackground": true,
            "ticks": "",
            "zerolinecolor": "white"
           },
           "yaxis": {
            "backgroundcolor": "#E5ECF6",
            "gridcolor": "white",
            "gridwidth": 2,
            "linecolor": "white",
            "showbackground": true,
            "ticks": "",
            "zerolinecolor": "white"
           },
           "zaxis": {
            "backgroundcolor": "#E5ECF6",
            "gridcolor": "white",
            "gridwidth": 2,
            "linecolor": "white",
            "showbackground": true,
            "ticks": "",
            "zerolinecolor": "white"
           }
          },
          "shapedefaults": {
           "line": {
            "color": "#2a3f5f"
           }
          },
          "ternary": {
           "aaxis": {
            "gridcolor": "white",
            "linecolor": "white",
            "ticks": ""
           },
           "baxis": {
            "gridcolor": "white",
            "linecolor": "white",
            "ticks": ""
           },
           "bgcolor": "#E5ECF6",
           "caxis": {
            "gridcolor": "white",
            "linecolor": "white",
            "ticks": ""
           }
          },
          "title": {
           "x": 0.05
          },
          "xaxis": {
           "automargin": true,
           "gridcolor": "white",
           "linecolor": "white",
           "ticks": "",
           "title": {
            "standoff": 15
           },
           "zerolinecolor": "white",
           "zerolinewidth": 2
          },
          "yaxis": {
           "automargin": true,
           "gridcolor": "white",
           "linecolor": "white",
           "ticks": "",
           "title": {
            "standoff": 15
           },
           "zerolinecolor": "white",
           "zerolinewidth": 2
          }
         }
        },
        "title": {
         "font": {
          "color": "black",
          "family": "DejaVu Sans"
         }
        },
        "width": 1400,
        "xaxis": {
         "anchor": "y",
         "domain": [
          0,
          0.475
         ],
         "range": [
          -0.5,
          9.5
         ],
         "showgrid": false
        },
        "xaxis2": {
         "anchor": "y2",
         "domain": [
          0.525,
          1
         ],
         "range": [
          -0.5,
          29.5
         ],
         "showgrid": false
        },
        "yaxis": {
         "anchor": "x",
         "domain": [
          0,
          1
         ],
         "range": [
          -0.5,
          9.5
         ],
         "showgrid": false
        },
        "yaxis2": {
         "anchor": "x2",
         "domain": [
          0,
          1
         ],
         "range": [
          -0.5,
          29.5
         ],
         "showgrid": false
        }
       }
      }
     },
     "metadata": {},
     "output_type": "display_data"
    }
   ],
   "source": [
    "original_image = Image.fromarray(test_image)\n",
    "\n",
    "# Get the size of the original image\n",
    "original_width, original_height = original_image.size\n",
    "# Calculate the new size of the image after upscaling\n",
    "new_width = original_width * scale_factor_x\n",
    "new_height = original_height * scale_factor_y\n",
    "# Resize the image using the new size\n",
    "upscaled_image_box = np.array(original_image.resize((new_width, new_height), Image.Resampling.NEAREST))        \n",
    "fig = make_subplots(rows=1, cols=2, \n",
    "                    horizontal_spacing=0.05, \n",
    "                    vertical_spacing=0.1,\n",
    "                    # subplot_titles=('Original image', f\"Upscaled image s={scale_factor_x, scale_factor_y}\"))\n",
    "                    # subplot_titles=('Original image', f\"Image upscaled {scale_factor_x} times\")\n",
    "                    )\n",
    "# Add images to plot\n",
    "base_image_fig = px.imshow(test_image)\n",
    "fig.add_trace(base_image_fig.data[0], 1, 1)\n",
    "xs, ys = gridlines(test_image)\n",
    "fig.add_trace(go.Scatter(x=xs, y=ys, marker=dict(color='black', size=1), name=f\"Pixel edges\", showlegend=False), row=1, col=1)\n",
    "\n",
    "upscaled_image_fig = px.imshow(upscaled_image_box)\n",
    "fig.add_trace(upscaled_image_fig.data[0], 1, 2)\n",
    "xs, ys = gridlines(upscaled_image_box)\n",
    "fig.add_trace(go.Scatter(x=xs, y=ys, marker=dict(color='black', size=1), name=f\"Pixel edges\", showlegend=False), row=1, col=2)\n",
    "\n",
    "\n",
    "fig.add_trace(go.Scatter(x=[2.1,2.1], y=[7.05,7.05], marker=dict(color='cyan', size=10), name=f\"Point\"), row=1, col=1)\n",
    "fig.add_trace(go.Scatter(x=[2.1*scale_factor_x+scale_factor_x/2-0.5,2.1*scale_factor_x+scale_factor_x/2-0.5], y=[7.05*scale_factor_y+scale_factor_y/2-0.5, 7.05*scale_factor_y+scale_factor_y/2-0.5], marker=dict(color='cyan', size=10), name=f\"Point\"), row=1, col=2)\n",
    "\n",
    "\n",
    "fig.add_annotation(text=\"A\",\n",
    "                  xref=\"paper\", yref=\"paper\",\n",
    "                  x=0.005, y=1, showarrow=False)\n",
    "fig.add_annotation(text=\"B\",\n",
    "                  xref=\"paper\", yref=\"paper\",\n",
    "                  x=0.54, y=1, showarrow=False)\n",
    "fig.update_annotations(font=dict(family=\"DejaVu Sans\", size=40, color=\"white\"))\n",
    "\n",
    "fig.update_layout(width=1400, height=800, showlegend=False, font_size=25)\n",
    "fig.update(layout_coloraxis_showscale=False)\n",
    "fig.update_layout(\n",
    "    {\n",
    "        \"paper_bgcolor\": \"rgba(0, 0, 0, 0)\",\n",
    "        \"plot_bgcolor\": \"rgba(0, 0, 0, 0)\",\n",
    "    }\n",
    ")\n",
    "fig.update_layout(    \n",
    "    {    \n",
    "        'xaxis':{'range': [-0.5, 9.5]},\n",
    "        'yaxis':{'range': [-0.5, 9.5]},\n",
    "        'xaxis2':{'range': [-0.5, 29.5]},\n",
    "        'yaxis2':{'range': [-0.5, 29.5]},\n",
    "    })\n",
    "fig.update_layout(\n",
    "    font_family=\"DejaVu Sans\",\n",
    "    font_color=\"black\",\n",
    "    title_font_family=\"DejaVu Sans\",\n",
    "    title_font_color=\"black\",\n",
    "    # legend_title_font_color=\"green\"\n",
    ")\n",
    "fig.update_xaxes(showgrid=False)\n",
    "fig.update_yaxes(showgrid=False)\n",
    "fig.write_image(file=f\"D:/Master/MasterProject/Overleaf_figures/Chapter4/upscale_demo.svg\", scale=4)\n",
    "fig.show()"
   ]
  },
  {
   "cell_type": "code",
   "execution_count": 50,
   "metadata": {},
   "outputs": [
    {
     "data": {
      "application/vnd.plotly.v1+json": {
       "config": {
        "plotlyServerURL": "https://plot.ly"
       },
       "data": [
        {
         "coloraxis": "coloraxis",
         "hovertemplate": "x: %{x}<br>y: %{y}<br>color: %{z}<extra></extra>",
         "name": "0",
         "type": "heatmap",
         "xaxis": "x",
         "yaxis": "y",
         "z": [
          [
           0,
           0,
           0,
           0,
           0,
           0,
           0,
           0,
           0,
           0
          ],
          [
           0,
           0,
           0,
           0,
           0,
           0,
           0,
           0,
           0,
           0
          ],
          [
           0,
           0,
           1,
           1,
           1,
           1,
           1,
           1,
           0,
           0
          ],
          [
           0,
           0,
           1,
           0,
           0,
           0,
           0,
           1,
           0,
           0
          ],
          [
           0,
           0,
           1,
           0,
           0,
           0,
           0,
           1,
           0,
           0
          ],
          [
           0,
           0,
           1,
           0,
           0,
           0,
           0,
           1,
           0,
           0
          ],
          [
           0,
           0,
           1,
           0,
           0,
           0,
           0,
           1,
           0,
           0
          ],
          [
           0,
           0,
           1,
           1,
           1,
           1,
           1,
           1,
           0,
           0
          ],
          [
           0,
           0,
           0,
           0,
           0,
           0,
           0,
           0,
           0,
           0
          ],
          [
           0,
           0,
           0,
           0,
           0,
           0,
           0,
           0,
           0,
           0
          ]
         ]
        },
        {
         "marker": {
          "color": "black",
          "size": 1
         },
         "name": "Pixel edges",
         "showlegend": false,
         "type": "scatter",
         "x": [
          -0.5,
          -0.5,
          null,
          0.5,
          0.5,
          null,
          1.5,
          1.5,
          null,
          2.5,
          2.5,
          null,
          3.5,
          3.5,
          null,
          4.5,
          4.5,
          null,
          5.5,
          5.5,
          null,
          6.5,
          6.5,
          null,
          7.5,
          7.5,
          null,
          8.5,
          8.5,
          null,
          -0.5,
          9.5,
          null,
          -0.5,
          9.5,
          null,
          -0.5,
          9.5,
          null,
          -0.5,
          9.5,
          null,
          -0.5,
          9.5,
          null,
          -0.5,
          9.5,
          null,
          -0.5,
          9.5,
          null,
          -0.5,
          9.5,
          null,
          -0.5,
          9.5,
          null,
          -0.5,
          9.5,
          null
         ],
         "xaxis": "x",
         "y": [
          -0.5,
          9.5,
          null,
          -0.5,
          9.5,
          null,
          -0.5,
          9.5,
          null,
          -0.5,
          9.5,
          null,
          -0.5,
          9.5,
          null,
          -0.5,
          9.5,
          null,
          -0.5,
          9.5,
          null,
          -0.5,
          9.5,
          null,
          -0.5,
          9.5,
          null,
          -0.5,
          9.5,
          null,
          -0.5,
          -0.5,
          null,
          0.5,
          0.5,
          null,
          1.5,
          1.5,
          null,
          2.5,
          2.5,
          null,
          3.5,
          3.5,
          null,
          4.5,
          4.5,
          null,
          5.5,
          5.5,
          null,
          6.5,
          6.5,
          null,
          7.5,
          7.5,
          null,
          8.5,
          8.5,
          null
         ],
         "yaxis": "y"
        },
        {
         "coloraxis": "coloraxis",
         "hovertemplate": "x: %{x}<br>y: %{y}<br>color: %{z}<extra></extra>",
         "name": "0",
         "type": "heatmap",
         "xaxis": "x2",
         "yaxis": "y2",
         "z": [
          [
           0,
           0,
           0,
           0,
           0,
           0,
           0,
           0,
           0,
           0,
           0,
           0,
           0,
           0,
           0,
           0,
           0,
           0,
           0,
           0,
           0,
           0,
           0,
           0,
           0,
           0,
           0,
           0,
           0,
           0
          ],
          [
           0,
           0,
           0,
           0,
           0,
           0,
           0,
           0,
           0,
           0,
           0,
           0,
           0,
           0,
           0,
           0,
           0,
           0,
           0,
           0,
           0,
           0,
           0,
           0,
           0,
           0,
           0,
           0,
           0,
           0
          ],
          [
           0,
           0,
           0,
           0,
           0,
           0,
           0,
           0,
           0,
           0,
           0,
           0,
           0,
           0,
           0,
           0,
           0,
           0,
           0,
           0,
           0,
           0,
           0,
           0,
           0,
           0,
           0,
           0,
           0,
           0
          ],
          [
           0,
           0,
           0,
           0,
           0,
           0,
           0,
           0,
           0,
           0,
           0,
           0,
           0,
           0,
           0,
           0,
           0,
           0,
           0,
           0,
           0,
           0,
           0,
           0,
           0,
           0,
           0,
           0,
           0,
           0
          ],
          [
           0,
           0,
           0,
           0,
           0,
           0,
           0,
           0,
           0,
           0,
           0,
           0,
           0,
           0,
           0,
           0,
           0,
           0,
           0,
           0,
           0,
           0,
           0,
           0,
           0,
           0,
           0,
           0,
           0,
           0
          ],
          [
           0,
           0,
           0,
           0,
           0,
           0,
           0,
           0,
           0,
           0,
           0,
           0,
           0,
           0,
           0,
           0,
           0,
           0,
           0,
           0,
           0,
           0,
           0,
           0,
           0,
           0,
           0,
           0,
           0,
           0
          ],
          [
           0,
           0,
           0,
           0,
           0,
           0,
           1,
           1,
           1,
           1,
           1,
           1,
           1,
           1,
           1,
           1,
           1,
           1,
           1,
           1,
           1,
           1,
           1,
           1,
           0,
           0,
           0,
           0,
           0,
           0
          ],
          [
           0,
           0,
           0,
           0,
           0,
           0,
           1,
           1,
           1,
           1,
           1,
           1,
           1,
           1,
           1,
           1,
           1,
           1,
           1,
           1,
           1,
           1,
           1,
           1,
           0,
           0,
           0,
           0,
           0,
           0
          ],
          [
           0,
           0,
           0,
           0,
           0,
           0,
           1,
           1,
           1,
           1,
           1,
           1,
           1,
           1,
           1,
           1,
           1,
           1,
           1,
           1,
           1,
           1,
           1,
           1,
           0,
           0,
           0,
           0,
           0,
           0
          ],
          [
           0,
           0,
           0,
           0,
           0,
           0,
           1,
           1,
           1,
           0,
           0,
           0,
           0,
           0,
           0,
           0,
           0,
           0,
           0,
           0,
           0,
           1,
           1,
           1,
           0,
           0,
           0,
           0,
           0,
           0
          ],
          [
           0,
           0,
           0,
           0,
           0,
           0,
           1,
           1,
           1,
           0,
           0,
           0,
           0,
           0,
           0,
           0,
           0,
           0,
           0,
           0,
           0,
           1,
           1,
           1,
           0,
           0,
           0,
           0,
           0,
           0
          ],
          [
           0,
           0,
           0,
           0,
           0,
           0,
           1,
           1,
           1,
           0,
           0,
           0,
           0,
           0,
           0,
           0,
           0,
           0,
           0,
           0,
           0,
           1,
           1,
           1,
           0,
           0,
           0,
           0,
           0,
           0
          ],
          [
           0,
           0,
           0,
           0,
           0,
           0,
           1,
           1,
           1,
           0,
           0,
           0,
           0,
           0,
           0,
           0,
           0,
           0,
           0,
           0,
           0,
           1,
           1,
           1,
           0,
           0,
           0,
           0,
           0,
           0
          ],
          [
           0,
           0,
           0,
           0,
           0,
           0,
           1,
           1,
           1,
           0,
           0,
           0,
           0,
           0,
           0,
           0,
           0,
           0,
           0,
           0,
           0,
           1,
           1,
           1,
           0,
           0,
           0,
           0,
           0,
           0
          ],
          [
           0,
           0,
           0,
           0,
           0,
           0,
           1,
           1,
           1,
           0,
           0,
           0,
           0,
           0,
           0,
           0,
           0,
           0,
           0,
           0,
           0,
           1,
           1,
           1,
           0,
           0,
           0,
           0,
           0,
           0
          ],
          [
           0,
           0,
           0,
           0,
           0,
           0,
           1,
           1,
           1,
           0,
           0,
           0,
           0,
           0,
           0,
           0,
           0,
           0,
           0,
           0,
           0,
           1,
           1,
           1,
           0,
           0,
           0,
           0,
           0,
           0
          ],
          [
           0,
           0,
           0,
           0,
           0,
           0,
           1,
           1,
           1,
           0,
           0,
           0,
           0,
           0,
           0,
           0,
           0,
           0,
           0,
           0,
           0,
           1,
           1,
           1,
           0,
           0,
           0,
           0,
           0,
           0
          ],
          [
           0,
           0,
           0,
           0,
           0,
           0,
           1,
           1,
           1,
           0,
           0,
           0,
           0,
           0,
           0,
           0,
           0,
           0,
           0,
           0,
           0,
           1,
           1,
           1,
           0,
           0,
           0,
           0,
           0,
           0
          ],
          [
           0,
           0,
           0,
           0,
           0,
           0,
           1,
           1,
           1,
           0,
           0,
           0,
           0,
           0,
           0,
           0,
           0,
           0,
           0,
           0,
           0,
           1,
           1,
           1,
           0,
           0,
           0,
           0,
           0,
           0
          ],
          [
           0,
           0,
           0,
           0,
           0,
           0,
           1,
           1,
           1,
           0,
           0,
           0,
           0,
           0,
           0,
           0,
           0,
           0,
           0,
           0,
           0,
           1,
           1,
           1,
           0,
           0,
           0,
           0,
           0,
           0
          ],
          [
           0,
           0,
           0,
           0,
           0,
           0,
           1,
           1,
           1,
           0,
           0,
           0,
           0,
           0,
           0,
           0,
           0,
           0,
           0,
           0,
           0,
           1,
           1,
           1,
           0,
           0,
           0,
           0,
           0,
           0
          ],
          [
           0,
           0,
           0,
           0,
           0,
           0,
           1,
           1,
           1,
           1,
           1,
           1,
           1,
           1,
           1,
           1,
           1,
           1,
           1,
           1,
           1,
           1,
           1,
           1,
           0,
           0,
           0,
           0,
           0,
           0
          ],
          [
           0,
           0,
           0,
           0,
           0,
           0,
           1,
           1,
           1,
           1,
           1,
           1,
           1,
           1,
           1,
           1,
           1,
           1,
           1,
           1,
           1,
           1,
           1,
           1,
           0,
           0,
           0,
           0,
           0,
           0
          ],
          [
           0,
           0,
           0,
           0,
           0,
           0,
           1,
           1,
           1,
           1,
           1,
           1,
           1,
           1,
           1,
           1,
           1,
           1,
           1,
           1,
           1,
           1,
           1,
           1,
           0,
           0,
           0,
           0,
           0,
           0
          ],
          [
           0,
           0,
           0,
           0,
           0,
           0,
           0,
           0,
           0,
           0,
           0,
           0,
           0,
           0,
           0,
           0,
           0,
           0,
           0,
           0,
           0,
           0,
           0,
           0,
           0,
           0,
           0,
           0,
           0,
           0
          ],
          [
           0,
           0,
           0,
           0,
           0,
           0,
           0,
           0,
           0,
           0,
           0,
           0,
           0,
           0,
           0,
           0,
           0,
           0,
           0,
           0,
           0,
           0,
           0,
           0,
           0,
           0,
           0,
           0,
           0,
           0
          ],
          [
           0,
           0,
           0,
           0,
           0,
           0,
           0,
           0,
           0,
           0,
           0,
           0,
           0,
           0,
           0,
           0,
           0,
           0,
           0,
           0,
           0,
           0,
           0,
           0,
           0,
           0,
           0,
           0,
           0,
           0
          ],
          [
           0,
           0,
           0,
           0,
           0,
           0,
           0,
           0,
           0,
           0,
           0,
           0,
           0,
           0,
           0,
           0,
           0,
           0,
           0,
           0,
           0,
           0,
           0,
           0,
           0,
           0,
           0,
           0,
           0,
           0
          ],
          [
           0,
           0,
           0,
           0,
           0,
           0,
           0,
           0,
           0,
           0,
           0,
           0,
           0,
           0,
           0,
           0,
           0,
           0,
           0,
           0,
           0,
           0,
           0,
           0,
           0,
           0,
           0,
           0,
           0,
           0
          ],
          [
           0,
           0,
           0,
           0,
           0,
           0,
           0,
           0,
           0,
           0,
           0,
           0,
           0,
           0,
           0,
           0,
           0,
           0,
           0,
           0,
           0,
           0,
           0,
           0,
           0,
           0,
           0,
           0,
           0,
           0
          ]
         ]
        },
        {
         "marker": {
          "color": "black",
          "size": 1
         },
         "name": "Pixel edges",
         "showlegend": false,
         "type": "scatter",
         "x": [
          -0.5,
          -0.5,
          null,
          0.5,
          0.5,
          null,
          1.5,
          1.5,
          null,
          2.5,
          2.5,
          null,
          3.5,
          3.5,
          null,
          4.5,
          4.5,
          null,
          5.5,
          5.5,
          null,
          6.5,
          6.5,
          null,
          7.5,
          7.5,
          null,
          8.5,
          8.5,
          null,
          9.5,
          9.5,
          null,
          10.5,
          10.5,
          null,
          11.5,
          11.5,
          null,
          12.5,
          12.5,
          null,
          13.5,
          13.5,
          null,
          14.5,
          14.5,
          null,
          15.5,
          15.5,
          null,
          16.5,
          16.5,
          null,
          17.5,
          17.5,
          null,
          18.5,
          18.5,
          null,
          19.5,
          19.5,
          null,
          20.5,
          20.5,
          null,
          21.5,
          21.5,
          null,
          22.5,
          22.5,
          null,
          23.5,
          23.5,
          null,
          24.5,
          24.5,
          null,
          25.5,
          25.5,
          null,
          26.5,
          26.5,
          null,
          27.5,
          27.5,
          null,
          28.5,
          28.5,
          null,
          -0.5,
          29.5,
          null,
          -0.5,
          29.5,
          null,
          -0.5,
          29.5,
          null,
          -0.5,
          29.5,
          null,
          -0.5,
          29.5,
          null,
          -0.5,
          29.5,
          null,
          -0.5,
          29.5,
          null,
          -0.5,
          29.5,
          null,
          -0.5,
          29.5,
          null,
          -0.5,
          29.5,
          null,
          -0.5,
          29.5,
          null,
          -0.5,
          29.5,
          null,
          -0.5,
          29.5,
          null,
          -0.5,
          29.5,
          null,
          -0.5,
          29.5,
          null,
          -0.5,
          29.5,
          null,
          -0.5,
          29.5,
          null,
          -0.5,
          29.5,
          null,
          -0.5,
          29.5,
          null,
          -0.5,
          29.5,
          null,
          -0.5,
          29.5,
          null,
          -0.5,
          29.5,
          null,
          -0.5,
          29.5,
          null,
          -0.5,
          29.5,
          null,
          -0.5,
          29.5,
          null,
          -0.5,
          29.5,
          null,
          -0.5,
          29.5,
          null,
          -0.5,
          29.5,
          null,
          -0.5,
          29.5,
          null,
          -0.5,
          29.5,
          null
         ],
         "xaxis": "x2",
         "y": [
          -0.5,
          29.5,
          null,
          -0.5,
          29.5,
          null,
          -0.5,
          29.5,
          null,
          -0.5,
          29.5,
          null,
          -0.5,
          29.5,
          null,
          -0.5,
          29.5,
          null,
          -0.5,
          29.5,
          null,
          -0.5,
          29.5,
          null,
          -0.5,
          29.5,
          null,
          -0.5,
          29.5,
          null,
          -0.5,
          29.5,
          null,
          -0.5,
          29.5,
          null,
          -0.5,
          29.5,
          null,
          -0.5,
          29.5,
          null,
          -0.5,
          29.5,
          null,
          -0.5,
          29.5,
          null,
          -0.5,
          29.5,
          null,
          -0.5,
          29.5,
          null,
          -0.5,
          29.5,
          null,
          -0.5,
          29.5,
          null,
          -0.5,
          29.5,
          null,
          -0.5,
          29.5,
          null,
          -0.5,
          29.5,
          null,
          -0.5,
          29.5,
          null,
          -0.5,
          29.5,
          null,
          -0.5,
          29.5,
          null,
          -0.5,
          29.5,
          null,
          -0.5,
          29.5,
          null,
          -0.5,
          29.5,
          null,
          -0.5,
          29.5,
          null,
          -0.5,
          -0.5,
          null,
          0.5,
          0.5,
          null,
          1.5,
          1.5,
          null,
          2.5,
          2.5,
          null,
          3.5,
          3.5,
          null,
          4.5,
          4.5,
          null,
          5.5,
          5.5,
          null,
          6.5,
          6.5,
          null,
          7.5,
          7.5,
          null,
          8.5,
          8.5,
          null,
          9.5,
          9.5,
          null,
          10.5,
          10.5,
          null,
          11.5,
          11.5,
          null,
          12.5,
          12.5,
          null,
          13.5,
          13.5,
          null,
          14.5,
          14.5,
          null,
          15.5,
          15.5,
          null,
          16.5,
          16.5,
          null,
          17.5,
          17.5,
          null,
          18.5,
          18.5,
          null,
          19.5,
          19.5,
          null,
          20.5,
          20.5,
          null,
          21.5,
          21.5,
          null,
          22.5,
          22.5,
          null,
          23.5,
          23.5,
          null,
          24.5,
          24.5,
          null,
          25.5,
          25.5,
          null,
          26.5,
          26.5,
          null,
          27.5,
          27.5,
          null,
          28.5,
          28.5,
          null
         ],
         "yaxis": "y2"
        },
        {
         "marker": {
          "color": "red",
          "size": 10
         },
         "name": "400p border",
         "type": "scatter",
         "x": [
          2.001,
          2.001,
          2.001,
          2.001,
          2.001,
          2.001,
          2.001,
          2.001,
          2.001,
          2.001,
          2.001,
          2.001,
          2.001,
          2.001,
          2.001,
          2.001,
          2.001,
          2.001,
          2.001,
          2.001,
          2.001,
          2.001,
          2.001,
          2.001,
          2.001,
          2.001,
          2.001,
          2.001,
          2.001,
          2.001,
          2.001,
          2.001,
          2.001,
          2.001,
          2.001,
          2.001,
          2.001,
          2.001,
          2.001,
          2.001,
          2.001,
          2.001,
          2.001,
          2.001,
          2.001,
          2.001,
          2.001,
          2.001,
          2.001,
          2.001,
          2.001,
          2.1030408163265304,
          2.205081632653061,
          2.307122448979592,
          2.4091632653061223,
          2.511204081632653,
          2.613244897959184,
          2.7152857142857143,
          2.817326530612245,
          2.9193673469387753,
          3.021408163265306,
          3.1234489795918368,
          3.2254897959183673,
          3.3275306122448978,
          3.4295714285714287,
          3.531612244897959,
          3.6336530612244897,
          3.7356938775510202,
          3.8377346938775507,
          3.9397755102040817,
          4.041816326530612,
          4.143857142857143,
          4.245897959183674,
          4.347938775510205,
          4.449979591836735,
          4.552020408163266,
          4.654061224489796,
          4.7561020408163275,
          4.858142857142858,
          4.9601836734693885,
          5.062224489795919,
          5.1642653061224495,
          5.26630612244898,
          5.3683469387755105,
          5.470387755102041,
          5.5724285714285715,
          5.674469387755102,
          5.7765102040816325,
          5.878551020408164,
          5.980591836734694,
          6.082632653061225,
          6.184673469387755,
          6.286714285714286,
          6.388755102040816,
          6.490795918367348,
          6.592836734693878,
          6.694877551020409,
          6.796918367346939,
          6.89895918367347,
          7.001,
          7.001,
          7.001,
          7.001,
          7.001,
          7.001,
          7.001,
          7.001,
          7.001,
          7.001,
          7.001,
          7.001,
          7.001,
          7.001,
          7.001,
          7.001,
          7.001,
          7.001,
          7.001,
          7.001,
          7.001,
          7.001,
          7.001,
          7.001,
          7.001,
          7.001,
          7.001,
          7.001,
          7.001,
          7.001,
          7.001,
          7.001,
          7.001,
          7.001,
          7.001,
          7.001,
          7.001,
          7.001,
          7.001,
          7.001,
          7.001,
          7.001,
          7.001,
          7.001,
          7.001,
          7.001,
          7.001,
          7.001,
          7.001,
          7.001,
          7.001,
          7.001,
          6.89895918367347,
          6.796918367346939,
          6.694877551020409,
          6.592836734693878,
          6.490795918367347,
          6.388755102040816,
          6.286714285714286,
          6.184673469387755,
          6.082632653061225,
          5.980591836734694,
          5.878551020408163,
          5.7765102040816325,
          5.674469387755102,
          5.5724285714285715,
          5.470387755102041,
          5.3683469387755105,
          5.26630612244898,
          5.1642653061224495,
          5.062224489795919,
          4.9601836734693885,
          4.858142857142858,
          4.756102040816327,
          4.654061224489796,
          4.552020408163266,
          4.449979591836735,
          4.347938775510205,
          4.245897959183673,
          4.143857142857143,
          4.041816326530612,
          3.9397755102040812,
          3.8377346938775507,
          3.7356938775510202,
          3.6336530612244897,
          3.531612244897959,
          3.4295714285714283,
          3.3275306122448978,
          3.2254897959183673,
          3.1234489795918363,
          3.021408163265306,
          2.9193673469387753,
          2.817326530612245,
          2.7152857142857143,
          2.613244897959184,
          2.5112040816326524,
          2.409163265306122,
          2.3071224489795914,
          2.205081632653061,
          2.1030408163265304,
          2.001
         ],
         "xaxis": "x",
         "y": [
          7.001,
          6.89895918367347,
          6.796918367346939,
          6.694877551020409,
          6.592836734693878,
          6.490795918367347,
          6.388755102040816,
          6.286714285714286,
          6.184673469387755,
          6.082632653061225,
          5.980591836734694,
          5.878551020408163,
          5.7765102040816325,
          5.674469387755102,
          5.5724285714285715,
          5.470387755102041,
          5.3683469387755105,
          5.26630612244898,
          5.1642653061224495,
          5.062224489795919,
          4.9601836734693885,
          4.858142857142858,
          4.756102040816327,
          4.654061224489796,
          4.552020408163266,
          4.449979591836735,
          4.347938775510205,
          4.245897959183673,
          4.143857142857143,
          4.041816326530612,
          3.9397755102040812,
          3.8377346938775507,
          3.7356938775510202,
          3.6336530612244897,
          3.531612244897959,
          3.4295714285714283,
          3.3275306122448978,
          3.2254897959183673,
          3.1234489795918363,
          3.021408163265306,
          2.9193673469387753,
          2.817326530612245,
          2.7152857142857143,
          2.613244897959184,
          2.5112040816326524,
          2.409163265306122,
          2.3071224489795914,
          2.205081632653061,
          2.1030408163265304,
          2.001,
          2.001,
          2.001,
          2.001,
          2.001,
          2.001,
          2.001,
          2.001,
          2.001,
          2.001,
          2.001,
          2.001,
          2.001,
          2.001,
          2.001,
          2.001,
          2.001,
          2.001,
          2.001,
          2.001,
          2.001,
          2.001,
          2.001,
          2.001,
          2.001,
          2.001,
          2.001,
          2.001,
          2.001,
          2.001,
          2.001,
          2.001,
          2.001,
          2.001,
          2.001,
          2.001,
          2.001,
          2.001,
          2.001,
          2.001,
          2.001,
          2.001,
          2.001,
          2.001,
          2.001,
          2.001,
          2.001,
          2.001,
          2.001,
          2.001,
          2.001,
          2.001,
          2.1030408163265304,
          2.205081632653061,
          2.307122448979592,
          2.4091632653061223,
          2.511204081632653,
          2.613244897959184,
          2.7152857142857143,
          2.817326530612245,
          2.9193673469387753,
          3.021408163265306,
          3.1234489795918368,
          3.2254897959183673,
          3.3275306122448978,
          3.4295714285714287,
          3.531612244897959,
          3.6336530612244897,
          3.7356938775510202,
          3.8377346938775507,
          3.9397755102040817,
          4.041816326530612,
          4.143857142857143,
          4.245897959183674,
          4.347938775510205,
          4.449979591836735,
          4.552020408163266,
          4.654061224489796,
          4.7561020408163275,
          4.858142857142858,
          4.9601836734693885,
          5.062224489795919,
          5.1642653061224495,
          5.26630612244898,
          5.3683469387755105,
          5.470387755102041,
          5.5724285714285715,
          5.674469387755102,
          5.7765102040816325,
          5.878551020408164,
          5.980591836734694,
          6.082632653061225,
          6.184673469387755,
          6.286714285714286,
          6.388755102040816,
          6.490795918367348,
          6.592836734693878,
          6.694877551020409,
          6.796918367346939,
          6.89895918367347,
          7.001,
          7.001,
          7.001,
          7.001,
          7.001,
          7.001,
          7.001,
          7.001,
          7.001,
          7.001,
          7.001,
          7.001,
          7.001,
          7.001,
          7.001,
          7.001,
          7.001,
          7.001,
          7.001,
          7.001,
          7.001,
          7.001,
          7.001,
          7.001,
          7.001,
          7.001,
          7.001,
          7.001,
          7.001,
          7.001,
          7.001,
          7.001,
          7.001,
          7.001,
          7.001,
          7.001,
          7.001,
          7.001,
          7.001,
          7.001,
          7.001,
          7.001,
          7.001,
          7.001,
          7.001,
          7.001,
          7.001,
          7.001,
          7.001,
          7.001,
          7.001
         ],
         "yaxis": "y"
        },
        {
         "marker": {
          "color": "red",
          "size": 10
         },
         "name": "400p border ",
         "type": "scatter",
         "x": [
          6.003,
          6.003,
          6.003,
          6.003,
          6.003,
          6.003,
          6.003,
          6.003,
          6.003,
          6.003,
          6.003,
          6.003,
          6.003,
          6.003,
          6.003,
          6.003,
          6.003,
          6.003,
          6.003,
          6.003,
          6.003,
          6.003,
          6.003,
          6.003,
          6.003,
          6.003,
          6.003,
          6.003,
          6.003,
          6.003,
          6.003,
          6.003,
          6.003,
          6.003,
          6.003,
          6.003,
          6.003,
          6.003,
          6.003,
          6.003,
          6.003,
          6.003,
          6.003,
          6.003,
          6.003,
          6.003,
          6.003,
          6.003,
          6.003,
          6.003,
          6.003,
          6.309122448979592,
          6.615244897959183,
          6.9213673469387755,
          7.227489795918367,
          7.5336122448979586,
          7.839734693877551,
          8.145857142857142,
          8.451979591836734,
          8.758102040816325,
          9.064224489795917,
          9.37034693877551,
          9.676469387755102,
          9.982591836734693,
          10.288714285714287,
          10.594836734693878,
          10.90095918367347,
          11.207081632653061,
          11.513204081632653,
          11.819326530612244,
          12.125448979591837,
          12.431571428571427,
          12.737693877551022,
          13.043816326530614,
          13.349938775510205,
          13.656061224489797,
          13.962183673469388,
          14.268306122448983,
          14.574428571428573,
          14.880551020408166,
          15.186673469387756,
          15.49279591836735,
          15.798918367346939,
          16.105040816326532,
          16.411163265306122,
          16.717285714285715,
          17.023408163265305,
          17.3295306122449,
          17.63565306122449,
          17.94177551020408,
          18.247897959183675,
          18.554020408163268,
          18.860142857142858,
          19.166265306122447,
          19.472387755102044,
          19.778510204081634,
          20.084632653061227,
          20.390755102040817,
          20.69687755102041,
          21.003,
          21.003,
          21.003,
          21.003,
          21.003,
          21.003,
          21.003,
          21.003,
          21.003,
          21.003,
          21.003,
          21.003,
          21.003,
          21.003,
          21.003,
          21.003,
          21.003,
          21.003,
          21.003,
          21.003,
          21.003,
          21.003,
          21.003,
          21.003,
          21.003,
          21.003,
          21.003,
          21.003,
          21.003,
          21.003,
          21.003,
          21.003,
          21.003,
          21.003,
          21.003,
          21.003,
          21.003,
          21.003,
          21.003,
          21.003,
          21.003,
          21.003,
          21.003,
          21.003,
          21.003,
          21.003,
          21.003,
          21.003,
          21.003,
          21.003,
          21.003,
          21.003,
          20.69687755102041,
          20.390755102040817,
          20.084632653061227,
          19.778510204081634,
          19.47238775510204,
          19.166265306122447,
          18.860142857142858,
          18.554020408163268,
          18.247897959183675,
          17.94177551020408,
          17.635653061224488,
          17.3295306122449,
          17.023408163265305,
          16.717285714285715,
          16.411163265306122,
          16.105040816326532,
          15.798918367346939,
          15.49279591836735,
          15.186673469387756,
          14.880551020408166,
          14.574428571428573,
          14.26830612244898,
          13.962183673469388,
          13.656061224489797,
          13.349938775510205,
          13.043816326530614,
          12.73769387755102,
          12.431571428571427,
          12.125448979591837,
          11.819326530612244,
          11.513204081632653,
          11.207081632653061,
          10.90095918367347,
          10.594836734693878,
          10.288714285714285,
          9.982591836734693,
          9.676469387755102,
          9.370346938775509,
          9.064224489795917,
          8.758102040816325,
          8.451979591836734,
          8.145857142857142,
          7.839734693877551,
          7.533612244897958,
          7.227489795918366,
          6.921367346938775,
          6.615244897959183,
          6.309122448979592,
          6.003
         ],
         "xaxis": "x2",
         "y": [
          21.003,
          20.69687755102041,
          20.390755102040817,
          20.084632653061227,
          19.778510204081634,
          19.47238775510204,
          19.166265306122447,
          18.860142857142858,
          18.554020408163268,
          18.247897959183675,
          17.94177551020408,
          17.635653061224488,
          17.3295306122449,
          17.023408163265305,
          16.717285714285715,
          16.411163265306122,
          16.105040816326532,
          15.798918367346939,
          15.49279591836735,
          15.186673469387756,
          14.880551020408166,
          14.574428571428573,
          14.26830612244898,
          13.962183673469388,
          13.656061224489797,
          13.349938775510205,
          13.043816326530614,
          12.73769387755102,
          12.431571428571427,
          12.125448979591837,
          11.819326530612244,
          11.513204081632653,
          11.207081632653061,
          10.90095918367347,
          10.594836734693878,
          10.288714285714285,
          9.982591836734693,
          9.676469387755102,
          9.370346938775509,
          9.064224489795917,
          8.758102040816325,
          8.451979591836734,
          8.145857142857142,
          7.839734693877551,
          7.533612244897958,
          7.227489795918366,
          6.921367346938775,
          6.615244897959183,
          6.309122448979592,
          6.003,
          6.003,
          6.003,
          6.003,
          6.003,
          6.003,
          6.003,
          6.003,
          6.003,
          6.003,
          6.003,
          6.003,
          6.003,
          6.003,
          6.003,
          6.003,
          6.003,
          6.003,
          6.003,
          6.003,
          6.003,
          6.003,
          6.003,
          6.003,
          6.003,
          6.003,
          6.003,
          6.003,
          6.003,
          6.003,
          6.003,
          6.003,
          6.003,
          6.003,
          6.003,
          6.003,
          6.003,
          6.003,
          6.003,
          6.003,
          6.003,
          6.003,
          6.003,
          6.003,
          6.003,
          6.003,
          6.003,
          6.003,
          6.003,
          6.003,
          6.003,
          6.003,
          6.309122448979592,
          6.615244897959183,
          6.9213673469387755,
          7.227489795918367,
          7.5336122448979586,
          7.839734693877551,
          8.145857142857142,
          8.451979591836734,
          8.758102040816325,
          9.064224489795917,
          9.37034693877551,
          9.676469387755102,
          9.982591836734693,
          10.288714285714287,
          10.594836734693878,
          10.90095918367347,
          11.207081632653061,
          11.513204081632653,
          11.819326530612244,
          12.125448979591837,
          12.431571428571427,
          12.737693877551022,
          13.043816326530614,
          13.349938775510205,
          13.656061224489797,
          13.962183673469388,
          14.268306122448983,
          14.574428571428573,
          14.880551020408166,
          15.186673469387756,
          15.49279591836735,
          15.798918367346939,
          16.105040816326532,
          16.411163265306122,
          16.717285714285715,
          17.023408163265305,
          17.3295306122449,
          17.63565306122449,
          17.94177551020408,
          18.247897959183675,
          18.554020408163268,
          18.860142857142858,
          19.166265306122447,
          19.472387755102044,
          19.778510204081634,
          20.084632653061227,
          20.390755102040817,
          20.69687755102041,
          21.003,
          21.003,
          21.003,
          21.003,
          21.003,
          21.003,
          21.003,
          21.003,
          21.003,
          21.003,
          21.003,
          21.003,
          21.003,
          21.003,
          21.003,
          21.003,
          21.003,
          21.003,
          21.003,
          21.003,
          21.003,
          21.003,
          21.003,
          21.003,
          21.003,
          21.003,
          21.003,
          21.003,
          21.003,
          21.003,
          21.003,
          21.003,
          21.003,
          21.003,
          21.003,
          21.003,
          21.003,
          21.003,
          21.003,
          21.003,
          21.003,
          21.003,
          21.003,
          21.003,
          21.003,
          21.003,
          21.003,
          21.003,
          21.003,
          21.003,
          21.003
         ],
         "yaxis": "y2"
        }
       ],
       "layout": {
        "annotations": [
         {
          "font": {
           "size": 16
          },
          "showarrow": false,
          "text": "Original image",
          "x": 0.2375,
          "xanchor": "center",
          "xref": "paper",
          "y": 1,
          "yanchor": "bottom",
          "yref": "paper"
         },
         {
          "font": {
           "size": 16
          },
          "showarrow": false,
          "text": "Upscaled image s=(3, 3)",
          "x": 0.7625,
          "xanchor": "center",
          "xref": "paper",
          "y": 1,
          "yanchor": "bottom",
          "yref": "paper"
         }
        ],
        "coloraxis": {
         "showscale": false
        },
        "font": {
         "size": 11
        },
        "height": 800,
        "showlegend": false,
        "template": {
         "data": {
          "bar": [
           {
            "error_x": {
             "color": "#2a3f5f"
            },
            "error_y": {
             "color": "#2a3f5f"
            },
            "marker": {
             "line": {
              "color": "#E5ECF6",
              "width": 0.5
             },
             "pattern": {
              "fillmode": "overlay",
              "size": 10,
              "solidity": 0.2
             }
            },
            "type": "bar"
           }
          ],
          "barpolar": [
           {
            "marker": {
             "line": {
              "color": "#E5ECF6",
              "width": 0.5
             },
             "pattern": {
              "fillmode": "overlay",
              "size": 10,
              "solidity": 0.2
             }
            },
            "type": "barpolar"
           }
          ],
          "carpet": [
           {
            "aaxis": {
             "endlinecolor": "#2a3f5f",
             "gridcolor": "white",
             "linecolor": "white",
             "minorgridcolor": "white",
             "startlinecolor": "#2a3f5f"
            },
            "baxis": {
             "endlinecolor": "#2a3f5f",
             "gridcolor": "white",
             "linecolor": "white",
             "minorgridcolor": "white",
             "startlinecolor": "#2a3f5f"
            },
            "type": "carpet"
           }
          ],
          "choropleth": [
           {
            "colorbar": {
             "outlinewidth": 0,
             "ticks": ""
            },
            "type": "choropleth"
           }
          ],
          "contour": [
           {
            "colorbar": {
             "outlinewidth": 0,
             "ticks": ""
            },
            "colorscale": [
             [
              0,
              "#0d0887"
             ],
             [
              0.1111111111111111,
              "#46039f"
             ],
             [
              0.2222222222222222,
              "#7201a8"
             ],
             [
              0.3333333333333333,
              "#9c179e"
             ],
             [
              0.4444444444444444,
              "#bd3786"
             ],
             [
              0.5555555555555556,
              "#d8576b"
             ],
             [
              0.6666666666666666,
              "#ed7953"
             ],
             [
              0.7777777777777778,
              "#fb9f3a"
             ],
             [
              0.8888888888888888,
              "#fdca26"
             ],
             [
              1,
              "#f0f921"
             ]
            ],
            "type": "contour"
           }
          ],
          "contourcarpet": [
           {
            "colorbar": {
             "outlinewidth": 0,
             "ticks": ""
            },
            "type": "contourcarpet"
           }
          ],
          "heatmap": [
           {
            "colorbar": {
             "outlinewidth": 0,
             "ticks": ""
            },
            "colorscale": [
             [
              0,
              "#0d0887"
             ],
             [
              0.1111111111111111,
              "#46039f"
             ],
             [
              0.2222222222222222,
              "#7201a8"
             ],
             [
              0.3333333333333333,
              "#9c179e"
             ],
             [
              0.4444444444444444,
              "#bd3786"
             ],
             [
              0.5555555555555556,
              "#d8576b"
             ],
             [
              0.6666666666666666,
              "#ed7953"
             ],
             [
              0.7777777777777778,
              "#fb9f3a"
             ],
             [
              0.8888888888888888,
              "#fdca26"
             ],
             [
              1,
              "#f0f921"
             ]
            ],
            "type": "heatmap"
           }
          ],
          "heatmapgl": [
           {
            "colorbar": {
             "outlinewidth": 0,
             "ticks": ""
            },
            "colorscale": [
             [
              0,
              "#0d0887"
             ],
             [
              0.1111111111111111,
              "#46039f"
             ],
             [
              0.2222222222222222,
              "#7201a8"
             ],
             [
              0.3333333333333333,
              "#9c179e"
             ],
             [
              0.4444444444444444,
              "#bd3786"
             ],
             [
              0.5555555555555556,
              "#d8576b"
             ],
             [
              0.6666666666666666,
              "#ed7953"
             ],
             [
              0.7777777777777778,
              "#fb9f3a"
             ],
             [
              0.8888888888888888,
              "#fdca26"
             ],
             [
              1,
              "#f0f921"
             ]
            ],
            "type": "heatmapgl"
           }
          ],
          "histogram": [
           {
            "marker": {
             "pattern": {
              "fillmode": "overlay",
              "size": 10,
              "solidity": 0.2
             }
            },
            "type": "histogram"
           }
          ],
          "histogram2d": [
           {
            "colorbar": {
             "outlinewidth": 0,
             "ticks": ""
            },
            "colorscale": [
             [
              0,
              "#0d0887"
             ],
             [
              0.1111111111111111,
              "#46039f"
             ],
             [
              0.2222222222222222,
              "#7201a8"
             ],
             [
              0.3333333333333333,
              "#9c179e"
             ],
             [
              0.4444444444444444,
              "#bd3786"
             ],
             [
              0.5555555555555556,
              "#d8576b"
             ],
             [
              0.6666666666666666,
              "#ed7953"
             ],
             [
              0.7777777777777778,
              "#fb9f3a"
             ],
             [
              0.8888888888888888,
              "#fdca26"
             ],
             [
              1,
              "#f0f921"
             ]
            ],
            "type": "histogram2d"
           }
          ],
          "histogram2dcontour": [
           {
            "colorbar": {
             "outlinewidth": 0,
             "ticks": ""
            },
            "colorscale": [
             [
              0,
              "#0d0887"
             ],
             [
              0.1111111111111111,
              "#46039f"
             ],
             [
              0.2222222222222222,
              "#7201a8"
             ],
             [
              0.3333333333333333,
              "#9c179e"
             ],
             [
              0.4444444444444444,
              "#bd3786"
             ],
             [
              0.5555555555555556,
              "#d8576b"
             ],
             [
              0.6666666666666666,
              "#ed7953"
             ],
             [
              0.7777777777777778,
              "#fb9f3a"
             ],
             [
              0.8888888888888888,
              "#fdca26"
             ],
             [
              1,
              "#f0f921"
             ]
            ],
            "type": "histogram2dcontour"
           }
          ],
          "mesh3d": [
           {
            "colorbar": {
             "outlinewidth": 0,
             "ticks": ""
            },
            "type": "mesh3d"
           }
          ],
          "parcoords": [
           {
            "line": {
             "colorbar": {
              "outlinewidth": 0,
              "ticks": ""
             }
            },
            "type": "parcoords"
           }
          ],
          "pie": [
           {
            "automargin": true,
            "type": "pie"
           }
          ],
          "scatter": [
           {
            "fillpattern": {
             "fillmode": "overlay",
             "size": 10,
             "solidity": 0.2
            },
            "type": "scatter"
           }
          ],
          "scatter3d": [
           {
            "line": {
             "colorbar": {
              "outlinewidth": 0,
              "ticks": ""
             }
            },
            "marker": {
             "colorbar": {
              "outlinewidth": 0,
              "ticks": ""
             }
            },
            "type": "scatter3d"
           }
          ],
          "scattercarpet": [
           {
            "marker": {
             "colorbar": {
              "outlinewidth": 0,
              "ticks": ""
             }
            },
            "type": "scattercarpet"
           }
          ],
          "scattergeo": [
           {
            "marker": {
             "colorbar": {
              "outlinewidth": 0,
              "ticks": ""
             }
            },
            "type": "scattergeo"
           }
          ],
          "scattergl": [
           {
            "marker": {
             "colorbar": {
              "outlinewidth": 0,
              "ticks": ""
             }
            },
            "type": "scattergl"
           }
          ],
          "scattermapbox": [
           {
            "marker": {
             "colorbar": {
              "outlinewidth": 0,
              "ticks": ""
             }
            },
            "type": "scattermapbox"
           }
          ],
          "scatterpolar": [
           {
            "marker": {
             "colorbar": {
              "outlinewidth": 0,
              "ticks": ""
             }
            },
            "type": "scatterpolar"
           }
          ],
          "scatterpolargl": [
           {
            "marker": {
             "colorbar": {
              "outlinewidth": 0,
              "ticks": ""
             }
            },
            "type": "scatterpolargl"
           }
          ],
          "scatterternary": [
           {
            "marker": {
             "colorbar": {
              "outlinewidth": 0,
              "ticks": ""
             }
            },
            "type": "scatterternary"
           }
          ],
          "surface": [
           {
            "colorbar": {
             "outlinewidth": 0,
             "ticks": ""
            },
            "colorscale": [
             [
              0,
              "#0d0887"
             ],
             [
              0.1111111111111111,
              "#46039f"
             ],
             [
              0.2222222222222222,
              "#7201a8"
             ],
             [
              0.3333333333333333,
              "#9c179e"
             ],
             [
              0.4444444444444444,
              "#bd3786"
             ],
             [
              0.5555555555555556,
              "#d8576b"
             ],
             [
              0.6666666666666666,
              "#ed7953"
             ],
             [
              0.7777777777777778,
              "#fb9f3a"
             ],
             [
              0.8888888888888888,
              "#fdca26"
             ],
             [
              1,
              "#f0f921"
             ]
            ],
            "type": "surface"
           }
          ],
          "table": [
           {
            "cells": {
             "fill": {
              "color": "#EBF0F8"
             },
             "line": {
              "color": "white"
             }
            },
            "header": {
             "fill": {
              "color": "#C8D4E3"
             },
             "line": {
              "color": "white"
             }
            },
            "type": "table"
           }
          ]
         },
         "layout": {
          "annotationdefaults": {
           "arrowcolor": "#2a3f5f",
           "arrowhead": 0,
           "arrowwidth": 1
          },
          "autotypenumbers": "strict",
          "coloraxis": {
           "colorbar": {
            "outlinewidth": 0,
            "ticks": ""
           }
          },
          "colorscale": {
           "diverging": [
            [
             0,
             "#8e0152"
            ],
            [
             0.1,
             "#c51b7d"
            ],
            [
             0.2,
             "#de77ae"
            ],
            [
             0.3,
             "#f1b6da"
            ],
            [
             0.4,
             "#fde0ef"
            ],
            [
             0.5,
             "#f7f7f7"
            ],
            [
             0.6,
             "#e6f5d0"
            ],
            [
             0.7,
             "#b8e186"
            ],
            [
             0.8,
             "#7fbc41"
            ],
            [
             0.9,
             "#4d9221"
            ],
            [
             1,
             "#276419"
            ]
           ],
           "sequential": [
            [
             0,
             "#0d0887"
            ],
            [
             0.1111111111111111,
             "#46039f"
            ],
            [
             0.2222222222222222,
             "#7201a8"
            ],
            [
             0.3333333333333333,
             "#9c179e"
            ],
            [
             0.4444444444444444,
             "#bd3786"
            ],
            [
             0.5555555555555556,
             "#d8576b"
            ],
            [
             0.6666666666666666,
             "#ed7953"
            ],
            [
             0.7777777777777778,
             "#fb9f3a"
            ],
            [
             0.8888888888888888,
             "#fdca26"
            ],
            [
             1,
             "#f0f921"
            ]
           ],
           "sequentialminus": [
            [
             0,
             "#0d0887"
            ],
            [
             0.1111111111111111,
             "#46039f"
            ],
            [
             0.2222222222222222,
             "#7201a8"
            ],
            [
             0.3333333333333333,
             "#9c179e"
            ],
            [
             0.4444444444444444,
             "#bd3786"
            ],
            [
             0.5555555555555556,
             "#d8576b"
            ],
            [
             0.6666666666666666,
             "#ed7953"
            ],
            [
             0.7777777777777778,
             "#fb9f3a"
            ],
            [
             0.8888888888888888,
             "#fdca26"
            ],
            [
             1,
             "#f0f921"
            ]
           ]
          },
          "colorway": [
           "#636efa",
           "#EF553B",
           "#00cc96",
           "#ab63fa",
           "#FFA15A",
           "#19d3f3",
           "#FF6692",
           "#B6E880",
           "#FF97FF",
           "#FECB52"
          ],
          "font": {
           "color": "#2a3f5f"
          },
          "geo": {
           "bgcolor": "white",
           "lakecolor": "white",
           "landcolor": "#E5ECF6",
           "showlakes": true,
           "showland": true,
           "subunitcolor": "white"
          },
          "hoverlabel": {
           "align": "left"
          },
          "hovermode": "closest",
          "mapbox": {
           "style": "light"
          },
          "paper_bgcolor": "white",
          "plot_bgcolor": "#E5ECF6",
          "polar": {
           "angularaxis": {
            "gridcolor": "white",
            "linecolor": "white",
            "ticks": ""
           },
           "bgcolor": "#E5ECF6",
           "radialaxis": {
            "gridcolor": "white",
            "linecolor": "white",
            "ticks": ""
           }
          },
          "scene": {
           "xaxis": {
            "backgroundcolor": "#E5ECF6",
            "gridcolor": "white",
            "gridwidth": 2,
            "linecolor": "white",
            "showbackground": true,
            "ticks": "",
            "zerolinecolor": "white"
           },
           "yaxis": {
            "backgroundcolor": "#E5ECF6",
            "gridcolor": "white",
            "gridwidth": 2,
            "linecolor": "white",
            "showbackground": true,
            "ticks": "",
            "zerolinecolor": "white"
           },
           "zaxis": {
            "backgroundcolor": "#E5ECF6",
            "gridcolor": "white",
            "gridwidth": 2,
            "linecolor": "white",
            "showbackground": true,
            "ticks": "",
            "zerolinecolor": "white"
           }
          },
          "shapedefaults": {
           "line": {
            "color": "#2a3f5f"
           }
          },
          "ternary": {
           "aaxis": {
            "gridcolor": "white",
            "linecolor": "white",
            "ticks": ""
           },
           "baxis": {
            "gridcolor": "white",
            "linecolor": "white",
            "ticks": ""
           },
           "bgcolor": "#E5ECF6",
           "caxis": {
            "gridcolor": "white",
            "linecolor": "white",
            "ticks": ""
           }
          },
          "title": {
           "x": 0.05
          },
          "xaxis": {
           "automargin": true,
           "gridcolor": "white",
           "linecolor": "white",
           "ticks": "",
           "title": {
            "standoff": 15
           },
           "zerolinecolor": "white",
           "zerolinewidth": 2
          },
          "yaxis": {
           "automargin": true,
           "gridcolor": "white",
           "linecolor": "white",
           "ticks": "",
           "title": {
            "standoff": 15
           },
           "zerolinecolor": "white",
           "zerolinewidth": 2
          }
         }
        },
        "title": {
         "text": "Border upscaling when b(point)=point*s",
         "x": 0.5
        },
        "width": 1400,
        "xaxis": {
         "anchor": "y",
         "domain": [
          0,
          0.475
         ]
        },
        "xaxis2": {
         "anchor": "y2",
         "domain": [
          0.525,
          1
         ]
        },
        "yaxis": {
         "anchor": "x",
         "domain": [
          0,
          1
         ]
        },
        "yaxis2": {
         "anchor": "x2",
         "domain": [
          0,
          1
         ]
        }
       }
      }
     },
     "metadata": {},
     "output_type": "display_data"
    }
   ],
   "source": [
    "fig = make_subplots(rows=1, cols=2, \n",
    "                    horizontal_spacing=0.05, \n",
    "                    vertical_spacing=0.1,\n",
    "                    subplot_titles=('Original image', f\"Upscaled image s={scale_factor_x, scale_factor_y}\"))\n",
    "# Add images to plot\n",
    "base_image_fig = px.imshow(test_image)\n",
    "fig.add_trace(base_image_fig.data[0], 1, 1)\n",
    "xs, ys = gridlines(test_image)\n",
    "fig.add_trace(go.Scatter(x=xs, y=ys, marker=dict(color='black', size=1), name=f\"Pixel edges\", showlegend=False), row=1, col=1)\n",
    "\n",
    "upscaled_image_fig = px.imshow(upscaled_image_box)\n",
    "fig.add_trace(upscaled_image_fig.data[0], 1, 2)\n",
    "xs, ys = gridlines(upscaled_image_box)\n",
    "fig.add_trace(go.Scatter(x=xs, y=ys, marker=dict(color='black', size=1), name=f\"Pixel edges\", showlegend=False), row=1, col=2)\n",
    "\n",
    "\n",
    "fig.add_trace(go.Scatter(x=fourier_xs, y=fourier_ys, marker=dict(color='red', size=10), name=f\"400p border\"), row=1, col=1)\n",
    "fig.add_trace(go.Scatter(x=fourier_xs*scale_factor_x, y=fourier_ys*scale_factor_y, marker=dict(color='red', size=10), name=f\"400p border \"), row=1, col=2)\n",
    "\n",
    "fig.update_layout(title_text=f\"Border upscaling when b(point)=point*s\", title_x=0.5, width=1400, height=800, showlegend=False, font_size=11)\n",
    "fig.update(layout_coloraxis_showscale=False)\n",
    "fig.show()"
   ]
  },
  {
   "cell_type": "code",
   "execution_count": 51,
   "metadata": {},
   "outputs": [
    {
     "data": {
      "application/vnd.plotly.v1+json": {
       "config": {
        "plotlyServerURL": "https://plot.ly"
       },
       "data": [
        {
         "coloraxis": "coloraxis",
         "hovertemplate": "x: %{x}<br>y: %{y}<br>color: %{z}<extra></extra>",
         "name": "0",
         "type": "heatmap",
         "xaxis": "x",
         "yaxis": "y",
         "z": [
          [
           0,
           0,
           0,
           0,
           0,
           0,
           0,
           0,
           0,
           0
          ],
          [
           0,
           0,
           0,
           0,
           0,
           0,
           0,
           0,
           0,
           0
          ],
          [
           0,
           0,
           1,
           1,
           1,
           1,
           1,
           1,
           0,
           0
          ],
          [
           0,
           0,
           1,
           0,
           0,
           0,
           0,
           1,
           0,
           0
          ],
          [
           0,
           0,
           1,
           0,
           0,
           0,
           0,
           1,
           0,
           0
          ],
          [
           0,
           0,
           1,
           0,
           0,
           0,
           0,
           1,
           0,
           0
          ],
          [
           0,
           0,
           1,
           0,
           0,
           0,
           0,
           1,
           0,
           0
          ],
          [
           0,
           0,
           1,
           1,
           1,
           1,
           1,
           1,
           0,
           0
          ],
          [
           0,
           0,
           0,
           0,
           0,
           0,
           0,
           0,
           0,
           0
          ],
          [
           0,
           0,
           0,
           0,
           0,
           0,
           0,
           0,
           0,
           0
          ]
         ]
        },
        {
         "marker": {
          "color": "black",
          "size": 1
         },
         "name": "Pixel edges",
         "showlegend": false,
         "type": "scatter",
         "x": [
          -0.5,
          -0.5,
          null,
          0.5,
          0.5,
          null,
          1.5,
          1.5,
          null,
          2.5,
          2.5,
          null,
          3.5,
          3.5,
          null,
          4.5,
          4.5,
          null,
          5.5,
          5.5,
          null,
          6.5,
          6.5,
          null,
          7.5,
          7.5,
          null,
          8.5,
          8.5,
          null,
          -0.5,
          9.5,
          null,
          -0.5,
          9.5,
          null,
          -0.5,
          9.5,
          null,
          -0.5,
          9.5,
          null,
          -0.5,
          9.5,
          null,
          -0.5,
          9.5,
          null,
          -0.5,
          9.5,
          null,
          -0.5,
          9.5,
          null,
          -0.5,
          9.5,
          null,
          -0.5,
          9.5,
          null
         ],
         "xaxis": "x",
         "y": [
          -0.5,
          9.5,
          null,
          -0.5,
          9.5,
          null,
          -0.5,
          9.5,
          null,
          -0.5,
          9.5,
          null,
          -0.5,
          9.5,
          null,
          -0.5,
          9.5,
          null,
          -0.5,
          9.5,
          null,
          -0.5,
          9.5,
          null,
          -0.5,
          9.5,
          null,
          -0.5,
          9.5,
          null,
          -0.5,
          -0.5,
          null,
          0.5,
          0.5,
          null,
          1.5,
          1.5,
          null,
          2.5,
          2.5,
          null,
          3.5,
          3.5,
          null,
          4.5,
          4.5,
          null,
          5.5,
          5.5,
          null,
          6.5,
          6.5,
          null,
          7.5,
          7.5,
          null,
          8.5,
          8.5,
          null
         ],
         "yaxis": "y"
        },
        {
         "coloraxis": "coloraxis",
         "hovertemplate": "x: %{x}<br>y: %{y}<br>color: %{z}<extra></extra>",
         "name": "0",
         "type": "heatmap",
         "xaxis": "x2",
         "yaxis": "y2",
         "z": [
          [
           0,
           0,
           0,
           0,
           0,
           0,
           0,
           0,
           0,
           0,
           0,
           0,
           0,
           0,
           0,
           0,
           0,
           0,
           0,
           0,
           0,
           0,
           0,
           0,
           0,
           0,
           0,
           0,
           0,
           0
          ],
          [
           0,
           0,
           0,
           0,
           0,
           0,
           0,
           0,
           0,
           0,
           0,
           0,
           0,
           0,
           0,
           0,
           0,
           0,
           0,
           0,
           0,
           0,
           0,
           0,
           0,
           0,
           0,
           0,
           0,
           0
          ],
          [
           0,
           0,
           0,
           0,
           0,
           0,
           0,
           0,
           0,
           0,
           0,
           0,
           0,
           0,
           0,
           0,
           0,
           0,
           0,
           0,
           0,
           0,
           0,
           0,
           0,
           0,
           0,
           0,
           0,
           0
          ],
          [
           0,
           0,
           0,
           0,
           0,
           0,
           0,
           0,
           0,
           0,
           0,
           0,
           0,
           0,
           0,
           0,
           0,
           0,
           0,
           0,
           0,
           0,
           0,
           0,
           0,
           0,
           0,
           0,
           0,
           0
          ],
          [
           0,
           0,
           0,
           0,
           0,
           0,
           0,
           0,
           0,
           0,
           0,
           0,
           0,
           0,
           0,
           0,
           0,
           0,
           0,
           0,
           0,
           0,
           0,
           0,
           0,
           0,
           0,
           0,
           0,
           0
          ],
          [
           0,
           0,
           0,
           0,
           0,
           0,
           0,
           0,
           0,
           0,
           0,
           0,
           0,
           0,
           0,
           0,
           0,
           0,
           0,
           0,
           0,
           0,
           0,
           0,
           0,
           0,
           0,
           0,
           0,
           0
          ],
          [
           0,
           0,
           0,
           0,
           0,
           0,
           1,
           1,
           1,
           1,
           1,
           1,
           1,
           1,
           1,
           1,
           1,
           1,
           1,
           1,
           1,
           1,
           1,
           1,
           0,
           0,
           0,
           0,
           0,
           0
          ],
          [
           0,
           0,
           0,
           0,
           0,
           0,
           1,
           1,
           1,
           1,
           1,
           1,
           1,
           1,
           1,
           1,
           1,
           1,
           1,
           1,
           1,
           1,
           1,
           1,
           0,
           0,
           0,
           0,
           0,
           0
          ],
          [
           0,
           0,
           0,
           0,
           0,
           0,
           1,
           1,
           1,
           1,
           1,
           1,
           1,
           1,
           1,
           1,
           1,
           1,
           1,
           1,
           1,
           1,
           1,
           1,
           0,
           0,
           0,
           0,
           0,
           0
          ],
          [
           0,
           0,
           0,
           0,
           0,
           0,
           1,
           1,
           1,
           0,
           0,
           0,
           0,
           0,
           0,
           0,
           0,
           0,
           0,
           0,
           0,
           1,
           1,
           1,
           0,
           0,
           0,
           0,
           0,
           0
          ],
          [
           0,
           0,
           0,
           0,
           0,
           0,
           1,
           1,
           1,
           0,
           0,
           0,
           0,
           0,
           0,
           0,
           0,
           0,
           0,
           0,
           0,
           1,
           1,
           1,
           0,
           0,
           0,
           0,
           0,
           0
          ],
          [
           0,
           0,
           0,
           0,
           0,
           0,
           1,
           1,
           1,
           0,
           0,
           0,
           0,
           0,
           0,
           0,
           0,
           0,
           0,
           0,
           0,
           1,
           1,
           1,
           0,
           0,
           0,
           0,
           0,
           0
          ],
          [
           0,
           0,
           0,
           0,
           0,
           0,
           1,
           1,
           1,
           0,
           0,
           0,
           0,
           0,
           0,
           0,
           0,
           0,
           0,
           0,
           0,
           1,
           1,
           1,
           0,
           0,
           0,
           0,
           0,
           0
          ],
          [
           0,
           0,
           0,
           0,
           0,
           0,
           1,
           1,
           1,
           0,
           0,
           0,
           0,
           0,
           0,
           0,
           0,
           0,
           0,
           0,
           0,
           1,
           1,
           1,
           0,
           0,
           0,
           0,
           0,
           0
          ],
          [
           0,
           0,
           0,
           0,
           0,
           0,
           1,
           1,
           1,
           0,
           0,
           0,
           0,
           0,
           0,
           0,
           0,
           0,
           0,
           0,
           0,
           1,
           1,
           1,
           0,
           0,
           0,
           0,
           0,
           0
          ],
          [
           0,
           0,
           0,
           0,
           0,
           0,
           1,
           1,
           1,
           0,
           0,
           0,
           0,
           0,
           0,
           0,
           0,
           0,
           0,
           0,
           0,
           1,
           1,
           1,
           0,
           0,
           0,
           0,
           0,
           0
          ],
          [
           0,
           0,
           0,
           0,
           0,
           0,
           1,
           1,
           1,
           0,
           0,
           0,
           0,
           0,
           0,
           0,
           0,
           0,
           0,
           0,
           0,
           1,
           1,
           1,
           0,
           0,
           0,
           0,
           0,
           0
          ],
          [
           0,
           0,
           0,
           0,
           0,
           0,
           1,
           1,
           1,
           0,
           0,
           0,
           0,
           0,
           0,
           0,
           0,
           0,
           0,
           0,
           0,
           1,
           1,
           1,
           0,
           0,
           0,
           0,
           0,
           0
          ],
          [
           0,
           0,
           0,
           0,
           0,
           0,
           1,
           1,
           1,
           0,
           0,
           0,
           0,
           0,
           0,
           0,
           0,
           0,
           0,
           0,
           0,
           1,
           1,
           1,
           0,
           0,
           0,
           0,
           0,
           0
          ],
          [
           0,
           0,
           0,
           0,
           0,
           0,
           1,
           1,
           1,
           0,
           0,
           0,
           0,
           0,
           0,
           0,
           0,
           0,
           0,
           0,
           0,
           1,
           1,
           1,
           0,
           0,
           0,
           0,
           0,
           0
          ],
          [
           0,
           0,
           0,
           0,
           0,
           0,
           1,
           1,
           1,
           0,
           0,
           0,
           0,
           0,
           0,
           0,
           0,
           0,
           0,
           0,
           0,
           1,
           1,
           1,
           0,
           0,
           0,
           0,
           0,
           0
          ],
          [
           0,
           0,
           0,
           0,
           0,
           0,
           1,
           1,
           1,
           1,
           1,
           1,
           1,
           1,
           1,
           1,
           1,
           1,
           1,
           1,
           1,
           1,
           1,
           1,
           0,
           0,
           0,
           0,
           0,
           0
          ],
          [
           0,
           0,
           0,
           0,
           0,
           0,
           1,
           1,
           1,
           1,
           1,
           1,
           1,
           1,
           1,
           1,
           1,
           1,
           1,
           1,
           1,
           1,
           1,
           1,
           0,
           0,
           0,
           0,
           0,
           0
          ],
          [
           0,
           0,
           0,
           0,
           0,
           0,
           1,
           1,
           1,
           1,
           1,
           1,
           1,
           1,
           1,
           1,
           1,
           1,
           1,
           1,
           1,
           1,
           1,
           1,
           0,
           0,
           0,
           0,
           0,
           0
          ],
          [
           0,
           0,
           0,
           0,
           0,
           0,
           0,
           0,
           0,
           0,
           0,
           0,
           0,
           0,
           0,
           0,
           0,
           0,
           0,
           0,
           0,
           0,
           0,
           0,
           0,
           0,
           0,
           0,
           0,
           0
          ],
          [
           0,
           0,
           0,
           0,
           0,
           0,
           0,
           0,
           0,
           0,
           0,
           0,
           0,
           0,
           0,
           0,
           0,
           0,
           0,
           0,
           0,
           0,
           0,
           0,
           0,
           0,
           0,
           0,
           0,
           0
          ],
          [
           0,
           0,
           0,
           0,
           0,
           0,
           0,
           0,
           0,
           0,
           0,
           0,
           0,
           0,
           0,
           0,
           0,
           0,
           0,
           0,
           0,
           0,
           0,
           0,
           0,
           0,
           0,
           0,
           0,
           0
          ],
          [
           0,
           0,
           0,
           0,
           0,
           0,
           0,
           0,
           0,
           0,
           0,
           0,
           0,
           0,
           0,
           0,
           0,
           0,
           0,
           0,
           0,
           0,
           0,
           0,
           0,
           0,
           0,
           0,
           0,
           0
          ],
          [
           0,
           0,
           0,
           0,
           0,
           0,
           0,
           0,
           0,
           0,
           0,
           0,
           0,
           0,
           0,
           0,
           0,
           0,
           0,
           0,
           0,
           0,
           0,
           0,
           0,
           0,
           0,
           0,
           0,
           0
          ],
          [
           0,
           0,
           0,
           0,
           0,
           0,
           0,
           0,
           0,
           0,
           0,
           0,
           0,
           0,
           0,
           0,
           0,
           0,
           0,
           0,
           0,
           0,
           0,
           0,
           0,
           0,
           0,
           0,
           0,
           0
          ]
         ]
        },
        {
         "marker": {
          "color": "black",
          "size": 1
         },
         "name": "Pixel edges",
         "showlegend": false,
         "type": "scatter",
         "x": [
          -0.5,
          -0.5,
          null,
          0.5,
          0.5,
          null,
          1.5,
          1.5,
          null,
          2.5,
          2.5,
          null,
          3.5,
          3.5,
          null,
          4.5,
          4.5,
          null,
          5.5,
          5.5,
          null,
          6.5,
          6.5,
          null,
          7.5,
          7.5,
          null,
          8.5,
          8.5,
          null,
          9.5,
          9.5,
          null,
          10.5,
          10.5,
          null,
          11.5,
          11.5,
          null,
          12.5,
          12.5,
          null,
          13.5,
          13.5,
          null,
          14.5,
          14.5,
          null,
          15.5,
          15.5,
          null,
          16.5,
          16.5,
          null,
          17.5,
          17.5,
          null,
          18.5,
          18.5,
          null,
          19.5,
          19.5,
          null,
          20.5,
          20.5,
          null,
          21.5,
          21.5,
          null,
          22.5,
          22.5,
          null,
          23.5,
          23.5,
          null,
          24.5,
          24.5,
          null,
          25.5,
          25.5,
          null,
          26.5,
          26.5,
          null,
          27.5,
          27.5,
          null,
          28.5,
          28.5,
          null,
          -0.5,
          29.5,
          null,
          -0.5,
          29.5,
          null,
          -0.5,
          29.5,
          null,
          -0.5,
          29.5,
          null,
          -0.5,
          29.5,
          null,
          -0.5,
          29.5,
          null,
          -0.5,
          29.5,
          null,
          -0.5,
          29.5,
          null,
          -0.5,
          29.5,
          null,
          -0.5,
          29.5,
          null,
          -0.5,
          29.5,
          null,
          -0.5,
          29.5,
          null,
          -0.5,
          29.5,
          null,
          -0.5,
          29.5,
          null,
          -0.5,
          29.5,
          null,
          -0.5,
          29.5,
          null,
          -0.5,
          29.5,
          null,
          -0.5,
          29.5,
          null,
          -0.5,
          29.5,
          null,
          -0.5,
          29.5,
          null,
          -0.5,
          29.5,
          null,
          -0.5,
          29.5,
          null,
          -0.5,
          29.5,
          null,
          -0.5,
          29.5,
          null,
          -0.5,
          29.5,
          null,
          -0.5,
          29.5,
          null,
          -0.5,
          29.5,
          null,
          -0.5,
          29.5,
          null,
          -0.5,
          29.5,
          null,
          -0.5,
          29.5,
          null
         ],
         "xaxis": "x2",
         "y": [
          -0.5,
          29.5,
          null,
          -0.5,
          29.5,
          null,
          -0.5,
          29.5,
          null,
          -0.5,
          29.5,
          null,
          -0.5,
          29.5,
          null,
          -0.5,
          29.5,
          null,
          -0.5,
          29.5,
          null,
          -0.5,
          29.5,
          null,
          -0.5,
          29.5,
          null,
          -0.5,
          29.5,
          null,
          -0.5,
          29.5,
          null,
          -0.5,
          29.5,
          null,
          -0.5,
          29.5,
          null,
          -0.5,
          29.5,
          null,
          -0.5,
          29.5,
          null,
          -0.5,
          29.5,
          null,
          -0.5,
          29.5,
          null,
          -0.5,
          29.5,
          null,
          -0.5,
          29.5,
          null,
          -0.5,
          29.5,
          null,
          -0.5,
          29.5,
          null,
          -0.5,
          29.5,
          null,
          -0.5,
          29.5,
          null,
          -0.5,
          29.5,
          null,
          -0.5,
          29.5,
          null,
          -0.5,
          29.5,
          null,
          -0.5,
          29.5,
          null,
          -0.5,
          29.5,
          null,
          -0.5,
          29.5,
          null,
          -0.5,
          29.5,
          null,
          -0.5,
          -0.5,
          null,
          0.5,
          0.5,
          null,
          1.5,
          1.5,
          null,
          2.5,
          2.5,
          null,
          3.5,
          3.5,
          null,
          4.5,
          4.5,
          null,
          5.5,
          5.5,
          null,
          6.5,
          6.5,
          null,
          7.5,
          7.5,
          null,
          8.5,
          8.5,
          null,
          9.5,
          9.5,
          null,
          10.5,
          10.5,
          null,
          11.5,
          11.5,
          null,
          12.5,
          12.5,
          null,
          13.5,
          13.5,
          null,
          14.5,
          14.5,
          null,
          15.5,
          15.5,
          null,
          16.5,
          16.5,
          null,
          17.5,
          17.5,
          null,
          18.5,
          18.5,
          null,
          19.5,
          19.5,
          null,
          20.5,
          20.5,
          null,
          21.5,
          21.5,
          null,
          22.5,
          22.5,
          null,
          23.5,
          23.5,
          null,
          24.5,
          24.5,
          null,
          25.5,
          25.5,
          null,
          26.5,
          26.5,
          null,
          27.5,
          27.5,
          null,
          28.5,
          28.5,
          null
         ],
         "yaxis": "y2"
        },
        {
         "marker": {
          "color": "red",
          "size": 10
         },
         "name": "400p border",
         "type": "scatter",
         "x": [
          2.001,
          2.001,
          2.001,
          2.001,
          2.001,
          2.001,
          2.001,
          2.001,
          2.001,
          2.001,
          2.001,
          2.001,
          2.001,
          2.001,
          2.001,
          2.001,
          2.001,
          2.001,
          2.001,
          2.001,
          2.001,
          2.001,
          2.001,
          2.001,
          2.001,
          2.001,
          2.001,
          2.001,
          2.001,
          2.001,
          2.001,
          2.001,
          2.001,
          2.001,
          2.001,
          2.001,
          2.001,
          2.001,
          2.001,
          2.001,
          2.001,
          2.001,
          2.001,
          2.001,
          2.001,
          2.001,
          2.001,
          2.001,
          2.001,
          2.001,
          2.001,
          2.1030408163265304,
          2.205081632653061,
          2.307122448979592,
          2.4091632653061223,
          2.511204081632653,
          2.613244897959184,
          2.7152857142857143,
          2.817326530612245,
          2.9193673469387753,
          3.021408163265306,
          3.1234489795918368,
          3.2254897959183673,
          3.3275306122448978,
          3.4295714285714287,
          3.531612244897959,
          3.6336530612244897,
          3.7356938775510202,
          3.8377346938775507,
          3.9397755102040817,
          4.041816326530612,
          4.143857142857143,
          4.245897959183674,
          4.347938775510205,
          4.449979591836735,
          4.552020408163266,
          4.654061224489796,
          4.7561020408163275,
          4.858142857142858,
          4.9601836734693885,
          5.062224489795919,
          5.1642653061224495,
          5.26630612244898,
          5.3683469387755105,
          5.470387755102041,
          5.5724285714285715,
          5.674469387755102,
          5.7765102040816325,
          5.878551020408164,
          5.980591836734694,
          6.082632653061225,
          6.184673469387755,
          6.286714285714286,
          6.388755102040816,
          6.490795918367348,
          6.592836734693878,
          6.694877551020409,
          6.796918367346939,
          6.89895918367347,
          7.001,
          7.001,
          7.001,
          7.001,
          7.001,
          7.001,
          7.001,
          7.001,
          7.001,
          7.001,
          7.001,
          7.001,
          7.001,
          7.001,
          7.001,
          7.001,
          7.001,
          7.001,
          7.001,
          7.001,
          7.001,
          7.001,
          7.001,
          7.001,
          7.001,
          7.001,
          7.001,
          7.001,
          7.001,
          7.001,
          7.001,
          7.001,
          7.001,
          7.001,
          7.001,
          7.001,
          7.001,
          7.001,
          7.001,
          7.001,
          7.001,
          7.001,
          7.001,
          7.001,
          7.001,
          7.001,
          7.001,
          7.001,
          7.001,
          7.001,
          7.001,
          7.001,
          6.89895918367347,
          6.796918367346939,
          6.694877551020409,
          6.592836734693878,
          6.490795918367347,
          6.388755102040816,
          6.286714285714286,
          6.184673469387755,
          6.082632653061225,
          5.980591836734694,
          5.878551020408163,
          5.7765102040816325,
          5.674469387755102,
          5.5724285714285715,
          5.470387755102041,
          5.3683469387755105,
          5.26630612244898,
          5.1642653061224495,
          5.062224489795919,
          4.9601836734693885,
          4.858142857142858,
          4.756102040816327,
          4.654061224489796,
          4.552020408163266,
          4.449979591836735,
          4.347938775510205,
          4.245897959183673,
          4.143857142857143,
          4.041816326530612,
          3.9397755102040812,
          3.8377346938775507,
          3.7356938775510202,
          3.6336530612244897,
          3.531612244897959,
          3.4295714285714283,
          3.3275306122448978,
          3.2254897959183673,
          3.1234489795918363,
          3.021408163265306,
          2.9193673469387753,
          2.817326530612245,
          2.7152857142857143,
          2.613244897959184,
          2.5112040816326524,
          2.409163265306122,
          2.3071224489795914,
          2.205081632653061,
          2.1030408163265304,
          2.001
         ],
         "xaxis": "x",
         "y": [
          7.001,
          6.89895918367347,
          6.796918367346939,
          6.694877551020409,
          6.592836734693878,
          6.490795918367347,
          6.388755102040816,
          6.286714285714286,
          6.184673469387755,
          6.082632653061225,
          5.980591836734694,
          5.878551020408163,
          5.7765102040816325,
          5.674469387755102,
          5.5724285714285715,
          5.470387755102041,
          5.3683469387755105,
          5.26630612244898,
          5.1642653061224495,
          5.062224489795919,
          4.9601836734693885,
          4.858142857142858,
          4.756102040816327,
          4.654061224489796,
          4.552020408163266,
          4.449979591836735,
          4.347938775510205,
          4.245897959183673,
          4.143857142857143,
          4.041816326530612,
          3.9397755102040812,
          3.8377346938775507,
          3.7356938775510202,
          3.6336530612244897,
          3.531612244897959,
          3.4295714285714283,
          3.3275306122448978,
          3.2254897959183673,
          3.1234489795918363,
          3.021408163265306,
          2.9193673469387753,
          2.817326530612245,
          2.7152857142857143,
          2.613244897959184,
          2.5112040816326524,
          2.409163265306122,
          2.3071224489795914,
          2.205081632653061,
          2.1030408163265304,
          2.001,
          2.001,
          2.001,
          2.001,
          2.001,
          2.001,
          2.001,
          2.001,
          2.001,
          2.001,
          2.001,
          2.001,
          2.001,
          2.001,
          2.001,
          2.001,
          2.001,
          2.001,
          2.001,
          2.001,
          2.001,
          2.001,
          2.001,
          2.001,
          2.001,
          2.001,
          2.001,
          2.001,
          2.001,
          2.001,
          2.001,
          2.001,
          2.001,
          2.001,
          2.001,
          2.001,
          2.001,
          2.001,
          2.001,
          2.001,
          2.001,
          2.001,
          2.001,
          2.001,
          2.001,
          2.001,
          2.001,
          2.001,
          2.001,
          2.001,
          2.001,
          2.001,
          2.1030408163265304,
          2.205081632653061,
          2.307122448979592,
          2.4091632653061223,
          2.511204081632653,
          2.613244897959184,
          2.7152857142857143,
          2.817326530612245,
          2.9193673469387753,
          3.021408163265306,
          3.1234489795918368,
          3.2254897959183673,
          3.3275306122448978,
          3.4295714285714287,
          3.531612244897959,
          3.6336530612244897,
          3.7356938775510202,
          3.8377346938775507,
          3.9397755102040817,
          4.041816326530612,
          4.143857142857143,
          4.245897959183674,
          4.347938775510205,
          4.449979591836735,
          4.552020408163266,
          4.654061224489796,
          4.7561020408163275,
          4.858142857142858,
          4.9601836734693885,
          5.062224489795919,
          5.1642653061224495,
          5.26630612244898,
          5.3683469387755105,
          5.470387755102041,
          5.5724285714285715,
          5.674469387755102,
          5.7765102040816325,
          5.878551020408164,
          5.980591836734694,
          6.082632653061225,
          6.184673469387755,
          6.286714285714286,
          6.388755102040816,
          6.490795918367348,
          6.592836734693878,
          6.694877551020409,
          6.796918367346939,
          6.89895918367347,
          7.001,
          7.001,
          7.001,
          7.001,
          7.001,
          7.001,
          7.001,
          7.001,
          7.001,
          7.001,
          7.001,
          7.001,
          7.001,
          7.001,
          7.001,
          7.001,
          7.001,
          7.001,
          7.001,
          7.001,
          7.001,
          7.001,
          7.001,
          7.001,
          7.001,
          7.001,
          7.001,
          7.001,
          7.001,
          7.001,
          7.001,
          7.001,
          7.001,
          7.001,
          7.001,
          7.001,
          7.001,
          7.001,
          7.001,
          7.001,
          7.001,
          7.001,
          7.001,
          7.001,
          7.001,
          7.001,
          7.001,
          7.001,
          7.001,
          7.001,
          7.001
         ],
         "yaxis": "y"
        },
        {
         "marker": {
          "color": "red",
          "size": 10
         },
         "name": "400 p border",
         "type": "scatter",
         "x": [
          7.003,
          7.003,
          7.003,
          7.003,
          7.003,
          7.003,
          7.003,
          7.003,
          7.003,
          7.003,
          7.003,
          7.003,
          7.003,
          7.003,
          7.003,
          7.003,
          7.003,
          7.003,
          7.003,
          7.003,
          7.003,
          7.003,
          7.003,
          7.003,
          7.003,
          7.003,
          7.003,
          7.003,
          7.003,
          7.003,
          7.003,
          7.003,
          7.003,
          7.003,
          7.003,
          7.003,
          7.003,
          7.003,
          7.003,
          7.003,
          7.003,
          7.003,
          7.003,
          7.003,
          7.003,
          7.003,
          7.003,
          7.003,
          7.003,
          7.003,
          7.003,
          7.309122448979592,
          7.615244897959183,
          7.921367346938776,
          8.227489795918366,
          8.53361224489796,
          8.839734693877551,
          9.145857142857142,
          9.451979591836734,
          9.758102040816325,
          10.064224489795917,
          10.37034693877551,
          10.676469387755102,
          10.982591836734693,
          11.288714285714287,
          11.594836734693878,
          11.90095918367347,
          12.207081632653061,
          12.513204081632653,
          12.819326530612244,
          13.125448979591837,
          13.431571428571427,
          13.737693877551022,
          14.043816326530614,
          14.349938775510205,
          14.656061224489797,
          14.962183673469388,
          15.268306122448983,
          15.574428571428573,
          15.880551020408166,
          16.186673469387756,
          16.49279591836735,
          16.79891836734694,
          17.105040816326532,
          17.411163265306122,
          17.717285714285715,
          18.023408163265305,
          18.3295306122449,
          18.63565306122449,
          18.94177551020408,
          19.247897959183675,
          19.554020408163268,
          19.860142857142858,
          20.166265306122447,
          20.472387755102044,
          20.778510204081634,
          21.084632653061227,
          21.390755102040817,
          21.69687755102041,
          22.003,
          22.003,
          22.003,
          22.003,
          22.003,
          22.003,
          22.003,
          22.003,
          22.003,
          22.003,
          22.003,
          22.003,
          22.003,
          22.003,
          22.003,
          22.003,
          22.003,
          22.003,
          22.003,
          22.003,
          22.003,
          22.003,
          22.003,
          22.003,
          22.003,
          22.003,
          22.003,
          22.003,
          22.003,
          22.003,
          22.003,
          22.003,
          22.003,
          22.003,
          22.003,
          22.003,
          22.003,
          22.003,
          22.003,
          22.003,
          22.003,
          22.003,
          22.003,
          22.003,
          22.003,
          22.003,
          22.003,
          22.003,
          22.003,
          22.003,
          22.003,
          22.003,
          21.69687755102041,
          21.390755102040817,
          21.084632653061227,
          20.778510204081634,
          20.47238775510204,
          20.166265306122447,
          19.860142857142858,
          19.554020408163268,
          19.247897959183675,
          18.94177551020408,
          18.635653061224488,
          18.3295306122449,
          18.023408163265305,
          17.717285714285715,
          17.411163265306122,
          17.105040816326532,
          16.79891836734694,
          16.49279591836735,
          16.186673469387756,
          15.880551020408166,
          15.574428571428573,
          15.26830612244898,
          14.962183673469388,
          14.656061224489797,
          14.349938775510205,
          14.043816326530614,
          13.73769387755102,
          13.431571428571427,
          13.125448979591837,
          12.819326530612244,
          12.513204081632653,
          12.207081632653061,
          11.90095918367347,
          11.594836734693878,
          11.288714285714285,
          10.982591836734693,
          10.676469387755102,
          10.370346938775509,
          10.064224489795917,
          9.758102040816325,
          9.451979591836734,
          9.145857142857142,
          8.839734693877551,
          8.533612244897958,
          8.227489795918366,
          7.921367346938775,
          7.615244897959183,
          7.309122448979592,
          7.003
         ],
         "xaxis": "x2",
         "y": [
          22.003,
          21.69687755102041,
          21.390755102040817,
          21.084632653061227,
          20.778510204081634,
          20.47238775510204,
          20.166265306122447,
          19.860142857142858,
          19.554020408163268,
          19.247897959183675,
          18.94177551020408,
          18.635653061224488,
          18.3295306122449,
          18.023408163265305,
          17.717285714285715,
          17.411163265306122,
          17.105040816326532,
          16.79891836734694,
          16.49279591836735,
          16.186673469387756,
          15.880551020408166,
          15.574428571428573,
          15.26830612244898,
          14.962183673469388,
          14.656061224489797,
          14.349938775510205,
          14.043816326530614,
          13.73769387755102,
          13.431571428571427,
          13.125448979591837,
          12.819326530612244,
          12.513204081632653,
          12.207081632653061,
          11.90095918367347,
          11.594836734693878,
          11.288714285714285,
          10.982591836734693,
          10.676469387755102,
          10.370346938775509,
          10.064224489795917,
          9.758102040816325,
          9.451979591836734,
          9.145857142857142,
          8.839734693877551,
          8.533612244897958,
          8.227489795918366,
          7.921367346938775,
          7.615244897959183,
          7.309122448979592,
          7.003,
          7.003,
          7.003,
          7.003,
          7.003,
          7.003,
          7.003,
          7.003,
          7.003,
          7.003,
          7.003,
          7.003,
          7.003,
          7.003,
          7.003,
          7.003,
          7.003,
          7.003,
          7.003,
          7.003,
          7.003,
          7.003,
          7.003,
          7.003,
          7.003,
          7.003,
          7.003,
          7.003,
          7.003,
          7.003,
          7.003,
          7.003,
          7.003,
          7.003,
          7.003,
          7.003,
          7.003,
          7.003,
          7.003,
          7.003,
          7.003,
          7.003,
          7.003,
          7.003,
          7.003,
          7.003,
          7.003,
          7.003,
          7.003,
          7.003,
          7.003,
          7.003,
          7.309122448979592,
          7.615244897959183,
          7.921367346938776,
          8.227489795918366,
          8.53361224489796,
          8.839734693877551,
          9.145857142857142,
          9.451979591836734,
          9.758102040816325,
          10.064224489795917,
          10.37034693877551,
          10.676469387755102,
          10.982591836734693,
          11.288714285714287,
          11.594836734693878,
          11.90095918367347,
          12.207081632653061,
          12.513204081632653,
          12.819326530612244,
          13.125448979591837,
          13.431571428571427,
          13.737693877551022,
          14.043816326530614,
          14.349938775510205,
          14.656061224489797,
          14.962183673469388,
          15.268306122448983,
          15.574428571428573,
          15.880551020408166,
          16.186673469387756,
          16.49279591836735,
          16.79891836734694,
          17.105040816326532,
          17.411163265306122,
          17.717285714285715,
          18.023408163265305,
          18.3295306122449,
          18.63565306122449,
          18.94177551020408,
          19.247897959183675,
          19.554020408163268,
          19.860142857142858,
          20.166265306122447,
          20.472387755102044,
          20.778510204081634,
          21.084632653061227,
          21.390755102040817,
          21.69687755102041,
          22.003,
          22.003,
          22.003,
          22.003,
          22.003,
          22.003,
          22.003,
          22.003,
          22.003,
          22.003,
          22.003,
          22.003,
          22.003,
          22.003,
          22.003,
          22.003,
          22.003,
          22.003,
          22.003,
          22.003,
          22.003,
          22.003,
          22.003,
          22.003,
          22.003,
          22.003,
          22.003,
          22.003,
          22.003,
          22.003,
          22.003,
          22.003,
          22.003,
          22.003,
          22.003,
          22.003,
          22.003,
          22.003,
          22.003,
          22.003,
          22.003,
          22.003,
          22.003,
          22.003,
          22.003,
          22.003,
          22.003,
          22.003,
          22.003,
          22.003,
          22.003
         ],
         "yaxis": "y2"
        }
       ],
       "layout": {
        "annotations": [
         {
          "font": {
           "size": 16
          },
          "showarrow": false,
          "text": "Original image",
          "x": 0.2375,
          "xanchor": "center",
          "xref": "paper",
          "y": 1,
          "yanchor": "bottom",
          "yref": "paper"
         },
         {
          "font": {
           "size": 16
          },
          "showarrow": false,
          "text": "Upscaled image s=(3, 3)",
          "x": 0.7625,
          "xanchor": "center",
          "xref": "paper",
          "y": 1,
          "yanchor": "bottom",
          "yref": "paper"
         }
        ],
        "coloraxis": {
         "showscale": false
        },
        "font": {
         "size": 11
        },
        "height": 800,
        "showlegend": true,
        "template": {
         "data": {
          "bar": [
           {
            "error_x": {
             "color": "#2a3f5f"
            },
            "error_y": {
             "color": "#2a3f5f"
            },
            "marker": {
             "line": {
              "color": "#E5ECF6",
              "width": 0.5
             },
             "pattern": {
              "fillmode": "overlay",
              "size": 10,
              "solidity": 0.2
             }
            },
            "type": "bar"
           }
          ],
          "barpolar": [
           {
            "marker": {
             "line": {
              "color": "#E5ECF6",
              "width": 0.5
             },
             "pattern": {
              "fillmode": "overlay",
              "size": 10,
              "solidity": 0.2
             }
            },
            "type": "barpolar"
           }
          ],
          "carpet": [
           {
            "aaxis": {
             "endlinecolor": "#2a3f5f",
             "gridcolor": "white",
             "linecolor": "white",
             "minorgridcolor": "white",
             "startlinecolor": "#2a3f5f"
            },
            "baxis": {
             "endlinecolor": "#2a3f5f",
             "gridcolor": "white",
             "linecolor": "white",
             "minorgridcolor": "white",
             "startlinecolor": "#2a3f5f"
            },
            "type": "carpet"
           }
          ],
          "choropleth": [
           {
            "colorbar": {
             "outlinewidth": 0,
             "ticks": ""
            },
            "type": "choropleth"
           }
          ],
          "contour": [
           {
            "colorbar": {
             "outlinewidth": 0,
             "ticks": ""
            },
            "colorscale": [
             [
              0,
              "#0d0887"
             ],
             [
              0.1111111111111111,
              "#46039f"
             ],
             [
              0.2222222222222222,
              "#7201a8"
             ],
             [
              0.3333333333333333,
              "#9c179e"
             ],
             [
              0.4444444444444444,
              "#bd3786"
             ],
             [
              0.5555555555555556,
              "#d8576b"
             ],
             [
              0.6666666666666666,
              "#ed7953"
             ],
             [
              0.7777777777777778,
              "#fb9f3a"
             ],
             [
              0.8888888888888888,
              "#fdca26"
             ],
             [
              1,
              "#f0f921"
             ]
            ],
            "type": "contour"
           }
          ],
          "contourcarpet": [
           {
            "colorbar": {
             "outlinewidth": 0,
             "ticks": ""
            },
            "type": "contourcarpet"
           }
          ],
          "heatmap": [
           {
            "colorbar": {
             "outlinewidth": 0,
             "ticks": ""
            },
            "colorscale": [
             [
              0,
              "#0d0887"
             ],
             [
              0.1111111111111111,
              "#46039f"
             ],
             [
              0.2222222222222222,
              "#7201a8"
             ],
             [
              0.3333333333333333,
              "#9c179e"
             ],
             [
              0.4444444444444444,
              "#bd3786"
             ],
             [
              0.5555555555555556,
              "#d8576b"
             ],
             [
              0.6666666666666666,
              "#ed7953"
             ],
             [
              0.7777777777777778,
              "#fb9f3a"
             ],
             [
              0.8888888888888888,
              "#fdca26"
             ],
             [
              1,
              "#f0f921"
             ]
            ],
            "type": "heatmap"
           }
          ],
          "heatmapgl": [
           {
            "colorbar": {
             "outlinewidth": 0,
             "ticks": ""
            },
            "colorscale": [
             [
              0,
              "#0d0887"
             ],
             [
              0.1111111111111111,
              "#46039f"
             ],
             [
              0.2222222222222222,
              "#7201a8"
             ],
             [
              0.3333333333333333,
              "#9c179e"
             ],
             [
              0.4444444444444444,
              "#bd3786"
             ],
             [
              0.5555555555555556,
              "#d8576b"
             ],
             [
              0.6666666666666666,
              "#ed7953"
             ],
             [
              0.7777777777777778,
              "#fb9f3a"
             ],
             [
              0.8888888888888888,
              "#fdca26"
             ],
             [
              1,
              "#f0f921"
             ]
            ],
            "type": "heatmapgl"
           }
          ],
          "histogram": [
           {
            "marker": {
             "pattern": {
              "fillmode": "overlay",
              "size": 10,
              "solidity": 0.2
             }
            },
            "type": "histogram"
           }
          ],
          "histogram2d": [
           {
            "colorbar": {
             "outlinewidth": 0,
             "ticks": ""
            },
            "colorscale": [
             [
              0,
              "#0d0887"
             ],
             [
              0.1111111111111111,
              "#46039f"
             ],
             [
              0.2222222222222222,
              "#7201a8"
             ],
             [
              0.3333333333333333,
              "#9c179e"
             ],
             [
              0.4444444444444444,
              "#bd3786"
             ],
             [
              0.5555555555555556,
              "#d8576b"
             ],
             [
              0.6666666666666666,
              "#ed7953"
             ],
             [
              0.7777777777777778,
              "#fb9f3a"
             ],
             [
              0.8888888888888888,
              "#fdca26"
             ],
             [
              1,
              "#f0f921"
             ]
            ],
            "type": "histogram2d"
           }
          ],
          "histogram2dcontour": [
           {
            "colorbar": {
             "outlinewidth": 0,
             "ticks": ""
            },
            "colorscale": [
             [
              0,
              "#0d0887"
             ],
             [
              0.1111111111111111,
              "#46039f"
             ],
             [
              0.2222222222222222,
              "#7201a8"
             ],
             [
              0.3333333333333333,
              "#9c179e"
             ],
             [
              0.4444444444444444,
              "#bd3786"
             ],
             [
              0.5555555555555556,
              "#d8576b"
             ],
             [
              0.6666666666666666,
              "#ed7953"
             ],
             [
              0.7777777777777778,
              "#fb9f3a"
             ],
             [
              0.8888888888888888,
              "#fdca26"
             ],
             [
              1,
              "#f0f921"
             ]
            ],
            "type": "histogram2dcontour"
           }
          ],
          "mesh3d": [
           {
            "colorbar": {
             "outlinewidth": 0,
             "ticks": ""
            },
            "type": "mesh3d"
           }
          ],
          "parcoords": [
           {
            "line": {
             "colorbar": {
              "outlinewidth": 0,
              "ticks": ""
             }
            },
            "type": "parcoords"
           }
          ],
          "pie": [
           {
            "automargin": true,
            "type": "pie"
           }
          ],
          "scatter": [
           {
            "fillpattern": {
             "fillmode": "overlay",
             "size": 10,
             "solidity": 0.2
            },
            "type": "scatter"
           }
          ],
          "scatter3d": [
           {
            "line": {
             "colorbar": {
              "outlinewidth": 0,
              "ticks": ""
             }
            },
            "marker": {
             "colorbar": {
              "outlinewidth": 0,
              "ticks": ""
             }
            },
            "type": "scatter3d"
           }
          ],
          "scattercarpet": [
           {
            "marker": {
             "colorbar": {
              "outlinewidth": 0,
              "ticks": ""
             }
            },
            "type": "scattercarpet"
           }
          ],
          "scattergeo": [
           {
            "marker": {
             "colorbar": {
              "outlinewidth": 0,
              "ticks": ""
             }
            },
            "type": "scattergeo"
           }
          ],
          "scattergl": [
           {
            "marker": {
             "colorbar": {
              "outlinewidth": 0,
              "ticks": ""
             }
            },
            "type": "scattergl"
           }
          ],
          "scattermapbox": [
           {
            "marker": {
             "colorbar": {
              "outlinewidth": 0,
              "ticks": ""
             }
            },
            "type": "scattermapbox"
           }
          ],
          "scatterpolar": [
           {
            "marker": {
             "colorbar": {
              "outlinewidth": 0,
              "ticks": ""
             }
            },
            "type": "scatterpolar"
           }
          ],
          "scatterpolargl": [
           {
            "marker": {
             "colorbar": {
              "outlinewidth": 0,
              "ticks": ""
             }
            },
            "type": "scatterpolargl"
           }
          ],
          "scatterternary": [
           {
            "marker": {
             "colorbar": {
              "outlinewidth": 0,
              "ticks": ""
             }
            },
            "type": "scatterternary"
           }
          ],
          "surface": [
           {
            "colorbar": {
             "outlinewidth": 0,
             "ticks": ""
            },
            "colorscale": [
             [
              0,
              "#0d0887"
             ],
             [
              0.1111111111111111,
              "#46039f"
             ],
             [
              0.2222222222222222,
              "#7201a8"
             ],
             [
              0.3333333333333333,
              "#9c179e"
             ],
             [
              0.4444444444444444,
              "#bd3786"
             ],
             [
              0.5555555555555556,
              "#d8576b"
             ],
             [
              0.6666666666666666,
              "#ed7953"
             ],
             [
              0.7777777777777778,
              "#fb9f3a"
             ],
             [
              0.8888888888888888,
              "#fdca26"
             ],
             [
              1,
              "#f0f921"
             ]
            ],
            "type": "surface"
           }
          ],
          "table": [
           {
            "cells": {
             "fill": {
              "color": "#EBF0F8"
             },
             "line": {
              "color": "white"
             }
            },
            "header": {
             "fill": {
              "color": "#C8D4E3"
             },
             "line": {
              "color": "white"
             }
            },
            "type": "table"
           }
          ]
         },
         "layout": {
          "annotationdefaults": {
           "arrowcolor": "#2a3f5f",
           "arrowhead": 0,
           "arrowwidth": 1
          },
          "autotypenumbers": "strict",
          "coloraxis": {
           "colorbar": {
            "outlinewidth": 0,
            "ticks": ""
           }
          },
          "colorscale": {
           "diverging": [
            [
             0,
             "#8e0152"
            ],
            [
             0.1,
             "#c51b7d"
            ],
            [
             0.2,
             "#de77ae"
            ],
            [
             0.3,
             "#f1b6da"
            ],
            [
             0.4,
             "#fde0ef"
            ],
            [
             0.5,
             "#f7f7f7"
            ],
            [
             0.6,
             "#e6f5d0"
            ],
            [
             0.7,
             "#b8e186"
            ],
            [
             0.8,
             "#7fbc41"
            ],
            [
             0.9,
             "#4d9221"
            ],
            [
             1,
             "#276419"
            ]
           ],
           "sequential": [
            [
             0,
             "#0d0887"
            ],
            [
             0.1111111111111111,
             "#46039f"
            ],
            [
             0.2222222222222222,
             "#7201a8"
            ],
            [
             0.3333333333333333,
             "#9c179e"
            ],
            [
             0.4444444444444444,
             "#bd3786"
            ],
            [
             0.5555555555555556,
             "#d8576b"
            ],
            [
             0.6666666666666666,
             "#ed7953"
            ],
            [
             0.7777777777777778,
             "#fb9f3a"
            ],
            [
             0.8888888888888888,
             "#fdca26"
            ],
            [
             1,
             "#f0f921"
            ]
           ],
           "sequentialminus": [
            [
             0,
             "#0d0887"
            ],
            [
             0.1111111111111111,
             "#46039f"
            ],
            [
             0.2222222222222222,
             "#7201a8"
            ],
            [
             0.3333333333333333,
             "#9c179e"
            ],
            [
             0.4444444444444444,
             "#bd3786"
            ],
            [
             0.5555555555555556,
             "#d8576b"
            ],
            [
             0.6666666666666666,
             "#ed7953"
            ],
            [
             0.7777777777777778,
             "#fb9f3a"
            ],
            [
             0.8888888888888888,
             "#fdca26"
            ],
            [
             1,
             "#f0f921"
            ]
           ]
          },
          "colorway": [
           "#636efa",
           "#EF553B",
           "#00cc96",
           "#ab63fa",
           "#FFA15A",
           "#19d3f3",
           "#FF6692",
           "#B6E880",
           "#FF97FF",
           "#FECB52"
          ],
          "font": {
           "color": "#2a3f5f"
          },
          "geo": {
           "bgcolor": "white",
           "lakecolor": "white",
           "landcolor": "#E5ECF6",
           "showlakes": true,
           "showland": true,
           "subunitcolor": "white"
          },
          "hoverlabel": {
           "align": "left"
          },
          "hovermode": "closest",
          "mapbox": {
           "style": "light"
          },
          "paper_bgcolor": "white",
          "plot_bgcolor": "#E5ECF6",
          "polar": {
           "angularaxis": {
            "gridcolor": "white",
            "linecolor": "white",
            "ticks": ""
           },
           "bgcolor": "#E5ECF6",
           "radialaxis": {
            "gridcolor": "white",
            "linecolor": "white",
            "ticks": ""
           }
          },
          "scene": {
           "xaxis": {
            "backgroundcolor": "#E5ECF6",
            "gridcolor": "white",
            "gridwidth": 2,
            "linecolor": "white",
            "showbackground": true,
            "ticks": "",
            "zerolinecolor": "white"
           },
           "yaxis": {
            "backgroundcolor": "#E5ECF6",
            "gridcolor": "white",
            "gridwidth": 2,
            "linecolor": "white",
            "showbackground": true,
            "ticks": "",
            "zerolinecolor": "white"
           },
           "zaxis": {
            "backgroundcolor": "#E5ECF6",
            "gridcolor": "white",
            "gridwidth": 2,
            "linecolor": "white",
            "showbackground": true,
            "ticks": "",
            "zerolinecolor": "white"
           }
          },
          "shapedefaults": {
           "line": {
            "color": "#2a3f5f"
           }
          },
          "ternary": {
           "aaxis": {
            "gridcolor": "white",
            "linecolor": "white",
            "ticks": ""
           },
           "baxis": {
            "gridcolor": "white",
            "linecolor": "white",
            "ticks": ""
           },
           "bgcolor": "#E5ECF6",
           "caxis": {
            "gridcolor": "white",
            "linecolor": "white",
            "ticks": ""
           }
          },
          "title": {
           "x": 0.05
          },
          "xaxis": {
           "automargin": true,
           "gridcolor": "white",
           "linecolor": "white",
           "ticks": "",
           "title": {
            "standoff": 15
           },
           "zerolinecolor": "white",
           "zerolinewidth": 2
          },
          "yaxis": {
           "automargin": true,
           "gridcolor": "white",
           "linecolor": "white",
           "ticks": "",
           "title": {
            "standoff": 15
           },
           "zerolinecolor": "white",
           "zerolinewidth": 2
          }
         }
        },
        "title": {
         "text": "Border upscaling with offset: b(point)=point*s + s/2 - 1/2",
         "x": 0.5
        },
        "width": 1400,
        "xaxis": {
         "anchor": "y",
         "domain": [
          0,
          0.475
         ]
        },
        "xaxis2": {
         "anchor": "y2",
         "domain": [
          0.525,
          1
         ]
        },
        "yaxis": {
         "anchor": "x",
         "domain": [
          0,
          1
         ]
        },
        "yaxis2": {
         "anchor": "x2",
         "domain": [
          0,
          1
         ]
        }
       }
      }
     },
     "metadata": {},
     "output_type": "display_data"
    }
   ],
   "source": [
    "fig = make_subplots(rows=1, cols=2, \n",
    "                    horizontal_spacing=0.05, \n",
    "                    vertical_spacing=0.1,\n",
    "                    subplot_titles=('Original image', f\"Upscaled image s={scale_factor_x, scale_factor_y}\"))\n",
    "# Add images to plot\n",
    "base_image_fig = px.imshow(test_image)\n",
    "fig.add_trace(base_image_fig.data[0], 1, 1)\n",
    "xs, ys = gridlines(test_image)\n",
    "fig.add_trace(go.Scatter(x=xs, y=ys, marker=dict(color='black', size=1), name=f\"Pixel edges\", showlegend=False), row=1, col=1)\n",
    "\n",
    "upscaled_image_fig = px.imshow(upscaled_image_box)\n",
    "fig.add_trace(upscaled_image_fig.data[0], 1, 2)\n",
    "xs, ys = gridlines(upscaled_image_box)\n",
    "fig.add_trace(go.Scatter(x=xs, y=ys, marker=dict(color='black', size=1), name=f\"Pixel edges\", showlegend=False), row=1, col=2)\n",
    "\n",
    "# 400p borders\n",
    "fig.add_trace(go.Scatter(x=fourier_xs, y=fourier_ys, marker=dict(color='red', size=10), name=f\"400p border\"), row=1, col=1)\n",
    "fig.add_trace(go.Scatter(x=fourier_xs*scale_factor_x+scale_factor_x/2-0.5, y=fourier_ys*scale_factor_y+scale_factor_y/2-0.5, marker=dict(color='red', size=10), name=f\"400 p border\"), row=1, col=2)\n",
    "\n",
    "fig.update_layout(title_text=f\"Border upscaling with offset: b(point)=point*s + s/2 - 1/2\", title_x=0.5, width=1400, height=800, showlegend=True, font_size=11)\n",
    "fig.update(layout_coloraxis_showscale=False)\n",
    "fig.show()"
   ]
  },
  {
   "cell_type": "markdown",
   "metadata": {},
   "source": [
    "# Get intersected pixels"
   ]
  },
  {
   "cell_type": "code",
   "execution_count": 52,
   "metadata": {},
   "outputs": [
    {
     "data": {
      "application/vnd.plotly.v1+json": {
       "config": {
        "plotlyServerURL": "https://plot.ly"
       },
       "data": [
        {
         "coloraxis": "coloraxis",
         "hovertemplate": "x: %{x}<br>y: %{y}<br>color: %{z}<extra></extra>",
         "name": "0",
         "type": "heatmap",
         "xaxis": "x",
         "yaxis": "y",
         "z": [
          [
           0,
           0,
           0,
           0,
           0,
           0,
           0,
           0,
           0,
           0
          ],
          [
           0,
           0,
           0,
           0,
           0,
           0,
           0,
           0,
           0,
           0
          ],
          [
           0,
           0,
           1,
           1,
           1,
           1,
           1,
           1,
           0,
           0
          ],
          [
           0,
           0,
           1,
           0,
           0,
           0,
           0,
           1,
           0,
           0
          ],
          [
           0,
           0,
           1,
           0,
           0,
           0,
           0,
           1,
           0,
           0
          ],
          [
           0,
           0,
           1,
           0,
           0,
           0,
           0,
           1,
           0,
           0
          ],
          [
           0,
           0,
           1,
           0,
           0,
           0,
           0,
           1,
           0,
           0
          ],
          [
           0,
           0,
           1,
           1,
           1,
           1,
           1,
           1,
           0,
           0
          ],
          [
           0,
           0,
           0,
           0,
           0,
           0,
           0,
           0,
           0,
           0
          ],
          [
           0,
           0,
           0,
           0,
           0,
           0,
           0,
           0,
           0,
           0
          ]
         ]
        },
        {
         "marker": {
          "color": "black",
          "size": 1
         },
         "name": "Pixel edges",
         "showlegend": false,
         "type": "scatter",
         "x": [
          -0.5,
          -0.5,
          null,
          0.5,
          0.5,
          null,
          1.5,
          1.5,
          null,
          2.5,
          2.5,
          null,
          3.5,
          3.5,
          null,
          4.5,
          4.5,
          null,
          5.5,
          5.5,
          null,
          6.5,
          6.5,
          null,
          7.5,
          7.5,
          null,
          8.5,
          8.5,
          null,
          -0.5,
          9.5,
          null,
          -0.5,
          9.5,
          null,
          -0.5,
          9.5,
          null,
          -0.5,
          9.5,
          null,
          -0.5,
          9.5,
          null,
          -0.5,
          9.5,
          null,
          -0.5,
          9.5,
          null,
          -0.5,
          9.5,
          null,
          -0.5,
          9.5,
          null,
          -0.5,
          9.5,
          null
         ],
         "xaxis": "x",
         "y": [
          -0.5,
          9.5,
          null,
          -0.5,
          9.5,
          null,
          -0.5,
          9.5,
          null,
          -0.5,
          9.5,
          null,
          -0.5,
          9.5,
          null,
          -0.5,
          9.5,
          null,
          -0.5,
          9.5,
          null,
          -0.5,
          9.5,
          null,
          -0.5,
          9.5,
          null,
          -0.5,
          9.5,
          null,
          -0.5,
          -0.5,
          null,
          0.5,
          0.5,
          null,
          1.5,
          1.5,
          null,
          2.5,
          2.5,
          null,
          3.5,
          3.5,
          null,
          4.5,
          4.5,
          null,
          5.5,
          5.5,
          null,
          6.5,
          6.5,
          null,
          7.5,
          7.5,
          null,
          8.5,
          8.5,
          null
         ],
         "yaxis": "y"
        },
        {
         "coloraxis": "coloraxis",
         "hovertemplate": "x: %{x}<br>y: %{y}<br>color: %{z}<extra></extra>",
         "name": "0",
         "type": "heatmap",
         "xaxis": "x2",
         "yaxis": "y2",
         "z": [
          [
           0,
           0,
           0,
           0,
           0,
           0,
           0,
           0,
           0,
           0,
           0,
           0,
           0,
           0,
           0,
           0,
           0,
           0,
           0,
           0,
           0,
           0,
           0,
           0,
           0,
           0,
           0,
           0,
           0,
           0
          ],
          [
           0,
           0,
           0,
           0,
           0,
           0,
           0,
           0,
           0,
           0,
           0,
           0,
           0,
           0,
           0,
           0,
           0,
           0,
           0,
           0,
           0,
           0,
           0,
           0,
           0,
           0,
           0,
           0,
           0,
           0
          ],
          [
           0,
           0,
           0,
           0,
           0,
           0,
           0,
           0,
           0,
           0,
           0,
           0,
           0,
           0,
           0,
           0,
           0,
           0,
           0,
           0,
           0,
           0,
           0,
           0,
           0,
           0,
           0,
           0,
           0,
           0
          ],
          [
           0,
           0,
           0,
           0,
           0,
           0,
           0,
           0,
           0,
           0,
           0,
           0,
           0,
           0,
           0,
           0,
           0,
           0,
           0,
           0,
           0,
           0,
           0,
           0,
           0,
           0,
           0,
           0,
           0,
           0
          ],
          [
           0,
           0,
           0,
           0,
           0,
           0,
           0,
           0,
           0,
           0,
           0,
           0,
           0,
           0,
           0,
           0,
           0,
           0,
           0,
           0,
           0,
           0,
           0,
           0,
           0,
           0,
           0,
           0,
           0,
           0
          ],
          [
           0,
           0,
           0,
           0,
           0,
           0,
           0,
           0,
           0,
           0,
           0,
           0,
           0,
           0,
           0,
           0,
           0,
           0,
           0,
           0,
           0,
           0,
           0,
           0,
           0,
           0,
           0,
           0,
           0,
           0
          ],
          [
           0,
           0,
           0,
           0,
           0,
           0,
           0.5,
           0.5,
           0.5,
           0.5,
           0.5,
           0.5,
           0.5,
           0.5,
           0.5,
           0.5,
           0.5,
           0.5,
           0.5,
           0.5,
           0.5,
           0.5,
           1,
           1,
           0,
           0,
           0,
           0,
           0,
           0
          ],
          [
           0,
           0,
           0,
           0,
           0,
           0,
           0.5,
           1,
           1,
           1,
           1,
           1,
           1,
           1,
           1,
           1,
           1,
           1,
           1,
           1,
           1,
           0.5,
           1,
           1,
           0,
           0,
           0,
           0,
           0,
           0
          ],
          [
           0,
           0,
           0,
           0,
           0,
           0,
           0.5,
           1,
           1,
           1,
           1,
           1,
           1,
           1,
           1,
           1,
           1,
           1,
           1,
           1,
           1,
           0.5,
           1,
           1,
           0,
           0,
           0,
           0,
           0,
           0
          ],
          [
           0,
           0,
           0,
           0,
           0,
           0,
           0.5,
           1,
           1,
           0,
           0,
           0,
           0,
           0,
           0,
           0,
           0,
           0,
           0,
           0,
           0,
           0.5,
           1,
           1,
           0,
           0,
           0,
           0,
           0,
           0
          ],
          [
           0,
           0,
           0,
           0,
           0,
           0,
           0.5,
           1,
           1,
           0,
           0,
           0,
           0,
           0,
           0,
           0,
           0,
           0,
           0,
           0,
           0,
           0.5,
           1,
           1,
           0,
           0,
           0,
           0,
           0,
           0
          ],
          [
           0,
           0,
           0,
           0,
           0,
           0,
           0.5,
           1,
           1,
           0,
           0,
           0,
           0,
           0,
           0,
           0,
           0,
           0,
           0,
           0,
           0,
           0.5,
           1,
           1,
           0,
           0,
           0,
           0,
           0,
           0
          ],
          [
           0,
           0,
           0,
           0,
           0,
           0,
           0.5,
           1,
           1,
           0,
           0,
           0,
           0,
           0,
           0,
           0,
           0,
           0,
           0,
           0,
           0,
           0.5,
           1,
           1,
           0,
           0,
           0,
           0,
           0,
           0
          ],
          [
           0,
           0,
           0,
           0,
           0,
           0,
           0.5,
           1,
           1,
           0,
           0,
           0,
           0,
           0,
           0,
           0,
           0,
           0,
           0,
           0,
           0,
           0.5,
           1,
           1,
           0,
           0,
           0,
           0,
           0,
           0
          ],
          [
           0,
           0,
           0,
           0,
           0,
           0,
           0.5,
           1,
           1,
           0,
           0,
           0,
           0,
           0,
           0,
           0,
           0,
           0,
           0,
           0,
           0,
           0.5,
           1,
           1,
           0,
           0,
           0,
           0,
           0,
           0
          ],
          [
           0,
           0,
           0,
           0,
           0,
           0,
           0.5,
           1,
           1,
           0,
           0,
           0,
           0,
           0,
           0,
           0,
           0,
           0,
           0,
           0,
           0,
           0.5,
           1,
           1,
           0,
           0,
           0,
           0,
           0,
           0
          ],
          [
           0,
           0,
           0,
           0,
           0,
           0,
           0.5,
           1,
           1,
           0,
           0,
           0,
           0,
           0,
           0,
           0,
           0,
           0,
           0,
           0,
           0,
           0.5,
           1,
           1,
           0,
           0,
           0,
           0,
           0,
           0
          ],
          [
           0,
           0,
           0,
           0,
           0,
           0,
           0.5,
           1,
           1,
           0,
           0,
           0,
           0,
           0,
           0,
           0,
           0,
           0,
           0,
           0,
           0,
           0.5,
           1,
           1,
           0,
           0,
           0,
           0,
           0,
           0
          ],
          [
           0,
           0,
           0,
           0,
           0,
           0,
           0.5,
           1,
           1,
           0,
           0,
           0,
           0,
           0,
           0,
           0,
           0,
           0,
           0,
           0,
           0,
           0.5,
           1,
           1,
           0,
           0,
           0,
           0,
           0,
           0
          ],
          [
           0,
           0,
           0,
           0,
           0,
           0,
           0.5,
           1,
           1,
           0,
           0,
           0,
           0,
           0,
           0,
           0,
           0,
           0,
           0,
           0,
           0,
           0.5,
           1,
           1,
           0,
           0,
           0,
           0,
           0,
           0
          ],
          [
           0,
           0,
           0,
           0,
           0,
           0,
           0.5,
           1,
           1,
           0,
           0,
           0,
           0,
           0,
           0,
           0,
           0,
           0,
           0,
           0,
           0,
           0.5,
           1,
           1,
           0,
           0,
           0,
           0,
           0,
           0
          ],
          [
           0,
           0,
           0,
           0,
           0,
           0,
           0.5,
           0.5,
           0.5,
           0.5,
           0.5,
           0.5,
           0.5,
           0.5,
           0.5,
           0.5,
           0.5,
           0.5,
           0.5,
           0.5,
           0.5,
           0.5,
           1,
           1,
           0,
           0,
           0,
           0,
           0,
           0
          ],
          [
           0,
           0,
           0,
           0,
           0,
           0,
           1,
           1,
           1,
           1,
           1,
           1,
           1,
           1,
           1,
           1,
           1,
           1,
           1,
           1,
           1,
           1,
           1,
           1,
           0,
           0,
           0,
           0,
           0,
           0
          ],
          [
           0,
           0,
           0,
           0,
           0,
           0,
           1,
           1,
           1,
           1,
           1,
           1,
           1,
           1,
           1,
           1,
           1,
           1,
           1,
           1,
           1,
           1,
           1,
           1,
           0,
           0,
           0,
           0,
           0,
           0
          ],
          [
           0,
           0,
           0,
           0,
           0,
           0,
           0,
           0,
           0,
           0,
           0,
           0,
           0,
           0,
           0,
           0,
           0,
           0,
           0,
           0,
           0,
           0,
           0,
           0,
           0,
           0,
           0,
           0,
           0,
           0
          ],
          [
           0,
           0,
           0,
           0,
           0,
           0,
           0,
           0,
           0,
           0,
           0,
           0,
           0,
           0,
           0,
           0,
           0,
           0,
           0,
           0,
           0,
           0,
           0,
           0,
           0,
           0,
           0,
           0,
           0,
           0
          ],
          [
           0,
           0,
           0,
           0,
           0,
           0,
           0,
           0,
           0,
           0,
           0,
           0,
           0,
           0,
           0,
           0,
           0,
           0,
           0,
           0,
           0,
           0,
           0,
           0,
           0,
           0,
           0,
           0,
           0,
           0
          ],
          [
           0,
           0,
           0,
           0,
           0,
           0,
           0,
           0,
           0,
           0,
           0,
           0,
           0,
           0,
           0,
           0,
           0,
           0,
           0,
           0,
           0,
           0,
           0,
           0,
           0,
           0,
           0,
           0,
           0,
           0
          ],
          [
           0,
           0,
           0,
           0,
           0,
           0,
           0,
           0,
           0,
           0,
           0,
           0,
           0,
           0,
           0,
           0,
           0,
           0,
           0,
           0,
           0,
           0,
           0,
           0,
           0,
           0,
           0,
           0,
           0,
           0
          ],
          [
           0,
           0,
           0,
           0,
           0,
           0,
           0,
           0,
           0,
           0,
           0,
           0,
           0,
           0,
           0,
           0,
           0,
           0,
           0,
           0,
           0,
           0,
           0,
           0,
           0,
           0,
           0,
           0,
           0,
           0
          ]
         ]
        },
        {
         "marker": {
          "color": "black",
          "size": 1
         },
         "name": "Pixel edges",
         "showlegend": false,
         "type": "scatter",
         "x": [
          -0.5,
          -0.5,
          null,
          0.5,
          0.5,
          null,
          1.5,
          1.5,
          null,
          2.5,
          2.5,
          null,
          3.5,
          3.5,
          null,
          4.5,
          4.5,
          null,
          5.5,
          5.5,
          null,
          6.5,
          6.5,
          null,
          7.5,
          7.5,
          null,
          8.5,
          8.5,
          null,
          9.5,
          9.5,
          null,
          10.5,
          10.5,
          null,
          11.5,
          11.5,
          null,
          12.5,
          12.5,
          null,
          13.5,
          13.5,
          null,
          14.5,
          14.5,
          null,
          15.5,
          15.5,
          null,
          16.5,
          16.5,
          null,
          17.5,
          17.5,
          null,
          18.5,
          18.5,
          null,
          19.5,
          19.5,
          null,
          20.5,
          20.5,
          null,
          21.5,
          21.5,
          null,
          22.5,
          22.5,
          null,
          23.5,
          23.5,
          null,
          24.5,
          24.5,
          null,
          25.5,
          25.5,
          null,
          26.5,
          26.5,
          null,
          27.5,
          27.5,
          null,
          28.5,
          28.5,
          null,
          -0.5,
          29.5,
          null,
          -0.5,
          29.5,
          null,
          -0.5,
          29.5,
          null,
          -0.5,
          29.5,
          null,
          -0.5,
          29.5,
          null,
          -0.5,
          29.5,
          null,
          -0.5,
          29.5,
          null,
          -0.5,
          29.5,
          null,
          -0.5,
          29.5,
          null,
          -0.5,
          29.5,
          null,
          -0.5,
          29.5,
          null,
          -0.5,
          29.5,
          null,
          -0.5,
          29.5,
          null,
          -0.5,
          29.5,
          null,
          -0.5,
          29.5,
          null,
          -0.5,
          29.5,
          null,
          -0.5,
          29.5,
          null,
          -0.5,
          29.5,
          null,
          -0.5,
          29.5,
          null,
          -0.5,
          29.5,
          null,
          -0.5,
          29.5,
          null,
          -0.5,
          29.5,
          null,
          -0.5,
          29.5,
          null,
          -0.5,
          29.5,
          null,
          -0.5,
          29.5,
          null,
          -0.5,
          29.5,
          null,
          -0.5,
          29.5,
          null,
          -0.5,
          29.5,
          null,
          -0.5,
          29.5,
          null,
          -0.5,
          29.5,
          null
         ],
         "xaxis": "x2",
         "y": [
          -0.5,
          29.5,
          null,
          -0.5,
          29.5,
          null,
          -0.5,
          29.5,
          null,
          -0.5,
          29.5,
          null,
          -0.5,
          29.5,
          null,
          -0.5,
          29.5,
          null,
          -0.5,
          29.5,
          null,
          -0.5,
          29.5,
          null,
          -0.5,
          29.5,
          null,
          -0.5,
          29.5,
          null,
          -0.5,
          29.5,
          null,
          -0.5,
          29.5,
          null,
          -0.5,
          29.5,
          null,
          -0.5,
          29.5,
          null,
          -0.5,
          29.5,
          null,
          -0.5,
          29.5,
          null,
          -0.5,
          29.5,
          null,
          -0.5,
          29.5,
          null,
          -0.5,
          29.5,
          null,
          -0.5,
          29.5,
          null,
          -0.5,
          29.5,
          null,
          -0.5,
          29.5,
          null,
          -0.5,
          29.5,
          null,
          -0.5,
          29.5,
          null,
          -0.5,
          29.5,
          null,
          -0.5,
          29.5,
          null,
          -0.5,
          29.5,
          null,
          -0.5,
          29.5,
          null,
          -0.5,
          29.5,
          null,
          -0.5,
          29.5,
          null,
          -0.5,
          -0.5,
          null,
          0.5,
          0.5,
          null,
          1.5,
          1.5,
          null,
          2.5,
          2.5,
          null,
          3.5,
          3.5,
          null,
          4.5,
          4.5,
          null,
          5.5,
          5.5,
          null,
          6.5,
          6.5,
          null,
          7.5,
          7.5,
          null,
          8.5,
          8.5,
          null,
          9.5,
          9.5,
          null,
          10.5,
          10.5,
          null,
          11.5,
          11.5,
          null,
          12.5,
          12.5,
          null,
          13.5,
          13.5,
          null,
          14.5,
          14.5,
          null,
          15.5,
          15.5,
          null,
          16.5,
          16.5,
          null,
          17.5,
          17.5,
          null,
          18.5,
          18.5,
          null,
          19.5,
          19.5,
          null,
          20.5,
          20.5,
          null,
          21.5,
          21.5,
          null,
          22.5,
          22.5,
          null,
          23.5,
          23.5,
          null,
          24.5,
          24.5,
          null,
          25.5,
          25.5,
          null,
          26.5,
          26.5,
          null,
          27.5,
          27.5,
          null,
          28.5,
          28.5,
          null
         ],
         "yaxis": "y2"
        },
        {
         "marker": {
          "color": "red",
          "size": 10
         },
         "name": "400p border",
         "type": "scatter",
         "x": [
          2.001,
          2.001,
          2.001,
          2.001,
          2.001,
          2.001,
          2.001,
          2.001,
          2.001,
          2.001,
          2.001,
          2.001,
          2.001,
          2.001,
          2.001,
          2.001,
          2.001,
          2.001,
          2.001,
          2.001,
          2.001,
          2.001,
          2.001,
          2.001,
          2.001,
          2.001,
          2.001,
          2.001,
          2.001,
          2.001,
          2.001,
          2.001,
          2.001,
          2.001,
          2.001,
          2.001,
          2.001,
          2.001,
          2.001,
          2.001,
          2.001,
          2.001,
          2.001,
          2.001,
          2.001,
          2.001,
          2.001,
          2.001,
          2.001,
          2.001,
          2.001,
          2.1030408163265304,
          2.205081632653061,
          2.307122448979592,
          2.4091632653061223,
          2.511204081632653,
          2.613244897959184,
          2.7152857142857143,
          2.817326530612245,
          2.9193673469387753,
          3.021408163265306,
          3.1234489795918368,
          3.2254897959183673,
          3.3275306122448978,
          3.4295714285714287,
          3.531612244897959,
          3.6336530612244897,
          3.7356938775510202,
          3.8377346938775507,
          3.9397755102040817,
          4.041816326530612,
          4.143857142857143,
          4.245897959183674,
          4.347938775510205,
          4.449979591836735,
          4.552020408163266,
          4.654061224489796,
          4.7561020408163275,
          4.858142857142858,
          4.9601836734693885,
          5.062224489795919,
          5.1642653061224495,
          5.26630612244898,
          5.3683469387755105,
          5.470387755102041,
          5.5724285714285715,
          5.674469387755102,
          5.7765102040816325,
          5.878551020408164,
          5.980591836734694,
          6.082632653061225,
          6.184673469387755,
          6.286714285714286,
          6.388755102040816,
          6.490795918367348,
          6.592836734693878,
          6.694877551020409,
          6.796918367346939,
          6.89895918367347,
          7.001,
          7.001,
          7.001,
          7.001,
          7.001,
          7.001,
          7.001,
          7.001,
          7.001,
          7.001,
          7.001,
          7.001,
          7.001,
          7.001,
          7.001,
          7.001,
          7.001,
          7.001,
          7.001,
          7.001,
          7.001,
          7.001,
          7.001,
          7.001,
          7.001,
          7.001,
          7.001,
          7.001,
          7.001,
          7.001,
          7.001,
          7.001,
          7.001,
          7.001,
          7.001,
          7.001,
          7.001,
          7.001,
          7.001,
          7.001,
          7.001,
          7.001,
          7.001,
          7.001,
          7.001,
          7.001,
          7.001,
          7.001,
          7.001,
          7.001,
          7.001,
          7.001,
          6.89895918367347,
          6.796918367346939,
          6.694877551020409,
          6.592836734693878,
          6.490795918367347,
          6.388755102040816,
          6.286714285714286,
          6.184673469387755,
          6.082632653061225,
          5.980591836734694,
          5.878551020408163,
          5.7765102040816325,
          5.674469387755102,
          5.5724285714285715,
          5.470387755102041,
          5.3683469387755105,
          5.26630612244898,
          5.1642653061224495,
          5.062224489795919,
          4.9601836734693885,
          4.858142857142858,
          4.756102040816327,
          4.654061224489796,
          4.552020408163266,
          4.449979591836735,
          4.347938775510205,
          4.245897959183673,
          4.143857142857143,
          4.041816326530612,
          3.9397755102040812,
          3.8377346938775507,
          3.7356938775510202,
          3.6336530612244897,
          3.531612244897959,
          3.4295714285714283,
          3.3275306122448978,
          3.2254897959183673,
          3.1234489795918363,
          3.021408163265306,
          2.9193673469387753,
          2.817326530612245,
          2.7152857142857143,
          2.613244897959184,
          2.5112040816326524,
          2.409163265306122,
          2.3071224489795914,
          2.205081632653061,
          2.1030408163265304,
          2.001
         ],
         "xaxis": "x",
         "y": [
          7.001,
          6.89895918367347,
          6.796918367346939,
          6.694877551020409,
          6.592836734693878,
          6.490795918367347,
          6.388755102040816,
          6.286714285714286,
          6.184673469387755,
          6.082632653061225,
          5.980591836734694,
          5.878551020408163,
          5.7765102040816325,
          5.674469387755102,
          5.5724285714285715,
          5.470387755102041,
          5.3683469387755105,
          5.26630612244898,
          5.1642653061224495,
          5.062224489795919,
          4.9601836734693885,
          4.858142857142858,
          4.756102040816327,
          4.654061224489796,
          4.552020408163266,
          4.449979591836735,
          4.347938775510205,
          4.245897959183673,
          4.143857142857143,
          4.041816326530612,
          3.9397755102040812,
          3.8377346938775507,
          3.7356938775510202,
          3.6336530612244897,
          3.531612244897959,
          3.4295714285714283,
          3.3275306122448978,
          3.2254897959183673,
          3.1234489795918363,
          3.021408163265306,
          2.9193673469387753,
          2.817326530612245,
          2.7152857142857143,
          2.613244897959184,
          2.5112040816326524,
          2.409163265306122,
          2.3071224489795914,
          2.205081632653061,
          2.1030408163265304,
          2.001,
          2.001,
          2.001,
          2.001,
          2.001,
          2.001,
          2.001,
          2.001,
          2.001,
          2.001,
          2.001,
          2.001,
          2.001,
          2.001,
          2.001,
          2.001,
          2.001,
          2.001,
          2.001,
          2.001,
          2.001,
          2.001,
          2.001,
          2.001,
          2.001,
          2.001,
          2.001,
          2.001,
          2.001,
          2.001,
          2.001,
          2.001,
          2.001,
          2.001,
          2.001,
          2.001,
          2.001,
          2.001,
          2.001,
          2.001,
          2.001,
          2.001,
          2.001,
          2.001,
          2.001,
          2.001,
          2.001,
          2.001,
          2.001,
          2.001,
          2.001,
          2.001,
          2.1030408163265304,
          2.205081632653061,
          2.307122448979592,
          2.4091632653061223,
          2.511204081632653,
          2.613244897959184,
          2.7152857142857143,
          2.817326530612245,
          2.9193673469387753,
          3.021408163265306,
          3.1234489795918368,
          3.2254897959183673,
          3.3275306122448978,
          3.4295714285714287,
          3.531612244897959,
          3.6336530612244897,
          3.7356938775510202,
          3.8377346938775507,
          3.9397755102040817,
          4.041816326530612,
          4.143857142857143,
          4.245897959183674,
          4.347938775510205,
          4.449979591836735,
          4.552020408163266,
          4.654061224489796,
          4.7561020408163275,
          4.858142857142858,
          4.9601836734693885,
          5.062224489795919,
          5.1642653061224495,
          5.26630612244898,
          5.3683469387755105,
          5.470387755102041,
          5.5724285714285715,
          5.674469387755102,
          5.7765102040816325,
          5.878551020408164,
          5.980591836734694,
          6.082632653061225,
          6.184673469387755,
          6.286714285714286,
          6.388755102040816,
          6.490795918367348,
          6.592836734693878,
          6.694877551020409,
          6.796918367346939,
          6.89895918367347,
          7.001,
          7.001,
          7.001,
          7.001,
          7.001,
          7.001,
          7.001,
          7.001,
          7.001,
          7.001,
          7.001,
          7.001,
          7.001,
          7.001,
          7.001,
          7.001,
          7.001,
          7.001,
          7.001,
          7.001,
          7.001,
          7.001,
          7.001,
          7.001,
          7.001,
          7.001,
          7.001,
          7.001,
          7.001,
          7.001,
          7.001,
          7.001,
          7.001,
          7.001,
          7.001,
          7.001,
          7.001,
          7.001,
          7.001,
          7.001,
          7.001,
          7.001,
          7.001,
          7.001,
          7.001,
          7.001,
          7.001,
          7.001,
          7.001,
          7.001,
          7.001
         ],
         "yaxis": "y"
        },
        {
         "marker": {
          "color": "red",
          "size": 10
         },
         "name": "400 p border",
         "type": "scatter",
         "x": [
          6.003,
          6.003,
          6.003,
          6.003,
          6.003,
          6.003,
          6.003,
          6.003,
          6.003,
          6.003,
          6.003,
          6.003,
          6.003,
          6.003,
          6.003,
          6.003,
          6.003,
          6.003,
          6.003,
          6.003,
          6.003,
          6.003,
          6.003,
          6.003,
          6.003,
          6.003,
          6.003,
          6.003,
          6.003,
          6.003,
          6.003,
          6.003,
          6.003,
          6.003,
          6.003,
          6.003,
          6.003,
          6.003,
          6.003,
          6.003,
          6.003,
          6.003,
          6.003,
          6.003,
          6.003,
          6.003,
          6.003,
          6.003,
          6.003,
          6.003,
          6.003,
          6.309122448979592,
          6.615244897959183,
          6.9213673469387755,
          7.227489795918367,
          7.5336122448979586,
          7.839734693877551,
          8.145857142857142,
          8.451979591836734,
          8.758102040816325,
          9.064224489795917,
          9.37034693877551,
          9.676469387755102,
          9.982591836734693,
          10.288714285714287,
          10.594836734693878,
          10.90095918367347,
          11.207081632653061,
          11.513204081632653,
          11.819326530612244,
          12.125448979591837,
          12.431571428571427,
          12.737693877551022,
          13.043816326530614,
          13.349938775510205,
          13.656061224489797,
          13.962183673469388,
          14.268306122448983,
          14.574428571428573,
          14.880551020408166,
          15.186673469387756,
          15.49279591836735,
          15.798918367346939,
          16.105040816326532,
          16.411163265306122,
          16.717285714285715,
          17.023408163265305,
          17.3295306122449,
          17.63565306122449,
          17.94177551020408,
          18.247897959183675,
          18.554020408163268,
          18.860142857142858,
          19.166265306122447,
          19.472387755102044,
          19.778510204081634,
          20.084632653061227,
          20.390755102040817,
          20.69687755102041,
          21.003,
          21.003,
          21.003,
          21.003,
          21.003,
          21.003,
          21.003,
          21.003,
          21.003,
          21.003,
          21.003,
          21.003,
          21.003,
          21.003,
          21.003,
          21.003,
          21.003,
          21.003,
          21.003,
          21.003,
          21.003,
          21.003,
          21.003,
          21.003,
          21.003,
          21.003,
          21.003,
          21.003,
          21.003,
          21.003,
          21.003,
          21.003,
          21.003,
          21.003,
          21.003,
          21.003,
          21.003,
          21.003,
          21.003,
          21.003,
          21.003,
          21.003,
          21.003,
          21.003,
          21.003,
          21.003,
          21.003,
          21.003,
          21.003,
          21.003,
          21.003,
          21.003,
          20.69687755102041,
          20.390755102040817,
          20.084632653061227,
          19.778510204081634,
          19.47238775510204,
          19.166265306122447,
          18.860142857142858,
          18.554020408163268,
          18.247897959183675,
          17.94177551020408,
          17.635653061224488,
          17.3295306122449,
          17.023408163265305,
          16.717285714285715,
          16.411163265306122,
          16.105040816326532,
          15.798918367346939,
          15.49279591836735,
          15.186673469387756,
          14.880551020408166,
          14.574428571428573,
          14.26830612244898,
          13.962183673469388,
          13.656061224489797,
          13.349938775510205,
          13.043816326530614,
          12.73769387755102,
          12.431571428571427,
          12.125448979591837,
          11.819326530612244,
          11.513204081632653,
          11.207081632653061,
          10.90095918367347,
          10.594836734693878,
          10.288714285714285,
          9.982591836734693,
          9.676469387755102,
          9.370346938775509,
          9.064224489795917,
          8.758102040816325,
          8.451979591836734,
          8.145857142857142,
          7.839734693877551,
          7.533612244897958,
          7.227489795918366,
          6.921367346938775,
          6.615244897959183,
          6.309122448979592,
          6.003
         ],
         "xaxis": "x2",
         "y": [
          21.003,
          20.69687755102041,
          20.390755102040817,
          20.084632653061227,
          19.778510204081634,
          19.47238775510204,
          19.166265306122447,
          18.860142857142858,
          18.554020408163268,
          18.247897959183675,
          17.94177551020408,
          17.635653061224488,
          17.3295306122449,
          17.023408163265305,
          16.717285714285715,
          16.411163265306122,
          16.105040816326532,
          15.798918367346939,
          15.49279591836735,
          15.186673469387756,
          14.880551020408166,
          14.574428571428573,
          14.26830612244898,
          13.962183673469388,
          13.656061224489797,
          13.349938775510205,
          13.043816326530614,
          12.73769387755102,
          12.431571428571427,
          12.125448979591837,
          11.819326530612244,
          11.513204081632653,
          11.207081632653061,
          10.90095918367347,
          10.594836734693878,
          10.288714285714285,
          9.982591836734693,
          9.676469387755102,
          9.370346938775509,
          9.064224489795917,
          8.758102040816325,
          8.451979591836734,
          8.145857142857142,
          7.839734693877551,
          7.533612244897958,
          7.227489795918366,
          6.921367346938775,
          6.615244897959183,
          6.309122448979592,
          6.003,
          6.003,
          6.003,
          6.003,
          6.003,
          6.003,
          6.003,
          6.003,
          6.003,
          6.003,
          6.003,
          6.003,
          6.003,
          6.003,
          6.003,
          6.003,
          6.003,
          6.003,
          6.003,
          6.003,
          6.003,
          6.003,
          6.003,
          6.003,
          6.003,
          6.003,
          6.003,
          6.003,
          6.003,
          6.003,
          6.003,
          6.003,
          6.003,
          6.003,
          6.003,
          6.003,
          6.003,
          6.003,
          6.003,
          6.003,
          6.003,
          6.003,
          6.003,
          6.003,
          6.003,
          6.003,
          6.003,
          6.003,
          6.003,
          6.003,
          6.003,
          6.003,
          6.309122448979592,
          6.615244897959183,
          6.9213673469387755,
          7.227489795918367,
          7.5336122448979586,
          7.839734693877551,
          8.145857142857142,
          8.451979591836734,
          8.758102040816325,
          9.064224489795917,
          9.37034693877551,
          9.676469387755102,
          9.982591836734693,
          10.288714285714287,
          10.594836734693878,
          10.90095918367347,
          11.207081632653061,
          11.513204081632653,
          11.819326530612244,
          12.125448979591837,
          12.431571428571427,
          12.737693877551022,
          13.043816326530614,
          13.349938775510205,
          13.656061224489797,
          13.962183673469388,
          14.268306122448983,
          14.574428571428573,
          14.880551020408166,
          15.186673469387756,
          15.49279591836735,
          15.798918367346939,
          16.105040816326532,
          16.411163265306122,
          16.717285714285715,
          17.023408163265305,
          17.3295306122449,
          17.63565306122449,
          17.94177551020408,
          18.247897959183675,
          18.554020408163268,
          18.860142857142858,
          19.166265306122447,
          19.472387755102044,
          19.778510204081634,
          20.084632653061227,
          20.390755102040817,
          20.69687755102041,
          21.003,
          21.003,
          21.003,
          21.003,
          21.003,
          21.003,
          21.003,
          21.003,
          21.003,
          21.003,
          21.003,
          21.003,
          21.003,
          21.003,
          21.003,
          21.003,
          21.003,
          21.003,
          21.003,
          21.003,
          21.003,
          21.003,
          21.003,
          21.003,
          21.003,
          21.003,
          21.003,
          21.003,
          21.003,
          21.003,
          21.003,
          21.003,
          21.003,
          21.003,
          21.003,
          21.003,
          21.003,
          21.003,
          21.003,
          21.003,
          21.003,
          21.003,
          21.003,
          21.003,
          21.003,
          21.003,
          21.003,
          21.003,
          21.003,
          21.003,
          21.003
         ],
         "yaxis": "y2"
        }
       ],
       "layout": {
        "annotations": [
         {
          "font": {
           "size": 16
          },
          "showarrow": false,
          "text": "Original image",
          "x": 0.2375,
          "xanchor": "center",
          "xref": "paper",
          "y": 1,
          "yanchor": "bottom",
          "yref": "paper"
         },
         {
          "font": {
           "size": 16
          },
          "showarrow": false,
          "text": "Upscaled image s=(3, 3)",
          "x": 0.7625,
          "xanchor": "center",
          "xref": "paper",
          "y": 1,
          "yanchor": "bottom",
          "yref": "paper"
         }
        ],
        "coloraxis": {
         "showscale": false
        },
        "font": {
         "size": 11
        },
        "height": 800,
        "showlegend": false,
        "template": {
         "data": {
          "bar": [
           {
            "error_x": {
             "color": "#2a3f5f"
            },
            "error_y": {
             "color": "#2a3f5f"
            },
            "marker": {
             "line": {
              "color": "#E5ECF6",
              "width": 0.5
             },
             "pattern": {
              "fillmode": "overlay",
              "size": 10,
              "solidity": 0.2
             }
            },
            "type": "bar"
           }
          ],
          "barpolar": [
           {
            "marker": {
             "line": {
              "color": "#E5ECF6",
              "width": 0.5
             },
             "pattern": {
              "fillmode": "overlay",
              "size": 10,
              "solidity": 0.2
             }
            },
            "type": "barpolar"
           }
          ],
          "carpet": [
           {
            "aaxis": {
             "endlinecolor": "#2a3f5f",
             "gridcolor": "white",
             "linecolor": "white",
             "minorgridcolor": "white",
             "startlinecolor": "#2a3f5f"
            },
            "baxis": {
             "endlinecolor": "#2a3f5f",
             "gridcolor": "white",
             "linecolor": "white",
             "minorgridcolor": "white",
             "startlinecolor": "#2a3f5f"
            },
            "type": "carpet"
           }
          ],
          "choropleth": [
           {
            "colorbar": {
             "outlinewidth": 0,
             "ticks": ""
            },
            "type": "choropleth"
           }
          ],
          "contour": [
           {
            "colorbar": {
             "outlinewidth": 0,
             "ticks": ""
            },
            "colorscale": [
             [
              0,
              "#0d0887"
             ],
             [
              0.1111111111111111,
              "#46039f"
             ],
             [
              0.2222222222222222,
              "#7201a8"
             ],
             [
              0.3333333333333333,
              "#9c179e"
             ],
             [
              0.4444444444444444,
              "#bd3786"
             ],
             [
              0.5555555555555556,
              "#d8576b"
             ],
             [
              0.6666666666666666,
              "#ed7953"
             ],
             [
              0.7777777777777778,
              "#fb9f3a"
             ],
             [
              0.8888888888888888,
              "#fdca26"
             ],
             [
              1,
              "#f0f921"
             ]
            ],
            "type": "contour"
           }
          ],
          "contourcarpet": [
           {
            "colorbar": {
             "outlinewidth": 0,
             "ticks": ""
            },
            "type": "contourcarpet"
           }
          ],
          "heatmap": [
           {
            "colorbar": {
             "outlinewidth": 0,
             "ticks": ""
            },
            "colorscale": [
             [
              0,
              "#0d0887"
             ],
             [
              0.1111111111111111,
              "#46039f"
             ],
             [
              0.2222222222222222,
              "#7201a8"
             ],
             [
              0.3333333333333333,
              "#9c179e"
             ],
             [
              0.4444444444444444,
              "#bd3786"
             ],
             [
              0.5555555555555556,
              "#d8576b"
             ],
             [
              0.6666666666666666,
              "#ed7953"
             ],
             [
              0.7777777777777778,
              "#fb9f3a"
             ],
             [
              0.8888888888888888,
              "#fdca26"
             ],
             [
              1,
              "#f0f921"
             ]
            ],
            "type": "heatmap"
           }
          ],
          "heatmapgl": [
           {
            "colorbar": {
             "outlinewidth": 0,
             "ticks": ""
            },
            "colorscale": [
             [
              0,
              "#0d0887"
             ],
             [
              0.1111111111111111,
              "#46039f"
             ],
             [
              0.2222222222222222,
              "#7201a8"
             ],
             [
              0.3333333333333333,
              "#9c179e"
             ],
             [
              0.4444444444444444,
              "#bd3786"
             ],
             [
              0.5555555555555556,
              "#d8576b"
             ],
             [
              0.6666666666666666,
              "#ed7953"
             ],
             [
              0.7777777777777778,
              "#fb9f3a"
             ],
             [
              0.8888888888888888,
              "#fdca26"
             ],
             [
              1,
              "#f0f921"
             ]
            ],
            "type": "heatmapgl"
           }
          ],
          "histogram": [
           {
            "marker": {
             "pattern": {
              "fillmode": "overlay",
              "size": 10,
              "solidity": 0.2
             }
            },
            "type": "histogram"
           }
          ],
          "histogram2d": [
           {
            "colorbar": {
             "outlinewidth": 0,
             "ticks": ""
            },
            "colorscale": [
             [
              0,
              "#0d0887"
             ],
             [
              0.1111111111111111,
              "#46039f"
             ],
             [
              0.2222222222222222,
              "#7201a8"
             ],
             [
              0.3333333333333333,
              "#9c179e"
             ],
             [
              0.4444444444444444,
              "#bd3786"
             ],
             [
              0.5555555555555556,
              "#d8576b"
             ],
             [
              0.6666666666666666,
              "#ed7953"
             ],
             [
              0.7777777777777778,
              "#fb9f3a"
             ],
             [
              0.8888888888888888,
              "#fdca26"
             ],
             [
              1,
              "#f0f921"
             ]
            ],
            "type": "histogram2d"
           }
          ],
          "histogram2dcontour": [
           {
            "colorbar": {
             "outlinewidth": 0,
             "ticks": ""
            },
            "colorscale": [
             [
              0,
              "#0d0887"
             ],
             [
              0.1111111111111111,
              "#46039f"
             ],
             [
              0.2222222222222222,
              "#7201a8"
             ],
             [
              0.3333333333333333,
              "#9c179e"
             ],
             [
              0.4444444444444444,
              "#bd3786"
             ],
             [
              0.5555555555555556,
              "#d8576b"
             ],
             [
              0.6666666666666666,
              "#ed7953"
             ],
             [
              0.7777777777777778,
              "#fb9f3a"
             ],
             [
              0.8888888888888888,
              "#fdca26"
             ],
             [
              1,
              "#f0f921"
             ]
            ],
            "type": "histogram2dcontour"
           }
          ],
          "mesh3d": [
           {
            "colorbar": {
             "outlinewidth": 0,
             "ticks": ""
            },
            "type": "mesh3d"
           }
          ],
          "parcoords": [
           {
            "line": {
             "colorbar": {
              "outlinewidth": 0,
              "ticks": ""
             }
            },
            "type": "parcoords"
           }
          ],
          "pie": [
           {
            "automargin": true,
            "type": "pie"
           }
          ],
          "scatter": [
           {
            "fillpattern": {
             "fillmode": "overlay",
             "size": 10,
             "solidity": 0.2
            },
            "type": "scatter"
           }
          ],
          "scatter3d": [
           {
            "line": {
             "colorbar": {
              "outlinewidth": 0,
              "ticks": ""
             }
            },
            "marker": {
             "colorbar": {
              "outlinewidth": 0,
              "ticks": ""
             }
            },
            "type": "scatter3d"
           }
          ],
          "scattercarpet": [
           {
            "marker": {
             "colorbar": {
              "outlinewidth": 0,
              "ticks": ""
             }
            },
            "type": "scattercarpet"
           }
          ],
          "scattergeo": [
           {
            "marker": {
             "colorbar": {
              "outlinewidth": 0,
              "ticks": ""
             }
            },
            "type": "scattergeo"
           }
          ],
          "scattergl": [
           {
            "marker": {
             "colorbar": {
              "outlinewidth": 0,
              "ticks": ""
             }
            },
            "type": "scattergl"
           }
          ],
          "scattermapbox": [
           {
            "marker": {
             "colorbar": {
              "outlinewidth": 0,
              "ticks": ""
             }
            },
            "type": "scattermapbox"
           }
          ],
          "scatterpolar": [
           {
            "marker": {
             "colorbar": {
              "outlinewidth": 0,
              "ticks": ""
             }
            },
            "type": "scatterpolar"
           }
          ],
          "scatterpolargl": [
           {
            "marker": {
             "colorbar": {
              "outlinewidth": 0,
              "ticks": ""
             }
            },
            "type": "scatterpolargl"
           }
          ],
          "scatterternary": [
           {
            "marker": {
             "colorbar": {
              "outlinewidth": 0,
              "ticks": ""
             }
            },
            "type": "scatterternary"
           }
          ],
          "surface": [
           {
            "colorbar": {
             "outlinewidth": 0,
             "ticks": ""
            },
            "colorscale": [
             [
              0,
              "#0d0887"
             ],
             [
              0.1111111111111111,
              "#46039f"
             ],
             [
              0.2222222222222222,
              "#7201a8"
             ],
             [
              0.3333333333333333,
              "#9c179e"
             ],
             [
              0.4444444444444444,
              "#bd3786"
             ],
             [
              0.5555555555555556,
              "#d8576b"
             ],
             [
              0.6666666666666666,
              "#ed7953"
             ],
             [
              0.7777777777777778,
              "#fb9f3a"
             ],
             [
              0.8888888888888888,
              "#fdca26"
             ],
             [
              1,
              "#f0f921"
             ]
            ],
            "type": "surface"
           }
          ],
          "table": [
           {
            "cells": {
             "fill": {
              "color": "#EBF0F8"
             },
             "line": {
              "color": "white"
             }
            },
            "header": {
             "fill": {
              "color": "#C8D4E3"
             },
             "line": {
              "color": "white"
             }
            },
            "type": "table"
           }
          ]
         },
         "layout": {
          "annotationdefaults": {
           "arrowcolor": "#2a3f5f",
           "arrowhead": 0,
           "arrowwidth": 1
          },
          "autotypenumbers": "strict",
          "coloraxis": {
           "colorbar": {
            "outlinewidth": 0,
            "ticks": ""
           }
          },
          "colorscale": {
           "diverging": [
            [
             0,
             "#8e0152"
            ],
            [
             0.1,
             "#c51b7d"
            ],
            [
             0.2,
             "#de77ae"
            ],
            [
             0.3,
             "#f1b6da"
            ],
            [
             0.4,
             "#fde0ef"
            ],
            [
             0.5,
             "#f7f7f7"
            ],
            [
             0.6,
             "#e6f5d0"
            ],
            [
             0.7,
             "#b8e186"
            ],
            [
             0.8,
             "#7fbc41"
            ],
            [
             0.9,
             "#4d9221"
            ],
            [
             1,
             "#276419"
            ]
           ],
           "sequential": [
            [
             0,
             "#0d0887"
            ],
            [
             0.1111111111111111,
             "#46039f"
            ],
            [
             0.2222222222222222,
             "#7201a8"
            ],
            [
             0.3333333333333333,
             "#9c179e"
            ],
            [
             0.4444444444444444,
             "#bd3786"
            ],
            [
             0.5555555555555556,
             "#d8576b"
            ],
            [
             0.6666666666666666,
             "#ed7953"
            ],
            [
             0.7777777777777778,
             "#fb9f3a"
            ],
            [
             0.8888888888888888,
             "#fdca26"
            ],
            [
             1,
             "#f0f921"
            ]
           ],
           "sequentialminus": [
            [
             0,
             "#0d0887"
            ],
            [
             0.1111111111111111,
             "#46039f"
            ],
            [
             0.2222222222222222,
             "#7201a8"
            ],
            [
             0.3333333333333333,
             "#9c179e"
            ],
            [
             0.4444444444444444,
             "#bd3786"
            ],
            [
             0.5555555555555556,
             "#d8576b"
            ],
            [
             0.6666666666666666,
             "#ed7953"
            ],
            [
             0.7777777777777778,
             "#fb9f3a"
            ],
            [
             0.8888888888888888,
             "#fdca26"
            ],
            [
             1,
             "#f0f921"
            ]
           ]
          },
          "colorway": [
           "#636efa",
           "#EF553B",
           "#00cc96",
           "#ab63fa",
           "#FFA15A",
           "#19d3f3",
           "#FF6692",
           "#B6E880",
           "#FF97FF",
           "#FECB52"
          ],
          "font": {
           "color": "#2a3f5f"
          },
          "geo": {
           "bgcolor": "white",
           "lakecolor": "white",
           "landcolor": "#E5ECF6",
           "showlakes": true,
           "showland": true,
           "subunitcolor": "white"
          },
          "hoverlabel": {
           "align": "left"
          },
          "hovermode": "closest",
          "mapbox": {
           "style": "light"
          },
          "paper_bgcolor": "white",
          "plot_bgcolor": "#E5ECF6",
          "polar": {
           "angularaxis": {
            "gridcolor": "white",
            "linecolor": "white",
            "ticks": ""
           },
           "bgcolor": "#E5ECF6",
           "radialaxis": {
            "gridcolor": "white",
            "linecolor": "white",
            "ticks": ""
           }
          },
          "scene": {
           "xaxis": {
            "backgroundcolor": "#E5ECF6",
            "gridcolor": "white",
            "gridwidth": 2,
            "linecolor": "white",
            "showbackground": true,
            "ticks": "",
            "zerolinecolor": "white"
           },
           "yaxis": {
            "backgroundcolor": "#E5ECF6",
            "gridcolor": "white",
            "gridwidth": 2,
            "linecolor": "white",
            "showbackground": true,
            "ticks": "",
            "zerolinecolor": "white"
           },
           "zaxis": {
            "backgroundcolor": "#E5ECF6",
            "gridcolor": "white",
            "gridwidth": 2,
            "linecolor": "white",
            "showbackground": true,
            "ticks": "",
            "zerolinecolor": "white"
           }
          },
          "shapedefaults": {
           "line": {
            "color": "#2a3f5f"
           }
          },
          "ternary": {
           "aaxis": {
            "gridcolor": "white",
            "linecolor": "white",
            "ticks": ""
           },
           "baxis": {
            "gridcolor": "white",
            "linecolor": "white",
            "ticks": ""
           },
           "bgcolor": "#E5ECF6",
           "caxis": {
            "gridcolor": "white",
            "linecolor": "white",
            "ticks": ""
           }
          },
          "title": {
           "x": 0.05
          },
          "xaxis": {
           "automargin": true,
           "gridcolor": "white",
           "linecolor": "white",
           "ticks": "",
           "title": {
            "standoff": 15
           },
           "zerolinecolor": "white",
           "zerolinewidth": 2
          },
          "yaxis": {
           "automargin": true,
           "gridcolor": "white",
           "linecolor": "white",
           "ticks": "",
           "title": {
            "standoff": 15
           },
           "zerolinecolor": "white",
           "zerolinewidth": 2
          }
         }
        },
        "title": {
         "text": "Border upscaling with no offset: b(point)=point*s",
         "x": 0.5
        },
        "width": 1400,
        "xaxis": {
         "anchor": "y",
         "domain": [
          0,
          0.475
         ]
        },
        "xaxis2": {
         "anchor": "y2",
         "domain": [
          0.525,
          1
         ]
        },
        "yaxis": {
         "anchor": "x",
         "domain": [
          0,
          1
         ]
        },
        "yaxis2": {
         "anchor": "x2",
         "domain": [
          0,
          1
         ]
        }
       }
      }
     },
     "metadata": {},
     "output_type": "display_data"
    }
   ],
   "source": [
    "fig = make_subplots(rows=1, cols=2, \n",
    "                    horizontal_spacing=0.05, \n",
    "                    vertical_spacing=0.1,\n",
    "                    subplot_titles=('Original image', f\"Upscaled image s={scale_factor_x, scale_factor_y}\"))\n",
    "# Add images to plot\n",
    "base_image_fig = px.imshow(test_image)\n",
    "fig.add_trace(base_image_fig.data[0], 1, 1)\n",
    "xs, ys = gridlines(test_image)\n",
    "fig.add_trace(go.Scatter(x=xs, y=ys, marker=dict(color='black', size=1), name=f\"Pixel edges\", showlegend=False), row=1, col=1)\n",
    "\n",
    "upscaled_image_box_2 = upscaled_image_box.copy()\n",
    "xs, ys = pixels_between_points(fourier_xs*scale_factor_x, fourier_ys*scale_factor_y)\n",
    "# xs, ys = pixels_between_points(fourier_xs*scale_factor+scale_factor/2-0.5, fourier_ys*scale_factor+scale_factor/2-0.5)\n",
    "for x,y in list(zip(xs,ys)):\n",
    "    upscaled_image_box_2[int(y)][int(x)] = 0.5\n",
    "    \n",
    "upscaled_image_fig = px.imshow(upscaled_image_box_2)\n",
    "fig.add_trace(upscaled_image_fig.data[0], 1, 2)\n",
    "xs, ys = gridlines(upscaled_image_box_2)\n",
    "fig.add_trace(go.Scatter(x=xs, y=ys, marker=dict(color='black', size=1), name=f\"Pixel edges\", showlegend=False), row=1, col=2)\n",
    "\n",
    "# 400p borders\n",
    "fig.add_trace(go.Scatter(x=fourier_xs, y=fourier_ys, marker=dict(color='red', size=10), name=f\"400p border\"), row=1, col=1)\n",
    "fig.add_trace(go.Scatter(x=fourier_xs*scale_factor_x, y=fourier_ys*scale_factor_y, marker=dict(color='red', size=10), name=f\"400 p border\"), row=1, col=2)\n",
    "\n",
    "fig.update_layout(title_text=f\"Border upscaling with no offset: b(point)=point*s\", title_x=0.5, width=1400, height=800, showlegend=False, font_size=11)\n",
    "fig.update(layout_coloraxis_showscale=False)\n",
    "fig.show()"
   ]
  },
  {
   "cell_type": "markdown",
   "metadata": {},
   "source": [
    "# \n",
    "\n",
    "scipy.ndimage import map_cooridnates"
   ]
  },
  {
   "cell_type": "code",
   "execution_count": 63,
   "metadata": {},
   "outputs": [
    {
     "data": {
      "application/vnd.plotly.v1+json": {
       "config": {
        "plotlyServerURL": "https://plot.ly"
       },
       "data": [
        {
         "coloraxis": "coloraxis",
         "hovertemplate": "x: %{x}<br>y: %{y}<br>color: %{z}<extra></extra>",
         "name": "0",
         "type": "heatmap",
         "xaxis": "x",
         "yaxis": "y",
         "z": [
          [
           0,
           0,
           0,
           0,
           0,
           0,
           0,
           0,
           0,
           0
          ],
          [
           0,
           0,
           0,
           0,
           0,
           0,
           0,
           0,
           0,
           0
          ],
          [
           0,
           0,
           1,
           1,
           1,
           1,
           1,
           1,
           0,
           0
          ],
          [
           0,
           0,
           1,
           0,
           0,
           0,
           0,
           1,
           0,
           0
          ],
          [
           0,
           0,
           1,
           0,
           0,
           0,
           0,
           1,
           0,
           0
          ],
          [
           0,
           0,
           1,
           0,
           0,
           0,
           0,
           1,
           0,
           0
          ],
          [
           0,
           0,
           1,
           0,
           0,
           0,
           0,
           1,
           0,
           0
          ],
          [
           0,
           0,
           1,
           1,
           1,
           1,
           1,
           1,
           0,
           0
          ],
          [
           0,
           0,
           0,
           0,
           0,
           0,
           0,
           0,
           0,
           0
          ],
          [
           0,
           0,
           0,
           0,
           0,
           0,
           0,
           0,
           0,
           0
          ]
         ]
        },
        {
         "marker": {
          "color": "black",
          "size": 1
         },
         "name": "Pixel edges",
         "showlegend": false,
         "type": "scatter",
         "x": [
          -0.5,
          -0.5,
          null,
          0.5,
          0.5,
          null,
          1.5,
          1.5,
          null,
          2.5,
          2.5,
          null,
          3.5,
          3.5,
          null,
          4.5,
          4.5,
          null,
          5.5,
          5.5,
          null,
          6.5,
          6.5,
          null,
          7.5,
          7.5,
          null,
          8.5,
          8.5,
          null,
          -0.5,
          9.5,
          null,
          -0.5,
          9.5,
          null,
          -0.5,
          9.5,
          null,
          -0.5,
          9.5,
          null,
          -0.5,
          9.5,
          null,
          -0.5,
          9.5,
          null,
          -0.5,
          9.5,
          null,
          -0.5,
          9.5,
          null,
          -0.5,
          9.5,
          null,
          -0.5,
          9.5,
          null
         ],
         "xaxis": "x",
         "y": [
          -0.5,
          9.5,
          null,
          -0.5,
          9.5,
          null,
          -0.5,
          9.5,
          null,
          -0.5,
          9.5,
          null,
          -0.5,
          9.5,
          null,
          -0.5,
          9.5,
          null,
          -0.5,
          9.5,
          null,
          -0.5,
          9.5,
          null,
          -0.5,
          9.5,
          null,
          -0.5,
          9.5,
          null,
          -0.5,
          -0.5,
          null,
          0.5,
          0.5,
          null,
          1.5,
          1.5,
          null,
          2.5,
          2.5,
          null,
          3.5,
          3.5,
          null,
          4.5,
          4.5,
          null,
          5.5,
          5.5,
          null,
          6.5,
          6.5,
          null,
          7.5,
          7.5,
          null,
          8.5,
          8.5,
          null
         ],
         "yaxis": "y"
        },
        {
         "coloraxis": "coloraxis",
         "hovertemplate": "x: %{x}<br>y: %{y}<br>color: %{z}<extra></extra>",
         "name": "0",
         "type": "heatmap",
         "xaxis": "x2",
         "yaxis": "y2",
         "z": [
          [
           0,
           0,
           0,
           0,
           0,
           0,
           0,
           0,
           0,
           0,
           0,
           0,
           0,
           0,
           0,
           0,
           0,
           0,
           0,
           0,
           0,
           0,
           0,
           0,
           0,
           0,
           0,
           0,
           0,
           0
          ],
          [
           0,
           0,
           0,
           0,
           0,
           0,
           0,
           0,
           0,
           0,
           0,
           0,
           0,
           0,
           0,
           0,
           0,
           0,
           0,
           0,
           0,
           0,
           0,
           0,
           0,
           0,
           0,
           0,
           0,
           0
          ],
          [
           0,
           0,
           0,
           0,
           0,
           0,
           0,
           0,
           0,
           0,
           0,
           0,
           0,
           0,
           0,
           0,
           0,
           0,
           0,
           0,
           0,
           0,
           0,
           0,
           0,
           0,
           0,
           0,
           0,
           0
          ],
          [
           0,
           0,
           0,
           0,
           0,
           0,
           0,
           0,
           0,
           0,
           0,
           0,
           0,
           0,
           0,
           0,
           0,
           0,
           0,
           0,
           0,
           0,
           0,
           0,
           0,
           0,
           0,
           0,
           0,
           0
          ],
          [
           0,
           0,
           0,
           0,
           0,
           0,
           0,
           0,
           0,
           0,
           0,
           0,
           0,
           0,
           0,
           0,
           0,
           0,
           0,
           0,
           0,
           0,
           0,
           0,
           0,
           0,
           0,
           0,
           0,
           0
          ],
          [
           0,
           0,
           0,
           0,
           0,
           0,
           0,
           0,
           0,
           0,
           0,
           0,
           0,
           0,
           0,
           0,
           0,
           0,
           0,
           0,
           0,
           0,
           0,
           0,
           0,
           0,
           0,
           0,
           0,
           0
          ],
          [
           0,
           0,
           0,
           0,
           0,
           0,
           1,
           1,
           1,
           1,
           1,
           1,
           1,
           1,
           1,
           1,
           1,
           1,
           1,
           1,
           1,
           1,
           1,
           1,
           0,
           0,
           0,
           0,
           0,
           0
          ],
          [
           0,
           0,
           0,
           0,
           0,
           0,
           1,
           0.5,
           0.5,
           0.5,
           0.5,
           0.5,
           0.5,
           0.5,
           0.5,
           0.5,
           0.5,
           0.5,
           0.5,
           0.5,
           0.5,
           0.5,
           0.5,
           1,
           0,
           0,
           0,
           0,
           0,
           0
          ],
          [
           0,
           0,
           0,
           0,
           0,
           0,
           1,
           0.5,
           1,
           1,
           1,
           1,
           1,
           1,
           1,
           1,
           1,
           1,
           1,
           1,
           1,
           1,
           0.5,
           1,
           0,
           0,
           0,
           0,
           0,
           0
          ],
          [
           0,
           0,
           0,
           0,
           0,
           0,
           1,
           0.5,
           1,
           0,
           0,
           0,
           0,
           0,
           0,
           0,
           0,
           0,
           0,
           0,
           0,
           1,
           0.5,
           1,
           0,
           0,
           0,
           0,
           0,
           0
          ],
          [
           0,
           0,
           0,
           0,
           0,
           0,
           1,
           0.5,
           1,
           0,
           0,
           0,
           0,
           0,
           0,
           0,
           0,
           0,
           0,
           0,
           0,
           1,
           0.5,
           1,
           0,
           0,
           0,
           0,
           0,
           0
          ],
          [
           0,
           0,
           0,
           0,
           0,
           0,
           1,
           0.5,
           1,
           0,
           0,
           0,
           0,
           0,
           0,
           0,
           0,
           0,
           0,
           0,
           0,
           1,
           0.5,
           1,
           0,
           0,
           0,
           0,
           0,
           0
          ],
          [
           0,
           0,
           0,
           0,
           0,
           0,
           1,
           0.5,
           1,
           0,
           0,
           0,
           0,
           0,
           0,
           0,
           0,
           0,
           0,
           0,
           0,
           1,
           0.5,
           1,
           0,
           0,
           0,
           0,
           0,
           0
          ],
          [
           0,
           0,
           0,
           0,
           0,
           0,
           1,
           0.5,
           1,
           0,
           0,
           0,
           0,
           0,
           0,
           0,
           0,
           0,
           0,
           0,
           0,
           1,
           0.5,
           1,
           0,
           0,
           0,
           0,
           0,
           0
          ],
          [
           0,
           0,
           0,
           0,
           0,
           0,
           1,
           0.5,
           1,
           0,
           0,
           0,
           0,
           0,
           0,
           0,
           0,
           0,
           0,
           0,
           0,
           1,
           0.5,
           1,
           0,
           0,
           0,
           0,
           0,
           0
          ],
          [
           0,
           0,
           0,
           0,
           0,
           0,
           1,
           0.5,
           1,
           0,
           0,
           0,
           0,
           0,
           0,
           0,
           0,
           0,
           0,
           0,
           0,
           1,
           0.5,
           1,
           0,
           0,
           0,
           0,
           0,
           0
          ],
          [
           0,
           0,
           0,
           0,
           0,
           0,
           1,
           0.5,
           1,
           0,
           0,
           0,
           0,
           0,
           0,
           0,
           0,
           0,
           0,
           0,
           0,
           1,
           0.5,
           1,
           0,
           0,
           0,
           0,
           0,
           0
          ],
          [
           0,
           0,
           0,
           0,
           0,
           0,
           1,
           0.5,
           1,
           0,
           0,
           0,
           0,
           0,
           0,
           0,
           0,
           0,
           0,
           0,
           0,
           1,
           0.5,
           1,
           0,
           0,
           0,
           0,
           0,
           0
          ],
          [
           0,
           0,
           0,
           0,
           0,
           0,
           1,
           0.5,
           1,
           0,
           0,
           0,
           0,
           0,
           0,
           0,
           0,
           0,
           0,
           0,
           0,
           1,
           0.5,
           1,
           0,
           0,
           0,
           0,
           0,
           0
          ],
          [
           0,
           0,
           0,
           0,
           0,
           0,
           1,
           0.5,
           1,
           0,
           0,
           0,
           0,
           0,
           0,
           0,
           0,
           0,
           0,
           0,
           0,
           1,
           0.5,
           1,
           0,
           0,
           0,
           0,
           0,
           0
          ],
          [
           0,
           0,
           0,
           0,
           0,
           0,
           1,
           0.5,
           1,
           0,
           0,
           0,
           0,
           0,
           0,
           0,
           0,
           0,
           0,
           0,
           0,
           1,
           0.5,
           1,
           0,
           0,
           0,
           0,
           0,
           0
          ],
          [
           0,
           0,
           0,
           0,
           0,
           0,
           1,
           0.5,
           1,
           1,
           1,
           1,
           1,
           1,
           1,
           1,
           1,
           1,
           1,
           1,
           1,
           1,
           0.5,
           1,
           0,
           0,
           0,
           0,
           0,
           0
          ],
          [
           0,
           0,
           0,
           0,
           0,
           0,
           1,
           0.5,
           0.5,
           0.5,
           0.5,
           0.5,
           0.5,
           0.5,
           0.5,
           0.5,
           0.5,
           0.5,
           0.5,
           0.5,
           0.5,
           0.5,
           0.5,
           1,
           0,
           0,
           0,
           0,
           0,
           0
          ],
          [
           0,
           0,
           0,
           0,
           0,
           0,
           1,
           1,
           1,
           1,
           1,
           1,
           1,
           1,
           1,
           1,
           1,
           1,
           1,
           1,
           1,
           1,
           1,
           1,
           0,
           0,
           0,
           0,
           0,
           0
          ],
          [
           0,
           0,
           0,
           0,
           0,
           0,
           0,
           0,
           0,
           0,
           0,
           0,
           0,
           0,
           0,
           0,
           0,
           0,
           0,
           0,
           0,
           0,
           0,
           0,
           0,
           0,
           0,
           0,
           0,
           0
          ],
          [
           0,
           0,
           0,
           0,
           0,
           0,
           0,
           0,
           0,
           0,
           0,
           0,
           0,
           0,
           0,
           0,
           0,
           0,
           0,
           0,
           0,
           0,
           0,
           0,
           0,
           0,
           0,
           0,
           0,
           0
          ],
          [
           0,
           0,
           0,
           0,
           0,
           0,
           0,
           0,
           0,
           0,
           0,
           0,
           0,
           0,
           0,
           0,
           0,
           0,
           0,
           0,
           0,
           0,
           0,
           0,
           0,
           0,
           0,
           0,
           0,
           0
          ],
          [
           0,
           0,
           0,
           0,
           0,
           0,
           0,
           0,
           0,
           0,
           0,
           0,
           0,
           0,
           0,
           0,
           0,
           0,
           0,
           0,
           0,
           0,
           0,
           0,
           0,
           0,
           0,
           0,
           0,
           0
          ],
          [
           0,
           0,
           0,
           0,
           0,
           0,
           0,
           0,
           0,
           0,
           0,
           0,
           0,
           0,
           0,
           0,
           0,
           0,
           0,
           0,
           0,
           0,
           0,
           0,
           0,
           0,
           0,
           0,
           0,
           0
          ],
          [
           0,
           0,
           0,
           0,
           0,
           0,
           0,
           0,
           0,
           0,
           0,
           0,
           0,
           0,
           0,
           0,
           0,
           0,
           0,
           0,
           0,
           0,
           0,
           0,
           0,
           0,
           0,
           0,
           0,
           0
          ]
         ]
        },
        {
         "marker": {
          "color": "black",
          "size": 1
         },
         "name": "Pixel edges",
         "showlegend": false,
         "type": "scatter",
         "x": [
          -0.5,
          -0.5,
          null,
          0.5,
          0.5,
          null,
          1.5,
          1.5,
          null,
          2.5,
          2.5,
          null,
          3.5,
          3.5,
          null,
          4.5,
          4.5,
          null,
          5.5,
          5.5,
          null,
          6.5,
          6.5,
          null,
          7.5,
          7.5,
          null,
          8.5,
          8.5,
          null,
          9.5,
          9.5,
          null,
          10.5,
          10.5,
          null,
          11.5,
          11.5,
          null,
          12.5,
          12.5,
          null,
          13.5,
          13.5,
          null,
          14.5,
          14.5,
          null,
          15.5,
          15.5,
          null,
          16.5,
          16.5,
          null,
          17.5,
          17.5,
          null,
          18.5,
          18.5,
          null,
          19.5,
          19.5,
          null,
          20.5,
          20.5,
          null,
          21.5,
          21.5,
          null,
          22.5,
          22.5,
          null,
          23.5,
          23.5,
          null,
          24.5,
          24.5,
          null,
          25.5,
          25.5,
          null,
          26.5,
          26.5,
          null,
          27.5,
          27.5,
          null,
          28.5,
          28.5,
          null,
          -0.5,
          29.5,
          null,
          -0.5,
          29.5,
          null,
          -0.5,
          29.5,
          null,
          -0.5,
          29.5,
          null,
          -0.5,
          29.5,
          null,
          -0.5,
          29.5,
          null,
          -0.5,
          29.5,
          null,
          -0.5,
          29.5,
          null,
          -0.5,
          29.5,
          null,
          -0.5,
          29.5,
          null,
          -0.5,
          29.5,
          null,
          -0.5,
          29.5,
          null,
          -0.5,
          29.5,
          null,
          -0.5,
          29.5,
          null,
          -0.5,
          29.5,
          null,
          -0.5,
          29.5,
          null,
          -0.5,
          29.5,
          null,
          -0.5,
          29.5,
          null,
          -0.5,
          29.5,
          null,
          -0.5,
          29.5,
          null,
          -0.5,
          29.5,
          null,
          -0.5,
          29.5,
          null,
          -0.5,
          29.5,
          null,
          -0.5,
          29.5,
          null,
          -0.5,
          29.5,
          null,
          -0.5,
          29.5,
          null,
          -0.5,
          29.5,
          null,
          -0.5,
          29.5,
          null,
          -0.5,
          29.5,
          null,
          -0.5,
          29.5,
          null
         ],
         "xaxis": "x2",
         "y": [
          -0.5,
          29.5,
          null,
          -0.5,
          29.5,
          null,
          -0.5,
          29.5,
          null,
          -0.5,
          29.5,
          null,
          -0.5,
          29.5,
          null,
          -0.5,
          29.5,
          null,
          -0.5,
          29.5,
          null,
          -0.5,
          29.5,
          null,
          -0.5,
          29.5,
          null,
          -0.5,
          29.5,
          null,
          -0.5,
          29.5,
          null,
          -0.5,
          29.5,
          null,
          -0.5,
          29.5,
          null,
          -0.5,
          29.5,
          null,
          -0.5,
          29.5,
          null,
          -0.5,
          29.5,
          null,
          -0.5,
          29.5,
          null,
          -0.5,
          29.5,
          null,
          -0.5,
          29.5,
          null,
          -0.5,
          29.5,
          null,
          -0.5,
          29.5,
          null,
          -0.5,
          29.5,
          null,
          -0.5,
          29.5,
          null,
          -0.5,
          29.5,
          null,
          -0.5,
          29.5,
          null,
          -0.5,
          29.5,
          null,
          -0.5,
          29.5,
          null,
          -0.5,
          29.5,
          null,
          -0.5,
          29.5,
          null,
          -0.5,
          29.5,
          null,
          -0.5,
          -0.5,
          null,
          0.5,
          0.5,
          null,
          1.5,
          1.5,
          null,
          2.5,
          2.5,
          null,
          3.5,
          3.5,
          null,
          4.5,
          4.5,
          null,
          5.5,
          5.5,
          null,
          6.5,
          6.5,
          null,
          7.5,
          7.5,
          null,
          8.5,
          8.5,
          null,
          9.5,
          9.5,
          null,
          10.5,
          10.5,
          null,
          11.5,
          11.5,
          null,
          12.5,
          12.5,
          null,
          13.5,
          13.5,
          null,
          14.5,
          14.5,
          null,
          15.5,
          15.5,
          null,
          16.5,
          16.5,
          null,
          17.5,
          17.5,
          null,
          18.5,
          18.5,
          null,
          19.5,
          19.5,
          null,
          20.5,
          20.5,
          null,
          21.5,
          21.5,
          null,
          22.5,
          22.5,
          null,
          23.5,
          23.5,
          null,
          24.5,
          24.5,
          null,
          25.5,
          25.5,
          null,
          26.5,
          26.5,
          null,
          27.5,
          27.5,
          null,
          28.5,
          28.5,
          null
         ],
         "yaxis": "y2"
        },
        {
         "marker": {
          "color": "cyan",
          "size": 10
         },
         "name": "400p border",
         "type": "scatter",
         "x": [
          2.001,
          2.001,
          2.001,
          2.001,
          2.001,
          2.001,
          2.001,
          2.001,
          2.001,
          2.001,
          2.001,
          2.001,
          2.001,
          2.001,
          2.001,
          2.001,
          2.001,
          2.001,
          2.001,
          2.001,
          2.001,
          2.001,
          2.001,
          2.001,
          2.001,
          2.001,
          2.001,
          2.001,
          2.001,
          2.001,
          2.001,
          2.001,
          2.001,
          2.001,
          2.001,
          2.001,
          2.001,
          2.001,
          2.001,
          2.001,
          2.001,
          2.001,
          2.001,
          2.001,
          2.001,
          2.001,
          2.001,
          2.001,
          2.001,
          2.001,
          2.001,
          2.1030408163265304,
          2.205081632653061,
          2.307122448979592,
          2.4091632653061223,
          2.511204081632653,
          2.613244897959184,
          2.7152857142857143,
          2.817326530612245,
          2.9193673469387753,
          3.021408163265306,
          3.1234489795918368,
          3.2254897959183673,
          3.3275306122448978,
          3.4295714285714287,
          3.531612244897959,
          3.6336530612244897,
          3.7356938775510202,
          3.8377346938775507,
          3.9397755102040817,
          4.041816326530612,
          4.143857142857143,
          4.245897959183674,
          4.347938775510205,
          4.449979591836735,
          4.552020408163266,
          4.654061224489796,
          4.7561020408163275,
          4.858142857142858,
          4.9601836734693885,
          5.062224489795919,
          5.1642653061224495,
          5.26630612244898,
          5.3683469387755105,
          5.470387755102041,
          5.5724285714285715,
          5.674469387755102,
          5.7765102040816325,
          5.878551020408164,
          5.980591836734694,
          6.082632653061225,
          6.184673469387755,
          6.286714285714286,
          6.388755102040816,
          6.490795918367348,
          6.592836734693878,
          6.694877551020409,
          6.796918367346939,
          6.89895918367347,
          7.001,
          7.001,
          7.001,
          7.001,
          7.001,
          7.001,
          7.001,
          7.001,
          7.001,
          7.001,
          7.001,
          7.001,
          7.001,
          7.001,
          7.001,
          7.001,
          7.001,
          7.001,
          7.001,
          7.001,
          7.001,
          7.001,
          7.001,
          7.001,
          7.001,
          7.001,
          7.001,
          7.001,
          7.001,
          7.001,
          7.001,
          7.001,
          7.001,
          7.001,
          7.001,
          7.001,
          7.001,
          7.001,
          7.001,
          7.001,
          7.001,
          7.001,
          7.001,
          7.001,
          7.001,
          7.001,
          7.001,
          7.001,
          7.001,
          7.001,
          7.001,
          7.001,
          6.89895918367347,
          6.796918367346939,
          6.694877551020409,
          6.592836734693878,
          6.490795918367347,
          6.388755102040816,
          6.286714285714286,
          6.184673469387755,
          6.082632653061225,
          5.980591836734694,
          5.878551020408163,
          5.7765102040816325,
          5.674469387755102,
          5.5724285714285715,
          5.470387755102041,
          5.3683469387755105,
          5.26630612244898,
          5.1642653061224495,
          5.062224489795919,
          4.9601836734693885,
          4.858142857142858,
          4.756102040816327,
          4.654061224489796,
          4.552020408163266,
          4.449979591836735,
          4.347938775510205,
          4.245897959183673,
          4.143857142857143,
          4.041816326530612,
          3.9397755102040812,
          3.8377346938775507,
          3.7356938775510202,
          3.6336530612244897,
          3.531612244897959,
          3.4295714285714283,
          3.3275306122448978,
          3.2254897959183673,
          3.1234489795918363,
          3.021408163265306,
          2.9193673469387753,
          2.817326530612245,
          2.7152857142857143,
          2.613244897959184,
          2.5112040816326524,
          2.409163265306122,
          2.3071224489795914,
          2.205081632653061,
          2.1030408163265304,
          2.001
         ],
         "xaxis": "x",
         "y": [
          7.001,
          6.89895918367347,
          6.796918367346939,
          6.694877551020409,
          6.592836734693878,
          6.490795918367347,
          6.388755102040816,
          6.286714285714286,
          6.184673469387755,
          6.082632653061225,
          5.980591836734694,
          5.878551020408163,
          5.7765102040816325,
          5.674469387755102,
          5.5724285714285715,
          5.470387755102041,
          5.3683469387755105,
          5.26630612244898,
          5.1642653061224495,
          5.062224489795919,
          4.9601836734693885,
          4.858142857142858,
          4.756102040816327,
          4.654061224489796,
          4.552020408163266,
          4.449979591836735,
          4.347938775510205,
          4.245897959183673,
          4.143857142857143,
          4.041816326530612,
          3.9397755102040812,
          3.8377346938775507,
          3.7356938775510202,
          3.6336530612244897,
          3.531612244897959,
          3.4295714285714283,
          3.3275306122448978,
          3.2254897959183673,
          3.1234489795918363,
          3.021408163265306,
          2.9193673469387753,
          2.817326530612245,
          2.7152857142857143,
          2.613244897959184,
          2.5112040816326524,
          2.409163265306122,
          2.3071224489795914,
          2.205081632653061,
          2.1030408163265304,
          2.001,
          2.001,
          2.001,
          2.001,
          2.001,
          2.001,
          2.001,
          2.001,
          2.001,
          2.001,
          2.001,
          2.001,
          2.001,
          2.001,
          2.001,
          2.001,
          2.001,
          2.001,
          2.001,
          2.001,
          2.001,
          2.001,
          2.001,
          2.001,
          2.001,
          2.001,
          2.001,
          2.001,
          2.001,
          2.001,
          2.001,
          2.001,
          2.001,
          2.001,
          2.001,
          2.001,
          2.001,
          2.001,
          2.001,
          2.001,
          2.001,
          2.001,
          2.001,
          2.001,
          2.001,
          2.001,
          2.001,
          2.001,
          2.001,
          2.001,
          2.001,
          2.001,
          2.1030408163265304,
          2.205081632653061,
          2.307122448979592,
          2.4091632653061223,
          2.511204081632653,
          2.613244897959184,
          2.7152857142857143,
          2.817326530612245,
          2.9193673469387753,
          3.021408163265306,
          3.1234489795918368,
          3.2254897959183673,
          3.3275306122448978,
          3.4295714285714287,
          3.531612244897959,
          3.6336530612244897,
          3.7356938775510202,
          3.8377346938775507,
          3.9397755102040817,
          4.041816326530612,
          4.143857142857143,
          4.245897959183674,
          4.347938775510205,
          4.449979591836735,
          4.552020408163266,
          4.654061224489796,
          4.7561020408163275,
          4.858142857142858,
          4.9601836734693885,
          5.062224489795919,
          5.1642653061224495,
          5.26630612244898,
          5.3683469387755105,
          5.470387755102041,
          5.5724285714285715,
          5.674469387755102,
          5.7765102040816325,
          5.878551020408164,
          5.980591836734694,
          6.082632653061225,
          6.184673469387755,
          6.286714285714286,
          6.388755102040816,
          6.490795918367348,
          6.592836734693878,
          6.694877551020409,
          6.796918367346939,
          6.89895918367347,
          7.001,
          7.001,
          7.001,
          7.001,
          7.001,
          7.001,
          7.001,
          7.001,
          7.001,
          7.001,
          7.001,
          7.001,
          7.001,
          7.001,
          7.001,
          7.001,
          7.001,
          7.001,
          7.001,
          7.001,
          7.001,
          7.001,
          7.001,
          7.001,
          7.001,
          7.001,
          7.001,
          7.001,
          7.001,
          7.001,
          7.001,
          7.001,
          7.001,
          7.001,
          7.001,
          7.001,
          7.001,
          7.001,
          7.001,
          7.001,
          7.001,
          7.001,
          7.001,
          7.001,
          7.001,
          7.001,
          7.001,
          7.001,
          7.001,
          7.001,
          7.001
         ],
         "yaxis": "y"
        },
        {
         "marker": {
          "color": "cyan",
          "size": 10
         },
         "name": "400 p border",
         "type": "scatter",
         "x": [
          7.003,
          7.003,
          7.003,
          7.003,
          7.003,
          7.003,
          7.003,
          7.003,
          7.003,
          7.003,
          7.003,
          7.003,
          7.003,
          7.003,
          7.003,
          7.003,
          7.003,
          7.003,
          7.003,
          7.003,
          7.003,
          7.003,
          7.003,
          7.003,
          7.003,
          7.003,
          7.003,
          7.003,
          7.003,
          7.003,
          7.003,
          7.003,
          7.003,
          7.003,
          7.003,
          7.003,
          7.003,
          7.003,
          7.003,
          7.003,
          7.003,
          7.003,
          7.003,
          7.003,
          7.003,
          7.003,
          7.003,
          7.003,
          7.003,
          7.003,
          7.003,
          7.309122448979592,
          7.615244897959183,
          7.921367346938776,
          8.227489795918366,
          8.53361224489796,
          8.839734693877551,
          9.145857142857142,
          9.451979591836734,
          9.758102040816325,
          10.064224489795917,
          10.37034693877551,
          10.676469387755102,
          10.982591836734693,
          11.288714285714287,
          11.594836734693878,
          11.90095918367347,
          12.207081632653061,
          12.513204081632653,
          12.819326530612244,
          13.125448979591837,
          13.431571428571427,
          13.737693877551022,
          14.043816326530614,
          14.349938775510205,
          14.656061224489797,
          14.962183673469388,
          15.268306122448983,
          15.574428571428573,
          15.880551020408166,
          16.186673469387756,
          16.49279591836735,
          16.79891836734694,
          17.105040816326532,
          17.411163265306122,
          17.717285714285715,
          18.023408163265305,
          18.3295306122449,
          18.63565306122449,
          18.94177551020408,
          19.247897959183675,
          19.554020408163268,
          19.860142857142858,
          20.166265306122447,
          20.472387755102044,
          20.778510204081634,
          21.084632653061227,
          21.390755102040817,
          21.69687755102041,
          22.003,
          22.003,
          22.003,
          22.003,
          22.003,
          22.003,
          22.003,
          22.003,
          22.003,
          22.003,
          22.003,
          22.003,
          22.003,
          22.003,
          22.003,
          22.003,
          22.003,
          22.003,
          22.003,
          22.003,
          22.003,
          22.003,
          22.003,
          22.003,
          22.003,
          22.003,
          22.003,
          22.003,
          22.003,
          22.003,
          22.003,
          22.003,
          22.003,
          22.003,
          22.003,
          22.003,
          22.003,
          22.003,
          22.003,
          22.003,
          22.003,
          22.003,
          22.003,
          22.003,
          22.003,
          22.003,
          22.003,
          22.003,
          22.003,
          22.003,
          22.003,
          22.003,
          21.69687755102041,
          21.390755102040817,
          21.084632653061227,
          20.778510204081634,
          20.47238775510204,
          20.166265306122447,
          19.860142857142858,
          19.554020408163268,
          19.247897959183675,
          18.94177551020408,
          18.635653061224488,
          18.3295306122449,
          18.023408163265305,
          17.717285714285715,
          17.411163265306122,
          17.105040816326532,
          16.79891836734694,
          16.49279591836735,
          16.186673469387756,
          15.880551020408166,
          15.574428571428573,
          15.26830612244898,
          14.962183673469388,
          14.656061224489797,
          14.349938775510205,
          14.043816326530614,
          13.73769387755102,
          13.431571428571427,
          13.125448979591837,
          12.819326530612244,
          12.513204081632653,
          12.207081632653061,
          11.90095918367347,
          11.594836734693878,
          11.288714285714285,
          10.982591836734693,
          10.676469387755102,
          10.370346938775509,
          10.064224489795917,
          9.758102040816325,
          9.451979591836734,
          9.145857142857142,
          8.839734693877551,
          8.533612244897958,
          8.227489795918366,
          7.921367346938775,
          7.615244897959183,
          7.309122448979592,
          7.003
         ],
         "xaxis": "x2",
         "y": [
          22.003,
          21.69687755102041,
          21.390755102040817,
          21.084632653061227,
          20.778510204081634,
          20.47238775510204,
          20.166265306122447,
          19.860142857142858,
          19.554020408163268,
          19.247897959183675,
          18.94177551020408,
          18.635653061224488,
          18.3295306122449,
          18.023408163265305,
          17.717285714285715,
          17.411163265306122,
          17.105040816326532,
          16.79891836734694,
          16.49279591836735,
          16.186673469387756,
          15.880551020408166,
          15.574428571428573,
          15.26830612244898,
          14.962183673469388,
          14.656061224489797,
          14.349938775510205,
          14.043816326530614,
          13.73769387755102,
          13.431571428571427,
          13.125448979591837,
          12.819326530612244,
          12.513204081632653,
          12.207081632653061,
          11.90095918367347,
          11.594836734693878,
          11.288714285714285,
          10.982591836734693,
          10.676469387755102,
          10.370346938775509,
          10.064224489795917,
          9.758102040816325,
          9.451979591836734,
          9.145857142857142,
          8.839734693877551,
          8.533612244897958,
          8.227489795918366,
          7.921367346938775,
          7.615244897959183,
          7.309122448979592,
          7.003,
          7.003,
          7.003,
          7.003,
          7.003,
          7.003,
          7.003,
          7.003,
          7.003,
          7.003,
          7.003,
          7.003,
          7.003,
          7.003,
          7.003,
          7.003,
          7.003,
          7.003,
          7.003,
          7.003,
          7.003,
          7.003,
          7.003,
          7.003,
          7.003,
          7.003,
          7.003,
          7.003,
          7.003,
          7.003,
          7.003,
          7.003,
          7.003,
          7.003,
          7.003,
          7.003,
          7.003,
          7.003,
          7.003,
          7.003,
          7.003,
          7.003,
          7.003,
          7.003,
          7.003,
          7.003,
          7.003,
          7.003,
          7.003,
          7.003,
          7.003,
          7.003,
          7.309122448979592,
          7.615244897959183,
          7.921367346938776,
          8.227489795918366,
          8.53361224489796,
          8.839734693877551,
          9.145857142857142,
          9.451979591836734,
          9.758102040816325,
          10.064224489795917,
          10.37034693877551,
          10.676469387755102,
          10.982591836734693,
          11.288714285714287,
          11.594836734693878,
          11.90095918367347,
          12.207081632653061,
          12.513204081632653,
          12.819326530612244,
          13.125448979591837,
          13.431571428571427,
          13.737693877551022,
          14.043816326530614,
          14.349938775510205,
          14.656061224489797,
          14.962183673469388,
          15.268306122448983,
          15.574428571428573,
          15.880551020408166,
          16.186673469387756,
          16.49279591836735,
          16.79891836734694,
          17.105040816326532,
          17.411163265306122,
          17.717285714285715,
          18.023408163265305,
          18.3295306122449,
          18.63565306122449,
          18.94177551020408,
          19.247897959183675,
          19.554020408163268,
          19.860142857142858,
          20.166265306122447,
          20.472387755102044,
          20.778510204081634,
          21.084632653061227,
          21.390755102040817,
          21.69687755102041,
          22.003,
          22.003,
          22.003,
          22.003,
          22.003,
          22.003,
          22.003,
          22.003,
          22.003,
          22.003,
          22.003,
          22.003,
          22.003,
          22.003,
          22.003,
          22.003,
          22.003,
          22.003,
          22.003,
          22.003,
          22.003,
          22.003,
          22.003,
          22.003,
          22.003,
          22.003,
          22.003,
          22.003,
          22.003,
          22.003,
          22.003,
          22.003,
          22.003,
          22.003,
          22.003,
          22.003,
          22.003,
          22.003,
          22.003,
          22.003,
          22.003,
          22.003,
          22.003,
          22.003,
          22.003,
          22.003,
          22.003,
          22.003,
          22.003,
          22.003,
          22.003
         ],
         "yaxis": "y2"
        }
       ],
       "layout": {
        "annotations": [
         {
          "font": {
           "color": "white",
           "family": "DejaVu Sans",
           "size": 40
          },
          "showarrow": false,
          "text": "A",
          "x": 0.005,
          "xref": "paper",
          "y": 1,
          "yref": "paper"
         },
         {
          "font": {
           "color": "white",
           "family": "DejaVu Sans",
           "size": 40
          },
          "showarrow": false,
          "text": "B",
          "x": 0.54,
          "xref": "paper",
          "y": 1,
          "yref": "paper"
         }
        ],
        "coloraxis": {
         "showscale": false
        },
        "font": {
         "color": "black",
         "family": "DejaVu Sans",
         "size": 25
        },
        "height": 800,
        "paper_bgcolor": "rgba(0, 0, 0, 0)",
        "plot_bgcolor": "rgba(0, 0, 0, 0)",
        "showlegend": false,
        "template": {
         "data": {
          "bar": [
           {
            "error_x": {
             "color": "#2a3f5f"
            },
            "error_y": {
             "color": "#2a3f5f"
            },
            "marker": {
             "line": {
              "color": "#E5ECF6",
              "width": 0.5
             },
             "pattern": {
              "fillmode": "overlay",
              "size": 10,
              "solidity": 0.2
             }
            },
            "type": "bar"
           }
          ],
          "barpolar": [
           {
            "marker": {
             "line": {
              "color": "#E5ECF6",
              "width": 0.5
             },
             "pattern": {
              "fillmode": "overlay",
              "size": 10,
              "solidity": 0.2
             }
            },
            "type": "barpolar"
           }
          ],
          "carpet": [
           {
            "aaxis": {
             "endlinecolor": "#2a3f5f",
             "gridcolor": "white",
             "linecolor": "white",
             "minorgridcolor": "white",
             "startlinecolor": "#2a3f5f"
            },
            "baxis": {
             "endlinecolor": "#2a3f5f",
             "gridcolor": "white",
             "linecolor": "white",
             "minorgridcolor": "white",
             "startlinecolor": "#2a3f5f"
            },
            "type": "carpet"
           }
          ],
          "choropleth": [
           {
            "colorbar": {
             "outlinewidth": 0,
             "ticks": ""
            },
            "type": "choropleth"
           }
          ],
          "contour": [
           {
            "colorbar": {
             "outlinewidth": 0,
             "ticks": ""
            },
            "colorscale": [
             [
              0,
              "#0d0887"
             ],
             [
              0.1111111111111111,
              "#46039f"
             ],
             [
              0.2222222222222222,
              "#7201a8"
             ],
             [
              0.3333333333333333,
              "#9c179e"
             ],
             [
              0.4444444444444444,
              "#bd3786"
             ],
             [
              0.5555555555555556,
              "#d8576b"
             ],
             [
              0.6666666666666666,
              "#ed7953"
             ],
             [
              0.7777777777777778,
              "#fb9f3a"
             ],
             [
              0.8888888888888888,
              "#fdca26"
             ],
             [
              1,
              "#f0f921"
             ]
            ],
            "type": "contour"
           }
          ],
          "contourcarpet": [
           {
            "colorbar": {
             "outlinewidth": 0,
             "ticks": ""
            },
            "type": "contourcarpet"
           }
          ],
          "heatmap": [
           {
            "colorbar": {
             "outlinewidth": 0,
             "ticks": ""
            },
            "colorscale": [
             [
              0,
              "#0d0887"
             ],
             [
              0.1111111111111111,
              "#46039f"
             ],
             [
              0.2222222222222222,
              "#7201a8"
             ],
             [
              0.3333333333333333,
              "#9c179e"
             ],
             [
              0.4444444444444444,
              "#bd3786"
             ],
             [
              0.5555555555555556,
              "#d8576b"
             ],
             [
              0.6666666666666666,
              "#ed7953"
             ],
             [
              0.7777777777777778,
              "#fb9f3a"
             ],
             [
              0.8888888888888888,
              "#fdca26"
             ],
             [
              1,
              "#f0f921"
             ]
            ],
            "type": "heatmap"
           }
          ],
          "heatmapgl": [
           {
            "colorbar": {
             "outlinewidth": 0,
             "ticks": ""
            },
            "colorscale": [
             [
              0,
              "#0d0887"
             ],
             [
              0.1111111111111111,
              "#46039f"
             ],
             [
              0.2222222222222222,
              "#7201a8"
             ],
             [
              0.3333333333333333,
              "#9c179e"
             ],
             [
              0.4444444444444444,
              "#bd3786"
             ],
             [
              0.5555555555555556,
              "#d8576b"
             ],
             [
              0.6666666666666666,
              "#ed7953"
             ],
             [
              0.7777777777777778,
              "#fb9f3a"
             ],
             [
              0.8888888888888888,
              "#fdca26"
             ],
             [
              1,
              "#f0f921"
             ]
            ],
            "type": "heatmapgl"
           }
          ],
          "histogram": [
           {
            "marker": {
             "pattern": {
              "fillmode": "overlay",
              "size": 10,
              "solidity": 0.2
             }
            },
            "type": "histogram"
           }
          ],
          "histogram2d": [
           {
            "colorbar": {
             "outlinewidth": 0,
             "ticks": ""
            },
            "colorscale": [
             [
              0,
              "#0d0887"
             ],
             [
              0.1111111111111111,
              "#46039f"
             ],
             [
              0.2222222222222222,
              "#7201a8"
             ],
             [
              0.3333333333333333,
              "#9c179e"
             ],
             [
              0.4444444444444444,
              "#bd3786"
             ],
             [
              0.5555555555555556,
              "#d8576b"
             ],
             [
              0.6666666666666666,
              "#ed7953"
             ],
             [
              0.7777777777777778,
              "#fb9f3a"
             ],
             [
              0.8888888888888888,
              "#fdca26"
             ],
             [
              1,
              "#f0f921"
             ]
            ],
            "type": "histogram2d"
           }
          ],
          "histogram2dcontour": [
           {
            "colorbar": {
             "outlinewidth": 0,
             "ticks": ""
            },
            "colorscale": [
             [
              0,
              "#0d0887"
             ],
             [
              0.1111111111111111,
              "#46039f"
             ],
             [
              0.2222222222222222,
              "#7201a8"
             ],
             [
              0.3333333333333333,
              "#9c179e"
             ],
             [
              0.4444444444444444,
              "#bd3786"
             ],
             [
              0.5555555555555556,
              "#d8576b"
             ],
             [
              0.6666666666666666,
              "#ed7953"
             ],
             [
              0.7777777777777778,
              "#fb9f3a"
             ],
             [
              0.8888888888888888,
              "#fdca26"
             ],
             [
              1,
              "#f0f921"
             ]
            ],
            "type": "histogram2dcontour"
           }
          ],
          "mesh3d": [
           {
            "colorbar": {
             "outlinewidth": 0,
             "ticks": ""
            },
            "type": "mesh3d"
           }
          ],
          "parcoords": [
           {
            "line": {
             "colorbar": {
              "outlinewidth": 0,
              "ticks": ""
             }
            },
            "type": "parcoords"
           }
          ],
          "pie": [
           {
            "automargin": true,
            "type": "pie"
           }
          ],
          "scatter": [
           {
            "fillpattern": {
             "fillmode": "overlay",
             "size": 10,
             "solidity": 0.2
            },
            "type": "scatter"
           }
          ],
          "scatter3d": [
           {
            "line": {
             "colorbar": {
              "outlinewidth": 0,
              "ticks": ""
             }
            },
            "marker": {
             "colorbar": {
              "outlinewidth": 0,
              "ticks": ""
             }
            },
            "type": "scatter3d"
           }
          ],
          "scattercarpet": [
           {
            "marker": {
             "colorbar": {
              "outlinewidth": 0,
              "ticks": ""
             }
            },
            "type": "scattercarpet"
           }
          ],
          "scattergeo": [
           {
            "marker": {
             "colorbar": {
              "outlinewidth": 0,
              "ticks": ""
             }
            },
            "type": "scattergeo"
           }
          ],
          "scattergl": [
           {
            "marker": {
             "colorbar": {
              "outlinewidth": 0,
              "ticks": ""
             }
            },
            "type": "scattergl"
           }
          ],
          "scattermapbox": [
           {
            "marker": {
             "colorbar": {
              "outlinewidth": 0,
              "ticks": ""
             }
            },
            "type": "scattermapbox"
           }
          ],
          "scatterpolar": [
           {
            "marker": {
             "colorbar": {
              "outlinewidth": 0,
              "ticks": ""
             }
            },
            "type": "scatterpolar"
           }
          ],
          "scatterpolargl": [
           {
            "marker": {
             "colorbar": {
              "outlinewidth": 0,
              "ticks": ""
             }
            },
            "type": "scatterpolargl"
           }
          ],
          "scatterternary": [
           {
            "marker": {
             "colorbar": {
              "outlinewidth": 0,
              "ticks": ""
             }
            },
            "type": "scatterternary"
           }
          ],
          "surface": [
           {
            "colorbar": {
             "outlinewidth": 0,
             "ticks": ""
            },
            "colorscale": [
             [
              0,
              "#0d0887"
             ],
             [
              0.1111111111111111,
              "#46039f"
             ],
             [
              0.2222222222222222,
              "#7201a8"
             ],
             [
              0.3333333333333333,
              "#9c179e"
             ],
             [
              0.4444444444444444,
              "#bd3786"
             ],
             [
              0.5555555555555556,
              "#d8576b"
             ],
             [
              0.6666666666666666,
              "#ed7953"
             ],
             [
              0.7777777777777778,
              "#fb9f3a"
             ],
             [
              0.8888888888888888,
              "#fdca26"
             ],
             [
              1,
              "#f0f921"
             ]
            ],
            "type": "surface"
           }
          ],
          "table": [
           {
            "cells": {
             "fill": {
              "color": "#EBF0F8"
             },
             "line": {
              "color": "white"
             }
            },
            "header": {
             "fill": {
              "color": "#C8D4E3"
             },
             "line": {
              "color": "white"
             }
            },
            "type": "table"
           }
          ]
         },
         "layout": {
          "annotationdefaults": {
           "arrowcolor": "#2a3f5f",
           "arrowhead": 0,
           "arrowwidth": 1
          },
          "autotypenumbers": "strict",
          "coloraxis": {
           "colorbar": {
            "outlinewidth": 0,
            "ticks": ""
           }
          },
          "colorscale": {
           "diverging": [
            [
             0,
             "#8e0152"
            ],
            [
             0.1,
             "#c51b7d"
            ],
            [
             0.2,
             "#de77ae"
            ],
            [
             0.3,
             "#f1b6da"
            ],
            [
             0.4,
             "#fde0ef"
            ],
            [
             0.5,
             "#f7f7f7"
            ],
            [
             0.6,
             "#e6f5d0"
            ],
            [
             0.7,
             "#b8e186"
            ],
            [
             0.8,
             "#7fbc41"
            ],
            [
             0.9,
             "#4d9221"
            ],
            [
             1,
             "#276419"
            ]
           ],
           "sequential": [
            [
             0,
             "#0d0887"
            ],
            [
             0.1111111111111111,
             "#46039f"
            ],
            [
             0.2222222222222222,
             "#7201a8"
            ],
            [
             0.3333333333333333,
             "#9c179e"
            ],
            [
             0.4444444444444444,
             "#bd3786"
            ],
            [
             0.5555555555555556,
             "#d8576b"
            ],
            [
             0.6666666666666666,
             "#ed7953"
            ],
            [
             0.7777777777777778,
             "#fb9f3a"
            ],
            [
             0.8888888888888888,
             "#fdca26"
            ],
            [
             1,
             "#f0f921"
            ]
           ],
           "sequentialminus": [
            [
             0,
             "#0d0887"
            ],
            [
             0.1111111111111111,
             "#46039f"
            ],
            [
             0.2222222222222222,
             "#7201a8"
            ],
            [
             0.3333333333333333,
             "#9c179e"
            ],
            [
             0.4444444444444444,
             "#bd3786"
            ],
            [
             0.5555555555555556,
             "#d8576b"
            ],
            [
             0.6666666666666666,
             "#ed7953"
            ],
            [
             0.7777777777777778,
             "#fb9f3a"
            ],
            [
             0.8888888888888888,
             "#fdca26"
            ],
            [
             1,
             "#f0f921"
            ]
           ]
          },
          "colorway": [
           "#636efa",
           "#EF553B",
           "#00cc96",
           "#ab63fa",
           "#FFA15A",
           "#19d3f3",
           "#FF6692",
           "#B6E880",
           "#FF97FF",
           "#FECB52"
          ],
          "font": {
           "color": "#2a3f5f"
          },
          "geo": {
           "bgcolor": "white",
           "lakecolor": "white",
           "landcolor": "#E5ECF6",
           "showlakes": true,
           "showland": true,
           "subunitcolor": "white"
          },
          "hoverlabel": {
           "align": "left"
          },
          "hovermode": "closest",
          "mapbox": {
           "style": "light"
          },
          "paper_bgcolor": "white",
          "plot_bgcolor": "#E5ECF6",
          "polar": {
           "angularaxis": {
            "gridcolor": "white",
            "linecolor": "white",
            "ticks": ""
           },
           "bgcolor": "#E5ECF6",
           "radialaxis": {
            "gridcolor": "white",
            "linecolor": "white",
            "ticks": ""
           }
          },
          "scene": {
           "xaxis": {
            "backgroundcolor": "#E5ECF6",
            "gridcolor": "white",
            "gridwidth": 2,
            "linecolor": "white",
            "showbackground": true,
            "ticks": "",
            "zerolinecolor": "white"
           },
           "yaxis": {
            "backgroundcolor": "#E5ECF6",
            "gridcolor": "white",
            "gridwidth": 2,
            "linecolor": "white",
            "showbackground": true,
            "ticks": "",
            "zerolinecolor": "white"
           },
           "zaxis": {
            "backgroundcolor": "#E5ECF6",
            "gridcolor": "white",
            "gridwidth": 2,
            "linecolor": "white",
            "showbackground": true,
            "ticks": "",
            "zerolinecolor": "white"
           }
          },
          "shapedefaults": {
           "line": {
            "color": "#2a3f5f"
           }
          },
          "ternary": {
           "aaxis": {
            "gridcolor": "white",
            "linecolor": "white",
            "ticks": ""
           },
           "baxis": {
            "gridcolor": "white",
            "linecolor": "white",
            "ticks": ""
           },
           "bgcolor": "#E5ECF6",
           "caxis": {
            "gridcolor": "white",
            "linecolor": "white",
            "ticks": ""
           }
          },
          "title": {
           "x": 0.05
          },
          "xaxis": {
           "automargin": true,
           "gridcolor": "white",
           "linecolor": "white",
           "ticks": "",
           "title": {
            "standoff": 15
           },
           "zerolinecolor": "white",
           "zerolinewidth": 2
          },
          "yaxis": {
           "automargin": true,
           "gridcolor": "white",
           "linecolor": "white",
           "ticks": "",
           "title": {
            "standoff": 15
           },
           "zerolinecolor": "white",
           "zerolinewidth": 2
          }
         }
        },
        "title": {
         "font": {
          "color": "black",
          "family": "DejaVu Sans"
         }
        },
        "width": 1400,
        "xaxis": {
         "anchor": "y",
         "domain": [
          0,
          0.475
         ],
         "range": [
          -0.5,
          9.5
         ],
         "showgrid": false
        },
        "xaxis2": {
         "anchor": "y2",
         "domain": [
          0.525,
          1
         ],
         "range": [
          -0.5,
          29.5
         ],
         "showgrid": false
        },
        "yaxis": {
         "anchor": "x",
         "domain": [
          0,
          1
         ],
         "range": [
          -0.5,
          9.5
         ],
         "showgrid": false
        },
        "yaxis2": {
         "anchor": "x2",
         "domain": [
          0,
          1
         ],
         "range": [
          -0.5,
          29.5
         ],
         "showgrid": false
        }
       }
      }
     },
     "metadata": {},
     "output_type": "display_data"
    }
   ],
   "source": [
    "fig = make_subplots(rows=1, cols=2, \n",
    "                    horizontal_spacing=0.05, \n",
    "                    vertical_spacing=0.1,\n",
    "                    # subplot_titles=('Original image', f\"Image upscaled {scale_factor_x} times\")\n",
    "                    )\n",
    "# Add images to plot\n",
    "base_image_fig = px.imshow(test_image)\n",
    "fig.add_trace(base_image_fig.data[0], 1, 1)\n",
    "xs, ys = gridlines(test_image)\n",
    "fig.add_trace(go.Scatter(x=xs, y=ys, marker=dict(color='black', size=1), name=f\"Pixel edges\", showlegend=False), row=1, col=1)\n",
    "\n",
    "upscaled_image_box_3 = upscaled_image_box.copy()\n",
    "xs_pixel, ys_pixel = pixels_between_points(fourier_xs_with_offset, fourier_ys_with_offset)\n",
    "# xs, ys = pixels_between_points(fourier_xs*scale_factor+scale_factor/2-0.5, fourier_ys*scale_factor+scale_factor/2-0.5)\n",
    "for x,y in list(zip(xs_pixel,ys_pixel)):\n",
    "    upscaled_image_box_3[int(y)][int(x)] = 0.5\n",
    "    \n",
    "upscaled_image_fig = px.imshow(upscaled_image_box_3)\n",
    "fig.add_trace(upscaled_image_fig.data[0], 1, 2)\n",
    "xs, ys = gridlines(upscaled_image_box_3)\n",
    "fig.add_trace(go.Scatter(x=xs, y=ys, marker=dict(color='black', size=1), name=f\"Pixel edges\", showlegend=False), row=1, col=2)\n",
    "\n",
    "# 400p borders\n",
    "fig.add_trace(go.Scatter(x=fourier_xs, y=fourier_ys, marker=dict(color='cyan', size=10), name=f\"400p border\"), row=1, col=1)\n",
    "fig.add_trace(go.Scatter(x=fourier_xs_with_offset, y=fourier_ys_with_offset, marker=dict(color='cyan', size=10), name=f\"400 p border\"), row=1, col=2)\n",
    "\n",
    "fig.add_annotation(text=\"A\",\n",
    "                  xref=\"paper\", yref=\"paper\",\n",
    "                  x=0.005, y=1, showarrow=False)\n",
    "fig.add_annotation(text=\"B\",\n",
    "                  xref=\"paper\", yref=\"paper\",\n",
    "                  x=0.54, y=1, showarrow=False)\n",
    "fig.update_annotations(font=dict(family=\"DejaVu Sans\", size=40, color=\"white\"))\n",
    "\n",
    "fig.update_layout(width=1400, height=800, showlegend=False, font_size=25)\n",
    "# fig.update_layout(title_text=f\"Border upscaling with offset: b(point)=point*s+s/2 - 1/2\", title_x=0.5, width=1400, height=800, showlegend=False, font_size=11)\n",
    "fig.update(layout_coloraxis_showscale=False)\n",
    "fig.update_layout(\n",
    "    {\n",
    "        \"paper_bgcolor\": \"rgba(0, 0, 0, 0)\",\n",
    "        \"plot_bgcolor\": \"rgba(0, 0, 0, 0)\",\n",
    "    }\n",
    ")\n",
    "fig.update_layout(    \n",
    "    {    \n",
    "        'xaxis':{'range': [-0.5, 9.5]},\n",
    "        'yaxis':{'range': [-0.5, 9.5]},\n",
    "        'xaxis2':{'range': [-0.5, 29.5]},\n",
    "        'yaxis2':{'range': [-0.5, 29.5]},\n",
    "    })\n",
    "fig.update_layout(\n",
    "    font_family=\"DejaVu Sans\",\n",
    "    font_color=\"black\",\n",
    "    title_font_family=\"DejaVu Sans\",\n",
    "    title_font_color=\"black\",\n",
    "    # legend_title_font_color=\"green\"\n",
    ")\n",
    "fig.update_xaxes(showgrid=False)\n",
    "fig.update_yaxes(showgrid=False)\n",
    "fig.write_image(file=f\"D:/Master/MasterProject/Overleaf_figures/Chapter4/upscale_demo_with_border.svg\", scale=4)\n",
    "fig.show()"
   ]
  },
  {
   "cell_type": "code",
   "execution_count": 54,
   "metadata": {},
   "outputs": [],
   "source": [
    "# print(test_image)\n",
    "# print(upscaled_image_box)"
   ]
  },
  {
   "cell_type": "code",
   "execution_count": 55,
   "metadata": {},
   "outputs": [
    {
     "data": {
      "application/vnd.plotly.v1+json": {
       "config": {
        "plotlyServerURL": "https://plot.ly"
       },
       "data": [
        {
         "coloraxis": "coloraxis",
         "hovertemplate": "x: %{x}<br>y: %{y}<br>color: %{z}<extra></extra>",
         "name": "0",
         "type": "heatmap",
         "xaxis": "x",
         "yaxis": "y",
         "z": [
          [
           0,
           0,
           0,
           0,
           0,
           0,
           0,
           0,
           0,
           0
          ],
          [
           0,
           0,
           0,
           0,
           0,
           0,
           0,
           0,
           0,
           0
          ],
          [
           0,
           0,
           1,
           1,
           1,
           1,
           1,
           1,
           0,
           0
          ],
          [
           0,
           0,
           1,
           0,
           0,
           0,
           0,
           1,
           0,
           0
          ],
          [
           0,
           0,
           1,
           0,
           0,
           0,
           0,
           1,
           0,
           0
          ],
          [
           0,
           0,
           1,
           0,
           0,
           0,
           0,
           1,
           0,
           0
          ],
          [
           0,
           0,
           1,
           0,
           0,
           0,
           0,
           1,
           0,
           0
          ],
          [
           0,
           0,
           1,
           1,
           1,
           1,
           1,
           1,
           0,
           0
          ],
          [
           0,
           0,
           0,
           0,
           0,
           0,
           0,
           0,
           0,
           0
          ],
          [
           0,
           0,
           0,
           0,
           0,
           0,
           0,
           0,
           0,
           0
          ]
         ]
        },
        {
         "marker": {
          "color": "black",
          "size": 1
         },
         "name": "Pixel edges",
         "showlegend": false,
         "type": "scatter",
         "x": [
          -0.5,
          -0.5,
          null,
          0.5,
          0.5,
          null,
          1.5,
          1.5,
          null,
          2.5,
          2.5,
          null,
          3.5,
          3.5,
          null,
          4.5,
          4.5,
          null,
          5.5,
          5.5,
          null,
          6.5,
          6.5,
          null,
          7.5,
          7.5,
          null,
          8.5,
          8.5,
          null,
          -0.5,
          9.5,
          null,
          -0.5,
          9.5,
          null,
          -0.5,
          9.5,
          null,
          -0.5,
          9.5,
          null,
          -0.5,
          9.5,
          null,
          -0.5,
          9.5,
          null,
          -0.5,
          9.5,
          null,
          -0.5,
          9.5,
          null,
          -0.5,
          9.5,
          null,
          -0.5,
          9.5,
          null
         ],
         "xaxis": "x",
         "y": [
          -0.5,
          9.5,
          null,
          -0.5,
          9.5,
          null,
          -0.5,
          9.5,
          null,
          -0.5,
          9.5,
          null,
          -0.5,
          9.5,
          null,
          -0.5,
          9.5,
          null,
          -0.5,
          9.5,
          null,
          -0.5,
          9.5,
          null,
          -0.5,
          9.5,
          null,
          -0.5,
          9.5,
          null,
          -0.5,
          -0.5,
          null,
          0.5,
          0.5,
          null,
          1.5,
          1.5,
          null,
          2.5,
          2.5,
          null,
          3.5,
          3.5,
          null,
          4.5,
          4.5,
          null,
          5.5,
          5.5,
          null,
          6.5,
          6.5,
          null,
          7.5,
          7.5,
          null,
          8.5,
          8.5,
          null
         ],
         "yaxis": "y"
        },
        {
         "marker": {
          "color": "cyan",
          "size": 10
         },
         "name": "Test line",
         "type": "scatter",
         "x": [
          13,
          19.3
         ],
         "xaxis": "x2",
         "y": [
          19.6,
          13
         ],
         "yaxis": "y2"
        },
        {
         "coloraxis": "coloraxis",
         "hovertemplate": "x: %{x}<br>y: %{y}<br>color: %{z}<extra></extra>",
         "name": "0",
         "type": "heatmap",
         "xaxis": "x2",
         "yaxis": "y2",
         "z": [
          [
           0,
           0,
           0,
           0,
           0,
           0,
           0,
           0,
           0,
           0,
           0,
           0,
           0,
           0,
           0,
           0,
           0,
           0,
           0,
           0,
           0,
           0,
           0,
           0,
           0,
           0,
           0,
           0,
           0,
           0
          ],
          [
           0,
           0,
           0,
           0,
           0,
           0,
           0,
           0,
           0,
           0,
           0,
           0,
           0,
           0,
           0,
           0,
           0,
           0,
           0,
           0,
           0,
           0,
           0,
           0,
           0,
           0,
           0,
           0,
           0,
           0
          ],
          [
           0,
           0,
           0,
           0,
           0,
           0,
           0,
           0,
           0,
           0,
           0,
           0,
           0,
           0,
           0,
           0,
           0,
           0,
           0,
           0,
           0,
           0,
           0,
           0,
           0,
           0,
           0,
           0,
           0,
           0
          ],
          [
           0,
           0,
           0,
           0,
           0,
           0,
           0,
           0,
           0,
           0,
           0,
           0,
           0,
           0,
           0,
           0,
           0,
           0,
           0,
           0,
           0,
           0,
           0,
           0,
           0,
           0,
           0,
           0,
           0,
           0
          ],
          [
           0,
           0,
           0,
           0,
           0,
           0,
           0,
           0,
           0,
           0,
           0,
           0,
           0,
           0,
           0,
           0,
           0,
           0,
           0,
           0,
           0,
           0,
           0,
           0,
           0,
           0,
           0,
           0,
           0,
           0
          ],
          [
           0,
           0,
           0,
           0,
           0,
           0,
           0,
           0,
           0,
           0,
           0,
           0,
           0,
           0,
           0,
           0,
           0,
           0,
           0,
           0,
           0,
           0,
           0,
           0,
           0,
           0,
           0,
           0,
           0,
           0
          ],
          [
           0,
           0,
           0,
           0,
           0,
           0,
           1,
           1,
           1,
           1,
           1,
           1,
           1,
           1,
           1,
           1,
           1,
           1,
           1,
           1,
           1,
           1,
           1,
           1,
           0,
           0,
           0,
           0,
           0,
           0
          ],
          [
           0,
           0,
           0,
           0,
           0,
           0,
           1,
           1,
           1,
           1,
           1,
           1,
           1,
           1,
           1,
           1,
           1,
           1,
           1,
           1,
           1,
           1,
           1,
           1,
           0,
           0,
           0,
           0,
           0,
           0
          ],
          [
           0,
           0,
           0,
           0,
           0,
           0,
           1,
           1,
           1,
           1,
           1,
           1,
           1,
           1,
           1,
           1,
           1,
           1,
           1,
           1,
           1,
           1,
           1,
           1,
           0,
           0,
           0,
           0,
           0,
           0
          ],
          [
           0,
           0,
           0,
           0,
           0,
           0,
           1,
           1,
           1,
           0,
           0,
           0,
           0,
           0,
           0,
           0,
           0,
           0,
           0,
           0,
           0,
           1,
           1,
           1,
           0,
           0,
           0,
           0,
           0,
           0
          ],
          [
           0,
           0,
           0,
           0,
           0,
           0,
           1,
           1,
           1,
           0,
           0,
           0,
           0,
           0,
           0,
           0,
           0,
           0,
           0,
           0,
           0,
           1,
           1,
           1,
           0,
           0,
           0,
           0,
           0,
           0
          ],
          [
           0,
           0,
           0,
           0,
           0,
           0,
           1,
           1,
           1,
           0,
           0,
           0,
           0,
           0,
           0,
           0,
           0,
           0,
           0,
           0,
           0,
           1,
           1,
           1,
           0,
           0,
           0,
           0,
           0,
           0
          ],
          [
           0,
           0,
           0,
           0,
           0,
           0,
           1,
           1,
           1,
           0,
           0,
           0,
           0,
           0,
           0,
           0,
           0,
           0,
           0,
           0,
           0,
           1,
           1,
           1,
           0,
           0,
           0,
           0,
           0,
           0
          ],
          [
           0,
           0,
           0,
           0,
           0,
           0,
           1,
           1,
           1,
           0,
           0,
           0,
           0,
           0,
           0,
           0,
           0,
           0,
           0,
           0.5,
           0,
           1,
           1,
           1,
           0,
           0,
           0,
           0,
           0,
           0
          ],
          [
           0,
           0,
           0,
           0,
           0,
           0,
           1,
           1,
           1,
           0,
           0,
           0,
           0,
           0,
           0,
           0,
           0,
           0,
           0.5,
           0.5,
           0,
           1,
           1,
           1,
           0,
           0,
           0,
           0,
           0,
           0
          ],
          [
           0,
           0,
           0,
           0,
           0,
           0,
           1,
           1,
           1,
           0,
           0,
           0,
           0,
           0,
           0,
           0,
           0,
           0.5,
           0.5,
           0,
           0,
           1,
           1,
           1,
           0,
           0,
           0,
           0,
           0,
           0
          ],
          [
           0,
           0,
           0,
           0,
           0,
           0,
           1,
           1,
           1,
           0,
           0,
           0,
           0,
           0,
           0,
           0,
           0.5,
           0.5,
           0,
           0,
           0,
           1,
           1,
           1,
           0,
           0,
           0,
           0,
           0,
           0
          ],
          [
           0,
           0,
           0,
           0,
           0,
           0,
           1,
           1,
           1,
           0,
           0,
           0,
           0,
           0,
           0,
           0.5,
           0.5,
           0,
           0,
           0,
           0,
           1,
           1,
           1,
           0,
           0,
           0,
           0,
           0,
           0
          ],
          [
           0,
           0,
           0,
           0,
           0,
           0,
           1,
           1,
           1,
           0,
           0,
           0,
           0,
           0,
           0.5,
           0.5,
           0,
           0,
           0,
           0,
           0,
           1,
           1,
           1,
           0,
           0,
           0,
           0,
           0,
           0
          ],
          [
           0,
           0,
           0,
           0,
           0,
           0,
           1,
           1,
           1,
           0,
           0,
           0,
           0,
           0.5,
           0.5,
           0,
           0,
           0,
           0,
           0,
           0,
           1,
           1,
           1,
           0,
           0,
           0,
           0,
           0,
           0
          ],
          [
           0,
           0,
           0,
           0,
           0,
           0,
           1,
           1,
           1,
           0,
           0,
           0,
           0,
           0.5,
           0,
           0,
           0,
           0,
           0,
           0,
           0,
           1,
           1,
           1,
           0,
           0,
           0,
           0,
           0,
           0
          ],
          [
           0,
           0,
           0,
           0,
           0,
           0,
           1,
           1,
           1,
           1,
           1,
           1,
           1,
           1,
           1,
           1,
           1,
           1,
           1,
           1,
           1,
           1,
           1,
           1,
           0,
           0,
           0,
           0,
           0,
           0
          ],
          [
           0,
           0,
           0,
           0,
           0,
           0,
           1,
           1,
           1,
           1,
           1,
           1,
           1,
           1,
           1,
           1,
           1,
           1,
           1,
           1,
           1,
           1,
           1,
           1,
           0,
           0,
           0,
           0,
           0,
           0
          ],
          [
           0,
           0,
           0,
           0,
           0,
           0,
           1,
           1,
           1,
           1,
           1,
           1,
           1,
           1,
           1,
           1,
           1,
           1,
           1,
           1,
           1,
           1,
           1,
           1,
           0,
           0,
           0,
           0,
           0,
           0
          ],
          [
           0,
           0,
           0,
           0,
           0,
           0,
           0,
           0,
           0,
           0,
           0,
           0,
           0,
           0,
           0,
           0,
           0,
           0,
           0,
           0,
           0,
           0,
           0,
           0,
           0,
           0,
           0,
           0,
           0,
           0
          ],
          [
           0,
           0,
           0,
           0,
           0,
           0,
           0,
           0,
           0,
           0,
           0,
           0,
           0,
           0,
           0,
           0,
           0,
           0,
           0,
           0,
           0,
           0,
           0,
           0,
           0,
           0,
           0,
           0,
           0,
           0
          ],
          [
           0,
           0,
           0,
           0,
           0,
           0,
           0,
           0,
           0,
           0,
           0,
           0,
           0,
           0,
           0,
           0,
           0,
           0,
           0,
           0,
           0,
           0,
           0,
           0,
           0,
           0,
           0,
           0,
           0,
           0
          ],
          [
           0,
           0,
           0,
           0,
           0,
           0,
           0,
           0,
           0,
           0,
           0,
           0,
           0,
           0,
           0,
           0,
           0,
           0,
           0,
           0,
           0,
           0,
           0,
           0,
           0,
           0,
           0,
           0,
           0,
           0
          ],
          [
           0,
           0,
           0,
           0,
           0,
           0,
           0,
           0,
           0,
           0,
           0,
           0,
           0,
           0,
           0,
           0,
           0,
           0,
           0,
           0,
           0,
           0,
           0,
           0,
           0,
           0,
           0,
           0,
           0,
           0
          ],
          [
           0,
           0,
           0,
           0,
           0,
           0,
           0,
           0,
           0,
           0,
           0,
           0,
           0,
           0,
           0,
           0,
           0,
           0,
           0,
           0,
           0,
           0,
           0,
           0,
           0,
           0,
           0,
           0,
           0,
           0
          ]
         ]
        },
        {
         "marker": {
          "color": "black",
          "size": 1
         },
         "name": "Pixel edges",
         "showlegend": false,
         "type": "scatter",
         "x": [
          -0.5,
          -0.5,
          null,
          0.5,
          0.5,
          null,
          1.5,
          1.5,
          null,
          2.5,
          2.5,
          null,
          3.5,
          3.5,
          null,
          4.5,
          4.5,
          null,
          5.5,
          5.5,
          null,
          6.5,
          6.5,
          null,
          7.5,
          7.5,
          null,
          8.5,
          8.5,
          null,
          9.5,
          9.5,
          null,
          10.5,
          10.5,
          null,
          11.5,
          11.5,
          null,
          12.5,
          12.5,
          null,
          13.5,
          13.5,
          null,
          14.5,
          14.5,
          null,
          15.5,
          15.5,
          null,
          16.5,
          16.5,
          null,
          17.5,
          17.5,
          null,
          18.5,
          18.5,
          null,
          19.5,
          19.5,
          null,
          20.5,
          20.5,
          null,
          21.5,
          21.5,
          null,
          22.5,
          22.5,
          null,
          23.5,
          23.5,
          null,
          24.5,
          24.5,
          null,
          25.5,
          25.5,
          null,
          26.5,
          26.5,
          null,
          27.5,
          27.5,
          null,
          28.5,
          28.5,
          null,
          -0.5,
          29.5,
          null,
          -0.5,
          29.5,
          null,
          -0.5,
          29.5,
          null,
          -0.5,
          29.5,
          null,
          -0.5,
          29.5,
          null,
          -0.5,
          29.5,
          null,
          -0.5,
          29.5,
          null,
          -0.5,
          29.5,
          null,
          -0.5,
          29.5,
          null,
          -0.5,
          29.5,
          null,
          -0.5,
          29.5,
          null,
          -0.5,
          29.5,
          null,
          -0.5,
          29.5,
          null,
          -0.5,
          29.5,
          null,
          -0.5,
          29.5,
          null,
          -0.5,
          29.5,
          null,
          -0.5,
          29.5,
          null,
          -0.5,
          29.5,
          null,
          -0.5,
          29.5,
          null,
          -0.5,
          29.5,
          null,
          -0.5,
          29.5,
          null,
          -0.5,
          29.5,
          null,
          -0.5,
          29.5,
          null,
          -0.5,
          29.5,
          null,
          -0.5,
          29.5,
          null,
          -0.5,
          29.5,
          null,
          -0.5,
          29.5,
          null,
          -0.5,
          29.5,
          null,
          -0.5,
          29.5,
          null,
          -0.5,
          29.5,
          null
         ],
         "xaxis": "x2",
         "y": [
          -0.5,
          29.5,
          null,
          -0.5,
          29.5,
          null,
          -0.5,
          29.5,
          null,
          -0.5,
          29.5,
          null,
          -0.5,
          29.5,
          null,
          -0.5,
          29.5,
          null,
          -0.5,
          29.5,
          null,
          -0.5,
          29.5,
          null,
          -0.5,
          29.5,
          null,
          -0.5,
          29.5,
          null,
          -0.5,
          29.5,
          null,
          -0.5,
          29.5,
          null,
          -0.5,
          29.5,
          null,
          -0.5,
          29.5,
          null,
          -0.5,
          29.5,
          null,
          -0.5,
          29.5,
          null,
          -0.5,
          29.5,
          null,
          -0.5,
          29.5,
          null,
          -0.5,
          29.5,
          null,
          -0.5,
          29.5,
          null,
          -0.5,
          29.5,
          null,
          -0.5,
          29.5,
          null,
          -0.5,
          29.5,
          null,
          -0.5,
          29.5,
          null,
          -0.5,
          29.5,
          null,
          -0.5,
          29.5,
          null,
          -0.5,
          29.5,
          null,
          -0.5,
          29.5,
          null,
          -0.5,
          29.5,
          null,
          -0.5,
          29.5,
          null,
          -0.5,
          -0.5,
          null,
          0.5,
          0.5,
          null,
          1.5,
          1.5,
          null,
          2.5,
          2.5,
          null,
          3.5,
          3.5,
          null,
          4.5,
          4.5,
          null,
          5.5,
          5.5,
          null,
          6.5,
          6.5,
          null,
          7.5,
          7.5,
          null,
          8.5,
          8.5,
          null,
          9.5,
          9.5,
          null,
          10.5,
          10.5,
          null,
          11.5,
          11.5,
          null,
          12.5,
          12.5,
          null,
          13.5,
          13.5,
          null,
          14.5,
          14.5,
          null,
          15.5,
          15.5,
          null,
          16.5,
          16.5,
          null,
          17.5,
          17.5,
          null,
          18.5,
          18.5,
          null,
          19.5,
          19.5,
          null,
          20.5,
          20.5,
          null,
          21.5,
          21.5,
          null,
          22.5,
          22.5,
          null,
          23.5,
          23.5,
          null,
          24.5,
          24.5,
          null,
          25.5,
          25.5,
          null,
          26.5,
          26.5,
          null,
          27.5,
          27.5,
          null,
          28.5,
          28.5,
          null
         ],
         "yaxis": "y2"
        },
        {
         "marker": {
          "color": "red",
          "size": 10
         },
         "name": "400p border",
         "type": "scatter",
         "x": [
          2.001,
          2.001,
          2.001,
          2.001,
          2.001,
          2.001,
          2.001,
          2.001,
          2.001,
          2.001,
          2.001,
          2.001,
          2.001,
          2.001,
          2.001,
          2.001,
          2.001,
          2.001,
          2.001,
          2.001,
          2.001,
          2.001,
          2.001,
          2.001,
          2.001,
          2.001,
          2.001,
          2.001,
          2.001,
          2.001,
          2.001,
          2.001,
          2.001,
          2.001,
          2.001,
          2.001,
          2.001,
          2.001,
          2.001,
          2.001,
          2.001,
          2.001,
          2.001,
          2.001,
          2.001,
          2.001,
          2.001,
          2.001,
          2.001,
          2.001,
          2.001,
          2.1030408163265304,
          2.205081632653061,
          2.307122448979592,
          2.4091632653061223,
          2.511204081632653,
          2.613244897959184,
          2.7152857142857143,
          2.817326530612245,
          2.9193673469387753,
          3.021408163265306,
          3.1234489795918368,
          3.2254897959183673,
          3.3275306122448978,
          3.4295714285714287,
          3.531612244897959,
          3.6336530612244897,
          3.7356938775510202,
          3.8377346938775507,
          3.9397755102040817,
          4.041816326530612,
          4.143857142857143,
          4.245897959183674,
          4.347938775510205,
          4.449979591836735,
          4.552020408163266,
          4.654061224489796,
          4.7561020408163275,
          4.858142857142858,
          4.9601836734693885,
          5.062224489795919,
          5.1642653061224495,
          5.26630612244898,
          5.3683469387755105,
          5.470387755102041,
          5.5724285714285715,
          5.674469387755102,
          5.7765102040816325,
          5.878551020408164,
          5.980591836734694,
          6.082632653061225,
          6.184673469387755,
          6.286714285714286,
          6.388755102040816,
          6.490795918367348,
          6.592836734693878,
          6.694877551020409,
          6.796918367346939,
          6.89895918367347,
          7.001,
          7.001,
          7.001,
          7.001,
          7.001,
          7.001,
          7.001,
          7.001,
          7.001,
          7.001,
          7.001,
          7.001,
          7.001,
          7.001,
          7.001,
          7.001,
          7.001,
          7.001,
          7.001,
          7.001,
          7.001,
          7.001,
          7.001,
          7.001,
          7.001,
          7.001,
          7.001,
          7.001,
          7.001,
          7.001,
          7.001,
          7.001,
          7.001,
          7.001,
          7.001,
          7.001,
          7.001,
          7.001,
          7.001,
          7.001,
          7.001,
          7.001,
          7.001,
          7.001,
          7.001,
          7.001,
          7.001,
          7.001,
          7.001,
          7.001,
          7.001,
          7.001,
          6.89895918367347,
          6.796918367346939,
          6.694877551020409,
          6.592836734693878,
          6.490795918367347,
          6.388755102040816,
          6.286714285714286,
          6.184673469387755,
          6.082632653061225,
          5.980591836734694,
          5.878551020408163,
          5.7765102040816325,
          5.674469387755102,
          5.5724285714285715,
          5.470387755102041,
          5.3683469387755105,
          5.26630612244898,
          5.1642653061224495,
          5.062224489795919,
          4.9601836734693885,
          4.858142857142858,
          4.756102040816327,
          4.654061224489796,
          4.552020408163266,
          4.449979591836735,
          4.347938775510205,
          4.245897959183673,
          4.143857142857143,
          4.041816326530612,
          3.9397755102040812,
          3.8377346938775507,
          3.7356938775510202,
          3.6336530612244897,
          3.531612244897959,
          3.4295714285714283,
          3.3275306122448978,
          3.2254897959183673,
          3.1234489795918363,
          3.021408163265306,
          2.9193673469387753,
          2.817326530612245,
          2.7152857142857143,
          2.613244897959184,
          2.5112040816326524,
          2.409163265306122,
          2.3071224489795914,
          2.205081632653061,
          2.1030408163265304,
          2.001
         ],
         "xaxis": "x",
         "y": [
          7.001,
          6.89895918367347,
          6.796918367346939,
          6.694877551020409,
          6.592836734693878,
          6.490795918367347,
          6.388755102040816,
          6.286714285714286,
          6.184673469387755,
          6.082632653061225,
          5.980591836734694,
          5.878551020408163,
          5.7765102040816325,
          5.674469387755102,
          5.5724285714285715,
          5.470387755102041,
          5.3683469387755105,
          5.26630612244898,
          5.1642653061224495,
          5.062224489795919,
          4.9601836734693885,
          4.858142857142858,
          4.756102040816327,
          4.654061224489796,
          4.552020408163266,
          4.449979591836735,
          4.347938775510205,
          4.245897959183673,
          4.143857142857143,
          4.041816326530612,
          3.9397755102040812,
          3.8377346938775507,
          3.7356938775510202,
          3.6336530612244897,
          3.531612244897959,
          3.4295714285714283,
          3.3275306122448978,
          3.2254897959183673,
          3.1234489795918363,
          3.021408163265306,
          2.9193673469387753,
          2.817326530612245,
          2.7152857142857143,
          2.613244897959184,
          2.5112040816326524,
          2.409163265306122,
          2.3071224489795914,
          2.205081632653061,
          2.1030408163265304,
          2.001,
          2.001,
          2.001,
          2.001,
          2.001,
          2.001,
          2.001,
          2.001,
          2.001,
          2.001,
          2.001,
          2.001,
          2.001,
          2.001,
          2.001,
          2.001,
          2.001,
          2.001,
          2.001,
          2.001,
          2.001,
          2.001,
          2.001,
          2.001,
          2.001,
          2.001,
          2.001,
          2.001,
          2.001,
          2.001,
          2.001,
          2.001,
          2.001,
          2.001,
          2.001,
          2.001,
          2.001,
          2.001,
          2.001,
          2.001,
          2.001,
          2.001,
          2.001,
          2.001,
          2.001,
          2.001,
          2.001,
          2.001,
          2.001,
          2.001,
          2.001,
          2.001,
          2.1030408163265304,
          2.205081632653061,
          2.307122448979592,
          2.4091632653061223,
          2.511204081632653,
          2.613244897959184,
          2.7152857142857143,
          2.817326530612245,
          2.9193673469387753,
          3.021408163265306,
          3.1234489795918368,
          3.2254897959183673,
          3.3275306122448978,
          3.4295714285714287,
          3.531612244897959,
          3.6336530612244897,
          3.7356938775510202,
          3.8377346938775507,
          3.9397755102040817,
          4.041816326530612,
          4.143857142857143,
          4.245897959183674,
          4.347938775510205,
          4.449979591836735,
          4.552020408163266,
          4.654061224489796,
          4.7561020408163275,
          4.858142857142858,
          4.9601836734693885,
          5.062224489795919,
          5.1642653061224495,
          5.26630612244898,
          5.3683469387755105,
          5.470387755102041,
          5.5724285714285715,
          5.674469387755102,
          5.7765102040816325,
          5.878551020408164,
          5.980591836734694,
          6.082632653061225,
          6.184673469387755,
          6.286714285714286,
          6.388755102040816,
          6.490795918367348,
          6.592836734693878,
          6.694877551020409,
          6.796918367346939,
          6.89895918367347,
          7.001,
          7.001,
          7.001,
          7.001,
          7.001,
          7.001,
          7.001,
          7.001,
          7.001,
          7.001,
          7.001,
          7.001,
          7.001,
          7.001,
          7.001,
          7.001,
          7.001,
          7.001,
          7.001,
          7.001,
          7.001,
          7.001,
          7.001,
          7.001,
          7.001,
          7.001,
          7.001,
          7.001,
          7.001,
          7.001,
          7.001,
          7.001,
          7.001,
          7.001,
          7.001,
          7.001,
          7.001,
          7.001,
          7.001,
          7.001,
          7.001,
          7.001,
          7.001,
          7.001,
          7.001,
          7.001,
          7.001,
          7.001,
          7.001,
          7.001,
          7.001
         ],
         "yaxis": "y"
        },
        {
         "marker": {
          "color": "red",
          "size": 10
         },
         "name": "400p border",
         "type": "scatter",
         "x": [
          6.003,
          6.003,
          6.003,
          6.003,
          6.003,
          6.003,
          6.003,
          6.003,
          6.003,
          6.003,
          6.003,
          6.003,
          6.003,
          6.003,
          6.003,
          6.003,
          6.003,
          6.003,
          6.003,
          6.003,
          6.003,
          6.003,
          6.003,
          6.003,
          6.003,
          6.003,
          6.003,
          6.003,
          6.003,
          6.003,
          6.003,
          6.003,
          6.003,
          6.003,
          6.003,
          6.003,
          6.003,
          6.003,
          6.003,
          6.003,
          6.003,
          6.003,
          6.003,
          6.003,
          6.003,
          6.003,
          6.003,
          6.003,
          6.003,
          6.003,
          6.003,
          6.309122448979592,
          6.615244897959183,
          6.9213673469387755,
          7.227489795918367,
          7.5336122448979586,
          7.839734693877551,
          8.145857142857142,
          8.451979591836734,
          8.758102040816325,
          9.064224489795917,
          9.37034693877551,
          9.676469387755102,
          9.982591836734693,
          10.288714285714287,
          10.594836734693878,
          10.90095918367347,
          11.207081632653061,
          11.513204081632653,
          11.819326530612244,
          12.125448979591837,
          12.431571428571427,
          12.737693877551022,
          13.043816326530614,
          13.349938775510205,
          13.656061224489797,
          13.962183673469388,
          14.268306122448983,
          14.574428571428573,
          14.880551020408166,
          15.186673469387756,
          15.49279591836735,
          15.798918367346939,
          16.105040816326532,
          16.411163265306122,
          16.717285714285715,
          17.023408163265305,
          17.3295306122449,
          17.63565306122449,
          17.94177551020408,
          18.247897959183675,
          18.554020408163268,
          18.860142857142858,
          19.166265306122447,
          19.472387755102044,
          19.778510204081634,
          20.084632653061227,
          20.390755102040817,
          20.69687755102041,
          21.003,
          21.003,
          21.003,
          21.003,
          21.003,
          21.003,
          21.003,
          21.003,
          21.003,
          21.003,
          21.003,
          21.003,
          21.003,
          21.003,
          21.003,
          21.003,
          21.003,
          21.003,
          21.003,
          21.003,
          21.003,
          21.003,
          21.003,
          21.003,
          21.003,
          21.003,
          21.003,
          21.003,
          21.003,
          21.003,
          21.003,
          21.003,
          21.003,
          21.003,
          21.003,
          21.003,
          21.003,
          21.003,
          21.003,
          21.003,
          21.003,
          21.003,
          21.003,
          21.003,
          21.003,
          21.003,
          21.003,
          21.003,
          21.003,
          21.003,
          21.003,
          21.003,
          20.69687755102041,
          20.390755102040817,
          20.084632653061227,
          19.778510204081634,
          19.47238775510204,
          19.166265306122447,
          18.860142857142858,
          18.554020408163268,
          18.247897959183675,
          17.94177551020408,
          17.635653061224488,
          17.3295306122449,
          17.023408163265305,
          16.717285714285715,
          16.411163265306122,
          16.105040816326532,
          15.798918367346939,
          15.49279591836735,
          15.186673469387756,
          14.880551020408166,
          14.574428571428573,
          14.26830612244898,
          13.962183673469388,
          13.656061224489797,
          13.349938775510205,
          13.043816326530614,
          12.73769387755102,
          12.431571428571427,
          12.125448979591837,
          11.819326530612244,
          11.513204081632653,
          11.207081632653061,
          10.90095918367347,
          10.594836734693878,
          10.288714285714285,
          9.982591836734693,
          9.676469387755102,
          9.370346938775509,
          9.064224489795917,
          8.758102040816325,
          8.451979591836734,
          8.145857142857142,
          7.839734693877551,
          7.533612244897958,
          7.227489795918366,
          6.921367346938775,
          6.615244897959183,
          6.309122448979592,
          6.003
         ],
         "xaxis": "x2",
         "y": [
          21.003,
          20.69687755102041,
          20.390755102040817,
          20.084632653061227,
          19.778510204081634,
          19.47238775510204,
          19.166265306122447,
          18.860142857142858,
          18.554020408163268,
          18.247897959183675,
          17.94177551020408,
          17.635653061224488,
          17.3295306122449,
          17.023408163265305,
          16.717285714285715,
          16.411163265306122,
          16.105040816326532,
          15.798918367346939,
          15.49279591836735,
          15.186673469387756,
          14.880551020408166,
          14.574428571428573,
          14.26830612244898,
          13.962183673469388,
          13.656061224489797,
          13.349938775510205,
          13.043816326530614,
          12.73769387755102,
          12.431571428571427,
          12.125448979591837,
          11.819326530612244,
          11.513204081632653,
          11.207081632653061,
          10.90095918367347,
          10.594836734693878,
          10.288714285714285,
          9.982591836734693,
          9.676469387755102,
          9.370346938775509,
          9.064224489795917,
          8.758102040816325,
          8.451979591836734,
          8.145857142857142,
          7.839734693877551,
          7.533612244897958,
          7.227489795918366,
          6.921367346938775,
          6.615244897959183,
          6.309122448979592,
          6.003,
          6.003,
          6.003,
          6.003,
          6.003,
          6.003,
          6.003,
          6.003,
          6.003,
          6.003,
          6.003,
          6.003,
          6.003,
          6.003,
          6.003,
          6.003,
          6.003,
          6.003,
          6.003,
          6.003,
          6.003,
          6.003,
          6.003,
          6.003,
          6.003,
          6.003,
          6.003,
          6.003,
          6.003,
          6.003,
          6.003,
          6.003,
          6.003,
          6.003,
          6.003,
          6.003,
          6.003,
          6.003,
          6.003,
          6.003,
          6.003,
          6.003,
          6.003,
          6.003,
          6.003,
          6.003,
          6.003,
          6.003,
          6.003,
          6.003,
          6.003,
          6.003,
          6.309122448979592,
          6.615244897959183,
          6.9213673469387755,
          7.227489795918367,
          7.5336122448979586,
          7.839734693877551,
          8.145857142857142,
          8.451979591836734,
          8.758102040816325,
          9.064224489795917,
          9.37034693877551,
          9.676469387755102,
          9.982591836734693,
          10.288714285714287,
          10.594836734693878,
          10.90095918367347,
          11.207081632653061,
          11.513204081632653,
          11.819326530612244,
          12.125448979591837,
          12.431571428571427,
          12.737693877551022,
          13.043816326530614,
          13.349938775510205,
          13.656061224489797,
          13.962183673469388,
          14.268306122448983,
          14.574428571428573,
          14.880551020408166,
          15.186673469387756,
          15.49279591836735,
          15.798918367346939,
          16.105040816326532,
          16.411163265306122,
          16.717285714285715,
          17.023408163265305,
          17.3295306122449,
          17.63565306122449,
          17.94177551020408,
          18.247897959183675,
          18.554020408163268,
          18.860142857142858,
          19.166265306122447,
          19.472387755102044,
          19.778510204081634,
          20.084632653061227,
          20.390755102040817,
          20.69687755102041,
          21.003,
          21.003,
          21.003,
          21.003,
          21.003,
          21.003,
          21.003,
          21.003,
          21.003,
          21.003,
          21.003,
          21.003,
          21.003,
          21.003,
          21.003,
          21.003,
          21.003,
          21.003,
          21.003,
          21.003,
          21.003,
          21.003,
          21.003,
          21.003,
          21.003,
          21.003,
          21.003,
          21.003,
          21.003,
          21.003,
          21.003,
          21.003,
          21.003,
          21.003,
          21.003,
          21.003,
          21.003,
          21.003,
          21.003,
          21.003,
          21.003,
          21.003,
          21.003,
          21.003,
          21.003,
          21.003,
          21.003,
          21.003,
          21.003,
          21.003,
          21.003
         ],
         "yaxis": "y2"
        }
       ],
       "layout": {
        "annotations": [
         {
          "font": {
           "size": 16
          },
          "showarrow": false,
          "text": "Original image",
          "x": 0.2375,
          "xanchor": "center",
          "xref": "paper",
          "y": 1,
          "yanchor": "bottom",
          "yref": "paper"
         },
         {
          "font": {
           "size": 16
          },
          "showarrow": false,
          "text": "Upscaled image s=(3, 3)",
          "x": 0.7625,
          "xanchor": "center",
          "xref": "paper",
          "y": 1,
          "yanchor": "bottom",
          "yref": "paper"
         }
        ],
        "coloraxis": {
         "showscale": false
        },
        "font": {
         "size": 11
        },
        "height": 800,
        "showlegend": false,
        "template": {
         "data": {
          "bar": [
           {
            "error_x": {
             "color": "#2a3f5f"
            },
            "error_y": {
             "color": "#2a3f5f"
            },
            "marker": {
             "line": {
              "color": "#E5ECF6",
              "width": 0.5
             },
             "pattern": {
              "fillmode": "overlay",
              "size": 10,
              "solidity": 0.2
             }
            },
            "type": "bar"
           }
          ],
          "barpolar": [
           {
            "marker": {
             "line": {
              "color": "#E5ECF6",
              "width": 0.5
             },
             "pattern": {
              "fillmode": "overlay",
              "size": 10,
              "solidity": 0.2
             }
            },
            "type": "barpolar"
           }
          ],
          "carpet": [
           {
            "aaxis": {
             "endlinecolor": "#2a3f5f",
             "gridcolor": "white",
             "linecolor": "white",
             "minorgridcolor": "white",
             "startlinecolor": "#2a3f5f"
            },
            "baxis": {
             "endlinecolor": "#2a3f5f",
             "gridcolor": "white",
             "linecolor": "white",
             "minorgridcolor": "white",
             "startlinecolor": "#2a3f5f"
            },
            "type": "carpet"
           }
          ],
          "choropleth": [
           {
            "colorbar": {
             "outlinewidth": 0,
             "ticks": ""
            },
            "type": "choropleth"
           }
          ],
          "contour": [
           {
            "colorbar": {
             "outlinewidth": 0,
             "ticks": ""
            },
            "colorscale": [
             [
              0,
              "#0d0887"
             ],
             [
              0.1111111111111111,
              "#46039f"
             ],
             [
              0.2222222222222222,
              "#7201a8"
             ],
             [
              0.3333333333333333,
              "#9c179e"
             ],
             [
              0.4444444444444444,
              "#bd3786"
             ],
             [
              0.5555555555555556,
              "#d8576b"
             ],
             [
              0.6666666666666666,
              "#ed7953"
             ],
             [
              0.7777777777777778,
              "#fb9f3a"
             ],
             [
              0.8888888888888888,
              "#fdca26"
             ],
             [
              1,
              "#f0f921"
             ]
            ],
            "type": "contour"
           }
          ],
          "contourcarpet": [
           {
            "colorbar": {
             "outlinewidth": 0,
             "ticks": ""
            },
            "type": "contourcarpet"
           }
          ],
          "heatmap": [
           {
            "colorbar": {
             "outlinewidth": 0,
             "ticks": ""
            },
            "colorscale": [
             [
              0,
              "#0d0887"
             ],
             [
              0.1111111111111111,
              "#46039f"
             ],
             [
              0.2222222222222222,
              "#7201a8"
             ],
             [
              0.3333333333333333,
              "#9c179e"
             ],
             [
              0.4444444444444444,
              "#bd3786"
             ],
             [
              0.5555555555555556,
              "#d8576b"
             ],
             [
              0.6666666666666666,
              "#ed7953"
             ],
             [
              0.7777777777777778,
              "#fb9f3a"
             ],
             [
              0.8888888888888888,
              "#fdca26"
             ],
             [
              1,
              "#f0f921"
             ]
            ],
            "type": "heatmap"
           }
          ],
          "heatmapgl": [
           {
            "colorbar": {
             "outlinewidth": 0,
             "ticks": ""
            },
            "colorscale": [
             [
              0,
              "#0d0887"
             ],
             [
              0.1111111111111111,
              "#46039f"
             ],
             [
              0.2222222222222222,
              "#7201a8"
             ],
             [
              0.3333333333333333,
              "#9c179e"
             ],
             [
              0.4444444444444444,
              "#bd3786"
             ],
             [
              0.5555555555555556,
              "#d8576b"
             ],
             [
              0.6666666666666666,
              "#ed7953"
             ],
             [
              0.7777777777777778,
              "#fb9f3a"
             ],
             [
              0.8888888888888888,
              "#fdca26"
             ],
             [
              1,
              "#f0f921"
             ]
            ],
            "type": "heatmapgl"
           }
          ],
          "histogram": [
           {
            "marker": {
             "pattern": {
              "fillmode": "overlay",
              "size": 10,
              "solidity": 0.2
             }
            },
            "type": "histogram"
           }
          ],
          "histogram2d": [
           {
            "colorbar": {
             "outlinewidth": 0,
             "ticks": ""
            },
            "colorscale": [
             [
              0,
              "#0d0887"
             ],
             [
              0.1111111111111111,
              "#46039f"
             ],
             [
              0.2222222222222222,
              "#7201a8"
             ],
             [
              0.3333333333333333,
              "#9c179e"
             ],
             [
              0.4444444444444444,
              "#bd3786"
             ],
             [
              0.5555555555555556,
              "#d8576b"
             ],
             [
              0.6666666666666666,
              "#ed7953"
             ],
             [
              0.7777777777777778,
              "#fb9f3a"
             ],
             [
              0.8888888888888888,
              "#fdca26"
             ],
             [
              1,
              "#f0f921"
             ]
            ],
            "type": "histogram2d"
           }
          ],
          "histogram2dcontour": [
           {
            "colorbar": {
             "outlinewidth": 0,
             "ticks": ""
            },
            "colorscale": [
             [
              0,
              "#0d0887"
             ],
             [
              0.1111111111111111,
              "#46039f"
             ],
             [
              0.2222222222222222,
              "#7201a8"
             ],
             [
              0.3333333333333333,
              "#9c179e"
             ],
             [
              0.4444444444444444,
              "#bd3786"
             ],
             [
              0.5555555555555556,
              "#d8576b"
             ],
             [
              0.6666666666666666,
              "#ed7953"
             ],
             [
              0.7777777777777778,
              "#fb9f3a"
             ],
             [
              0.8888888888888888,
              "#fdca26"
             ],
             [
              1,
              "#f0f921"
             ]
            ],
            "type": "histogram2dcontour"
           }
          ],
          "mesh3d": [
           {
            "colorbar": {
             "outlinewidth": 0,
             "ticks": ""
            },
            "type": "mesh3d"
           }
          ],
          "parcoords": [
           {
            "line": {
             "colorbar": {
              "outlinewidth": 0,
              "ticks": ""
             }
            },
            "type": "parcoords"
           }
          ],
          "pie": [
           {
            "automargin": true,
            "type": "pie"
           }
          ],
          "scatter": [
           {
            "fillpattern": {
             "fillmode": "overlay",
             "size": 10,
             "solidity": 0.2
            },
            "type": "scatter"
           }
          ],
          "scatter3d": [
           {
            "line": {
             "colorbar": {
              "outlinewidth": 0,
              "ticks": ""
             }
            },
            "marker": {
             "colorbar": {
              "outlinewidth": 0,
              "ticks": ""
             }
            },
            "type": "scatter3d"
           }
          ],
          "scattercarpet": [
           {
            "marker": {
             "colorbar": {
              "outlinewidth": 0,
              "ticks": ""
             }
            },
            "type": "scattercarpet"
           }
          ],
          "scattergeo": [
           {
            "marker": {
             "colorbar": {
              "outlinewidth": 0,
              "ticks": ""
             }
            },
            "type": "scattergeo"
           }
          ],
          "scattergl": [
           {
            "marker": {
             "colorbar": {
              "outlinewidth": 0,
              "ticks": ""
             }
            },
            "type": "scattergl"
           }
          ],
          "scattermapbox": [
           {
            "marker": {
             "colorbar": {
              "outlinewidth": 0,
              "ticks": ""
             }
            },
            "type": "scattermapbox"
           }
          ],
          "scatterpolar": [
           {
            "marker": {
             "colorbar": {
              "outlinewidth": 0,
              "ticks": ""
             }
            },
            "type": "scatterpolar"
           }
          ],
          "scatterpolargl": [
           {
            "marker": {
             "colorbar": {
              "outlinewidth": 0,
              "ticks": ""
             }
            },
            "type": "scatterpolargl"
           }
          ],
          "scatterternary": [
           {
            "marker": {
             "colorbar": {
              "outlinewidth": 0,
              "ticks": ""
             }
            },
            "type": "scatterternary"
           }
          ],
          "surface": [
           {
            "colorbar": {
             "outlinewidth": 0,
             "ticks": ""
            },
            "colorscale": [
             [
              0,
              "#0d0887"
             ],
             [
              0.1111111111111111,
              "#46039f"
             ],
             [
              0.2222222222222222,
              "#7201a8"
             ],
             [
              0.3333333333333333,
              "#9c179e"
             ],
             [
              0.4444444444444444,
              "#bd3786"
             ],
             [
              0.5555555555555556,
              "#d8576b"
             ],
             [
              0.6666666666666666,
              "#ed7953"
             ],
             [
              0.7777777777777778,
              "#fb9f3a"
             ],
             [
              0.8888888888888888,
              "#fdca26"
             ],
             [
              1,
              "#f0f921"
             ]
            ],
            "type": "surface"
           }
          ],
          "table": [
           {
            "cells": {
             "fill": {
              "color": "#EBF0F8"
             },
             "line": {
              "color": "white"
             }
            },
            "header": {
             "fill": {
              "color": "#C8D4E3"
             },
             "line": {
              "color": "white"
             }
            },
            "type": "table"
           }
          ]
         },
         "layout": {
          "annotationdefaults": {
           "arrowcolor": "#2a3f5f",
           "arrowhead": 0,
           "arrowwidth": 1
          },
          "autotypenumbers": "strict",
          "coloraxis": {
           "colorbar": {
            "outlinewidth": 0,
            "ticks": ""
           }
          },
          "colorscale": {
           "diverging": [
            [
             0,
             "#8e0152"
            ],
            [
             0.1,
             "#c51b7d"
            ],
            [
             0.2,
             "#de77ae"
            ],
            [
             0.3,
             "#f1b6da"
            ],
            [
             0.4,
             "#fde0ef"
            ],
            [
             0.5,
             "#f7f7f7"
            ],
            [
             0.6,
             "#e6f5d0"
            ],
            [
             0.7,
             "#b8e186"
            ],
            [
             0.8,
             "#7fbc41"
            ],
            [
             0.9,
             "#4d9221"
            ],
            [
             1,
             "#276419"
            ]
           ],
           "sequential": [
            [
             0,
             "#0d0887"
            ],
            [
             0.1111111111111111,
             "#46039f"
            ],
            [
             0.2222222222222222,
             "#7201a8"
            ],
            [
             0.3333333333333333,
             "#9c179e"
            ],
            [
             0.4444444444444444,
             "#bd3786"
            ],
            [
             0.5555555555555556,
             "#d8576b"
            ],
            [
             0.6666666666666666,
             "#ed7953"
            ],
            [
             0.7777777777777778,
             "#fb9f3a"
            ],
            [
             0.8888888888888888,
             "#fdca26"
            ],
            [
             1,
             "#f0f921"
            ]
           ],
           "sequentialminus": [
            [
             0,
             "#0d0887"
            ],
            [
             0.1111111111111111,
             "#46039f"
            ],
            [
             0.2222222222222222,
             "#7201a8"
            ],
            [
             0.3333333333333333,
             "#9c179e"
            ],
            [
             0.4444444444444444,
             "#bd3786"
            ],
            [
             0.5555555555555556,
             "#d8576b"
            ],
            [
             0.6666666666666666,
             "#ed7953"
            ],
            [
             0.7777777777777778,
             "#fb9f3a"
            ],
            [
             0.8888888888888888,
             "#fdca26"
            ],
            [
             1,
             "#f0f921"
            ]
           ]
          },
          "colorway": [
           "#636efa",
           "#EF553B",
           "#00cc96",
           "#ab63fa",
           "#FFA15A",
           "#19d3f3",
           "#FF6692",
           "#B6E880",
           "#FF97FF",
           "#FECB52"
          ],
          "font": {
           "color": "#2a3f5f"
          },
          "geo": {
           "bgcolor": "white",
           "lakecolor": "white",
           "landcolor": "#E5ECF6",
           "showlakes": true,
           "showland": true,
           "subunitcolor": "white"
          },
          "hoverlabel": {
           "align": "left"
          },
          "hovermode": "closest",
          "mapbox": {
           "style": "light"
          },
          "paper_bgcolor": "white",
          "plot_bgcolor": "#E5ECF6",
          "polar": {
           "angularaxis": {
            "gridcolor": "white",
            "linecolor": "white",
            "ticks": ""
           },
           "bgcolor": "#E5ECF6",
           "radialaxis": {
            "gridcolor": "white",
            "linecolor": "white",
            "ticks": ""
           }
          },
          "scene": {
           "xaxis": {
            "backgroundcolor": "#E5ECF6",
            "gridcolor": "white",
            "gridwidth": 2,
            "linecolor": "white",
            "showbackground": true,
            "ticks": "",
            "zerolinecolor": "white"
           },
           "yaxis": {
            "backgroundcolor": "#E5ECF6",
            "gridcolor": "white",
            "gridwidth": 2,
            "linecolor": "white",
            "showbackground": true,
            "ticks": "",
            "zerolinecolor": "white"
           },
           "zaxis": {
            "backgroundcolor": "#E5ECF6",
            "gridcolor": "white",
            "gridwidth": 2,
            "linecolor": "white",
            "showbackground": true,
            "ticks": "",
            "zerolinecolor": "white"
           }
          },
          "shapedefaults": {
           "line": {
            "color": "#2a3f5f"
           }
          },
          "ternary": {
           "aaxis": {
            "gridcolor": "white",
            "linecolor": "white",
            "ticks": ""
           },
           "baxis": {
            "gridcolor": "white",
            "linecolor": "white",
            "ticks": ""
           },
           "bgcolor": "#E5ECF6",
           "caxis": {
            "gridcolor": "white",
            "linecolor": "white",
            "ticks": ""
           }
          },
          "title": {
           "x": 0.05
          },
          "xaxis": {
           "automargin": true,
           "gridcolor": "white",
           "linecolor": "white",
           "ticks": "",
           "title": {
            "standoff": 15
           },
           "zerolinecolor": "white",
           "zerolinewidth": 2
          },
          "yaxis": {
           "automargin": true,
           "gridcolor": "white",
           "linecolor": "white",
           "ticks": "",
           "title": {
            "standoff": 15
           },
           "zerolinecolor": "white",
           "zerolinewidth": 2
          }
         }
        },
        "title": {
         "text": "Border upscaling with offset: b(point)=point*s+s/2 - 1/2",
         "x": 0.5
        },
        "width": 1400,
        "xaxis": {
         "anchor": "y",
         "domain": [
          0,
          0.475
         ]
        },
        "xaxis2": {
         "anchor": "y2",
         "domain": [
          0.525,
          1
         ]
        },
        "yaxis": {
         "anchor": "x",
         "domain": [
          0,
          1
         ]
        },
        "yaxis2": {
         "anchor": "x2",
         "domain": [
          0,
          1
         ]
        }
       }
      }
     },
     "metadata": {},
     "output_type": "display_data"
    }
   ],
   "source": [
    "fig = make_subplots(rows=1, cols=2, \n",
    "                    horizontal_spacing=0.05, \n",
    "                    vertical_spacing=0.1,\n",
    "                    subplot_titles=('Original image', f\"Upscaled image s={scale_factor_x, scale_factor_y}\"))\n",
    "# Add images to plot\n",
    "base_image_fig = px.imshow(test_image)\n",
    "fig.add_trace(base_image_fig.data[0], 1, 1)\n",
    "xs, ys = gridlines(test_image)\n",
    "fig.add_trace(go.Scatter(x=xs, y=ys, marker=dict(color='black', size=1), name=f\"Pixel edges\", showlegend=False), row=1, col=1)\n",
    "\n",
    "upscaled_image_box_3 = upscaled_image_box.copy()\n",
    "test_x,test_y = np.array([13,19.3]), np.array([19.6,13]) # TODO: Create better implementation. Everything works now? Note the +1/2 to\n",
    "# TODO: pixels_between_points_2() needs to be pushed by 1/2 to align with 'center pixel' method used by python libraries.\n",
    "xs_pixel, ys_pixel = pixels_between_points(test_x,test_y) # When given coordinates to this function, add 1/2 to treat pixels as 'corner integer position' and not 'center integered'.\n",
    "fig.add_trace(go.Scatter(x=test_x, y=test_y, marker=dict(color='cyan', size=10), name=f\"Test line\"), row=1, col=2)\n",
    "# xs_pixel, ys_pixel = pixels_between_points_2(fourier_xs*scale_factor, fourier_ys*scale_factor)\n",
    "for y,x in list(zip(xs_pixel,ys_pixel)):\n",
    "    try:\n",
    "        upscaled_image_box_3[int(x)][int(y)] = 0.5 # x goes up, y goes right\n",
    "    except:\n",
    "        print(\"what\")\n",
    "        continue\n",
    "\n",
    "upscaled_image_fig = px.imshow(upscaled_image_box_3)\n",
    "fig.add_trace(upscaled_image_fig.data[0], 1, 2)\n",
    "xs, ys = gridlines(upscaled_image_box_3)\n",
    "fig.add_trace(go.Scatter(x=xs, y=ys, marker=dict(color='black', size=1), name=f\"Pixel edges\", showlegend=False), row=1, col=2)\n",
    "\n",
    "# 400p borders\n",
    "fig.add_trace(go.Scatter(x=fourier_xs, y=fourier_ys, marker=dict(color='red', size=10), name=f\"400p border\"), row=1, col=1)\n",
    "fig.add_trace(go.Scatter(x=fourier_xs*scale_factor_x, y=fourier_ys*scale_factor_y, marker=dict(color='red', size=10), name=f\"400p border\"), row=1, col=2)\n",
    "# fig.add_trace(go.Scatter(x=fourier_xs_with_offset, y=fourier_ys_with_offset, marker=dict(color='red', size=10), name=f\"400 p border\"), row=1, col=2)\n",
    "\n",
    "fig.update_layout(title_text=f\"Border upscaling with offset: b(point)=point*s+s/2 - 1/2\", title_x=0.5, width=1400, height=800, showlegend=False, font_size=11)\n",
    "fig.update(layout_coloraxis_showscale=False)\n",
    "fig.show()"
   ]
  },
  {
   "cell_type": "code",
   "execution_count": 56,
   "metadata": {},
   "outputs": [],
   "source": [
    "def print_matrix(matrix):\n",
    "    with open('test.txt', 'w+') as f:\n",
    "        for row in matrix:\n",
    "            l = \"\"\n",
    "            for number in row:\n",
    "                l += f\" {int(number)} \"\n",
    "            f.write(l+\"\\n\")"
   ]
  },
  {
   "cell_type": "code",
   "execution_count": 57,
   "metadata": {},
   "outputs": [],
   "source": [
    "upscaled_image_box_4 = upscaled_image_box.copy()\n",
    "# xs_pixel, ys_pixel = pixels_between_points_2(test_x,test_y)\n",
    "xs_pixel, ys_pixel = pixels_between_points(fourier_xs*scale_factor_x+scale_factor_y/2-1/2, fourier_ys*scale_factor_y+scale_factor_y/2-1/2)\n",
    "# fig.add_trace(go.Scatter(x=test_x,y=test_y, marker=dict(color='red', size=10), name=f\"Test line\"), row=1, col=2)\n",
    "# xs_pixel, ys_pixel = pixels_between_points_2(fourier_xs*scale_factor, fourier_ys*scale_factor)\n",
    "for x,y in list(zip(xs_pixel,ys_pixel)):\n",
    "    try:\n",
    "        upscaled_image_box_4[int(x)][int(y)] = 7 # x goes up, y goes right\n",
    "    except:\n",
    "        continue\n",
    "\n",
    "print_matrix(upscaled_image_box_4)\n",
    "# print_matrix(test_image)\n",
    "# with open('test.txt', 'w+') as f:\n",
    "#     # for row in upscaled_image_box_4:\n",
    "#     f.writelines(map(str, upscaled_image_box_4))"
   ]
  },
  {
   "cell_type": "code",
   "execution_count": 58,
   "metadata": {},
   "outputs": [],
   "source": [
    "# fig = make_subplots(rows=1, cols=1, \n",
    "#                     horizontal_spacing=0.05, \n",
    "#                     vertical_spacing=0.1)\n",
    "# base_image_fig = px.imshow(test_image)\n",
    "# fig.add_trace(base_image_fig.data[0], 1, 1)\n",
    "# fig.update_layout(title_text=f\"\", title_x=0.5, width=700, height=700, showlegend=True, font_size=11)\n",
    "# fig.update(layout_coloraxis_showscale=False)\n",
    "# fig.show()"
   ]
  },
  {
   "cell_type": "markdown",
   "metadata": {},
   "source": [
    "# Find middle point on line intersecting pixel"
   ]
  },
  {
   "cell_type": "code",
   "execution_count": 59,
   "metadata": {},
   "outputs": [
    {
     "data": {
      "application/vnd.plotly.v1+json": {
       "config": {
        "plotlyServerURL": "https://plot.ly"
       },
       "data": [
        {
         "coloraxis": "coloraxis",
         "hovertemplate": "x: %{x}<br>y: %{y}<br>color: %{z}<extra></extra>",
         "name": "0",
         "type": "heatmap",
         "xaxis": "x",
         "yaxis": "y",
         "z": [
          [
           0,
           0,
           0,
           0,
           0,
           0,
           0,
           0,
           0,
           0
          ],
          [
           0,
           0,
           0,
           0,
           0,
           0,
           0,
           0,
           0,
           0
          ],
          [
           0,
           0,
           1,
           1,
           1,
           1,
           1,
           1,
           0,
           0
          ],
          [
           0,
           0,
           1,
           0,
           0,
           0,
           0,
           1,
           0,
           0
          ],
          [
           0,
           0,
           1,
           0,
           0,
           0,
           0,
           1,
           0,
           0
          ],
          [
           0,
           0,
           1,
           0,
           0,
           0,
           0,
           1,
           0,
           0
          ],
          [
           0,
           0,
           1,
           0,
           0,
           0,
           0,
           1,
           0,
           0
          ],
          [
           0,
           0,
           1,
           1,
           1,
           1,
           1,
           1,
           0,
           0
          ],
          [
           0,
           0,
           0,
           0,
           0,
           0,
           0,
           0,
           0,
           0
          ],
          [
           0,
           0,
           0,
           0,
           0,
           0,
           0,
           0,
           0,
           0
          ]
         ]
        },
        {
         "marker": {
          "color": "black",
          "size": 1
         },
         "name": "Pixel edges",
         "showlegend": false,
         "type": "scatter",
         "x": [
          -0.5,
          -0.5,
          null,
          0.5,
          0.5,
          null,
          1.5,
          1.5,
          null,
          2.5,
          2.5,
          null,
          3.5,
          3.5,
          null,
          4.5,
          4.5,
          null,
          5.5,
          5.5,
          null,
          6.5,
          6.5,
          null,
          7.5,
          7.5,
          null,
          8.5,
          8.5,
          null,
          -0.5,
          9.5,
          null,
          -0.5,
          9.5,
          null,
          -0.5,
          9.5,
          null,
          -0.5,
          9.5,
          null,
          -0.5,
          9.5,
          null,
          -0.5,
          9.5,
          null,
          -0.5,
          9.5,
          null,
          -0.5,
          9.5,
          null,
          -0.5,
          9.5,
          null,
          -0.5,
          9.5,
          null
         ],
         "xaxis": "x",
         "y": [
          -0.5,
          9.5,
          null,
          -0.5,
          9.5,
          null,
          -0.5,
          9.5,
          null,
          -0.5,
          9.5,
          null,
          -0.5,
          9.5,
          null,
          -0.5,
          9.5,
          null,
          -0.5,
          9.5,
          null,
          -0.5,
          9.5,
          null,
          -0.5,
          9.5,
          null,
          -0.5,
          9.5,
          null,
          -0.5,
          -0.5,
          null,
          0.5,
          0.5,
          null,
          1.5,
          1.5,
          null,
          2.5,
          2.5,
          null,
          3.5,
          3.5,
          null,
          4.5,
          4.5,
          null,
          5.5,
          5.5,
          null,
          6.5,
          6.5,
          null,
          7.5,
          7.5,
          null,
          8.5,
          8.5,
          null
         ],
         "yaxis": "y"
        },
        {
         "marker": {
          "color": "black",
          "size": 10
         },
         "name": "Point",
         "type": "scatter",
         "x": [
          4,
          5.118385806941493
         ],
         "xaxis": "x",
         "y": [
          5,
          6.658075145110083
         ],
         "yaxis": "y"
        },
        {
         "marker": {
          "color": "purple",
          "size": 10
         },
         "name": "Sample point",
         "type": "scatter",
         "x": [
          4.559192903470747,
          4.559192903470747
         ],
         "xaxis": "x",
         "y": [
          5.829037572555042,
          5.829037572555042
         ],
         "yaxis": "y"
        },
        {
         "marker": {
          "color": "cyan",
          "size": 10
         },
         "name": "Middle point",
         "type": "scatter",
         "x": [
          3.9999999999999996,
          3.9999999999999996
         ],
         "xaxis": "x",
         "y": [
          5,
          5
         ],
         "yaxis": "y"
        },
        {
         "marker": {
          "color": "red",
          "size": 10
         },
         "name": "Border point",
         "type": "scatter",
         "x": [
          3.662745741578786,
          3.662745741578786
         ],
         "xaxis": "x",
         "y": [
          4.5,
          4.5
         ],
         "yaxis": "y"
        },
        {
         "marker": {
          "color": "red",
          "size": 10
         },
         "name": "Border point",
         "type": "scatter",
         "x": [
          4.337254258421213,
          4.337254258421213
         ],
         "xaxis": "x",
         "y": [
          5.5,
          5.5
         ],
         "yaxis": "y"
        }
       ],
       "layout": {
        "annotations": [
         {
          "font": {
           "size": 16
          },
          "showarrow": false,
          "text": "O",
          "x": 0.5,
          "xanchor": "center",
          "xref": "paper",
          "y": 1,
          "yanchor": "bottom",
          "yref": "paper"
         }
        ],
        "coloraxis": {
         "showscale": false
        },
        "font": {
         "size": 11
        },
        "height": 800,
        "showlegend": true,
        "template": {
         "data": {
          "bar": [
           {
            "error_x": {
             "color": "#2a3f5f"
            },
            "error_y": {
             "color": "#2a3f5f"
            },
            "marker": {
             "line": {
              "color": "#E5ECF6",
              "width": 0.5
             },
             "pattern": {
              "fillmode": "overlay",
              "size": 10,
              "solidity": 0.2
             }
            },
            "type": "bar"
           }
          ],
          "barpolar": [
           {
            "marker": {
             "line": {
              "color": "#E5ECF6",
              "width": 0.5
             },
             "pattern": {
              "fillmode": "overlay",
              "size": 10,
              "solidity": 0.2
             }
            },
            "type": "barpolar"
           }
          ],
          "carpet": [
           {
            "aaxis": {
             "endlinecolor": "#2a3f5f",
             "gridcolor": "white",
             "linecolor": "white",
             "minorgridcolor": "white",
             "startlinecolor": "#2a3f5f"
            },
            "baxis": {
             "endlinecolor": "#2a3f5f",
             "gridcolor": "white",
             "linecolor": "white",
             "minorgridcolor": "white",
             "startlinecolor": "#2a3f5f"
            },
            "type": "carpet"
           }
          ],
          "choropleth": [
           {
            "colorbar": {
             "outlinewidth": 0,
             "ticks": ""
            },
            "type": "choropleth"
           }
          ],
          "contour": [
           {
            "colorbar": {
             "outlinewidth": 0,
             "ticks": ""
            },
            "colorscale": [
             [
              0,
              "#0d0887"
             ],
             [
              0.1111111111111111,
              "#46039f"
             ],
             [
              0.2222222222222222,
              "#7201a8"
             ],
             [
              0.3333333333333333,
              "#9c179e"
             ],
             [
              0.4444444444444444,
              "#bd3786"
             ],
             [
              0.5555555555555556,
              "#d8576b"
             ],
             [
              0.6666666666666666,
              "#ed7953"
             ],
             [
              0.7777777777777778,
              "#fb9f3a"
             ],
             [
              0.8888888888888888,
              "#fdca26"
             ],
             [
              1,
              "#f0f921"
             ]
            ],
            "type": "contour"
           }
          ],
          "contourcarpet": [
           {
            "colorbar": {
             "outlinewidth": 0,
             "ticks": ""
            },
            "type": "contourcarpet"
           }
          ],
          "heatmap": [
           {
            "colorbar": {
             "outlinewidth": 0,
             "ticks": ""
            },
            "colorscale": [
             [
              0,
              "#0d0887"
             ],
             [
              0.1111111111111111,
              "#46039f"
             ],
             [
              0.2222222222222222,
              "#7201a8"
             ],
             [
              0.3333333333333333,
              "#9c179e"
             ],
             [
              0.4444444444444444,
              "#bd3786"
             ],
             [
              0.5555555555555556,
              "#d8576b"
             ],
             [
              0.6666666666666666,
              "#ed7953"
             ],
             [
              0.7777777777777778,
              "#fb9f3a"
             ],
             [
              0.8888888888888888,
              "#fdca26"
             ],
             [
              1,
              "#f0f921"
             ]
            ],
            "type": "heatmap"
           }
          ],
          "heatmapgl": [
           {
            "colorbar": {
             "outlinewidth": 0,
             "ticks": ""
            },
            "colorscale": [
             [
              0,
              "#0d0887"
             ],
             [
              0.1111111111111111,
              "#46039f"
             ],
             [
              0.2222222222222222,
              "#7201a8"
             ],
             [
              0.3333333333333333,
              "#9c179e"
             ],
             [
              0.4444444444444444,
              "#bd3786"
             ],
             [
              0.5555555555555556,
              "#d8576b"
             ],
             [
              0.6666666666666666,
              "#ed7953"
             ],
             [
              0.7777777777777778,
              "#fb9f3a"
             ],
             [
              0.8888888888888888,
              "#fdca26"
             ],
             [
              1,
              "#f0f921"
             ]
            ],
            "type": "heatmapgl"
           }
          ],
          "histogram": [
           {
            "marker": {
             "pattern": {
              "fillmode": "overlay",
              "size": 10,
              "solidity": 0.2
             }
            },
            "type": "histogram"
           }
          ],
          "histogram2d": [
           {
            "colorbar": {
             "outlinewidth": 0,
             "ticks": ""
            },
            "colorscale": [
             [
              0,
              "#0d0887"
             ],
             [
              0.1111111111111111,
              "#46039f"
             ],
             [
              0.2222222222222222,
              "#7201a8"
             ],
             [
              0.3333333333333333,
              "#9c179e"
             ],
             [
              0.4444444444444444,
              "#bd3786"
             ],
             [
              0.5555555555555556,
              "#d8576b"
             ],
             [
              0.6666666666666666,
              "#ed7953"
             ],
             [
              0.7777777777777778,
              "#fb9f3a"
             ],
             [
              0.8888888888888888,
              "#fdca26"
             ],
             [
              1,
              "#f0f921"
             ]
            ],
            "type": "histogram2d"
           }
          ],
          "histogram2dcontour": [
           {
            "colorbar": {
             "outlinewidth": 0,
             "ticks": ""
            },
            "colorscale": [
             [
              0,
              "#0d0887"
             ],
             [
              0.1111111111111111,
              "#46039f"
             ],
             [
              0.2222222222222222,
              "#7201a8"
             ],
             [
              0.3333333333333333,
              "#9c179e"
             ],
             [
              0.4444444444444444,
              "#bd3786"
             ],
             [
              0.5555555555555556,
              "#d8576b"
             ],
             [
              0.6666666666666666,
              "#ed7953"
             ],
             [
              0.7777777777777778,
              "#fb9f3a"
             ],
             [
              0.8888888888888888,
              "#fdca26"
             ],
             [
              1,
              "#f0f921"
             ]
            ],
            "type": "histogram2dcontour"
           }
          ],
          "mesh3d": [
           {
            "colorbar": {
             "outlinewidth": 0,
             "ticks": ""
            },
            "type": "mesh3d"
           }
          ],
          "parcoords": [
           {
            "line": {
             "colorbar": {
              "outlinewidth": 0,
              "ticks": ""
             }
            },
            "type": "parcoords"
           }
          ],
          "pie": [
           {
            "automargin": true,
            "type": "pie"
           }
          ],
          "scatter": [
           {
            "fillpattern": {
             "fillmode": "overlay",
             "size": 10,
             "solidity": 0.2
            },
            "type": "scatter"
           }
          ],
          "scatter3d": [
           {
            "line": {
             "colorbar": {
              "outlinewidth": 0,
              "ticks": ""
             }
            },
            "marker": {
             "colorbar": {
              "outlinewidth": 0,
              "ticks": ""
             }
            },
            "type": "scatter3d"
           }
          ],
          "scattercarpet": [
           {
            "marker": {
             "colorbar": {
              "outlinewidth": 0,
              "ticks": ""
             }
            },
            "type": "scattercarpet"
           }
          ],
          "scattergeo": [
           {
            "marker": {
             "colorbar": {
              "outlinewidth": 0,
              "ticks": ""
             }
            },
            "type": "scattergeo"
           }
          ],
          "scattergl": [
           {
            "marker": {
             "colorbar": {
              "outlinewidth": 0,
              "ticks": ""
             }
            },
            "type": "scattergl"
           }
          ],
          "scattermapbox": [
           {
            "marker": {
             "colorbar": {
              "outlinewidth": 0,
              "ticks": ""
             }
            },
            "type": "scattermapbox"
           }
          ],
          "scatterpolar": [
           {
            "marker": {
             "colorbar": {
              "outlinewidth": 0,
              "ticks": ""
             }
            },
            "type": "scatterpolar"
           }
          ],
          "scatterpolargl": [
           {
            "marker": {
             "colorbar": {
              "outlinewidth": 0,
              "ticks": ""
             }
            },
            "type": "scatterpolargl"
           }
          ],
          "scatterternary": [
           {
            "marker": {
             "colorbar": {
              "outlinewidth": 0,
              "ticks": ""
             }
            },
            "type": "scatterternary"
           }
          ],
          "surface": [
           {
            "colorbar": {
             "outlinewidth": 0,
             "ticks": ""
            },
            "colorscale": [
             [
              0,
              "#0d0887"
             ],
             [
              0.1111111111111111,
              "#46039f"
             ],
             [
              0.2222222222222222,
              "#7201a8"
             ],
             [
              0.3333333333333333,
              "#9c179e"
             ],
             [
              0.4444444444444444,
              "#bd3786"
             ],
             [
              0.5555555555555556,
              "#d8576b"
             ],
             [
              0.6666666666666666,
              "#ed7953"
             ],
             [
              0.7777777777777778,
              "#fb9f3a"
             ],
             [
              0.8888888888888888,
              "#fdca26"
             ],
             [
              1,
              "#f0f921"
             ]
            ],
            "type": "surface"
           }
          ],
          "table": [
           {
            "cells": {
             "fill": {
              "color": "#EBF0F8"
             },
             "line": {
              "color": "white"
             }
            },
            "header": {
             "fill": {
              "color": "#C8D4E3"
             },
             "line": {
              "color": "white"
             }
            },
            "type": "table"
           }
          ]
         },
         "layout": {
          "annotationdefaults": {
           "arrowcolor": "#2a3f5f",
           "arrowhead": 0,
           "arrowwidth": 1
          },
          "autotypenumbers": "strict",
          "coloraxis": {
           "colorbar": {
            "outlinewidth": 0,
            "ticks": ""
           }
          },
          "colorscale": {
           "diverging": [
            [
             0,
             "#8e0152"
            ],
            [
             0.1,
             "#c51b7d"
            ],
            [
             0.2,
             "#de77ae"
            ],
            [
             0.3,
             "#f1b6da"
            ],
            [
             0.4,
             "#fde0ef"
            ],
            [
             0.5,
             "#f7f7f7"
            ],
            [
             0.6,
             "#e6f5d0"
            ],
            [
             0.7,
             "#b8e186"
            ],
            [
             0.8,
             "#7fbc41"
            ],
            [
             0.9,
             "#4d9221"
            ],
            [
             1,
             "#276419"
            ]
           ],
           "sequential": [
            [
             0,
             "#0d0887"
            ],
            [
             0.1111111111111111,
             "#46039f"
            ],
            [
             0.2222222222222222,
             "#7201a8"
            ],
            [
             0.3333333333333333,
             "#9c179e"
            ],
            [
             0.4444444444444444,
             "#bd3786"
            ],
            [
             0.5555555555555556,
             "#d8576b"
            ],
            [
             0.6666666666666666,
             "#ed7953"
            ],
            [
             0.7777777777777778,
             "#fb9f3a"
            ],
            [
             0.8888888888888888,
             "#fdca26"
            ],
            [
             1,
             "#f0f921"
            ]
           ],
           "sequentialminus": [
            [
             0,
             "#0d0887"
            ],
            [
             0.1111111111111111,
             "#46039f"
            ],
            [
             0.2222222222222222,
             "#7201a8"
            ],
            [
             0.3333333333333333,
             "#9c179e"
            ],
            [
             0.4444444444444444,
             "#bd3786"
            ],
            [
             0.5555555555555556,
             "#d8576b"
            ],
            [
             0.6666666666666666,
             "#ed7953"
            ],
            [
             0.7777777777777778,
             "#fb9f3a"
            ],
            [
             0.8888888888888888,
             "#fdca26"
            ],
            [
             1,
             "#f0f921"
            ]
           ]
          },
          "colorway": [
           "#636efa",
           "#EF553B",
           "#00cc96",
           "#ab63fa",
           "#FFA15A",
           "#19d3f3",
           "#FF6692",
           "#B6E880",
           "#FF97FF",
           "#FECB52"
          ],
          "font": {
           "color": "#2a3f5f"
          },
          "geo": {
           "bgcolor": "white",
           "lakecolor": "white",
           "landcolor": "#E5ECF6",
           "showlakes": true,
           "showland": true,
           "subunitcolor": "white"
          },
          "hoverlabel": {
           "align": "left"
          },
          "hovermode": "closest",
          "mapbox": {
           "style": "light"
          },
          "paper_bgcolor": "white",
          "plot_bgcolor": "#E5ECF6",
          "polar": {
           "angularaxis": {
            "gridcolor": "white",
            "linecolor": "white",
            "ticks": ""
           },
           "bgcolor": "#E5ECF6",
           "radialaxis": {
            "gridcolor": "white",
            "linecolor": "white",
            "ticks": ""
           }
          },
          "scene": {
           "xaxis": {
            "backgroundcolor": "#E5ECF6",
            "gridcolor": "white",
            "gridwidth": 2,
            "linecolor": "white",
            "showbackground": true,
            "ticks": "",
            "zerolinecolor": "white"
           },
           "yaxis": {
            "backgroundcolor": "#E5ECF6",
            "gridcolor": "white",
            "gridwidth": 2,
            "linecolor": "white",
            "showbackground": true,
            "ticks": "",
            "zerolinecolor": "white"
           },
           "zaxis": {
            "backgroundcolor": "#E5ECF6",
            "gridcolor": "white",
            "gridwidth": 2,
            "linecolor": "white",
            "showbackground": true,
            "ticks": "",
            "zerolinecolor": "white"
           }
          },
          "shapedefaults": {
           "line": {
            "color": "#2a3f5f"
           }
          },
          "ternary": {
           "aaxis": {
            "gridcolor": "white",
            "linecolor": "white",
            "ticks": ""
           },
           "baxis": {
            "gridcolor": "white",
            "linecolor": "white",
            "ticks": ""
           },
           "bgcolor": "#E5ECF6",
           "caxis": {
            "gridcolor": "white",
            "linecolor": "white",
            "ticks": ""
           }
          },
          "title": {
           "x": 0.05
          },
          "xaxis": {
           "automargin": true,
           "gridcolor": "white",
           "linecolor": "white",
           "ticks": "",
           "title": {
            "standoff": 15
           },
           "zerolinecolor": "white",
           "zerolinewidth": 2
          },
          "yaxis": {
           "automargin": true,
           "gridcolor": "white",
           "linecolor": "white",
           "ticks": "",
           "title": {
            "standoff": 15
           },
           "zerolinecolor": "white",
           "zerolinewidth": 2
          }
         }
        },
        "title": {
         "text": "",
         "x": 0.5
        },
        "width": 800,
        "xaxis": {
         "anchor": "y",
         "domain": [
          0,
          1
         ]
        },
        "yaxis": {
         "anchor": "x",
         "domain": [
          0,
          1
         ]
        }
       }
      }
     },
     "metadata": {},
     "output_type": "display_data"
    }
   ],
   "source": [
    "original_image = Image.fromarray(test_image)\n",
    "# Resize the image using the new size\n",
    "upscaled_image_box = np.array(original_image.resize((new_width, new_height), Image.Resampling.NEAREST))        \n",
    "\n",
    "start_p = np.array([4,5])\n",
    "angle = np.deg2rad(56)\n",
    "scale = 2\n",
    "end_p = np.array([scale*np.cos(angle)+start_p[0], scale*np.sin(angle)+start_p[1]])\n",
    "\n",
    "# point on line, maxsomething\n",
    "on_line = np.array([scale/2 *np.cos(angle)+start_p[0], scale/2 *np.sin(angle)+start_p[1]])\n",
    "x1 = on_line[0]\n",
    "y1 = on_line[1]\n",
    "\n",
    "\n",
    "x_pixel_center = np.floor(x1)\n",
    "y_pixel_center = np.floor(y1)\n",
    "\n",
    "h1, h2 = (x_pixel_center+0.5) - x1, (x_pixel_center-0.5) - x1\n",
    "w1, w2 = (y_pixel_center+0.5) - y1, (y_pixel_center-0.5) - y1\n",
    "# Top intersection\n",
    "top_h_diff = np.tan(np.deg2rad(90)-angle)*w1\n",
    "border_p_top = np.array([x1+top_h_diff, y1+w1])\n",
    "# Bottom intersection\n",
    "bottom_h_diff = np.tan(np.deg2rad(90)-angle)*w2\n",
    "border_p_bottom = np.array([x1+bottom_h_diff, y1+w2])\n",
    "# Left intersection\n",
    "left_w_diff = np.tan(angle)*h2\n",
    "border_p_left = np.array([x1+h2, y1+left_w_diff])\n",
    "# Right intersection\n",
    "right_w_diff = np.tan(angle)*h1\n",
    "border_p_right = np.array([x1+h1, y1+right_w_diff])\n",
    "\n",
    "possible_points = [border_p_left, border_p_right, border_p_bottom, border_p_top]\n",
    "possible_points = list(filter(lambda p: x_pixel_center-0.5 <= p[0] <= x_pixel_center+0.5 and y_pixel_center-0.5 <= p[1] <= y_pixel_center+0.5, possible_points))\n",
    "p1, p2 = list(filter(lambda p: (-1000 < p[0] < 100) and (-100 < p[1] < 1000), possible_points))\n",
    "middle_point = (p1 + p2) / 2\n",
    "\n",
    "\n",
    "fig = make_subplots(rows=1, cols=1, \n",
    "                    horizontal_spacing=0.01, \n",
    "                    vertical_spacing=0.1,\n",
    "                    subplot_titles=('Original image'))\n",
    "# Add images to plot\n",
    "base_image_fig = px.imshow(test_image)\n",
    "fig.add_trace(base_image_fig.data[0], 1, 1)\n",
    "xs, ys = gridlines(test_image)\n",
    "fig.add_trace(go.Scatter(x=xs, y=ys, marker=dict(color='black', size=1), name=f\"Pixel edges\", showlegend=False), row=1, col=1)\n",
    "fig.add_trace(go.Scatter(x=[start_p[0], end_p[0]], y=[start_p[1], end_p[1]], marker=dict(color='black', size=10), name=f\"Point\"), row=1, col=1)\n",
    "fig.add_trace(go.Scatter(x=[on_line[0], on_line[0]], y=[on_line[1], on_line[1]], marker=dict(color='purple', size=10), name=f\"Sample point\"), row=1, col=1)\n",
    "# fig.add_trace(go.Scatter(x=[border_p_top[0], border_p_top[0]], y=[border_p_top[1], border_p_top[1]], marker=dict(color='green', size=10), name=f\"Top point\"), row=1, col=1)\n",
    "# fig.add_trace(go.Scatter(x=[border_p_bottom[0], border_p_bottom[0]], y=[border_p_bottom[1], border_p_bottom[1]], marker=dict(color='green', size=10), name=f\"Bottom point\"), row=1, col=1)\n",
    "# fig.add_trace(go.Scatter(x=[border_p_left[0], border_p_left[0]], y=[border_p_left[1], border_p_left[1]], marker=dict(color='green', size=10), name=f\"Left point\"), row=1, col=1)\n",
    "# fig.add_trace(go.Scatter(x=[border_p_right[0], border_p_right[0]], y=[border_p_right[1], border_p_right[1]], marker=dict(color='green', size=10), name=f\"Right point\"), row=1, col=1)\n",
    "fig.add_trace(go.Scatter(x=[middle_point[0], middle_point[0]], y=[middle_point[1], middle_point[1]], marker=dict(color='cyan', size=10), name=f\"Middle point\"), row=1, col=1)\n",
    "fig.add_trace(go.Scatter(x=[p1[0], p1[0]], y=[p1[1], p1[1]], marker=dict(color='red', size=10), name=f\"Border point\"), row=1, col=1)\n",
    "fig.add_trace(go.Scatter(x=[p2[0], p2[0]], y=[p2[1], p2[1]], marker=dict(color='red', size=10), name=f\"Border point\"), row=1, col=1)\n",
    "\n",
    "fig.update_layout(title_text=f\"\", title_x=0.5, width=800, height=800, showlegend=True, font_size=11)\n",
    "fig.update(layout_coloraxis_showscale=False)\n",
    "fig.show()"
   ]
  },
  {
   "cell_type": "code",
   "execution_count": 60,
   "metadata": {},
   "outputs": [
    {
     "name": "stdout",
     "output_type": "stream",
     "text": [
      "Intersection points: []\n"
     ]
    }
   ],
   "source": [
    "def intersect_point_square(line_point, line_slope, square_side):\n",
    "    \"\"\"\n",
    "    Finds the intersection points between a line and the edges of a square.\n",
    "\n",
    "    Args:\n",
    "    line_point: A tuple (x, y) representing a point on the line.\n",
    "    line_slope: The slope of the line.\n",
    "    square_side: The length of the square's side.\n",
    "\n",
    "    Returns:\n",
    "    A list of intersection points (tuples (x, y)).\n",
    "    \"\"\"\n",
    "    x, y = line_point\n",
    "\n",
    "    # Define the coordinates of the square's corners\n",
    "    square_corners = [(0, 0), (square_side, 0), (square_side, square_side), (0, square_side)]\n",
    "    intersections = []\n",
    "\n",
    "    # Check each pair of consecutive corners of the square\n",
    "    for i in range(4):\n",
    "        x1, y1 = square_corners[i]\n",
    "        x2, y2 = square_corners[(i + 1) % 4]\n",
    "\n",
    "        # Check if the line intersects the current edge of the square\n",
    "        if (x <= max(x1, x2) and x >= min(x1, x2) and\n",
    "            y <= max(y1, y2) and y >= min(y1, y2)):\n",
    "            if x1 == x2:  # Vertical line, special case\n",
    "                intersect_x = x1\n",
    "                intersect_y = line_slope * (intersect_x - x) + y\n",
    "            else:\n",
    "                intersect_x = (y - y1 + line_slope * x - line_slope * x1) / line_slope\n",
    "                intersect_y = line_slope * (intersect_x - x) + y\n",
    "\n",
    "            # Check if the intersection point is within the square's boundaries\n",
    "            if (intersect_x >= 0 and intersect_x <= square_side and\n",
    "                intersect_y >= 0 and intersect_y <= square_side):\n",
    "                intersections.append((intersect_x, intersect_y))\n",
    "\n",
    "    return intersections\n",
    "\n",
    "# Example usage:\n",
    "line_point = (2, 1)\n",
    "line_slope = 0.5  # Example slope\n",
    "square_side = 5\n",
    "\n",
    "intersection_points = intersect_point_square(line_point, line_slope, square_side)\n",
    "print(\"Intersection points:\", intersection_points)\n"
   ]
  },
  {
   "cell_type": "code",
   "execution_count": 61,
   "metadata": {},
   "outputs": [],
   "source": [
    "def middle_point_line_intersection(radii, angle, x1, y1) -> np.array:    \n",
    "    x_pixel_center = np.round(x1)\n",
    "    y_pixel_center = np.round(y1)\n",
    "\n",
    "    h1, h2 = (x_pixel_center+0.5) - x1, (x_pixel_center-0.5) - x1\n",
    "    w1, w2 = (y_pixel_center+0.5) - y1, (y_pixel_center-0.5) - y1\n",
    "    # Top intersection\n",
    "    top_h_diff = np.tan(np.deg2rad(90)-angle)*w1\n",
    "    border_p_top = np.array([x1+top_h_diff, y1+w1])\n",
    "    # Bottom intersection\n",
    "    bottom_h_diff = np.tan(np.deg2rad(90)-angle)*w2\n",
    "    border_p_bottom = np.array([x1+bottom_h_diff, y1+w2])\n",
    "    # Left intersection\n",
    "    left_w_diff = np.tan(angle)*h2\n",
    "    border_p_left = np.array([x1+h2, y1+left_w_diff])\n",
    "    # Right intersection\n",
    "    right_w_diff = np.tan(angle)*h1\n",
    "    border_p_right = np.array([x1+h1, y1+right_w_diff])\n",
    "\n",
    "    possible_points = [border_p_left, border_p_right, border_p_bottom, border_p_top]\n",
    "    possible_points = list(filter(lambda p: x_pixel_center-0.5 <= p[0] <= x_pixel_center+0.5 and y_pixel_center-0.5 <= p[1] <= y_pixel_center+0.5, possible_points))\n",
    "    p1, p2 = list(filter(lambda p: (-1000 < p[0] < 100) and (-100 < p[1] < 1000), possible_points))\n",
    "    middle_point = (p1 + p2) / 2\n",
    "    return middle_point"
   ]
  },
  {
   "cell_type": "markdown",
   "metadata": {},
   "source": [
    "# Grab all files in directory"
   ]
  },
  {
   "cell_type": "code",
   "execution_count": 62,
   "metadata": {},
   "outputs": [
    {
     "name": "stdout",
     "output_type": "stream",
     "text": [
      "2020-02-05_14.34.33--NAs--T1354-GFP_Burst\n",
      "2020-02-05_14.35.36--NAs--T1354-GFP_Burst\n",
      "2020-02-05_14.36.40--NAs--T1354-GFP_Burst\n",
      "2020-02-05_14.37.45--NAs--T1354-GFP_Burst\n",
      "2020-02-05_14.38.46--NAs--T1354-GFP_Burst\n",
      "2020-02-05_14.39.43--NAs--T1354-GFP_Burst\n"
     ]
    }
   ],
   "source": [
    "import os\n",
    "for file in os.listdir(\"D:\\Master\\MasterProject\\dataset_creation\\data\\ALL_IMS\"):\n",
    "    if file.endswith(\".ims\"):\n",
    "        print(file[:-4])"
   ]
  }
 ],
 "metadata": {
  "kernelspec": {
   "display_name": "Python 3",
   "language": "python",
   "name": "python3"
  },
  "language_info": {
   "codemirror_mode": {
    "name": "ipython",
    "version": 3
   },
   "file_extension": ".py",
   "mimetype": "text/x-python",
   "name": "python",
   "nbconvert_exporter": "python",
   "pygments_lexer": "ipython3",
   "version": "3.10.6"
  }
 },
 "nbformat": 4,
 "nbformat_minor": 2
}
